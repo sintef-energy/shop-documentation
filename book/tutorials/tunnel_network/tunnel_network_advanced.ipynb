{
 "cells": [
  {
   "cell_type": "markdown",
   "id": "12bf828f-0ae1-4b52-bf23-0f1de0fb02f5",
   "metadata": {},
   "source": [
    "# Tunnel network modeling tutorial\n",
    "This tutorial will guide you through how to model complex tunnel networks in SHOP and will cover the following topics:\n",
    "- basic modelling principles for tunnel networks\n",
    "- creek intakes\n",
    "- contiuous gates\n",
    "- pressure and flow constraints\n",
    "- discrete gates\n",
    "- gate interlock constraints\n",
    "- gate switch time"
   ]
  },
  {
   "cell_type": "markdown",
   "id": "04b38df6-e994-49f3-ba46-489f074f2b7b",
   "metadata": {},
   "source": [
    "## 1. Basic tunnel network modelling principles\n",
    "This tutorial will implement the model shown in the topology. The proposed system has three reservoirs, a creek intake and two plants. Both plants are connected to the same tunnel network, but at different positions. The first plant has two generators and discharges the water to the ocean. The second plant has a generator and a pump and discharges to and pumps from reservoir R3. The tunnel network has three gates hence both plants can produce from either one or two reservoirs, and the pump can even pump to R2 while the other plant is producing from R1.\n",
    "\n",
    "<img src=\"tunnel_network_topology.png\">\n",
    "\n",
    "We have indicated the intersections connecting multiple tunnels with black dots and named them N1, N2 and N3. Note that these are not represented as explicit objects in SHOP and should not be mixed up with the junction object. The tunnels will follow the naming convention t_{from_node}_{to_node}. For example, t_R1_N1 represents the tunnel from reservoir R1 to node N1. Initially, we defined the necessary objects for our model.\n",
    "\n",
    "We define functions for the respective steps, for example the function `add_reservoirs(shop)` for creating the reservoir objects in session `shop`. This makes it more convenient to reuse the code in the following sections where we stepwise add more complexity to the model."
   ]
  },
  {
   "cell_type": "code",
   "execution_count": 1,
   "id": "ce73344c-d924-4bb5-ac7c-c07f78142496",
   "metadata": {
    "tags": []
   },
   "outputs": [],
   "source": [
    "# Initialize session and set start and end time\n",
    "import pandas as pd\n",
    "from pyshop import ShopSession\n",
    "def new_model():\n",
    "    shop = ShopSession()\n",
    "    starttime = pd.Timestamp('2022-04-16')\n",
    "    endtime = pd.Timestamp('2022-04-19')\n",
    "    shop.set_time_resolution(starttime=starttime, endtime=endtime, timeunit='hour')\n",
    "    return shop"
   ]
  },
  {
   "cell_type": "code",
   "execution_count": 2,
   "id": "b4df0fe7-861b-45c1-86ee-cd569eb8ed00",
   "metadata": {
    "tags": []
   },
   "outputs": [],
   "source": [
    "def add_reservoirs(shop):\n",
    "    rsv1 = shop.model.reservoir.add_object(\"rsv1\")\n",
    "    rsv1.max_vol.set(12)\n",
    "    rsv1.lrl.set(90)\n",
    "    rsv1.hrl.set(100)\n",
    "    rsv1.vol_head.set(pd.Series([90, 100, 101], index=[0, 12, 14], name=0))\n",
    "    rsv1.flow_descr.set(pd.Series([0, 1000], index=[100, 101], name=0))\n",
    "\n",
    "    rsv2 = shop.model.reservoir.add_object(\"rsv2\")\n",
    "    rsv2.max_vol.set(12)\n",
    "    rsv2.lrl.set(90)\n",
    "    rsv2.hrl.set(100)\n",
    "    rsv2.vol_head.set(pd.Series([90, 100, 101], index=[0, 12, 14], name=0))\n",
    "    rsv2.flow_descr.set(pd.Series([0, 1000], index=[100, 101], name=0))\n",
    "\n",
    "    rsv3 = shop.model.reservoir.add_object(\"rsv3\")\n",
    "    rsv3.max_vol.set(12)\n",
    "    rsv3.lrl.set(40)\n",
    "    rsv3.hrl.set(50)\n",
    "    rsv3.vol_head.set(pd.Series([40, 50, 51], index=[0, 12, 14], name=0))\n",
    "    rsv3.flow_descr.set(pd.Series([0, 1000], index=[50, 51], name=0))\n",
    "\n",
    "    rsv3_overflow = shop.model.gate.add_object(\"rsv3_overflow\")\n",
    "    rsv3.connect_to(rsv3_overflow, \"spill\")\n",
    "\n",
    "    creek1 = shop.model.reservoir.add_object(\"creek1\")\n",
    "    creek1.max_vol.set(0.01)\n",
    "    creek1.lrl.set(90)\n",
    "    creek1.hrl.set(110)\n",
    "    creek1.vol_head.set(pd.Series([90, 110, 111], index=[0, 0.01, 0.02], name=0))\n",
    "    creek1.flow_descr.set(pd.Series([0, 100], index=[110, 111], name=0))"
   ]
  },
  {
   "cell_type": "code",
   "execution_count": 3,
   "id": "b7b9145d-252a-4435-aed0-0e6dabc939c7",
   "metadata": {
    "tags": []
   },
   "outputs": [],
   "source": [
    "def add_tunnels(shop):\n",
    "    t_r1_n1 = shop.model.tunnel.add_object(\"t_r1_n1\")\n",
    "    t_r1_n1.start_height.set(89)\n",
    "    t_r1_n1.end_height.set(89)\n",
    "    t_r1_n1.loss_factor.set(0.001)\n",
    "\n",
    "    t_c1_n1 = shop.model.tunnel.add_object(\"t_c1_n1\")\n",
    "    t_c1_n1.start_height.set(89)\n",
    "    t_c1_n1.end_height.set(89)\n",
    "    t_c1_n1.loss_factor.set(0.001)\n",
    "\n",
    "    t_n1_n2 = shop.model.tunnel.add_object(\"t_n1_n2\")\n",
    "    t_n1_n2.start_height.set(89)\n",
    "    t_n1_n2.end_height.set(89)\n",
    "    t_n1_n2.loss_factor.set(0.001)\n",
    "\n",
    "    t_n2_p1 = shop.model.tunnel.add_object(\"t_n2_p1\")\n",
    "    t_n2_p1.start_height.set(89)\n",
    "    t_n2_p1.end_height.set(89)\n",
    "    t_n2_p1.loss_factor.set(0.001)\n",
    "\n",
    "    t_r2_n3 = shop.model.tunnel.add_object(\"t_r2_n3\")\n",
    "    t_r2_n3.start_height.set(89)\n",
    "    t_r2_n3.end_height.set(89)\n",
    "    t_r2_n3.loss_factor.set(0.001)\n",
    "\n",
    "    t_n3_n2 = shop.model.tunnel.add_object(\"t_n3_n2\")\n",
    "    t_n3_n2.start_height.set(89)\n",
    "    t_n3_n2.end_height.set(89)\n",
    "    t_n3_n2.loss_factor.set(0.005)\n",
    "\n",
    "    t_n3_p2 = shop.model.tunnel.add_object(\"t_n3_p2\")\n",
    "    t_n3_p2.start_height.set(89)\n",
    "    t_n3_p2.end_height.set(89)\n",
    "    t_n3_p2.loss_factor.set(0.001)"
   ]
  },
  {
   "cell_type": "code",
   "execution_count": 4,
   "id": "9a3e1569-d802-40c4-819e-00f2160a5ad9",
   "metadata": {
    "tags": []
   },
   "outputs": [],
   "source": [
    "def add_plants(shop):\n",
    "    plant1 = shop.model.plant.add_object(\"plant1\")\n",
    "    plant1.outlet_line.set(0)\n",
    "    plant1.main_loss.set([0.0002])\n",
    "    plant1.penstock_loss.set([0.0001])\n",
    "\n",
    "    p1g1 = shop.model.generator.add_object(\"plant1_g1\")\n",
    "    plant1.connect_to(p1g1)\n",
    "    p1g1.penstock.set(1)\n",
    "    p1g1.p_min.set(10)\n",
    "    p1g1.p_max.set(100)\n",
    "    p1g1.p_nom.set(100)\n",
    "    p1g1.startcost.set(500)\n",
    "    p1g1.turb_eff_curves.set([pd.Series([80, 95, 90], index=[10, 90, 100], name=90),\n",
    "                              pd.Series([82, 97, 92], index=[10, 90, 100], name=100)])\n",
    "\n",
    "    p1g2 = shop.model.generator.add_object(\"plant1_g2\")\n",
    "    plant1.connect_to(p1g2)\n",
    "    p1g2.penstock.set(1)\n",
    "    p1g2.p_min.set(10)\n",
    "    p1g2.p_max.set(100)\n",
    "    p1g2.p_nom.set(100)\n",
    "    p1g2.startcost.set(500)\n",
    "    p1g2.turb_eff_curves.set([pd.Series([80, 95, 90], index=[10, 90, 100], name=90),\n",
    "                              pd.Series([82, 97, 92], index=[10, 90, 100], name=100)])\n",
    "\n",
    "    plant2 = shop.model.plant.add_object(\"plant2\")\n",
    "    plant2.outlet_line.set(40)\n",
    "    plant2.main_loss.set([0.0002])\n",
    "    plant2.penstock_loss.set([0.0001])\n",
    "\n",
    "    p2g1 = shop.model.generator.add_object(\"plant2_g1\")\n",
    "    plant2.connect_to(p2g1)\n",
    "    p2g1.penstock.set(1)\n",
    "    p2g1.p_min.set(12)\n",
    "    p2g1.p_max.set(50)\n",
    "    p2g1.p_nom.set(50)\n",
    "    p2g1.startcost.set(500)\n",
    "    p2g1.turb_eff_curves.set([pd.Series([80, 95, 90], index=[25, 90, 100], name=40),\n",
    "                              pd.Series([82, 97, 92], index=[25, 90, 100], name=50)])\n",
    "\n",
    "    p2p1 = shop.model.pump.add_object(\"plant2_p1\")\n",
    "    plant2.connect_to(p2p1)\n",
    "    p2p1.penstock.set(1)\n",
    "    p2p1.p_min.set(12)\n",
    "    p2p1.p_max.set(50)\n",
    "    p2p1.p_nom.set(50)\n",
    "    p2p1.startcost.set(500)\n",
    "    p2p1.turb_eff_curves.set([pd.Series([80, 95, 90], index=[25, 90, 100], name=40),\n",
    "                              pd.Series([82, 97, 92], index=[25, 90, 100], name=50)])"
   ]
  },
  {
   "cell_type": "code",
   "execution_count": 5,
   "id": "70469bec-b380-4c05-8912-29965bd99c41",
   "metadata": {},
   "outputs": [],
   "source": [
    "def connect_objects(shop):\n",
    "    shop.model.reservoir.rsv1.connect_to(shop.model.tunnel.t_r1_n1)\n",
    "    shop.model.reservoir.creek1.connect_to(shop.model.tunnel.t_c1_n1)\n",
    "\n",
    "    shop.model.tunnel.t_r1_n1.connect_to(shop.model.tunnel.t_n1_n2)\n",
    "    shop.model.tunnel.t_c1_n1.connect_to(shop.model.tunnel.t_n1_n2)\n",
    "    shop.model.tunnel.t_n1_n2.connect_to(shop.model.tunnel.t_n2_p1)\n",
    "    shop.model.tunnel.t_n2_p1.connect_to(shop.model.plant.plant1)\n",
    "\n",
    "    shop.model.reservoir.rsv2.connect_to(shop.model.tunnel.t_r2_n3)\n",
    "    shop.model.tunnel.t_r2_n3.connect_to(shop.model.tunnel.t_n3_n2)\n",
    "    shop.model.tunnel.t_n3_n2.connect_to(shop.model.tunnel.t_n2_p1)\n",
    "\n",
    "    shop.model.tunnel.t_r2_n3.connect_to(shop.model.tunnel.t_n3_p2)\n",
    "    shop.model.tunnel.t_n3_p2.connect_to(shop.model.plant.plant2)\n",
    "    shop.model.plant.plant2.connect_to(shop.model.reservoir.rsv3)"
   ]
  },
  {
   "cell_type": "markdown",
   "id": "9b2a8522-e340-48ac-b0b0-46f83c05af02",
   "metadata": {},
   "source": [
    "The resulting topology is shown below. Note that the creek intake is modelled as a small reservoir where the volume represents the cross cut from the intake to the tunnel."
   ]
  },
  {
   "cell_type": "code",
   "execution_count": 6,
   "id": "cec900c6-ef65-4485-b12c-20ab73ea80fd",
   "metadata": {},
   "outputs": [
    {
     "data": {
      "image/svg+xml": "<?xml version=\"1.0\" encoding=\"UTF-8\" standalone=\"no\"?>\n<!DOCTYPE svg PUBLIC \"-//W3C//DTD SVG 1.1//EN\"\n \"http://www.w3.org/Graphics/SVG/1.1/DTD/svg11.dtd\">\n<!-- Generated by graphviz version 2.50.0 (20211204.2007)\n -->\n<!-- Pages: 1 -->\n<svg width=\"413pt\" height=\"424pt\"\n viewBox=\"0.00 0.00 412.99 424.00\" xmlns=\"http://www.w3.org/2000/svg\" xmlns:xlink=\"http://www.w3.org/1999/xlink\">\n<g id=\"graph0\" class=\"graph\" transform=\"scale(1 1) rotate(0) translate(4 420)\">\n<polygon fill=\"white\" stroke=\"transparent\" points=\"-4,4 -4,-420 408.99,-420 408.99,4 -4,4\"/>\n<!-- reservoir_rsv1 -->\n<g id=\"node1\" class=\"node\">\n<title>reservoir_rsv1</title>\n<polygon fill=\"skyblue\" stroke=\"black\" points=\"53.3,-370 106.39,-404.5 0.2,-404.5 53.3,-370\"/>\n<text text-anchor=\"middle\" x=\"53.3\" y=\"-389.3\" font-family=\"Times New Roman,serif\" font-size=\"14.00\">rsv1</text>\n</g>\n<!-- tunnel_t_r1_n1 -->\n<g id=\"node6\" class=\"node\">\n<title>tunnel_t_r1_n1</title>\n<polygon fill=\"#d4d4d4\" stroke=\"black\" points=\"109.3,-334 49.3,-334 49.3,-298 109.3,-298 109.3,-334\"/>\n<text text-anchor=\"middle\" x=\"79.3\" y=\"-312.3\" font-family=\"Times New Roman,serif\" font-size=\"14.00\">t_r1_n1</text>\n</g>\n<!-- reservoir_rsv1&#45;&gt;tunnel_t_r1_n1 -->\n<g id=\"edge1\" class=\"edge\">\n<title>reservoir_rsv1&#45;&gt;tunnel_t_r1_n1</title>\n<path fill=\"none\" stroke=\"black\" d=\"M59.59,-373.84C63.77,-361.79 69.22,-346.07 73.33,-334.22\"/>\n</g>\n<!-- reservoir_rsv2 -->\n<g id=\"node2\" class=\"node\">\n<title>reservoir_rsv2</title>\n<polygon fill=\"skyblue\" stroke=\"black\" points=\"338.3,-370 391.39,-404.5 285.2,-404.5 338.3,-370\"/>\n<text text-anchor=\"middle\" x=\"338.3\" y=\"-389.3\" font-family=\"Times New Roman,serif\" font-size=\"14.00\">rsv2</text>\n</g>\n<!-- tunnel_t_r2_n3 -->\n<g id=\"node10\" class=\"node\">\n<title>tunnel_t_r2_n3</title>\n<polygon fill=\"#d4d4d4\" stroke=\"black\" points=\"368.3,-334 308.3,-334 308.3,-298 368.3,-298 368.3,-334\"/>\n<text text-anchor=\"middle\" x=\"338.3\" y=\"-312.3\" font-family=\"Times New Roman,serif\" font-size=\"14.00\">t_r2_n3</text>\n</g>\n<!-- reservoir_rsv2&#45;&gt;tunnel_t_r2_n3 -->\n<g id=\"edge2\" class=\"edge\">\n<title>reservoir_rsv2&#45;&gt;tunnel_t_r2_n3</title>\n<path fill=\"none\" stroke=\"black\" d=\"M338.3,-369.9C338.3,-358.5 338.3,-344.79 338.3,-334.18\"/>\n</g>\n<!-- reservoir_rsv3 -->\n<g id=\"node3\" class=\"node\">\n<title>reservoir_rsv3</title>\n<polygon fill=\"skyblue\" stroke=\"black\" points=\"341.3,-72 394.39,-106.5 288.2,-106.5 341.3,-72\"/>\n<text text-anchor=\"middle\" x=\"341.3\" y=\"-91.3\" font-family=\"Times New Roman,serif\" font-size=\"14.00\">rsv3</text>\n</g>\n<!-- gate_rsv3_overflow -->\n<g id=\"node4\" class=\"node\">\n<title>gate_rsv3_overflow</title>\n<ellipse fill=\"transparent\" stroke=\"black\" cx=\"341.3\" cy=\"-18\" rx=\"63.89\" ry=\"18\"/>\n<text text-anchor=\"middle\" x=\"341.3\" y=\"-14.3\" font-family=\"Times New Roman,serif\" font-size=\"14.00\">rsv3_overflow</text>\n</g>\n<!-- reservoir_rsv3&#45;&gt;gate_rsv3_overflow -->\n<g id=\"edge3\" class=\"edge\">\n<title>reservoir_rsv3&#45;&gt;gate_rsv3_overflow</title>\n<path fill=\"none\" stroke=\"black\" stroke-dasharray=\"5,2\" d=\"M341.3,-71.9C341.3,-60.5 341.3,-46.79 341.3,-36.18\"/>\n</g>\n<!-- reservoir_creek1 -->\n<g id=\"node5\" class=\"node\">\n<title>reservoir_creek1</title>\n<polygon fill=\"skyblue\" stroke=\"black\" points=\"193.3,-370 262.08,-404.5 124.51,-404.5 193.3,-370\"/>\n<text text-anchor=\"middle\" x=\"193.3\" y=\"-389.3\" font-family=\"Times New Roman,serif\" font-size=\"14.00\">creek1</text>\n</g>\n<!-- tunnel_t_c1_n1 -->\n<g id=\"node7\" class=\"node\">\n<title>tunnel_t_c1_n1</title>\n<polygon fill=\"#d4d4d4\" stroke=\"black\" points=\"214.3,-334 152.3,-334 152.3,-298 214.3,-298 214.3,-334\"/>\n<text text-anchor=\"middle\" x=\"183.3\" y=\"-312.3\" font-family=\"Times New Roman,serif\" font-size=\"14.00\">t_c1_n1</text>\n</g>\n<!-- reservoir_creek1&#45;&gt;tunnel_t_c1_n1 -->\n<g id=\"edge4\" class=\"edge\">\n<title>reservoir_creek1&#45;&gt;tunnel_t_c1_n1</title>\n<path fill=\"none\" stroke=\"black\" d=\"M190.51,-371.11C188.96,-359.49 187.06,-345.21 185.59,-334.24\"/>\n</g>\n<!-- tunnel_t_n1_n2 -->\n<g id=\"node8\" class=\"node\">\n<title>tunnel_t_n1_n2</title>\n<polygon fill=\"#d4d4d4\" stroke=\"black\" points=\"211.3,-262 149.3,-262 149.3,-226 211.3,-226 211.3,-262\"/>\n<text text-anchor=\"middle\" x=\"180.3\" y=\"-240.3\" font-family=\"Times New Roman,serif\" font-size=\"14.00\">t_n1_n2</text>\n</g>\n<!-- tunnel_t_r1_n1&#45;&gt;tunnel_t_n1_n2 -->\n<g id=\"edge5\" class=\"edge\">\n<title>tunnel_t_r1_n1&#45;&gt;tunnel_t_n1_n2</title>\n<path fill=\"none\" stroke=\"black\" d=\"M104,-297.88C119.65,-287.03 139.82,-273.05 155.49,-262.19\"/>\n</g>\n<!-- tunnel_t_c1_n1&#45;&gt;tunnel_t_n1_n2 -->\n<g id=\"edge6\" class=\"edge\">\n<title>tunnel_t_c1_n1&#45;&gt;tunnel_t_n1_n2</title>\n<path fill=\"none\" stroke=\"black\" d=\"M182.55,-297.7C182.09,-286.85 181.49,-272.92 181.03,-262.1\"/>\n</g>\n<!-- tunnel_t_n2_p1 -->\n<g id=\"node9\" class=\"node\">\n<title>tunnel_t_n2_p1</title>\n<polygon fill=\"#d4d4d4\" stroke=\"black\" points=\"243.8,-190 180.8,-190 180.8,-154 243.8,-154 243.8,-190\"/>\n<text text-anchor=\"middle\" x=\"212.3\" y=\"-168.3\" font-family=\"Times New Roman,serif\" font-size=\"14.00\">t_n2_p1</text>\n</g>\n<!-- tunnel_t_n1_n2&#45;&gt;tunnel_t_n2_p1 -->\n<g id=\"edge7\" class=\"edge\">\n<title>tunnel_t_n1_n2&#45;&gt;tunnel_t_n2_p1</title>\n<path fill=\"none\" stroke=\"black\" d=\"M188.21,-225.7C193.17,-214.85 199.53,-200.92 204.48,-190.1\"/>\n</g>\n<!-- plant_plant1 -->\n<g id=\"node13\" class=\"node\">\n<title>plant_plant1</title>\n<polygon fill=\"#ffc1c1\" stroke=\"black\" points=\"239.3,-113 185.3,-113 185.3,-77 239.3,-77 239.3,-113\"/>\n<text text-anchor=\"middle\" x=\"212.3\" y=\"-91.3\" font-family=\"Times New Roman,serif\" font-size=\"14.00\">plant1</text>\n</g>\n<!-- tunnel_t_n2_p1&#45;&gt;plant_plant1 -->\n<g id=\"edge8\" class=\"edge\">\n<title>tunnel_t_n2_p1&#45;&gt;plant_plant1</title>\n<path fill=\"none\" stroke=\"black\" d=\"M212.3,-153.98C212.3,-141.79 212.3,-125.44 212.3,-113.21\"/>\n</g>\n<!-- tunnel_t_n3_n2 -->\n<g id=\"node11\" class=\"node\">\n<title>tunnel_t_n3_n2</title>\n<polygon fill=\"#d4d4d4\" stroke=\"black\" points=\"291.3,-262 229.3,-262 229.3,-226 291.3,-226 291.3,-262\"/>\n<text text-anchor=\"middle\" x=\"260.3\" y=\"-240.3\" font-family=\"Times New Roman,serif\" font-size=\"14.00\">t_n3_n2</text>\n</g>\n<!-- tunnel_t_r2_n3&#45;&gt;tunnel_t_n3_n2 -->\n<g id=\"edge9\" class=\"edge\">\n<title>tunnel_t_r2_n3&#45;&gt;tunnel_t_n3_n2</title>\n<path fill=\"none\" stroke=\"black\" d=\"M319.01,-297.7C306.92,-286.85 291.4,-272.92 279.35,-262.1\"/>\n</g>\n<!-- tunnel_t_n3_p2 -->\n<g id=\"node12\" class=\"node\">\n<title>tunnel_t_n3_p2</title>\n<polygon fill=\"#d4d4d4\" stroke=\"black\" points=\"372.8,-262 309.8,-262 309.8,-226 372.8,-226 372.8,-262\"/>\n<text text-anchor=\"middle\" x=\"341.3\" y=\"-240.3\" font-family=\"Times New Roman,serif\" font-size=\"14.00\">t_n3_p2</text>\n</g>\n<!-- tunnel_t_r2_n3&#45;&gt;tunnel_t_n3_p2 -->\n<g id=\"edge10\" class=\"edge\">\n<title>tunnel_t_r2_n3&#45;&gt;tunnel_t_n3_p2</title>\n<path fill=\"none\" stroke=\"black\" d=\"M339.04,-297.7C339.5,-286.85 340.1,-272.92 340.56,-262.1\"/>\n</g>\n<!-- tunnel_t_n3_n2&#45;&gt;tunnel_t_n2_p1 -->\n<g id=\"edge11\" class=\"edge\">\n<title>tunnel_t_n3_n2&#45;&gt;tunnel_t_n2_p1</title>\n<path fill=\"none\" stroke=\"black\" d=\"M248.43,-225.7C240.99,-214.85 231.44,-200.92 224.02,-190.1\"/>\n</g>\n<!-- plant_plant2 -->\n<g id=\"node14\" class=\"node\">\n<title>plant_plant2</title>\n<polygon fill=\"#ffc1c1\" stroke=\"black\" points=\"368.3,-190 314.3,-190 314.3,-154 368.3,-154 368.3,-190\"/>\n<text text-anchor=\"middle\" x=\"341.3\" y=\"-168.3\" font-family=\"Times New Roman,serif\" font-size=\"14.00\">plant2</text>\n</g>\n<!-- tunnel_t_n3_p2&#45;&gt;plant_plant2 -->\n<g id=\"edge12\" class=\"edge\">\n<title>tunnel_t_n3_p2&#45;&gt;plant_plant2</title>\n<path fill=\"none\" stroke=\"black\" d=\"M341.3,-225.7C341.3,-214.85 341.3,-200.92 341.3,-190.1\"/>\n</g>\n<!-- plant_plant2&#45;&gt;reservoir_rsv3 -->\n<g id=\"edge13\" class=\"edge\">\n<title>plant_plant2&#45;&gt;reservoir_rsv3</title>\n<path fill=\"none\" stroke=\"black\" d=\"M341.3,-153.98C341.3,-139.46 341.3,-119.03 341.3,-106.7\"/>\n</g>\n</g>\n</svg>\n",
      "text/plain": [
       "<graphviz.graphs.Digraph at 0x2740954f220>"
      ]
     },
     "execution_count": 6,
     "metadata": {},
     "output_type": "execute_result"
    }
   ],
   "source": [
    "shop = new_model()\n",
    "add_reservoirs(shop)\n",
    "add_tunnels(shop)\n",
    "add_plants(shop)\n",
    "connect_objects(shop)\n",
    "shop.model.build_connection_tree()"
   ]
  },
  {
   "cell_type": "markdown",
   "id": "71917452-8fbe-4c8c-b1f8-34785a082d0e",
   "metadata": {},
   "source": [
    "The model is initialized with historical spot prices from NO1 and higher water value for Reservoir1 than the others."
   ]
  },
  {
   "cell_type": "code",
   "execution_count": 7,
   "id": "b0690ccf-f744-410d-80ef-4db22b1c5e13",
   "metadata": {},
   "outputs": [],
   "source": [
    "def init_model(shop):\n",
    "    time_res = shop.get_time_resolution()\n",
    "    starttime = time_res['starttime']\n",
    "    endtime = time_res['endtime']\n",
    "    \n",
    "    price = pd.Series(\n",
    "        [189.13, 187.4, 184.28, 179.79, 178.55, 184.04, 184.96, 185.19, 184.43, 178.41, 172.79, 170, 159.04, 151.02, 145.77, 140.71, 91.15, 151.32, 173.19, 184.14, 187.79, 187.2, 182.7, 172.4, 166.77, 158.86, 148.36, 144.25, 144.55, 144.58, 150.93, 148.77, 153.6, 159.3, 159.86, 161.08, 150.01, 127.22, 97.25, 70.03, 93.64, 107.47, 166.74, 182.45, 185.41, 185.42, 179.99, 163.3, 108.13, 83.68, 86.78, 83.68, 88.07, 95.26, 131.01, 148.91, 144.15, 151.97, 158.76, 153.21, 151.31, 130.02, 50.02, 77.61, 154.46, 175.8, 179.13, 186.71, 194.31, 202.31, 201.25, 195.54, 192.99, 187.38, 185.6, 185.41, 185.97, 192.53, 196.88, 204.7, 285.98, 247.53, 202.89, 193.53, 189.69, 185.28, 182.22, 181.75, 184.18, 189.16, 196.09, 203.57, 206.68, 206.65, 191.96, 185.45],\n",
    "        index=[starttime+pd.Timedelta(hours=t) for t in range(24*4)]\n",
    "    )\n",
    "    price_mean = price.mean()\n",
    "    \n",
    "    shop.model.reservoir.rsv1.start_head.set(95)\n",
    "    shop.model.reservoir.rsv2.start_head.set(95)\n",
    "    shop.model.reservoir.creek1.start_head.set(95)\n",
    "    shop.model.reservoir.rsv3.start_head.set(45)\n",
    "\n",
    "    shop.model.reservoir.rsv1.energy_value_input.set(price_mean)\n",
    "    shop.model.reservoir.rsv2.energy_value_input.set(0.9*price_mean)\n",
    "    shop.model.reservoir.rsv3.energy_value_input.set(0.9*price_mean)\n",
    "    shop.model.reservoir.creek1.energy_value_input.set(price_mean)\n",
    "\n",
    "    shop.model.reservoir.rsv1.overflow_cost.set(50000)\n",
    "    shop.model.reservoir.rsv2.overflow_cost.set(50000)\n",
    "    shop.model.reservoir.rsv3.overflow_cost.set(50000)\n",
    "    shop.model.reservoir.creek1.overflow_cost.set(50000)\n",
    "    \n",
    "    shop.model.market.add_object(\"spot\")\n",
    "    shop.model.market.spot.buy_price.set(price + 0.01)\n",
    "    shop.model.market.spot.sale_price.set(price - 0.01)\n",
    "\n",
    "    shop.model.reservoir.rsv3.inflow.set(50)\n",
    "init_model(shop)"
   ]
  },
  {
   "cell_type": "markdown",
   "id": "590cc2ff-1409-4899-bd43-54f73dad6805",
   "metadata": {},
   "source": [
    "The model is optimized with 3 full and 3 incremental iterations."
   ]
  },
  {
   "cell_type": "code",
   "execution_count": 8,
   "id": "9aeb4329-7e59-48f8-bd31-d0c6f090e777",
   "metadata": {},
   "outputs": [
    {
     "data": {
      "text/plain": [
       "True"
      ]
     },
     "execution_count": 8,
     "metadata": {},
     "output_type": "execute_result"
    }
   ],
   "source": [
    "# shop.print_model([], ['full1.lp'])\n",
    "shop.start_sim([],[3])\n",
    "shop.set_code(['incremental'], [])\n",
    "shop.start_sim([],[3])"
   ]
  },
  {
   "cell_type": "code",
   "execution_count": 9,
   "id": "c109b093-c36c-4270-8f0b-2f0fae945374",
   "metadata": {},
   "outputs": [
    {
     "data": {
      "application/vnd.plotly.v1+json": {
       "config": {
        "plotlyServerURL": "https://plot.ly"
       },
       "data": [
        {
         "name": "Plant 1 production",
         "type": "scatter",
         "x": [
          "2022-04-16T00:00:00",
          "2022-04-16T01:00:00",
          "2022-04-16T02:00:00",
          "2022-04-16T03:00:00",
          "2022-04-16T04:00:00",
          "2022-04-16T05:00:00",
          "2022-04-16T06:00:00",
          "2022-04-16T07:00:00",
          "2022-04-16T08:00:00",
          "2022-04-16T09:00:00",
          "2022-04-16T10:00:00",
          "2022-04-16T11:00:00",
          "2022-04-16T12:00:00",
          "2022-04-16T13:00:00",
          "2022-04-16T14:00:00",
          "2022-04-16T15:00:00",
          "2022-04-16T16:00:00",
          "2022-04-16T17:00:00",
          "2022-04-16T18:00:00",
          "2022-04-16T19:00:00",
          "2022-04-16T20:00:00",
          "2022-04-16T21:00:00",
          "2022-04-16T22:00:00",
          "2022-04-16T23:00:00",
          "2022-04-17T00:00:00",
          "2022-04-17T01:00:00",
          "2022-04-17T02:00:00",
          "2022-04-17T03:00:00",
          "2022-04-17T04:00:00",
          "2022-04-17T05:00:00",
          "2022-04-17T06:00:00",
          "2022-04-17T07:00:00",
          "2022-04-17T08:00:00",
          "2022-04-17T09:00:00",
          "2022-04-17T10:00:00",
          "2022-04-17T11:00:00",
          "2022-04-17T12:00:00",
          "2022-04-17T13:00:00",
          "2022-04-17T14:00:00",
          "2022-04-17T15:00:00",
          "2022-04-17T16:00:00",
          "2022-04-17T17:00:00",
          "2022-04-17T18:00:00",
          "2022-04-17T19:00:00",
          "2022-04-17T20:00:00",
          "2022-04-17T21:00:00",
          "2022-04-17T22:00:00",
          "2022-04-17T23:00:00",
          "2022-04-18T00:00:00",
          "2022-04-18T01:00:00",
          "2022-04-18T02:00:00",
          "2022-04-18T03:00:00",
          "2022-04-18T04:00:00",
          "2022-04-18T05:00:00",
          "2022-04-18T06:00:00",
          "2022-04-18T07:00:00",
          "2022-04-18T08:00:00",
          "2022-04-18T09:00:00",
          "2022-04-18T10:00:00",
          "2022-04-18T11:00:00",
          "2022-04-18T12:00:00",
          "2022-04-18T13:00:00",
          "2022-04-18T14:00:00",
          "2022-04-18T15:00:00",
          "2022-04-18T16:00:00",
          "2022-04-18T17:00:00",
          "2022-04-18T18:00:00",
          "2022-04-18T19:00:00",
          "2022-04-18T20:00:00",
          "2022-04-18T21:00:00",
          "2022-04-18T22:00:00",
          "2022-04-18T23:00:00"
         ],
         "y": [
          65.70825344709687,
          66.32855628725197,
          66.31382733479614,
          66.26191154456151,
          66.2092273586388,
          65.38592937969204,
          65.30309513792993,
          65.20246189418141,
          65.10113915319165,
          65.74141566099661,
          49.30152999543544,
          49.290457968928806,
          49.27177563359767,
          49.25258074480672,
          0,
          0,
          0,
          0,
          55.68646539741085,
          64.09215461259856,
          64.73678657404228,
          64.60942717074366,
          64.93261725148031,
          48.74206692983615,
          49.06291513685818,
          49.04454130544028,
          0,
          0,
          0,
          0,
          49.2640929571887,
          0,
          49.29490912015028,
          49.26817432359997,
          49.24499221994483,
          48.96206545467662,
          49.18444779316984,
          0,
          0,
          0,
          0,
          0,
          49.07392767216322,
          64.67686601055154,
          65.08321442399301,
          64.95796281139557,
          64.835887378604,
          48.71544062408125,
          0,
          0,
          0,
          0,
          0,
          0,
          0,
          0,
          0,
          49.37710792423428,
          49.33507361032094,
          49.29777184199939,
          49.261080172937625,
          0,
          0,
          0,
          49.438077553683456,
          49.40196474436073,
          63.170279592060766,
          65.99331796432,
          65.4050035414966,
          65.28262899829758,
          65.16261786753724,
          65.04281186193242
         ]
        },
        {
         "name": "Plant 2 production",
         "type": "scatter",
         "x": [
          "2022-04-16T00:00:00",
          "2022-04-16T01:00:00",
          "2022-04-16T02:00:00",
          "2022-04-16T03:00:00",
          "2022-04-16T04:00:00",
          "2022-04-16T05:00:00",
          "2022-04-16T06:00:00",
          "2022-04-16T07:00:00",
          "2022-04-16T08:00:00",
          "2022-04-16T09:00:00",
          "2022-04-16T10:00:00",
          "2022-04-16T11:00:00",
          "2022-04-16T12:00:00",
          "2022-04-16T13:00:00",
          "2022-04-16T14:00:00",
          "2022-04-16T15:00:00",
          "2022-04-16T16:00:00",
          "2022-04-16T17:00:00",
          "2022-04-16T18:00:00",
          "2022-04-16T19:00:00",
          "2022-04-16T20:00:00",
          "2022-04-16T21:00:00",
          "2022-04-16T22:00:00",
          "2022-04-16T23:00:00",
          "2022-04-17T00:00:00",
          "2022-04-17T01:00:00",
          "2022-04-17T02:00:00",
          "2022-04-17T03:00:00",
          "2022-04-17T04:00:00",
          "2022-04-17T05:00:00",
          "2022-04-17T06:00:00",
          "2022-04-17T07:00:00",
          "2022-04-17T08:00:00",
          "2022-04-17T09:00:00",
          "2022-04-17T10:00:00",
          "2022-04-17T11:00:00",
          "2022-04-17T12:00:00",
          "2022-04-17T13:00:00",
          "2022-04-17T14:00:00",
          "2022-04-17T15:00:00",
          "2022-04-17T16:00:00",
          "2022-04-17T17:00:00",
          "2022-04-17T18:00:00",
          "2022-04-17T19:00:00",
          "2022-04-17T20:00:00",
          "2022-04-17T21:00:00",
          "2022-04-17T22:00:00",
          "2022-04-17T23:00:00",
          "2022-04-18T00:00:00",
          "2022-04-18T01:00:00",
          "2022-04-18T02:00:00",
          "2022-04-18T03:00:00",
          "2022-04-18T04:00:00",
          "2022-04-18T05:00:00",
          "2022-04-18T06:00:00",
          "2022-04-18T07:00:00",
          "2022-04-18T08:00:00",
          "2022-04-18T09:00:00",
          "2022-04-18T10:00:00",
          "2022-04-18T11:00:00",
          "2022-04-18T12:00:00",
          "2022-04-18T13:00:00",
          "2022-04-18T14:00:00",
          "2022-04-18T15:00:00",
          "2022-04-18T16:00:00",
          "2022-04-18T17:00:00",
          "2022-04-18T18:00:00",
          "2022-04-18T19:00:00",
          "2022-04-18T20:00:00",
          "2022-04-18T21:00:00",
          "2022-04-18T22:00:00",
          "2022-04-18T23:00:00"
         ],
         "y": [
          0,
          0,
          0,
          0,
          0,
          0,
          0,
          0,
          0,
          0,
          0,
          0,
          0,
          0,
          0,
          0,
          0,
          0,
          0,
          0,
          0,
          0,
          0,
          0,
          0,
          0,
          0,
          0,
          0,
          0,
          0,
          0,
          0,
          0,
          0,
          0,
          0,
          0,
          0,
          0,
          0,
          0,
          0,
          0,
          0,
          0,
          0,
          0,
          0,
          0,
          0,
          0,
          0,
          0,
          0,
          0,
          0,
          0,
          0,
          0,
          0,
          0,
          0,
          0,
          0,
          0,
          0,
          0,
          0,
          0,
          0,
          0
         ]
        },
        {
         "name": "Plant 2 consumption",
         "type": "scatter",
         "x": [
          "2022-04-16T00:00:00",
          "2022-04-16T01:00:00",
          "2022-04-16T02:00:00",
          "2022-04-16T03:00:00",
          "2022-04-16T04:00:00",
          "2022-04-16T05:00:00",
          "2022-04-16T06:00:00",
          "2022-04-16T07:00:00",
          "2022-04-16T08:00:00",
          "2022-04-16T09:00:00",
          "2022-04-16T10:00:00",
          "2022-04-16T11:00:00",
          "2022-04-16T12:00:00",
          "2022-04-16T13:00:00",
          "2022-04-16T14:00:00",
          "2022-04-16T15:00:00",
          "2022-04-16T16:00:00",
          "2022-04-16T17:00:00",
          "2022-04-16T18:00:00",
          "2022-04-16T19:00:00",
          "2022-04-16T20:00:00",
          "2022-04-16T21:00:00",
          "2022-04-16T22:00:00",
          "2022-04-16T23:00:00",
          "2022-04-17T00:00:00",
          "2022-04-17T01:00:00",
          "2022-04-17T02:00:00",
          "2022-04-17T03:00:00",
          "2022-04-17T04:00:00",
          "2022-04-17T05:00:00",
          "2022-04-17T06:00:00",
          "2022-04-17T07:00:00",
          "2022-04-17T08:00:00",
          "2022-04-17T09:00:00",
          "2022-04-17T10:00:00",
          "2022-04-17T11:00:00",
          "2022-04-17T12:00:00",
          "2022-04-17T13:00:00",
          "2022-04-17T14:00:00",
          "2022-04-17T15:00:00",
          "2022-04-17T16:00:00",
          "2022-04-17T17:00:00",
          "2022-04-17T18:00:00",
          "2022-04-17T19:00:00",
          "2022-04-17T20:00:00",
          "2022-04-17T21:00:00",
          "2022-04-17T22:00:00",
          "2022-04-17T23:00:00",
          "2022-04-18T00:00:00",
          "2022-04-18T01:00:00",
          "2022-04-18T02:00:00",
          "2022-04-18T03:00:00",
          "2022-04-18T04:00:00",
          "2022-04-18T05:00:00",
          "2022-04-18T06:00:00",
          "2022-04-18T07:00:00",
          "2022-04-18T08:00:00",
          "2022-04-18T09:00:00",
          "2022-04-18T10:00:00",
          "2022-04-18T11:00:00",
          "2022-04-18T12:00:00",
          "2022-04-18T13:00:00",
          "2022-04-18T14:00:00",
          "2022-04-18T15:00:00",
          "2022-04-18T16:00:00",
          "2022-04-18T17:00:00",
          "2022-04-18T18:00:00",
          "2022-04-18T19:00:00",
          "2022-04-18T20:00:00",
          "2022-04-18T21:00:00",
          "2022-04-18T22:00:00",
          "2022-04-18T23:00:00"
         ],
         "y": [
          14.694397681115182,
          46.54019271836765,
          46.746984779662306,
          46.961878088521324,
          47.17556569265405,
          28.602869842506646,
          14.913674577255748,
          14.881212670851983,
          14.848029028562406,
          47.06771927503163,
          47.764502789140494,
          47.99399424651052,
          48.2207804308895,
          48.4463243859072,
          49.18441574316224,
          49.43882611457795,
          50.06538507761791,
          49.96103851220017,
          15.610621077323316,
          0,
          0,
          0,
          15.229639863841566,
          15.347458593334046,
          48.65052825527779,
          48.86379688611894,
          49.5931506876411,
          49.84973873857144,
          50.059520582807785,
          50.05872138534011,
          50.05859660711066,
          50.057023241387434,
          50.05658960203197,
          50.055918696611876,
          50.05536306823125,
          16.151778582524294,
          50.05391277407074,
          50.05300304437459,
          50.05228618733992,
          50.051575495618124,
          50.05084278854654,
          50.05011350841237,
          0,
          0,
          0,
          0,
          0,
          0,
          50.048532475232996,
          50.047865282142894,
          50.047159935066475,
          50.04645938774172,
          50.04574827901961,
          50.04503939022501,
          50.04434109674536,
          50.04365390559248,
          50.0429782837283,
          16.75202569584581,
          16.71784417300903,
          16.68144829657578,
          16.645087276053932,
          50.04118392848271,
          50.04057207579161,
          50.03993416497135,
          25.80710650107014,
          25.898383568932967,
          28.596231857189576,
          29.41166303047671,
          0,
          0,
          0,
          0
         ]
        }
       ],
       "layout": {
        "template": {
         "data": {
          "bar": [
           {
            "error_x": {
             "color": "#2a3f5f"
            },
            "error_y": {
             "color": "#2a3f5f"
            },
            "marker": {
             "line": {
              "color": "#E5ECF6",
              "width": 0.5
             },
             "pattern": {
              "fillmode": "overlay",
              "size": 10,
              "solidity": 0.2
             }
            },
            "type": "bar"
           }
          ],
          "barpolar": [
           {
            "marker": {
             "line": {
              "color": "#E5ECF6",
              "width": 0.5
             },
             "pattern": {
              "fillmode": "overlay",
              "size": 10,
              "solidity": 0.2
             }
            },
            "type": "barpolar"
           }
          ],
          "carpet": [
           {
            "aaxis": {
             "endlinecolor": "#2a3f5f",
             "gridcolor": "white",
             "linecolor": "white",
             "minorgridcolor": "white",
             "startlinecolor": "#2a3f5f"
            },
            "baxis": {
             "endlinecolor": "#2a3f5f",
             "gridcolor": "white",
             "linecolor": "white",
             "minorgridcolor": "white",
             "startlinecolor": "#2a3f5f"
            },
            "type": "carpet"
           }
          ],
          "choropleth": [
           {
            "colorbar": {
             "outlinewidth": 0,
             "ticks": ""
            },
            "type": "choropleth"
           }
          ],
          "contour": [
           {
            "colorbar": {
             "outlinewidth": 0,
             "ticks": ""
            },
            "colorscale": [
             [
              0,
              "#0d0887"
             ],
             [
              0.1111111111111111,
              "#46039f"
             ],
             [
              0.2222222222222222,
              "#7201a8"
             ],
             [
              0.3333333333333333,
              "#9c179e"
             ],
             [
              0.4444444444444444,
              "#bd3786"
             ],
             [
              0.5555555555555556,
              "#d8576b"
             ],
             [
              0.6666666666666666,
              "#ed7953"
             ],
             [
              0.7777777777777778,
              "#fb9f3a"
             ],
             [
              0.8888888888888888,
              "#fdca26"
             ],
             [
              1,
              "#f0f921"
             ]
            ],
            "type": "contour"
           }
          ],
          "contourcarpet": [
           {
            "colorbar": {
             "outlinewidth": 0,
             "ticks": ""
            },
            "type": "contourcarpet"
           }
          ],
          "heatmap": [
           {
            "colorbar": {
             "outlinewidth": 0,
             "ticks": ""
            },
            "colorscale": [
             [
              0,
              "#0d0887"
             ],
             [
              0.1111111111111111,
              "#46039f"
             ],
             [
              0.2222222222222222,
              "#7201a8"
             ],
             [
              0.3333333333333333,
              "#9c179e"
             ],
             [
              0.4444444444444444,
              "#bd3786"
             ],
             [
              0.5555555555555556,
              "#d8576b"
             ],
             [
              0.6666666666666666,
              "#ed7953"
             ],
             [
              0.7777777777777778,
              "#fb9f3a"
             ],
             [
              0.8888888888888888,
              "#fdca26"
             ],
             [
              1,
              "#f0f921"
             ]
            ],
            "type": "heatmap"
           }
          ],
          "heatmapgl": [
           {
            "colorbar": {
             "outlinewidth": 0,
             "ticks": ""
            },
            "colorscale": [
             [
              0,
              "#0d0887"
             ],
             [
              0.1111111111111111,
              "#46039f"
             ],
             [
              0.2222222222222222,
              "#7201a8"
             ],
             [
              0.3333333333333333,
              "#9c179e"
             ],
             [
              0.4444444444444444,
              "#bd3786"
             ],
             [
              0.5555555555555556,
              "#d8576b"
             ],
             [
              0.6666666666666666,
              "#ed7953"
             ],
             [
              0.7777777777777778,
              "#fb9f3a"
             ],
             [
              0.8888888888888888,
              "#fdca26"
             ],
             [
              1,
              "#f0f921"
             ]
            ],
            "type": "heatmapgl"
           }
          ],
          "histogram": [
           {
            "marker": {
             "pattern": {
              "fillmode": "overlay",
              "size": 10,
              "solidity": 0.2
             }
            },
            "type": "histogram"
           }
          ],
          "histogram2d": [
           {
            "colorbar": {
             "outlinewidth": 0,
             "ticks": ""
            },
            "colorscale": [
             [
              0,
              "#0d0887"
             ],
             [
              0.1111111111111111,
              "#46039f"
             ],
             [
              0.2222222222222222,
              "#7201a8"
             ],
             [
              0.3333333333333333,
              "#9c179e"
             ],
             [
              0.4444444444444444,
              "#bd3786"
             ],
             [
              0.5555555555555556,
              "#d8576b"
             ],
             [
              0.6666666666666666,
              "#ed7953"
             ],
             [
              0.7777777777777778,
              "#fb9f3a"
             ],
             [
              0.8888888888888888,
              "#fdca26"
             ],
             [
              1,
              "#f0f921"
             ]
            ],
            "type": "histogram2d"
           }
          ],
          "histogram2dcontour": [
           {
            "colorbar": {
             "outlinewidth": 0,
             "ticks": ""
            },
            "colorscale": [
             [
              0,
              "#0d0887"
             ],
             [
              0.1111111111111111,
              "#46039f"
             ],
             [
              0.2222222222222222,
              "#7201a8"
             ],
             [
              0.3333333333333333,
              "#9c179e"
             ],
             [
              0.4444444444444444,
              "#bd3786"
             ],
             [
              0.5555555555555556,
              "#d8576b"
             ],
             [
              0.6666666666666666,
              "#ed7953"
             ],
             [
              0.7777777777777778,
              "#fb9f3a"
             ],
             [
              0.8888888888888888,
              "#fdca26"
             ],
             [
              1,
              "#f0f921"
             ]
            ],
            "type": "histogram2dcontour"
           }
          ],
          "mesh3d": [
           {
            "colorbar": {
             "outlinewidth": 0,
             "ticks": ""
            },
            "type": "mesh3d"
           }
          ],
          "parcoords": [
           {
            "line": {
             "colorbar": {
              "outlinewidth": 0,
              "ticks": ""
             }
            },
            "type": "parcoords"
           }
          ],
          "pie": [
           {
            "automargin": true,
            "type": "pie"
           }
          ],
          "scatter": [
           {
            "marker": {
             "colorbar": {
              "outlinewidth": 0,
              "ticks": ""
             }
            },
            "type": "scatter"
           }
          ],
          "scatter3d": [
           {
            "line": {
             "colorbar": {
              "outlinewidth": 0,
              "ticks": ""
             }
            },
            "marker": {
             "colorbar": {
              "outlinewidth": 0,
              "ticks": ""
             }
            },
            "type": "scatter3d"
           }
          ],
          "scattercarpet": [
           {
            "marker": {
             "colorbar": {
              "outlinewidth": 0,
              "ticks": ""
             }
            },
            "type": "scattercarpet"
           }
          ],
          "scattergeo": [
           {
            "marker": {
             "colorbar": {
              "outlinewidth": 0,
              "ticks": ""
             }
            },
            "type": "scattergeo"
           }
          ],
          "scattergl": [
           {
            "marker": {
             "colorbar": {
              "outlinewidth": 0,
              "ticks": ""
             }
            },
            "type": "scattergl"
           }
          ],
          "scattermapbox": [
           {
            "marker": {
             "colorbar": {
              "outlinewidth": 0,
              "ticks": ""
             }
            },
            "type": "scattermapbox"
           }
          ],
          "scatterpolar": [
           {
            "marker": {
             "colorbar": {
              "outlinewidth": 0,
              "ticks": ""
             }
            },
            "type": "scatterpolar"
           }
          ],
          "scatterpolargl": [
           {
            "marker": {
             "colorbar": {
              "outlinewidth": 0,
              "ticks": ""
             }
            },
            "type": "scatterpolargl"
           }
          ],
          "scatterternary": [
           {
            "marker": {
             "colorbar": {
              "outlinewidth": 0,
              "ticks": ""
             }
            },
            "type": "scatterternary"
           }
          ],
          "surface": [
           {
            "colorbar": {
             "outlinewidth": 0,
             "ticks": ""
            },
            "colorscale": [
             [
              0,
              "#0d0887"
             ],
             [
              0.1111111111111111,
              "#46039f"
             ],
             [
              0.2222222222222222,
              "#7201a8"
             ],
             [
              0.3333333333333333,
              "#9c179e"
             ],
             [
              0.4444444444444444,
              "#bd3786"
             ],
             [
              0.5555555555555556,
              "#d8576b"
             ],
             [
              0.6666666666666666,
              "#ed7953"
             ],
             [
              0.7777777777777778,
              "#fb9f3a"
             ],
             [
              0.8888888888888888,
              "#fdca26"
             ],
             [
              1,
              "#f0f921"
             ]
            ],
            "type": "surface"
           }
          ],
          "table": [
           {
            "cells": {
             "fill": {
              "color": "#EBF0F8"
             },
             "line": {
              "color": "white"
             }
            },
            "header": {
             "fill": {
              "color": "#C8D4E3"
             },
             "line": {
              "color": "white"
             }
            },
            "type": "table"
           }
          ]
         },
         "layout": {
          "annotationdefaults": {
           "arrowcolor": "#2a3f5f",
           "arrowhead": 0,
           "arrowwidth": 1
          },
          "autotypenumbers": "strict",
          "coloraxis": {
           "colorbar": {
            "outlinewidth": 0,
            "ticks": ""
           }
          },
          "colorscale": {
           "diverging": [
            [
             0,
             "#8e0152"
            ],
            [
             0.1,
             "#c51b7d"
            ],
            [
             0.2,
             "#de77ae"
            ],
            [
             0.3,
             "#f1b6da"
            ],
            [
             0.4,
             "#fde0ef"
            ],
            [
             0.5,
             "#f7f7f7"
            ],
            [
             0.6,
             "#e6f5d0"
            ],
            [
             0.7,
             "#b8e186"
            ],
            [
             0.8,
             "#7fbc41"
            ],
            [
             0.9,
             "#4d9221"
            ],
            [
             1,
             "#276419"
            ]
           ],
           "sequential": [
            [
             0,
             "#0d0887"
            ],
            [
             0.1111111111111111,
             "#46039f"
            ],
            [
             0.2222222222222222,
             "#7201a8"
            ],
            [
             0.3333333333333333,
             "#9c179e"
            ],
            [
             0.4444444444444444,
             "#bd3786"
            ],
            [
             0.5555555555555556,
             "#d8576b"
            ],
            [
             0.6666666666666666,
             "#ed7953"
            ],
            [
             0.7777777777777778,
             "#fb9f3a"
            ],
            [
             0.8888888888888888,
             "#fdca26"
            ],
            [
             1,
             "#f0f921"
            ]
           ],
           "sequentialminus": [
            [
             0,
             "#0d0887"
            ],
            [
             0.1111111111111111,
             "#46039f"
            ],
            [
             0.2222222222222222,
             "#7201a8"
            ],
            [
             0.3333333333333333,
             "#9c179e"
            ],
            [
             0.4444444444444444,
             "#bd3786"
            ],
            [
             0.5555555555555556,
             "#d8576b"
            ],
            [
             0.6666666666666666,
             "#ed7953"
            ],
            [
             0.7777777777777778,
             "#fb9f3a"
            ],
            [
             0.8888888888888888,
             "#fdca26"
            ],
            [
             1,
             "#f0f921"
            ]
           ]
          },
          "colorway": [
           "#636efa",
           "#EF553B",
           "#00cc96",
           "#ab63fa",
           "#FFA15A",
           "#19d3f3",
           "#FF6692",
           "#B6E880",
           "#FF97FF",
           "#FECB52"
          ],
          "font": {
           "color": "#2a3f5f"
          },
          "geo": {
           "bgcolor": "white",
           "lakecolor": "white",
           "landcolor": "#E5ECF6",
           "showlakes": true,
           "showland": true,
           "subunitcolor": "white"
          },
          "hoverlabel": {
           "align": "left"
          },
          "hovermode": "closest",
          "mapbox": {
           "style": "light"
          },
          "paper_bgcolor": "white",
          "plot_bgcolor": "#E5ECF6",
          "polar": {
           "angularaxis": {
            "gridcolor": "white",
            "linecolor": "white",
            "ticks": ""
           },
           "bgcolor": "#E5ECF6",
           "radialaxis": {
            "gridcolor": "white",
            "linecolor": "white",
            "ticks": ""
           }
          },
          "scene": {
           "xaxis": {
            "backgroundcolor": "#E5ECF6",
            "gridcolor": "white",
            "gridwidth": 2,
            "linecolor": "white",
            "showbackground": true,
            "ticks": "",
            "zerolinecolor": "white"
           },
           "yaxis": {
            "backgroundcolor": "#E5ECF6",
            "gridcolor": "white",
            "gridwidth": 2,
            "linecolor": "white",
            "showbackground": true,
            "ticks": "",
            "zerolinecolor": "white"
           },
           "zaxis": {
            "backgroundcolor": "#E5ECF6",
            "gridcolor": "white",
            "gridwidth": 2,
            "linecolor": "white",
            "showbackground": true,
            "ticks": "",
            "zerolinecolor": "white"
           }
          },
          "shapedefaults": {
           "line": {
            "color": "#2a3f5f"
           }
          },
          "ternary": {
           "aaxis": {
            "gridcolor": "white",
            "linecolor": "white",
            "ticks": ""
           },
           "baxis": {
            "gridcolor": "white",
            "linecolor": "white",
            "ticks": ""
           },
           "bgcolor": "#E5ECF6",
           "caxis": {
            "gridcolor": "white",
            "linecolor": "white",
            "ticks": ""
           }
          },
          "title": {
           "x": 0.05
          },
          "xaxis": {
           "automargin": true,
           "gridcolor": "white",
           "linecolor": "white",
           "ticks": "",
           "title": {
            "standoff": 15
           },
           "zerolinecolor": "white",
           "zerolinewidth": 2
          },
          "yaxis": {
           "automargin": true,
           "gridcolor": "white",
           "linecolor": "white",
           "ticks": "",
           "title": {
            "standoff": 15
           },
           "zerolinecolor": "white",
           "zerolinewidth": 2
          }
         }
        },
        "title": {
         "text": "Production and consumption"
        }
       }
      }
     },
     "metadata": {},
     "output_type": "display_data"
    },
    {
     "data": {
      "application/vnd.plotly.v1+json": {
       "config": {
        "plotlyServerURL": "https://plot.ly"
       },
       "data": [
        {
         "name": "Rsv 1 storage",
         "type": "scatter",
         "x": [
          "2022-04-16T00:00:00",
          "2022-04-16T01:00:00",
          "2022-04-16T02:00:00",
          "2022-04-16T03:00:00",
          "2022-04-16T04:00:00",
          "2022-04-16T05:00:00",
          "2022-04-16T06:00:00",
          "2022-04-16T07:00:00",
          "2022-04-16T08:00:00",
          "2022-04-16T09:00:00",
          "2022-04-16T10:00:00",
          "2022-04-16T11:00:00",
          "2022-04-16T12:00:00",
          "2022-04-16T13:00:00",
          "2022-04-16T14:00:00",
          "2022-04-16T15:00:00",
          "2022-04-16T16:00:00",
          "2022-04-16T17:00:00",
          "2022-04-16T18:00:00",
          "2022-04-16T19:00:00",
          "2022-04-16T20:00:00",
          "2022-04-16T21:00:00",
          "2022-04-16T22:00:00",
          "2022-04-16T23:00:00",
          "2022-04-17T00:00:00",
          "2022-04-17T01:00:00",
          "2022-04-17T02:00:00",
          "2022-04-17T03:00:00",
          "2022-04-17T04:00:00",
          "2022-04-17T05:00:00",
          "2022-04-17T06:00:00",
          "2022-04-17T07:00:00",
          "2022-04-17T08:00:00",
          "2022-04-17T09:00:00",
          "2022-04-17T10:00:00",
          "2022-04-17T11:00:00",
          "2022-04-17T12:00:00",
          "2022-04-17T13:00:00",
          "2022-04-17T14:00:00",
          "2022-04-17T15:00:00",
          "2022-04-17T16:00:00",
          "2022-04-17T17:00:00",
          "2022-04-17T18:00:00",
          "2022-04-17T19:00:00",
          "2022-04-17T20:00:00",
          "2022-04-17T21:00:00",
          "2022-04-17T22:00:00",
          "2022-04-17T23:00:00",
          "2022-04-18T00:00:00",
          "2022-04-18T01:00:00",
          "2022-04-18T02:00:00",
          "2022-04-18T03:00:00",
          "2022-04-18T04:00:00",
          "2022-04-18T05:00:00",
          "2022-04-18T06:00:00",
          "2022-04-18T07:00:00",
          "2022-04-18T08:00:00",
          "2022-04-18T09:00:00",
          "2022-04-18T10:00:00",
          "2022-04-18T11:00:00",
          "2022-04-18T12:00:00",
          "2022-04-18T13:00:00",
          "2022-04-18T14:00:00",
          "2022-04-18T15:00:00",
          "2022-04-18T16:00:00",
          "2022-04-18T17:00:00",
          "2022-04-18T18:00:00",
          "2022-04-18T19:00:00",
          "2022-04-18T20:00:00",
          "2022-04-18T21:00:00",
          "2022-04-18T22:00:00",
          "2022-04-18T23:00:00",
          "2022-04-19T00:00:00"
         ],
         "y": [
          6,
          5.815309299978395,
          5.632640210946318,
          5.454198160173354,
          5.27690704435941,
          5.1010691609276595,
          4.9141653086875525,
          4.727232376158429,
          4.538804792482392,
          4.35109070404925,
          4.178385863576392,
          4.073667460871524,
          3.976038043286297,
          3.879126904807458,
          3.783707322857185,
          3.8922404697978266,
          4.004292052918885,
          4.116784854376152,
          4.229510726767569,
          4.107648253839505,
          3.928357734428533,
          3.743399639737697,
          3.558799042860784,
          3.381282531091705,
          3.265200617013721,
          3.174512089975889,
          3.08606564895386,
          3.1912010431747833,
          3.310683252534511,
          3.4297722584382426,
          3.5490024369325965,
          3.476669781041477,
          3.5832053596463083,
          3.512822092914024,
          3.4286795903947906,
          3.346411029589092,
          3.2487764992588724,
          3.1664753014228664,
          3.2784150799374516,
          3.4040322543256822,
          3.528875300223672,
          3.653791634929951,
          3.778756411578655,
          3.6895422405112015,
          3.523373335159107,
          3.350517904859049,
          3.1781541603554446,
          3.005873377575347,
          2.8970577475501953,
          3.0097612644920675,
          3.137555761382663,
          3.2643463089009743,
          3.3912272462237185,
          3.518155502719486,
          3.645101772655329,
          3.772055426632437,
          3.8990123346248766,
          4.025970439147704,
          3.947831146475829,
          3.8549302507078496,
          3.763243450276451,
          3.67172034347235,
          3.7858947046966533,
          3.9150123473503413,
          4.043162508698805,
          3.968330822596323,
          3.8792150508385532,
          3.7391000037699085,
          3.5830440692815557,
          3.4165792398739656,
          3.2493307429993026,
          3.0822700429134557,
          2.9152591826789886
         ]
        },
        {
         "name": "Rsv 2 storage",
         "type": "scatter",
         "x": [
          "2022-04-16T00:00:00",
          "2022-04-16T01:00:00",
          "2022-04-16T02:00:00",
          "2022-04-16T03:00:00",
          "2022-04-16T04:00:00",
          "2022-04-16T05:00:00",
          "2022-04-16T06:00:00",
          "2022-04-16T07:00:00",
          "2022-04-16T08:00:00",
          "2022-04-16T09:00:00",
          "2022-04-16T10:00:00",
          "2022-04-16T11:00:00",
          "2022-04-16T12:00:00",
          "2022-04-16T13:00:00",
          "2022-04-16T14:00:00",
          "2022-04-16T15:00:00",
          "2022-04-16T16:00:00",
          "2022-04-16T17:00:00",
          "2022-04-16T18:00:00",
          "2022-04-16T19:00:00",
          "2022-04-16T20:00:00",
          "2022-04-16T21:00:00",
          "2022-04-16T22:00:00",
          "2022-04-16T23:00:00",
          "2022-04-17T00:00:00",
          "2022-04-17T01:00:00",
          "2022-04-17T02:00:00",
          "2022-04-17T03:00:00",
          "2022-04-17T04:00:00",
          "2022-04-17T05:00:00",
          "2022-04-17T06:00:00",
          "2022-04-17T07:00:00",
          "2022-04-17T08:00:00",
          "2022-04-17T09:00:00",
          "2022-04-17T10:00:00",
          "2022-04-17T11:00:00",
          "2022-04-17T12:00:00",
          "2022-04-17T13:00:00",
          "2022-04-17T14:00:00",
          "2022-04-17T15:00:00",
          "2022-04-17T16:00:00",
          "2022-04-17T17:00:00",
          "2022-04-17T18:00:00",
          "2022-04-17T19:00:00",
          "2022-04-17T20:00:00",
          "2022-04-17T21:00:00",
          "2022-04-17T22:00:00",
          "2022-04-17T23:00:00",
          "2022-04-18T00:00:00",
          "2022-04-18T01:00:00",
          "2022-04-18T02:00:00",
          "2022-04-18T03:00:00",
          "2022-04-18T04:00:00",
          "2022-04-18T05:00:00",
          "2022-04-18T06:00:00",
          "2022-04-18T07:00:00",
          "2022-04-18T08:00:00",
          "2022-04-18T09:00:00",
          "2022-04-18T10:00:00",
          "2022-04-18T11:00:00",
          "2022-04-18T12:00:00",
          "2022-04-18T13:00:00",
          "2022-04-18T14:00:00",
          "2022-04-18T15:00:00",
          "2022-04-18T16:00:00",
          "2022-04-18T17:00:00",
          "2022-04-18T18:00:00",
          "2022-04-18T19:00:00",
          "2022-04-18T20:00:00",
          "2022-04-18T21:00:00",
          "2022-04-18T22:00:00",
          "2022-04-18T23:00:00",
          "2022-04-19T00:00:00"
         ],
         "y": [
          6,
          5.966858303904781,
          6.134605485473486,
          6.313643816594743,
          6.491144677724833,
          6.667137130077225,
          6.721801498676001,
          6.680171383059036,
          6.634875413577833,
          6.58889079137345,
          6.748068820100724,
          6.938456174584212,
          7.128829629722793,
          7.31764350251313,
          7.505023805982103,
          7.705788495693758,
          7.918158103395944,
          8.131085494648483,
          8.34240998436482,
          8.318786300093842,
          8.187788834768963,
          8.049489915278372,
          7.910945066860381,
          7.849494383271479,
          7.817017399124421,
          7.986715852333726,
          8.167164107458586,
          8.371110473255333,
          8.57639964950513,
          8.780815758850945,
          8.983364796078025,
          9.162043258038523,
          9.358452545578832,
          9.53275912462343,
          9.702796356511811,
          9.87045590148972,
          9.839243352784745,
          9.992700139123793,
          10.177773860105447,
          10.362882103748268,
          10.546199279229432,
          10.727940314708638,
          10.90812763740234,
          10.797880778183924,
          10.6492898281642,
          10.498290560342593,
          10.34725066524474,
          10.196122288998804,
          10.066266307405561,
          10.23476419668757,
          10.419963803507954,
          10.603416191781395,
          10.785281845243691,
          10.965579461396782,
          11.144334683029019,
          11.321575076972191,
          11.497328359205449,
          11.67162186124844,
          11.63489852871819,
          11.584874147311911,
          11.534723050876812,
          11.484318527734995,
          11.64557038943218,
          11.818666732026964,
          11.990209489280545,
          12.000044866634425,
          11.999964757856162,
          12.000023430371783,
          11.999984527984378,
          11.85239559264449,
          11.695818085992494,
          11.539201652817189,
          11.382546703323602
         ]
        },
        {
         "name": "Rsv 3 storage",
         "type": "scatter",
         "x": [
          "2022-04-16T00:00:00",
          "2022-04-16T01:00:00",
          "2022-04-16T02:00:00",
          "2022-04-16T03:00:00",
          "2022-04-16T04:00:00",
          "2022-04-16T05:00:00",
          "2022-04-16T06:00:00",
          "2022-04-16T07:00:00",
          "2022-04-16T08:00:00",
          "2022-04-16T09:00:00",
          "2022-04-16T10:00:00",
          "2022-04-16T11:00:00",
          "2022-04-16T12:00:00",
          "2022-04-16T13:00:00",
          "2022-04-16T14:00:00",
          "2022-04-16T15:00:00",
          "2022-04-16T16:00:00",
          "2022-04-16T17:00:00",
          "2022-04-16T18:00:00",
          "2022-04-16T19:00:00",
          "2022-04-16T20:00:00",
          "2022-04-16T21:00:00",
          "2022-04-16T22:00:00",
          "2022-04-16T23:00:00",
          "2022-04-17T00:00:00",
          "2022-04-17T01:00:00",
          "2022-04-17T02:00:00",
          "2022-04-17T03:00:00",
          "2022-04-17T04:00:00",
          "2022-04-17T05:00:00",
          "2022-04-17T06:00:00",
          "2022-04-17T07:00:00",
          "2022-04-17T08:00:00",
          "2022-04-17T09:00:00",
          "2022-04-17T10:00:00",
          "2022-04-17T11:00:00",
          "2022-04-17T12:00:00",
          "2022-04-17T13:00:00",
          "2022-04-17T14:00:00",
          "2022-04-17T15:00:00",
          "2022-04-17T16:00:00",
          "2022-04-17T17:00:00",
          "2022-04-17T18:00:00",
          "2022-04-17T19:00:00",
          "2022-04-17T20:00:00",
          "2022-04-17T21:00:00",
          "2022-04-17T22:00:00",
          "2022-04-17T23:00:00",
          "2022-04-18T00:00:00",
          "2022-04-18T01:00:00",
          "2022-04-18T02:00:00",
          "2022-04-18T03:00:00",
          "2022-04-18T04:00:00",
          "2022-04-18T05:00:00",
          "2022-04-18T06:00:00",
          "2022-04-18T07:00:00",
          "2022-04-18T08:00:00",
          "2022-04-18T09:00:00",
          "2022-04-18T10:00:00",
          "2022-04-18T11:00:00",
          "2022-04-18T12:00:00",
          "2022-04-18T13:00:00",
          "2022-04-18T14:00:00",
          "2022-04-18T15:00:00",
          "2022-04-18T16:00:00",
          "2022-04-18T17:00:00",
          "2022-04-18T18:00:00",
          "2022-04-18T19:00:00",
          "2022-04-18T20:00:00",
          "2022-04-18T21:00:00",
          "2022-04-18T22:00:00",
          "2022-04-18T23:00:00",
          "2022-04-19T00:00:00"
         ],
         "y": [
          6,
          6.09,
          5.946,
          5.802,
          5.6579999999999995,
          5.513999999999999,
          5.510821916258737,
          5.600821916258737,
          5.690821916258737,
          5.780821916258737,
          5.636821916258737,
          5.492821916258737,
          5.3488219162587365,
          5.204821916258736,
          5.060821916258736,
          4.916821916258736,
          4.772821916258736,
          4.627288446793752,
          4.483288446793752,
          4.573288446793752,
          4.753288446793752,
          4.9332884467937514,
          5.113288446793751,
          5.203288446793751,
          5.293288446793751,
          5.149288446793751,
          5.005288446793751,
          4.8612884467937505,
          4.71728844679375,
          4.573633893300216,
          4.431864401057981,
          4.288218783663203,
          4.149869055536149,
          4.0096397521990434,
          3.870939150945407,
          3.733737752797698,
          3.823737752797698,
          3.687307669348928,
          3.5558472495792186,
          3.426016019470404,
          3.297781077431139,
          3.1711113068867656,
          3.0459781680787628,
          3.225978168078763,
          3.405978168078763,
          3.5859781680787632,
          3.7659781680787634,
          3.9459781680787636,
          4.125978168078763,
          3.9923817133095776,
          3.860374439273099,
          3.729996277455201,
          3.601215042884717,
          3.474001512323021,
          3.348327093372645,
          3.224163884905607,
          3.1014847400986567,
          2.980263250908819,
          3.070263250908819,
          3.1602632509088187,
          3.2502632509088185,
          3.3402632509088184,
          3.217640954322799,
          3.096426818443639,
          2.976641204201045,
          3.013570418467863,
          3.0498418798420506,
          3.068142462482486,
          3.0808312020840978,
          3.260831202084098,
          3.440831202084098,
          3.6208312020840983,
          3.8008312020840984
         ]
        }
       ],
       "layout": {
        "template": {
         "data": {
          "bar": [
           {
            "error_x": {
             "color": "#2a3f5f"
            },
            "error_y": {
             "color": "#2a3f5f"
            },
            "marker": {
             "line": {
              "color": "#E5ECF6",
              "width": 0.5
             },
             "pattern": {
              "fillmode": "overlay",
              "size": 10,
              "solidity": 0.2
             }
            },
            "type": "bar"
           }
          ],
          "barpolar": [
           {
            "marker": {
             "line": {
              "color": "#E5ECF6",
              "width": 0.5
             },
             "pattern": {
              "fillmode": "overlay",
              "size": 10,
              "solidity": 0.2
             }
            },
            "type": "barpolar"
           }
          ],
          "carpet": [
           {
            "aaxis": {
             "endlinecolor": "#2a3f5f",
             "gridcolor": "white",
             "linecolor": "white",
             "minorgridcolor": "white",
             "startlinecolor": "#2a3f5f"
            },
            "baxis": {
             "endlinecolor": "#2a3f5f",
             "gridcolor": "white",
             "linecolor": "white",
             "minorgridcolor": "white",
             "startlinecolor": "#2a3f5f"
            },
            "type": "carpet"
           }
          ],
          "choropleth": [
           {
            "colorbar": {
             "outlinewidth": 0,
             "ticks": ""
            },
            "type": "choropleth"
           }
          ],
          "contour": [
           {
            "colorbar": {
             "outlinewidth": 0,
             "ticks": ""
            },
            "colorscale": [
             [
              0,
              "#0d0887"
             ],
             [
              0.1111111111111111,
              "#46039f"
             ],
             [
              0.2222222222222222,
              "#7201a8"
             ],
             [
              0.3333333333333333,
              "#9c179e"
             ],
             [
              0.4444444444444444,
              "#bd3786"
             ],
             [
              0.5555555555555556,
              "#d8576b"
             ],
             [
              0.6666666666666666,
              "#ed7953"
             ],
             [
              0.7777777777777778,
              "#fb9f3a"
             ],
             [
              0.8888888888888888,
              "#fdca26"
             ],
             [
              1,
              "#f0f921"
             ]
            ],
            "type": "contour"
           }
          ],
          "contourcarpet": [
           {
            "colorbar": {
             "outlinewidth": 0,
             "ticks": ""
            },
            "type": "contourcarpet"
           }
          ],
          "heatmap": [
           {
            "colorbar": {
             "outlinewidth": 0,
             "ticks": ""
            },
            "colorscale": [
             [
              0,
              "#0d0887"
             ],
             [
              0.1111111111111111,
              "#46039f"
             ],
             [
              0.2222222222222222,
              "#7201a8"
             ],
             [
              0.3333333333333333,
              "#9c179e"
             ],
             [
              0.4444444444444444,
              "#bd3786"
             ],
             [
              0.5555555555555556,
              "#d8576b"
             ],
             [
              0.6666666666666666,
              "#ed7953"
             ],
             [
              0.7777777777777778,
              "#fb9f3a"
             ],
             [
              0.8888888888888888,
              "#fdca26"
             ],
             [
              1,
              "#f0f921"
             ]
            ],
            "type": "heatmap"
           }
          ],
          "heatmapgl": [
           {
            "colorbar": {
             "outlinewidth": 0,
             "ticks": ""
            },
            "colorscale": [
             [
              0,
              "#0d0887"
             ],
             [
              0.1111111111111111,
              "#46039f"
             ],
             [
              0.2222222222222222,
              "#7201a8"
             ],
             [
              0.3333333333333333,
              "#9c179e"
             ],
             [
              0.4444444444444444,
              "#bd3786"
             ],
             [
              0.5555555555555556,
              "#d8576b"
             ],
             [
              0.6666666666666666,
              "#ed7953"
             ],
             [
              0.7777777777777778,
              "#fb9f3a"
             ],
             [
              0.8888888888888888,
              "#fdca26"
             ],
             [
              1,
              "#f0f921"
             ]
            ],
            "type": "heatmapgl"
           }
          ],
          "histogram": [
           {
            "marker": {
             "pattern": {
              "fillmode": "overlay",
              "size": 10,
              "solidity": 0.2
             }
            },
            "type": "histogram"
           }
          ],
          "histogram2d": [
           {
            "colorbar": {
             "outlinewidth": 0,
             "ticks": ""
            },
            "colorscale": [
             [
              0,
              "#0d0887"
             ],
             [
              0.1111111111111111,
              "#46039f"
             ],
             [
              0.2222222222222222,
              "#7201a8"
             ],
             [
              0.3333333333333333,
              "#9c179e"
             ],
             [
              0.4444444444444444,
              "#bd3786"
             ],
             [
              0.5555555555555556,
              "#d8576b"
             ],
             [
              0.6666666666666666,
              "#ed7953"
             ],
             [
              0.7777777777777778,
              "#fb9f3a"
             ],
             [
              0.8888888888888888,
              "#fdca26"
             ],
             [
              1,
              "#f0f921"
             ]
            ],
            "type": "histogram2d"
           }
          ],
          "histogram2dcontour": [
           {
            "colorbar": {
             "outlinewidth": 0,
             "ticks": ""
            },
            "colorscale": [
             [
              0,
              "#0d0887"
             ],
             [
              0.1111111111111111,
              "#46039f"
             ],
             [
              0.2222222222222222,
              "#7201a8"
             ],
             [
              0.3333333333333333,
              "#9c179e"
             ],
             [
              0.4444444444444444,
              "#bd3786"
             ],
             [
              0.5555555555555556,
              "#d8576b"
             ],
             [
              0.6666666666666666,
              "#ed7953"
             ],
             [
              0.7777777777777778,
              "#fb9f3a"
             ],
             [
              0.8888888888888888,
              "#fdca26"
             ],
             [
              1,
              "#f0f921"
             ]
            ],
            "type": "histogram2dcontour"
           }
          ],
          "mesh3d": [
           {
            "colorbar": {
             "outlinewidth": 0,
             "ticks": ""
            },
            "type": "mesh3d"
           }
          ],
          "parcoords": [
           {
            "line": {
             "colorbar": {
              "outlinewidth": 0,
              "ticks": ""
             }
            },
            "type": "parcoords"
           }
          ],
          "pie": [
           {
            "automargin": true,
            "type": "pie"
           }
          ],
          "scatter": [
           {
            "marker": {
             "colorbar": {
              "outlinewidth": 0,
              "ticks": ""
             }
            },
            "type": "scatter"
           }
          ],
          "scatter3d": [
           {
            "line": {
             "colorbar": {
              "outlinewidth": 0,
              "ticks": ""
             }
            },
            "marker": {
             "colorbar": {
              "outlinewidth": 0,
              "ticks": ""
             }
            },
            "type": "scatter3d"
           }
          ],
          "scattercarpet": [
           {
            "marker": {
             "colorbar": {
              "outlinewidth": 0,
              "ticks": ""
             }
            },
            "type": "scattercarpet"
           }
          ],
          "scattergeo": [
           {
            "marker": {
             "colorbar": {
              "outlinewidth": 0,
              "ticks": ""
             }
            },
            "type": "scattergeo"
           }
          ],
          "scattergl": [
           {
            "marker": {
             "colorbar": {
              "outlinewidth": 0,
              "ticks": ""
             }
            },
            "type": "scattergl"
           }
          ],
          "scattermapbox": [
           {
            "marker": {
             "colorbar": {
              "outlinewidth": 0,
              "ticks": ""
             }
            },
            "type": "scattermapbox"
           }
          ],
          "scatterpolar": [
           {
            "marker": {
             "colorbar": {
              "outlinewidth": 0,
              "ticks": ""
             }
            },
            "type": "scatterpolar"
           }
          ],
          "scatterpolargl": [
           {
            "marker": {
             "colorbar": {
              "outlinewidth": 0,
              "ticks": ""
             }
            },
            "type": "scatterpolargl"
           }
          ],
          "scatterternary": [
           {
            "marker": {
             "colorbar": {
              "outlinewidth": 0,
              "ticks": ""
             }
            },
            "type": "scatterternary"
           }
          ],
          "surface": [
           {
            "colorbar": {
             "outlinewidth": 0,
             "ticks": ""
            },
            "colorscale": [
             [
              0,
              "#0d0887"
             ],
             [
              0.1111111111111111,
              "#46039f"
             ],
             [
              0.2222222222222222,
              "#7201a8"
             ],
             [
              0.3333333333333333,
              "#9c179e"
             ],
             [
              0.4444444444444444,
              "#bd3786"
             ],
             [
              0.5555555555555556,
              "#d8576b"
             ],
             [
              0.6666666666666666,
              "#ed7953"
             ],
             [
              0.7777777777777778,
              "#fb9f3a"
             ],
             [
              0.8888888888888888,
              "#fdca26"
             ],
             [
              1,
              "#f0f921"
             ]
            ],
            "type": "surface"
           }
          ],
          "table": [
           {
            "cells": {
             "fill": {
              "color": "#EBF0F8"
             },
             "line": {
              "color": "white"
             }
            },
            "header": {
             "fill": {
              "color": "#C8D4E3"
             },
             "line": {
              "color": "white"
             }
            },
            "type": "table"
           }
          ]
         },
         "layout": {
          "annotationdefaults": {
           "arrowcolor": "#2a3f5f",
           "arrowhead": 0,
           "arrowwidth": 1
          },
          "autotypenumbers": "strict",
          "coloraxis": {
           "colorbar": {
            "outlinewidth": 0,
            "ticks": ""
           }
          },
          "colorscale": {
           "diverging": [
            [
             0,
             "#8e0152"
            ],
            [
             0.1,
             "#c51b7d"
            ],
            [
             0.2,
             "#de77ae"
            ],
            [
             0.3,
             "#f1b6da"
            ],
            [
             0.4,
             "#fde0ef"
            ],
            [
             0.5,
             "#f7f7f7"
            ],
            [
             0.6,
             "#e6f5d0"
            ],
            [
             0.7,
             "#b8e186"
            ],
            [
             0.8,
             "#7fbc41"
            ],
            [
             0.9,
             "#4d9221"
            ],
            [
             1,
             "#276419"
            ]
           ],
           "sequential": [
            [
             0,
             "#0d0887"
            ],
            [
             0.1111111111111111,
             "#46039f"
            ],
            [
             0.2222222222222222,
             "#7201a8"
            ],
            [
             0.3333333333333333,
             "#9c179e"
            ],
            [
             0.4444444444444444,
             "#bd3786"
            ],
            [
             0.5555555555555556,
             "#d8576b"
            ],
            [
             0.6666666666666666,
             "#ed7953"
            ],
            [
             0.7777777777777778,
             "#fb9f3a"
            ],
            [
             0.8888888888888888,
             "#fdca26"
            ],
            [
             1,
             "#f0f921"
            ]
           ],
           "sequentialminus": [
            [
             0,
             "#0d0887"
            ],
            [
             0.1111111111111111,
             "#46039f"
            ],
            [
             0.2222222222222222,
             "#7201a8"
            ],
            [
             0.3333333333333333,
             "#9c179e"
            ],
            [
             0.4444444444444444,
             "#bd3786"
            ],
            [
             0.5555555555555556,
             "#d8576b"
            ],
            [
             0.6666666666666666,
             "#ed7953"
            ],
            [
             0.7777777777777778,
             "#fb9f3a"
            ],
            [
             0.8888888888888888,
             "#fdca26"
            ],
            [
             1,
             "#f0f921"
            ]
           ]
          },
          "colorway": [
           "#636efa",
           "#EF553B",
           "#00cc96",
           "#ab63fa",
           "#FFA15A",
           "#19d3f3",
           "#FF6692",
           "#B6E880",
           "#FF97FF",
           "#FECB52"
          ],
          "font": {
           "color": "#2a3f5f"
          },
          "geo": {
           "bgcolor": "white",
           "lakecolor": "white",
           "landcolor": "#E5ECF6",
           "showlakes": true,
           "showland": true,
           "subunitcolor": "white"
          },
          "hoverlabel": {
           "align": "left"
          },
          "hovermode": "closest",
          "mapbox": {
           "style": "light"
          },
          "paper_bgcolor": "white",
          "plot_bgcolor": "#E5ECF6",
          "polar": {
           "angularaxis": {
            "gridcolor": "white",
            "linecolor": "white",
            "ticks": ""
           },
           "bgcolor": "#E5ECF6",
           "radialaxis": {
            "gridcolor": "white",
            "linecolor": "white",
            "ticks": ""
           }
          },
          "scene": {
           "xaxis": {
            "backgroundcolor": "#E5ECF6",
            "gridcolor": "white",
            "gridwidth": 2,
            "linecolor": "white",
            "showbackground": true,
            "ticks": "",
            "zerolinecolor": "white"
           },
           "yaxis": {
            "backgroundcolor": "#E5ECF6",
            "gridcolor": "white",
            "gridwidth": 2,
            "linecolor": "white",
            "showbackground": true,
            "ticks": "",
            "zerolinecolor": "white"
           },
           "zaxis": {
            "backgroundcolor": "#E5ECF6",
            "gridcolor": "white",
            "gridwidth": 2,
            "linecolor": "white",
            "showbackground": true,
            "ticks": "",
            "zerolinecolor": "white"
           }
          },
          "shapedefaults": {
           "line": {
            "color": "#2a3f5f"
           }
          },
          "ternary": {
           "aaxis": {
            "gridcolor": "white",
            "linecolor": "white",
            "ticks": ""
           },
           "baxis": {
            "gridcolor": "white",
            "linecolor": "white",
            "ticks": ""
           },
           "bgcolor": "#E5ECF6",
           "caxis": {
            "gridcolor": "white",
            "linecolor": "white",
            "ticks": ""
           }
          },
          "title": {
           "x": 0.05
          },
          "xaxis": {
           "automargin": true,
           "gridcolor": "white",
           "linecolor": "white",
           "ticks": "",
           "title": {
            "standoff": 15
           },
           "zerolinecolor": "white",
           "zerolinewidth": 2
          },
          "yaxis": {
           "automargin": true,
           "gridcolor": "white",
           "linecolor": "white",
           "ticks": "",
           "title": {
            "standoff": 15
           },
           "zerolinecolor": "white",
           "zerolinewidth": 2
          }
         }
        },
        "title": {
         "text": "Reservoir storage"
        }
       }
      }
     },
     "metadata": {},
     "output_type": "display_data"
    }
   ],
   "source": [
    "import plotly.graph_objects as go\n",
    "from IPython.display import HTML\n",
    "\n",
    "fig = go.Figure()\n",
    "plant1_prod = shop.model.plant.plant1.production.get()\n",
    "plant2_prod = shop.model.plant.plant2.production.get()\n",
    "plant2_cons = shop.model.plant.plant2.consumption.get()\n",
    "fig.add_trace(go.Scatter(x=plant1_prod.index, y=plant1_prod.values, name=\"Plant 1 production\"))\n",
    "fig.add_trace(go.Scatter(x=plant2_prod.index, y=plant2_prod.values, name=\"Plant 2 production\"))\n",
    "fig.add_trace(go.Scatter(x=plant2_cons.index, y=plant2_cons.values, name=\"Plant 2 consumption\"))\n",
    "fig.update_layout(title=\"Production and consumption\")\n",
    "fig.show()\n",
    "\n",
    "fig = go.Figure()\n",
    "rsv1_head = shop.model.reservoir.rsv1.storage.get()\n",
    "rsv2_head = shop.model.reservoir.rsv2.storage.get()\n",
    "rsv3_head = shop.model.reservoir.rsv3.storage.get()\n",
    "fig.add_trace(go.Scatter(x=rsv1_head.index, y=rsv1_head.values, name=\"Rsv 1 storage\"))\n",
    "fig.add_trace(go.Scatter(x=rsv1_head.index, y=rsv2_head.values, name=\"Rsv 2 storage\"))\n",
    "fig.add_trace(go.Scatter(x=rsv1_head.index, y=rsv3_head.values, name=\"Rsv 3 storage\"))\n",
    "fig.update_layout(title=\"Reservoir storage\")\n",
    "fig.show()"
   ]
  },
  {
   "cell_type": "markdown",
   "id": "f90718a0-dcb9-43e9-802d-c403a64ed8f1",
   "metadata": {},
   "source": [
    "## 2. Tunnel continuous gates\n",
    "The tunnel object can be equiped with gates to limit the flow, either as a continuous gate which can be opearted contiuously or a binary gate that can be operated at predifined positions. In our example, rsv1 is emptied before rsv2 due to the high loss between node 2 and 3. Therfore, it may be beneficial to limit the flow from rsv1 to increase the consumption from rsv2. We assume there is a continous gate installed below rsv1."
   ]
  },
  {
   "cell_type": "code",
   "execution_count": 10,
   "id": "7a4b482c-5a73-4d5e-8809-5f57d437a962",
   "metadata": {},
   "outputs": [],
   "source": [
    "def insert_contiuous_gate(shop):\n",
    "    shop.model.tunnel.t_r1_n1.gate_opening_curve.set(pd.Series([0,1], index=[0,1]))\n",
    "    shop.model.tunnel.t_r1_n1.initial_opening.set(1)\n",
    "    shop.model.tunnel.t_r1_n1.continuous_gate.set(1)"
   ]
  },
  {
   "cell_type": "code",
   "execution_count": 11,
   "id": "ca3aa5f3-98fc-441a-ba35-faaf7ecda57e",
   "metadata": {},
   "outputs": [
    {
     "data": {
      "application/vnd.plotly.v1+json": {
       "config": {
        "plotlyServerURL": "https://plot.ly"
       },
       "data": [
        {
         "name": "Plant 1 production",
         "type": "scatter",
         "x": [
          "2022-04-16T00:00:00",
          "2022-04-16T01:00:00",
          "2022-04-16T02:00:00",
          "2022-04-16T03:00:00",
          "2022-04-16T04:00:00",
          "2022-04-16T05:00:00",
          "2022-04-16T06:00:00",
          "2022-04-16T07:00:00",
          "2022-04-16T08:00:00",
          "2022-04-16T09:00:00",
          "2022-04-16T10:00:00",
          "2022-04-16T11:00:00",
          "2022-04-16T12:00:00",
          "2022-04-16T13:00:00",
          "2022-04-16T14:00:00",
          "2022-04-16T15:00:00",
          "2022-04-16T16:00:00",
          "2022-04-16T17:00:00",
          "2022-04-16T18:00:00",
          "2022-04-16T19:00:00",
          "2022-04-16T20:00:00",
          "2022-04-16T21:00:00",
          "2022-04-16T22:00:00",
          "2022-04-16T23:00:00",
          "2022-04-17T00:00:00",
          "2022-04-17T01:00:00",
          "2022-04-17T02:00:00",
          "2022-04-17T03:00:00",
          "2022-04-17T04:00:00",
          "2022-04-17T05:00:00",
          "2022-04-17T06:00:00",
          "2022-04-17T07:00:00",
          "2022-04-17T08:00:00",
          "2022-04-17T09:00:00",
          "2022-04-17T10:00:00",
          "2022-04-17T11:00:00",
          "2022-04-17T12:00:00",
          "2022-04-17T13:00:00",
          "2022-04-17T14:00:00",
          "2022-04-17T15:00:00",
          "2022-04-17T16:00:00",
          "2022-04-17T17:00:00",
          "2022-04-17T18:00:00",
          "2022-04-17T19:00:00",
          "2022-04-17T20:00:00",
          "2022-04-17T21:00:00",
          "2022-04-17T22:00:00",
          "2022-04-17T23:00:00",
          "2022-04-18T00:00:00",
          "2022-04-18T01:00:00",
          "2022-04-18T02:00:00",
          "2022-04-18T03:00:00",
          "2022-04-18T04:00:00",
          "2022-04-18T05:00:00",
          "2022-04-18T06:00:00",
          "2022-04-18T07:00:00",
          "2022-04-18T08:00:00",
          "2022-04-18T09:00:00",
          "2022-04-18T10:00:00",
          "2022-04-18T11:00:00",
          "2022-04-18T12:00:00",
          "2022-04-18T13:00:00",
          "2022-04-18T14:00:00",
          "2022-04-18T15:00:00",
          "2022-04-18T16:00:00",
          "2022-04-18T17:00:00",
          "2022-04-18T18:00:00",
          "2022-04-18T19:00:00",
          "2022-04-18T20:00:00",
          "2022-04-18T21:00:00",
          "2022-04-18T22:00:00",
          "2022-04-18T23:00:00"
         ],
         "y": [
          41.43014454290712,
          30.0670307456785,
          29.016536106337643,
          28.794792750000315,
          28.837441285786117,
          29.861460273511575,
          28.839386141641196,
          28.73807217404163,
          28.77676469118375,
          28.979045221165578,
          28.885096626869668,
          28.8726593941426,
          28.78743018632289,
          28.84642186334911,
          30.292701475287732,
          0,
          0,
          9.347144884740484,
          30.04007937279703,
          30.033808992935622,
          29.77226667788118,
          28.76357583283451,
          28.74336196720153,
          31.496977999104512,
          29.355144484335394,
          28.982966657428804,
          29.0947141125019,
          30.350886853326347,
          30.29146038739995,
          30.26951103218081,
          29.84885822360598,
          29.811539029779606,
          17.950758845782662,
          29.161477779551323,
          29.64850596580744,
          28.89684497466137,
          28.83633954132101,
          0,
          0,
          0,
          0,
          0,
          30.197443503580153,
          30.065973058562122,
          29.52183973132278,
          28.438275616100004,
          30.84218471570567,
          29.29130247239304,
          0,
          0,
          0,
          0,
          0,
          0,
          0,
          30.245855201716722,
          30.640853222735934,
          30.3016147913681,
          30.0220103331543,
          29.547210573420905,
          29.441994455469924,
          0,
          0,
          0,
          30.3455933687086,
          30.893899456568477,
          29.299769069046594,
          29.088779866900627,
          32.12858681559638,
          28.370951873137624,
          30.798416491265257,
          29.087014231419747
         ]
        },
        {
         "name": "Plant 2 production",
         "type": "scatter",
         "x": [
          "2022-04-16T00:00:00",
          "2022-04-16T01:00:00",
          "2022-04-16T02:00:00",
          "2022-04-16T03:00:00",
          "2022-04-16T04:00:00",
          "2022-04-16T05:00:00",
          "2022-04-16T06:00:00",
          "2022-04-16T07:00:00",
          "2022-04-16T08:00:00",
          "2022-04-16T09:00:00",
          "2022-04-16T10:00:00",
          "2022-04-16T11:00:00",
          "2022-04-16T12:00:00",
          "2022-04-16T13:00:00",
          "2022-04-16T14:00:00",
          "2022-04-16T15:00:00",
          "2022-04-16T16:00:00",
          "2022-04-16T17:00:00",
          "2022-04-16T18:00:00",
          "2022-04-16T19:00:00",
          "2022-04-16T20:00:00",
          "2022-04-16T21:00:00",
          "2022-04-16T22:00:00",
          "2022-04-16T23:00:00",
          "2022-04-17T00:00:00",
          "2022-04-17T01:00:00",
          "2022-04-17T02:00:00",
          "2022-04-17T03:00:00",
          "2022-04-17T04:00:00",
          "2022-04-17T05:00:00",
          "2022-04-17T06:00:00",
          "2022-04-17T07:00:00",
          "2022-04-17T08:00:00",
          "2022-04-17T09:00:00",
          "2022-04-17T10:00:00",
          "2022-04-17T11:00:00",
          "2022-04-17T12:00:00",
          "2022-04-17T13:00:00",
          "2022-04-17T14:00:00",
          "2022-04-17T15:00:00",
          "2022-04-17T16:00:00",
          "2022-04-17T17:00:00",
          "2022-04-17T18:00:00",
          "2022-04-17T19:00:00",
          "2022-04-17T20:00:00",
          "2022-04-17T21:00:00",
          "2022-04-17T22:00:00",
          "2022-04-17T23:00:00",
          "2022-04-18T00:00:00",
          "2022-04-18T01:00:00",
          "2022-04-18T02:00:00",
          "2022-04-18T03:00:00",
          "2022-04-18T04:00:00",
          "2022-04-18T05:00:00",
          "2022-04-18T06:00:00",
          "2022-04-18T07:00:00",
          "2022-04-18T08:00:00",
          "2022-04-18T09:00:00",
          "2022-04-18T10:00:00",
          "2022-04-18T11:00:00",
          "2022-04-18T12:00:00",
          "2022-04-18T13:00:00",
          "2022-04-18T14:00:00",
          "2022-04-18T15:00:00",
          "2022-04-18T16:00:00",
          "2022-04-18T17:00:00",
          "2022-04-18T18:00:00",
          "2022-04-18T19:00:00",
          "2022-04-18T20:00:00",
          "2022-04-18T21:00:00",
          "2022-04-18T22:00:00",
          "2022-04-18T23:00:00"
         ],
         "y": [
          0,
          0,
          0,
          0,
          0,
          0,
          0,
          0,
          0,
          0,
          0,
          0,
          0,
          0,
          0,
          0,
          0,
          0,
          0,
          0,
          0,
          0,
          0,
          0,
          0,
          0,
          0,
          0,
          0,
          0,
          0,
          0,
          0,
          0,
          0,
          0,
          0,
          0,
          0,
          0,
          0,
          0,
          0,
          0,
          0,
          0,
          0,
          0,
          0,
          0,
          0,
          0,
          0,
          0,
          0,
          0,
          0,
          0,
          0,
          0,
          0,
          0,
          0,
          0,
          0,
          0,
          0,
          0,
          0,
          0,
          0,
          0
         ]
        },
        {
         "name": "Plant 2 consumption",
         "type": "scatter",
         "x": [
          "2022-04-16T00:00:00",
          "2022-04-16T01:00:00",
          "2022-04-16T02:00:00",
          "2022-04-16T03:00:00",
          "2022-04-16T04:00:00",
          "2022-04-16T05:00:00",
          "2022-04-16T06:00:00",
          "2022-04-16T07:00:00",
          "2022-04-16T08:00:00",
          "2022-04-16T09:00:00",
          "2022-04-16T10:00:00",
          "2022-04-16T11:00:00",
          "2022-04-16T12:00:00",
          "2022-04-16T13:00:00",
          "2022-04-16T14:00:00",
          "2022-04-16T15:00:00",
          "2022-04-16T16:00:00",
          "2022-04-16T17:00:00",
          "2022-04-16T18:00:00",
          "2022-04-16T19:00:00",
          "2022-04-16T20:00:00",
          "2022-04-16T21:00:00",
          "2022-04-16T22:00:00",
          "2022-04-16T23:00:00",
          "2022-04-17T00:00:00",
          "2022-04-17T01:00:00",
          "2022-04-17T02:00:00",
          "2022-04-17T03:00:00",
          "2022-04-17T04:00:00",
          "2022-04-17T05:00:00",
          "2022-04-17T06:00:00",
          "2022-04-17T07:00:00",
          "2022-04-17T08:00:00",
          "2022-04-17T09:00:00",
          "2022-04-17T10:00:00",
          "2022-04-17T11:00:00",
          "2022-04-17T12:00:00",
          "2022-04-17T13:00:00",
          "2022-04-17T14:00:00",
          "2022-04-17T15:00:00",
          "2022-04-17T16:00:00",
          "2022-04-17T17:00:00",
          "2022-04-17T18:00:00",
          "2022-04-17T19:00:00",
          "2022-04-17T20:00:00",
          "2022-04-17T21:00:00",
          "2022-04-17T22:00:00",
          "2022-04-17T23:00:00",
          "2022-04-18T00:00:00",
          "2022-04-18T01:00:00",
          "2022-04-18T02:00:00",
          "2022-04-18T03:00:00",
          "2022-04-18T04:00:00",
          "2022-04-18T05:00:00",
          "2022-04-18T06:00:00",
          "2022-04-18T07:00:00",
          "2022-04-18T08:00:00",
          "2022-04-18T09:00:00",
          "2022-04-18T10:00:00",
          "2022-04-18T11:00:00",
          "2022-04-18T12:00:00",
          "2022-04-18T13:00:00",
          "2022-04-18T14:00:00",
          "2022-04-18T15:00:00",
          "2022-04-18T16:00:00",
          "2022-04-18T17:00:00",
          "2022-04-18T18:00:00",
          "2022-04-18T19:00:00",
          "2022-04-18T20:00:00",
          "2022-04-18T21:00:00",
          "2022-04-18T22:00:00",
          "2022-04-18T23:00:00"
         ],
         "y": [
          34.59201491345886,
          47.18017537632291,
          46.324824593542004,
          45.666077407490214,
          45.76812978948952,
          42.44279691520041,
          37.45904599532732,
          42.474391122751555,
          37.37887118324312,
          36.977452091294374,
          46.170687585978584,
          46.26190780577174,
          47.82499952495195,
          47.85126391323424,
          48.08098935575575,
          48.23811817803094,
          48.413794942650206,
          48.28281290890621,
          42.97940750202243,
          17.732683573677907,
          0,
          11.962244221148039,
          16.386547165703497,
          32.297858123129615,
          37.05514029766966,
          46.26029374800748,
          47.580943356048934,
          47.499424303910246,
          47.454763384241886,
          47.60021816253471,
          47.41074624222931,
          47.32245153380792,
          48.25145938895455,
          43.46459249622349,
          37.14613857126927,
          37.66389462218853,
          46.24879672929541,
          47.57277575004703,
          47.5393239956399,
          47.70952536515921,
          47.75476423213795,
          47.79904551474523,
          17.013902049335726,
          0,
          0,
          0,
          0,
          0,
          47.14372013195341,
          47.157445158782515,
          47.18921787800189,
          47.30689112659257,
          47.356709751314284,
          47.40769526569417,
          47.458800942115644,
          47.2448324656232,
          47.38028103076686,
          47.17457019668273,
          0,
          9.299699327260821,
          22.063841719071146,
          47.1314283943389,
          47.144779488016695,
          47.25654234950044,
          47.0918230990071,
          11.392699253958396,
          0,
          0,
          0,
          0,
          0,
          0
         ]
        }
       ],
       "layout": {
        "template": {
         "data": {
          "bar": [
           {
            "error_x": {
             "color": "#2a3f5f"
            },
            "error_y": {
             "color": "#2a3f5f"
            },
            "marker": {
             "line": {
              "color": "#E5ECF6",
              "width": 0.5
             },
             "pattern": {
              "fillmode": "overlay",
              "size": 10,
              "solidity": 0.2
             }
            },
            "type": "bar"
           }
          ],
          "barpolar": [
           {
            "marker": {
             "line": {
              "color": "#E5ECF6",
              "width": 0.5
             },
             "pattern": {
              "fillmode": "overlay",
              "size": 10,
              "solidity": 0.2
             }
            },
            "type": "barpolar"
           }
          ],
          "carpet": [
           {
            "aaxis": {
             "endlinecolor": "#2a3f5f",
             "gridcolor": "white",
             "linecolor": "white",
             "minorgridcolor": "white",
             "startlinecolor": "#2a3f5f"
            },
            "baxis": {
             "endlinecolor": "#2a3f5f",
             "gridcolor": "white",
             "linecolor": "white",
             "minorgridcolor": "white",
             "startlinecolor": "#2a3f5f"
            },
            "type": "carpet"
           }
          ],
          "choropleth": [
           {
            "colorbar": {
             "outlinewidth": 0,
             "ticks": ""
            },
            "type": "choropleth"
           }
          ],
          "contour": [
           {
            "colorbar": {
             "outlinewidth": 0,
             "ticks": ""
            },
            "colorscale": [
             [
              0,
              "#0d0887"
             ],
             [
              0.1111111111111111,
              "#46039f"
             ],
             [
              0.2222222222222222,
              "#7201a8"
             ],
             [
              0.3333333333333333,
              "#9c179e"
             ],
             [
              0.4444444444444444,
              "#bd3786"
             ],
             [
              0.5555555555555556,
              "#d8576b"
             ],
             [
              0.6666666666666666,
              "#ed7953"
             ],
             [
              0.7777777777777778,
              "#fb9f3a"
             ],
             [
              0.8888888888888888,
              "#fdca26"
             ],
             [
              1,
              "#f0f921"
             ]
            ],
            "type": "contour"
           }
          ],
          "contourcarpet": [
           {
            "colorbar": {
             "outlinewidth": 0,
             "ticks": ""
            },
            "type": "contourcarpet"
           }
          ],
          "heatmap": [
           {
            "colorbar": {
             "outlinewidth": 0,
             "ticks": ""
            },
            "colorscale": [
             [
              0,
              "#0d0887"
             ],
             [
              0.1111111111111111,
              "#46039f"
             ],
             [
              0.2222222222222222,
              "#7201a8"
             ],
             [
              0.3333333333333333,
              "#9c179e"
             ],
             [
              0.4444444444444444,
              "#bd3786"
             ],
             [
              0.5555555555555556,
              "#d8576b"
             ],
             [
              0.6666666666666666,
              "#ed7953"
             ],
             [
              0.7777777777777778,
              "#fb9f3a"
             ],
             [
              0.8888888888888888,
              "#fdca26"
             ],
             [
              1,
              "#f0f921"
             ]
            ],
            "type": "heatmap"
           }
          ],
          "heatmapgl": [
           {
            "colorbar": {
             "outlinewidth": 0,
             "ticks": ""
            },
            "colorscale": [
             [
              0,
              "#0d0887"
             ],
             [
              0.1111111111111111,
              "#46039f"
             ],
             [
              0.2222222222222222,
              "#7201a8"
             ],
             [
              0.3333333333333333,
              "#9c179e"
             ],
             [
              0.4444444444444444,
              "#bd3786"
             ],
             [
              0.5555555555555556,
              "#d8576b"
             ],
             [
              0.6666666666666666,
              "#ed7953"
             ],
             [
              0.7777777777777778,
              "#fb9f3a"
             ],
             [
              0.8888888888888888,
              "#fdca26"
             ],
             [
              1,
              "#f0f921"
             ]
            ],
            "type": "heatmapgl"
           }
          ],
          "histogram": [
           {
            "marker": {
             "pattern": {
              "fillmode": "overlay",
              "size": 10,
              "solidity": 0.2
             }
            },
            "type": "histogram"
           }
          ],
          "histogram2d": [
           {
            "colorbar": {
             "outlinewidth": 0,
             "ticks": ""
            },
            "colorscale": [
             [
              0,
              "#0d0887"
             ],
             [
              0.1111111111111111,
              "#46039f"
             ],
             [
              0.2222222222222222,
              "#7201a8"
             ],
             [
              0.3333333333333333,
              "#9c179e"
             ],
             [
              0.4444444444444444,
              "#bd3786"
             ],
             [
              0.5555555555555556,
              "#d8576b"
             ],
             [
              0.6666666666666666,
              "#ed7953"
             ],
             [
              0.7777777777777778,
              "#fb9f3a"
             ],
             [
              0.8888888888888888,
              "#fdca26"
             ],
             [
              1,
              "#f0f921"
             ]
            ],
            "type": "histogram2d"
           }
          ],
          "histogram2dcontour": [
           {
            "colorbar": {
             "outlinewidth": 0,
             "ticks": ""
            },
            "colorscale": [
             [
              0,
              "#0d0887"
             ],
             [
              0.1111111111111111,
              "#46039f"
             ],
             [
              0.2222222222222222,
              "#7201a8"
             ],
             [
              0.3333333333333333,
              "#9c179e"
             ],
             [
              0.4444444444444444,
              "#bd3786"
             ],
             [
              0.5555555555555556,
              "#d8576b"
             ],
             [
              0.6666666666666666,
              "#ed7953"
             ],
             [
              0.7777777777777778,
              "#fb9f3a"
             ],
             [
              0.8888888888888888,
              "#fdca26"
             ],
             [
              1,
              "#f0f921"
             ]
            ],
            "type": "histogram2dcontour"
           }
          ],
          "mesh3d": [
           {
            "colorbar": {
             "outlinewidth": 0,
             "ticks": ""
            },
            "type": "mesh3d"
           }
          ],
          "parcoords": [
           {
            "line": {
             "colorbar": {
              "outlinewidth": 0,
              "ticks": ""
             }
            },
            "type": "parcoords"
           }
          ],
          "pie": [
           {
            "automargin": true,
            "type": "pie"
           }
          ],
          "scatter": [
           {
            "marker": {
             "colorbar": {
              "outlinewidth": 0,
              "ticks": ""
             }
            },
            "type": "scatter"
           }
          ],
          "scatter3d": [
           {
            "line": {
             "colorbar": {
              "outlinewidth": 0,
              "ticks": ""
             }
            },
            "marker": {
             "colorbar": {
              "outlinewidth": 0,
              "ticks": ""
             }
            },
            "type": "scatter3d"
           }
          ],
          "scattercarpet": [
           {
            "marker": {
             "colorbar": {
              "outlinewidth": 0,
              "ticks": ""
             }
            },
            "type": "scattercarpet"
           }
          ],
          "scattergeo": [
           {
            "marker": {
             "colorbar": {
              "outlinewidth": 0,
              "ticks": ""
             }
            },
            "type": "scattergeo"
           }
          ],
          "scattergl": [
           {
            "marker": {
             "colorbar": {
              "outlinewidth": 0,
              "ticks": ""
             }
            },
            "type": "scattergl"
           }
          ],
          "scattermapbox": [
           {
            "marker": {
             "colorbar": {
              "outlinewidth": 0,
              "ticks": ""
             }
            },
            "type": "scattermapbox"
           }
          ],
          "scatterpolar": [
           {
            "marker": {
             "colorbar": {
              "outlinewidth": 0,
              "ticks": ""
             }
            },
            "type": "scatterpolar"
           }
          ],
          "scatterpolargl": [
           {
            "marker": {
             "colorbar": {
              "outlinewidth": 0,
              "ticks": ""
             }
            },
            "type": "scatterpolargl"
           }
          ],
          "scatterternary": [
           {
            "marker": {
             "colorbar": {
              "outlinewidth": 0,
              "ticks": ""
             }
            },
            "type": "scatterternary"
           }
          ],
          "surface": [
           {
            "colorbar": {
             "outlinewidth": 0,
             "ticks": ""
            },
            "colorscale": [
             [
              0,
              "#0d0887"
             ],
             [
              0.1111111111111111,
              "#46039f"
             ],
             [
              0.2222222222222222,
              "#7201a8"
             ],
             [
              0.3333333333333333,
              "#9c179e"
             ],
             [
              0.4444444444444444,
              "#bd3786"
             ],
             [
              0.5555555555555556,
              "#d8576b"
             ],
             [
              0.6666666666666666,
              "#ed7953"
             ],
             [
              0.7777777777777778,
              "#fb9f3a"
             ],
             [
              0.8888888888888888,
              "#fdca26"
             ],
             [
              1,
              "#f0f921"
             ]
            ],
            "type": "surface"
           }
          ],
          "table": [
           {
            "cells": {
             "fill": {
              "color": "#EBF0F8"
             },
             "line": {
              "color": "white"
             }
            },
            "header": {
             "fill": {
              "color": "#C8D4E3"
             },
             "line": {
              "color": "white"
             }
            },
            "type": "table"
           }
          ]
         },
         "layout": {
          "annotationdefaults": {
           "arrowcolor": "#2a3f5f",
           "arrowhead": 0,
           "arrowwidth": 1
          },
          "autotypenumbers": "strict",
          "coloraxis": {
           "colorbar": {
            "outlinewidth": 0,
            "ticks": ""
           }
          },
          "colorscale": {
           "diverging": [
            [
             0,
             "#8e0152"
            ],
            [
             0.1,
             "#c51b7d"
            ],
            [
             0.2,
             "#de77ae"
            ],
            [
             0.3,
             "#f1b6da"
            ],
            [
             0.4,
             "#fde0ef"
            ],
            [
             0.5,
             "#f7f7f7"
            ],
            [
             0.6,
             "#e6f5d0"
            ],
            [
             0.7,
             "#b8e186"
            ],
            [
             0.8,
             "#7fbc41"
            ],
            [
             0.9,
             "#4d9221"
            ],
            [
             1,
             "#276419"
            ]
           ],
           "sequential": [
            [
             0,
             "#0d0887"
            ],
            [
             0.1111111111111111,
             "#46039f"
            ],
            [
             0.2222222222222222,
             "#7201a8"
            ],
            [
             0.3333333333333333,
             "#9c179e"
            ],
            [
             0.4444444444444444,
             "#bd3786"
            ],
            [
             0.5555555555555556,
             "#d8576b"
            ],
            [
             0.6666666666666666,
             "#ed7953"
            ],
            [
             0.7777777777777778,
             "#fb9f3a"
            ],
            [
             0.8888888888888888,
             "#fdca26"
            ],
            [
             1,
             "#f0f921"
            ]
           ],
           "sequentialminus": [
            [
             0,
             "#0d0887"
            ],
            [
             0.1111111111111111,
             "#46039f"
            ],
            [
             0.2222222222222222,
             "#7201a8"
            ],
            [
             0.3333333333333333,
             "#9c179e"
            ],
            [
             0.4444444444444444,
             "#bd3786"
            ],
            [
             0.5555555555555556,
             "#d8576b"
            ],
            [
             0.6666666666666666,
             "#ed7953"
            ],
            [
             0.7777777777777778,
             "#fb9f3a"
            ],
            [
             0.8888888888888888,
             "#fdca26"
            ],
            [
             1,
             "#f0f921"
            ]
           ]
          },
          "colorway": [
           "#636efa",
           "#EF553B",
           "#00cc96",
           "#ab63fa",
           "#FFA15A",
           "#19d3f3",
           "#FF6692",
           "#B6E880",
           "#FF97FF",
           "#FECB52"
          ],
          "font": {
           "color": "#2a3f5f"
          },
          "geo": {
           "bgcolor": "white",
           "lakecolor": "white",
           "landcolor": "#E5ECF6",
           "showlakes": true,
           "showland": true,
           "subunitcolor": "white"
          },
          "hoverlabel": {
           "align": "left"
          },
          "hovermode": "closest",
          "mapbox": {
           "style": "light"
          },
          "paper_bgcolor": "white",
          "plot_bgcolor": "#E5ECF6",
          "polar": {
           "angularaxis": {
            "gridcolor": "white",
            "linecolor": "white",
            "ticks": ""
           },
           "bgcolor": "#E5ECF6",
           "radialaxis": {
            "gridcolor": "white",
            "linecolor": "white",
            "ticks": ""
           }
          },
          "scene": {
           "xaxis": {
            "backgroundcolor": "#E5ECF6",
            "gridcolor": "white",
            "gridwidth": 2,
            "linecolor": "white",
            "showbackground": true,
            "ticks": "",
            "zerolinecolor": "white"
           },
           "yaxis": {
            "backgroundcolor": "#E5ECF6",
            "gridcolor": "white",
            "gridwidth": 2,
            "linecolor": "white",
            "showbackground": true,
            "ticks": "",
            "zerolinecolor": "white"
           },
           "zaxis": {
            "backgroundcolor": "#E5ECF6",
            "gridcolor": "white",
            "gridwidth": 2,
            "linecolor": "white",
            "showbackground": true,
            "ticks": "",
            "zerolinecolor": "white"
           }
          },
          "shapedefaults": {
           "line": {
            "color": "#2a3f5f"
           }
          },
          "ternary": {
           "aaxis": {
            "gridcolor": "white",
            "linecolor": "white",
            "ticks": ""
           },
           "baxis": {
            "gridcolor": "white",
            "linecolor": "white",
            "ticks": ""
           },
           "bgcolor": "#E5ECF6",
           "caxis": {
            "gridcolor": "white",
            "linecolor": "white",
            "ticks": ""
           }
          },
          "title": {
           "x": 0.05
          },
          "xaxis": {
           "automargin": true,
           "gridcolor": "white",
           "linecolor": "white",
           "ticks": "",
           "title": {
            "standoff": 15
           },
           "zerolinecolor": "white",
           "zerolinewidth": 2
          },
          "yaxis": {
           "automargin": true,
           "gridcolor": "white",
           "linecolor": "white",
           "ticks": "",
           "title": {
            "standoff": 15
           },
           "zerolinecolor": "white",
           "zerolinewidth": 2
          }
         }
        },
        "title": {
         "text": "Production and consumption"
        }
       }
      }
     },
     "metadata": {},
     "output_type": "display_data"
    },
    {
     "data": {
      "application/vnd.plotly.v1+json": {
       "config": {
        "plotlyServerURL": "https://plot.ly"
       },
       "data": [
        {
         "name": "Rsv 1 storage",
         "type": "scatter",
         "x": [
          "2022-04-16T00:00:00",
          "2022-04-16T01:00:00",
          "2022-04-16T02:00:00",
          "2022-04-16T03:00:00",
          "2022-04-16T04:00:00",
          "2022-04-16T05:00:00",
          "2022-04-16T06:00:00",
          "2022-04-16T07:00:00",
          "2022-04-16T08:00:00",
          "2022-04-16T09:00:00",
          "2022-04-16T10:00:00",
          "2022-04-16T11:00:00",
          "2022-04-16T12:00:00",
          "2022-04-16T13:00:00",
          "2022-04-16T14:00:00",
          "2022-04-16T15:00:00",
          "2022-04-16T16:00:00",
          "2022-04-16T17:00:00",
          "2022-04-16T18:00:00",
          "2022-04-16T19:00:00",
          "2022-04-16T20:00:00",
          "2022-04-16T21:00:00",
          "2022-04-16T22:00:00",
          "2022-04-16T23:00:00",
          "2022-04-17T00:00:00",
          "2022-04-17T01:00:00",
          "2022-04-17T02:00:00",
          "2022-04-17T03:00:00",
          "2022-04-17T04:00:00",
          "2022-04-17T05:00:00",
          "2022-04-17T06:00:00",
          "2022-04-17T07:00:00",
          "2022-04-17T08:00:00",
          "2022-04-17T09:00:00",
          "2022-04-17T10:00:00",
          "2022-04-17T11:00:00",
          "2022-04-17T12:00:00",
          "2022-04-17T13:00:00",
          "2022-04-17T14:00:00",
          "2022-04-17T15:00:00",
          "2022-04-17T16:00:00",
          "2022-04-17T17:00:00",
          "2022-04-17T18:00:00",
          "2022-04-17T19:00:00",
          "2022-04-17T20:00:00",
          "2022-04-17T21:00:00",
          "2022-04-17T22:00:00",
          "2022-04-17T23:00:00",
          "2022-04-18T00:00:00",
          "2022-04-18T01:00:00",
          "2022-04-18T02:00:00",
          "2022-04-18T03:00:00",
          "2022-04-18T04:00:00",
          "2022-04-18T05:00:00",
          "2022-04-18T06:00:00",
          "2022-04-18T07:00:00",
          "2022-04-18T08:00:00",
          "2022-04-18T09:00:00",
          "2022-04-18T10:00:00",
          "2022-04-18T11:00:00",
          "2022-04-18T12:00:00",
          "2022-04-18T13:00:00",
          "2022-04-18T14:00:00",
          "2022-04-18T15:00:00",
          "2022-04-18T16:00:00",
          "2022-04-18T17:00:00",
          "2022-04-18T18:00:00",
          "2022-04-18T19:00:00",
          "2022-04-18T20:00:00",
          "2022-04-18T21:00:00",
          "2022-04-18T22:00:00",
          "2022-04-18T23:00:00",
          "2022-04-19T00:00:00"
         ],
         "y": [
          6,
          5.99999547369606,
          5.8585060167848955,
          5.817201559808405,
          5.817198999713736,
          5.817196646916176,
          5.789370919904348,
          5.787056983043579,
          5.787054431095345,
          5.787051611612304,
          5.787048917135053,
          5.78704662669756,
          5.787044493444864,
          5.787042509549201,
          5.787040594984506,
          5.763031817561034,
          5.877031639337917,
          6.0040765136900065,
          6.09171131029351,
          6.250414663252047,
          6.162105919011902,
          6.142674320249029,
          6.150897679521637,
          6.150895027142559,
          6.150891968524633,
          6.150889232730885,
          6.150887150956652,
          6.150885341166514,
          6.128838131147847,
          6.127915993099623,
          6.164370216760335,
          6.200406554272774,
          6.382404418793999,
          6.502581850290193,
          6.502579499229415,
          6.50257723683813,
          6.502574993407592,
          6.502573068187144,
          6.5990005251825945,
          6.704501999621238,
          6.830963878200658,
          6.955606562736722,
          7.080134954507241,
          7.073280067708515,
          7.096102667664536,
          7.047583677137942,
          7.0574218155681026,
          7.057418610465879,
          7.057415864986797,
          7.148720402966324,
          7.26715843843624,
          7.372625999386708,
          7.494728703195728,
          7.614999995101601,
          7.735101370181445,
          7.854971055521366,
          7.860477298372939,
          8.115856342811934,
          8.118435885106816,
          8.229081054707796,
          8.176758425884117,
          8.176755932752945,
          8.265723920618985,
          8.378164600892195,
          8.48062000079097,
          8.483529978159169,
          8.713262721777335,
          8.685818939440162,
          8.685816125607692,
          8.6858129612688,
          8.68581007512642,
          8.685806644082316,
          8.685803487639367
         ]
        },
        {
         "name": "Rsv 2 storage",
         "type": "scatter",
         "x": [
          "2022-04-16T00:00:00",
          "2022-04-16T01:00:00",
          "2022-04-16T02:00:00",
          "2022-04-16T03:00:00",
          "2022-04-16T04:00:00",
          "2022-04-16T05:00:00",
          "2022-04-16T06:00:00",
          "2022-04-16T07:00:00",
          "2022-04-16T08:00:00",
          "2022-04-16T09:00:00",
          "2022-04-16T10:00:00",
          "2022-04-16T11:00:00",
          "2022-04-16T12:00:00",
          "2022-04-16T13:00:00",
          "2022-04-16T14:00:00",
          "2022-04-16T15:00:00",
          "2022-04-16T16:00:00",
          "2022-04-16T17:00:00",
          "2022-04-16T18:00:00",
          "2022-04-16T19:00:00",
          "2022-04-16T20:00:00",
          "2022-04-16T21:00:00",
          "2022-04-16T22:00:00",
          "2022-04-16T23:00:00",
          "2022-04-17T00:00:00",
          "2022-04-17T01:00:00",
          "2022-04-17T02:00:00",
          "2022-04-17T03:00:00",
          "2022-04-17T04:00:00",
          "2022-04-17T05:00:00",
          "2022-04-17T06:00:00",
          "2022-04-17T07:00:00",
          "2022-04-17T08:00:00",
          "2022-04-17T09:00:00",
          "2022-04-17T10:00:00",
          "2022-04-17T11:00:00",
          "2022-04-17T12:00:00",
          "2022-04-17T13:00:00",
          "2022-04-17T14:00:00",
          "2022-04-17T15:00:00",
          "2022-04-17T16:00:00",
          "2022-04-17T17:00:00",
          "2022-04-17T18:00:00",
          "2022-04-17T19:00:00",
          "2022-04-17T20:00:00",
          "2022-04-17T21:00:00",
          "2022-04-17T22:00:00",
          "2022-04-17T23:00:00",
          "2022-04-18T00:00:00",
          "2022-04-18T01:00:00",
          "2022-04-18T02:00:00",
          "2022-04-18T03:00:00",
          "2022-04-18T04:00:00",
          "2022-04-18T05:00:00",
          "2022-04-18T06:00:00",
          "2022-04-18T07:00:00",
          "2022-04-18T08:00:00",
          "2022-04-18T09:00:00",
          "2022-04-18T10:00:00",
          "2022-04-18T11:00:00",
          "2022-04-18T12:00:00",
          "2022-04-18T13:00:00",
          "2022-04-18T14:00:00",
          "2022-04-18T15:00:00",
          "2022-04-18T16:00:00",
          "2022-04-18T17:00:00",
          "2022-04-18T18:00:00",
          "2022-04-18T19:00:00",
          "2022-04-18T20:00:00",
          "2022-04-18T21:00:00",
          "2022-04-18T22:00:00",
          "2022-04-18T23:00:00",
          "2022-04-19T00:00:00"
         ],
         "y": [
          6,
          6.026104515115191,
          6.32444332530901,
          6.548664142575001,
          6.723830314938715,
          6.897132280343328,
          7.0649818577652805,
          7.1779433435748725,
          7.318851143778607,
          7.426838568822802,
          7.526736358304936,
          7.69030436045976,
          7.858851125622493,
          8.037388817390195,
          8.215660914415349,
          8.407527469467231,
          8.592916348220928,
          8.772416576978406,
          8.948244047073269,
          8.925155786046446,
          8.985633339441057,
          8.904071040462696,
          8.825492885930611,
          8.780335979017684,
          8.822414680424185,
          8.907888781086546,
          9.06283138635053,
          9.230887929973886,
          9.409887358995212,
          9.568598029433764,
          9.687536680918395,
          9.807650733440806,
          9.780962048598685,
          9.872096274158206,
          10.01334633793034,
          10.099576642186253,
          10.188591533249939,
          10.332302550081721,
          10.51342932220462,
          10.694775340391692,
          10.852678274551186,
          11.011956678123529,
          11.17073743989414,
          11.150648489954648,
          10.994004774737647,
          10.905921057282308,
          10.760952628402123,
          10.613764416747722,
          10.47135391287693,
          10.635028514076907,
          10.803255349910387,
          10.980240566007126,
          11.140293954230675,
          11.30165790464913,
          11.462456320808736,
          11.62269394654984,
          11.768421124367716,
          11.651405270084775,
          11.790131851686931,
          11.559910766945876,
          11.523736846037513,
          11.501026750811292,
          11.667737979514362,
          11.834582523403174,
          11.899290428711197,
          12.089349174566792,
          11.852707532297666,
          11.750573646116607,
          11.612979178428702,
          11.460668145427928,
          11.320027030837178,
          11.171212160552017,
          11.029190980423493
         ]
        },
        {
         "name": "Rsv 3 storage",
         "type": "scatter",
         "x": [
          "2022-04-16T00:00:00",
          "2022-04-16T01:00:00",
          "2022-04-16T02:00:00",
          "2022-04-16T03:00:00",
          "2022-04-16T04:00:00",
          "2022-04-16T05:00:00",
          "2022-04-16T06:00:00",
          "2022-04-16T07:00:00",
          "2022-04-16T08:00:00",
          "2022-04-16T09:00:00",
          "2022-04-16T10:00:00",
          "2022-04-16T11:00:00",
          "2022-04-16T12:00:00",
          "2022-04-16T13:00:00",
          "2022-04-16T14:00:00",
          "2022-04-16T15:00:00",
          "2022-04-16T16:00:00",
          "2022-04-16T17:00:00",
          "2022-04-16T18:00:00",
          "2022-04-16T19:00:00",
          "2022-04-16T20:00:00",
          "2022-04-16T21:00:00",
          "2022-04-16T22:00:00",
          "2022-04-16T23:00:00",
          "2022-04-17T00:00:00",
          "2022-04-17T01:00:00",
          "2022-04-17T02:00:00",
          "2022-04-17T03:00:00",
          "2022-04-17T04:00:00",
          "2022-04-17T05:00:00",
          "2022-04-17T06:00:00",
          "2022-04-17T07:00:00",
          "2022-04-17T08:00:00",
          "2022-04-17T09:00:00",
          "2022-04-17T10:00:00",
          "2022-04-17T11:00:00",
          "2022-04-17T12:00:00",
          "2022-04-17T13:00:00",
          "2022-04-17T14:00:00",
          "2022-04-17T15:00:00",
          "2022-04-17T16:00:00",
          "2022-04-17T17:00:00",
          "2022-04-17T18:00:00",
          "2022-04-17T19:00:00",
          "2022-04-17T20:00:00",
          "2022-04-17T21:00:00",
          "2022-04-17T22:00:00",
          "2022-04-17T23:00:00",
          "2022-04-18T00:00:00",
          "2022-04-18T01:00:00",
          "2022-04-18T02:00:00",
          "2022-04-18T03:00:00",
          "2022-04-18T04:00:00",
          "2022-04-18T05:00:00",
          "2022-04-18T06:00:00",
          "2022-04-18T07:00:00",
          "2022-04-18T08:00:00",
          "2022-04-18T09:00:00",
          "2022-04-18T10:00:00",
          "2022-04-18T11:00:00",
          "2022-04-18T12:00:00",
          "2022-04-18T13:00:00",
          "2022-04-18T14:00:00",
          "2022-04-18T15:00:00",
          "2022-04-18T16:00:00",
          "2022-04-18T17:00:00",
          "2022-04-18T18:00:00",
          "2022-04-18T19:00:00",
          "2022-04-18T20:00:00",
          "2022-04-18T21:00:00",
          "2022-04-18T22:00:00",
          "2022-04-18T23:00:00",
          "2022-04-19T00:00:00"
         ],
         "y": [
          6,
          5.937007828382439,
          5.7933767917317684,
          5.65293587268562,
          5.519393801217614,
          5.386868439991886,
          5.286273161082603,
          5.220151558342485,
          5.116825170365676,
          5.052864537760885,
          4.992486394400164,
          4.864278305700436,
          4.737230655264123,
          4.600093948252104,
          4.464568675160374,
          4.335525569624537,
          4.208280225663347,
          4.08136662104179,
          3.9565062110764475,
          3.8698952959601525,
          3.9495763342494556,
          4.0955701278319125,
          4.207113284711177,
          4.292854474023054,
          4.2729820923936614,
          4.221122682756513,
          4.103915430863446,
          3.978649608686927,
          3.861210155382304,
          3.74546911341221,
          3.629958013267527,
          3.5165029196383104,
          3.4044261345334093,
          3.2875130489616526,
          3.2004689436632128,
          3.1570570964462035,
          3.1109036793978606,
          3.0058661607240444,
          2.8988990868808573,
          2.793504716608559,
          2.688244890900858,
          2.583889088902975,
          2.480437516530381,
          2.5700613838769724,
          2.7500613838769725,
          2.9300613838769727,
          3.110061383876973,
          3.290061383876973,
          3.470061383876973,
          3.364757557426574,
          3.260637937113161,
          3.1575498106690114,
          3.054918476981659,
          2.9531437249956864,
          2.8522116104488884,
          2.752108999261206,
          2.653286220443428,
          2.5546952138432717,
          2.4573770823125494,
          2.6373770823125495,
          2.7673800733974265,
          2.8259774824984136,
          2.728584754457964,
          2.6322861502212076,
          2.5363849002590966,
          2.441181850816142,
          2.561377600759074,
          2.741377600759074,
          2.921377600759074,
          3.1013776007590743,
          3.2813776007590745,
          3.4613776007590746,
          3.641377600759075
         ]
        }
       ],
       "layout": {
        "template": {
         "data": {
          "bar": [
           {
            "error_x": {
             "color": "#2a3f5f"
            },
            "error_y": {
             "color": "#2a3f5f"
            },
            "marker": {
             "line": {
              "color": "#E5ECF6",
              "width": 0.5
             },
             "pattern": {
              "fillmode": "overlay",
              "size": 10,
              "solidity": 0.2
             }
            },
            "type": "bar"
           }
          ],
          "barpolar": [
           {
            "marker": {
             "line": {
              "color": "#E5ECF6",
              "width": 0.5
             },
             "pattern": {
              "fillmode": "overlay",
              "size": 10,
              "solidity": 0.2
             }
            },
            "type": "barpolar"
           }
          ],
          "carpet": [
           {
            "aaxis": {
             "endlinecolor": "#2a3f5f",
             "gridcolor": "white",
             "linecolor": "white",
             "minorgridcolor": "white",
             "startlinecolor": "#2a3f5f"
            },
            "baxis": {
             "endlinecolor": "#2a3f5f",
             "gridcolor": "white",
             "linecolor": "white",
             "minorgridcolor": "white",
             "startlinecolor": "#2a3f5f"
            },
            "type": "carpet"
           }
          ],
          "choropleth": [
           {
            "colorbar": {
             "outlinewidth": 0,
             "ticks": ""
            },
            "type": "choropleth"
           }
          ],
          "contour": [
           {
            "colorbar": {
             "outlinewidth": 0,
             "ticks": ""
            },
            "colorscale": [
             [
              0,
              "#0d0887"
             ],
             [
              0.1111111111111111,
              "#46039f"
             ],
             [
              0.2222222222222222,
              "#7201a8"
             ],
             [
              0.3333333333333333,
              "#9c179e"
             ],
             [
              0.4444444444444444,
              "#bd3786"
             ],
             [
              0.5555555555555556,
              "#d8576b"
             ],
             [
              0.6666666666666666,
              "#ed7953"
             ],
             [
              0.7777777777777778,
              "#fb9f3a"
             ],
             [
              0.8888888888888888,
              "#fdca26"
             ],
             [
              1,
              "#f0f921"
             ]
            ],
            "type": "contour"
           }
          ],
          "contourcarpet": [
           {
            "colorbar": {
             "outlinewidth": 0,
             "ticks": ""
            },
            "type": "contourcarpet"
           }
          ],
          "heatmap": [
           {
            "colorbar": {
             "outlinewidth": 0,
             "ticks": ""
            },
            "colorscale": [
             [
              0,
              "#0d0887"
             ],
             [
              0.1111111111111111,
              "#46039f"
             ],
             [
              0.2222222222222222,
              "#7201a8"
             ],
             [
              0.3333333333333333,
              "#9c179e"
             ],
             [
              0.4444444444444444,
              "#bd3786"
             ],
             [
              0.5555555555555556,
              "#d8576b"
             ],
             [
              0.6666666666666666,
              "#ed7953"
             ],
             [
              0.7777777777777778,
              "#fb9f3a"
             ],
             [
              0.8888888888888888,
              "#fdca26"
             ],
             [
              1,
              "#f0f921"
             ]
            ],
            "type": "heatmap"
           }
          ],
          "heatmapgl": [
           {
            "colorbar": {
             "outlinewidth": 0,
             "ticks": ""
            },
            "colorscale": [
             [
              0,
              "#0d0887"
             ],
             [
              0.1111111111111111,
              "#46039f"
             ],
             [
              0.2222222222222222,
              "#7201a8"
             ],
             [
              0.3333333333333333,
              "#9c179e"
             ],
             [
              0.4444444444444444,
              "#bd3786"
             ],
             [
              0.5555555555555556,
              "#d8576b"
             ],
             [
              0.6666666666666666,
              "#ed7953"
             ],
             [
              0.7777777777777778,
              "#fb9f3a"
             ],
             [
              0.8888888888888888,
              "#fdca26"
             ],
             [
              1,
              "#f0f921"
             ]
            ],
            "type": "heatmapgl"
           }
          ],
          "histogram": [
           {
            "marker": {
             "pattern": {
              "fillmode": "overlay",
              "size": 10,
              "solidity": 0.2
             }
            },
            "type": "histogram"
           }
          ],
          "histogram2d": [
           {
            "colorbar": {
             "outlinewidth": 0,
             "ticks": ""
            },
            "colorscale": [
             [
              0,
              "#0d0887"
             ],
             [
              0.1111111111111111,
              "#46039f"
             ],
             [
              0.2222222222222222,
              "#7201a8"
             ],
             [
              0.3333333333333333,
              "#9c179e"
             ],
             [
              0.4444444444444444,
              "#bd3786"
             ],
             [
              0.5555555555555556,
              "#d8576b"
             ],
             [
              0.6666666666666666,
              "#ed7953"
             ],
             [
              0.7777777777777778,
              "#fb9f3a"
             ],
             [
              0.8888888888888888,
              "#fdca26"
             ],
             [
              1,
              "#f0f921"
             ]
            ],
            "type": "histogram2d"
           }
          ],
          "histogram2dcontour": [
           {
            "colorbar": {
             "outlinewidth": 0,
             "ticks": ""
            },
            "colorscale": [
             [
              0,
              "#0d0887"
             ],
             [
              0.1111111111111111,
              "#46039f"
             ],
             [
              0.2222222222222222,
              "#7201a8"
             ],
             [
              0.3333333333333333,
              "#9c179e"
             ],
             [
              0.4444444444444444,
              "#bd3786"
             ],
             [
              0.5555555555555556,
              "#d8576b"
             ],
             [
              0.6666666666666666,
              "#ed7953"
             ],
             [
              0.7777777777777778,
              "#fb9f3a"
             ],
             [
              0.8888888888888888,
              "#fdca26"
             ],
             [
              1,
              "#f0f921"
             ]
            ],
            "type": "histogram2dcontour"
           }
          ],
          "mesh3d": [
           {
            "colorbar": {
             "outlinewidth": 0,
             "ticks": ""
            },
            "type": "mesh3d"
           }
          ],
          "parcoords": [
           {
            "line": {
             "colorbar": {
              "outlinewidth": 0,
              "ticks": ""
             }
            },
            "type": "parcoords"
           }
          ],
          "pie": [
           {
            "automargin": true,
            "type": "pie"
           }
          ],
          "scatter": [
           {
            "marker": {
             "colorbar": {
              "outlinewidth": 0,
              "ticks": ""
             }
            },
            "type": "scatter"
           }
          ],
          "scatter3d": [
           {
            "line": {
             "colorbar": {
              "outlinewidth": 0,
              "ticks": ""
             }
            },
            "marker": {
             "colorbar": {
              "outlinewidth": 0,
              "ticks": ""
             }
            },
            "type": "scatter3d"
           }
          ],
          "scattercarpet": [
           {
            "marker": {
             "colorbar": {
              "outlinewidth": 0,
              "ticks": ""
             }
            },
            "type": "scattercarpet"
           }
          ],
          "scattergeo": [
           {
            "marker": {
             "colorbar": {
              "outlinewidth": 0,
              "ticks": ""
             }
            },
            "type": "scattergeo"
           }
          ],
          "scattergl": [
           {
            "marker": {
             "colorbar": {
              "outlinewidth": 0,
              "ticks": ""
             }
            },
            "type": "scattergl"
           }
          ],
          "scattermapbox": [
           {
            "marker": {
             "colorbar": {
              "outlinewidth": 0,
              "ticks": ""
             }
            },
            "type": "scattermapbox"
           }
          ],
          "scatterpolar": [
           {
            "marker": {
             "colorbar": {
              "outlinewidth": 0,
              "ticks": ""
             }
            },
            "type": "scatterpolar"
           }
          ],
          "scatterpolargl": [
           {
            "marker": {
             "colorbar": {
              "outlinewidth": 0,
              "ticks": ""
             }
            },
            "type": "scatterpolargl"
           }
          ],
          "scatterternary": [
           {
            "marker": {
             "colorbar": {
              "outlinewidth": 0,
              "ticks": ""
             }
            },
            "type": "scatterternary"
           }
          ],
          "surface": [
           {
            "colorbar": {
             "outlinewidth": 0,
             "ticks": ""
            },
            "colorscale": [
             [
              0,
              "#0d0887"
             ],
             [
              0.1111111111111111,
              "#46039f"
             ],
             [
              0.2222222222222222,
              "#7201a8"
             ],
             [
              0.3333333333333333,
              "#9c179e"
             ],
             [
              0.4444444444444444,
              "#bd3786"
             ],
             [
              0.5555555555555556,
              "#d8576b"
             ],
             [
              0.6666666666666666,
              "#ed7953"
             ],
             [
              0.7777777777777778,
              "#fb9f3a"
             ],
             [
              0.8888888888888888,
              "#fdca26"
             ],
             [
              1,
              "#f0f921"
             ]
            ],
            "type": "surface"
           }
          ],
          "table": [
           {
            "cells": {
             "fill": {
              "color": "#EBF0F8"
             },
             "line": {
              "color": "white"
             }
            },
            "header": {
             "fill": {
              "color": "#C8D4E3"
             },
             "line": {
              "color": "white"
             }
            },
            "type": "table"
           }
          ]
         },
         "layout": {
          "annotationdefaults": {
           "arrowcolor": "#2a3f5f",
           "arrowhead": 0,
           "arrowwidth": 1
          },
          "autotypenumbers": "strict",
          "coloraxis": {
           "colorbar": {
            "outlinewidth": 0,
            "ticks": ""
           }
          },
          "colorscale": {
           "diverging": [
            [
             0,
             "#8e0152"
            ],
            [
             0.1,
             "#c51b7d"
            ],
            [
             0.2,
             "#de77ae"
            ],
            [
             0.3,
             "#f1b6da"
            ],
            [
             0.4,
             "#fde0ef"
            ],
            [
             0.5,
             "#f7f7f7"
            ],
            [
             0.6,
             "#e6f5d0"
            ],
            [
             0.7,
             "#b8e186"
            ],
            [
             0.8,
             "#7fbc41"
            ],
            [
             0.9,
             "#4d9221"
            ],
            [
             1,
             "#276419"
            ]
           ],
           "sequential": [
            [
             0,
             "#0d0887"
            ],
            [
             0.1111111111111111,
             "#46039f"
            ],
            [
             0.2222222222222222,
             "#7201a8"
            ],
            [
             0.3333333333333333,
             "#9c179e"
            ],
            [
             0.4444444444444444,
             "#bd3786"
            ],
            [
             0.5555555555555556,
             "#d8576b"
            ],
            [
             0.6666666666666666,
             "#ed7953"
            ],
            [
             0.7777777777777778,
             "#fb9f3a"
            ],
            [
             0.8888888888888888,
             "#fdca26"
            ],
            [
             1,
             "#f0f921"
            ]
           ],
           "sequentialminus": [
            [
             0,
             "#0d0887"
            ],
            [
             0.1111111111111111,
             "#46039f"
            ],
            [
             0.2222222222222222,
             "#7201a8"
            ],
            [
             0.3333333333333333,
             "#9c179e"
            ],
            [
             0.4444444444444444,
             "#bd3786"
            ],
            [
             0.5555555555555556,
             "#d8576b"
            ],
            [
             0.6666666666666666,
             "#ed7953"
            ],
            [
             0.7777777777777778,
             "#fb9f3a"
            ],
            [
             0.8888888888888888,
             "#fdca26"
            ],
            [
             1,
             "#f0f921"
            ]
           ]
          },
          "colorway": [
           "#636efa",
           "#EF553B",
           "#00cc96",
           "#ab63fa",
           "#FFA15A",
           "#19d3f3",
           "#FF6692",
           "#B6E880",
           "#FF97FF",
           "#FECB52"
          ],
          "font": {
           "color": "#2a3f5f"
          },
          "geo": {
           "bgcolor": "white",
           "lakecolor": "white",
           "landcolor": "#E5ECF6",
           "showlakes": true,
           "showland": true,
           "subunitcolor": "white"
          },
          "hoverlabel": {
           "align": "left"
          },
          "hovermode": "closest",
          "mapbox": {
           "style": "light"
          },
          "paper_bgcolor": "white",
          "plot_bgcolor": "#E5ECF6",
          "polar": {
           "angularaxis": {
            "gridcolor": "white",
            "linecolor": "white",
            "ticks": ""
           },
           "bgcolor": "#E5ECF6",
           "radialaxis": {
            "gridcolor": "white",
            "linecolor": "white",
            "ticks": ""
           }
          },
          "scene": {
           "xaxis": {
            "backgroundcolor": "#E5ECF6",
            "gridcolor": "white",
            "gridwidth": 2,
            "linecolor": "white",
            "showbackground": true,
            "ticks": "",
            "zerolinecolor": "white"
           },
           "yaxis": {
            "backgroundcolor": "#E5ECF6",
            "gridcolor": "white",
            "gridwidth": 2,
            "linecolor": "white",
            "showbackground": true,
            "ticks": "",
            "zerolinecolor": "white"
           },
           "zaxis": {
            "backgroundcolor": "#E5ECF6",
            "gridcolor": "white",
            "gridwidth": 2,
            "linecolor": "white",
            "showbackground": true,
            "ticks": "",
            "zerolinecolor": "white"
           }
          },
          "shapedefaults": {
           "line": {
            "color": "#2a3f5f"
           }
          },
          "ternary": {
           "aaxis": {
            "gridcolor": "white",
            "linecolor": "white",
            "ticks": ""
           },
           "baxis": {
            "gridcolor": "white",
            "linecolor": "white",
            "ticks": ""
           },
           "bgcolor": "#E5ECF6",
           "caxis": {
            "gridcolor": "white",
            "linecolor": "white",
            "ticks": ""
           }
          },
          "title": {
           "x": 0.05
          },
          "xaxis": {
           "automargin": true,
           "gridcolor": "white",
           "linecolor": "white",
           "ticks": "",
           "title": {
            "standoff": 15
           },
           "zerolinecolor": "white",
           "zerolinewidth": 2
          },
          "yaxis": {
           "automargin": true,
           "gridcolor": "white",
           "linecolor": "white",
           "ticks": "",
           "title": {
            "standoff": 15
           },
           "zerolinecolor": "white",
           "zerolinewidth": 2
          }
         }
        },
        "title": {
         "text": "Reservoir storage"
        }
       }
      }
     },
     "metadata": {},
     "output_type": "display_data"
    },
    {
     "data": {
      "application/vnd.plotly.v1+json": {
       "config": {
        "plotlyServerURL": "https://plot.ly"
       },
       "data": [
        {
         "name": "Rsv 1 gate position",
         "type": "scatter",
         "x": [
          "2022-04-16T00:00:00",
          "2022-04-16T01:00:00",
          "2022-04-16T02:00:00",
          "2022-04-16T03:00:00",
          "2022-04-16T04:00:00",
          "2022-04-16T05:00:00",
          "2022-04-16T06:00:00",
          "2022-04-16T07:00:00",
          "2022-04-16T08:00:00",
          "2022-04-16T09:00:00",
          "2022-04-16T10:00:00",
          "2022-04-16T11:00:00",
          "2022-04-16T12:00:00",
          "2022-04-16T13:00:00",
          "2022-04-16T14:00:00",
          "2022-04-16T15:00:00",
          "2022-04-16T16:00:00",
          "2022-04-16T17:00:00",
          "2022-04-16T18:00:00",
          "2022-04-16T19:00:00",
          "2022-04-16T20:00:00",
          "2022-04-16T21:00:00",
          "2022-04-16T22:00:00",
          "2022-04-16T23:00:00",
          "2022-04-17T00:00:00",
          "2022-04-17T01:00:00",
          "2022-04-17T02:00:00",
          "2022-04-17T03:00:00",
          "2022-04-17T04:00:00",
          "2022-04-17T05:00:00",
          "2022-04-17T06:00:00",
          "2022-04-17T07:00:00",
          "2022-04-17T08:00:00",
          "2022-04-17T09:00:00",
          "2022-04-17T10:00:00",
          "2022-04-17T11:00:00",
          "2022-04-17T12:00:00",
          "2022-04-17T13:00:00",
          "2022-04-17T14:00:00",
          "2022-04-17T15:00:00",
          "2022-04-17T16:00:00",
          "2022-04-17T17:00:00",
          "2022-04-17T18:00:00",
          "2022-04-17T19:00:00",
          "2022-04-17T20:00:00",
          "2022-04-17T21:00:00",
          "2022-04-17T22:00:00",
          "2022-04-17T23:00:00",
          "2022-04-18T00:00:00",
          "2022-04-18T01:00:00",
          "2022-04-18T02:00:00",
          "2022-04-18T03:00:00",
          "2022-04-18T04:00:00",
          "2022-04-18T05:00:00",
          "2022-04-18T06:00:00",
          "2022-04-18T07:00:00",
          "2022-04-18T08:00:00",
          "2022-04-18T09:00:00",
          "2022-04-18T10:00:00",
          "2022-04-18T11:00:00",
          "2022-04-18T12:00:00",
          "2022-04-18T13:00:00",
          "2022-04-18T14:00:00",
          "2022-04-18T15:00:00",
          "2022-04-18T16:00:00",
          "2022-04-18T17:00:00",
          "2022-04-18T18:00:00",
          "2022-04-18T19:00:00",
          "2022-04-18T20:00:00",
          "2022-04-18T21:00:00",
          "2022-04-18T22:00:00",
          "2022-04-18T23:00:00"
         ],
         "y": [
          0,
          0.08442763919500272,
          0,
          0,
          0,
          0.04798064423449653,
          0,
          0,
          0,
          0,
          0,
          0,
          0,
          0,
          1,
          1,
          1,
          0.3469878392012166,
          0.3649188801333488,
          0.0537077882719521,
          0.0285392976238495,
          0,
          0,
          0,
          0,
          0,
          0,
          1,
          1,
          1,
          0.25175960965043015,
          0.13040545748482446,
          0,
          0,
          0,
          0,
          0,
          1,
          1,
          1,
          1,
          1,
          0.20871821645294042,
          0.14583830122534966,
          0.02757705083848286,
          0,
          0,
          0,
          1,
          1,
          1,
          1,
          1,
          1,
          1,
          0.4623156660347674,
          1,
          0.31157531067209543,
          0.19954959487511578,
          0,
          0,
          1,
          1,
          1,
          0.9092281084950465,
          0.13720377297609013,
          0,
          0,
          0,
          0,
          0,
          0
         ]
        }
       ],
       "layout": {
        "template": {
         "data": {
          "bar": [
           {
            "error_x": {
             "color": "#2a3f5f"
            },
            "error_y": {
             "color": "#2a3f5f"
            },
            "marker": {
             "line": {
              "color": "#E5ECF6",
              "width": 0.5
             },
             "pattern": {
              "fillmode": "overlay",
              "size": 10,
              "solidity": 0.2
             }
            },
            "type": "bar"
           }
          ],
          "barpolar": [
           {
            "marker": {
             "line": {
              "color": "#E5ECF6",
              "width": 0.5
             },
             "pattern": {
              "fillmode": "overlay",
              "size": 10,
              "solidity": 0.2
             }
            },
            "type": "barpolar"
           }
          ],
          "carpet": [
           {
            "aaxis": {
             "endlinecolor": "#2a3f5f",
             "gridcolor": "white",
             "linecolor": "white",
             "minorgridcolor": "white",
             "startlinecolor": "#2a3f5f"
            },
            "baxis": {
             "endlinecolor": "#2a3f5f",
             "gridcolor": "white",
             "linecolor": "white",
             "minorgridcolor": "white",
             "startlinecolor": "#2a3f5f"
            },
            "type": "carpet"
           }
          ],
          "choropleth": [
           {
            "colorbar": {
             "outlinewidth": 0,
             "ticks": ""
            },
            "type": "choropleth"
           }
          ],
          "contour": [
           {
            "colorbar": {
             "outlinewidth": 0,
             "ticks": ""
            },
            "colorscale": [
             [
              0,
              "#0d0887"
             ],
             [
              0.1111111111111111,
              "#46039f"
             ],
             [
              0.2222222222222222,
              "#7201a8"
             ],
             [
              0.3333333333333333,
              "#9c179e"
             ],
             [
              0.4444444444444444,
              "#bd3786"
             ],
             [
              0.5555555555555556,
              "#d8576b"
             ],
             [
              0.6666666666666666,
              "#ed7953"
             ],
             [
              0.7777777777777778,
              "#fb9f3a"
             ],
             [
              0.8888888888888888,
              "#fdca26"
             ],
             [
              1,
              "#f0f921"
             ]
            ],
            "type": "contour"
           }
          ],
          "contourcarpet": [
           {
            "colorbar": {
             "outlinewidth": 0,
             "ticks": ""
            },
            "type": "contourcarpet"
           }
          ],
          "heatmap": [
           {
            "colorbar": {
             "outlinewidth": 0,
             "ticks": ""
            },
            "colorscale": [
             [
              0,
              "#0d0887"
             ],
             [
              0.1111111111111111,
              "#46039f"
             ],
             [
              0.2222222222222222,
              "#7201a8"
             ],
             [
              0.3333333333333333,
              "#9c179e"
             ],
             [
              0.4444444444444444,
              "#bd3786"
             ],
             [
              0.5555555555555556,
              "#d8576b"
             ],
             [
              0.6666666666666666,
              "#ed7953"
             ],
             [
              0.7777777777777778,
              "#fb9f3a"
             ],
             [
              0.8888888888888888,
              "#fdca26"
             ],
             [
              1,
              "#f0f921"
             ]
            ],
            "type": "heatmap"
           }
          ],
          "heatmapgl": [
           {
            "colorbar": {
             "outlinewidth": 0,
             "ticks": ""
            },
            "colorscale": [
             [
              0,
              "#0d0887"
             ],
             [
              0.1111111111111111,
              "#46039f"
             ],
             [
              0.2222222222222222,
              "#7201a8"
             ],
             [
              0.3333333333333333,
              "#9c179e"
             ],
             [
              0.4444444444444444,
              "#bd3786"
             ],
             [
              0.5555555555555556,
              "#d8576b"
             ],
             [
              0.6666666666666666,
              "#ed7953"
             ],
             [
              0.7777777777777778,
              "#fb9f3a"
             ],
             [
              0.8888888888888888,
              "#fdca26"
             ],
             [
              1,
              "#f0f921"
             ]
            ],
            "type": "heatmapgl"
           }
          ],
          "histogram": [
           {
            "marker": {
             "pattern": {
              "fillmode": "overlay",
              "size": 10,
              "solidity": 0.2
             }
            },
            "type": "histogram"
           }
          ],
          "histogram2d": [
           {
            "colorbar": {
             "outlinewidth": 0,
             "ticks": ""
            },
            "colorscale": [
             [
              0,
              "#0d0887"
             ],
             [
              0.1111111111111111,
              "#46039f"
             ],
             [
              0.2222222222222222,
              "#7201a8"
             ],
             [
              0.3333333333333333,
              "#9c179e"
             ],
             [
              0.4444444444444444,
              "#bd3786"
             ],
             [
              0.5555555555555556,
              "#d8576b"
             ],
             [
              0.6666666666666666,
              "#ed7953"
             ],
             [
              0.7777777777777778,
              "#fb9f3a"
             ],
             [
              0.8888888888888888,
              "#fdca26"
             ],
             [
              1,
              "#f0f921"
             ]
            ],
            "type": "histogram2d"
           }
          ],
          "histogram2dcontour": [
           {
            "colorbar": {
             "outlinewidth": 0,
             "ticks": ""
            },
            "colorscale": [
             [
              0,
              "#0d0887"
             ],
             [
              0.1111111111111111,
              "#46039f"
             ],
             [
              0.2222222222222222,
              "#7201a8"
             ],
             [
              0.3333333333333333,
              "#9c179e"
             ],
             [
              0.4444444444444444,
              "#bd3786"
             ],
             [
              0.5555555555555556,
              "#d8576b"
             ],
             [
              0.6666666666666666,
              "#ed7953"
             ],
             [
              0.7777777777777778,
              "#fb9f3a"
             ],
             [
              0.8888888888888888,
              "#fdca26"
             ],
             [
              1,
              "#f0f921"
             ]
            ],
            "type": "histogram2dcontour"
           }
          ],
          "mesh3d": [
           {
            "colorbar": {
             "outlinewidth": 0,
             "ticks": ""
            },
            "type": "mesh3d"
           }
          ],
          "parcoords": [
           {
            "line": {
             "colorbar": {
              "outlinewidth": 0,
              "ticks": ""
             }
            },
            "type": "parcoords"
           }
          ],
          "pie": [
           {
            "automargin": true,
            "type": "pie"
           }
          ],
          "scatter": [
           {
            "marker": {
             "colorbar": {
              "outlinewidth": 0,
              "ticks": ""
             }
            },
            "type": "scatter"
           }
          ],
          "scatter3d": [
           {
            "line": {
             "colorbar": {
              "outlinewidth": 0,
              "ticks": ""
             }
            },
            "marker": {
             "colorbar": {
              "outlinewidth": 0,
              "ticks": ""
             }
            },
            "type": "scatter3d"
           }
          ],
          "scattercarpet": [
           {
            "marker": {
             "colorbar": {
              "outlinewidth": 0,
              "ticks": ""
             }
            },
            "type": "scattercarpet"
           }
          ],
          "scattergeo": [
           {
            "marker": {
             "colorbar": {
              "outlinewidth": 0,
              "ticks": ""
             }
            },
            "type": "scattergeo"
           }
          ],
          "scattergl": [
           {
            "marker": {
             "colorbar": {
              "outlinewidth": 0,
              "ticks": ""
             }
            },
            "type": "scattergl"
           }
          ],
          "scattermapbox": [
           {
            "marker": {
             "colorbar": {
              "outlinewidth": 0,
              "ticks": ""
             }
            },
            "type": "scattermapbox"
           }
          ],
          "scatterpolar": [
           {
            "marker": {
             "colorbar": {
              "outlinewidth": 0,
              "ticks": ""
             }
            },
            "type": "scatterpolar"
           }
          ],
          "scatterpolargl": [
           {
            "marker": {
             "colorbar": {
              "outlinewidth": 0,
              "ticks": ""
             }
            },
            "type": "scatterpolargl"
           }
          ],
          "scatterternary": [
           {
            "marker": {
             "colorbar": {
              "outlinewidth": 0,
              "ticks": ""
             }
            },
            "type": "scatterternary"
           }
          ],
          "surface": [
           {
            "colorbar": {
             "outlinewidth": 0,
             "ticks": ""
            },
            "colorscale": [
             [
              0,
              "#0d0887"
             ],
             [
              0.1111111111111111,
              "#46039f"
             ],
             [
              0.2222222222222222,
              "#7201a8"
             ],
             [
              0.3333333333333333,
              "#9c179e"
             ],
             [
              0.4444444444444444,
              "#bd3786"
             ],
             [
              0.5555555555555556,
              "#d8576b"
             ],
             [
              0.6666666666666666,
              "#ed7953"
             ],
             [
              0.7777777777777778,
              "#fb9f3a"
             ],
             [
              0.8888888888888888,
              "#fdca26"
             ],
             [
              1,
              "#f0f921"
             ]
            ],
            "type": "surface"
           }
          ],
          "table": [
           {
            "cells": {
             "fill": {
              "color": "#EBF0F8"
             },
             "line": {
              "color": "white"
             }
            },
            "header": {
             "fill": {
              "color": "#C8D4E3"
             },
             "line": {
              "color": "white"
             }
            },
            "type": "table"
           }
          ]
         },
         "layout": {
          "annotationdefaults": {
           "arrowcolor": "#2a3f5f",
           "arrowhead": 0,
           "arrowwidth": 1
          },
          "autotypenumbers": "strict",
          "coloraxis": {
           "colorbar": {
            "outlinewidth": 0,
            "ticks": ""
           }
          },
          "colorscale": {
           "diverging": [
            [
             0,
             "#8e0152"
            ],
            [
             0.1,
             "#c51b7d"
            ],
            [
             0.2,
             "#de77ae"
            ],
            [
             0.3,
             "#f1b6da"
            ],
            [
             0.4,
             "#fde0ef"
            ],
            [
             0.5,
             "#f7f7f7"
            ],
            [
             0.6,
             "#e6f5d0"
            ],
            [
             0.7,
             "#b8e186"
            ],
            [
             0.8,
             "#7fbc41"
            ],
            [
             0.9,
             "#4d9221"
            ],
            [
             1,
             "#276419"
            ]
           ],
           "sequential": [
            [
             0,
             "#0d0887"
            ],
            [
             0.1111111111111111,
             "#46039f"
            ],
            [
             0.2222222222222222,
             "#7201a8"
            ],
            [
             0.3333333333333333,
             "#9c179e"
            ],
            [
             0.4444444444444444,
             "#bd3786"
            ],
            [
             0.5555555555555556,
             "#d8576b"
            ],
            [
             0.6666666666666666,
             "#ed7953"
            ],
            [
             0.7777777777777778,
             "#fb9f3a"
            ],
            [
             0.8888888888888888,
             "#fdca26"
            ],
            [
             1,
             "#f0f921"
            ]
           ],
           "sequentialminus": [
            [
             0,
             "#0d0887"
            ],
            [
             0.1111111111111111,
             "#46039f"
            ],
            [
             0.2222222222222222,
             "#7201a8"
            ],
            [
             0.3333333333333333,
             "#9c179e"
            ],
            [
             0.4444444444444444,
             "#bd3786"
            ],
            [
             0.5555555555555556,
             "#d8576b"
            ],
            [
             0.6666666666666666,
             "#ed7953"
            ],
            [
             0.7777777777777778,
             "#fb9f3a"
            ],
            [
             0.8888888888888888,
             "#fdca26"
            ],
            [
             1,
             "#f0f921"
            ]
           ]
          },
          "colorway": [
           "#636efa",
           "#EF553B",
           "#00cc96",
           "#ab63fa",
           "#FFA15A",
           "#19d3f3",
           "#FF6692",
           "#B6E880",
           "#FF97FF",
           "#FECB52"
          ],
          "font": {
           "color": "#2a3f5f"
          },
          "geo": {
           "bgcolor": "white",
           "lakecolor": "white",
           "landcolor": "#E5ECF6",
           "showlakes": true,
           "showland": true,
           "subunitcolor": "white"
          },
          "hoverlabel": {
           "align": "left"
          },
          "hovermode": "closest",
          "mapbox": {
           "style": "light"
          },
          "paper_bgcolor": "white",
          "plot_bgcolor": "#E5ECF6",
          "polar": {
           "angularaxis": {
            "gridcolor": "white",
            "linecolor": "white",
            "ticks": ""
           },
           "bgcolor": "#E5ECF6",
           "radialaxis": {
            "gridcolor": "white",
            "linecolor": "white",
            "ticks": ""
           }
          },
          "scene": {
           "xaxis": {
            "backgroundcolor": "#E5ECF6",
            "gridcolor": "white",
            "gridwidth": 2,
            "linecolor": "white",
            "showbackground": true,
            "ticks": "",
            "zerolinecolor": "white"
           },
           "yaxis": {
            "backgroundcolor": "#E5ECF6",
            "gridcolor": "white",
            "gridwidth": 2,
            "linecolor": "white",
            "showbackground": true,
            "ticks": "",
            "zerolinecolor": "white"
           },
           "zaxis": {
            "backgroundcolor": "#E5ECF6",
            "gridcolor": "white",
            "gridwidth": 2,
            "linecolor": "white",
            "showbackground": true,
            "ticks": "",
            "zerolinecolor": "white"
           }
          },
          "shapedefaults": {
           "line": {
            "color": "#2a3f5f"
           }
          },
          "ternary": {
           "aaxis": {
            "gridcolor": "white",
            "linecolor": "white",
            "ticks": ""
           },
           "baxis": {
            "gridcolor": "white",
            "linecolor": "white",
            "ticks": ""
           },
           "bgcolor": "#E5ECF6",
           "caxis": {
            "gridcolor": "white",
            "linecolor": "white",
            "ticks": ""
           }
          },
          "title": {
           "x": 0.05
          },
          "xaxis": {
           "automargin": true,
           "gridcolor": "white",
           "linecolor": "white",
           "ticks": "",
           "title": {
            "standoff": 15
           },
           "zerolinecolor": "white",
           "zerolinewidth": 2
          },
          "yaxis": {
           "automargin": true,
           "gridcolor": "white",
           "linecolor": "white",
           "ticks": "",
           "title": {
            "standoff": 15
           },
           "zerolinecolor": "white",
           "zerolinewidth": 2
          }
         }
        },
        "title": {
         "text": "Gate postion"
        }
       }
      }
     },
     "metadata": {},
     "output_type": "display_data"
    }
   ],
   "source": [
    "shop = new_model()\n",
    "add_reservoirs(shop)\n",
    "add_tunnels(shop)\n",
    "add_plants(shop)\n",
    "connect_objects(shop)\n",
    "init_model(shop)\n",
    "insert_contiuous_gate(shop)\n",
    "\n",
    "shop.start_sim([],[3])\n",
    "\n",
    "\n",
    "fig = go.Figure()\n",
    "plant1_prod = shop.model.plant.plant1.production.get()\n",
    "plant2_prod = shop.model.plant.plant2.production.get()\n",
    "plant2_cons = shop.model.plant.plant2.consumption.get()\n",
    "fig.add_trace(go.Scatter(x=plant1_prod.index, y=plant1_prod.values, name=\"Plant 1 production\"))\n",
    "fig.add_trace(go.Scatter(x=plant2_prod.index, y=plant2_prod.values, name=\"Plant 2 production\"))\n",
    "fig.add_trace(go.Scatter(x=plant2_cons.index, y=plant2_cons.values, name=\"Plant 2 consumption\"))\n",
    "fig.update_layout(title=\"Production and consumption\")\n",
    "fig.show()\n",
    "\n",
    "fig = go.Figure()\n",
    "rsv1_head = shop.model.reservoir.rsv1.storage.get()\n",
    "rsv2_head = shop.model.reservoir.rsv2.storage.get()\n",
    "rsv3_head = shop.model.reservoir.rsv3.storage.get()\n",
    "fig.add_trace(go.Scatter(x=rsv1_head.index, y=rsv1_head.values, name=\"Rsv 1 storage\"))\n",
    "fig.add_trace(go.Scatter(x=rsv1_head.index, y=rsv2_head.values, name=\"Rsv 2 storage\"))\n",
    "fig.add_trace(go.Scatter(x=rsv1_head.index, y=rsv3_head.values, name=\"Rsv 3 storage\"))\n",
    "fig.update_layout(title=\"Reservoir storage\")\n",
    "fig.show()\n",
    "\n",
    "fig = go.Figure()\n",
    "gate = shop.model.tunnel.t_r1_n1.gate_opening.get()\n",
    "fig.add_trace(go.Scatter(x=gate.index, y=gate.values, name=\"Rsv 1 gate position\"))\n",
    "fig.update_layout(title=\"Gate postion\")\n",
    "fig.show()"
   ]
  },
  {
   "cell_type": "code",
   "execution_count": 12,
   "id": "f01de237-80dc-4ff2-bb71-57e9e13f1e24",
   "metadata": {},
   "outputs": [
    {
     "data": {
      "application/vnd.plotly.v1+json": {
       "config": {
        "plotlyServerURL": "https://plot.ly"
       },
       "data": [
        {
         "name": "Plant 1 production",
         "type": "scatter",
         "x": [
          "2022-04-16T00:00:00",
          "2022-04-16T01:00:00",
          "2022-04-16T02:00:00",
          "2022-04-16T03:00:00",
          "2022-04-16T04:00:00",
          "2022-04-16T05:00:00",
          "2022-04-16T06:00:00",
          "2022-04-16T07:00:00",
          "2022-04-16T08:00:00",
          "2022-04-16T09:00:00",
          "2022-04-16T10:00:00",
          "2022-04-16T11:00:00",
          "2022-04-16T12:00:00",
          "2022-04-16T13:00:00",
          "2022-04-16T14:00:00",
          "2022-04-16T15:00:00",
          "2022-04-16T16:00:00",
          "2022-04-16T17:00:00",
          "2022-04-16T18:00:00",
          "2022-04-16T19:00:00",
          "2022-04-16T20:00:00",
          "2022-04-16T21:00:00",
          "2022-04-16T22:00:00",
          "2022-04-16T23:00:00",
          "2022-04-17T00:00:00",
          "2022-04-17T01:00:00",
          "2022-04-17T02:00:00",
          "2022-04-17T03:00:00",
          "2022-04-17T04:00:00",
          "2022-04-17T05:00:00",
          "2022-04-17T06:00:00",
          "2022-04-17T07:00:00",
          "2022-04-17T08:00:00",
          "2022-04-17T09:00:00",
          "2022-04-17T10:00:00",
          "2022-04-17T11:00:00",
          "2022-04-17T12:00:00",
          "2022-04-17T13:00:00",
          "2022-04-17T14:00:00",
          "2022-04-17T15:00:00",
          "2022-04-17T16:00:00",
          "2022-04-17T17:00:00",
          "2022-04-17T18:00:00",
          "2022-04-17T19:00:00",
          "2022-04-17T20:00:00",
          "2022-04-17T21:00:00",
          "2022-04-17T22:00:00",
          "2022-04-17T23:00:00",
          "2022-04-18T00:00:00",
          "2022-04-18T01:00:00",
          "2022-04-18T02:00:00",
          "2022-04-18T03:00:00",
          "2022-04-18T04:00:00",
          "2022-04-18T05:00:00",
          "2022-04-18T06:00:00",
          "2022-04-18T07:00:00",
          "2022-04-18T08:00:00",
          "2022-04-18T09:00:00",
          "2022-04-18T10:00:00",
          "2022-04-18T11:00:00",
          "2022-04-18T12:00:00",
          "2022-04-18T13:00:00",
          "2022-04-18T14:00:00",
          "2022-04-18T15:00:00",
          "2022-04-18T16:00:00",
          "2022-04-18T17:00:00",
          "2022-04-18T18:00:00",
          "2022-04-18T19:00:00",
          "2022-04-18T20:00:00",
          "2022-04-18T21:00:00",
          "2022-04-18T22:00:00",
          "2022-04-18T23:00:00"
         ],
         "y": [
          29.688500299215708,
          48.22135517793644,
          28.907616756345003,
          28.823587401123255,
          28.85496368852654,
          41.43994564400347,
          47.65276373639498,
          47.74559315499277,
          47.65857788475032,
          39.46502403322578,
          28.912311288205682,
          28.79809530646629,
          28.729468049468384,
          28.77995554139913,
          28.838960021464864,
          0,
          0,
          22.082577112261877,
          29.79106132329116,
          48.124317292835826,
          47.77236079818114,
          29.52889443132472,
          32.353566638171245,
          29.569379207449206,
          47.35547677078004,
          29.0152969699807,
          29.098823129621397,
          29.53816053722889,
          29.227310498180195,
          29.284602443235016,
          23.68683455949288,
          29.41800155384018,
          42.750594970769875,
          29.157892186223712,
          23.232728012491993,
          37.95498240802468,
          28.796222414774704,
          0,
          0,
          0,
          0,
          0,
          42.44627987641697,
          29.062012485304898,
          29.63528889753297,
          28.557339013012722,
          32.0973511199458,
          28.385069578096594,
          0,
          0,
          0,
          0,
          0,
          0,
          0,
          30.220943976673038,
          29.150968928739836,
          29.131307446168233,
          22.119473211481623,
          29.058725716454706,
          30.819997299745868,
          0,
          0,
          0,
          30.275812980516676,
          29.351360820951957,
          30.10827010068571,
          28.773997304627347,
          29.61370955676526,
          41.309979856385304,
          48.20218298947582,
          47.32950615731324
         ]
        },
        {
         "name": "Plant 2 production",
         "type": "scatter",
         "x": [
          "2022-04-16T00:00:00",
          "2022-04-16T01:00:00",
          "2022-04-16T02:00:00",
          "2022-04-16T03:00:00",
          "2022-04-16T04:00:00",
          "2022-04-16T05:00:00",
          "2022-04-16T06:00:00",
          "2022-04-16T07:00:00",
          "2022-04-16T08:00:00",
          "2022-04-16T09:00:00",
          "2022-04-16T10:00:00",
          "2022-04-16T11:00:00",
          "2022-04-16T12:00:00",
          "2022-04-16T13:00:00",
          "2022-04-16T14:00:00",
          "2022-04-16T15:00:00",
          "2022-04-16T16:00:00",
          "2022-04-16T17:00:00",
          "2022-04-16T18:00:00",
          "2022-04-16T19:00:00",
          "2022-04-16T20:00:00",
          "2022-04-16T21:00:00",
          "2022-04-16T22:00:00",
          "2022-04-16T23:00:00",
          "2022-04-17T00:00:00",
          "2022-04-17T01:00:00",
          "2022-04-17T02:00:00",
          "2022-04-17T03:00:00",
          "2022-04-17T04:00:00",
          "2022-04-17T05:00:00",
          "2022-04-17T06:00:00",
          "2022-04-17T07:00:00",
          "2022-04-17T08:00:00",
          "2022-04-17T09:00:00",
          "2022-04-17T10:00:00",
          "2022-04-17T11:00:00",
          "2022-04-17T12:00:00",
          "2022-04-17T13:00:00",
          "2022-04-17T14:00:00",
          "2022-04-17T15:00:00",
          "2022-04-17T16:00:00",
          "2022-04-17T17:00:00",
          "2022-04-17T18:00:00",
          "2022-04-17T19:00:00",
          "2022-04-17T20:00:00",
          "2022-04-17T21:00:00",
          "2022-04-17T22:00:00",
          "2022-04-17T23:00:00",
          "2022-04-18T00:00:00",
          "2022-04-18T01:00:00",
          "2022-04-18T02:00:00",
          "2022-04-18T03:00:00",
          "2022-04-18T04:00:00",
          "2022-04-18T05:00:00",
          "2022-04-18T06:00:00",
          "2022-04-18T07:00:00",
          "2022-04-18T08:00:00",
          "2022-04-18T09:00:00",
          "2022-04-18T10:00:00",
          "2022-04-18T11:00:00",
          "2022-04-18T12:00:00",
          "2022-04-18T13:00:00",
          "2022-04-18T14:00:00",
          "2022-04-18T15:00:00",
          "2022-04-18T16:00:00",
          "2022-04-18T17:00:00",
          "2022-04-18T18:00:00",
          "2022-04-18T19:00:00",
          "2022-04-18T20:00:00",
          "2022-04-18T21:00:00",
          "2022-04-18T22:00:00",
          "2022-04-18T23:00:00"
         ],
         "y": [
          0,
          0,
          0,
          0,
          0,
          0,
          0,
          0,
          0,
          0,
          0,
          0,
          0,
          0,
          0,
          0,
          0,
          0,
          0,
          0,
          0,
          0,
          0,
          0,
          0,
          0,
          0,
          0,
          0,
          0,
          0,
          0,
          0,
          0,
          0,
          0,
          0,
          0,
          0,
          0,
          0,
          0,
          0,
          0,
          0,
          0,
          0,
          0,
          0,
          0,
          0,
          0,
          0,
          0,
          0,
          0,
          0,
          0,
          0,
          0,
          0,
          0,
          0,
          0,
          0,
          0,
          0,
          0,
          0,
          0,
          0,
          0
         ]
        },
        {
         "name": "Plant 2 consumption",
         "type": "scatter",
         "x": [
          "2022-04-16T00:00:00",
          "2022-04-16T01:00:00",
          "2022-04-16T02:00:00",
          "2022-04-16T03:00:00",
          "2022-04-16T04:00:00",
          "2022-04-16T05:00:00",
          "2022-04-16T06:00:00",
          "2022-04-16T07:00:00",
          "2022-04-16T08:00:00",
          "2022-04-16T09:00:00",
          "2022-04-16T10:00:00",
          "2022-04-16T11:00:00",
          "2022-04-16T12:00:00",
          "2022-04-16T13:00:00",
          "2022-04-16T14:00:00",
          "2022-04-16T15:00:00",
          "2022-04-16T16:00:00",
          "2022-04-16T17:00:00",
          "2022-04-16T18:00:00",
          "2022-04-16T19:00:00",
          "2022-04-16T20:00:00",
          "2022-04-16T21:00:00",
          "2022-04-16T22:00:00",
          "2022-04-16T23:00:00",
          "2022-04-17T00:00:00",
          "2022-04-17T01:00:00",
          "2022-04-17T02:00:00",
          "2022-04-17T03:00:00",
          "2022-04-17T04:00:00",
          "2022-04-17T05:00:00",
          "2022-04-17T06:00:00",
          "2022-04-17T07:00:00",
          "2022-04-17T08:00:00",
          "2022-04-17T09:00:00",
          "2022-04-17T10:00:00",
          "2022-04-17T11:00:00",
          "2022-04-17T12:00:00",
          "2022-04-17T13:00:00",
          "2022-04-17T14:00:00",
          "2022-04-17T15:00:00",
          "2022-04-17T16:00:00",
          "2022-04-17T17:00:00",
          "2022-04-17T18:00:00",
          "2022-04-17T19:00:00",
          "2022-04-17T20:00:00",
          "2022-04-17T21:00:00",
          "2022-04-17T22:00:00",
          "2022-04-17T23:00:00",
          "2022-04-18T00:00:00",
          "2022-04-18T01:00:00",
          "2022-04-18T02:00:00",
          "2022-04-18T03:00:00",
          "2022-04-18T04:00:00",
          "2022-04-18T05:00:00",
          "2022-04-18T06:00:00",
          "2022-04-18T07:00:00",
          "2022-04-18T08:00:00",
          "2022-04-18T09:00:00",
          "2022-04-18T10:00:00",
          "2022-04-18T11:00:00",
          "2022-04-18T12:00:00",
          "2022-04-18T13:00:00",
          "2022-04-18T14:00:00",
          "2022-04-18T15:00:00",
          "2022-04-18T16:00:00",
          "2022-04-18T17:00:00",
          "2022-04-18T18:00:00",
          "2022-04-18T19:00:00",
          "2022-04-18T20:00:00",
          "2022-04-18T21:00:00",
          "2022-04-18T22:00:00",
          "2022-04-18T23:00:00"
         ],
         "y": [
          47.205119006561326,
          46.82173159574531,
          46.85410415813468,
          47.12167322735686,
          47.36904099103066,
          45.587834959706676,
          15.098402177732382,
          15.094241175394885,
          15.068278391329267,
          46.044453207572424,
          47.78242401535849,
          48.09803092463902,
          48.37164955209426,
          48.6236534618383,
          48.876917051003275,
          49.99651402869056,
          49.99577564446729,
          50.290469000507514,
          49.5741787254559,
          15.82956366201148,
          0,
          15.901588453490437,
          15.543534589964631,
          15.850968534528647,
          15.576865400249906,
          49.48058453818237,
          49.769433605369635,
          49.98606502718459,
          50.121818038093785,
          50.09305131063546,
          50.350899993246394,
          50.04514817397863,
          47.637130892302345,
          23.092736878904567,
          43.5615219634366,
          15.897084510065712,
          39.78940554457356,
          50.077747650195775,
          50.07542507389135,
          50.07151391225105,
          50.06761632165167,
          50.06370352336612,
          15.998790027423698,
          0,
          0,
          0,
          0,
          0,
          50.08828413079646,
          50.077509708624156,
          50.07379608918499,
          50.06974320609809,
          50.06576333888356,
          50.061819726921264,
          50.05790433041358,
          16.75418623232691,
          16.729503865800062,
          16.90705016428406,
          0,
          16.581896705523466,
          16.471237135334512,
          50.01275589192029,
          50.01367270296783,
          50.01272110203773,
          27.809310466357648,
          24.737454055450403,
          0,
          0,
          0,
          0,
          0,
          0
         ]
        }
       ],
       "layout": {
        "template": {
         "data": {
          "bar": [
           {
            "error_x": {
             "color": "#2a3f5f"
            },
            "error_y": {
             "color": "#2a3f5f"
            },
            "marker": {
             "line": {
              "color": "#E5ECF6",
              "width": 0.5
             },
             "pattern": {
              "fillmode": "overlay",
              "size": 10,
              "solidity": 0.2
             }
            },
            "type": "bar"
           }
          ],
          "barpolar": [
           {
            "marker": {
             "line": {
              "color": "#E5ECF6",
              "width": 0.5
             },
             "pattern": {
              "fillmode": "overlay",
              "size": 10,
              "solidity": 0.2
             }
            },
            "type": "barpolar"
           }
          ],
          "carpet": [
           {
            "aaxis": {
             "endlinecolor": "#2a3f5f",
             "gridcolor": "white",
             "linecolor": "white",
             "minorgridcolor": "white",
             "startlinecolor": "#2a3f5f"
            },
            "baxis": {
             "endlinecolor": "#2a3f5f",
             "gridcolor": "white",
             "linecolor": "white",
             "minorgridcolor": "white",
             "startlinecolor": "#2a3f5f"
            },
            "type": "carpet"
           }
          ],
          "choropleth": [
           {
            "colorbar": {
             "outlinewidth": 0,
             "ticks": ""
            },
            "type": "choropleth"
           }
          ],
          "contour": [
           {
            "colorbar": {
             "outlinewidth": 0,
             "ticks": ""
            },
            "colorscale": [
             [
              0,
              "#0d0887"
             ],
             [
              0.1111111111111111,
              "#46039f"
             ],
             [
              0.2222222222222222,
              "#7201a8"
             ],
             [
              0.3333333333333333,
              "#9c179e"
             ],
             [
              0.4444444444444444,
              "#bd3786"
             ],
             [
              0.5555555555555556,
              "#d8576b"
             ],
             [
              0.6666666666666666,
              "#ed7953"
             ],
             [
              0.7777777777777778,
              "#fb9f3a"
             ],
             [
              0.8888888888888888,
              "#fdca26"
             ],
             [
              1,
              "#f0f921"
             ]
            ],
            "type": "contour"
           }
          ],
          "contourcarpet": [
           {
            "colorbar": {
             "outlinewidth": 0,
             "ticks": ""
            },
            "type": "contourcarpet"
           }
          ],
          "heatmap": [
           {
            "colorbar": {
             "outlinewidth": 0,
             "ticks": ""
            },
            "colorscale": [
             [
              0,
              "#0d0887"
             ],
             [
              0.1111111111111111,
              "#46039f"
             ],
             [
              0.2222222222222222,
              "#7201a8"
             ],
             [
              0.3333333333333333,
              "#9c179e"
             ],
             [
              0.4444444444444444,
              "#bd3786"
             ],
             [
              0.5555555555555556,
              "#d8576b"
             ],
             [
              0.6666666666666666,
              "#ed7953"
             ],
             [
              0.7777777777777778,
              "#fb9f3a"
             ],
             [
              0.8888888888888888,
              "#fdca26"
             ],
             [
              1,
              "#f0f921"
             ]
            ],
            "type": "heatmap"
           }
          ],
          "heatmapgl": [
           {
            "colorbar": {
             "outlinewidth": 0,
             "ticks": ""
            },
            "colorscale": [
             [
              0,
              "#0d0887"
             ],
             [
              0.1111111111111111,
              "#46039f"
             ],
             [
              0.2222222222222222,
              "#7201a8"
             ],
             [
              0.3333333333333333,
              "#9c179e"
             ],
             [
              0.4444444444444444,
              "#bd3786"
             ],
             [
              0.5555555555555556,
              "#d8576b"
             ],
             [
              0.6666666666666666,
              "#ed7953"
             ],
             [
              0.7777777777777778,
              "#fb9f3a"
             ],
             [
              0.8888888888888888,
              "#fdca26"
             ],
             [
              1,
              "#f0f921"
             ]
            ],
            "type": "heatmapgl"
           }
          ],
          "histogram": [
           {
            "marker": {
             "pattern": {
              "fillmode": "overlay",
              "size": 10,
              "solidity": 0.2
             }
            },
            "type": "histogram"
           }
          ],
          "histogram2d": [
           {
            "colorbar": {
             "outlinewidth": 0,
             "ticks": ""
            },
            "colorscale": [
             [
              0,
              "#0d0887"
             ],
             [
              0.1111111111111111,
              "#46039f"
             ],
             [
              0.2222222222222222,
              "#7201a8"
             ],
             [
              0.3333333333333333,
              "#9c179e"
             ],
             [
              0.4444444444444444,
              "#bd3786"
             ],
             [
              0.5555555555555556,
              "#d8576b"
             ],
             [
              0.6666666666666666,
              "#ed7953"
             ],
             [
              0.7777777777777778,
              "#fb9f3a"
             ],
             [
              0.8888888888888888,
              "#fdca26"
             ],
             [
              1,
              "#f0f921"
             ]
            ],
            "type": "histogram2d"
           }
          ],
          "histogram2dcontour": [
           {
            "colorbar": {
             "outlinewidth": 0,
             "ticks": ""
            },
            "colorscale": [
             [
              0,
              "#0d0887"
             ],
             [
              0.1111111111111111,
              "#46039f"
             ],
             [
              0.2222222222222222,
              "#7201a8"
             ],
             [
              0.3333333333333333,
              "#9c179e"
             ],
             [
              0.4444444444444444,
              "#bd3786"
             ],
             [
              0.5555555555555556,
              "#d8576b"
             ],
             [
              0.6666666666666666,
              "#ed7953"
             ],
             [
              0.7777777777777778,
              "#fb9f3a"
             ],
             [
              0.8888888888888888,
              "#fdca26"
             ],
             [
              1,
              "#f0f921"
             ]
            ],
            "type": "histogram2dcontour"
           }
          ],
          "mesh3d": [
           {
            "colorbar": {
             "outlinewidth": 0,
             "ticks": ""
            },
            "type": "mesh3d"
           }
          ],
          "parcoords": [
           {
            "line": {
             "colorbar": {
              "outlinewidth": 0,
              "ticks": ""
             }
            },
            "type": "parcoords"
           }
          ],
          "pie": [
           {
            "automargin": true,
            "type": "pie"
           }
          ],
          "scatter": [
           {
            "marker": {
             "colorbar": {
              "outlinewidth": 0,
              "ticks": ""
             }
            },
            "type": "scatter"
           }
          ],
          "scatter3d": [
           {
            "line": {
             "colorbar": {
              "outlinewidth": 0,
              "ticks": ""
             }
            },
            "marker": {
             "colorbar": {
              "outlinewidth": 0,
              "ticks": ""
             }
            },
            "type": "scatter3d"
           }
          ],
          "scattercarpet": [
           {
            "marker": {
             "colorbar": {
              "outlinewidth": 0,
              "ticks": ""
             }
            },
            "type": "scattercarpet"
           }
          ],
          "scattergeo": [
           {
            "marker": {
             "colorbar": {
              "outlinewidth": 0,
              "ticks": ""
             }
            },
            "type": "scattergeo"
           }
          ],
          "scattergl": [
           {
            "marker": {
             "colorbar": {
              "outlinewidth": 0,
              "ticks": ""
             }
            },
            "type": "scattergl"
           }
          ],
          "scattermapbox": [
           {
            "marker": {
             "colorbar": {
              "outlinewidth": 0,
              "ticks": ""
             }
            },
            "type": "scattermapbox"
           }
          ],
          "scatterpolar": [
           {
            "marker": {
             "colorbar": {
              "outlinewidth": 0,
              "ticks": ""
             }
            },
            "type": "scatterpolar"
           }
          ],
          "scatterpolargl": [
           {
            "marker": {
             "colorbar": {
              "outlinewidth": 0,
              "ticks": ""
             }
            },
            "type": "scatterpolargl"
           }
          ],
          "scatterternary": [
           {
            "marker": {
             "colorbar": {
              "outlinewidth": 0,
              "ticks": ""
             }
            },
            "type": "scatterternary"
           }
          ],
          "surface": [
           {
            "colorbar": {
             "outlinewidth": 0,
             "ticks": ""
            },
            "colorscale": [
             [
              0,
              "#0d0887"
             ],
             [
              0.1111111111111111,
              "#46039f"
             ],
             [
              0.2222222222222222,
              "#7201a8"
             ],
             [
              0.3333333333333333,
              "#9c179e"
             ],
             [
              0.4444444444444444,
              "#bd3786"
             ],
             [
              0.5555555555555556,
              "#d8576b"
             ],
             [
              0.6666666666666666,
              "#ed7953"
             ],
             [
              0.7777777777777778,
              "#fb9f3a"
             ],
             [
              0.8888888888888888,
              "#fdca26"
             ],
             [
              1,
              "#f0f921"
             ]
            ],
            "type": "surface"
           }
          ],
          "table": [
           {
            "cells": {
             "fill": {
              "color": "#EBF0F8"
             },
             "line": {
              "color": "white"
             }
            },
            "header": {
             "fill": {
              "color": "#C8D4E3"
             },
             "line": {
              "color": "white"
             }
            },
            "type": "table"
           }
          ]
         },
         "layout": {
          "annotationdefaults": {
           "arrowcolor": "#2a3f5f",
           "arrowhead": 0,
           "arrowwidth": 1
          },
          "autotypenumbers": "strict",
          "coloraxis": {
           "colorbar": {
            "outlinewidth": 0,
            "ticks": ""
           }
          },
          "colorscale": {
           "diverging": [
            [
             0,
             "#8e0152"
            ],
            [
             0.1,
             "#c51b7d"
            ],
            [
             0.2,
             "#de77ae"
            ],
            [
             0.3,
             "#f1b6da"
            ],
            [
             0.4,
             "#fde0ef"
            ],
            [
             0.5,
             "#f7f7f7"
            ],
            [
             0.6,
             "#e6f5d0"
            ],
            [
             0.7,
             "#b8e186"
            ],
            [
             0.8,
             "#7fbc41"
            ],
            [
             0.9,
             "#4d9221"
            ],
            [
             1,
             "#276419"
            ]
           ],
           "sequential": [
            [
             0,
             "#0d0887"
            ],
            [
             0.1111111111111111,
             "#46039f"
            ],
            [
             0.2222222222222222,
             "#7201a8"
            ],
            [
             0.3333333333333333,
             "#9c179e"
            ],
            [
             0.4444444444444444,
             "#bd3786"
            ],
            [
             0.5555555555555556,
             "#d8576b"
            ],
            [
             0.6666666666666666,
             "#ed7953"
            ],
            [
             0.7777777777777778,
             "#fb9f3a"
            ],
            [
             0.8888888888888888,
             "#fdca26"
            ],
            [
             1,
             "#f0f921"
            ]
           ],
           "sequentialminus": [
            [
             0,
             "#0d0887"
            ],
            [
             0.1111111111111111,
             "#46039f"
            ],
            [
             0.2222222222222222,
             "#7201a8"
            ],
            [
             0.3333333333333333,
             "#9c179e"
            ],
            [
             0.4444444444444444,
             "#bd3786"
            ],
            [
             0.5555555555555556,
             "#d8576b"
            ],
            [
             0.6666666666666666,
             "#ed7953"
            ],
            [
             0.7777777777777778,
             "#fb9f3a"
            ],
            [
             0.8888888888888888,
             "#fdca26"
            ],
            [
             1,
             "#f0f921"
            ]
           ]
          },
          "colorway": [
           "#636efa",
           "#EF553B",
           "#00cc96",
           "#ab63fa",
           "#FFA15A",
           "#19d3f3",
           "#FF6692",
           "#B6E880",
           "#FF97FF",
           "#FECB52"
          ],
          "font": {
           "color": "#2a3f5f"
          },
          "geo": {
           "bgcolor": "white",
           "lakecolor": "white",
           "landcolor": "#E5ECF6",
           "showlakes": true,
           "showland": true,
           "subunitcolor": "white"
          },
          "hoverlabel": {
           "align": "left"
          },
          "hovermode": "closest",
          "mapbox": {
           "style": "light"
          },
          "paper_bgcolor": "white",
          "plot_bgcolor": "#E5ECF6",
          "polar": {
           "angularaxis": {
            "gridcolor": "white",
            "linecolor": "white",
            "ticks": ""
           },
           "bgcolor": "#E5ECF6",
           "radialaxis": {
            "gridcolor": "white",
            "linecolor": "white",
            "ticks": ""
           }
          },
          "scene": {
           "xaxis": {
            "backgroundcolor": "#E5ECF6",
            "gridcolor": "white",
            "gridwidth": 2,
            "linecolor": "white",
            "showbackground": true,
            "ticks": "",
            "zerolinecolor": "white"
           },
           "yaxis": {
            "backgroundcolor": "#E5ECF6",
            "gridcolor": "white",
            "gridwidth": 2,
            "linecolor": "white",
            "showbackground": true,
            "ticks": "",
            "zerolinecolor": "white"
           },
           "zaxis": {
            "backgroundcolor": "#E5ECF6",
            "gridcolor": "white",
            "gridwidth": 2,
            "linecolor": "white",
            "showbackground": true,
            "ticks": "",
            "zerolinecolor": "white"
           }
          },
          "shapedefaults": {
           "line": {
            "color": "#2a3f5f"
           }
          },
          "ternary": {
           "aaxis": {
            "gridcolor": "white",
            "linecolor": "white",
            "ticks": ""
           },
           "baxis": {
            "gridcolor": "white",
            "linecolor": "white",
            "ticks": ""
           },
           "bgcolor": "#E5ECF6",
           "caxis": {
            "gridcolor": "white",
            "linecolor": "white",
            "ticks": ""
           }
          },
          "title": {
           "x": 0.05
          },
          "xaxis": {
           "automargin": true,
           "gridcolor": "white",
           "linecolor": "white",
           "ticks": "",
           "title": {
            "standoff": 15
           },
           "zerolinecolor": "white",
           "zerolinewidth": 2
          },
          "yaxis": {
           "automargin": true,
           "gridcolor": "white",
           "linecolor": "white",
           "ticks": "",
           "title": {
            "standoff": 15
           },
           "zerolinecolor": "white",
           "zerolinewidth": 2
          }
         }
        },
        "title": {
         "text": "Production and consumption"
        }
       }
      }
     },
     "metadata": {},
     "output_type": "display_data"
    },
    {
     "data": {
      "application/vnd.plotly.v1+json": {
       "config": {
        "plotlyServerURL": "https://plot.ly"
       },
       "data": [
        {
         "name": "Rsv 1 storage",
         "type": "scatter",
         "x": [
          "2022-04-16T00:00:00",
          "2022-04-16T01:00:00",
          "2022-04-16T02:00:00",
          "2022-04-16T03:00:00",
          "2022-04-16T04:00:00",
          "2022-04-16T05:00:00",
          "2022-04-16T06:00:00",
          "2022-04-16T07:00:00",
          "2022-04-16T08:00:00",
          "2022-04-16T09:00:00",
          "2022-04-16T10:00:00",
          "2022-04-16T11:00:00",
          "2022-04-16T12:00:00",
          "2022-04-16T13:00:00",
          "2022-04-16T14:00:00",
          "2022-04-16T15:00:00",
          "2022-04-16T16:00:00",
          "2022-04-16T17:00:00",
          "2022-04-16T18:00:00",
          "2022-04-16T19:00:00",
          "2022-04-16T20:00:00",
          "2022-04-16T21:00:00",
          "2022-04-16T22:00:00",
          "2022-04-16T23:00:00",
          "2022-04-17T00:00:00",
          "2022-04-17T01:00:00",
          "2022-04-17T02:00:00",
          "2022-04-17T03:00:00",
          "2022-04-17T04:00:00",
          "2022-04-17T05:00:00",
          "2022-04-17T06:00:00",
          "2022-04-17T07:00:00",
          "2022-04-17T08:00:00",
          "2022-04-17T09:00:00",
          "2022-04-17T10:00:00",
          "2022-04-17T11:00:00",
          "2022-04-17T12:00:00",
          "2022-04-17T13:00:00",
          "2022-04-17T14:00:00",
          "2022-04-17T15:00:00",
          "2022-04-17T16:00:00",
          "2022-04-17T17:00:00",
          "2022-04-17T18:00:00",
          "2022-04-17T19:00:00",
          "2022-04-17T20:00:00",
          "2022-04-17T21:00:00",
          "2022-04-17T22:00:00",
          "2022-04-17T23:00:00",
          "2022-04-18T00:00:00",
          "2022-04-18T01:00:00",
          "2022-04-18T02:00:00",
          "2022-04-18T03:00:00",
          "2022-04-18T04:00:00",
          "2022-04-18T05:00:00",
          "2022-04-18T06:00:00",
          "2022-04-18T07:00:00",
          "2022-04-18T08:00:00",
          "2022-04-18T09:00:00",
          "2022-04-18T10:00:00",
          "2022-04-18T11:00:00",
          "2022-04-18T12:00:00",
          "2022-04-18T13:00:00",
          "2022-04-18T14:00:00",
          "2022-04-18T15:00:00",
          "2022-04-18T16:00:00",
          "2022-04-18T17:00:00",
          "2022-04-18T18:00:00",
          "2022-04-18T19:00:00",
          "2022-04-18T20:00:00",
          "2022-04-18T21:00:00",
          "2022-04-18T22:00:00",
          "2022-04-18T23:00:00",
          "2022-04-19T00:00:00"
         ],
         "y": [
          6,
          5.973539097869133,
          5.851518391268206,
          5.841895056247341,
          5.841892719576435,
          5.841890465789322,
          5.841885952524296,
          5.673679555540593,
          5.529141681996526,
          5.428619134266467,
          5.414175738705393,
          5.363197016557137,
          5.354322712424965,
          5.3543208760817835,
          5.354319118316932,
          5.354317410664851,
          5.451678851658966,
          5.559271466971433,
          5.564791205661862,
          5.564786719879732,
          5.469077225186481,
          5.367153036469159,
          5.328035946144252,
          5.303109483629828,
          5.244226827786673,
          5.147031274155336,
          5.137267789980894,
          5.137266531880044,
          5.13726523483121,
          5.137264081017764,
          5.137263002217151,
          5.155018565691927,
          5.232480205016043,
          5.232476209011679,
          5.145160711909182,
          5.145159714898187,
          5.1451543000090165,
          5.1008599362374865,
          5.206031024808363,
          5.32409870599007,
          5.440116527550947,
          5.556273281275833,
          5.672563114572921,
          5.679182803561133,
          5.595444300858856,
          5.567889817677122,
          5.540281596007117,
          5.540278416273554,
          5.540275770443657,
          5.644212544427797,
          5.761843891376588,
          5.876524979960988,
          5.991575632750442,
          6.106845192521041,
          6.2222534975446475,
          6.3377710364911195,
          6.344360484448771,
          6.344358379058758,
          6.3188867891307385,
          6.446008653509085,
          6.446006548274136,
          6.446004181966879,
          6.548028818364583,
          6.664480504165465,
          6.77793413038089,
          6.758713016327351,
          6.80228674815271,
          6.766181070903263,
          6.659109136109999,
          6.6409010378724584,
          6.63283394690356,
          6.487137525152116,
          6.3787744316375266
         ]
        },
        {
         "name": "Rsv 2 storage",
         "type": "scatter",
         "x": [
          "2022-04-16T00:00:00",
          "2022-04-16T01:00:00",
          "2022-04-16T02:00:00",
          "2022-04-16T03:00:00",
          "2022-04-16T04:00:00",
          "2022-04-16T05:00:00",
          "2022-04-16T06:00:00",
          "2022-04-16T07:00:00",
          "2022-04-16T08:00:00",
          "2022-04-16T09:00:00",
          "2022-04-16T10:00:00",
          "2022-04-16T11:00:00",
          "2022-04-16T12:00:00",
          "2022-04-16T13:00:00",
          "2022-04-16T14:00:00",
          "2022-04-16T15:00:00",
          "2022-04-16T16:00:00",
          "2022-04-16T17:00:00",
          "2022-04-16T18:00:00",
          "2022-04-16T19:00:00",
          "2022-04-16T20:00:00",
          "2022-04-16T21:00:00",
          "2022-04-16T22:00:00",
          "2022-04-16T23:00:00",
          "2022-04-17T00:00:00",
          "2022-04-17T01:00:00",
          "2022-04-17T02:00:00",
          "2022-04-17T03:00:00",
          "2022-04-17T04:00:00",
          "2022-04-17T05:00:00",
          "2022-04-17T06:00:00",
          "2022-04-17T07:00:00",
          "2022-04-17T08:00:00",
          "2022-04-17T09:00:00",
          "2022-04-17T10:00:00",
          "2022-04-17T11:00:00",
          "2022-04-17T12:00:00",
          "2022-04-17T13:00:00",
          "2022-04-17T14:00:00",
          "2022-04-17T15:00:00",
          "2022-04-17T16:00:00",
          "2022-04-17T17:00:00",
          "2022-04-17T18:00:00",
          "2022-04-17T19:00:00",
          "2022-04-17T20:00:00",
          "2022-04-17T21:00:00",
          "2022-04-17T22:00:00",
          "2022-04-17T23:00:00",
          "2022-04-18T00:00:00",
          "2022-04-18T01:00:00",
          "2022-04-18T02:00:00",
          "2022-04-18T03:00:00",
          "2022-04-18T04:00:00",
          "2022-04-18T05:00:00",
          "2022-04-18T06:00:00",
          "2022-04-18T07:00:00",
          "2022-04-18T08:00:00",
          "2022-04-18T09:00:00",
          "2022-04-18T10:00:00",
          "2022-04-18T11:00:00",
          "2022-04-18T12:00:00",
          "2022-04-18T13:00:00",
          "2022-04-18T14:00:00",
          "2022-04-18T15:00:00",
          "2022-04-18T16:00:00",
          "2022-04-18T17:00:00",
          "2022-04-18T18:00:00",
          "2022-04-18T19:00:00",
          "2022-04-18T20:00:00",
          "2022-04-18T21:00:00",
          "2022-04-18T22:00:00",
          "2022-04-18T23:00:00",
          "2022-04-19T00:00:00"
         ],
         "y": [
          6,
          6.202797158485811,
          6.423901958800434,
          6.612613173115676,
          6.7963168923199415,
          6.980980068119874,
          7.090050562615545,
          7.119725242996475,
          7.121592821904739,
          7.080672938617221,
          7.200537276554877,
          7.423037294812753,
          7.617752836794432,
          7.804013698298479,
          7.990824749579451,
          8.177458852584232,
          8.392184841871181,
          8.607062474550911,
          8.829619949280675,
          9.015248632333567,
          8.991588662372658,
          8.864848416893931,
          8.841628277073237,
          8.801541819357698,
          8.804720238076573,
          8.769369607342275,
          8.94356127347018,
          9.13063267989396,
          9.315998060809614,
          9.501370202836608,
          9.685227673074275,
          9.871027419049943,
          9.97439608239777,
          10.072962604004328,
          10.151089071220706,
          10.293614277500222,
          10.213444671159436,
          10.342137329256053,
          10.529820248229674,
          10.720129465295406,
          10.908471614291312,
          11.09518930376272,
          11.280299192268775,
          11.171638171403675,
          11.103774266076623,
          10.991143068882247,
          10.88321859368126,
          10.727899154079557,
          10.584212243532829,
          10.757822278412789,
          10.949890667529285,
          11.139748280590862,
          11.327990682257303,
          11.514613376629104,
          11.6996350262914,
          11.883080860566093,
          11.846602162443338,
          11.795180793103043,
          11.774818280070878,
          11.548303073826713,
          11.499216006091695,
          11.442992482392986,
          11.616683806281127,
          11.804047654363774,
          11.989462242456,
          12.024653799567801,
          11.999172409649855,
          11.901883878197713,
          11.877238356240388,
          11.75569134998492,
          11.548648208006176,
          11.449956582426632,
          11.32833700355339
         ]
        },
        {
         "name": "Rsv 3 storage",
         "type": "scatter",
         "x": [
          "2022-04-16T00:00:00",
          "2022-04-16T01:00:00",
          "2022-04-16T02:00:00",
          "2022-04-16T03:00:00",
          "2022-04-16T04:00:00",
          "2022-04-16T05:00:00",
          "2022-04-16T06:00:00",
          "2022-04-16T07:00:00",
          "2022-04-16T08:00:00",
          "2022-04-16T09:00:00",
          "2022-04-16T10:00:00",
          "2022-04-16T11:00:00",
          "2022-04-16T12:00:00",
          "2022-04-16T13:00:00",
          "2022-04-16T14:00:00",
          "2022-04-16T15:00:00",
          "2022-04-16T16:00:00",
          "2022-04-16T17:00:00",
          "2022-04-16T18:00:00",
          "2022-04-16T19:00:00",
          "2022-04-16T20:00:00",
          "2022-04-16T21:00:00",
          "2022-04-16T22:00:00",
          "2022-04-16T23:00:00",
          "2022-04-17T00:00:00",
          "2022-04-17T01:00:00",
          "2022-04-17T02:00:00",
          "2022-04-17T03:00:00",
          "2022-04-17T04:00:00",
          "2022-04-17T05:00:00",
          "2022-04-17T06:00:00",
          "2022-04-17T07:00:00",
          "2022-04-17T08:00:00",
          "2022-04-17T09:00:00",
          "2022-04-17T10:00:00",
          "2022-04-17T11:00:00",
          "2022-04-17T12:00:00",
          "2022-04-17T13:00:00",
          "2022-04-17T14:00:00",
          "2022-04-17T15:00:00",
          "2022-04-17T16:00:00",
          "2022-04-17T17:00:00",
          "2022-04-17T18:00:00",
          "2022-04-17T19:00:00",
          "2022-04-17T20:00:00",
          "2022-04-17T21:00:00",
          "2022-04-17T22:00:00",
          "2022-04-17T23:00:00",
          "2022-04-18T00:00:00",
          "2022-04-18T01:00:00",
          "2022-04-18T02:00:00",
          "2022-04-18T03:00:00",
          "2022-04-18T04:00:00",
          "2022-04-18T05:00:00",
          "2022-04-18T06:00:00",
          "2022-04-18T07:00:00",
          "2022-04-18T08:00:00",
          "2022-04-18T09:00:00",
          "2022-04-18T10:00:00",
          "2022-04-18T11:00:00",
          "2022-04-18T12:00:00",
          "2022-04-18T13:00:00",
          "2022-04-18T14:00:00",
          "2022-04-18T15:00:00",
          "2022-04-18T16:00:00",
          "2022-04-18T17:00:00",
          "2022-04-18T18:00:00",
          "2022-04-18T19:00:00",
          "2022-04-18T20:00:00",
          "2022-04-18T21:00:00",
          "2022-04-18T22:00:00",
          "2022-04-18T23:00:00",
          "2022-04-19T00:00:00"
         ],
         "y": [
          6,
          5.856,
          5.712,
          5.568,
          5.4239999999999995,
          5.279999999999999,
          5.135999999999999,
          5.225999999999999,
          5.315999999999999,
          5.405999999999999,
          5.261999999999999,
          5.1179999999999986,
          4.973999999999998,
          4.829999999999998,
          4.685999999999998,
          4.541999999999998,
          4.399329890131207,
          4.258589495151069,
          4.114589495151069,
          3.9735475419855804,
          4.063547541985581,
          4.24354754198558,
          4.33354754198558,
          4.42354754198558,
          4.51354754198558,
          4.60354754198558,
          4.45954754198558,
          4.3155475419855795,
          4.171547541985579,
          4.028648849877041,
          3.887812349280519,
          3.7519107688559923,
          3.615041929339355,
          3.482143773670299,
          3.5300814125515365,
          3.444416976625362,
          3.5344169766253617,
          3.472333703570377,
          3.3446842728367367,
          3.2186426188659687,
          3.0941843220633634,
          2.971276529903322,
          2.8498912638453575,
          2.9398912638453574,
          3.1198912638453575,
          3.2998912638453577,
          3.479891263845358,
          3.659891263845358,
          3.839891263845358,
          3.711634037693747,
          3.5850093560611715,
          3.4599824230831375,
          3.3365204118997474,
          3.214594697908283,
          3.0941773899036655,
          2.9752412944942614,
          3.0652412944942613,
          3.155241294494261,
          3.245241294494261,
          3.425241294494261,
          3.515241294494261,
          3.605241294494261,
          3.483086801327421,
          3.362398369581342,
          3.2431874599353745,
          3.269030224443498,
          3.311730769766286,
          3.4917307697662863,
          3.6717307697662864,
          3.8517307697662866,
          4.031730769766287,
          4.2117307697662865,
          4.391730769766286
         ]
        }
       ],
       "layout": {
        "template": {
         "data": {
          "bar": [
           {
            "error_x": {
             "color": "#2a3f5f"
            },
            "error_y": {
             "color": "#2a3f5f"
            },
            "marker": {
             "line": {
              "color": "#E5ECF6",
              "width": 0.5
             },
             "pattern": {
              "fillmode": "overlay",
              "size": 10,
              "solidity": 0.2
             }
            },
            "type": "bar"
           }
          ],
          "barpolar": [
           {
            "marker": {
             "line": {
              "color": "#E5ECF6",
              "width": 0.5
             },
             "pattern": {
              "fillmode": "overlay",
              "size": 10,
              "solidity": 0.2
             }
            },
            "type": "barpolar"
           }
          ],
          "carpet": [
           {
            "aaxis": {
             "endlinecolor": "#2a3f5f",
             "gridcolor": "white",
             "linecolor": "white",
             "minorgridcolor": "white",
             "startlinecolor": "#2a3f5f"
            },
            "baxis": {
             "endlinecolor": "#2a3f5f",
             "gridcolor": "white",
             "linecolor": "white",
             "minorgridcolor": "white",
             "startlinecolor": "#2a3f5f"
            },
            "type": "carpet"
           }
          ],
          "choropleth": [
           {
            "colorbar": {
             "outlinewidth": 0,
             "ticks": ""
            },
            "type": "choropleth"
           }
          ],
          "contour": [
           {
            "colorbar": {
             "outlinewidth": 0,
             "ticks": ""
            },
            "colorscale": [
             [
              0,
              "#0d0887"
             ],
             [
              0.1111111111111111,
              "#46039f"
             ],
             [
              0.2222222222222222,
              "#7201a8"
             ],
             [
              0.3333333333333333,
              "#9c179e"
             ],
             [
              0.4444444444444444,
              "#bd3786"
             ],
             [
              0.5555555555555556,
              "#d8576b"
             ],
             [
              0.6666666666666666,
              "#ed7953"
             ],
             [
              0.7777777777777778,
              "#fb9f3a"
             ],
             [
              0.8888888888888888,
              "#fdca26"
             ],
             [
              1,
              "#f0f921"
             ]
            ],
            "type": "contour"
           }
          ],
          "contourcarpet": [
           {
            "colorbar": {
             "outlinewidth": 0,
             "ticks": ""
            },
            "type": "contourcarpet"
           }
          ],
          "heatmap": [
           {
            "colorbar": {
             "outlinewidth": 0,
             "ticks": ""
            },
            "colorscale": [
             [
              0,
              "#0d0887"
             ],
             [
              0.1111111111111111,
              "#46039f"
             ],
             [
              0.2222222222222222,
              "#7201a8"
             ],
             [
              0.3333333333333333,
              "#9c179e"
             ],
             [
              0.4444444444444444,
              "#bd3786"
             ],
             [
              0.5555555555555556,
              "#d8576b"
             ],
             [
              0.6666666666666666,
              "#ed7953"
             ],
             [
              0.7777777777777778,
              "#fb9f3a"
             ],
             [
              0.8888888888888888,
              "#fdca26"
             ],
             [
              1,
              "#f0f921"
             ]
            ],
            "type": "heatmap"
           }
          ],
          "heatmapgl": [
           {
            "colorbar": {
             "outlinewidth": 0,
             "ticks": ""
            },
            "colorscale": [
             [
              0,
              "#0d0887"
             ],
             [
              0.1111111111111111,
              "#46039f"
             ],
             [
              0.2222222222222222,
              "#7201a8"
             ],
             [
              0.3333333333333333,
              "#9c179e"
             ],
             [
              0.4444444444444444,
              "#bd3786"
             ],
             [
              0.5555555555555556,
              "#d8576b"
             ],
             [
              0.6666666666666666,
              "#ed7953"
             ],
             [
              0.7777777777777778,
              "#fb9f3a"
             ],
             [
              0.8888888888888888,
              "#fdca26"
             ],
             [
              1,
              "#f0f921"
             ]
            ],
            "type": "heatmapgl"
           }
          ],
          "histogram": [
           {
            "marker": {
             "pattern": {
              "fillmode": "overlay",
              "size": 10,
              "solidity": 0.2
             }
            },
            "type": "histogram"
           }
          ],
          "histogram2d": [
           {
            "colorbar": {
             "outlinewidth": 0,
             "ticks": ""
            },
            "colorscale": [
             [
              0,
              "#0d0887"
             ],
             [
              0.1111111111111111,
              "#46039f"
             ],
             [
              0.2222222222222222,
              "#7201a8"
             ],
             [
              0.3333333333333333,
              "#9c179e"
             ],
             [
              0.4444444444444444,
              "#bd3786"
             ],
             [
              0.5555555555555556,
              "#d8576b"
             ],
             [
              0.6666666666666666,
              "#ed7953"
             ],
             [
              0.7777777777777778,
              "#fb9f3a"
             ],
             [
              0.8888888888888888,
              "#fdca26"
             ],
             [
              1,
              "#f0f921"
             ]
            ],
            "type": "histogram2d"
           }
          ],
          "histogram2dcontour": [
           {
            "colorbar": {
             "outlinewidth": 0,
             "ticks": ""
            },
            "colorscale": [
             [
              0,
              "#0d0887"
             ],
             [
              0.1111111111111111,
              "#46039f"
             ],
             [
              0.2222222222222222,
              "#7201a8"
             ],
             [
              0.3333333333333333,
              "#9c179e"
             ],
             [
              0.4444444444444444,
              "#bd3786"
             ],
             [
              0.5555555555555556,
              "#d8576b"
             ],
             [
              0.6666666666666666,
              "#ed7953"
             ],
             [
              0.7777777777777778,
              "#fb9f3a"
             ],
             [
              0.8888888888888888,
              "#fdca26"
             ],
             [
              1,
              "#f0f921"
             ]
            ],
            "type": "histogram2dcontour"
           }
          ],
          "mesh3d": [
           {
            "colorbar": {
             "outlinewidth": 0,
             "ticks": ""
            },
            "type": "mesh3d"
           }
          ],
          "parcoords": [
           {
            "line": {
             "colorbar": {
              "outlinewidth": 0,
              "ticks": ""
             }
            },
            "type": "parcoords"
           }
          ],
          "pie": [
           {
            "automargin": true,
            "type": "pie"
           }
          ],
          "scatter": [
           {
            "marker": {
             "colorbar": {
              "outlinewidth": 0,
              "ticks": ""
             }
            },
            "type": "scatter"
           }
          ],
          "scatter3d": [
           {
            "line": {
             "colorbar": {
              "outlinewidth": 0,
              "ticks": ""
             }
            },
            "marker": {
             "colorbar": {
              "outlinewidth": 0,
              "ticks": ""
             }
            },
            "type": "scatter3d"
           }
          ],
          "scattercarpet": [
           {
            "marker": {
             "colorbar": {
              "outlinewidth": 0,
              "ticks": ""
             }
            },
            "type": "scattercarpet"
           }
          ],
          "scattergeo": [
           {
            "marker": {
             "colorbar": {
              "outlinewidth": 0,
              "ticks": ""
             }
            },
            "type": "scattergeo"
           }
          ],
          "scattergl": [
           {
            "marker": {
             "colorbar": {
              "outlinewidth": 0,
              "ticks": ""
             }
            },
            "type": "scattergl"
           }
          ],
          "scattermapbox": [
           {
            "marker": {
             "colorbar": {
              "outlinewidth": 0,
              "ticks": ""
             }
            },
            "type": "scattermapbox"
           }
          ],
          "scatterpolar": [
           {
            "marker": {
             "colorbar": {
              "outlinewidth": 0,
              "ticks": ""
             }
            },
            "type": "scatterpolar"
           }
          ],
          "scatterpolargl": [
           {
            "marker": {
             "colorbar": {
              "outlinewidth": 0,
              "ticks": ""
             }
            },
            "type": "scatterpolargl"
           }
          ],
          "scatterternary": [
           {
            "marker": {
             "colorbar": {
              "outlinewidth": 0,
              "ticks": ""
             }
            },
            "type": "scatterternary"
           }
          ],
          "surface": [
           {
            "colorbar": {
             "outlinewidth": 0,
             "ticks": ""
            },
            "colorscale": [
             [
              0,
              "#0d0887"
             ],
             [
              0.1111111111111111,
              "#46039f"
             ],
             [
              0.2222222222222222,
              "#7201a8"
             ],
             [
              0.3333333333333333,
              "#9c179e"
             ],
             [
              0.4444444444444444,
              "#bd3786"
             ],
             [
              0.5555555555555556,
              "#d8576b"
             ],
             [
              0.6666666666666666,
              "#ed7953"
             ],
             [
              0.7777777777777778,
              "#fb9f3a"
             ],
             [
              0.8888888888888888,
              "#fdca26"
             ],
             [
              1,
              "#f0f921"
             ]
            ],
            "type": "surface"
           }
          ],
          "table": [
           {
            "cells": {
             "fill": {
              "color": "#EBF0F8"
             },
             "line": {
              "color": "white"
             }
            },
            "header": {
             "fill": {
              "color": "#C8D4E3"
             },
             "line": {
              "color": "white"
             }
            },
            "type": "table"
           }
          ]
         },
         "layout": {
          "annotationdefaults": {
           "arrowcolor": "#2a3f5f",
           "arrowhead": 0,
           "arrowwidth": 1
          },
          "autotypenumbers": "strict",
          "coloraxis": {
           "colorbar": {
            "outlinewidth": 0,
            "ticks": ""
           }
          },
          "colorscale": {
           "diverging": [
            [
             0,
             "#8e0152"
            ],
            [
             0.1,
             "#c51b7d"
            ],
            [
             0.2,
             "#de77ae"
            ],
            [
             0.3,
             "#f1b6da"
            ],
            [
             0.4,
             "#fde0ef"
            ],
            [
             0.5,
             "#f7f7f7"
            ],
            [
             0.6,
             "#e6f5d0"
            ],
            [
             0.7,
             "#b8e186"
            ],
            [
             0.8,
             "#7fbc41"
            ],
            [
             0.9,
             "#4d9221"
            ],
            [
             1,
             "#276419"
            ]
           ],
           "sequential": [
            [
             0,
             "#0d0887"
            ],
            [
             0.1111111111111111,
             "#46039f"
            ],
            [
             0.2222222222222222,
             "#7201a8"
            ],
            [
             0.3333333333333333,
             "#9c179e"
            ],
            [
             0.4444444444444444,
             "#bd3786"
            ],
            [
             0.5555555555555556,
             "#d8576b"
            ],
            [
             0.6666666666666666,
             "#ed7953"
            ],
            [
             0.7777777777777778,
             "#fb9f3a"
            ],
            [
             0.8888888888888888,
             "#fdca26"
            ],
            [
             1,
             "#f0f921"
            ]
           ],
           "sequentialminus": [
            [
             0,
             "#0d0887"
            ],
            [
             0.1111111111111111,
             "#46039f"
            ],
            [
             0.2222222222222222,
             "#7201a8"
            ],
            [
             0.3333333333333333,
             "#9c179e"
            ],
            [
             0.4444444444444444,
             "#bd3786"
            ],
            [
             0.5555555555555556,
             "#d8576b"
            ],
            [
             0.6666666666666666,
             "#ed7953"
            ],
            [
             0.7777777777777778,
             "#fb9f3a"
            ],
            [
             0.8888888888888888,
             "#fdca26"
            ],
            [
             1,
             "#f0f921"
            ]
           ]
          },
          "colorway": [
           "#636efa",
           "#EF553B",
           "#00cc96",
           "#ab63fa",
           "#FFA15A",
           "#19d3f3",
           "#FF6692",
           "#B6E880",
           "#FF97FF",
           "#FECB52"
          ],
          "font": {
           "color": "#2a3f5f"
          },
          "geo": {
           "bgcolor": "white",
           "lakecolor": "white",
           "landcolor": "#E5ECF6",
           "showlakes": true,
           "showland": true,
           "subunitcolor": "white"
          },
          "hoverlabel": {
           "align": "left"
          },
          "hovermode": "closest",
          "mapbox": {
           "style": "light"
          },
          "paper_bgcolor": "white",
          "plot_bgcolor": "#E5ECF6",
          "polar": {
           "angularaxis": {
            "gridcolor": "white",
            "linecolor": "white",
            "ticks": ""
           },
           "bgcolor": "#E5ECF6",
           "radialaxis": {
            "gridcolor": "white",
            "linecolor": "white",
            "ticks": ""
           }
          },
          "scene": {
           "xaxis": {
            "backgroundcolor": "#E5ECF6",
            "gridcolor": "white",
            "gridwidth": 2,
            "linecolor": "white",
            "showbackground": true,
            "ticks": "",
            "zerolinecolor": "white"
           },
           "yaxis": {
            "backgroundcolor": "#E5ECF6",
            "gridcolor": "white",
            "gridwidth": 2,
            "linecolor": "white",
            "showbackground": true,
            "ticks": "",
            "zerolinecolor": "white"
           },
           "zaxis": {
            "backgroundcolor": "#E5ECF6",
            "gridcolor": "white",
            "gridwidth": 2,
            "linecolor": "white",
            "showbackground": true,
            "ticks": "",
            "zerolinecolor": "white"
           }
          },
          "shapedefaults": {
           "line": {
            "color": "#2a3f5f"
           }
          },
          "ternary": {
           "aaxis": {
            "gridcolor": "white",
            "linecolor": "white",
            "ticks": ""
           },
           "baxis": {
            "gridcolor": "white",
            "linecolor": "white",
            "ticks": ""
           },
           "bgcolor": "#E5ECF6",
           "caxis": {
            "gridcolor": "white",
            "linecolor": "white",
            "ticks": ""
           }
          },
          "title": {
           "x": 0.05
          },
          "xaxis": {
           "automargin": true,
           "gridcolor": "white",
           "linecolor": "white",
           "ticks": "",
           "title": {
            "standoff": 15
           },
           "zerolinecolor": "white",
           "zerolinewidth": 2
          },
          "yaxis": {
           "automargin": true,
           "gridcolor": "white",
           "linecolor": "white",
           "ticks": "",
           "title": {
            "standoff": 15
           },
           "zerolinecolor": "white",
           "zerolinewidth": 2
          }
         }
        },
        "title": {
         "text": "Reservoir storage"
        }
       }
      }
     },
     "metadata": {},
     "output_type": "display_data"
    },
    {
     "data": {
      "application/vnd.plotly.v1+json": {
       "config": {
        "plotlyServerURL": "https://plot.ly"
       },
       "data": [
        {
         "name": "Rsv 1 gate position",
         "type": "scatter",
         "x": [
          "2022-04-16T00:00:00",
          "2022-04-16T01:00:00",
          "2022-04-16T02:00:00",
          "2022-04-16T03:00:00",
          "2022-04-16T04:00:00",
          "2022-04-16T05:00:00",
          "2022-04-16T06:00:00",
          "2022-04-16T07:00:00",
          "2022-04-16T08:00:00",
          "2022-04-16T09:00:00",
          "2022-04-16T10:00:00",
          "2022-04-16T11:00:00",
          "2022-04-16T12:00:00",
          "2022-04-16T13:00:00",
          "2022-04-16T14:00:00",
          "2022-04-16T15:00:00",
          "2022-04-16T16:00:00",
          "2022-04-16T17:00:00",
          "2022-04-16T18:00:00",
          "2022-04-16T19:00:00",
          "2022-04-16T20:00:00",
          "2022-04-16T21:00:00",
          "2022-04-16T22:00:00",
          "2022-04-16T23:00:00",
          "2022-04-17T00:00:00",
          "2022-04-17T01:00:00",
          "2022-04-17T02:00:00",
          "2022-04-17T03:00:00",
          "2022-04-17T04:00:00",
          "2022-04-17T05:00:00",
          "2022-04-17T06:00:00",
          "2022-04-17T07:00:00",
          "2022-04-17T08:00:00",
          "2022-04-17T09:00:00",
          "2022-04-17T10:00:00",
          "2022-04-17T11:00:00",
          "2022-04-17T12:00:00",
          "2022-04-17T13:00:00",
          "2022-04-17T14:00:00",
          "2022-04-17T15:00:00",
          "2022-04-17T16:00:00",
          "2022-04-17T17:00:00",
          "2022-04-17T18:00:00",
          "2022-04-17T19:00:00",
          "2022-04-17T20:00:00",
          "2022-04-17T21:00:00",
          "2022-04-17T22:00:00",
          "2022-04-17T23:00:00",
          "2022-04-18T00:00:00",
          "2022-04-18T01:00:00",
          "2022-04-18T02:00:00",
          "2022-04-18T03:00:00",
          "2022-04-18T04:00:00",
          "2022-04-18T05:00:00",
          "2022-04-18T06:00:00",
          "2022-04-18T07:00:00",
          "2022-04-18T08:00:00",
          "2022-04-18T09:00:00",
          "2022-04-18T10:00:00",
          "2022-04-18T11:00:00",
          "2022-04-18T12:00:00",
          "2022-04-18T13:00:00",
          "2022-04-18T14:00:00",
          "2022-04-18T15:00:00",
          "2022-04-18T16:00:00",
          "2022-04-18T17:00:00",
          "2022-04-18T18:00:00",
          "2022-04-18T19:00:00",
          "2022-04-18T20:00:00",
          "2022-04-18T21:00:00",
          "2022-04-18T22:00:00",
          "2022-04-18T23:00:00"
         ],
         "y": [
          0.08085695210076137,
          0.13584035203717446,
          0,
          0,
          0,
          0,
          0.15285065880455073,
          0.17108573719023618,
          0.1689274104742277,
          0,
          0,
          0,
          0,
          0,
          0,
          1,
          1,
          0,
          0,
          0.15997322190815116,
          0.16529257275140394,
          0.07082079809851063,
          0,
          0.08925827097498633,
          0.0936488981045227,
          0,
          0,
          0,
          0,
          0,
          0.5359969783946994,
          0,
          0,
          0,
          0,
          0,
          0,
          1,
          1,
          1,
          1,
          1,
          0,
          0.007461963482041735,
          0.07034379090955441,
          0,
          0,
          0,
          1,
          1,
          1,
          1,
          1,
          1,
          1,
          0,
          0,
          1,
          0,
          0,
          0,
          1,
          1,
          1,
          1,
          0,
          0.17577617264311474,
          0,
          0.01998149034841066,
          0,
          0.13120181638952583,
          0.07188135033419249
         ]
        }
       ],
       "layout": {
        "template": {
         "data": {
          "bar": [
           {
            "error_x": {
             "color": "#2a3f5f"
            },
            "error_y": {
             "color": "#2a3f5f"
            },
            "marker": {
             "line": {
              "color": "#E5ECF6",
              "width": 0.5
             },
             "pattern": {
              "fillmode": "overlay",
              "size": 10,
              "solidity": 0.2
             }
            },
            "type": "bar"
           }
          ],
          "barpolar": [
           {
            "marker": {
             "line": {
              "color": "#E5ECF6",
              "width": 0.5
             },
             "pattern": {
              "fillmode": "overlay",
              "size": 10,
              "solidity": 0.2
             }
            },
            "type": "barpolar"
           }
          ],
          "carpet": [
           {
            "aaxis": {
             "endlinecolor": "#2a3f5f",
             "gridcolor": "white",
             "linecolor": "white",
             "minorgridcolor": "white",
             "startlinecolor": "#2a3f5f"
            },
            "baxis": {
             "endlinecolor": "#2a3f5f",
             "gridcolor": "white",
             "linecolor": "white",
             "minorgridcolor": "white",
             "startlinecolor": "#2a3f5f"
            },
            "type": "carpet"
           }
          ],
          "choropleth": [
           {
            "colorbar": {
             "outlinewidth": 0,
             "ticks": ""
            },
            "type": "choropleth"
           }
          ],
          "contour": [
           {
            "colorbar": {
             "outlinewidth": 0,
             "ticks": ""
            },
            "colorscale": [
             [
              0,
              "#0d0887"
             ],
             [
              0.1111111111111111,
              "#46039f"
             ],
             [
              0.2222222222222222,
              "#7201a8"
             ],
             [
              0.3333333333333333,
              "#9c179e"
             ],
             [
              0.4444444444444444,
              "#bd3786"
             ],
             [
              0.5555555555555556,
              "#d8576b"
             ],
             [
              0.6666666666666666,
              "#ed7953"
             ],
             [
              0.7777777777777778,
              "#fb9f3a"
             ],
             [
              0.8888888888888888,
              "#fdca26"
             ],
             [
              1,
              "#f0f921"
             ]
            ],
            "type": "contour"
           }
          ],
          "contourcarpet": [
           {
            "colorbar": {
             "outlinewidth": 0,
             "ticks": ""
            },
            "type": "contourcarpet"
           }
          ],
          "heatmap": [
           {
            "colorbar": {
             "outlinewidth": 0,
             "ticks": ""
            },
            "colorscale": [
             [
              0,
              "#0d0887"
             ],
             [
              0.1111111111111111,
              "#46039f"
             ],
             [
              0.2222222222222222,
              "#7201a8"
             ],
             [
              0.3333333333333333,
              "#9c179e"
             ],
             [
              0.4444444444444444,
              "#bd3786"
             ],
             [
              0.5555555555555556,
              "#d8576b"
             ],
             [
              0.6666666666666666,
              "#ed7953"
             ],
             [
              0.7777777777777778,
              "#fb9f3a"
             ],
             [
              0.8888888888888888,
              "#fdca26"
             ],
             [
              1,
              "#f0f921"
             ]
            ],
            "type": "heatmap"
           }
          ],
          "heatmapgl": [
           {
            "colorbar": {
             "outlinewidth": 0,
             "ticks": ""
            },
            "colorscale": [
             [
              0,
              "#0d0887"
             ],
             [
              0.1111111111111111,
              "#46039f"
             ],
             [
              0.2222222222222222,
              "#7201a8"
             ],
             [
              0.3333333333333333,
              "#9c179e"
             ],
             [
              0.4444444444444444,
              "#bd3786"
             ],
             [
              0.5555555555555556,
              "#d8576b"
             ],
             [
              0.6666666666666666,
              "#ed7953"
             ],
             [
              0.7777777777777778,
              "#fb9f3a"
             ],
             [
              0.8888888888888888,
              "#fdca26"
             ],
             [
              1,
              "#f0f921"
             ]
            ],
            "type": "heatmapgl"
           }
          ],
          "histogram": [
           {
            "marker": {
             "pattern": {
              "fillmode": "overlay",
              "size": 10,
              "solidity": 0.2
             }
            },
            "type": "histogram"
           }
          ],
          "histogram2d": [
           {
            "colorbar": {
             "outlinewidth": 0,
             "ticks": ""
            },
            "colorscale": [
             [
              0,
              "#0d0887"
             ],
             [
              0.1111111111111111,
              "#46039f"
             ],
             [
              0.2222222222222222,
              "#7201a8"
             ],
             [
              0.3333333333333333,
              "#9c179e"
             ],
             [
              0.4444444444444444,
              "#bd3786"
             ],
             [
              0.5555555555555556,
              "#d8576b"
             ],
             [
              0.6666666666666666,
              "#ed7953"
             ],
             [
              0.7777777777777778,
              "#fb9f3a"
             ],
             [
              0.8888888888888888,
              "#fdca26"
             ],
             [
              1,
              "#f0f921"
             ]
            ],
            "type": "histogram2d"
           }
          ],
          "histogram2dcontour": [
           {
            "colorbar": {
             "outlinewidth": 0,
             "ticks": ""
            },
            "colorscale": [
             [
              0,
              "#0d0887"
             ],
             [
              0.1111111111111111,
              "#46039f"
             ],
             [
              0.2222222222222222,
              "#7201a8"
             ],
             [
              0.3333333333333333,
              "#9c179e"
             ],
             [
              0.4444444444444444,
              "#bd3786"
             ],
             [
              0.5555555555555556,
              "#d8576b"
             ],
             [
              0.6666666666666666,
              "#ed7953"
             ],
             [
              0.7777777777777778,
              "#fb9f3a"
             ],
             [
              0.8888888888888888,
              "#fdca26"
             ],
             [
              1,
              "#f0f921"
             ]
            ],
            "type": "histogram2dcontour"
           }
          ],
          "mesh3d": [
           {
            "colorbar": {
             "outlinewidth": 0,
             "ticks": ""
            },
            "type": "mesh3d"
           }
          ],
          "parcoords": [
           {
            "line": {
             "colorbar": {
              "outlinewidth": 0,
              "ticks": ""
             }
            },
            "type": "parcoords"
           }
          ],
          "pie": [
           {
            "automargin": true,
            "type": "pie"
           }
          ],
          "scatter": [
           {
            "marker": {
             "colorbar": {
              "outlinewidth": 0,
              "ticks": ""
             }
            },
            "type": "scatter"
           }
          ],
          "scatter3d": [
           {
            "line": {
             "colorbar": {
              "outlinewidth": 0,
              "ticks": ""
             }
            },
            "marker": {
             "colorbar": {
              "outlinewidth": 0,
              "ticks": ""
             }
            },
            "type": "scatter3d"
           }
          ],
          "scattercarpet": [
           {
            "marker": {
             "colorbar": {
              "outlinewidth": 0,
              "ticks": ""
             }
            },
            "type": "scattercarpet"
           }
          ],
          "scattergeo": [
           {
            "marker": {
             "colorbar": {
              "outlinewidth": 0,
              "ticks": ""
             }
            },
            "type": "scattergeo"
           }
          ],
          "scattergl": [
           {
            "marker": {
             "colorbar": {
              "outlinewidth": 0,
              "ticks": ""
             }
            },
            "type": "scattergl"
           }
          ],
          "scattermapbox": [
           {
            "marker": {
             "colorbar": {
              "outlinewidth": 0,
              "ticks": ""
             }
            },
            "type": "scattermapbox"
           }
          ],
          "scatterpolar": [
           {
            "marker": {
             "colorbar": {
              "outlinewidth": 0,
              "ticks": ""
             }
            },
            "type": "scatterpolar"
           }
          ],
          "scatterpolargl": [
           {
            "marker": {
             "colorbar": {
              "outlinewidth": 0,
              "ticks": ""
             }
            },
            "type": "scatterpolargl"
           }
          ],
          "scatterternary": [
           {
            "marker": {
             "colorbar": {
              "outlinewidth": 0,
              "ticks": ""
             }
            },
            "type": "scatterternary"
           }
          ],
          "surface": [
           {
            "colorbar": {
             "outlinewidth": 0,
             "ticks": ""
            },
            "colorscale": [
             [
              0,
              "#0d0887"
             ],
             [
              0.1111111111111111,
              "#46039f"
             ],
             [
              0.2222222222222222,
              "#7201a8"
             ],
             [
              0.3333333333333333,
              "#9c179e"
             ],
             [
              0.4444444444444444,
              "#bd3786"
             ],
             [
              0.5555555555555556,
              "#d8576b"
             ],
             [
              0.6666666666666666,
              "#ed7953"
             ],
             [
              0.7777777777777778,
              "#fb9f3a"
             ],
             [
              0.8888888888888888,
              "#fdca26"
             ],
             [
              1,
              "#f0f921"
             ]
            ],
            "type": "surface"
           }
          ],
          "table": [
           {
            "cells": {
             "fill": {
              "color": "#EBF0F8"
             },
             "line": {
              "color": "white"
             }
            },
            "header": {
             "fill": {
              "color": "#C8D4E3"
             },
             "line": {
              "color": "white"
             }
            },
            "type": "table"
           }
          ]
         },
         "layout": {
          "annotationdefaults": {
           "arrowcolor": "#2a3f5f",
           "arrowhead": 0,
           "arrowwidth": 1
          },
          "autotypenumbers": "strict",
          "coloraxis": {
           "colorbar": {
            "outlinewidth": 0,
            "ticks": ""
           }
          },
          "colorscale": {
           "diverging": [
            [
             0,
             "#8e0152"
            ],
            [
             0.1,
             "#c51b7d"
            ],
            [
             0.2,
             "#de77ae"
            ],
            [
             0.3,
             "#f1b6da"
            ],
            [
             0.4,
             "#fde0ef"
            ],
            [
             0.5,
             "#f7f7f7"
            ],
            [
             0.6,
             "#e6f5d0"
            ],
            [
             0.7,
             "#b8e186"
            ],
            [
             0.8,
             "#7fbc41"
            ],
            [
             0.9,
             "#4d9221"
            ],
            [
             1,
             "#276419"
            ]
           ],
           "sequential": [
            [
             0,
             "#0d0887"
            ],
            [
             0.1111111111111111,
             "#46039f"
            ],
            [
             0.2222222222222222,
             "#7201a8"
            ],
            [
             0.3333333333333333,
             "#9c179e"
            ],
            [
             0.4444444444444444,
             "#bd3786"
            ],
            [
             0.5555555555555556,
             "#d8576b"
            ],
            [
             0.6666666666666666,
             "#ed7953"
            ],
            [
             0.7777777777777778,
             "#fb9f3a"
            ],
            [
             0.8888888888888888,
             "#fdca26"
            ],
            [
             1,
             "#f0f921"
            ]
           ],
           "sequentialminus": [
            [
             0,
             "#0d0887"
            ],
            [
             0.1111111111111111,
             "#46039f"
            ],
            [
             0.2222222222222222,
             "#7201a8"
            ],
            [
             0.3333333333333333,
             "#9c179e"
            ],
            [
             0.4444444444444444,
             "#bd3786"
            ],
            [
             0.5555555555555556,
             "#d8576b"
            ],
            [
             0.6666666666666666,
             "#ed7953"
            ],
            [
             0.7777777777777778,
             "#fb9f3a"
            ],
            [
             0.8888888888888888,
             "#fdca26"
            ],
            [
             1,
             "#f0f921"
            ]
           ]
          },
          "colorway": [
           "#636efa",
           "#EF553B",
           "#00cc96",
           "#ab63fa",
           "#FFA15A",
           "#19d3f3",
           "#FF6692",
           "#B6E880",
           "#FF97FF",
           "#FECB52"
          ],
          "font": {
           "color": "#2a3f5f"
          },
          "geo": {
           "bgcolor": "white",
           "lakecolor": "white",
           "landcolor": "#E5ECF6",
           "showlakes": true,
           "showland": true,
           "subunitcolor": "white"
          },
          "hoverlabel": {
           "align": "left"
          },
          "hovermode": "closest",
          "mapbox": {
           "style": "light"
          },
          "paper_bgcolor": "white",
          "plot_bgcolor": "#E5ECF6",
          "polar": {
           "angularaxis": {
            "gridcolor": "white",
            "linecolor": "white",
            "ticks": ""
           },
           "bgcolor": "#E5ECF6",
           "radialaxis": {
            "gridcolor": "white",
            "linecolor": "white",
            "ticks": ""
           }
          },
          "scene": {
           "xaxis": {
            "backgroundcolor": "#E5ECF6",
            "gridcolor": "white",
            "gridwidth": 2,
            "linecolor": "white",
            "showbackground": true,
            "ticks": "",
            "zerolinecolor": "white"
           },
           "yaxis": {
            "backgroundcolor": "#E5ECF6",
            "gridcolor": "white",
            "gridwidth": 2,
            "linecolor": "white",
            "showbackground": true,
            "ticks": "",
            "zerolinecolor": "white"
           },
           "zaxis": {
            "backgroundcolor": "#E5ECF6",
            "gridcolor": "white",
            "gridwidth": 2,
            "linecolor": "white",
            "showbackground": true,
            "ticks": "",
            "zerolinecolor": "white"
           }
          },
          "shapedefaults": {
           "line": {
            "color": "#2a3f5f"
           }
          },
          "ternary": {
           "aaxis": {
            "gridcolor": "white",
            "linecolor": "white",
            "ticks": ""
           },
           "baxis": {
            "gridcolor": "white",
            "linecolor": "white",
            "ticks": ""
           },
           "bgcolor": "#E5ECF6",
           "caxis": {
            "gridcolor": "white",
            "linecolor": "white",
            "ticks": ""
           }
          },
          "title": {
           "x": 0.05
          },
          "xaxis": {
           "automargin": true,
           "gridcolor": "white",
           "linecolor": "white",
           "ticks": "",
           "title": {
            "standoff": 15
           },
           "zerolinecolor": "white",
           "zerolinewidth": 2
          },
          "yaxis": {
           "automargin": true,
           "gridcolor": "white",
           "linecolor": "white",
           "ticks": "",
           "title": {
            "standoff": 15
           },
           "zerolinecolor": "white",
           "zerolinewidth": 2
          }
         }
        },
        "title": {
         "text": "Gate postion"
        }
       }
      }
     },
     "metadata": {},
     "output_type": "display_data"
    }
   ],
   "source": [
    "shop.set_code(['incremental'], [])\n",
    "shop.start_sim([],[3])\n",
    "\n",
    "fig = go.Figure()\n",
    "plant1_prod = shop.model.plant.plant1.production.get()\n",
    "plant2_prod = shop.model.plant.plant2.production.get()\n",
    "plant2_cons = shop.model.plant.plant2.consumption.get()\n",
    "fig.add_trace(go.Scatter(x=plant1_prod.index, y=plant1_prod.values, name=\"Plant 1 production\"))\n",
    "fig.add_trace(go.Scatter(x=plant2_prod.index, y=plant2_prod.values, name=\"Plant 2 production\"))\n",
    "fig.add_trace(go.Scatter(x=plant2_cons.index, y=plant2_cons.values, name=\"Plant 2 consumption\"))\n",
    "fig.update_layout(title=\"Production and consumption\")\n",
    "fig.show()\n",
    "\n",
    "fig = go.Figure()\n",
    "rsv1_head = shop.model.reservoir.rsv1.storage.get()\n",
    "rsv2_head = shop.model.reservoir.rsv2.storage.get()\n",
    "rsv3_head = shop.model.reservoir.rsv3.storage.get()\n",
    "fig.add_trace(go.Scatter(x=rsv1_head.index, y=rsv1_head.values, name=\"Rsv 1 storage\"))\n",
    "fig.add_trace(go.Scatter(x=rsv1_head.index, y=rsv2_head.values, name=\"Rsv 2 storage\"))\n",
    "fig.add_trace(go.Scatter(x=rsv1_head.index, y=rsv3_head.values, name=\"Rsv 3 storage\"))\n",
    "fig.update_layout(title=\"Reservoir storage\")\n",
    "fig.show()\n",
    "\n",
    "fig = go.Figure()\n",
    "gate = shop.model.tunnel.t_r1_n1.gate_opening.get()\n",
    "fig.add_trace(go.Scatter(x=gate.index, y=gate.values, name=\"Rsv 1 gate position\"))\n",
    "fig.update_layout(title=\"Gate postion\")\n",
    "fig.show()"
   ]
  },
  {
   "cell_type": "markdown",
   "id": "27617485-0e6f-4400-a9be-578900b15477",
   "metadata": {},
   "source": [
    "## 3. Tunnel discrete gates\n",
    "Tunnels are often equiped with gates that can either be opened or closed, or operated at a limited number of fixed positions. The allowed positions are given by the points at the gate opening curve. In our example, the gates can either be fully opened or closed. Moreover, there will typically be a limited number of permitted gate position combinations. To avoid air pockets, the tunnel segments should no be depressurized. In our case, only one of the gates should be closed at any time. Therfore, we defined a interlock constraint comprising all gates and set minimum number of open gates to 2 and maximum to 3.\n",
    "\n",
    "This type of problem requires mixed-integer programming (MIP), hence it is computationally difficult to solve. In our case, we prefer to switch the gates around mid-night and set the adjustment cost to a very high value the other hours to narrow down the MIP search. We also set a cost in the hours where we prefer the switch to occur since it is beneficial for the solution time. Finally, the MIP-gap is set absolute and we use 2 times the switch cost."
   ]
  },
  {
   "cell_type": "code",
   "execution_count": 13,
   "id": "20097614-2a6c-4eaf-9fd3-9682a217ff42",
   "metadata": {},
   "outputs": [],
   "source": [
    "def insert_discrete_gate(shop):\n",
    "    starttime = shop.get_time_resolution()[\"starttime\"]\n",
    "    adjustment_cost = pd.Series(\n",
    "        [100000, 500, 100000, 500, 100000],\n",
    "        index=[starttime, starttime + pd.Timedelta(hours=22), starttime + pd.Timedelta(hours=26), starttime + pd.Timedelta(hours=46), starttime + pd.Timedelta(hours=50)]\n",
    "    )\n",
    "    shop.model.tunnel.t_r1_n1.gate_opening_curve.set(pd.Series([0,1], index=[0,1]))\n",
    "    shop.model.tunnel.t_r1_n1.initial_opening.set(1)\n",
    "    shop.model.tunnel.t_r1_n1.gate_adjustment_cost.set(adjustment_cost)\n",
    "    #shop.model.tunnel.t_r1_n1.gate_opening_schedule.set(1)\n",
    "    \n",
    "    shop.model.tunnel.t_r2_n3.gate_opening_curve.set(pd.Series([0,1], index=[0,1]))\n",
    "    shop.model.tunnel.t_r2_n3.initial_opening.set(1)\n",
    "    shop.model.tunnel.t_r2_n3.gate_adjustment_cost.set(adjustment_cost)\n",
    "    # shop.model.tunnel.t_r2_n3.gate_opening_schedule.set(1)\n",
    "    \n",
    "    shop.model.tunnel.t_n3_n2.gate_opening_curve.set(pd.Series([0,1], index=[0,1]))\n",
    "    shop.model.tunnel.t_n3_n2.initial_opening.set(0)\n",
    "    shop.model.tunnel.t_n3_n2.gate_adjustment_cost.set(adjustment_cost)\n",
    "    # shop.model.tunnel.t_n3_n2.gate_opening_schedule.set(1)\n",
    "    \n",
    "    shop.model.interlock_constraint.add_object(\"Interlock1\")\n",
    "    shop.model.interlock_constraint.Interlock1.connect_to(shop.model.tunnel.t_r1_n1)\n",
    "    shop.model.interlock_constraint.Interlock1.connect_to(shop.model.tunnel.t_r2_n3)\n",
    "    shop.model.interlock_constraint.Interlock1.connect_to(shop.model.tunnel.t_n3_n2)\n",
    "    shop.model.interlock_constraint.Interlock1.min_open.set(2)\n",
    "    shop.model.interlock_constraint.Interlock1.max_open.set(2)\n",
    "    shop.model.interlock_constraint.Interlock1.forward_switch_time.set(1)\n",
    "    shop.model.interlock_constraint.Interlock1.backward_switch_time.set(1)\n",
    "    \n",
    "    shop.set_mipgap([\"absolute\"], [1000])\n",
    "\n",
    "shop = new_model()\n",
    "add_reservoirs(shop)\n",
    "add_tunnels(shop)\n",
    "add_plants(shop)\n",
    "connect_objects(shop)\n",
    "init_model(shop)\n",
    "insert_discrete_gate(shop)"
   ]
  },
  {
   "cell_type": "code",
   "execution_count": 14,
   "id": "64e3721b-e9f5-4ca7-993e-6425f5de69c5",
   "metadata": {},
   "outputs": [
    {
     "data": {
      "application/vnd.plotly.v1+json": {
       "config": {
        "plotlyServerURL": "https://plot.ly"
       },
       "data": [
        {
         "name": "Plant 1 production",
         "type": "scatter",
         "x": [
          "2022-04-16T00:00:00",
          "2022-04-16T01:00:00",
          "2022-04-16T02:00:00",
          "2022-04-16T03:00:00",
          "2022-04-16T04:00:00",
          "2022-04-16T05:00:00",
          "2022-04-16T06:00:00",
          "2022-04-16T07:00:00",
          "2022-04-16T08:00:00",
          "2022-04-16T09:00:00",
          "2022-04-16T10:00:00",
          "2022-04-16T11:00:00",
          "2022-04-16T12:00:00",
          "2022-04-16T13:00:00",
          "2022-04-16T14:00:00",
          "2022-04-16T15:00:00",
          "2022-04-16T16:00:00",
          "2022-04-16T17:00:00",
          "2022-04-16T18:00:00",
          "2022-04-16T19:00:00",
          "2022-04-16T20:00:00",
          "2022-04-16T21:00:00",
          "2022-04-16T22:00:00",
          "2022-04-16T23:00:00",
          "2022-04-17T00:00:00",
          "2022-04-17T01:00:00",
          "2022-04-17T02:00:00",
          "2022-04-17T03:00:00",
          "2022-04-17T04:00:00",
          "2022-04-17T05:00:00",
          "2022-04-17T06:00:00",
          "2022-04-17T07:00:00",
          "2022-04-17T08:00:00",
          "2022-04-17T09:00:00",
          "2022-04-17T10:00:00",
          "2022-04-17T11:00:00",
          "2022-04-17T12:00:00",
          "2022-04-17T13:00:00",
          "2022-04-17T14:00:00",
          "2022-04-17T15:00:00",
          "2022-04-17T16:00:00",
          "2022-04-17T17:00:00",
          "2022-04-17T18:00:00",
          "2022-04-17T19:00:00",
          "2022-04-17T20:00:00",
          "2022-04-17T21:00:00",
          "2022-04-17T22:00:00",
          "2022-04-17T23:00:00",
          "2022-04-18T00:00:00",
          "2022-04-18T01:00:00",
          "2022-04-18T02:00:00",
          "2022-04-18T03:00:00",
          "2022-04-18T04:00:00",
          "2022-04-18T05:00:00",
          "2022-04-18T06:00:00",
          "2022-04-18T07:00:00",
          "2022-04-18T08:00:00",
          "2022-04-18T09:00:00",
          "2022-04-18T10:00:00",
          "2022-04-18T11:00:00",
          "2022-04-18T12:00:00",
          "2022-04-18T13:00:00",
          "2022-04-18T14:00:00",
          "2022-04-18T15:00:00",
          "2022-04-18T16:00:00",
          "2022-04-18T17:00:00",
          "2022-04-18T18:00:00",
          "2022-04-18T19:00:00",
          "2022-04-18T20:00:00",
          "2022-04-18T21:00:00",
          "2022-04-18T22:00:00",
          "2022-04-18T23:00:00"
         ],
         "y": [
          65.67181394553653,
          49.18594778496533,
          49.158465416255694,
          49.70738003393225,
          49.69145268734027,
          49.1313743372988,
          49.09190139458913,
          49.05314800299961,
          49.014442572822276,
          48.975710892704534,
          49.441054667752766,
          49.423738734073694,
          0,
          0,
          0,
          0,
          0,
          0,
          49.323744509493565,
          49.12156426781688,
          51.04281849573461,
          49.01115075819749,
          69.84728912339997,
          69.84234553968352,
          31.62695521145278,
          31.416717462931242,
          0,
          0,
          0,
          0,
          31.87418368100346,
          31.88507504249272,
          31.93566813490966,
          32.418302372371016,
          32.04136970130974,
          52.22455152511932,
          32.130731211761876,
          0,
          0,
          0,
          0,
          0,
          72.96274459601146,
          71.87227191903116,
          71.80310048151179,
          71.7405210535186,
          71.6779240744063,
          72.72167966092265,
          0,
          0,
          0,
          0,
          0,
          0,
          0,
          54.018372135899995,
          53.73735189847193,
          64.04635671177452,
          74.33762452812971,
          54.29969051941402,
          54.354679030867715,
          9.814823327100063,
          0,
          0,
          75.0357034364374,
          73.94226373861483,
          73.87630455849954,
          73.81356337384241,
          73.75090781562422,
          73.68810905449676,
          73.62525495483031,
          73.56238296280236
         ]
        },
        {
         "name": "Plant 2 production",
         "type": "scatter",
         "x": [
          "2022-04-16T00:00:00",
          "2022-04-16T01:00:00",
          "2022-04-16T02:00:00",
          "2022-04-16T03:00:00",
          "2022-04-16T04:00:00",
          "2022-04-16T05:00:00",
          "2022-04-16T06:00:00",
          "2022-04-16T07:00:00",
          "2022-04-16T08:00:00",
          "2022-04-16T09:00:00",
          "2022-04-16T10:00:00",
          "2022-04-16T11:00:00",
          "2022-04-16T12:00:00",
          "2022-04-16T13:00:00",
          "2022-04-16T14:00:00",
          "2022-04-16T15:00:00",
          "2022-04-16T16:00:00",
          "2022-04-16T17:00:00",
          "2022-04-16T18:00:00",
          "2022-04-16T19:00:00",
          "2022-04-16T20:00:00",
          "2022-04-16T21:00:00",
          "2022-04-16T22:00:00",
          "2022-04-16T23:00:00",
          "2022-04-17T00:00:00",
          "2022-04-17T01:00:00",
          "2022-04-17T02:00:00",
          "2022-04-17T03:00:00",
          "2022-04-17T04:00:00",
          "2022-04-17T05:00:00",
          "2022-04-17T06:00:00",
          "2022-04-17T07:00:00",
          "2022-04-17T08:00:00",
          "2022-04-17T09:00:00",
          "2022-04-17T10:00:00",
          "2022-04-17T11:00:00",
          "2022-04-17T12:00:00",
          "2022-04-17T13:00:00",
          "2022-04-17T14:00:00",
          "2022-04-17T15:00:00",
          "2022-04-17T16:00:00",
          "2022-04-17T17:00:00",
          "2022-04-17T18:00:00",
          "2022-04-17T19:00:00",
          "2022-04-17T20:00:00",
          "2022-04-17T21:00:00",
          "2022-04-17T22:00:00",
          "2022-04-17T23:00:00",
          "2022-04-18T00:00:00",
          "2022-04-18T01:00:00",
          "2022-04-18T02:00:00",
          "2022-04-18T03:00:00",
          "2022-04-18T04:00:00",
          "2022-04-18T05:00:00",
          "2022-04-18T06:00:00",
          "2022-04-18T07:00:00",
          "2022-04-18T08:00:00",
          "2022-04-18T09:00:00",
          "2022-04-18T10:00:00",
          "2022-04-18T11:00:00",
          "2022-04-18T12:00:00",
          "2022-04-18T13:00:00",
          "2022-04-18T14:00:00",
          "2022-04-18T15:00:00",
          "2022-04-18T16:00:00",
          "2022-04-18T17:00:00",
          "2022-04-18T18:00:00",
          "2022-04-18T19:00:00",
          "2022-04-18T20:00:00",
          "2022-04-18T21:00:00",
          "2022-04-18T22:00:00",
          "2022-04-18T23:00:00"
         ],
         "y": [
          0,
          0,
          0,
          0,
          0,
          0,
          0,
          0,
          0,
          0,
          0,
          0,
          0,
          0,
          0,
          0,
          0,
          0,
          0,
          0,
          0,
          0,
          0,
          0,
          0,
          0,
          0,
          0,
          0,
          0,
          0,
          0,
          0,
          0,
          0,
          0,
          0,
          0,
          0,
          0,
          0,
          0,
          0,
          16.175084085206702,
          16.167548845655272,
          16.161594146399594,
          16.155635238980857,
          0,
          0,
          0,
          0,
          0,
          0,
          0,
          0,
          0,
          0,
          0,
          0,
          0,
          0,
          0,
          0,
          0,
          0,
          17.091846773805308,
          17.085081724625617,
          17.079088241608414,
          17.07311528890697,
          17.067108001005067,
          17.061087444798492,
          17.055062598610505
         ]
        },
        {
         "name": "Plant 2 consumption",
         "type": "scatter",
         "x": [
          "2022-04-16T00:00:00",
          "2022-04-16T01:00:00",
          "2022-04-16T02:00:00",
          "2022-04-16T03:00:00",
          "2022-04-16T04:00:00",
          "2022-04-16T05:00:00",
          "2022-04-16T06:00:00",
          "2022-04-16T07:00:00",
          "2022-04-16T08:00:00",
          "2022-04-16T09:00:00",
          "2022-04-16T10:00:00",
          "2022-04-16T11:00:00",
          "2022-04-16T12:00:00",
          "2022-04-16T13:00:00",
          "2022-04-16T14:00:00",
          "2022-04-16T15:00:00",
          "2022-04-16T16:00:00",
          "2022-04-16T17:00:00",
          "2022-04-16T18:00:00",
          "2022-04-16T19:00:00",
          "2022-04-16T20:00:00",
          "2022-04-16T21:00:00",
          "2022-04-16T22:00:00",
          "2022-04-16T23:00:00",
          "2022-04-17T00:00:00",
          "2022-04-17T01:00:00",
          "2022-04-17T02:00:00",
          "2022-04-17T03:00:00",
          "2022-04-17T04:00:00",
          "2022-04-17T05:00:00",
          "2022-04-17T06:00:00",
          "2022-04-17T07:00:00",
          "2022-04-17T08:00:00",
          "2022-04-17T09:00:00",
          "2022-04-17T10:00:00",
          "2022-04-17T11:00:00",
          "2022-04-17T12:00:00",
          "2022-04-17T13:00:00",
          "2022-04-17T14:00:00",
          "2022-04-17T15:00:00",
          "2022-04-17T16:00:00",
          "2022-04-17T17:00:00",
          "2022-04-17T18:00:00",
          "2022-04-17T19:00:00",
          "2022-04-17T20:00:00",
          "2022-04-17T21:00:00",
          "2022-04-17T22:00:00",
          "2022-04-17T23:00:00",
          "2022-04-18T00:00:00",
          "2022-04-18T01:00:00",
          "2022-04-18T02:00:00",
          "2022-04-18T03:00:00",
          "2022-04-18T04:00:00",
          "2022-04-18T05:00:00",
          "2022-04-18T06:00:00",
          "2022-04-18T07:00:00",
          "2022-04-18T08:00:00",
          "2022-04-18T09:00:00",
          "2022-04-18T10:00:00",
          "2022-04-18T11:00:00",
          "2022-04-18T12:00:00",
          "2022-04-18T13:00:00",
          "2022-04-18T14:00:00",
          "2022-04-18T15:00:00",
          "2022-04-18T16:00:00",
          "2022-04-18T17:00:00",
          "2022-04-18T18:00:00",
          "2022-04-18T19:00:00",
          "2022-04-18T20:00:00",
          "2022-04-18T21:00:00",
          "2022-04-18T22:00:00",
          "2022-04-18T23:00:00"
         ],
         "y": [
          14.69447407699678,
          14.80701814414257,
          14.783669975071923,
          46.87949268639484,
          47.108616462487035,
          14.894061454019154,
          14.871387466237573,
          14.846462949590874,
          14.821381024437063,
          19.805976556255327,
          46.9627782709641,
          47.187883318476054,
          47.94197386511256,
          48.20596892590696,
          48.470568378759026,
          48.734598509080676,
          50.05597996621479,
          49.26730043929714,
          15.43486941018478,
          0,
          0,
          0,
          32.725448382175315,
          32.882832793069504,
          44.39724089076549,
          44.66079879873054,
          47.44100436843439,
          47.79392811215128,
          48.150985214713764,
          48.50554134085914,
          46.34048930312092,
          46.50968571349545,
          46.75775994233787,
          46.937968634928616,
          47.26356778163714,
          43.01542742938109,
          47.66269635006555,
          50.18631153360599,
          50.18175631965137,
          50.17537992125438,
          50.16993221554266,
          50.16440382707251,
          38.594675335295896,
          37.44595237177984,
          37.396614987732015,
          37.371693626452604,
          37.34673443551542,
          38.30771494901951,
          50.158665815284394,
          50.15462775050622,
          50.15075676210361,
          50.14654092865034,
          50.142404113329974,
          50.138285680374054,
          50.13416972891499,
          45.62658974973647,
          45.44516021021319,
          44.39514365112505,
          40.93797426343007,
          47.779554786390925,
          47.976807632882306,
          50.01261572778149,
          50.000403658540606,
          49.99970670919414,
          42.369977732467014,
          41.2837664703541,
          41.23881179240485,
          41.2140669107447,
          41.189473529581264,
          41.16461718470835,
          41.139657599235655,
          41.11466254978639
         ]
        }
       ],
       "layout": {
        "template": {
         "data": {
          "bar": [
           {
            "error_x": {
             "color": "#2a3f5f"
            },
            "error_y": {
             "color": "#2a3f5f"
            },
            "marker": {
             "line": {
              "color": "#E5ECF6",
              "width": 0.5
             },
             "pattern": {
              "fillmode": "overlay",
              "size": 10,
              "solidity": 0.2
             }
            },
            "type": "bar"
           }
          ],
          "barpolar": [
           {
            "marker": {
             "line": {
              "color": "#E5ECF6",
              "width": 0.5
             },
             "pattern": {
              "fillmode": "overlay",
              "size": 10,
              "solidity": 0.2
             }
            },
            "type": "barpolar"
           }
          ],
          "carpet": [
           {
            "aaxis": {
             "endlinecolor": "#2a3f5f",
             "gridcolor": "white",
             "linecolor": "white",
             "minorgridcolor": "white",
             "startlinecolor": "#2a3f5f"
            },
            "baxis": {
             "endlinecolor": "#2a3f5f",
             "gridcolor": "white",
             "linecolor": "white",
             "minorgridcolor": "white",
             "startlinecolor": "#2a3f5f"
            },
            "type": "carpet"
           }
          ],
          "choropleth": [
           {
            "colorbar": {
             "outlinewidth": 0,
             "ticks": ""
            },
            "type": "choropleth"
           }
          ],
          "contour": [
           {
            "colorbar": {
             "outlinewidth": 0,
             "ticks": ""
            },
            "colorscale": [
             [
              0,
              "#0d0887"
             ],
             [
              0.1111111111111111,
              "#46039f"
             ],
             [
              0.2222222222222222,
              "#7201a8"
             ],
             [
              0.3333333333333333,
              "#9c179e"
             ],
             [
              0.4444444444444444,
              "#bd3786"
             ],
             [
              0.5555555555555556,
              "#d8576b"
             ],
             [
              0.6666666666666666,
              "#ed7953"
             ],
             [
              0.7777777777777778,
              "#fb9f3a"
             ],
             [
              0.8888888888888888,
              "#fdca26"
             ],
             [
              1,
              "#f0f921"
             ]
            ],
            "type": "contour"
           }
          ],
          "contourcarpet": [
           {
            "colorbar": {
             "outlinewidth": 0,
             "ticks": ""
            },
            "type": "contourcarpet"
           }
          ],
          "heatmap": [
           {
            "colorbar": {
             "outlinewidth": 0,
             "ticks": ""
            },
            "colorscale": [
             [
              0,
              "#0d0887"
             ],
             [
              0.1111111111111111,
              "#46039f"
             ],
             [
              0.2222222222222222,
              "#7201a8"
             ],
             [
              0.3333333333333333,
              "#9c179e"
             ],
             [
              0.4444444444444444,
              "#bd3786"
             ],
             [
              0.5555555555555556,
              "#d8576b"
             ],
             [
              0.6666666666666666,
              "#ed7953"
             ],
             [
              0.7777777777777778,
              "#fb9f3a"
             ],
             [
              0.8888888888888888,
              "#fdca26"
             ],
             [
              1,
              "#f0f921"
             ]
            ],
            "type": "heatmap"
           }
          ],
          "heatmapgl": [
           {
            "colorbar": {
             "outlinewidth": 0,
             "ticks": ""
            },
            "colorscale": [
             [
              0,
              "#0d0887"
             ],
             [
              0.1111111111111111,
              "#46039f"
             ],
             [
              0.2222222222222222,
              "#7201a8"
             ],
             [
              0.3333333333333333,
              "#9c179e"
             ],
             [
              0.4444444444444444,
              "#bd3786"
             ],
             [
              0.5555555555555556,
              "#d8576b"
             ],
             [
              0.6666666666666666,
              "#ed7953"
             ],
             [
              0.7777777777777778,
              "#fb9f3a"
             ],
             [
              0.8888888888888888,
              "#fdca26"
             ],
             [
              1,
              "#f0f921"
             ]
            ],
            "type": "heatmapgl"
           }
          ],
          "histogram": [
           {
            "marker": {
             "pattern": {
              "fillmode": "overlay",
              "size": 10,
              "solidity": 0.2
             }
            },
            "type": "histogram"
           }
          ],
          "histogram2d": [
           {
            "colorbar": {
             "outlinewidth": 0,
             "ticks": ""
            },
            "colorscale": [
             [
              0,
              "#0d0887"
             ],
             [
              0.1111111111111111,
              "#46039f"
             ],
             [
              0.2222222222222222,
              "#7201a8"
             ],
             [
              0.3333333333333333,
              "#9c179e"
             ],
             [
              0.4444444444444444,
              "#bd3786"
             ],
             [
              0.5555555555555556,
              "#d8576b"
             ],
             [
              0.6666666666666666,
              "#ed7953"
             ],
             [
              0.7777777777777778,
              "#fb9f3a"
             ],
             [
              0.8888888888888888,
              "#fdca26"
             ],
             [
              1,
              "#f0f921"
             ]
            ],
            "type": "histogram2d"
           }
          ],
          "histogram2dcontour": [
           {
            "colorbar": {
             "outlinewidth": 0,
             "ticks": ""
            },
            "colorscale": [
             [
              0,
              "#0d0887"
             ],
             [
              0.1111111111111111,
              "#46039f"
             ],
             [
              0.2222222222222222,
              "#7201a8"
             ],
             [
              0.3333333333333333,
              "#9c179e"
             ],
             [
              0.4444444444444444,
              "#bd3786"
             ],
             [
              0.5555555555555556,
              "#d8576b"
             ],
             [
              0.6666666666666666,
              "#ed7953"
             ],
             [
              0.7777777777777778,
              "#fb9f3a"
             ],
             [
              0.8888888888888888,
              "#fdca26"
             ],
             [
              1,
              "#f0f921"
             ]
            ],
            "type": "histogram2dcontour"
           }
          ],
          "mesh3d": [
           {
            "colorbar": {
             "outlinewidth": 0,
             "ticks": ""
            },
            "type": "mesh3d"
           }
          ],
          "parcoords": [
           {
            "line": {
             "colorbar": {
              "outlinewidth": 0,
              "ticks": ""
             }
            },
            "type": "parcoords"
           }
          ],
          "pie": [
           {
            "automargin": true,
            "type": "pie"
           }
          ],
          "scatter": [
           {
            "marker": {
             "colorbar": {
              "outlinewidth": 0,
              "ticks": ""
             }
            },
            "type": "scatter"
           }
          ],
          "scatter3d": [
           {
            "line": {
             "colorbar": {
              "outlinewidth": 0,
              "ticks": ""
             }
            },
            "marker": {
             "colorbar": {
              "outlinewidth": 0,
              "ticks": ""
             }
            },
            "type": "scatter3d"
           }
          ],
          "scattercarpet": [
           {
            "marker": {
             "colorbar": {
              "outlinewidth": 0,
              "ticks": ""
             }
            },
            "type": "scattercarpet"
           }
          ],
          "scattergeo": [
           {
            "marker": {
             "colorbar": {
              "outlinewidth": 0,
              "ticks": ""
             }
            },
            "type": "scattergeo"
           }
          ],
          "scattergl": [
           {
            "marker": {
             "colorbar": {
              "outlinewidth": 0,
              "ticks": ""
             }
            },
            "type": "scattergl"
           }
          ],
          "scattermapbox": [
           {
            "marker": {
             "colorbar": {
              "outlinewidth": 0,
              "ticks": ""
             }
            },
            "type": "scattermapbox"
           }
          ],
          "scatterpolar": [
           {
            "marker": {
             "colorbar": {
              "outlinewidth": 0,
              "ticks": ""
             }
            },
            "type": "scatterpolar"
           }
          ],
          "scatterpolargl": [
           {
            "marker": {
             "colorbar": {
              "outlinewidth": 0,
              "ticks": ""
             }
            },
            "type": "scatterpolargl"
           }
          ],
          "scatterternary": [
           {
            "marker": {
             "colorbar": {
              "outlinewidth": 0,
              "ticks": ""
             }
            },
            "type": "scatterternary"
           }
          ],
          "surface": [
           {
            "colorbar": {
             "outlinewidth": 0,
             "ticks": ""
            },
            "colorscale": [
             [
              0,
              "#0d0887"
             ],
             [
              0.1111111111111111,
              "#46039f"
             ],
             [
              0.2222222222222222,
              "#7201a8"
             ],
             [
              0.3333333333333333,
              "#9c179e"
             ],
             [
              0.4444444444444444,
              "#bd3786"
             ],
             [
              0.5555555555555556,
              "#d8576b"
             ],
             [
              0.6666666666666666,
              "#ed7953"
             ],
             [
              0.7777777777777778,
              "#fb9f3a"
             ],
             [
              0.8888888888888888,
              "#fdca26"
             ],
             [
              1,
              "#f0f921"
             ]
            ],
            "type": "surface"
           }
          ],
          "table": [
           {
            "cells": {
             "fill": {
              "color": "#EBF0F8"
             },
             "line": {
              "color": "white"
             }
            },
            "header": {
             "fill": {
              "color": "#C8D4E3"
             },
             "line": {
              "color": "white"
             }
            },
            "type": "table"
           }
          ]
         },
         "layout": {
          "annotationdefaults": {
           "arrowcolor": "#2a3f5f",
           "arrowhead": 0,
           "arrowwidth": 1
          },
          "autotypenumbers": "strict",
          "coloraxis": {
           "colorbar": {
            "outlinewidth": 0,
            "ticks": ""
           }
          },
          "colorscale": {
           "diverging": [
            [
             0,
             "#8e0152"
            ],
            [
             0.1,
             "#c51b7d"
            ],
            [
             0.2,
             "#de77ae"
            ],
            [
             0.3,
             "#f1b6da"
            ],
            [
             0.4,
             "#fde0ef"
            ],
            [
             0.5,
             "#f7f7f7"
            ],
            [
             0.6,
             "#e6f5d0"
            ],
            [
             0.7,
             "#b8e186"
            ],
            [
             0.8,
             "#7fbc41"
            ],
            [
             0.9,
             "#4d9221"
            ],
            [
             1,
             "#276419"
            ]
           ],
           "sequential": [
            [
             0,
             "#0d0887"
            ],
            [
             0.1111111111111111,
             "#46039f"
            ],
            [
             0.2222222222222222,
             "#7201a8"
            ],
            [
             0.3333333333333333,
             "#9c179e"
            ],
            [
             0.4444444444444444,
             "#bd3786"
            ],
            [
             0.5555555555555556,
             "#d8576b"
            ],
            [
             0.6666666666666666,
             "#ed7953"
            ],
            [
             0.7777777777777778,
             "#fb9f3a"
            ],
            [
             0.8888888888888888,
             "#fdca26"
            ],
            [
             1,
             "#f0f921"
            ]
           ],
           "sequentialminus": [
            [
             0,
             "#0d0887"
            ],
            [
             0.1111111111111111,
             "#46039f"
            ],
            [
             0.2222222222222222,
             "#7201a8"
            ],
            [
             0.3333333333333333,
             "#9c179e"
            ],
            [
             0.4444444444444444,
             "#bd3786"
            ],
            [
             0.5555555555555556,
             "#d8576b"
            ],
            [
             0.6666666666666666,
             "#ed7953"
            ],
            [
             0.7777777777777778,
             "#fb9f3a"
            ],
            [
             0.8888888888888888,
             "#fdca26"
            ],
            [
             1,
             "#f0f921"
            ]
           ]
          },
          "colorway": [
           "#636efa",
           "#EF553B",
           "#00cc96",
           "#ab63fa",
           "#FFA15A",
           "#19d3f3",
           "#FF6692",
           "#B6E880",
           "#FF97FF",
           "#FECB52"
          ],
          "font": {
           "color": "#2a3f5f"
          },
          "geo": {
           "bgcolor": "white",
           "lakecolor": "white",
           "landcolor": "#E5ECF6",
           "showlakes": true,
           "showland": true,
           "subunitcolor": "white"
          },
          "hoverlabel": {
           "align": "left"
          },
          "hovermode": "closest",
          "mapbox": {
           "style": "light"
          },
          "paper_bgcolor": "white",
          "plot_bgcolor": "#E5ECF6",
          "polar": {
           "angularaxis": {
            "gridcolor": "white",
            "linecolor": "white",
            "ticks": ""
           },
           "bgcolor": "#E5ECF6",
           "radialaxis": {
            "gridcolor": "white",
            "linecolor": "white",
            "ticks": ""
           }
          },
          "scene": {
           "xaxis": {
            "backgroundcolor": "#E5ECF6",
            "gridcolor": "white",
            "gridwidth": 2,
            "linecolor": "white",
            "showbackground": true,
            "ticks": "",
            "zerolinecolor": "white"
           },
           "yaxis": {
            "backgroundcolor": "#E5ECF6",
            "gridcolor": "white",
            "gridwidth": 2,
            "linecolor": "white",
            "showbackground": true,
            "ticks": "",
            "zerolinecolor": "white"
           },
           "zaxis": {
            "backgroundcolor": "#E5ECF6",
            "gridcolor": "white",
            "gridwidth": 2,
            "linecolor": "white",
            "showbackground": true,
            "ticks": "",
            "zerolinecolor": "white"
           }
          },
          "shapedefaults": {
           "line": {
            "color": "#2a3f5f"
           }
          },
          "ternary": {
           "aaxis": {
            "gridcolor": "white",
            "linecolor": "white",
            "ticks": ""
           },
           "baxis": {
            "gridcolor": "white",
            "linecolor": "white",
            "ticks": ""
           },
           "bgcolor": "#E5ECF6",
           "caxis": {
            "gridcolor": "white",
            "linecolor": "white",
            "ticks": ""
           }
          },
          "title": {
           "x": 0.05
          },
          "xaxis": {
           "automargin": true,
           "gridcolor": "white",
           "linecolor": "white",
           "ticks": "",
           "title": {
            "standoff": 15
           },
           "zerolinecolor": "white",
           "zerolinewidth": 2
          },
          "yaxis": {
           "automargin": true,
           "gridcolor": "white",
           "linecolor": "white",
           "ticks": "",
           "title": {
            "standoff": 15
           },
           "zerolinecolor": "white",
           "zerolinewidth": 2
          }
         }
        },
        "title": {
         "text": "Production and consumption"
        }
       }
      }
     },
     "metadata": {},
     "output_type": "display_data"
    },
    {
     "data": {
      "application/vnd.plotly.v1+json": {
       "config": {
        "plotlyServerURL": "https://plot.ly"
       },
       "data": [
        {
         "name": "Rsv 1 storage",
         "type": "scatter",
         "x": [
          "2022-04-16T00:00:00",
          "2022-04-16T01:00:00",
          "2022-04-16T02:00:00",
          "2022-04-16T03:00:00",
          "2022-04-16T04:00:00",
          "2022-04-16T05:00:00",
          "2022-04-16T06:00:00",
          "2022-04-16T07:00:00",
          "2022-04-16T08:00:00",
          "2022-04-16T09:00:00",
          "2022-04-16T10:00:00",
          "2022-04-16T11:00:00",
          "2022-04-16T12:00:00",
          "2022-04-16T13:00:00",
          "2022-04-16T14:00:00",
          "2022-04-16T15:00:00",
          "2022-04-16T16:00:00",
          "2022-04-16T17:00:00",
          "2022-04-16T18:00:00",
          "2022-04-16T19:00:00",
          "2022-04-16T20:00:00",
          "2022-04-16T21:00:00",
          "2022-04-16T22:00:00",
          "2022-04-16T23:00:00",
          "2022-04-17T00:00:00",
          "2022-04-17T01:00:00",
          "2022-04-17T02:00:00",
          "2022-04-17T03:00:00",
          "2022-04-17T04:00:00",
          "2022-04-17T05:00:00",
          "2022-04-17T06:00:00",
          "2022-04-17T07:00:00",
          "2022-04-17T08:00:00",
          "2022-04-17T09:00:00",
          "2022-04-17T10:00:00",
          "2022-04-17T11:00:00",
          "2022-04-17T12:00:00",
          "2022-04-17T13:00:00",
          "2022-04-17T14:00:00",
          "2022-04-17T15:00:00",
          "2022-04-17T16:00:00",
          "2022-04-17T17:00:00",
          "2022-04-17T18:00:00",
          "2022-04-17T19:00:00",
          "2022-04-17T20:00:00",
          "2022-04-17T21:00:00",
          "2022-04-17T22:00:00",
          "2022-04-17T23:00:00",
          "2022-04-18T00:00:00",
          "2022-04-18T01:00:00",
          "2022-04-18T02:00:00",
          "2022-04-18T03:00:00",
          "2022-04-18T04:00:00",
          "2022-04-18T05:00:00",
          "2022-04-18T06:00:00",
          "2022-04-18T07:00:00",
          "2022-04-18T08:00:00",
          "2022-04-18T09:00:00",
          "2022-04-18T10:00:00",
          "2022-04-18T11:00:00",
          "2022-04-18T12:00:00",
          "2022-04-18T13:00:00",
          "2022-04-18T14:00:00",
          "2022-04-18T15:00:00",
          "2022-04-18T16:00:00",
          "2022-04-18T17:00:00",
          "2022-04-18T18:00:00",
          "2022-04-18T19:00:00",
          "2022-04-18T20:00:00",
          "2022-04-18T21:00:00",
          "2022-04-18T22:00:00",
          "2022-04-18T23:00:00",
          "2022-04-19T00:00:00"
         ],
         "y": [
          6,
          5.815333408644273,
          5.669889820186637,
          5.531569930388963,
          5.419454090222575,
          5.310541727645915,
          5.178627000062312,
          5.045555169069848,
          4.913636022967762,
          4.7825248504041955,
          4.652781450583933,
          4.54670820651819,
          4.444254923119592,
          4.534403760712189,
          4.638970428013363,
          4.743429255511563,
          4.848586053679304,
          4.95536177215659,
          5.061906699489413,
          4.955814090157065,
          4.828272239374622,
          4.694635130954083,
          4.567200822864043,
          4.558879531013156,
          4.559538892533334,
          4.734065592829029,
          4.922643759924131,
          5.234692483052948,
          5.56079272844716,
          5.884328632165358,
          6.2079906487760415,
          6.408651155544891,
          6.59431158661921,
          6.782906289425216,
          6.969609350483284,
          7.157833691608408,
          7.258634578481212,
          7.439642748980572,
          7.749670902453715,
          8.07080128020785,
          8.386822218116674,
          8.700449264972054,
          9.0118189897334,
          9.036337417105262,
          8.94817608425637,
          8.858486998915145,
          8.768783324912807,
          8.678913885756424,
          8.673214613236997,
          8.957676250636183,
          9.26713776795258,
          9.57062084902243,
          9.872093589863862,
          10.171603918290941,
          10.469100292346548,
          10.764588775125855,
          10.86332287082863,
          10.94016950613277,
          10.990082534387557,
          10.992772109041999,
          11.081479905632444,
          11.176617963726859,
          11.41240773388535,
          11.696036535891874,
          11.980123538689815,
          11.997888226039896,
          11.914161544088648,
          11.824325900985446,
          11.73456895266716,
          11.644681299506999,
          11.554742940142171,
          11.464788163841565,
          11.374828116769141
         ]
        },
        {
         "name": "Rsv 2 storage",
         "type": "scatter",
         "x": [
          "2022-04-16T00:00:00",
          "2022-04-16T01:00:00",
          "2022-04-16T02:00:00",
          "2022-04-16T03:00:00",
          "2022-04-16T04:00:00",
          "2022-04-16T05:00:00",
          "2022-04-16T06:00:00",
          "2022-04-16T07:00:00",
          "2022-04-16T08:00:00",
          "2022-04-16T09:00:00",
          "2022-04-16T10:00:00",
          "2022-04-16T11:00:00",
          "2022-04-16T12:00:00",
          "2022-04-16T13:00:00",
          "2022-04-16T14:00:00",
          "2022-04-16T15:00:00",
          "2022-04-16T16:00:00",
          "2022-04-16T17:00:00",
          "2022-04-16T18:00:00",
          "2022-04-16T19:00:00",
          "2022-04-16T20:00:00",
          "2022-04-16T21:00:00",
          "2022-04-16T22:00:00",
          "2022-04-16T23:00:00",
          "2022-04-17T00:00:00",
          "2022-04-17T01:00:00",
          "2022-04-17T02:00:00",
          "2022-04-17T03:00:00",
          "2022-04-17T04:00:00",
          "2022-04-17T05:00:00",
          "2022-04-17T06:00:00",
          "2022-04-17T07:00:00",
          "2022-04-17T08:00:00",
          "2022-04-17T09:00:00",
          "2022-04-17T10:00:00",
          "2022-04-17T11:00:00",
          "2022-04-17T12:00:00",
          "2022-04-17T13:00:00",
          "2022-04-17T14:00:00",
          "2022-04-17T15:00:00",
          "2022-04-17T16:00:00",
          "2022-04-17T17:00:00",
          "2022-04-17T18:00:00",
          "2022-04-17T19:00:00",
          "2022-04-17T20:00:00",
          "2022-04-17T21:00:00",
          "2022-04-17T22:00:00",
          "2022-04-17T23:00:00",
          "2022-04-18T00:00:00",
          "2022-04-18T01:00:00",
          "2022-04-18T02:00:00",
          "2022-04-18T03:00:00",
          "2022-04-18T04:00:00",
          "2022-04-18T05:00:00",
          "2022-04-18T06:00:00",
          "2022-04-18T07:00:00",
          "2022-04-18T08:00:00",
          "2022-04-18T09:00:00",
          "2022-04-18T10:00:00",
          "2022-04-18T11:00:00",
          "2022-04-18T12:00:00",
          "2022-04-18T13:00:00",
          "2022-04-18T14:00:00",
          "2022-04-18T15:00:00",
          "2022-04-18T16:00:00",
          "2022-04-18T17:00:00",
          "2022-04-18T18:00:00",
          "2022-04-18T19:00:00",
          "2022-04-18T20:00:00",
          "2022-04-18T21:00:00",
          "2022-04-18T22:00:00",
          "2022-04-18T23:00:00",
          "2022-04-19T00:00:00"
         ],
         "y": [
          6,
          5.966872989998853,
          5.962396369804827,
          5.959503276111877,
          6.150537137542654,
          6.351737090490724,
          6.355454536672409,
          6.346322620509346,
          6.336312854404264,
          6.325461534147479,
          6.34457889153029,
          6.530874612314113,
          6.725632077123822,
          6.944654699871023,
          7.1648552056992285,
          7.384235558699027,
          7.6029828040964444,
          7.8243370542228545,
          8.042016280694247,
          8.034648093845352,
          7.934493756276481,
          7.826833984899565,
          7.721567429738775,
          7.715589250149662,
          7.715589250149662,
          7.715589250149662,
          7.715589250149662,
          7.715589250149662,
          7.715589250149662,
          7.715589250149662,
          7.715589250149662,
          7.715589250149662,
          7.715589250149662,
          7.715589250149662,
          7.715589250149662,
          7.715589250149662,
          7.715589250149662,
          7.715589250149662,
          7.715589250149662,
          7.715589250149662,
          7.715589250149662,
          7.715589250149662,
          7.715589250149662,
          7.715589250149662,
          7.715589250149662,
          7.715589250149662,
          7.715589250149662,
          7.715589250149662,
          7.715589250149662,
          7.715589250149662,
          7.715589250149662,
          7.715589250149662,
          7.715589250149662,
          7.715589250149662,
          7.715589250149662,
          7.715589250149662,
          7.715589250149662,
          7.715589250149662,
          7.715589250149662,
          7.715589250149662,
          7.715589250149662,
          7.715589250149662,
          7.715589250149662,
          7.715589250149662,
          7.715589250149662,
          7.715589250149662,
          7.715589250149662,
          7.715589250149662,
          7.715589250149662,
          7.715589250149662,
          7.715589250149662,
          7.715589250149662,
          7.715589250149662
         ]
        },
        {
         "name": "Rsv 3 storage",
         "type": "scatter",
         "x": [
          "2022-04-16T00:00:00",
          "2022-04-16T01:00:00",
          "2022-04-16T02:00:00",
          "2022-04-16T03:00:00",
          "2022-04-16T04:00:00",
          "2022-04-16T05:00:00",
          "2022-04-16T06:00:00",
          "2022-04-16T07:00:00",
          "2022-04-16T08:00:00",
          "2022-04-16T09:00:00",
          "2022-04-16T10:00:00",
          "2022-04-16T11:00:00",
          "2022-04-16T12:00:00",
          "2022-04-16T13:00:00",
          "2022-04-16T14:00:00",
          "2022-04-16T15:00:00",
          "2022-04-16T16:00:00",
          "2022-04-16T17:00:00",
          "2022-04-16T18:00:00",
          "2022-04-16T19:00:00",
          "2022-04-16T20:00:00",
          "2022-04-16T21:00:00",
          "2022-04-16T22:00:00",
          "2022-04-16T23:00:00",
          "2022-04-17T00:00:00",
          "2022-04-17T01:00:00",
          "2022-04-17T02:00:00",
          "2022-04-17T03:00:00",
          "2022-04-17T04:00:00",
          "2022-04-17T05:00:00",
          "2022-04-17T06:00:00",
          "2022-04-17T07:00:00",
          "2022-04-17T08:00:00",
          "2022-04-17T09:00:00",
          "2022-04-17T10:00:00",
          "2022-04-17T11:00:00",
          "2022-04-17T12:00:00",
          "2022-04-17T13:00:00",
          "2022-04-17T14:00:00",
          "2022-04-17T15:00:00",
          "2022-04-17T16:00:00",
          "2022-04-17T17:00:00",
          "2022-04-17T18:00:00",
          "2022-04-17T19:00:00",
          "2022-04-17T20:00:00",
          "2022-04-17T21:00:00",
          "2022-04-17T22:00:00",
          "2022-04-17T23:00:00",
          "2022-04-18T00:00:00",
          "2022-04-18T01:00:00",
          "2022-04-18T02:00:00",
          "2022-04-18T03:00:00",
          "2022-04-18T04:00:00",
          "2022-04-18T05:00:00",
          "2022-04-18T06:00:00",
          "2022-04-18T07:00:00",
          "2022-04-18T08:00:00",
          "2022-04-18T09:00:00",
          "2022-04-18T10:00:00",
          "2022-04-18T11:00:00",
          "2022-04-18T12:00:00",
          "2022-04-18T13:00:00",
          "2022-04-18T14:00:00",
          "2022-04-18T15:00:00",
          "2022-04-18T16:00:00",
          "2022-04-18T17:00:00",
          "2022-04-18T18:00:00",
          "2022-04-18T19:00:00",
          "2022-04-18T20:00:00",
          "2022-04-18T21:00:00",
          "2022-04-18T22:00:00",
          "2022-04-18T23:00:00",
          "2022-04-19T00:00:00"
         ],
         "y": [
          6,
          6.09,
          6.18,
          6.27,
          6.1259999999999994,
          5.981999999999999,
          6.071999999999999,
          6.161999999999999,
          6.251999999999999,
          6.341999999999999,
          6.398752353837983,
          6.254752353837983,
          6.110752353837983,
          5.9667523538379825,
          5.822752353837982,
          5.678752353837982,
          5.534752353837982,
          5.386286522089996,
          5.242286522089996,
          5.332286522089996,
          5.512286522089996,
          5.692286522089995,
          5.872286522089995,
          5.728286522089995,
          5.584286522089995,
          5.440286522089995,
          5.296286522089995,
          5.1522865220899945,
          5.008286522089994,
          4.864286522089994,
          4.720286522089994,
          4.576286522089994,
          4.432286522089994,
          4.288286522089994,
          4.144286522089994,
          4.0002865220899935,
          3.856286522089994,
          3.7122865220899937,
          3.5709658128500683,
          3.4322039809755016,
          3.2959796173324554,
          3.1622078223778196,
          3.0308318670025853,
          2.886831867002585,
          2.8328318670025854,
          2.7788318670025856,
          2.7248318670025857,
          2.670831867002586,
          2.5268318670025858,
          2.3985926753227167,
          2.2725455536144707,
          2.1487281261674243,
          2.0270694771559414,
          1.9075225195914585,
          1.790042145112411,
          1.6745842762483183,
          1.5442609498900113,
          1.4152998503247334,
          1.2712998503247332,
          1.1272998503247331,
          0.9832998503247332,
          0.8392998503247332,
          0.7308258128376659,
          0.6255331061385181,
          0.5220000000000001,
          0.3780000000000001,
          0.3240000000000001,
          0.27000000000000013,
          0.21600000000000008,
          0.16200000000000006,
          0.10800000000000004,
          0.05400000000000002,
          0
         ]
        }
       ],
       "layout": {
        "template": {
         "data": {
          "bar": [
           {
            "error_x": {
             "color": "#2a3f5f"
            },
            "error_y": {
             "color": "#2a3f5f"
            },
            "marker": {
             "line": {
              "color": "#E5ECF6",
              "width": 0.5
             },
             "pattern": {
              "fillmode": "overlay",
              "size": 10,
              "solidity": 0.2
             }
            },
            "type": "bar"
           }
          ],
          "barpolar": [
           {
            "marker": {
             "line": {
              "color": "#E5ECF6",
              "width": 0.5
             },
             "pattern": {
              "fillmode": "overlay",
              "size": 10,
              "solidity": 0.2
             }
            },
            "type": "barpolar"
           }
          ],
          "carpet": [
           {
            "aaxis": {
             "endlinecolor": "#2a3f5f",
             "gridcolor": "white",
             "linecolor": "white",
             "minorgridcolor": "white",
             "startlinecolor": "#2a3f5f"
            },
            "baxis": {
             "endlinecolor": "#2a3f5f",
             "gridcolor": "white",
             "linecolor": "white",
             "minorgridcolor": "white",
             "startlinecolor": "#2a3f5f"
            },
            "type": "carpet"
           }
          ],
          "choropleth": [
           {
            "colorbar": {
             "outlinewidth": 0,
             "ticks": ""
            },
            "type": "choropleth"
           }
          ],
          "contour": [
           {
            "colorbar": {
             "outlinewidth": 0,
             "ticks": ""
            },
            "colorscale": [
             [
              0,
              "#0d0887"
             ],
             [
              0.1111111111111111,
              "#46039f"
             ],
             [
              0.2222222222222222,
              "#7201a8"
             ],
             [
              0.3333333333333333,
              "#9c179e"
             ],
             [
              0.4444444444444444,
              "#bd3786"
             ],
             [
              0.5555555555555556,
              "#d8576b"
             ],
             [
              0.6666666666666666,
              "#ed7953"
             ],
             [
              0.7777777777777778,
              "#fb9f3a"
             ],
             [
              0.8888888888888888,
              "#fdca26"
             ],
             [
              1,
              "#f0f921"
             ]
            ],
            "type": "contour"
           }
          ],
          "contourcarpet": [
           {
            "colorbar": {
             "outlinewidth": 0,
             "ticks": ""
            },
            "type": "contourcarpet"
           }
          ],
          "heatmap": [
           {
            "colorbar": {
             "outlinewidth": 0,
             "ticks": ""
            },
            "colorscale": [
             [
              0,
              "#0d0887"
             ],
             [
              0.1111111111111111,
              "#46039f"
             ],
             [
              0.2222222222222222,
              "#7201a8"
             ],
             [
              0.3333333333333333,
              "#9c179e"
             ],
             [
              0.4444444444444444,
              "#bd3786"
             ],
             [
              0.5555555555555556,
              "#d8576b"
             ],
             [
              0.6666666666666666,
              "#ed7953"
             ],
             [
              0.7777777777777778,
              "#fb9f3a"
             ],
             [
              0.8888888888888888,
              "#fdca26"
             ],
             [
              1,
              "#f0f921"
             ]
            ],
            "type": "heatmap"
           }
          ],
          "heatmapgl": [
           {
            "colorbar": {
             "outlinewidth": 0,
             "ticks": ""
            },
            "colorscale": [
             [
              0,
              "#0d0887"
             ],
             [
              0.1111111111111111,
              "#46039f"
             ],
             [
              0.2222222222222222,
              "#7201a8"
             ],
             [
              0.3333333333333333,
              "#9c179e"
             ],
             [
              0.4444444444444444,
              "#bd3786"
             ],
             [
              0.5555555555555556,
              "#d8576b"
             ],
             [
              0.6666666666666666,
              "#ed7953"
             ],
             [
              0.7777777777777778,
              "#fb9f3a"
             ],
             [
              0.8888888888888888,
              "#fdca26"
             ],
             [
              1,
              "#f0f921"
             ]
            ],
            "type": "heatmapgl"
           }
          ],
          "histogram": [
           {
            "marker": {
             "pattern": {
              "fillmode": "overlay",
              "size": 10,
              "solidity": 0.2
             }
            },
            "type": "histogram"
           }
          ],
          "histogram2d": [
           {
            "colorbar": {
             "outlinewidth": 0,
             "ticks": ""
            },
            "colorscale": [
             [
              0,
              "#0d0887"
             ],
             [
              0.1111111111111111,
              "#46039f"
             ],
             [
              0.2222222222222222,
              "#7201a8"
             ],
             [
              0.3333333333333333,
              "#9c179e"
             ],
             [
              0.4444444444444444,
              "#bd3786"
             ],
             [
              0.5555555555555556,
              "#d8576b"
             ],
             [
              0.6666666666666666,
              "#ed7953"
             ],
             [
              0.7777777777777778,
              "#fb9f3a"
             ],
             [
              0.8888888888888888,
              "#fdca26"
             ],
             [
              1,
              "#f0f921"
             ]
            ],
            "type": "histogram2d"
           }
          ],
          "histogram2dcontour": [
           {
            "colorbar": {
             "outlinewidth": 0,
             "ticks": ""
            },
            "colorscale": [
             [
              0,
              "#0d0887"
             ],
             [
              0.1111111111111111,
              "#46039f"
             ],
             [
              0.2222222222222222,
              "#7201a8"
             ],
             [
              0.3333333333333333,
              "#9c179e"
             ],
             [
              0.4444444444444444,
              "#bd3786"
             ],
             [
              0.5555555555555556,
              "#d8576b"
             ],
             [
              0.6666666666666666,
              "#ed7953"
             ],
             [
              0.7777777777777778,
              "#fb9f3a"
             ],
             [
              0.8888888888888888,
              "#fdca26"
             ],
             [
              1,
              "#f0f921"
             ]
            ],
            "type": "histogram2dcontour"
           }
          ],
          "mesh3d": [
           {
            "colorbar": {
             "outlinewidth": 0,
             "ticks": ""
            },
            "type": "mesh3d"
           }
          ],
          "parcoords": [
           {
            "line": {
             "colorbar": {
              "outlinewidth": 0,
              "ticks": ""
             }
            },
            "type": "parcoords"
           }
          ],
          "pie": [
           {
            "automargin": true,
            "type": "pie"
           }
          ],
          "scatter": [
           {
            "marker": {
             "colorbar": {
              "outlinewidth": 0,
              "ticks": ""
             }
            },
            "type": "scatter"
           }
          ],
          "scatter3d": [
           {
            "line": {
             "colorbar": {
              "outlinewidth": 0,
              "ticks": ""
             }
            },
            "marker": {
             "colorbar": {
              "outlinewidth": 0,
              "ticks": ""
             }
            },
            "type": "scatter3d"
           }
          ],
          "scattercarpet": [
           {
            "marker": {
             "colorbar": {
              "outlinewidth": 0,
              "ticks": ""
             }
            },
            "type": "scattercarpet"
           }
          ],
          "scattergeo": [
           {
            "marker": {
             "colorbar": {
              "outlinewidth": 0,
              "ticks": ""
             }
            },
            "type": "scattergeo"
           }
          ],
          "scattergl": [
           {
            "marker": {
             "colorbar": {
              "outlinewidth": 0,
              "ticks": ""
             }
            },
            "type": "scattergl"
           }
          ],
          "scattermapbox": [
           {
            "marker": {
             "colorbar": {
              "outlinewidth": 0,
              "ticks": ""
             }
            },
            "type": "scattermapbox"
           }
          ],
          "scatterpolar": [
           {
            "marker": {
             "colorbar": {
              "outlinewidth": 0,
              "ticks": ""
             }
            },
            "type": "scatterpolar"
           }
          ],
          "scatterpolargl": [
           {
            "marker": {
             "colorbar": {
              "outlinewidth": 0,
              "ticks": ""
             }
            },
            "type": "scatterpolargl"
           }
          ],
          "scatterternary": [
           {
            "marker": {
             "colorbar": {
              "outlinewidth": 0,
              "ticks": ""
             }
            },
            "type": "scatterternary"
           }
          ],
          "surface": [
           {
            "colorbar": {
             "outlinewidth": 0,
             "ticks": ""
            },
            "colorscale": [
             [
              0,
              "#0d0887"
             ],
             [
              0.1111111111111111,
              "#46039f"
             ],
             [
              0.2222222222222222,
              "#7201a8"
             ],
             [
              0.3333333333333333,
              "#9c179e"
             ],
             [
              0.4444444444444444,
              "#bd3786"
             ],
             [
              0.5555555555555556,
              "#d8576b"
             ],
             [
              0.6666666666666666,
              "#ed7953"
             ],
             [
              0.7777777777777778,
              "#fb9f3a"
             ],
             [
              0.8888888888888888,
              "#fdca26"
             ],
             [
              1,
              "#f0f921"
             ]
            ],
            "type": "surface"
           }
          ],
          "table": [
           {
            "cells": {
             "fill": {
              "color": "#EBF0F8"
             },
             "line": {
              "color": "white"
             }
            },
            "header": {
             "fill": {
              "color": "#C8D4E3"
             },
             "line": {
              "color": "white"
             }
            },
            "type": "table"
           }
          ]
         },
         "layout": {
          "annotationdefaults": {
           "arrowcolor": "#2a3f5f",
           "arrowhead": 0,
           "arrowwidth": 1
          },
          "autotypenumbers": "strict",
          "coloraxis": {
           "colorbar": {
            "outlinewidth": 0,
            "ticks": ""
           }
          },
          "colorscale": {
           "diverging": [
            [
             0,
             "#8e0152"
            ],
            [
             0.1,
             "#c51b7d"
            ],
            [
             0.2,
             "#de77ae"
            ],
            [
             0.3,
             "#f1b6da"
            ],
            [
             0.4,
             "#fde0ef"
            ],
            [
             0.5,
             "#f7f7f7"
            ],
            [
             0.6,
             "#e6f5d0"
            ],
            [
             0.7,
             "#b8e186"
            ],
            [
             0.8,
             "#7fbc41"
            ],
            [
             0.9,
             "#4d9221"
            ],
            [
             1,
             "#276419"
            ]
           ],
           "sequential": [
            [
             0,
             "#0d0887"
            ],
            [
             0.1111111111111111,
             "#46039f"
            ],
            [
             0.2222222222222222,
             "#7201a8"
            ],
            [
             0.3333333333333333,
             "#9c179e"
            ],
            [
             0.4444444444444444,
             "#bd3786"
            ],
            [
             0.5555555555555556,
             "#d8576b"
            ],
            [
             0.6666666666666666,
             "#ed7953"
            ],
            [
             0.7777777777777778,
             "#fb9f3a"
            ],
            [
             0.8888888888888888,
             "#fdca26"
            ],
            [
             1,
             "#f0f921"
            ]
           ],
           "sequentialminus": [
            [
             0,
             "#0d0887"
            ],
            [
             0.1111111111111111,
             "#46039f"
            ],
            [
             0.2222222222222222,
             "#7201a8"
            ],
            [
             0.3333333333333333,
             "#9c179e"
            ],
            [
             0.4444444444444444,
             "#bd3786"
            ],
            [
             0.5555555555555556,
             "#d8576b"
            ],
            [
             0.6666666666666666,
             "#ed7953"
            ],
            [
             0.7777777777777778,
             "#fb9f3a"
            ],
            [
             0.8888888888888888,
             "#fdca26"
            ],
            [
             1,
             "#f0f921"
            ]
           ]
          },
          "colorway": [
           "#636efa",
           "#EF553B",
           "#00cc96",
           "#ab63fa",
           "#FFA15A",
           "#19d3f3",
           "#FF6692",
           "#B6E880",
           "#FF97FF",
           "#FECB52"
          ],
          "font": {
           "color": "#2a3f5f"
          },
          "geo": {
           "bgcolor": "white",
           "lakecolor": "white",
           "landcolor": "#E5ECF6",
           "showlakes": true,
           "showland": true,
           "subunitcolor": "white"
          },
          "hoverlabel": {
           "align": "left"
          },
          "hovermode": "closest",
          "mapbox": {
           "style": "light"
          },
          "paper_bgcolor": "white",
          "plot_bgcolor": "#E5ECF6",
          "polar": {
           "angularaxis": {
            "gridcolor": "white",
            "linecolor": "white",
            "ticks": ""
           },
           "bgcolor": "#E5ECF6",
           "radialaxis": {
            "gridcolor": "white",
            "linecolor": "white",
            "ticks": ""
           }
          },
          "scene": {
           "xaxis": {
            "backgroundcolor": "#E5ECF6",
            "gridcolor": "white",
            "gridwidth": 2,
            "linecolor": "white",
            "showbackground": true,
            "ticks": "",
            "zerolinecolor": "white"
           },
           "yaxis": {
            "backgroundcolor": "#E5ECF6",
            "gridcolor": "white",
            "gridwidth": 2,
            "linecolor": "white",
            "showbackground": true,
            "ticks": "",
            "zerolinecolor": "white"
           },
           "zaxis": {
            "backgroundcolor": "#E5ECF6",
            "gridcolor": "white",
            "gridwidth": 2,
            "linecolor": "white",
            "showbackground": true,
            "ticks": "",
            "zerolinecolor": "white"
           }
          },
          "shapedefaults": {
           "line": {
            "color": "#2a3f5f"
           }
          },
          "ternary": {
           "aaxis": {
            "gridcolor": "white",
            "linecolor": "white",
            "ticks": ""
           },
           "baxis": {
            "gridcolor": "white",
            "linecolor": "white",
            "ticks": ""
           },
           "bgcolor": "#E5ECF6",
           "caxis": {
            "gridcolor": "white",
            "linecolor": "white",
            "ticks": ""
           }
          },
          "title": {
           "x": 0.05
          },
          "xaxis": {
           "automargin": true,
           "gridcolor": "white",
           "linecolor": "white",
           "ticks": "",
           "title": {
            "standoff": 15
           },
           "zerolinecolor": "white",
           "zerolinewidth": 2
          },
          "yaxis": {
           "automargin": true,
           "gridcolor": "white",
           "linecolor": "white",
           "ticks": "",
           "title": {
            "standoff": 15
           },
           "zerolinecolor": "white",
           "zerolinewidth": 2
          }
         }
        },
        "title": {
         "text": "Reservoir storage"
        }
       }
      }
     },
     "metadata": {},
     "output_type": "display_data"
    },
    {
     "data": {
      "application/vnd.plotly.v1+json": {
       "config": {
        "plotlyServerURL": "https://plot.ly"
       },
       "data": [
        {
         "name": "Rsv 1 gate position",
         "type": "scatter",
         "x": [
          "2022-04-16T00:00:00",
          "2022-04-16T01:00:00",
          "2022-04-16T02:00:00",
          "2022-04-16T03:00:00",
          "2022-04-16T04:00:00",
          "2022-04-16T05:00:00",
          "2022-04-16T06:00:00",
          "2022-04-16T07:00:00",
          "2022-04-16T08:00:00",
          "2022-04-16T09:00:00",
          "2022-04-16T10:00:00",
          "2022-04-16T11:00:00",
          "2022-04-16T12:00:00",
          "2022-04-16T13:00:00",
          "2022-04-16T14:00:00",
          "2022-04-16T15:00:00",
          "2022-04-16T16:00:00",
          "2022-04-16T17:00:00",
          "2022-04-16T18:00:00",
          "2022-04-16T19:00:00",
          "2022-04-16T20:00:00",
          "2022-04-16T21:00:00",
          "2022-04-16T22:00:00",
          "2022-04-16T23:00:00",
          "2022-04-17T00:00:00",
          "2022-04-17T01:00:00",
          "2022-04-17T02:00:00",
          "2022-04-17T03:00:00",
          "2022-04-17T04:00:00",
          "2022-04-17T05:00:00",
          "2022-04-17T06:00:00",
          "2022-04-17T07:00:00",
          "2022-04-17T08:00:00",
          "2022-04-17T09:00:00",
          "2022-04-17T10:00:00",
          "2022-04-17T11:00:00",
          "2022-04-17T12:00:00",
          "2022-04-17T13:00:00",
          "2022-04-17T14:00:00",
          "2022-04-17T15:00:00",
          "2022-04-17T16:00:00",
          "2022-04-17T17:00:00",
          "2022-04-17T18:00:00",
          "2022-04-17T19:00:00",
          "2022-04-17T20:00:00",
          "2022-04-17T21:00:00",
          "2022-04-17T22:00:00",
          "2022-04-17T23:00:00",
          "2022-04-18T00:00:00",
          "2022-04-18T01:00:00",
          "2022-04-18T02:00:00",
          "2022-04-18T03:00:00",
          "2022-04-18T04:00:00",
          "2022-04-18T05:00:00",
          "2022-04-18T06:00:00",
          "2022-04-18T07:00:00",
          "2022-04-18T08:00:00",
          "2022-04-18T09:00:00",
          "2022-04-18T10:00:00",
          "2022-04-18T11:00:00",
          "2022-04-18T12:00:00",
          "2022-04-18T13:00:00",
          "2022-04-18T14:00:00",
          "2022-04-18T15:00:00",
          "2022-04-18T16:00:00",
          "2022-04-18T17:00:00",
          "2022-04-18T18:00:00",
          "2022-04-18T19:00:00",
          "2022-04-18T20:00:00",
          "2022-04-18T21:00:00",
          "2022-04-18T22:00:00",
          "2022-04-18T23:00:00"
         ],
         "y": [
          1,
          1,
          1,
          1,
          1,
          1,
          1,
          1,
          1,
          1,
          1,
          1,
          1,
          1,
          1,
          1,
          1,
          1,
          1,
          1,
          1,
          1,
          1,
          1,
          1,
          1,
          1,
          1,
          1,
          1,
          1,
          1,
          1,
          1,
          1,
          1,
          1,
          1,
          1,
          1,
          1,
          1,
          1,
          1,
          1,
          1,
          1,
          1,
          1,
          1,
          1,
          1,
          1,
          1,
          1,
          1,
          1,
          1,
          1,
          1,
          1,
          1,
          1,
          1,
          1,
          1,
          1,
          1,
          1,
          1,
          1,
          1
         ]
        },
        {
         "name": "Rsv 2 gate position",
         "type": "scatter",
         "x": [
          "2022-04-16T00:00:00",
          "2022-04-16T01:00:00",
          "2022-04-16T02:00:00",
          "2022-04-16T03:00:00",
          "2022-04-16T04:00:00",
          "2022-04-16T05:00:00",
          "2022-04-16T06:00:00",
          "2022-04-16T07:00:00",
          "2022-04-16T08:00:00",
          "2022-04-16T09:00:00",
          "2022-04-16T10:00:00",
          "2022-04-16T11:00:00",
          "2022-04-16T12:00:00",
          "2022-04-16T13:00:00",
          "2022-04-16T14:00:00",
          "2022-04-16T15:00:00",
          "2022-04-16T16:00:00",
          "2022-04-16T17:00:00",
          "2022-04-16T18:00:00",
          "2022-04-16T19:00:00",
          "2022-04-16T20:00:00",
          "2022-04-16T21:00:00",
          "2022-04-16T22:00:00",
          "2022-04-16T23:00:00",
          "2022-04-17T00:00:00",
          "2022-04-17T01:00:00",
          "2022-04-17T02:00:00",
          "2022-04-17T03:00:00",
          "2022-04-17T04:00:00",
          "2022-04-17T05:00:00",
          "2022-04-17T06:00:00",
          "2022-04-17T07:00:00",
          "2022-04-17T08:00:00",
          "2022-04-17T09:00:00",
          "2022-04-17T10:00:00",
          "2022-04-17T11:00:00",
          "2022-04-17T12:00:00",
          "2022-04-17T13:00:00",
          "2022-04-17T14:00:00",
          "2022-04-17T15:00:00",
          "2022-04-17T16:00:00",
          "2022-04-17T17:00:00",
          "2022-04-17T18:00:00",
          "2022-04-17T19:00:00",
          "2022-04-17T20:00:00",
          "2022-04-17T21:00:00",
          "2022-04-17T22:00:00",
          "2022-04-17T23:00:00",
          "2022-04-18T00:00:00",
          "2022-04-18T01:00:00",
          "2022-04-18T02:00:00",
          "2022-04-18T03:00:00",
          "2022-04-18T04:00:00",
          "2022-04-18T05:00:00",
          "2022-04-18T06:00:00",
          "2022-04-18T07:00:00",
          "2022-04-18T08:00:00",
          "2022-04-18T09:00:00",
          "2022-04-18T10:00:00",
          "2022-04-18T11:00:00",
          "2022-04-18T12:00:00",
          "2022-04-18T13:00:00",
          "2022-04-18T14:00:00",
          "2022-04-18T15:00:00",
          "2022-04-18T16:00:00",
          "2022-04-18T17:00:00",
          "2022-04-18T18:00:00",
          "2022-04-18T19:00:00",
          "2022-04-18T20:00:00",
          "2022-04-18T21:00:00",
          "2022-04-18T22:00:00",
          "2022-04-18T23:00:00"
         ],
         "y": [
          1,
          1,
          1,
          1,
          1,
          1,
          1,
          1,
          1,
          1,
          1,
          1,
          1,
          1,
          1,
          1,
          1,
          1,
          1,
          1,
          1,
          1,
          0,
          0,
          0,
          0,
          0,
          0,
          0,
          0,
          0,
          0,
          0,
          0,
          0,
          0,
          0,
          0,
          0,
          0,
          0,
          0,
          0,
          0,
          0,
          0,
          0,
          0,
          0,
          0,
          0,
          0,
          0,
          0,
          0,
          0,
          0,
          0,
          0,
          0,
          0,
          0,
          0,
          0,
          0,
          0,
          0,
          0,
          0,
          0,
          0,
          0
         ]
        },
        {
         "name": "N2-3 gate position",
         "type": "scatter",
         "x": [
          "2022-04-16T00:00:00",
          "2022-04-16T01:00:00",
          "2022-04-16T02:00:00",
          "2022-04-16T03:00:00",
          "2022-04-16T04:00:00",
          "2022-04-16T05:00:00",
          "2022-04-16T06:00:00",
          "2022-04-16T07:00:00",
          "2022-04-16T08:00:00",
          "2022-04-16T09:00:00",
          "2022-04-16T10:00:00",
          "2022-04-16T11:00:00",
          "2022-04-16T12:00:00",
          "2022-04-16T13:00:00",
          "2022-04-16T14:00:00",
          "2022-04-16T15:00:00",
          "2022-04-16T16:00:00",
          "2022-04-16T17:00:00",
          "2022-04-16T18:00:00",
          "2022-04-16T19:00:00",
          "2022-04-16T20:00:00",
          "2022-04-16T21:00:00",
          "2022-04-16T22:00:00",
          "2022-04-16T23:00:00",
          "2022-04-17T00:00:00",
          "2022-04-17T01:00:00",
          "2022-04-17T02:00:00",
          "2022-04-17T03:00:00",
          "2022-04-17T04:00:00",
          "2022-04-17T05:00:00",
          "2022-04-17T06:00:00",
          "2022-04-17T07:00:00",
          "2022-04-17T08:00:00",
          "2022-04-17T09:00:00",
          "2022-04-17T10:00:00",
          "2022-04-17T11:00:00",
          "2022-04-17T12:00:00",
          "2022-04-17T13:00:00",
          "2022-04-17T14:00:00",
          "2022-04-17T15:00:00",
          "2022-04-17T16:00:00",
          "2022-04-17T17:00:00",
          "2022-04-17T18:00:00",
          "2022-04-17T19:00:00",
          "2022-04-17T20:00:00",
          "2022-04-17T21:00:00",
          "2022-04-17T22:00:00",
          "2022-04-17T23:00:00",
          "2022-04-18T00:00:00",
          "2022-04-18T01:00:00",
          "2022-04-18T02:00:00",
          "2022-04-18T03:00:00",
          "2022-04-18T04:00:00",
          "2022-04-18T05:00:00",
          "2022-04-18T06:00:00",
          "2022-04-18T07:00:00",
          "2022-04-18T08:00:00",
          "2022-04-18T09:00:00",
          "2022-04-18T10:00:00",
          "2022-04-18T11:00:00",
          "2022-04-18T12:00:00",
          "2022-04-18T13:00:00",
          "2022-04-18T14:00:00",
          "2022-04-18T15:00:00",
          "2022-04-18T16:00:00",
          "2022-04-18T17:00:00",
          "2022-04-18T18:00:00",
          "2022-04-18T19:00:00",
          "2022-04-18T20:00:00",
          "2022-04-18T21:00:00",
          "2022-04-18T22:00:00",
          "2022-04-18T23:00:00"
         ],
         "y": [
          1,
          1,
          1,
          1,
          1,
          1,
          1,
          1,
          1,
          1,
          1,
          1,
          1,
          1,
          1,
          1,
          1,
          1,
          1,
          1,
          1,
          1,
          1,
          1,
          1,
          1,
          1,
          1,
          1,
          1,
          1,
          1,
          1,
          1,
          1,
          1,
          1,
          1,
          1,
          1,
          1,
          1,
          1,
          1,
          1,
          1,
          1,
          1,
          1,
          1,
          1,
          1,
          1,
          1,
          1,
          1,
          1,
          1,
          1,
          1,
          1,
          1,
          1,
          1,
          1,
          1,
          1,
          1,
          1,
          1,
          1,
          1
         ]
        }
       ],
       "layout": {
        "template": {
         "data": {
          "bar": [
           {
            "error_x": {
             "color": "#2a3f5f"
            },
            "error_y": {
             "color": "#2a3f5f"
            },
            "marker": {
             "line": {
              "color": "#E5ECF6",
              "width": 0.5
             },
             "pattern": {
              "fillmode": "overlay",
              "size": 10,
              "solidity": 0.2
             }
            },
            "type": "bar"
           }
          ],
          "barpolar": [
           {
            "marker": {
             "line": {
              "color": "#E5ECF6",
              "width": 0.5
             },
             "pattern": {
              "fillmode": "overlay",
              "size": 10,
              "solidity": 0.2
             }
            },
            "type": "barpolar"
           }
          ],
          "carpet": [
           {
            "aaxis": {
             "endlinecolor": "#2a3f5f",
             "gridcolor": "white",
             "linecolor": "white",
             "minorgridcolor": "white",
             "startlinecolor": "#2a3f5f"
            },
            "baxis": {
             "endlinecolor": "#2a3f5f",
             "gridcolor": "white",
             "linecolor": "white",
             "minorgridcolor": "white",
             "startlinecolor": "#2a3f5f"
            },
            "type": "carpet"
           }
          ],
          "choropleth": [
           {
            "colorbar": {
             "outlinewidth": 0,
             "ticks": ""
            },
            "type": "choropleth"
           }
          ],
          "contour": [
           {
            "colorbar": {
             "outlinewidth": 0,
             "ticks": ""
            },
            "colorscale": [
             [
              0,
              "#0d0887"
             ],
             [
              0.1111111111111111,
              "#46039f"
             ],
             [
              0.2222222222222222,
              "#7201a8"
             ],
             [
              0.3333333333333333,
              "#9c179e"
             ],
             [
              0.4444444444444444,
              "#bd3786"
             ],
             [
              0.5555555555555556,
              "#d8576b"
             ],
             [
              0.6666666666666666,
              "#ed7953"
             ],
             [
              0.7777777777777778,
              "#fb9f3a"
             ],
             [
              0.8888888888888888,
              "#fdca26"
             ],
             [
              1,
              "#f0f921"
             ]
            ],
            "type": "contour"
           }
          ],
          "contourcarpet": [
           {
            "colorbar": {
             "outlinewidth": 0,
             "ticks": ""
            },
            "type": "contourcarpet"
           }
          ],
          "heatmap": [
           {
            "colorbar": {
             "outlinewidth": 0,
             "ticks": ""
            },
            "colorscale": [
             [
              0,
              "#0d0887"
             ],
             [
              0.1111111111111111,
              "#46039f"
             ],
             [
              0.2222222222222222,
              "#7201a8"
             ],
             [
              0.3333333333333333,
              "#9c179e"
             ],
             [
              0.4444444444444444,
              "#bd3786"
             ],
             [
              0.5555555555555556,
              "#d8576b"
             ],
             [
              0.6666666666666666,
              "#ed7953"
             ],
             [
              0.7777777777777778,
              "#fb9f3a"
             ],
             [
              0.8888888888888888,
              "#fdca26"
             ],
             [
              1,
              "#f0f921"
             ]
            ],
            "type": "heatmap"
           }
          ],
          "heatmapgl": [
           {
            "colorbar": {
             "outlinewidth": 0,
             "ticks": ""
            },
            "colorscale": [
             [
              0,
              "#0d0887"
             ],
             [
              0.1111111111111111,
              "#46039f"
             ],
             [
              0.2222222222222222,
              "#7201a8"
             ],
             [
              0.3333333333333333,
              "#9c179e"
             ],
             [
              0.4444444444444444,
              "#bd3786"
             ],
             [
              0.5555555555555556,
              "#d8576b"
             ],
             [
              0.6666666666666666,
              "#ed7953"
             ],
             [
              0.7777777777777778,
              "#fb9f3a"
             ],
             [
              0.8888888888888888,
              "#fdca26"
             ],
             [
              1,
              "#f0f921"
             ]
            ],
            "type": "heatmapgl"
           }
          ],
          "histogram": [
           {
            "marker": {
             "pattern": {
              "fillmode": "overlay",
              "size": 10,
              "solidity": 0.2
             }
            },
            "type": "histogram"
           }
          ],
          "histogram2d": [
           {
            "colorbar": {
             "outlinewidth": 0,
             "ticks": ""
            },
            "colorscale": [
             [
              0,
              "#0d0887"
             ],
             [
              0.1111111111111111,
              "#46039f"
             ],
             [
              0.2222222222222222,
              "#7201a8"
             ],
             [
              0.3333333333333333,
              "#9c179e"
             ],
             [
              0.4444444444444444,
              "#bd3786"
             ],
             [
              0.5555555555555556,
              "#d8576b"
             ],
             [
              0.6666666666666666,
              "#ed7953"
             ],
             [
              0.7777777777777778,
              "#fb9f3a"
             ],
             [
              0.8888888888888888,
              "#fdca26"
             ],
             [
              1,
              "#f0f921"
             ]
            ],
            "type": "histogram2d"
           }
          ],
          "histogram2dcontour": [
           {
            "colorbar": {
             "outlinewidth": 0,
             "ticks": ""
            },
            "colorscale": [
             [
              0,
              "#0d0887"
             ],
             [
              0.1111111111111111,
              "#46039f"
             ],
             [
              0.2222222222222222,
              "#7201a8"
             ],
             [
              0.3333333333333333,
              "#9c179e"
             ],
             [
              0.4444444444444444,
              "#bd3786"
             ],
             [
              0.5555555555555556,
              "#d8576b"
             ],
             [
              0.6666666666666666,
              "#ed7953"
             ],
             [
              0.7777777777777778,
              "#fb9f3a"
             ],
             [
              0.8888888888888888,
              "#fdca26"
             ],
             [
              1,
              "#f0f921"
             ]
            ],
            "type": "histogram2dcontour"
           }
          ],
          "mesh3d": [
           {
            "colorbar": {
             "outlinewidth": 0,
             "ticks": ""
            },
            "type": "mesh3d"
           }
          ],
          "parcoords": [
           {
            "line": {
             "colorbar": {
              "outlinewidth": 0,
              "ticks": ""
             }
            },
            "type": "parcoords"
           }
          ],
          "pie": [
           {
            "automargin": true,
            "type": "pie"
           }
          ],
          "scatter": [
           {
            "marker": {
             "colorbar": {
              "outlinewidth": 0,
              "ticks": ""
             }
            },
            "type": "scatter"
           }
          ],
          "scatter3d": [
           {
            "line": {
             "colorbar": {
              "outlinewidth": 0,
              "ticks": ""
             }
            },
            "marker": {
             "colorbar": {
              "outlinewidth": 0,
              "ticks": ""
             }
            },
            "type": "scatter3d"
           }
          ],
          "scattercarpet": [
           {
            "marker": {
             "colorbar": {
              "outlinewidth": 0,
              "ticks": ""
             }
            },
            "type": "scattercarpet"
           }
          ],
          "scattergeo": [
           {
            "marker": {
             "colorbar": {
              "outlinewidth": 0,
              "ticks": ""
             }
            },
            "type": "scattergeo"
           }
          ],
          "scattergl": [
           {
            "marker": {
             "colorbar": {
              "outlinewidth": 0,
              "ticks": ""
             }
            },
            "type": "scattergl"
           }
          ],
          "scattermapbox": [
           {
            "marker": {
             "colorbar": {
              "outlinewidth": 0,
              "ticks": ""
             }
            },
            "type": "scattermapbox"
           }
          ],
          "scatterpolar": [
           {
            "marker": {
             "colorbar": {
              "outlinewidth": 0,
              "ticks": ""
             }
            },
            "type": "scatterpolar"
           }
          ],
          "scatterpolargl": [
           {
            "marker": {
             "colorbar": {
              "outlinewidth": 0,
              "ticks": ""
             }
            },
            "type": "scatterpolargl"
           }
          ],
          "scatterternary": [
           {
            "marker": {
             "colorbar": {
              "outlinewidth": 0,
              "ticks": ""
             }
            },
            "type": "scatterternary"
           }
          ],
          "surface": [
           {
            "colorbar": {
             "outlinewidth": 0,
             "ticks": ""
            },
            "colorscale": [
             [
              0,
              "#0d0887"
             ],
             [
              0.1111111111111111,
              "#46039f"
             ],
             [
              0.2222222222222222,
              "#7201a8"
             ],
             [
              0.3333333333333333,
              "#9c179e"
             ],
             [
              0.4444444444444444,
              "#bd3786"
             ],
             [
              0.5555555555555556,
              "#d8576b"
             ],
             [
              0.6666666666666666,
              "#ed7953"
             ],
             [
              0.7777777777777778,
              "#fb9f3a"
             ],
             [
              0.8888888888888888,
              "#fdca26"
             ],
             [
              1,
              "#f0f921"
             ]
            ],
            "type": "surface"
           }
          ],
          "table": [
           {
            "cells": {
             "fill": {
              "color": "#EBF0F8"
             },
             "line": {
              "color": "white"
             }
            },
            "header": {
             "fill": {
              "color": "#C8D4E3"
             },
             "line": {
              "color": "white"
             }
            },
            "type": "table"
           }
          ]
         },
         "layout": {
          "annotationdefaults": {
           "arrowcolor": "#2a3f5f",
           "arrowhead": 0,
           "arrowwidth": 1
          },
          "autotypenumbers": "strict",
          "coloraxis": {
           "colorbar": {
            "outlinewidth": 0,
            "ticks": ""
           }
          },
          "colorscale": {
           "diverging": [
            [
             0,
             "#8e0152"
            ],
            [
             0.1,
             "#c51b7d"
            ],
            [
             0.2,
             "#de77ae"
            ],
            [
             0.3,
             "#f1b6da"
            ],
            [
             0.4,
             "#fde0ef"
            ],
            [
             0.5,
             "#f7f7f7"
            ],
            [
             0.6,
             "#e6f5d0"
            ],
            [
             0.7,
             "#b8e186"
            ],
            [
             0.8,
             "#7fbc41"
            ],
            [
             0.9,
             "#4d9221"
            ],
            [
             1,
             "#276419"
            ]
           ],
           "sequential": [
            [
             0,
             "#0d0887"
            ],
            [
             0.1111111111111111,
             "#46039f"
            ],
            [
             0.2222222222222222,
             "#7201a8"
            ],
            [
             0.3333333333333333,
             "#9c179e"
            ],
            [
             0.4444444444444444,
             "#bd3786"
            ],
            [
             0.5555555555555556,
             "#d8576b"
            ],
            [
             0.6666666666666666,
             "#ed7953"
            ],
            [
             0.7777777777777778,
             "#fb9f3a"
            ],
            [
             0.8888888888888888,
             "#fdca26"
            ],
            [
             1,
             "#f0f921"
            ]
           ],
           "sequentialminus": [
            [
             0,
             "#0d0887"
            ],
            [
             0.1111111111111111,
             "#46039f"
            ],
            [
             0.2222222222222222,
             "#7201a8"
            ],
            [
             0.3333333333333333,
             "#9c179e"
            ],
            [
             0.4444444444444444,
             "#bd3786"
            ],
            [
             0.5555555555555556,
             "#d8576b"
            ],
            [
             0.6666666666666666,
             "#ed7953"
            ],
            [
             0.7777777777777778,
             "#fb9f3a"
            ],
            [
             0.8888888888888888,
             "#fdca26"
            ],
            [
             1,
             "#f0f921"
            ]
           ]
          },
          "colorway": [
           "#636efa",
           "#EF553B",
           "#00cc96",
           "#ab63fa",
           "#FFA15A",
           "#19d3f3",
           "#FF6692",
           "#B6E880",
           "#FF97FF",
           "#FECB52"
          ],
          "font": {
           "color": "#2a3f5f"
          },
          "geo": {
           "bgcolor": "white",
           "lakecolor": "white",
           "landcolor": "#E5ECF6",
           "showlakes": true,
           "showland": true,
           "subunitcolor": "white"
          },
          "hoverlabel": {
           "align": "left"
          },
          "hovermode": "closest",
          "mapbox": {
           "style": "light"
          },
          "paper_bgcolor": "white",
          "plot_bgcolor": "#E5ECF6",
          "polar": {
           "angularaxis": {
            "gridcolor": "white",
            "linecolor": "white",
            "ticks": ""
           },
           "bgcolor": "#E5ECF6",
           "radialaxis": {
            "gridcolor": "white",
            "linecolor": "white",
            "ticks": ""
           }
          },
          "scene": {
           "xaxis": {
            "backgroundcolor": "#E5ECF6",
            "gridcolor": "white",
            "gridwidth": 2,
            "linecolor": "white",
            "showbackground": true,
            "ticks": "",
            "zerolinecolor": "white"
           },
           "yaxis": {
            "backgroundcolor": "#E5ECF6",
            "gridcolor": "white",
            "gridwidth": 2,
            "linecolor": "white",
            "showbackground": true,
            "ticks": "",
            "zerolinecolor": "white"
           },
           "zaxis": {
            "backgroundcolor": "#E5ECF6",
            "gridcolor": "white",
            "gridwidth": 2,
            "linecolor": "white",
            "showbackground": true,
            "ticks": "",
            "zerolinecolor": "white"
           }
          },
          "shapedefaults": {
           "line": {
            "color": "#2a3f5f"
           }
          },
          "ternary": {
           "aaxis": {
            "gridcolor": "white",
            "linecolor": "white",
            "ticks": ""
           },
           "baxis": {
            "gridcolor": "white",
            "linecolor": "white",
            "ticks": ""
           },
           "bgcolor": "#E5ECF6",
           "caxis": {
            "gridcolor": "white",
            "linecolor": "white",
            "ticks": ""
           }
          },
          "title": {
           "x": 0.05
          },
          "xaxis": {
           "automargin": true,
           "gridcolor": "white",
           "linecolor": "white",
           "ticks": "",
           "title": {
            "standoff": 15
           },
           "zerolinecolor": "white",
           "zerolinewidth": 2
          },
          "yaxis": {
           "automargin": true,
           "gridcolor": "white",
           "linecolor": "white",
           "ticks": "",
           "title": {
            "standoff": 15
           },
           "zerolinecolor": "white",
           "zerolinewidth": 2
          }
         }
        },
        "title": {
         "text": "Gate postion"
        }
       }
      }
     },
     "metadata": {},
     "output_type": "display_data"
    }
   ],
   "source": [
    "shop.start_sim([],[3])\n",
    "shop.set_code(['incremental'], [])\n",
    "shop.start_sim([],[3])\n",
    "\n",
    "fig = go.Figure()\n",
    "plant1_prod = shop.model.plant.plant1.production.get()\n",
    "plant2_prod = shop.model.plant.plant2.production.get()\n",
    "plant2_cons = shop.model.plant.plant2.consumption.get()\n",
    "fig.add_trace(go.Scatter(x=plant1_prod.index, y=plant1_prod.values, name=\"Plant 1 production\"))\n",
    "fig.add_trace(go.Scatter(x=plant2_prod.index, y=plant2_prod.values, name=\"Plant 2 production\"))\n",
    "fig.add_trace(go.Scatter(x=plant2_cons.index, y=plant2_cons.values, name=\"Plant 2 consumption\"))\n",
    "fig.update_layout(title=\"Production and consumption\")\n",
    "fig.show()\n",
    "\n",
    "fig = go.Figure()\n",
    "rsv1_head = shop.model.reservoir.rsv1.storage.get()\n",
    "rsv2_head = shop.model.reservoir.rsv2.storage.get()\n",
    "rsv3_head = shop.model.reservoir.rsv3.storage.get()\n",
    "fig.add_trace(go.Scatter(x=rsv1_head.index, y=rsv1_head.values, name=\"Rsv 1 storage\"))\n",
    "fig.add_trace(go.Scatter(x=rsv1_head.index, y=rsv2_head.values, name=\"Rsv 2 storage\"))\n",
    "fig.add_trace(go.Scatter(x=rsv1_head.index, y=rsv3_head.values, name=\"Rsv 3 storage\"))\n",
    "fig.update_layout(title=\"Reservoir storage\")\n",
    "fig.show()\n",
    "\n",
    "fig = go.Figure()\n",
    "gate1 = shop.model.tunnel.t_r1_n1.gate_opening.get()\n",
    "fig.add_trace(go.Scatter(x=gate1.index, y=gate1.values, name=\"Rsv 1 gate position\"))\n",
    "gate2 = shop.model.tunnel.t_r2_n3.gate_opening.get()\n",
    "fig.add_trace(go.Scatter(x=gate2.index, y=gate2.values, name=\"Rsv 2 gate position\"))\n",
    "gate3 = shop.model.tunnel.t_n3_n2.gate_opening.get()\n",
    "fig.add_trace(go.Scatter(x=gate3.index, y=gate3.values, name=\"N2-3 gate position\"))\n",
    "fig.update_layout(title=\"Gate postion\")\n",
    "fig.show()"
   ]
  },
  {
   "cell_type": "code",
   "execution_count": null,
   "id": "5f967a85-c369-4626-9a53-88430ce70636",
   "metadata": {},
   "outputs": [],
   "source": []
  }
 ],
 "metadata": {
  "kernelspec": {
   "display_name": "Python 3 (ipykernel)",
   "language": "python",
   "name": "python3"
  },
  "language_info": {
   "codemirror_mode": {
    "name": "ipython",
    "version": 3
   },
   "file_extension": ".py",
   "mimetype": "text/x-python",
   "name": "python",
   "nbconvert_exporter": "python",
   "pygments_lexer": "ipython3",
   "version": "3.10.2"
  }
 },
 "nbformat": 4,
 "nbformat_minor": 5
}
