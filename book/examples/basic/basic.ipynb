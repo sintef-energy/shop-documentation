{
 "cells": [
  {
   "cell_type": "markdown",
   "metadata": {
    "Collapsed": "false"
   },
   "source": [
    "# Basic example\n"
   ]
  },
  {
   "cell_type": "markdown",
   "metadata": {
    "Collapsed": "false"
   },
   "source": [
    "This example contains the most commonly used objects, attributes, functions and commands for a basic SHOP model, in addition to examples of how to review and plot input data and results. \n",
    "\n",
    "It is not dependent on any other data sources such as ASCII files or spreadsheets, as all input data remain intact in the notebook (or Python code) itself, and is fully dependent on the API and pyshop for interacting with SHOP.\n",
    "\n",
    "The example watercourse consist of a simple SHOP model with two reservoirs and two plants which is optimized over the span of three days. \n",
    "\n",
    "We will show how to import all necessary packages, settings and data, create a SHOP instance and add all needed objects and populate them with data, before we run SHOP with a selection of commands and review the results in the end.\n",
    "\n",
    "While the model in this example is quite simple, it can serve as a good reference when designing your own models. It illustrates an intuitive way of designing models in PyShop by incrementally initializing new objects like reservoirs, plants, generators and markets, setting their key attributes before connecting them together into the a desired topology. The model is then optimized, before the results are retrieved and presented through plots."
   ]
  },
  {
   "cell_type": "markdown",
   "metadata": {
    "Collapsed": "false"
   },
   "source": [
    "## Imports and settings"
   ]
  },
  {
   "cell_type": "markdown",
   "metadata": {
    "Collapsed": "false"
   },
   "source": [
    "The first thing we do is to import the needed packages. You can import whichever packages you like, however we use the following ones for this example:\n",
    "\n",
    "* Pandas for structuring our data into dataframes\n",
    "* Cufflinks and Plotly for dynamic graph plotting\n",
    "* Pyshop in order to create a SHOP session"
   ]
  },
  {
   "cell_type": "code",
   "execution_count": 1,
   "metadata": {
    "Collapsed": "false"
   },
   "outputs": [],
   "source": [
    "import pandas as pd\n",
    "import cufflinks as cf\n",
    "from cufflinks import tools\n",
    "import plotly.offline as py\n",
    "import plotly.graph_objs as go\n",
    "import plotly.express as px\n",
    "from plotly.subplots import make_subplots\n",
    "from pyshop import ShopSession"
   ]
  },
  {
   "cell_type": "markdown",
   "metadata": {
    "Collapsed": "false"
   },
   "source": [
    "Additionally, we set Cufflinks and Plotly to an offline state, only usable in this notebook/environment, without any cloud connectivity:"
   ]
  },
  {
   "cell_type": "code",
   "execution_count": 2,
   "metadata": {
    "Collapsed": "false"
   },
   "outputs": [
    {
     "data": {
      "text/html": [
       "        <script type=\"text/javascript\">\n",
       "        window.PlotlyConfig = {MathJaxConfig: 'local'};\n",
       "        if (window.MathJax) {MathJax.Hub.Config({SVG: {font: \"STIX-Web\"}});}\n",
       "        if (typeof require !== 'undefined') {\n",
       "        require.undef(\"plotly\");\n",
       "        requirejs.config({\n",
       "            paths: {\n",
       "                'plotly': ['https://cdn.plot.ly/plotly-2.9.0.min']\n",
       "            }\n",
       "        });\n",
       "        require(['plotly'], function(Plotly) {\n",
       "            window._Plotly = Plotly;\n",
       "        });\n",
       "        }\n",
       "        </script>\n",
       "        "
      ]
     },
     "metadata": {},
     "output_type": "display_data"
    }
   ],
   "source": [
    "cf.go_offline()"
   ]
  },
  {
   "cell_type": "markdown",
   "metadata": {
    "Collapsed": "false"
   },
   "source": [
    "## Instancing SHOP"
   ]
  },
  {
   "cell_type": "markdown",
   "metadata": {
    "Collapsed": "false"
   },
   "source": [
    "In order to have SHOP receive our inputs, run the model we create and give us results, we need to create an active, running SHOP session.\n",
    "\n",
    "You may create multiple SHOP sessions simultaneously if needed."
   ]
  },
  {
   "cell_type": "code",
   "execution_count": 3,
   "metadata": {
    "Collapsed": "false"
   },
   "outputs": [],
   "source": [
    "# Creating a new SHOP session to the instance 'shop'\n",
    "shop = ShopSession()"
   ]
  },
  {
   "cell_type": "markdown",
   "metadata": {
    "Collapsed": "false"
   },
   "source": [
    "We can also check the current versions of SHOP and its solvers."
   ]
  },
  {
   "cell_type": "code",
   "execution_count": 4,
   "metadata": {
    "Collapsed": "false"
   },
   "outputs": [
    {
     "data": {
      "text/plain": [
       "'14.3.5.1 Cplex 20.1.0 Gurobi 7.5 OSI/CBC 2.9 2022-04-26'"
      ]
     },
     "execution_count": 4,
     "metadata": {},
     "output_type": "execute_result"
    }
   ],
   "source": [
    "# Writing out the current version of SHOP and its solvers\n",
    "shop.shop_api.GetVersionString()"
   ]
  },
  {
   "cell_type": "markdown",
   "metadata": {
    "Collapsed": "false"
   },
   "source": [
    "## Setting time resolutions for the model"
   ]
  },
  {
   "cell_type": "markdown",
   "metadata": {
    "Collapsed": "false"
   },
   "source": [
    "We set the time resolution for the model ourselves, as we generate all input as we go. The start and end time are important, in addition to the resolution of the time steps."
   ]
  },
  {
   "cell_type": "code",
   "execution_count": 5,
   "metadata": {
    "Collapsed": "false"
   },
   "outputs": [],
   "source": [
    "# Setting the start time of the model\n",
    "starttime = pd.Timestamp('2018-01-23 00:00:00')\n",
    "\n",
    "# Setting the end time of the model\n",
    "endtime = pd.Timestamp('2018-01-26')\n",
    "\n",
    "# Setting the start and end time to the shop instance, and defining the time unit\n",
    "shop.set_time_resolution(starttime=starttime, endtime=endtime, timeunit=\"hour\", timeresolution=pd.Series(index=[starttime],data=[1]))"
   ]
  },
  {
   "cell_type": "markdown",
   "metadata": {
    "Collapsed": "false"
   },
   "source": [
    "## Adding topology parameters"
   ]
  },
  {
   "cell_type": "markdown",
   "metadata": {
    "Collapsed": "false"
   },
   "source": [
    "In this example we define the entire topology and generate all its parameters via Python and the API. Below are simple examples on how to define the most common topology objects needed in order to run SHOP."
   ]
  },
  {
   "cell_type": "markdown",
   "metadata": {
    "Collapsed": "false"
   },
   "source": [
    "### Reservoirs"
   ]
  },
  {
   "cell_type": "markdown",
   "metadata": {
    "Collapsed": "false"
   },
   "source": [
    "First, we start of by creating our reservoir objects. It is possible to just execute the function, or we can instance them. The latter is preferred, as the syntax for adding attributes to objects become shorter, in addition to it being handy."
   ]
  },
  {
   "cell_type": "code",
   "execution_count": 6,
   "metadata": {
    "Collapsed": "false"
   },
   "outputs": [],
   "source": [
    "# Add reservoir objects to the model and instancing them\n",
    "rsv1 = shop.model.reservoir.add_object('Reservoir1')\n",
    "rsv2 = shop.model.reservoir.add_object('Reservoir2')\n",
    "# Alternatively, only the right hand side can be executed, however it is often nice to refer to instances later on"
   ]
  },
  {
   "cell_type": "markdown",
   "metadata": {
    "Collapsed": "false"
   },
   "source": [
    "We can then verify that all reservoir objects are correctly added to the model instance:"
   ]
  },
  {
   "cell_type": "code",
   "execution_count": 7,
   "metadata": {
    "Collapsed": "false"
   },
   "outputs": [
    {
     "data": {
      "text/plain": [
       "['Reservoir1', 'Reservoir2']"
      ]
     },
     "execution_count": 7,
     "metadata": {},
     "output_type": "execute_result"
    }
   ],
   "source": [
    "shop.model.reservoir.get_object_names()"
   ]
  },
  {
   "cell_type": "markdown",
   "metadata": {
    "Collapsed": "false"
   },
   "source": [
    "Next, it is time to set the different parameters to the newly created objects, either via the instance, or directly through the function. Below are examples of both."
   ]
  },
  {
   "cell_type": "code",
   "execution_count": 8,
   "metadata": {
    "Collapsed": "false"
   },
   "outputs": [],
   "source": [
    "# Setting the maximum volume in Mm3 via the instance \n",
    "rsv1.max_vol.set(39)\n",
    "rsv2.max_vol.set(97.5)\n",
    "\n",
    "# Setting the LRL (Lowest Regulated Level) of the reservoir in masl via the instance \n",
    "rsv1.lrl.set(860)\n",
    "rsv2.lrl.set(650)\n",
    "\n",
    "# Setting the HRL (Highest Regulated Level) of the reservoir in masl by command\n",
    "shop.model.reservoir.Reservoir1.hrl.set(905)\n",
    "shop.model.reservoir.Reservoir2.hrl.set(679)"
   ]
  },
  {
   "cell_type": "markdown",
   "metadata": {
    "Collapsed": "false"
   },
   "source": [
    "We can then verify that these values have been stored correctly onto the object. We can either make a call to the instance, or execute the function directly."
   ]
  },
  {
   "cell_type": "code",
   "execution_count": 9,
   "metadata": {
    "Collapsed": "false"
   },
   "outputs": [
    {
     "name": "stdout",
     "output_type": "stream",
     "text": [
      "HRL of Reservoir 1:  905.0\n",
      "HRL of Reservoir 2:  679.0\n"
     ]
    }
   ],
   "source": [
    "# Using the instanced rsv1 to retrieve the HRL of the reservoir objects\n",
    "print(\"HRL of Reservoir 1: \",rsv1.hrl.get())\n",
    "print(\"HRL of Reservoir 2: \",rsv2.hrl.get())"
   ]
  },
  {
   "cell_type": "code",
   "execution_count": 10,
   "metadata": {
    "Collapsed": "false"
   },
   "outputs": [
    {
     "name": "stdout",
     "output_type": "stream",
     "text": [
      "LRL of Reservoir 1:  860.0\n",
      "LRL of Reservoir 2:  650.0\n"
     ]
    }
   ],
   "source": [
    "# Using the function directly to retrieve the LRL of Reservoir1\n",
    "print(\"LRL of Reservoir 1: \",shop.model.reservoir.Reservoir1.lrl.get())\n",
    "print(\"LRL of Reservoir 2: \",shop.model.reservoir.Reservoir2.lrl.get())"
   ]
  },
  {
   "cell_type": "markdown",
   "metadata": {
    "Collapsed": "false"
   },
   "source": [
    "We continue the process of setting all relevant attributes to the reservoir objects.\n",
    "!!!Ref. til I/O."
   ]
  },
  {
   "cell_type": "code",
   "execution_count": 11,
   "metadata": {
    "Collapsed": "false"
   },
   "outputs": [],
   "source": [
    "# Setting the stage storage curve, the relation between the reservoir volume (in Mm3) and the height of the reservoir (in masl)\n",
    "rsv1.vol_head.set(\n",
    "    pd.Series([860, 862, 864, 866, 870, 872, 874, 876, 878, 880, 882, 884, 886, 888, 890, 894, 896, 898, 902, 904, 905, 907], \n",
    "              index=[0, 0.91, 1.87, 2.88, 5.07, 6.27, 7.56, 8.91, 10.34, 11.87, 13.53, 15.27, 17.11, 19.05, 21.1, 25.65, 27.96, 30.36, 35.18, 37.68, 39, 41.66], name=0))\n",
    "rsv2.vol_head.set(\n",
    "    pd.Series([650, 651.28, 652.55, 653.83, 656.38, 657.66, 658.94, 660.21, 661.49, 662.77, 664.04, 665.32, 666.6, 667.87, 669.15, 671.70, 672.98, 674.26, 676.81, 678.09, 679, 680], \n",
    "              index=[0, 2.275, 4.675, 7.2, 12.675, 15.675, 18.9, 22.275, 25.85, 29.675, 33.825, 38.175, 42.775, 47.625, 52.75, 64.125, 69.9, 75.9, 87.95, 94.2, 97.5, 104.15], name=0))"
   ]
  },
  {
   "cell_type": "code",
   "execution_count": 12,
   "metadata": {
    "Collapsed": "false"
   },
   "outputs": [],
   "source": [
    "# Setting the overflow description, the (linear) relation between spillage (in m3/s) and masl.\n",
    "rsv1.flow_descr.set(pd.Series([0, 132], index=[906, 907], name=0))\n",
    "rsv2.flow_descr.set(pd.Series([0, 132], index=[679, 680], name=0))\n",
    "\n",
    "# Inflow to the reservoir is an example of an attribute that can be set as a time series,using indexes that relate values to points in time\n",
    "rsv2.inflow.set(pd.Series([60], [starttime]))"
   ]
  },
  {
   "cell_type": "markdown",
   "metadata": {
    "Collapsed": "false"
   },
   "source": [
    "In order to let the model know which initial conditions are set, i.e. the initial start reservoir levels, we need to define them."
   ]
  },
  {
   "cell_type": "code",
   "execution_count": 13,
   "metadata": {
    "Collapsed": "false"
   },
   "outputs": [],
   "source": [
    "# Setting the initial start reservoir height in masl\n",
    "rsv1.start_head.set(900)\n",
    "rsv2.start_head.set(670)"
   ]
  },
  {
   "cell_type": "markdown",
   "metadata": {
    "Collapsed": "false"
   },
   "source": [
    "We also define the endpoint descriptions (water values) for the reservoirs. The model needs these in order to compare the value of the water remaining in the reservoirs at the end of the period compared to the value of selling the water in the market given the market price."
   ]
  },
  {
   "cell_type": "code",
   "execution_count": 14,
   "metadata": {
    "Collapsed": "false"
   },
   "outputs": [],
   "source": [
    "# Setting the endpoint description (water value) to 'rsv1' in NOK/MWh\n",
    "rsv1.energy_value_input.set(30)\n",
    "# Setting the endpoint description (water value) to 'rsv2' in NOK/MWh\n",
    "rsv2.energy_value_input.set(10)"
   ]
  },
  {
   "cell_type": "markdown",
   "metadata": {
    "Collapsed": "false"
   },
   "source": [
    "Now let's review some of the input graphically. Data such as time series, XY-curves and DataFrames can be plotted with a single line of code using Cufflinks (.iplot).\n"
   ]
  },
  {
   "cell_type": "code",
   "execution_count": 15,
   "metadata": {
    "Collapsed": "false"
   },
   "outputs": [
    {
     "data": {
      "application/vnd.plotly.v1+json": {
       "config": {
        "linkText": "Export to plot.ly",
        "plotlyServerURL": "https://plot.ly",
        "showLink": true
       },
       "data": [
        {
         "line": {
          "color": "rgba(55, 128, 191, 1.0)",
          "dash": "solid",
          "shape": "linear",
          "width": 1.3
         },
         "mode": "lines",
         "name": "0.0",
         "text": "",
         "type": "scatter",
         "x": [
          0,
          0.91,
          1.87,
          2.88,
          5.07,
          6.27,
          7.56,
          8.91,
          10.34,
          11.87,
          13.53,
          15.27,
          17.11,
          19.05,
          21.1,
          25.65,
          27.96,
          30.36,
          35.18,
          37.68,
          39,
          41.66
         ],
         "y": [
          860,
          862,
          864,
          866,
          870,
          872,
          874,
          876,
          878,
          880,
          882,
          884,
          886,
          888,
          890,
          894,
          896,
          898,
          902,
          904,
          905,
          907
         ]
        }
       ],
       "layout": {
        "legend": {
         "bgcolor": "#F5F6F9",
         "font": {
          "color": "#4D5663"
         }
        },
        "paper_bgcolor": "#F5F6F9",
        "plot_bgcolor": "#F5F6F9",
        "template": {
         "data": {
          "bar": [
           {
            "error_x": {
             "color": "#2a3f5f"
            },
            "error_y": {
             "color": "#2a3f5f"
            },
            "marker": {
             "line": {
              "color": "#E5ECF6",
              "width": 0.5
             },
             "pattern": {
              "fillmode": "overlay",
              "size": 10,
              "solidity": 0.2
             }
            },
            "type": "bar"
           }
          ],
          "barpolar": [
           {
            "marker": {
             "line": {
              "color": "#E5ECF6",
              "width": 0.5
             },
             "pattern": {
              "fillmode": "overlay",
              "size": 10,
              "solidity": 0.2
             }
            },
            "type": "barpolar"
           }
          ],
          "carpet": [
           {
            "aaxis": {
             "endlinecolor": "#2a3f5f",
             "gridcolor": "white",
             "linecolor": "white",
             "minorgridcolor": "white",
             "startlinecolor": "#2a3f5f"
            },
            "baxis": {
             "endlinecolor": "#2a3f5f",
             "gridcolor": "white",
             "linecolor": "white",
             "minorgridcolor": "white",
             "startlinecolor": "#2a3f5f"
            },
            "type": "carpet"
           }
          ],
          "choropleth": [
           {
            "colorbar": {
             "outlinewidth": 0,
             "ticks": ""
            },
            "type": "choropleth"
           }
          ],
          "contour": [
           {
            "colorbar": {
             "outlinewidth": 0,
             "ticks": ""
            },
            "colorscale": [
             [
              0,
              "#0d0887"
             ],
             [
              0.1111111111111111,
              "#46039f"
             ],
             [
              0.2222222222222222,
              "#7201a8"
             ],
             [
              0.3333333333333333,
              "#9c179e"
             ],
             [
              0.4444444444444444,
              "#bd3786"
             ],
             [
              0.5555555555555556,
              "#d8576b"
             ],
             [
              0.6666666666666666,
              "#ed7953"
             ],
             [
              0.7777777777777778,
              "#fb9f3a"
             ],
             [
              0.8888888888888888,
              "#fdca26"
             ],
             [
              1,
              "#f0f921"
             ]
            ],
            "type": "contour"
           }
          ],
          "contourcarpet": [
           {
            "colorbar": {
             "outlinewidth": 0,
             "ticks": ""
            },
            "type": "contourcarpet"
           }
          ],
          "heatmap": [
           {
            "colorbar": {
             "outlinewidth": 0,
             "ticks": ""
            },
            "colorscale": [
             [
              0,
              "#0d0887"
             ],
             [
              0.1111111111111111,
              "#46039f"
             ],
             [
              0.2222222222222222,
              "#7201a8"
             ],
             [
              0.3333333333333333,
              "#9c179e"
             ],
             [
              0.4444444444444444,
              "#bd3786"
             ],
             [
              0.5555555555555556,
              "#d8576b"
             ],
             [
              0.6666666666666666,
              "#ed7953"
             ],
             [
              0.7777777777777778,
              "#fb9f3a"
             ],
             [
              0.8888888888888888,
              "#fdca26"
             ],
             [
              1,
              "#f0f921"
             ]
            ],
            "type": "heatmap"
           }
          ],
          "heatmapgl": [
           {
            "colorbar": {
             "outlinewidth": 0,
             "ticks": ""
            },
            "colorscale": [
             [
              0,
              "#0d0887"
             ],
             [
              0.1111111111111111,
              "#46039f"
             ],
             [
              0.2222222222222222,
              "#7201a8"
             ],
             [
              0.3333333333333333,
              "#9c179e"
             ],
             [
              0.4444444444444444,
              "#bd3786"
             ],
             [
              0.5555555555555556,
              "#d8576b"
             ],
             [
              0.6666666666666666,
              "#ed7953"
             ],
             [
              0.7777777777777778,
              "#fb9f3a"
             ],
             [
              0.8888888888888888,
              "#fdca26"
             ],
             [
              1,
              "#f0f921"
             ]
            ],
            "type": "heatmapgl"
           }
          ],
          "histogram": [
           {
            "marker": {
             "pattern": {
              "fillmode": "overlay",
              "size": 10,
              "solidity": 0.2
             }
            },
            "type": "histogram"
           }
          ],
          "histogram2d": [
           {
            "colorbar": {
             "outlinewidth": 0,
             "ticks": ""
            },
            "colorscale": [
             [
              0,
              "#0d0887"
             ],
             [
              0.1111111111111111,
              "#46039f"
             ],
             [
              0.2222222222222222,
              "#7201a8"
             ],
             [
              0.3333333333333333,
              "#9c179e"
             ],
             [
              0.4444444444444444,
              "#bd3786"
             ],
             [
              0.5555555555555556,
              "#d8576b"
             ],
             [
              0.6666666666666666,
              "#ed7953"
             ],
             [
              0.7777777777777778,
              "#fb9f3a"
             ],
             [
              0.8888888888888888,
              "#fdca26"
             ],
             [
              1,
              "#f0f921"
             ]
            ],
            "type": "histogram2d"
           }
          ],
          "histogram2dcontour": [
           {
            "colorbar": {
             "outlinewidth": 0,
             "ticks": ""
            },
            "colorscale": [
             [
              0,
              "#0d0887"
             ],
             [
              0.1111111111111111,
              "#46039f"
             ],
             [
              0.2222222222222222,
              "#7201a8"
             ],
             [
              0.3333333333333333,
              "#9c179e"
             ],
             [
              0.4444444444444444,
              "#bd3786"
             ],
             [
              0.5555555555555556,
              "#d8576b"
             ],
             [
              0.6666666666666666,
              "#ed7953"
             ],
             [
              0.7777777777777778,
              "#fb9f3a"
             ],
             [
              0.8888888888888888,
              "#fdca26"
             ],
             [
              1,
              "#f0f921"
             ]
            ],
            "type": "histogram2dcontour"
           }
          ],
          "mesh3d": [
           {
            "colorbar": {
             "outlinewidth": 0,
             "ticks": ""
            },
            "type": "mesh3d"
           }
          ],
          "parcoords": [
           {
            "line": {
             "colorbar": {
              "outlinewidth": 0,
              "ticks": ""
             }
            },
            "type": "parcoords"
           }
          ],
          "pie": [
           {
            "automargin": true,
            "type": "pie"
           }
          ],
          "scatter": [
           {
            "marker": {
             "colorbar": {
              "outlinewidth": 0,
              "ticks": ""
             }
            },
            "type": "scatter"
           }
          ],
          "scatter3d": [
           {
            "line": {
             "colorbar": {
              "outlinewidth": 0,
              "ticks": ""
             }
            },
            "marker": {
             "colorbar": {
              "outlinewidth": 0,
              "ticks": ""
             }
            },
            "type": "scatter3d"
           }
          ],
          "scattercarpet": [
           {
            "marker": {
             "colorbar": {
              "outlinewidth": 0,
              "ticks": ""
             }
            },
            "type": "scattercarpet"
           }
          ],
          "scattergeo": [
           {
            "marker": {
             "colorbar": {
              "outlinewidth": 0,
              "ticks": ""
             }
            },
            "type": "scattergeo"
           }
          ],
          "scattergl": [
           {
            "marker": {
             "colorbar": {
              "outlinewidth": 0,
              "ticks": ""
             }
            },
            "type": "scattergl"
           }
          ],
          "scattermapbox": [
           {
            "marker": {
             "colorbar": {
              "outlinewidth": 0,
              "ticks": ""
             }
            },
            "type": "scattermapbox"
           }
          ],
          "scatterpolar": [
           {
            "marker": {
             "colorbar": {
              "outlinewidth": 0,
              "ticks": ""
             }
            },
            "type": "scatterpolar"
           }
          ],
          "scatterpolargl": [
           {
            "marker": {
             "colorbar": {
              "outlinewidth": 0,
              "ticks": ""
             }
            },
            "type": "scatterpolargl"
           }
          ],
          "scatterternary": [
           {
            "marker": {
             "colorbar": {
              "outlinewidth": 0,
              "ticks": ""
             }
            },
            "type": "scatterternary"
           }
          ],
          "surface": [
           {
            "colorbar": {
             "outlinewidth": 0,
             "ticks": ""
            },
            "colorscale": [
             [
              0,
              "#0d0887"
             ],
             [
              0.1111111111111111,
              "#46039f"
             ],
             [
              0.2222222222222222,
              "#7201a8"
             ],
             [
              0.3333333333333333,
              "#9c179e"
             ],
             [
              0.4444444444444444,
              "#bd3786"
             ],
             [
              0.5555555555555556,
              "#d8576b"
             ],
             [
              0.6666666666666666,
              "#ed7953"
             ],
             [
              0.7777777777777778,
              "#fb9f3a"
             ],
             [
              0.8888888888888888,
              "#fdca26"
             ],
             [
              1,
              "#f0f921"
             ]
            ],
            "type": "surface"
           }
          ],
          "table": [
           {
            "cells": {
             "fill": {
              "color": "#EBF0F8"
             },
             "line": {
              "color": "white"
             }
            },
            "header": {
             "fill": {
              "color": "#C8D4E3"
             },
             "line": {
              "color": "white"
             }
            },
            "type": "table"
           }
          ]
         },
         "layout": {
          "annotationdefaults": {
           "arrowcolor": "#2a3f5f",
           "arrowhead": 0,
           "arrowwidth": 1
          },
          "autotypenumbers": "strict",
          "coloraxis": {
           "colorbar": {
            "outlinewidth": 0,
            "ticks": ""
           }
          },
          "colorscale": {
           "diverging": [
            [
             0,
             "#8e0152"
            ],
            [
             0.1,
             "#c51b7d"
            ],
            [
             0.2,
             "#de77ae"
            ],
            [
             0.3,
             "#f1b6da"
            ],
            [
             0.4,
             "#fde0ef"
            ],
            [
             0.5,
             "#f7f7f7"
            ],
            [
             0.6,
             "#e6f5d0"
            ],
            [
             0.7,
             "#b8e186"
            ],
            [
             0.8,
             "#7fbc41"
            ],
            [
             0.9,
             "#4d9221"
            ],
            [
             1,
             "#276419"
            ]
           ],
           "sequential": [
            [
             0,
             "#0d0887"
            ],
            [
             0.1111111111111111,
             "#46039f"
            ],
            [
             0.2222222222222222,
             "#7201a8"
            ],
            [
             0.3333333333333333,
             "#9c179e"
            ],
            [
             0.4444444444444444,
             "#bd3786"
            ],
            [
             0.5555555555555556,
             "#d8576b"
            ],
            [
             0.6666666666666666,
             "#ed7953"
            ],
            [
             0.7777777777777778,
             "#fb9f3a"
            ],
            [
             0.8888888888888888,
             "#fdca26"
            ],
            [
             1,
             "#f0f921"
            ]
           ],
           "sequentialminus": [
            [
             0,
             "#0d0887"
            ],
            [
             0.1111111111111111,
             "#46039f"
            ],
            [
             0.2222222222222222,
             "#7201a8"
            ],
            [
             0.3333333333333333,
             "#9c179e"
            ],
            [
             0.4444444444444444,
             "#bd3786"
            ],
            [
             0.5555555555555556,
             "#d8576b"
            ],
            [
             0.6666666666666666,
             "#ed7953"
            ],
            [
             0.7777777777777778,
             "#fb9f3a"
            ],
            [
             0.8888888888888888,
             "#fdca26"
            ],
            [
             1,
             "#f0f921"
            ]
           ]
          },
          "colorway": [
           "#636efa",
           "#EF553B",
           "#00cc96",
           "#ab63fa",
           "#FFA15A",
           "#19d3f3",
           "#FF6692",
           "#B6E880",
           "#FF97FF",
           "#FECB52"
          ],
          "font": {
           "color": "#2a3f5f"
          },
          "geo": {
           "bgcolor": "white",
           "lakecolor": "white",
           "landcolor": "#E5ECF6",
           "showlakes": true,
           "showland": true,
           "subunitcolor": "white"
          },
          "hoverlabel": {
           "align": "left"
          },
          "hovermode": "closest",
          "mapbox": {
           "style": "light"
          },
          "paper_bgcolor": "white",
          "plot_bgcolor": "#E5ECF6",
          "polar": {
           "angularaxis": {
            "gridcolor": "white",
            "linecolor": "white",
            "ticks": ""
           },
           "bgcolor": "#E5ECF6",
           "radialaxis": {
            "gridcolor": "white",
            "linecolor": "white",
            "ticks": ""
           }
          },
          "scene": {
           "xaxis": {
            "backgroundcolor": "#E5ECF6",
            "gridcolor": "white",
            "gridwidth": 2,
            "linecolor": "white",
            "showbackground": true,
            "ticks": "",
            "zerolinecolor": "white"
           },
           "yaxis": {
            "backgroundcolor": "#E5ECF6",
            "gridcolor": "white",
            "gridwidth": 2,
            "linecolor": "white",
            "showbackground": true,
            "ticks": "",
            "zerolinecolor": "white"
           },
           "zaxis": {
            "backgroundcolor": "#E5ECF6",
            "gridcolor": "white",
            "gridwidth": 2,
            "linecolor": "white",
            "showbackground": true,
            "ticks": "",
            "zerolinecolor": "white"
           }
          },
          "shapedefaults": {
           "line": {
            "color": "#2a3f5f"
           }
          },
          "ternary": {
           "aaxis": {
            "gridcolor": "white",
            "linecolor": "white",
            "ticks": ""
           },
           "baxis": {
            "gridcolor": "white",
            "linecolor": "white",
            "ticks": ""
           },
           "bgcolor": "#E5ECF6",
           "caxis": {
            "gridcolor": "white",
            "linecolor": "white",
            "ticks": ""
           }
          },
          "title": {
           "x": 0.05
          },
          "xaxis": {
           "automargin": true,
           "gridcolor": "white",
           "linecolor": "white",
           "ticks": "",
           "title": {
            "standoff": 15
           },
           "zerolinecolor": "white",
           "zerolinewidth": 2
          },
          "yaxis": {
           "automargin": true,
           "gridcolor": "white",
           "linecolor": "white",
           "ticks": "",
           "title": {
            "standoff": 15
           },
           "zerolinecolor": "white",
           "zerolinewidth": 2
          }
         }
        },
        "title": {
         "font": {
          "color": "#4D5663"
         },
         "text": "Volume/head relation of Reservoir1"
        },
        "xaxis": {
         "gridcolor": "#E1E5ED",
         "showgrid": true,
         "tickfont": {
          "color": "#4D5663"
         },
         "title": {
          "font": {
           "color": "#4D5663"
          },
          "text": "Mm3"
         },
         "zerolinecolor": "#E1E5ED"
        },
        "yaxis": {
         "gridcolor": "#E1E5ED",
         "showgrid": true,
         "tickfont": {
          "color": "#4D5663"
         },
         "title": {
          "font": {
           "color": "#4D5663"
          },
          "text": "masl"
         },
         "zerolinecolor": "#E1E5ED"
        }
       }
      },
      "text/html": [
       "<div>                            <div id=\"5638f61d-1245-4e15-9309-5a3438e8d6d8\" class=\"plotly-graph-div\" style=\"height:525px; width:100%;\"></div>            <script type=\"text/javascript\">                require([\"plotly\"], function(Plotly) {                    window.PLOTLYENV=window.PLOTLYENV || {};\n",
       "                    window.PLOTLYENV.BASE_URL='https://plot.ly';                                    if (document.getElementById(\"5638f61d-1245-4e15-9309-5a3438e8d6d8\")) {                    Plotly.newPlot(                        \"5638f61d-1245-4e15-9309-5a3438e8d6d8\",                        [{\"line\":{\"color\":\"rgba(55, 128, 191, 1.0)\",\"dash\":\"solid\",\"shape\":\"linear\",\"width\":1.3},\"mode\":\"lines\",\"name\":\"0.0\",\"text\":\"\",\"x\":[0.0,0.91,1.87,2.88,5.07,6.27,7.56,8.91,10.34,11.87,13.53,15.27,17.11,19.05,21.1,25.65,27.96,30.36,35.18,37.68,39.0,41.66],\"y\":[860.0,862.0,864.0,866.0,870.0,872.0,874.0,876.0,878.0,880.0,882.0,884.0,886.0,888.0,890.0,894.0,896.0,898.0,902.0,904.0,905.0,907.0],\"type\":\"scatter\"}],                        {\"legend\":{\"bgcolor\":\"#F5F6F9\",\"font\":{\"color\":\"#4D5663\"}},\"paper_bgcolor\":\"#F5F6F9\",\"plot_bgcolor\":\"#F5F6F9\",\"template\":{\"data\":{\"barpolar\":[{\"marker\":{\"line\":{\"color\":\"#E5ECF6\",\"width\":0.5},\"pattern\":{\"fillmode\":\"overlay\",\"size\":10,\"solidity\":0.2}},\"type\":\"barpolar\"}],\"bar\":[{\"error_x\":{\"color\":\"#2a3f5f\"},\"error_y\":{\"color\":\"#2a3f5f\"},\"marker\":{\"line\":{\"color\":\"#E5ECF6\",\"width\":0.5},\"pattern\":{\"fillmode\":\"overlay\",\"size\":10,\"solidity\":0.2}},\"type\":\"bar\"}],\"carpet\":[{\"aaxis\":{\"endlinecolor\":\"#2a3f5f\",\"gridcolor\":\"white\",\"linecolor\":\"white\",\"minorgridcolor\":\"white\",\"startlinecolor\":\"#2a3f5f\"},\"baxis\":{\"endlinecolor\":\"#2a3f5f\",\"gridcolor\":\"white\",\"linecolor\":\"white\",\"minorgridcolor\":\"white\",\"startlinecolor\":\"#2a3f5f\"},\"type\":\"carpet\"}],\"choropleth\":[{\"colorbar\":{\"outlinewidth\":0,\"ticks\":\"\"},\"type\":\"choropleth\"}],\"contourcarpet\":[{\"colorbar\":{\"outlinewidth\":0,\"ticks\":\"\"},\"type\":\"contourcarpet\"}],\"contour\":[{\"colorbar\":{\"outlinewidth\":0,\"ticks\":\"\"},\"colorscale\":[[0.0,\"#0d0887\"],[0.1111111111111111,\"#46039f\"],[0.2222222222222222,\"#7201a8\"],[0.3333333333333333,\"#9c179e\"],[0.4444444444444444,\"#bd3786\"],[0.5555555555555556,\"#d8576b\"],[0.6666666666666666,\"#ed7953\"],[0.7777777777777778,\"#fb9f3a\"],[0.8888888888888888,\"#fdca26\"],[1.0,\"#f0f921\"]],\"type\":\"contour\"}],\"heatmapgl\":[{\"colorbar\":{\"outlinewidth\":0,\"ticks\":\"\"},\"colorscale\":[[0.0,\"#0d0887\"],[0.1111111111111111,\"#46039f\"],[0.2222222222222222,\"#7201a8\"],[0.3333333333333333,\"#9c179e\"],[0.4444444444444444,\"#bd3786\"],[0.5555555555555556,\"#d8576b\"],[0.6666666666666666,\"#ed7953\"],[0.7777777777777778,\"#fb9f3a\"],[0.8888888888888888,\"#fdca26\"],[1.0,\"#f0f921\"]],\"type\":\"heatmapgl\"}],\"heatmap\":[{\"colorbar\":{\"outlinewidth\":0,\"ticks\":\"\"},\"colorscale\":[[0.0,\"#0d0887\"],[0.1111111111111111,\"#46039f\"],[0.2222222222222222,\"#7201a8\"],[0.3333333333333333,\"#9c179e\"],[0.4444444444444444,\"#bd3786\"],[0.5555555555555556,\"#d8576b\"],[0.6666666666666666,\"#ed7953\"],[0.7777777777777778,\"#fb9f3a\"],[0.8888888888888888,\"#fdca26\"],[1.0,\"#f0f921\"]],\"type\":\"heatmap\"}],\"histogram2dcontour\":[{\"colorbar\":{\"outlinewidth\":0,\"ticks\":\"\"},\"colorscale\":[[0.0,\"#0d0887\"],[0.1111111111111111,\"#46039f\"],[0.2222222222222222,\"#7201a8\"],[0.3333333333333333,\"#9c179e\"],[0.4444444444444444,\"#bd3786\"],[0.5555555555555556,\"#d8576b\"],[0.6666666666666666,\"#ed7953\"],[0.7777777777777778,\"#fb9f3a\"],[0.8888888888888888,\"#fdca26\"],[1.0,\"#f0f921\"]],\"type\":\"histogram2dcontour\"}],\"histogram2d\":[{\"colorbar\":{\"outlinewidth\":0,\"ticks\":\"\"},\"colorscale\":[[0.0,\"#0d0887\"],[0.1111111111111111,\"#46039f\"],[0.2222222222222222,\"#7201a8\"],[0.3333333333333333,\"#9c179e\"],[0.4444444444444444,\"#bd3786\"],[0.5555555555555556,\"#d8576b\"],[0.6666666666666666,\"#ed7953\"],[0.7777777777777778,\"#fb9f3a\"],[0.8888888888888888,\"#fdca26\"],[1.0,\"#f0f921\"]],\"type\":\"histogram2d\"}],\"histogram\":[{\"marker\":{\"pattern\":{\"fillmode\":\"overlay\",\"size\":10,\"solidity\":0.2}},\"type\":\"histogram\"}],\"mesh3d\":[{\"colorbar\":{\"outlinewidth\":0,\"ticks\":\"\"},\"type\":\"mesh3d\"}],\"parcoords\":[{\"line\":{\"colorbar\":{\"outlinewidth\":0,\"ticks\":\"\"}},\"type\":\"parcoords\"}],\"pie\":[{\"automargin\":true,\"type\":\"pie\"}],\"scatter3d\":[{\"line\":{\"colorbar\":{\"outlinewidth\":0,\"ticks\":\"\"}},\"marker\":{\"colorbar\":{\"outlinewidth\":0,\"ticks\":\"\"}},\"type\":\"scatter3d\"}],\"scattercarpet\":[{\"marker\":{\"colorbar\":{\"outlinewidth\":0,\"ticks\":\"\"}},\"type\":\"scattercarpet\"}],\"scattergeo\":[{\"marker\":{\"colorbar\":{\"outlinewidth\":0,\"ticks\":\"\"}},\"type\":\"scattergeo\"}],\"scattergl\":[{\"marker\":{\"colorbar\":{\"outlinewidth\":0,\"ticks\":\"\"}},\"type\":\"scattergl\"}],\"scattermapbox\":[{\"marker\":{\"colorbar\":{\"outlinewidth\":0,\"ticks\":\"\"}},\"type\":\"scattermapbox\"}],\"scatterpolargl\":[{\"marker\":{\"colorbar\":{\"outlinewidth\":0,\"ticks\":\"\"}},\"type\":\"scatterpolargl\"}],\"scatterpolar\":[{\"marker\":{\"colorbar\":{\"outlinewidth\":0,\"ticks\":\"\"}},\"type\":\"scatterpolar\"}],\"scatter\":[{\"marker\":{\"colorbar\":{\"outlinewidth\":0,\"ticks\":\"\"}},\"type\":\"scatter\"}],\"scatterternary\":[{\"marker\":{\"colorbar\":{\"outlinewidth\":0,\"ticks\":\"\"}},\"type\":\"scatterternary\"}],\"surface\":[{\"colorbar\":{\"outlinewidth\":0,\"ticks\":\"\"},\"colorscale\":[[0.0,\"#0d0887\"],[0.1111111111111111,\"#46039f\"],[0.2222222222222222,\"#7201a8\"],[0.3333333333333333,\"#9c179e\"],[0.4444444444444444,\"#bd3786\"],[0.5555555555555556,\"#d8576b\"],[0.6666666666666666,\"#ed7953\"],[0.7777777777777778,\"#fb9f3a\"],[0.8888888888888888,\"#fdca26\"],[1.0,\"#f0f921\"]],\"type\":\"surface\"}],\"table\":[{\"cells\":{\"fill\":{\"color\":\"#EBF0F8\"},\"line\":{\"color\":\"white\"}},\"header\":{\"fill\":{\"color\":\"#C8D4E3\"},\"line\":{\"color\":\"white\"}},\"type\":\"table\"}]},\"layout\":{\"annotationdefaults\":{\"arrowcolor\":\"#2a3f5f\",\"arrowhead\":0,\"arrowwidth\":1},\"autotypenumbers\":\"strict\",\"coloraxis\":{\"colorbar\":{\"outlinewidth\":0,\"ticks\":\"\"}},\"colorscale\":{\"diverging\":[[0,\"#8e0152\"],[0.1,\"#c51b7d\"],[0.2,\"#de77ae\"],[0.3,\"#f1b6da\"],[0.4,\"#fde0ef\"],[0.5,\"#f7f7f7\"],[0.6,\"#e6f5d0\"],[0.7,\"#b8e186\"],[0.8,\"#7fbc41\"],[0.9,\"#4d9221\"],[1,\"#276419\"]],\"sequential\":[[0.0,\"#0d0887\"],[0.1111111111111111,\"#46039f\"],[0.2222222222222222,\"#7201a8\"],[0.3333333333333333,\"#9c179e\"],[0.4444444444444444,\"#bd3786\"],[0.5555555555555556,\"#d8576b\"],[0.6666666666666666,\"#ed7953\"],[0.7777777777777778,\"#fb9f3a\"],[0.8888888888888888,\"#fdca26\"],[1.0,\"#f0f921\"]],\"sequentialminus\":[[0.0,\"#0d0887\"],[0.1111111111111111,\"#46039f\"],[0.2222222222222222,\"#7201a8\"],[0.3333333333333333,\"#9c179e\"],[0.4444444444444444,\"#bd3786\"],[0.5555555555555556,\"#d8576b\"],[0.6666666666666666,\"#ed7953\"],[0.7777777777777778,\"#fb9f3a\"],[0.8888888888888888,\"#fdca26\"],[1.0,\"#f0f921\"]]},\"colorway\":[\"#636efa\",\"#EF553B\",\"#00cc96\",\"#ab63fa\",\"#FFA15A\",\"#19d3f3\",\"#FF6692\",\"#B6E880\",\"#FF97FF\",\"#FECB52\"],\"font\":{\"color\":\"#2a3f5f\"},\"geo\":{\"bgcolor\":\"white\",\"lakecolor\":\"white\",\"landcolor\":\"#E5ECF6\",\"showlakes\":true,\"showland\":true,\"subunitcolor\":\"white\"},\"hoverlabel\":{\"align\":\"left\"},\"hovermode\":\"closest\",\"mapbox\":{\"style\":\"light\"},\"paper_bgcolor\":\"white\",\"plot_bgcolor\":\"#E5ECF6\",\"polar\":{\"angularaxis\":{\"gridcolor\":\"white\",\"linecolor\":\"white\",\"ticks\":\"\"},\"bgcolor\":\"#E5ECF6\",\"radialaxis\":{\"gridcolor\":\"white\",\"linecolor\":\"white\",\"ticks\":\"\"}},\"scene\":{\"xaxis\":{\"backgroundcolor\":\"#E5ECF6\",\"gridcolor\":\"white\",\"gridwidth\":2,\"linecolor\":\"white\",\"showbackground\":true,\"ticks\":\"\",\"zerolinecolor\":\"white\"},\"yaxis\":{\"backgroundcolor\":\"#E5ECF6\",\"gridcolor\":\"white\",\"gridwidth\":2,\"linecolor\":\"white\",\"showbackground\":true,\"ticks\":\"\",\"zerolinecolor\":\"white\"},\"zaxis\":{\"backgroundcolor\":\"#E5ECF6\",\"gridcolor\":\"white\",\"gridwidth\":2,\"linecolor\":\"white\",\"showbackground\":true,\"ticks\":\"\",\"zerolinecolor\":\"white\"}},\"shapedefaults\":{\"line\":{\"color\":\"#2a3f5f\"}},\"ternary\":{\"aaxis\":{\"gridcolor\":\"white\",\"linecolor\":\"white\",\"ticks\":\"\"},\"baxis\":{\"gridcolor\":\"white\",\"linecolor\":\"white\",\"ticks\":\"\"},\"bgcolor\":\"#E5ECF6\",\"caxis\":{\"gridcolor\":\"white\",\"linecolor\":\"white\",\"ticks\":\"\"}},\"title\":{\"x\":0.05},\"xaxis\":{\"automargin\":true,\"gridcolor\":\"white\",\"linecolor\":\"white\",\"ticks\":\"\",\"title\":{\"standoff\":15},\"zerolinecolor\":\"white\",\"zerolinewidth\":2},\"yaxis\":{\"automargin\":true,\"gridcolor\":\"white\",\"linecolor\":\"white\",\"ticks\":\"\",\"title\":{\"standoff\":15},\"zerolinecolor\":\"white\",\"zerolinewidth\":2}}},\"title\":{\"font\":{\"color\":\"#4D5663\"},\"text\":\"Volume/head relation of Reservoir1\"},\"xaxis\":{\"gridcolor\":\"#E1E5ED\",\"showgrid\":true,\"tickfont\":{\"color\":\"#4D5663\"},\"title\":{\"font\":{\"color\":\"#4D5663\"},\"text\":\"Mm3\"},\"zerolinecolor\":\"#E1E5ED\"},\"yaxis\":{\"gridcolor\":\"#E1E5ED\",\"showgrid\":true,\"tickfont\":{\"color\":\"#4D5663\"},\"title\":{\"font\":{\"color\":\"#4D5663\"},\"text\":\"masl\"},\"zerolinecolor\":\"#E1E5ED\"}},                        {\"showLink\": true, \"linkText\": \"Export to plot.ly\", \"plotlyServerURL\": \"https://plot.ly\", \"responsive\": true}                    ).then(function(){\n",
       "                            \n",
       "var gd = document.getElementById('5638f61d-1245-4e15-9309-5a3438e8d6d8');\n",
       "var x = new MutationObserver(function (mutations, observer) {{\n",
       "        var display = window.getComputedStyle(gd).display;\n",
       "        if (!display || display === 'none') {{\n",
       "            console.log([gd, 'removed!']);\n",
       "            Plotly.purge(gd);\n",
       "            observer.disconnect();\n",
       "        }}\n",
       "}});\n",
       "\n",
       "// Listen for the removal of the full notebook cells\n",
       "var notebookContainer = gd.closest('#notebook-container');\n",
       "if (notebookContainer) {{\n",
       "    x.observe(notebookContainer, {childList: true});\n",
       "}}\n",
       "\n",
       "// Listen for the clearing of the current output cell\n",
       "var outputEl = gd.closest('.output');\n",
       "if (outputEl) {{\n",
       "    x.observe(outputEl, {childList: true});\n",
       "}}\n",
       "\n",
       "                        })                };                });            </script>        </div>"
      ]
     },
     "metadata": {},
     "output_type": "display_data"
    }
   ],
   "source": [
    "# Plotting the volume/head relation of Reservoir1\n",
    "rsv1.vol_head.get().iplot(title=\"Volume/head relation of Reservoir1\", xaxis_title=\"Mm3\", yaxis_title=\"masl\", color=\"blue\")"
   ]
  },
  {
   "cell_type": "markdown",
   "metadata": {
    "Collapsed": "false"
   },
   "source": [
    "Or they can be plotted in any style and design imaginable using your favorite plotting tools and packages."
   ]
  },
  {
   "cell_type": "code",
   "execution_count": 16,
   "metadata": {
    "Collapsed": "false"
   },
   "outputs": [
    {
     "data": {
      "application/vnd.plotly.v1+json": {
       "config": {
        "plotlyServerURL": "https://plot.ly"
       },
       "data": [
        {
         "marker": {
          "color": "rgb(116,169,207)"
         },
         "name": "Reservoir volume and height",
         "type": "scatter",
         "x": [
          0,
          2.275,
          4.675,
          7.2,
          12.675,
          15.675,
          18.9,
          22.275,
          25.85,
          29.675,
          33.825,
          38.175,
          42.775,
          47.625,
          52.75,
          64.125,
          69.9,
          75.9,
          87.95,
          94.2,
          97.5,
          104.15
         ],
         "y": [
          650,
          651.28,
          652.55,
          653.83,
          656.38,
          657.66,
          658.94,
          660.21,
          661.49,
          662.77,
          664.04,
          665.32,
          666.6,
          667.87,
          669.15,
          671.7,
          672.98,
          674.26,
          676.81,
          678.09,
          679,
          680
         ]
        },
        {
         "marker": {
          "color": "rgb(5,112,176)",
          "line": {
           "color": "rgb(5,112,176)",
           "width": 4
          },
          "size": 3
         },
         "mode": "markers",
         "name": "Start point",
         "type": "scatter",
         "x": [
          56.541666666666664
         ],
         "y": [
          670
         ]
        }
       ],
       "layout": {
        "template": {
         "data": {
          "bar": [
           {
            "error_x": {
             "color": "#2a3f5f"
            },
            "error_y": {
             "color": "#2a3f5f"
            },
            "marker": {
             "line": {
              "color": "#E5ECF6",
              "width": 0.5
             },
             "pattern": {
              "fillmode": "overlay",
              "size": 10,
              "solidity": 0.2
             }
            },
            "type": "bar"
           }
          ],
          "barpolar": [
           {
            "marker": {
             "line": {
              "color": "#E5ECF6",
              "width": 0.5
             },
             "pattern": {
              "fillmode": "overlay",
              "size": 10,
              "solidity": 0.2
             }
            },
            "type": "barpolar"
           }
          ],
          "carpet": [
           {
            "aaxis": {
             "endlinecolor": "#2a3f5f",
             "gridcolor": "white",
             "linecolor": "white",
             "minorgridcolor": "white",
             "startlinecolor": "#2a3f5f"
            },
            "baxis": {
             "endlinecolor": "#2a3f5f",
             "gridcolor": "white",
             "linecolor": "white",
             "minorgridcolor": "white",
             "startlinecolor": "#2a3f5f"
            },
            "type": "carpet"
           }
          ],
          "choropleth": [
           {
            "colorbar": {
             "outlinewidth": 0,
             "ticks": ""
            },
            "type": "choropleth"
           }
          ],
          "contour": [
           {
            "colorbar": {
             "outlinewidth": 0,
             "ticks": ""
            },
            "colorscale": [
             [
              0,
              "#0d0887"
             ],
             [
              0.1111111111111111,
              "#46039f"
             ],
             [
              0.2222222222222222,
              "#7201a8"
             ],
             [
              0.3333333333333333,
              "#9c179e"
             ],
             [
              0.4444444444444444,
              "#bd3786"
             ],
             [
              0.5555555555555556,
              "#d8576b"
             ],
             [
              0.6666666666666666,
              "#ed7953"
             ],
             [
              0.7777777777777778,
              "#fb9f3a"
             ],
             [
              0.8888888888888888,
              "#fdca26"
             ],
             [
              1,
              "#f0f921"
             ]
            ],
            "type": "contour"
           }
          ],
          "contourcarpet": [
           {
            "colorbar": {
             "outlinewidth": 0,
             "ticks": ""
            },
            "type": "contourcarpet"
           }
          ],
          "heatmap": [
           {
            "colorbar": {
             "outlinewidth": 0,
             "ticks": ""
            },
            "colorscale": [
             [
              0,
              "#0d0887"
             ],
             [
              0.1111111111111111,
              "#46039f"
             ],
             [
              0.2222222222222222,
              "#7201a8"
             ],
             [
              0.3333333333333333,
              "#9c179e"
             ],
             [
              0.4444444444444444,
              "#bd3786"
             ],
             [
              0.5555555555555556,
              "#d8576b"
             ],
             [
              0.6666666666666666,
              "#ed7953"
             ],
             [
              0.7777777777777778,
              "#fb9f3a"
             ],
             [
              0.8888888888888888,
              "#fdca26"
             ],
             [
              1,
              "#f0f921"
             ]
            ],
            "type": "heatmap"
           }
          ],
          "heatmapgl": [
           {
            "colorbar": {
             "outlinewidth": 0,
             "ticks": ""
            },
            "colorscale": [
             [
              0,
              "#0d0887"
             ],
             [
              0.1111111111111111,
              "#46039f"
             ],
             [
              0.2222222222222222,
              "#7201a8"
             ],
             [
              0.3333333333333333,
              "#9c179e"
             ],
             [
              0.4444444444444444,
              "#bd3786"
             ],
             [
              0.5555555555555556,
              "#d8576b"
             ],
             [
              0.6666666666666666,
              "#ed7953"
             ],
             [
              0.7777777777777778,
              "#fb9f3a"
             ],
             [
              0.8888888888888888,
              "#fdca26"
             ],
             [
              1,
              "#f0f921"
             ]
            ],
            "type": "heatmapgl"
           }
          ],
          "histogram": [
           {
            "marker": {
             "pattern": {
              "fillmode": "overlay",
              "size": 10,
              "solidity": 0.2
             }
            },
            "type": "histogram"
           }
          ],
          "histogram2d": [
           {
            "colorbar": {
             "outlinewidth": 0,
             "ticks": ""
            },
            "colorscale": [
             [
              0,
              "#0d0887"
             ],
             [
              0.1111111111111111,
              "#46039f"
             ],
             [
              0.2222222222222222,
              "#7201a8"
             ],
             [
              0.3333333333333333,
              "#9c179e"
             ],
             [
              0.4444444444444444,
              "#bd3786"
             ],
             [
              0.5555555555555556,
              "#d8576b"
             ],
             [
              0.6666666666666666,
              "#ed7953"
             ],
             [
              0.7777777777777778,
              "#fb9f3a"
             ],
             [
              0.8888888888888888,
              "#fdca26"
             ],
             [
              1,
              "#f0f921"
             ]
            ],
            "type": "histogram2d"
           }
          ],
          "histogram2dcontour": [
           {
            "colorbar": {
             "outlinewidth": 0,
             "ticks": ""
            },
            "colorscale": [
             [
              0,
              "#0d0887"
             ],
             [
              0.1111111111111111,
              "#46039f"
             ],
             [
              0.2222222222222222,
              "#7201a8"
             ],
             [
              0.3333333333333333,
              "#9c179e"
             ],
             [
              0.4444444444444444,
              "#bd3786"
             ],
             [
              0.5555555555555556,
              "#d8576b"
             ],
             [
              0.6666666666666666,
              "#ed7953"
             ],
             [
              0.7777777777777778,
              "#fb9f3a"
             ],
             [
              0.8888888888888888,
              "#fdca26"
             ],
             [
              1,
              "#f0f921"
             ]
            ],
            "type": "histogram2dcontour"
           }
          ],
          "mesh3d": [
           {
            "colorbar": {
             "outlinewidth": 0,
             "ticks": ""
            },
            "type": "mesh3d"
           }
          ],
          "parcoords": [
           {
            "line": {
             "colorbar": {
              "outlinewidth": 0,
              "ticks": ""
             }
            },
            "type": "parcoords"
           }
          ],
          "pie": [
           {
            "automargin": true,
            "type": "pie"
           }
          ],
          "scatter": [
           {
            "marker": {
             "colorbar": {
              "outlinewidth": 0,
              "ticks": ""
             }
            },
            "type": "scatter"
           }
          ],
          "scatter3d": [
           {
            "line": {
             "colorbar": {
              "outlinewidth": 0,
              "ticks": ""
             }
            },
            "marker": {
             "colorbar": {
              "outlinewidth": 0,
              "ticks": ""
             }
            },
            "type": "scatter3d"
           }
          ],
          "scattercarpet": [
           {
            "marker": {
             "colorbar": {
              "outlinewidth": 0,
              "ticks": ""
             }
            },
            "type": "scattercarpet"
           }
          ],
          "scattergeo": [
           {
            "marker": {
             "colorbar": {
              "outlinewidth": 0,
              "ticks": ""
             }
            },
            "type": "scattergeo"
           }
          ],
          "scattergl": [
           {
            "marker": {
             "colorbar": {
              "outlinewidth": 0,
              "ticks": ""
             }
            },
            "type": "scattergl"
           }
          ],
          "scattermapbox": [
           {
            "marker": {
             "colorbar": {
              "outlinewidth": 0,
              "ticks": ""
             }
            },
            "type": "scattermapbox"
           }
          ],
          "scatterpolar": [
           {
            "marker": {
             "colorbar": {
              "outlinewidth": 0,
              "ticks": ""
             }
            },
            "type": "scatterpolar"
           }
          ],
          "scatterpolargl": [
           {
            "marker": {
             "colorbar": {
              "outlinewidth": 0,
              "ticks": ""
             }
            },
            "type": "scatterpolargl"
           }
          ],
          "scatterternary": [
           {
            "marker": {
             "colorbar": {
              "outlinewidth": 0,
              "ticks": ""
             }
            },
            "type": "scatterternary"
           }
          ],
          "surface": [
           {
            "colorbar": {
             "outlinewidth": 0,
             "ticks": ""
            },
            "colorscale": [
             [
              0,
              "#0d0887"
             ],
             [
              0.1111111111111111,
              "#46039f"
             ],
             [
              0.2222222222222222,
              "#7201a8"
             ],
             [
              0.3333333333333333,
              "#9c179e"
             ],
             [
              0.4444444444444444,
              "#bd3786"
             ],
             [
              0.5555555555555556,
              "#d8576b"
             ],
             [
              0.6666666666666666,
              "#ed7953"
             ],
             [
              0.7777777777777778,
              "#fb9f3a"
             ],
             [
              0.8888888888888888,
              "#fdca26"
             ],
             [
              1,
              "#f0f921"
             ]
            ],
            "type": "surface"
           }
          ],
          "table": [
           {
            "cells": {
             "fill": {
              "color": "#EBF0F8"
             },
             "line": {
              "color": "white"
             }
            },
            "header": {
             "fill": {
              "color": "#C8D4E3"
             },
             "line": {
              "color": "white"
             }
            },
            "type": "table"
           }
          ]
         },
         "layout": {
          "annotationdefaults": {
           "arrowcolor": "#2a3f5f",
           "arrowhead": 0,
           "arrowwidth": 1
          },
          "autotypenumbers": "strict",
          "coloraxis": {
           "colorbar": {
            "outlinewidth": 0,
            "ticks": ""
           }
          },
          "colorscale": {
           "diverging": [
            [
             0,
             "#8e0152"
            ],
            [
             0.1,
             "#c51b7d"
            ],
            [
             0.2,
             "#de77ae"
            ],
            [
             0.3,
             "#f1b6da"
            ],
            [
             0.4,
             "#fde0ef"
            ],
            [
             0.5,
             "#f7f7f7"
            ],
            [
             0.6,
             "#e6f5d0"
            ],
            [
             0.7,
             "#b8e186"
            ],
            [
             0.8,
             "#7fbc41"
            ],
            [
             0.9,
             "#4d9221"
            ],
            [
             1,
             "#276419"
            ]
           ],
           "sequential": [
            [
             0,
             "#0d0887"
            ],
            [
             0.1111111111111111,
             "#46039f"
            ],
            [
             0.2222222222222222,
             "#7201a8"
            ],
            [
             0.3333333333333333,
             "#9c179e"
            ],
            [
             0.4444444444444444,
             "#bd3786"
            ],
            [
             0.5555555555555556,
             "#d8576b"
            ],
            [
             0.6666666666666666,
             "#ed7953"
            ],
            [
             0.7777777777777778,
             "#fb9f3a"
            ],
            [
             0.8888888888888888,
             "#fdca26"
            ],
            [
             1,
             "#f0f921"
            ]
           ],
           "sequentialminus": [
            [
             0,
             "#0d0887"
            ],
            [
             0.1111111111111111,
             "#46039f"
            ],
            [
             0.2222222222222222,
             "#7201a8"
            ],
            [
             0.3333333333333333,
             "#9c179e"
            ],
            [
             0.4444444444444444,
             "#bd3786"
            ],
            [
             0.5555555555555556,
             "#d8576b"
            ],
            [
             0.6666666666666666,
             "#ed7953"
            ],
            [
             0.7777777777777778,
             "#fb9f3a"
            ],
            [
             0.8888888888888888,
             "#fdca26"
            ],
            [
             1,
             "#f0f921"
            ]
           ]
          },
          "colorway": [
           "#636efa",
           "#EF553B",
           "#00cc96",
           "#ab63fa",
           "#FFA15A",
           "#19d3f3",
           "#FF6692",
           "#B6E880",
           "#FF97FF",
           "#FECB52"
          ],
          "font": {
           "color": "#2a3f5f"
          },
          "geo": {
           "bgcolor": "white",
           "lakecolor": "white",
           "landcolor": "#E5ECF6",
           "showlakes": true,
           "showland": true,
           "subunitcolor": "white"
          },
          "hoverlabel": {
           "align": "left"
          },
          "hovermode": "closest",
          "mapbox": {
           "style": "light"
          },
          "paper_bgcolor": "white",
          "plot_bgcolor": "#E5ECF6",
          "polar": {
           "angularaxis": {
            "gridcolor": "white",
            "linecolor": "white",
            "ticks": ""
           },
           "bgcolor": "#E5ECF6",
           "radialaxis": {
            "gridcolor": "white",
            "linecolor": "white",
            "ticks": ""
           }
          },
          "scene": {
           "xaxis": {
            "backgroundcolor": "#E5ECF6",
            "gridcolor": "white",
            "gridwidth": 2,
            "linecolor": "white",
            "showbackground": true,
            "ticks": "",
            "zerolinecolor": "white"
           },
           "yaxis": {
            "backgroundcolor": "#E5ECF6",
            "gridcolor": "white",
            "gridwidth": 2,
            "linecolor": "white",
            "showbackground": true,
            "ticks": "",
            "zerolinecolor": "white"
           },
           "zaxis": {
            "backgroundcolor": "#E5ECF6",
            "gridcolor": "white",
            "gridwidth": 2,
            "linecolor": "white",
            "showbackground": true,
            "ticks": "",
            "zerolinecolor": "white"
           }
          },
          "shapedefaults": {
           "line": {
            "color": "#2a3f5f"
           }
          },
          "ternary": {
           "aaxis": {
            "gridcolor": "white",
            "linecolor": "white",
            "ticks": ""
           },
           "baxis": {
            "gridcolor": "white",
            "linecolor": "white",
            "ticks": ""
           },
           "bgcolor": "#E5ECF6",
           "caxis": {
            "gridcolor": "white",
            "linecolor": "white",
            "ticks": ""
           }
          },
          "title": {
           "x": 0.05
          },
          "xaxis": {
           "automargin": true,
           "gridcolor": "white",
           "linecolor": "white",
           "ticks": "",
           "title": {
            "standoff": 15
           },
           "zerolinecolor": "white",
           "zerolinewidth": 2
          },
          "yaxis": {
           "automargin": true,
           "gridcolor": "white",
           "linecolor": "white",
           "ticks": "",
           "title": {
            "standoff": 15
           },
           "zerolinecolor": "white",
           "zerolinewidth": 2
          }
         }
        },
        "title": {
         "text": "<b>Reservoir volume and height in Reservoir2 </b>"
        },
        "xaxis": {
         "title": {
          "text": "<b>Volume</b> (Mm<sup>3</sup>)"
         }
        },
        "yaxis": {
         "title": {
          "text": "<b>Height</b> (meter)"
         }
        }
       }
      },
      "text/html": [
       "<div>                            <div id=\"4bd4e8c8-63c4-4280-bc1e-ab33cffe4f89\" class=\"plotly-graph-div\" style=\"height:525px; width:100%;\"></div>            <script type=\"text/javascript\">                require([\"plotly\"], function(Plotly) {                    window.PLOTLYENV=window.PLOTLYENV || {};                                    if (document.getElementById(\"4bd4e8c8-63c4-4280-bc1e-ab33cffe4f89\")) {                    Plotly.newPlot(                        \"4bd4e8c8-63c4-4280-bc1e-ab33cffe4f89\",                        [{\"marker\":{\"color\":\"rgb(116,169,207)\"},\"name\":\"Reservoir volume and height\",\"x\":[0.0,2.275,4.675,7.2,12.675,15.675,18.9,22.275,25.85,29.675,33.825,38.175,42.775,47.625,52.75,64.125,69.9,75.9,87.95,94.2,97.5,104.15],\"y\":[650.0,651.28,652.55,653.83,656.38,657.66,658.94,660.21,661.49,662.77,664.04,665.32,666.6,667.87,669.15,671.7,672.98,674.26,676.81,678.09,679.0,680.0],\"type\":\"scatter\"},{\"marker\":{\"color\":\"rgb(5,112,176)\",\"line\":{\"color\":\"rgb(5,112,176)\",\"width\":4},\"size\":3},\"mode\":\"markers\",\"name\":\"Start point\",\"x\":[56.541666666666664],\"y\":[670.0],\"type\":\"scatter\"}],                        {\"template\":{\"data\":{\"bar\":[{\"error_x\":{\"color\":\"#2a3f5f\"},\"error_y\":{\"color\":\"#2a3f5f\"},\"marker\":{\"line\":{\"color\":\"#E5ECF6\",\"width\":0.5},\"pattern\":{\"fillmode\":\"overlay\",\"size\":10,\"solidity\":0.2}},\"type\":\"bar\"}],\"barpolar\":[{\"marker\":{\"line\":{\"color\":\"#E5ECF6\",\"width\":0.5},\"pattern\":{\"fillmode\":\"overlay\",\"size\":10,\"solidity\":0.2}},\"type\":\"barpolar\"}],\"carpet\":[{\"aaxis\":{\"endlinecolor\":\"#2a3f5f\",\"gridcolor\":\"white\",\"linecolor\":\"white\",\"minorgridcolor\":\"white\",\"startlinecolor\":\"#2a3f5f\"},\"baxis\":{\"endlinecolor\":\"#2a3f5f\",\"gridcolor\":\"white\",\"linecolor\":\"white\",\"minorgridcolor\":\"white\",\"startlinecolor\":\"#2a3f5f\"},\"type\":\"carpet\"}],\"choropleth\":[{\"colorbar\":{\"outlinewidth\":0,\"ticks\":\"\"},\"type\":\"choropleth\"}],\"contour\":[{\"colorbar\":{\"outlinewidth\":0,\"ticks\":\"\"},\"colorscale\":[[0.0,\"#0d0887\"],[0.1111111111111111,\"#46039f\"],[0.2222222222222222,\"#7201a8\"],[0.3333333333333333,\"#9c179e\"],[0.4444444444444444,\"#bd3786\"],[0.5555555555555556,\"#d8576b\"],[0.6666666666666666,\"#ed7953\"],[0.7777777777777778,\"#fb9f3a\"],[0.8888888888888888,\"#fdca26\"],[1.0,\"#f0f921\"]],\"type\":\"contour\"}],\"contourcarpet\":[{\"colorbar\":{\"outlinewidth\":0,\"ticks\":\"\"},\"type\":\"contourcarpet\"}],\"heatmap\":[{\"colorbar\":{\"outlinewidth\":0,\"ticks\":\"\"},\"colorscale\":[[0.0,\"#0d0887\"],[0.1111111111111111,\"#46039f\"],[0.2222222222222222,\"#7201a8\"],[0.3333333333333333,\"#9c179e\"],[0.4444444444444444,\"#bd3786\"],[0.5555555555555556,\"#d8576b\"],[0.6666666666666666,\"#ed7953\"],[0.7777777777777778,\"#fb9f3a\"],[0.8888888888888888,\"#fdca26\"],[1.0,\"#f0f921\"]],\"type\":\"heatmap\"}],\"heatmapgl\":[{\"colorbar\":{\"outlinewidth\":0,\"ticks\":\"\"},\"colorscale\":[[0.0,\"#0d0887\"],[0.1111111111111111,\"#46039f\"],[0.2222222222222222,\"#7201a8\"],[0.3333333333333333,\"#9c179e\"],[0.4444444444444444,\"#bd3786\"],[0.5555555555555556,\"#d8576b\"],[0.6666666666666666,\"#ed7953\"],[0.7777777777777778,\"#fb9f3a\"],[0.8888888888888888,\"#fdca26\"],[1.0,\"#f0f921\"]],\"type\":\"heatmapgl\"}],\"histogram\":[{\"marker\":{\"pattern\":{\"fillmode\":\"overlay\",\"size\":10,\"solidity\":0.2}},\"type\":\"histogram\"}],\"histogram2d\":[{\"colorbar\":{\"outlinewidth\":0,\"ticks\":\"\"},\"colorscale\":[[0.0,\"#0d0887\"],[0.1111111111111111,\"#46039f\"],[0.2222222222222222,\"#7201a8\"],[0.3333333333333333,\"#9c179e\"],[0.4444444444444444,\"#bd3786\"],[0.5555555555555556,\"#d8576b\"],[0.6666666666666666,\"#ed7953\"],[0.7777777777777778,\"#fb9f3a\"],[0.8888888888888888,\"#fdca26\"],[1.0,\"#f0f921\"]],\"type\":\"histogram2d\"}],\"histogram2dcontour\":[{\"colorbar\":{\"outlinewidth\":0,\"ticks\":\"\"},\"colorscale\":[[0.0,\"#0d0887\"],[0.1111111111111111,\"#46039f\"],[0.2222222222222222,\"#7201a8\"],[0.3333333333333333,\"#9c179e\"],[0.4444444444444444,\"#bd3786\"],[0.5555555555555556,\"#d8576b\"],[0.6666666666666666,\"#ed7953\"],[0.7777777777777778,\"#fb9f3a\"],[0.8888888888888888,\"#fdca26\"],[1.0,\"#f0f921\"]],\"type\":\"histogram2dcontour\"}],\"mesh3d\":[{\"colorbar\":{\"outlinewidth\":0,\"ticks\":\"\"},\"type\":\"mesh3d\"}],\"parcoords\":[{\"line\":{\"colorbar\":{\"outlinewidth\":0,\"ticks\":\"\"}},\"type\":\"parcoords\"}],\"pie\":[{\"automargin\":true,\"type\":\"pie\"}],\"scatter\":[{\"marker\":{\"colorbar\":{\"outlinewidth\":0,\"ticks\":\"\"}},\"type\":\"scatter\"}],\"scatter3d\":[{\"line\":{\"colorbar\":{\"outlinewidth\":0,\"ticks\":\"\"}},\"marker\":{\"colorbar\":{\"outlinewidth\":0,\"ticks\":\"\"}},\"type\":\"scatter3d\"}],\"scattercarpet\":[{\"marker\":{\"colorbar\":{\"outlinewidth\":0,\"ticks\":\"\"}},\"type\":\"scattercarpet\"}],\"scattergeo\":[{\"marker\":{\"colorbar\":{\"outlinewidth\":0,\"ticks\":\"\"}},\"type\":\"scattergeo\"}],\"scattergl\":[{\"marker\":{\"colorbar\":{\"outlinewidth\":0,\"ticks\":\"\"}},\"type\":\"scattergl\"}],\"scattermapbox\":[{\"marker\":{\"colorbar\":{\"outlinewidth\":0,\"ticks\":\"\"}},\"type\":\"scattermapbox\"}],\"scatterpolar\":[{\"marker\":{\"colorbar\":{\"outlinewidth\":0,\"ticks\":\"\"}},\"type\":\"scatterpolar\"}],\"scatterpolargl\":[{\"marker\":{\"colorbar\":{\"outlinewidth\":0,\"ticks\":\"\"}},\"type\":\"scatterpolargl\"}],\"scatterternary\":[{\"marker\":{\"colorbar\":{\"outlinewidth\":0,\"ticks\":\"\"}},\"type\":\"scatterternary\"}],\"surface\":[{\"colorbar\":{\"outlinewidth\":0,\"ticks\":\"\"},\"colorscale\":[[0.0,\"#0d0887\"],[0.1111111111111111,\"#46039f\"],[0.2222222222222222,\"#7201a8\"],[0.3333333333333333,\"#9c179e\"],[0.4444444444444444,\"#bd3786\"],[0.5555555555555556,\"#d8576b\"],[0.6666666666666666,\"#ed7953\"],[0.7777777777777778,\"#fb9f3a\"],[0.8888888888888888,\"#fdca26\"],[1.0,\"#f0f921\"]],\"type\":\"surface\"}],\"table\":[{\"cells\":{\"fill\":{\"color\":\"#EBF0F8\"},\"line\":{\"color\":\"white\"}},\"header\":{\"fill\":{\"color\":\"#C8D4E3\"},\"line\":{\"color\":\"white\"}},\"type\":\"table\"}]},\"layout\":{\"annotationdefaults\":{\"arrowcolor\":\"#2a3f5f\",\"arrowhead\":0,\"arrowwidth\":1},\"autotypenumbers\":\"strict\",\"coloraxis\":{\"colorbar\":{\"outlinewidth\":0,\"ticks\":\"\"}},\"colorscale\":{\"diverging\":[[0,\"#8e0152\"],[0.1,\"#c51b7d\"],[0.2,\"#de77ae\"],[0.3,\"#f1b6da\"],[0.4,\"#fde0ef\"],[0.5,\"#f7f7f7\"],[0.6,\"#e6f5d0\"],[0.7,\"#b8e186\"],[0.8,\"#7fbc41\"],[0.9,\"#4d9221\"],[1,\"#276419\"]],\"sequential\":[[0.0,\"#0d0887\"],[0.1111111111111111,\"#46039f\"],[0.2222222222222222,\"#7201a8\"],[0.3333333333333333,\"#9c179e\"],[0.4444444444444444,\"#bd3786\"],[0.5555555555555556,\"#d8576b\"],[0.6666666666666666,\"#ed7953\"],[0.7777777777777778,\"#fb9f3a\"],[0.8888888888888888,\"#fdca26\"],[1.0,\"#f0f921\"]],\"sequentialminus\":[[0.0,\"#0d0887\"],[0.1111111111111111,\"#46039f\"],[0.2222222222222222,\"#7201a8\"],[0.3333333333333333,\"#9c179e\"],[0.4444444444444444,\"#bd3786\"],[0.5555555555555556,\"#d8576b\"],[0.6666666666666666,\"#ed7953\"],[0.7777777777777778,\"#fb9f3a\"],[0.8888888888888888,\"#fdca26\"],[1.0,\"#f0f921\"]]},\"colorway\":[\"#636efa\",\"#EF553B\",\"#00cc96\",\"#ab63fa\",\"#FFA15A\",\"#19d3f3\",\"#FF6692\",\"#B6E880\",\"#FF97FF\",\"#FECB52\"],\"font\":{\"color\":\"#2a3f5f\"},\"geo\":{\"bgcolor\":\"white\",\"lakecolor\":\"white\",\"landcolor\":\"#E5ECF6\",\"showlakes\":true,\"showland\":true,\"subunitcolor\":\"white\"},\"hoverlabel\":{\"align\":\"left\"},\"hovermode\":\"closest\",\"mapbox\":{\"style\":\"light\"},\"paper_bgcolor\":\"white\",\"plot_bgcolor\":\"#E5ECF6\",\"polar\":{\"angularaxis\":{\"gridcolor\":\"white\",\"linecolor\":\"white\",\"ticks\":\"\"},\"bgcolor\":\"#E5ECF6\",\"radialaxis\":{\"gridcolor\":\"white\",\"linecolor\":\"white\",\"ticks\":\"\"}},\"scene\":{\"xaxis\":{\"backgroundcolor\":\"#E5ECF6\",\"gridcolor\":\"white\",\"gridwidth\":2,\"linecolor\":\"white\",\"showbackground\":true,\"ticks\":\"\",\"zerolinecolor\":\"white\"},\"yaxis\":{\"backgroundcolor\":\"#E5ECF6\",\"gridcolor\":\"white\",\"gridwidth\":2,\"linecolor\":\"white\",\"showbackground\":true,\"ticks\":\"\",\"zerolinecolor\":\"white\"},\"zaxis\":{\"backgroundcolor\":\"#E5ECF6\",\"gridcolor\":\"white\",\"gridwidth\":2,\"linecolor\":\"white\",\"showbackground\":true,\"ticks\":\"\",\"zerolinecolor\":\"white\"}},\"shapedefaults\":{\"line\":{\"color\":\"#2a3f5f\"}},\"ternary\":{\"aaxis\":{\"gridcolor\":\"white\",\"linecolor\":\"white\",\"ticks\":\"\"},\"baxis\":{\"gridcolor\":\"white\",\"linecolor\":\"white\",\"ticks\":\"\"},\"bgcolor\":\"#E5ECF6\",\"caxis\":{\"gridcolor\":\"white\",\"linecolor\":\"white\",\"ticks\":\"\"}},\"title\":{\"x\":0.05},\"xaxis\":{\"automargin\":true,\"gridcolor\":\"white\",\"linecolor\":\"white\",\"ticks\":\"\",\"title\":{\"standoff\":15},\"zerolinecolor\":\"white\",\"zerolinewidth\":2},\"yaxis\":{\"automargin\":true,\"gridcolor\":\"white\",\"linecolor\":\"white\",\"ticks\":\"\",\"title\":{\"standoff\":15},\"zerolinecolor\":\"white\",\"zerolinewidth\":2}}},\"title\":{\"text\":\"<b>Reservoir volume and height in Reservoir2 </b>\"},\"xaxis\":{\"title\":{\"text\":\"<b>Volume</b> (Mm<sup>3</sup>)\"}},\"yaxis\":{\"title\":{\"text\":\"<b>Height</b> (meter)\"}}},                        {\"responsive\": true}                    ).then(function(){\n",
       "                            \n",
       "var gd = document.getElementById('4bd4e8c8-63c4-4280-bc1e-ab33cffe4f89');\n",
       "var x = new MutationObserver(function (mutations, observer) {{\n",
       "        var display = window.getComputedStyle(gd).display;\n",
       "        if (!display || display === 'none') {{\n",
       "            console.log([gd, 'removed!']);\n",
       "            Plotly.purge(gd);\n",
       "            observer.disconnect();\n",
       "        }}\n",
       "}});\n",
       "\n",
       "// Listen for the removal of the full notebook cells\n",
       "var notebookContainer = gd.closest('#notebook-container');\n",
       "if (notebookContainer) {{\n",
       "    x.observe(notebookContainer, {childList: true});\n",
       "}}\n",
       "\n",
       "// Listen for the clearing of the current output cell\n",
       "var outputEl = gd.closest('.output');\n",
       "if (outputEl) {{\n",
       "    x.observe(outputEl, {childList: true});\n",
       "}}\n",
       "\n",
       "                        })                };                });            </script>        </div>"
      ]
     },
     "metadata": {},
     "output_type": "display_data"
    }
   ],
   "source": [
    "# Plotting the volume/head relation of Reservoir2, including the initial starting point\n",
    "\n",
    "from scipy.interpolate import interp1d\n",
    "\n",
    "vol_height=shop.model.reservoir.Reservoir2.vol_head.get()\n",
    "start_height=shop.model.reservoir.Reservoir2.start_head.get()\n",
    "\n",
    "interplation_function = interp1d(vol_height.values, vol_height.index)\n",
    "start_volume=float(interplation_function(start_height))\n",
    "\n",
    "fig = go.Figure()\n",
    "colorscale = px.colors.sequential.PuBu_r\n",
    "fig.add_trace(go.Scatter(x=vol_height.index, y=vol_height.values, name=\"Reservoir volume and height\", marker_color=colorscale[4]))\n",
    "fig.add_trace(go.Scatter(x=[start_volume], y=[start_height], name=\"Start point\",marker_color=colorscale[2], mode='markers', marker=dict(color='rgba(0,0,0, 0.0)', size=3, line=dict(color=colorscale[2], width=4))))\n",
    "fig.update_layout(title=\"<b>Reservoir volume and height in Reservoir2 </b>\", xaxis_title=\"<b>Volume</b> (Mm<sup>3</sup>)\", yaxis_title=\"<b>Height</b> (meter)\")\n",
    "\n",
    "fig.show()"
   ]
  },
  {
   "cell_type": "markdown",
   "metadata": {
    "Collapsed": "false"
   },
   "source": [
    "### Plants"
   ]
  },
  {
   "cell_type": "markdown",
   "metadata": {
    "Collapsed": "false"
   },
   "source": [
    "The next objects to add to our model are the plant objects. We instance them the same way as we instanced the reservoir objects."
   ]
  },
  {
   "cell_type": "code",
   "execution_count": 17,
   "metadata": {
    "Collapsed": "false"
   },
   "outputs": [],
   "source": [
    "# Add a plant objects to the model and instancing them\n",
    "plant1 = shop.model.plant.add_object('Plant1')\n",
    "plant2 = shop.model.plant.add_object('Plant2')\n",
    "# Alternatively, only the right hand side can be executed, however it is often nice to refer to instances later on"
   ]
  },
  {
   "cell_type": "markdown",
   "metadata": {
    "Collapsed": "false"
   },
   "source": [
    "Next we verify that our objects are correctly added to the shop instance."
   ]
  },
  {
   "cell_type": "code",
   "execution_count": 18,
   "metadata": {
    "Collapsed": "false"
   },
   "outputs": [
    {
     "data": {
      "text/plain": [
       "['Plant1', 'Plant2']"
      ]
     },
     "execution_count": 18,
     "metadata": {},
     "output_type": "execute_result"
    }
   ],
   "source": [
    "shop.model.plant.get_object_names()"
   ]
  },
  {
   "cell_type": "markdown",
   "metadata": {
    "Collapsed": "false"
   },
   "source": [
    "The plant objects need attributes as well."
   ]
  },
  {
   "cell_type": "code",
   "execution_count": 19,
   "metadata": {
    "Collapsed": "false"
   },
   "outputs": [],
   "source": [
    "# Setting the outlet line / tailrace height in masl\n",
    "plant1.outlet_line.set(672)\n",
    "plant2.outlet_line.set(586)\n",
    "\n",
    "# Setting the main loss in the plant\n",
    "plant1.main_loss.set([0])\n",
    "plant2.main_loss.set([0])\n",
    "\n",
    "# Setting the penstock loss in the plant. The number of penstocks are populated equal to the number of losses defined.\n",
    "plant1.penstock_loss.set([0.001])\n",
    "plant2.penstock_loss.set([0.0001,0.0002])"
   ]
  },
  {
   "cell_type": "markdown",
   "metadata": {
    "Collapsed": "false"
   },
   "source": [
    "### Generators"
   ]
  },
  {
   "cell_type": "markdown",
   "metadata": {
    "Collapsed": "false"
   },
   "source": [
    "A plant needs at least one generator. We add two generators to plant 1, and four generators to plant 2"
   ]
  },
  {
   "cell_type": "code",
   "execution_count": 20,
   "metadata": {
    "Collapsed": "false"
   },
   "outputs": [],
   "source": [
    "# Add a generator object to the model\n",
    "p1g1 = shop.model.generator.add_object('Plant1_Generator1')\n",
    "p1g2 = shop.model.generator.add_object('Plant1_Generator2')\n",
    "\n",
    "p2g1 = shop.model.generator.add_object('Plant2_Generator1')\n",
    "p2g2 = shop.model.generator.add_object('Plant2_Generator2')\n",
    "p2g3 = shop.model.generator.add_object('Plant2_Generator3')\n",
    "p2g4 = shop.model.generator.add_object('Plant2_Generator4')"
   ]
  },
  {
   "cell_type": "markdown",
   "metadata": {
    "Collapsed": "false"
   },
   "source": [
    "The connection between the generator and its plant must be set before defining the generator's parameters, whereas other connections in the model can be set after its objects and parameters have been set."
   ]
  },
  {
   "cell_type": "code",
   "execution_count": 21,
   "metadata": {
    "Collapsed": "false"
   },
   "outputs": [],
   "source": [
    "# Connecting the generator to the correct plant\n",
    "p1g1.connect_to(plant1)\n",
    "p1g2.connect_to(plant1)\n",
    "\n",
    "p2g1.connect_to(plant2)\n",
    "p2g2.connect_to(plant2)\n",
    "p2g3.connect_to(plant2)\n",
    "p2g4.connect_to(plant2)"
   ]
  },
  {
   "cell_type": "markdown",
   "metadata": {
    "Collapsed": "false"
   },
   "source": [
    "We control the generator objects in the model after adding and connecting them."
   ]
  },
  {
   "cell_type": "code",
   "execution_count": 22,
   "metadata": {
    "Collapsed": "false"
   },
   "outputs": [
    {
     "data": {
      "text/plain": [
       "['Plant1_Generator1',\n",
       " 'Plant1_Generator2',\n",
       " 'Plant2_Generator1',\n",
       " 'Plant2_Generator2',\n",
       " 'Plant2_Generator3',\n",
       " 'Plant2_Generator4']"
      ]
     },
     "execution_count": 22,
     "metadata": {},
     "output_type": "execute_result"
    }
   ],
   "source": [
    "shop.model.generator.get_object_names()"
   ]
  },
  {
   "cell_type": "markdown",
   "metadata": {
    "Collapsed": "false"
   },
   "source": [
    "Then we move on to the generator attributes. Certain generators are identical, so in order to preserve consistency, we make use of the .get()-function, so that if we change parameters on one of the duplicate generators, all of them will receive the change(s)."
   ]
  },
  {
   "cell_type": "code",
   "execution_count": 23,
   "metadata": {
    "Collapsed": "false"
   },
   "outputs": [],
   "source": [
    "# Setting the number of penstocks\n",
    "p1g1.penstock.set(1)\n",
    "p1g2.penstock.set(p1g1.penstock.get())\n",
    "\n",
    "p2g1.penstock.set(1)\n",
    "p2g2.penstock.set(2)\n",
    "p2g3.penstock.set(p2g2.penstock.get())\n",
    "p2g4.penstock.set(p2g2.penstock.get())\n",
    "\n",
    "# Setting the minimum production in MW\n",
    "p1g1.p_min.set(60)\n",
    "p1g2.p_min.set(p1g1.p_min.get())\n",
    "\n",
    "p2g1.p_min.set(100)\n",
    "p2g2.p_min.set(30)\n",
    "p2g3.p_min.set(p2g2.p_min.get())\n",
    "p2g4.p_min.set(p2g2.p_min.get())\n",
    "\n",
    "# Setting the maximum production in MW\n",
    "p1g1.p_max.set(120)\n",
    "p1g2.p_max.set(p1g1.p_max.get())\n",
    "\n",
    "p2g1.p_max.set(180)\n",
    "p2g2.p_max.set(55)\n",
    "p2g3.p_max.set(p2g2.p_max.get())\n",
    "p2g4.p_max.set(p2g2.p_max.get())\n",
    "\n",
    "# Setting the nominal production in MW\n",
    "p1g1.p_nom.set(120)\n",
    "p1g2.p_nom.set(p1g1.p_nom.get())\n",
    "\n",
    "p2g1.p_nom.set(180)\n",
    "p2g2.p_nom.set(55)\n",
    "p2g3.p_nom.set(p2g2.p_nom.get())\n",
    "p2g4.p_nom.set(p2g2.p_nom.get())\n",
    "\n",
    "# Setting the start cost in a monetary unit (i.e. $ or NOK, the model only compares costs to each other, so you just need to be sure all costs are in the same unit)\n",
    "p1g1.startcost.set(500)\n",
    "p1g2.startcost.set(p1g1.startcost.get())\n",
    "\n",
    "p2g1.startcost.set(600)\n",
    "p2g2.startcost.set(200)\n",
    "p2g3.startcost.set(p2g2.startcost.get())\n",
    "p2g4.startcost.set(p2g2.startcost.get())\n",
    "\n",
    "# Setting generator efficiency curves, which is the releation between the efficiency factor (%) and production (MW)\n",
    "p1g1.gen_eff_curve.set(pd.Series([100, 100], index=[60, 120]))\n",
    "p1g2.gen_eff_curve.set(p1g1.gen_eff_curve.get())\n",
    "\n",
    "p2g1.gen_eff_curve.set(pd.Series([100, 100], index=[100, 180]))\n",
    "p2g2.gen_eff_curve.set(pd.Series([100, 100], index=[30, 60]))\n",
    "p2g3.gen_eff_curve.set(p2g2.gen_eff_curve.get())\n",
    "p2g4.gen_eff_curve.set(p2g2.gen_eff_curve.get())\n",
    "\n",
    "# Setting  turbine efficiency curves, which is the relation between the efficiency factor (%) and release (m3/s) for different head levels (masl)\n",
    "p1g1.turb_eff_curves.set([pd.Series([85.8733, 87.0319, 88.0879, 89.0544, 89.9446, 90.7717, 91.5488, 92.2643, 92.8213, 93.1090, 93.2170, 93.0390, 92.6570, 92.1746],\n",
    "                                    index=[28.12, 30.45, 32.78, 35.11, 37.45, 39.78, 42.11, 44.44, 46.77, 49.10, 51.43, 53.76, 56.10, 58.83],\n",
    "                                    name=170),\n",
    "                          pd.Series([86.7321, 87.9022, 88.9688, 89.9450, 90.8441, 91.6794, 92.4643, 93.1870, 93.7495, 94.0401, 94.1492, 93.9694, 93.5836, 93.0964],\n",
    "                                    index=[28.12, 30.45, 32.78, 35.11, 37.45, 39.78, 42.11, 44.44, 46.77, 49.10, 51.43, 53.76, 56.10, 58.83],\n",
    "                                    name=200),\n",
    "                          pd.Series([87.5908, 88.7725, 89.8497, 90.8355, 91.7435, 92.5871, 93.3798, 94.1096, 94.6777, 94.9712, 95.0813, 94.8998, 94.5101, 94.0181],\n",
    "                                    index=[28.12, 30.45, 32.78, 35.11, 37.45, 39.78, 42.11, 44.44, 46.77, 49.10, 51.43, 53.76, 56.10, 58.83],\n",
    "                                    name=230)])\n",
    "p1g2.turb_eff_curves.set(p1g1.turb_eff_curves.get())\n",
    "\n",
    "p2g1.turb_eff_curves.set([pd.Series([92.7201, 93.2583, 93.7305, 94.1368, 94.4785, 94.7525, 94.9606, 95.1028, 95.1790, 95.1892, 95.1335, 95.0118, 94.8232, 94.5191],\n",
    "                                    index=[126.54, 137.03, 147.51, 158.00, 168.53, 179.01, 189.50, 199.98, 210.47, 220.95, 231.44, 241.92, 252.45, 264.74],\n",
    "                                    name=60)])\n",
    "\n",
    "p2g2.turb_eff_curves.set([pd.Series([83.8700, 85.1937, 86.3825, 87.4362, 88.3587, 89.1419, 89.7901, 90.3033, 90.6815, 90.9248, 91.0331, 91.0063, 90.8436, 90.4817],\n",
    "                                    index=[40.82, 44.20, 47.58, 50.97, 54.36, 57.75, 61.13, 64.51, 67.89, 71.27, 74.66, 78.04, 81.44, 85.40],\n",
    "                                    name=60)])\n",
    "p2g3.turb_eff_curves.set(p2g2.turb_eff_curves.get())\n",
    "p2g4.turb_eff_curves.set(p2g2.turb_eff_curves.get())"
   ]
  },
  {
   "cell_type": "markdown",
   "metadata": {
    "Collapsed": "false"
   },
   "source": [
    "Now we can plot some of the generator data, to ensure that we have the correct data."
   ]
  },
  {
   "cell_type": "code",
   "execution_count": 24,
   "metadata": {
    "Collapsed": "false"
   },
   "outputs": [
    {
     "data": {
      "application/vnd.plotly.v1+json": {
       "config": {
        "plotlyServerURL": "https://plot.ly"
       },
       "data": [
        {
         "line": {
          "width": 2
         },
         "marker": {
          "color": "rgb(33,102,172)"
         },
         "mode": "lines+markers",
         "name": "Net Head=170.0",
         "type": "scatter",
         "x": [
          28.12,
          30.45,
          32.78,
          35.11,
          37.45,
          39.78,
          42.11,
          44.44,
          46.77,
          49.1,
          51.43,
          53.76,
          56.1,
          58.83
         ],
         "y": [
          85.8733,
          87.0319,
          88.0879,
          89.0544,
          89.9446,
          90.7717,
          91.5488,
          92.2643,
          92.8213,
          93.109,
          93.217,
          93.039,
          92.657,
          92.1746
         ]
        },
        {
         "line": {
          "width": 2
         },
         "marker": {
          "color": "rgb(67,147,195)"
         },
         "mode": "lines+markers",
         "name": "Net Head=200.0",
         "type": "scatter",
         "x": [
          28.12,
          30.45,
          32.78,
          35.11,
          37.45,
          39.78,
          42.11,
          44.44,
          46.77,
          49.1,
          51.43,
          53.76,
          56.1,
          58.83
         ],
         "y": [
          86.7321,
          87.9022,
          88.9688,
          89.945,
          90.8441,
          91.6794,
          92.4643,
          93.187,
          93.7495,
          94.0401,
          94.1492,
          93.9694,
          93.5836,
          93.0964
         ]
        },
        {
         "line": {
          "width": 2
         },
         "marker": {
          "color": "rgb(146,197,222)"
         },
         "mode": "lines+markers",
         "name": "Net Head=230.0",
         "type": "scatter",
         "x": [
          28.12,
          30.45,
          32.78,
          35.11,
          37.45,
          39.78,
          42.11,
          44.44,
          46.77,
          49.1,
          51.43,
          53.76,
          56.1,
          58.83
         ],
         "y": [
          87.5908,
          88.7725,
          89.8497,
          90.8355,
          91.7435,
          92.5871,
          93.3798,
          94.1096,
          94.6777,
          94.9712,
          95.0813,
          94.8998,
          94.5101,
          94.0181
         ]
        }
       ],
       "layout": {
        "template": {
         "data": {
          "bar": [
           {
            "error_x": {
             "color": "#2a3f5f"
            },
            "error_y": {
             "color": "#2a3f5f"
            },
            "marker": {
             "line": {
              "color": "#E5ECF6",
              "width": 0.5
             },
             "pattern": {
              "fillmode": "overlay",
              "size": 10,
              "solidity": 0.2
             }
            },
            "type": "bar"
           }
          ],
          "barpolar": [
           {
            "marker": {
             "line": {
              "color": "#E5ECF6",
              "width": 0.5
             },
             "pattern": {
              "fillmode": "overlay",
              "size": 10,
              "solidity": 0.2
             }
            },
            "type": "barpolar"
           }
          ],
          "carpet": [
           {
            "aaxis": {
             "endlinecolor": "#2a3f5f",
             "gridcolor": "white",
             "linecolor": "white",
             "minorgridcolor": "white",
             "startlinecolor": "#2a3f5f"
            },
            "baxis": {
             "endlinecolor": "#2a3f5f",
             "gridcolor": "white",
             "linecolor": "white",
             "minorgridcolor": "white",
             "startlinecolor": "#2a3f5f"
            },
            "type": "carpet"
           }
          ],
          "choropleth": [
           {
            "colorbar": {
             "outlinewidth": 0,
             "ticks": ""
            },
            "type": "choropleth"
           }
          ],
          "contour": [
           {
            "colorbar": {
             "outlinewidth": 0,
             "ticks": ""
            },
            "colorscale": [
             [
              0,
              "#0d0887"
             ],
             [
              0.1111111111111111,
              "#46039f"
             ],
             [
              0.2222222222222222,
              "#7201a8"
             ],
             [
              0.3333333333333333,
              "#9c179e"
             ],
             [
              0.4444444444444444,
              "#bd3786"
             ],
             [
              0.5555555555555556,
              "#d8576b"
             ],
             [
              0.6666666666666666,
              "#ed7953"
             ],
             [
              0.7777777777777778,
              "#fb9f3a"
             ],
             [
              0.8888888888888888,
              "#fdca26"
             ],
             [
              1,
              "#f0f921"
             ]
            ],
            "type": "contour"
           }
          ],
          "contourcarpet": [
           {
            "colorbar": {
             "outlinewidth": 0,
             "ticks": ""
            },
            "type": "contourcarpet"
           }
          ],
          "heatmap": [
           {
            "colorbar": {
             "outlinewidth": 0,
             "ticks": ""
            },
            "colorscale": [
             [
              0,
              "#0d0887"
             ],
             [
              0.1111111111111111,
              "#46039f"
             ],
             [
              0.2222222222222222,
              "#7201a8"
             ],
             [
              0.3333333333333333,
              "#9c179e"
             ],
             [
              0.4444444444444444,
              "#bd3786"
             ],
             [
              0.5555555555555556,
              "#d8576b"
             ],
             [
              0.6666666666666666,
              "#ed7953"
             ],
             [
              0.7777777777777778,
              "#fb9f3a"
             ],
             [
              0.8888888888888888,
              "#fdca26"
             ],
             [
              1,
              "#f0f921"
             ]
            ],
            "type": "heatmap"
           }
          ],
          "heatmapgl": [
           {
            "colorbar": {
             "outlinewidth": 0,
             "ticks": ""
            },
            "colorscale": [
             [
              0,
              "#0d0887"
             ],
             [
              0.1111111111111111,
              "#46039f"
             ],
             [
              0.2222222222222222,
              "#7201a8"
             ],
             [
              0.3333333333333333,
              "#9c179e"
             ],
             [
              0.4444444444444444,
              "#bd3786"
             ],
             [
              0.5555555555555556,
              "#d8576b"
             ],
             [
              0.6666666666666666,
              "#ed7953"
             ],
             [
              0.7777777777777778,
              "#fb9f3a"
             ],
             [
              0.8888888888888888,
              "#fdca26"
             ],
             [
              1,
              "#f0f921"
             ]
            ],
            "type": "heatmapgl"
           }
          ],
          "histogram": [
           {
            "marker": {
             "pattern": {
              "fillmode": "overlay",
              "size": 10,
              "solidity": 0.2
             }
            },
            "type": "histogram"
           }
          ],
          "histogram2d": [
           {
            "colorbar": {
             "outlinewidth": 0,
             "ticks": ""
            },
            "colorscale": [
             [
              0,
              "#0d0887"
             ],
             [
              0.1111111111111111,
              "#46039f"
             ],
             [
              0.2222222222222222,
              "#7201a8"
             ],
             [
              0.3333333333333333,
              "#9c179e"
             ],
             [
              0.4444444444444444,
              "#bd3786"
             ],
             [
              0.5555555555555556,
              "#d8576b"
             ],
             [
              0.6666666666666666,
              "#ed7953"
             ],
             [
              0.7777777777777778,
              "#fb9f3a"
             ],
             [
              0.8888888888888888,
              "#fdca26"
             ],
             [
              1,
              "#f0f921"
             ]
            ],
            "type": "histogram2d"
           }
          ],
          "histogram2dcontour": [
           {
            "colorbar": {
             "outlinewidth": 0,
             "ticks": ""
            },
            "colorscale": [
             [
              0,
              "#0d0887"
             ],
             [
              0.1111111111111111,
              "#46039f"
             ],
             [
              0.2222222222222222,
              "#7201a8"
             ],
             [
              0.3333333333333333,
              "#9c179e"
             ],
             [
              0.4444444444444444,
              "#bd3786"
             ],
             [
              0.5555555555555556,
              "#d8576b"
             ],
             [
              0.6666666666666666,
              "#ed7953"
             ],
             [
              0.7777777777777778,
              "#fb9f3a"
             ],
             [
              0.8888888888888888,
              "#fdca26"
             ],
             [
              1,
              "#f0f921"
             ]
            ],
            "type": "histogram2dcontour"
           }
          ],
          "mesh3d": [
           {
            "colorbar": {
             "outlinewidth": 0,
             "ticks": ""
            },
            "type": "mesh3d"
           }
          ],
          "parcoords": [
           {
            "line": {
             "colorbar": {
              "outlinewidth": 0,
              "ticks": ""
             }
            },
            "type": "parcoords"
           }
          ],
          "pie": [
           {
            "automargin": true,
            "type": "pie"
           }
          ],
          "scatter": [
           {
            "marker": {
             "colorbar": {
              "outlinewidth": 0,
              "ticks": ""
             }
            },
            "type": "scatter"
           }
          ],
          "scatter3d": [
           {
            "line": {
             "colorbar": {
              "outlinewidth": 0,
              "ticks": ""
             }
            },
            "marker": {
             "colorbar": {
              "outlinewidth": 0,
              "ticks": ""
             }
            },
            "type": "scatter3d"
           }
          ],
          "scattercarpet": [
           {
            "marker": {
             "colorbar": {
              "outlinewidth": 0,
              "ticks": ""
             }
            },
            "type": "scattercarpet"
           }
          ],
          "scattergeo": [
           {
            "marker": {
             "colorbar": {
              "outlinewidth": 0,
              "ticks": ""
             }
            },
            "type": "scattergeo"
           }
          ],
          "scattergl": [
           {
            "marker": {
             "colorbar": {
              "outlinewidth": 0,
              "ticks": ""
             }
            },
            "type": "scattergl"
           }
          ],
          "scattermapbox": [
           {
            "marker": {
             "colorbar": {
              "outlinewidth": 0,
              "ticks": ""
             }
            },
            "type": "scattermapbox"
           }
          ],
          "scatterpolar": [
           {
            "marker": {
             "colorbar": {
              "outlinewidth": 0,
              "ticks": ""
             }
            },
            "type": "scatterpolar"
           }
          ],
          "scatterpolargl": [
           {
            "marker": {
             "colorbar": {
              "outlinewidth": 0,
              "ticks": ""
             }
            },
            "type": "scatterpolargl"
           }
          ],
          "scatterternary": [
           {
            "marker": {
             "colorbar": {
              "outlinewidth": 0,
              "ticks": ""
             }
            },
            "type": "scatterternary"
           }
          ],
          "surface": [
           {
            "colorbar": {
             "outlinewidth": 0,
             "ticks": ""
            },
            "colorscale": [
             [
              0,
              "#0d0887"
             ],
             [
              0.1111111111111111,
              "#46039f"
             ],
             [
              0.2222222222222222,
              "#7201a8"
             ],
             [
              0.3333333333333333,
              "#9c179e"
             ],
             [
              0.4444444444444444,
              "#bd3786"
             ],
             [
              0.5555555555555556,
              "#d8576b"
             ],
             [
              0.6666666666666666,
              "#ed7953"
             ],
             [
              0.7777777777777778,
              "#fb9f3a"
             ],
             [
              0.8888888888888888,
              "#fdca26"
             ],
             [
              1,
              "#f0f921"
             ]
            ],
            "type": "surface"
           }
          ],
          "table": [
           {
            "cells": {
             "fill": {
              "color": "#EBF0F8"
             },
             "line": {
              "color": "white"
             }
            },
            "header": {
             "fill": {
              "color": "#C8D4E3"
             },
             "line": {
              "color": "white"
             }
            },
            "type": "table"
           }
          ]
         },
         "layout": {
          "annotationdefaults": {
           "arrowcolor": "#2a3f5f",
           "arrowhead": 0,
           "arrowwidth": 1
          },
          "autotypenumbers": "strict",
          "coloraxis": {
           "colorbar": {
            "outlinewidth": 0,
            "ticks": ""
           }
          },
          "colorscale": {
           "diverging": [
            [
             0,
             "#8e0152"
            ],
            [
             0.1,
             "#c51b7d"
            ],
            [
             0.2,
             "#de77ae"
            ],
            [
             0.3,
             "#f1b6da"
            ],
            [
             0.4,
             "#fde0ef"
            ],
            [
             0.5,
             "#f7f7f7"
            ],
            [
             0.6,
             "#e6f5d0"
            ],
            [
             0.7,
             "#b8e186"
            ],
            [
             0.8,
             "#7fbc41"
            ],
            [
             0.9,
             "#4d9221"
            ],
            [
             1,
             "#276419"
            ]
           ],
           "sequential": [
            [
             0,
             "#0d0887"
            ],
            [
             0.1111111111111111,
             "#46039f"
            ],
            [
             0.2222222222222222,
             "#7201a8"
            ],
            [
             0.3333333333333333,
             "#9c179e"
            ],
            [
             0.4444444444444444,
             "#bd3786"
            ],
            [
             0.5555555555555556,
             "#d8576b"
            ],
            [
             0.6666666666666666,
             "#ed7953"
            ],
            [
             0.7777777777777778,
             "#fb9f3a"
            ],
            [
             0.8888888888888888,
             "#fdca26"
            ],
            [
             1,
             "#f0f921"
            ]
           ],
           "sequentialminus": [
            [
             0,
             "#0d0887"
            ],
            [
             0.1111111111111111,
             "#46039f"
            ],
            [
             0.2222222222222222,
             "#7201a8"
            ],
            [
             0.3333333333333333,
             "#9c179e"
            ],
            [
             0.4444444444444444,
             "#bd3786"
            ],
            [
             0.5555555555555556,
             "#d8576b"
            ],
            [
             0.6666666666666666,
             "#ed7953"
            ],
            [
             0.7777777777777778,
             "#fb9f3a"
            ],
            [
             0.8888888888888888,
             "#fdca26"
            ],
            [
             1,
             "#f0f921"
            ]
           ]
          },
          "colorway": [
           "#636efa",
           "#EF553B",
           "#00cc96",
           "#ab63fa",
           "#FFA15A",
           "#19d3f3",
           "#FF6692",
           "#B6E880",
           "#FF97FF",
           "#FECB52"
          ],
          "font": {
           "color": "#2a3f5f"
          },
          "geo": {
           "bgcolor": "white",
           "lakecolor": "white",
           "landcolor": "#E5ECF6",
           "showlakes": true,
           "showland": true,
           "subunitcolor": "white"
          },
          "hoverlabel": {
           "align": "left"
          },
          "hovermode": "closest",
          "mapbox": {
           "style": "light"
          },
          "paper_bgcolor": "white",
          "plot_bgcolor": "#E5ECF6",
          "polar": {
           "angularaxis": {
            "gridcolor": "white",
            "linecolor": "white",
            "ticks": ""
           },
           "bgcolor": "#E5ECF6",
           "radialaxis": {
            "gridcolor": "white",
            "linecolor": "white",
            "ticks": ""
           }
          },
          "scene": {
           "xaxis": {
            "backgroundcolor": "#E5ECF6",
            "gridcolor": "white",
            "gridwidth": 2,
            "linecolor": "white",
            "showbackground": true,
            "ticks": "",
            "zerolinecolor": "white"
           },
           "yaxis": {
            "backgroundcolor": "#E5ECF6",
            "gridcolor": "white",
            "gridwidth": 2,
            "linecolor": "white",
            "showbackground": true,
            "ticks": "",
            "zerolinecolor": "white"
           },
           "zaxis": {
            "backgroundcolor": "#E5ECF6",
            "gridcolor": "white",
            "gridwidth": 2,
            "linecolor": "white",
            "showbackground": true,
            "ticks": "",
            "zerolinecolor": "white"
           }
          },
          "shapedefaults": {
           "line": {
            "color": "#2a3f5f"
           }
          },
          "ternary": {
           "aaxis": {
            "gridcolor": "white",
            "linecolor": "white",
            "ticks": ""
           },
           "baxis": {
            "gridcolor": "white",
            "linecolor": "white",
            "ticks": ""
           },
           "bgcolor": "#E5ECF6",
           "caxis": {
            "gridcolor": "white",
            "linecolor": "white",
            "ticks": ""
           }
          },
          "title": {
           "x": 0.05
          },
          "xaxis": {
           "automargin": true,
           "gridcolor": "white",
           "linecolor": "white",
           "ticks": "",
           "title": {
            "standoff": 15
           },
           "zerolinecolor": "white",
           "zerolinewidth": 2
          },
          "yaxis": {
           "automargin": true,
           "gridcolor": "white",
           "linecolor": "white",
           "ticks": "",
           "title": {
            "standoff": 15
           },
           "zerolinecolor": "white",
           "zerolinewidth": 2
          }
         }
        },
        "title": {
         "text": "<b>Turbine efficiency curves of G1 in Plant1</b>"
        },
        "xaxis": {
         "title": {
          "text": "<b>Discharge</b> (m<sup>3</sup>/s)"
         }
        },
        "yaxis": {
         "title": {
          "text": "<b>Efficiency</b> (%)"
         }
        }
       }
      },
      "text/html": [
       "<div>                            <div id=\"1e1630d9-ad0e-4703-b369-ba243c37e7f1\" class=\"plotly-graph-div\" style=\"height:525px; width:100%;\"></div>            <script type=\"text/javascript\">                require([\"plotly\"], function(Plotly) {                    window.PLOTLYENV=window.PLOTLYENV || {};                                    if (document.getElementById(\"1e1630d9-ad0e-4703-b369-ba243c37e7f1\")) {                    Plotly.newPlot(                        \"1e1630d9-ad0e-4703-b369-ba243c37e7f1\",                        [{\"line\":{\"width\":2},\"marker\":{\"color\":\"rgb(33,102,172)\"},\"mode\":\"lines+markers\",\"name\":\"Net Head=170.0\",\"x\":[28.12,30.45,32.78,35.11,37.45,39.78,42.11,44.44,46.77,49.1,51.43,53.76,56.1,58.83],\"y\":[85.8733,87.0319,88.0879,89.0544,89.9446,90.7717,91.5488,92.2643,92.8213,93.109,93.217,93.039,92.657,92.1746],\"type\":\"scatter\"},{\"line\":{\"width\":2},\"marker\":{\"color\":\"rgb(67,147,195)\"},\"mode\":\"lines+markers\",\"name\":\"Net Head=200.0\",\"x\":[28.12,30.45,32.78,35.11,37.45,39.78,42.11,44.44,46.77,49.1,51.43,53.76,56.1,58.83],\"y\":[86.7321,87.9022,88.9688,89.945,90.8441,91.6794,92.4643,93.187,93.7495,94.0401,94.1492,93.9694,93.5836,93.0964],\"type\":\"scatter\"},{\"line\":{\"width\":2},\"marker\":{\"color\":\"rgb(146,197,222)\"},\"mode\":\"lines+markers\",\"name\":\"Net Head=230.0\",\"x\":[28.12,30.45,32.78,35.11,37.45,39.78,42.11,44.44,46.77,49.1,51.43,53.76,56.1,58.83],\"y\":[87.5908,88.7725,89.8497,90.8355,91.7435,92.5871,93.3798,94.1096,94.6777,94.9712,95.0813,94.8998,94.5101,94.0181],\"type\":\"scatter\"}],                        {\"template\":{\"data\":{\"bar\":[{\"error_x\":{\"color\":\"#2a3f5f\"},\"error_y\":{\"color\":\"#2a3f5f\"},\"marker\":{\"line\":{\"color\":\"#E5ECF6\",\"width\":0.5},\"pattern\":{\"fillmode\":\"overlay\",\"size\":10,\"solidity\":0.2}},\"type\":\"bar\"}],\"barpolar\":[{\"marker\":{\"line\":{\"color\":\"#E5ECF6\",\"width\":0.5},\"pattern\":{\"fillmode\":\"overlay\",\"size\":10,\"solidity\":0.2}},\"type\":\"barpolar\"}],\"carpet\":[{\"aaxis\":{\"endlinecolor\":\"#2a3f5f\",\"gridcolor\":\"white\",\"linecolor\":\"white\",\"minorgridcolor\":\"white\",\"startlinecolor\":\"#2a3f5f\"},\"baxis\":{\"endlinecolor\":\"#2a3f5f\",\"gridcolor\":\"white\",\"linecolor\":\"white\",\"minorgridcolor\":\"white\",\"startlinecolor\":\"#2a3f5f\"},\"type\":\"carpet\"}],\"choropleth\":[{\"colorbar\":{\"outlinewidth\":0,\"ticks\":\"\"},\"type\":\"choropleth\"}],\"contour\":[{\"colorbar\":{\"outlinewidth\":0,\"ticks\":\"\"},\"colorscale\":[[0.0,\"#0d0887\"],[0.1111111111111111,\"#46039f\"],[0.2222222222222222,\"#7201a8\"],[0.3333333333333333,\"#9c179e\"],[0.4444444444444444,\"#bd3786\"],[0.5555555555555556,\"#d8576b\"],[0.6666666666666666,\"#ed7953\"],[0.7777777777777778,\"#fb9f3a\"],[0.8888888888888888,\"#fdca26\"],[1.0,\"#f0f921\"]],\"type\":\"contour\"}],\"contourcarpet\":[{\"colorbar\":{\"outlinewidth\":0,\"ticks\":\"\"},\"type\":\"contourcarpet\"}],\"heatmap\":[{\"colorbar\":{\"outlinewidth\":0,\"ticks\":\"\"},\"colorscale\":[[0.0,\"#0d0887\"],[0.1111111111111111,\"#46039f\"],[0.2222222222222222,\"#7201a8\"],[0.3333333333333333,\"#9c179e\"],[0.4444444444444444,\"#bd3786\"],[0.5555555555555556,\"#d8576b\"],[0.6666666666666666,\"#ed7953\"],[0.7777777777777778,\"#fb9f3a\"],[0.8888888888888888,\"#fdca26\"],[1.0,\"#f0f921\"]],\"type\":\"heatmap\"}],\"heatmapgl\":[{\"colorbar\":{\"outlinewidth\":0,\"ticks\":\"\"},\"colorscale\":[[0.0,\"#0d0887\"],[0.1111111111111111,\"#46039f\"],[0.2222222222222222,\"#7201a8\"],[0.3333333333333333,\"#9c179e\"],[0.4444444444444444,\"#bd3786\"],[0.5555555555555556,\"#d8576b\"],[0.6666666666666666,\"#ed7953\"],[0.7777777777777778,\"#fb9f3a\"],[0.8888888888888888,\"#fdca26\"],[1.0,\"#f0f921\"]],\"type\":\"heatmapgl\"}],\"histogram\":[{\"marker\":{\"pattern\":{\"fillmode\":\"overlay\",\"size\":10,\"solidity\":0.2}},\"type\":\"histogram\"}],\"histogram2d\":[{\"colorbar\":{\"outlinewidth\":0,\"ticks\":\"\"},\"colorscale\":[[0.0,\"#0d0887\"],[0.1111111111111111,\"#46039f\"],[0.2222222222222222,\"#7201a8\"],[0.3333333333333333,\"#9c179e\"],[0.4444444444444444,\"#bd3786\"],[0.5555555555555556,\"#d8576b\"],[0.6666666666666666,\"#ed7953\"],[0.7777777777777778,\"#fb9f3a\"],[0.8888888888888888,\"#fdca26\"],[1.0,\"#f0f921\"]],\"type\":\"histogram2d\"}],\"histogram2dcontour\":[{\"colorbar\":{\"outlinewidth\":0,\"ticks\":\"\"},\"colorscale\":[[0.0,\"#0d0887\"],[0.1111111111111111,\"#46039f\"],[0.2222222222222222,\"#7201a8\"],[0.3333333333333333,\"#9c179e\"],[0.4444444444444444,\"#bd3786\"],[0.5555555555555556,\"#d8576b\"],[0.6666666666666666,\"#ed7953\"],[0.7777777777777778,\"#fb9f3a\"],[0.8888888888888888,\"#fdca26\"],[1.0,\"#f0f921\"]],\"type\":\"histogram2dcontour\"}],\"mesh3d\":[{\"colorbar\":{\"outlinewidth\":0,\"ticks\":\"\"},\"type\":\"mesh3d\"}],\"parcoords\":[{\"line\":{\"colorbar\":{\"outlinewidth\":0,\"ticks\":\"\"}},\"type\":\"parcoords\"}],\"pie\":[{\"automargin\":true,\"type\":\"pie\"}],\"scatter\":[{\"marker\":{\"colorbar\":{\"outlinewidth\":0,\"ticks\":\"\"}},\"type\":\"scatter\"}],\"scatter3d\":[{\"line\":{\"colorbar\":{\"outlinewidth\":0,\"ticks\":\"\"}},\"marker\":{\"colorbar\":{\"outlinewidth\":0,\"ticks\":\"\"}},\"type\":\"scatter3d\"}],\"scattercarpet\":[{\"marker\":{\"colorbar\":{\"outlinewidth\":0,\"ticks\":\"\"}},\"type\":\"scattercarpet\"}],\"scattergeo\":[{\"marker\":{\"colorbar\":{\"outlinewidth\":0,\"ticks\":\"\"}},\"type\":\"scattergeo\"}],\"scattergl\":[{\"marker\":{\"colorbar\":{\"outlinewidth\":0,\"ticks\":\"\"}},\"type\":\"scattergl\"}],\"scattermapbox\":[{\"marker\":{\"colorbar\":{\"outlinewidth\":0,\"ticks\":\"\"}},\"type\":\"scattermapbox\"}],\"scatterpolar\":[{\"marker\":{\"colorbar\":{\"outlinewidth\":0,\"ticks\":\"\"}},\"type\":\"scatterpolar\"}],\"scatterpolargl\":[{\"marker\":{\"colorbar\":{\"outlinewidth\":0,\"ticks\":\"\"}},\"type\":\"scatterpolargl\"}],\"scatterternary\":[{\"marker\":{\"colorbar\":{\"outlinewidth\":0,\"ticks\":\"\"}},\"type\":\"scatterternary\"}],\"surface\":[{\"colorbar\":{\"outlinewidth\":0,\"ticks\":\"\"},\"colorscale\":[[0.0,\"#0d0887\"],[0.1111111111111111,\"#46039f\"],[0.2222222222222222,\"#7201a8\"],[0.3333333333333333,\"#9c179e\"],[0.4444444444444444,\"#bd3786\"],[0.5555555555555556,\"#d8576b\"],[0.6666666666666666,\"#ed7953\"],[0.7777777777777778,\"#fb9f3a\"],[0.8888888888888888,\"#fdca26\"],[1.0,\"#f0f921\"]],\"type\":\"surface\"}],\"table\":[{\"cells\":{\"fill\":{\"color\":\"#EBF0F8\"},\"line\":{\"color\":\"white\"}},\"header\":{\"fill\":{\"color\":\"#C8D4E3\"},\"line\":{\"color\":\"white\"}},\"type\":\"table\"}]},\"layout\":{\"annotationdefaults\":{\"arrowcolor\":\"#2a3f5f\",\"arrowhead\":0,\"arrowwidth\":1},\"autotypenumbers\":\"strict\",\"coloraxis\":{\"colorbar\":{\"outlinewidth\":0,\"ticks\":\"\"}},\"colorscale\":{\"diverging\":[[0,\"#8e0152\"],[0.1,\"#c51b7d\"],[0.2,\"#de77ae\"],[0.3,\"#f1b6da\"],[0.4,\"#fde0ef\"],[0.5,\"#f7f7f7\"],[0.6,\"#e6f5d0\"],[0.7,\"#b8e186\"],[0.8,\"#7fbc41\"],[0.9,\"#4d9221\"],[1,\"#276419\"]],\"sequential\":[[0.0,\"#0d0887\"],[0.1111111111111111,\"#46039f\"],[0.2222222222222222,\"#7201a8\"],[0.3333333333333333,\"#9c179e\"],[0.4444444444444444,\"#bd3786\"],[0.5555555555555556,\"#d8576b\"],[0.6666666666666666,\"#ed7953\"],[0.7777777777777778,\"#fb9f3a\"],[0.8888888888888888,\"#fdca26\"],[1.0,\"#f0f921\"]],\"sequentialminus\":[[0.0,\"#0d0887\"],[0.1111111111111111,\"#46039f\"],[0.2222222222222222,\"#7201a8\"],[0.3333333333333333,\"#9c179e\"],[0.4444444444444444,\"#bd3786\"],[0.5555555555555556,\"#d8576b\"],[0.6666666666666666,\"#ed7953\"],[0.7777777777777778,\"#fb9f3a\"],[0.8888888888888888,\"#fdca26\"],[1.0,\"#f0f921\"]]},\"colorway\":[\"#636efa\",\"#EF553B\",\"#00cc96\",\"#ab63fa\",\"#FFA15A\",\"#19d3f3\",\"#FF6692\",\"#B6E880\",\"#FF97FF\",\"#FECB52\"],\"font\":{\"color\":\"#2a3f5f\"},\"geo\":{\"bgcolor\":\"white\",\"lakecolor\":\"white\",\"landcolor\":\"#E5ECF6\",\"showlakes\":true,\"showland\":true,\"subunitcolor\":\"white\"},\"hoverlabel\":{\"align\":\"left\"},\"hovermode\":\"closest\",\"mapbox\":{\"style\":\"light\"},\"paper_bgcolor\":\"white\",\"plot_bgcolor\":\"#E5ECF6\",\"polar\":{\"angularaxis\":{\"gridcolor\":\"white\",\"linecolor\":\"white\",\"ticks\":\"\"},\"bgcolor\":\"#E5ECF6\",\"radialaxis\":{\"gridcolor\":\"white\",\"linecolor\":\"white\",\"ticks\":\"\"}},\"scene\":{\"xaxis\":{\"backgroundcolor\":\"#E5ECF6\",\"gridcolor\":\"white\",\"gridwidth\":2,\"linecolor\":\"white\",\"showbackground\":true,\"ticks\":\"\",\"zerolinecolor\":\"white\"},\"yaxis\":{\"backgroundcolor\":\"#E5ECF6\",\"gridcolor\":\"white\",\"gridwidth\":2,\"linecolor\":\"white\",\"showbackground\":true,\"ticks\":\"\",\"zerolinecolor\":\"white\"},\"zaxis\":{\"backgroundcolor\":\"#E5ECF6\",\"gridcolor\":\"white\",\"gridwidth\":2,\"linecolor\":\"white\",\"showbackground\":true,\"ticks\":\"\",\"zerolinecolor\":\"white\"}},\"shapedefaults\":{\"line\":{\"color\":\"#2a3f5f\"}},\"ternary\":{\"aaxis\":{\"gridcolor\":\"white\",\"linecolor\":\"white\",\"ticks\":\"\"},\"baxis\":{\"gridcolor\":\"white\",\"linecolor\":\"white\",\"ticks\":\"\"},\"bgcolor\":\"#E5ECF6\",\"caxis\":{\"gridcolor\":\"white\",\"linecolor\":\"white\",\"ticks\":\"\"}},\"title\":{\"x\":0.05},\"xaxis\":{\"automargin\":true,\"gridcolor\":\"white\",\"linecolor\":\"white\",\"ticks\":\"\",\"title\":{\"standoff\":15},\"zerolinecolor\":\"white\",\"zerolinewidth\":2},\"yaxis\":{\"automargin\":true,\"gridcolor\":\"white\",\"linecolor\":\"white\",\"ticks\":\"\",\"title\":{\"standoff\":15},\"zerolinecolor\":\"white\",\"zerolinewidth\":2}}},\"title\":{\"text\":\"<b>Turbine efficiency curves of G1 in Plant1</b>\"},\"xaxis\":{\"title\":{\"text\":\"<b>Discharge</b> (m<sup>3</sup>/s)\"}},\"yaxis\":{\"title\":{\"text\":\"<b>Efficiency</b> (%)\"}}},                        {\"responsive\": true}                    ).then(function(){\n",
       "                            \n",
       "var gd = document.getElementById('1e1630d9-ad0e-4703-b369-ba243c37e7f1');\n",
       "var x = new MutationObserver(function (mutations, observer) {{\n",
       "        var display = window.getComputedStyle(gd).display;\n",
       "        if (!display || display === 'none') {{\n",
       "            console.log([gd, 'removed!']);\n",
       "            Plotly.purge(gd);\n",
       "            observer.disconnect();\n",
       "        }}\n",
       "}});\n",
       "\n",
       "// Listen for the removal of the full notebook cells\n",
       "var notebookContainer = gd.closest('#notebook-container');\n",
       "if (notebookContainer) {{\n",
       "    x.observe(notebookContainer, {childList: true});\n",
       "}}\n",
       "\n",
       "// Listen for the clearing of the current output cell\n",
       "var outputEl = gd.closest('.output');\n",
       "if (outputEl) {{\n",
       "    x.observe(outputEl, {childList: true});\n",
       "}}\n",
       "\n",
       "                        })                };                });            </script>        </div>"
      ]
     },
     "metadata": {},
     "output_type": "display_data"
    }
   ],
   "source": [
    "# Plotting the turbine efficiency curves of G1 (G2 is the same as G1) in Plant1 \n",
    "turb_eff_curves=shop.model.generator.Plant1_Generator1.turb_eff_curves.get()\n",
    "\n",
    "fig = go.Figure()\n",
    "colorscale = px.colors.sequential.RdBu_r\n",
    "color = 0\n",
    "for curve in turb_eff_curves:\n",
    "    color+=1\n",
    "    curve_name=\"Net Head=\"+str(curve.name)\n",
    "    fig.add_trace(go.Scatter(x=curve.index, y=curve.values, marker_color = colorscale[color], name=curve_name, mode=\"lines+markers\", line=dict(width=2)))\n",
    "\n",
    "fig.update_layout(title=\"<b>Turbine efficiency curves of G1 in Plant1</b>\", xaxis_title=\"<b>Discharge</b> (m<sup>3</sup>/s)\", yaxis_title=\"<b>Efficiency</b> (%)\")\n",
    "\n",
    "fig.show()"
   ]
  },
  {
   "cell_type": "code",
   "execution_count": 25,
   "metadata": {
    "Collapsed": "false"
   },
   "outputs": [
    {
     "data": {
      "application/vnd.plotly.v1+json": {
       "config": {
        "plotlyServerURL": "https://plot.ly"
       },
       "data": [
        {
         "line": {
          "width": 2
         },
         "marker": {
          "color": "rgb(209,229,240)"
         },
         "mode": "lines+markers",
         "name": "G1 Net Head=60.0",
         "type": "scatter",
         "x": [
          126.54,
          137.03,
          147.51,
          158,
          168.53,
          179.01,
          189.5,
          199.98,
          210.47,
          220.95,
          231.44,
          241.92,
          252.45,
          264.74
         ],
         "y": [
          92.7201,
          93.2583,
          93.7305,
          94.1368,
          94.4785,
          94.7525,
          94.9606,
          95.1028,
          95.179,
          95.1892,
          95.1335,
          95.0118,
          94.8232,
          94.5191
         ]
        },
        {
         "line": {
          "width": 2
         },
         "marker": {
          "color": "rgb(247,247,247)"
         },
         "mode": "lines+markers",
         "name": "G2 Net Head=60.0",
         "type": "scatter",
         "x": [
          40.82,
          44.2,
          47.58,
          50.97,
          54.36,
          57.75,
          61.13,
          64.51,
          67.89,
          71.27,
          74.66,
          78.04,
          81.44,
          85.4
         ],
         "y": [
          83.87,
          85.1937,
          86.3825,
          87.4362,
          88.3587,
          89.1419,
          89.7901,
          90.3033,
          90.6815,
          90.9248,
          91.0331,
          91.0063,
          90.8436,
          90.4817
         ]
        }
       ],
       "layout": {
        "template": {
         "data": {
          "bar": [
           {
            "error_x": {
             "color": "#2a3f5f"
            },
            "error_y": {
             "color": "#2a3f5f"
            },
            "marker": {
             "line": {
              "color": "#E5ECF6",
              "width": 0.5
             },
             "pattern": {
              "fillmode": "overlay",
              "size": 10,
              "solidity": 0.2
             }
            },
            "type": "bar"
           }
          ],
          "barpolar": [
           {
            "marker": {
             "line": {
              "color": "#E5ECF6",
              "width": 0.5
             },
             "pattern": {
              "fillmode": "overlay",
              "size": 10,
              "solidity": 0.2
             }
            },
            "type": "barpolar"
           }
          ],
          "carpet": [
           {
            "aaxis": {
             "endlinecolor": "#2a3f5f",
             "gridcolor": "white",
             "linecolor": "white",
             "minorgridcolor": "white",
             "startlinecolor": "#2a3f5f"
            },
            "baxis": {
             "endlinecolor": "#2a3f5f",
             "gridcolor": "white",
             "linecolor": "white",
             "minorgridcolor": "white",
             "startlinecolor": "#2a3f5f"
            },
            "type": "carpet"
           }
          ],
          "choropleth": [
           {
            "colorbar": {
             "outlinewidth": 0,
             "ticks": ""
            },
            "type": "choropleth"
           }
          ],
          "contour": [
           {
            "colorbar": {
             "outlinewidth": 0,
             "ticks": ""
            },
            "colorscale": [
             [
              0,
              "#0d0887"
             ],
             [
              0.1111111111111111,
              "#46039f"
             ],
             [
              0.2222222222222222,
              "#7201a8"
             ],
             [
              0.3333333333333333,
              "#9c179e"
             ],
             [
              0.4444444444444444,
              "#bd3786"
             ],
             [
              0.5555555555555556,
              "#d8576b"
             ],
             [
              0.6666666666666666,
              "#ed7953"
             ],
             [
              0.7777777777777778,
              "#fb9f3a"
             ],
             [
              0.8888888888888888,
              "#fdca26"
             ],
             [
              1,
              "#f0f921"
             ]
            ],
            "type": "contour"
           }
          ],
          "contourcarpet": [
           {
            "colorbar": {
             "outlinewidth": 0,
             "ticks": ""
            },
            "type": "contourcarpet"
           }
          ],
          "heatmap": [
           {
            "colorbar": {
             "outlinewidth": 0,
             "ticks": ""
            },
            "colorscale": [
             [
              0,
              "#0d0887"
             ],
             [
              0.1111111111111111,
              "#46039f"
             ],
             [
              0.2222222222222222,
              "#7201a8"
             ],
             [
              0.3333333333333333,
              "#9c179e"
             ],
             [
              0.4444444444444444,
              "#bd3786"
             ],
             [
              0.5555555555555556,
              "#d8576b"
             ],
             [
              0.6666666666666666,
              "#ed7953"
             ],
             [
              0.7777777777777778,
              "#fb9f3a"
             ],
             [
              0.8888888888888888,
              "#fdca26"
             ],
             [
              1,
              "#f0f921"
             ]
            ],
            "type": "heatmap"
           }
          ],
          "heatmapgl": [
           {
            "colorbar": {
             "outlinewidth": 0,
             "ticks": ""
            },
            "colorscale": [
             [
              0,
              "#0d0887"
             ],
             [
              0.1111111111111111,
              "#46039f"
             ],
             [
              0.2222222222222222,
              "#7201a8"
             ],
             [
              0.3333333333333333,
              "#9c179e"
             ],
             [
              0.4444444444444444,
              "#bd3786"
             ],
             [
              0.5555555555555556,
              "#d8576b"
             ],
             [
              0.6666666666666666,
              "#ed7953"
             ],
             [
              0.7777777777777778,
              "#fb9f3a"
             ],
             [
              0.8888888888888888,
              "#fdca26"
             ],
             [
              1,
              "#f0f921"
             ]
            ],
            "type": "heatmapgl"
           }
          ],
          "histogram": [
           {
            "marker": {
             "pattern": {
              "fillmode": "overlay",
              "size": 10,
              "solidity": 0.2
             }
            },
            "type": "histogram"
           }
          ],
          "histogram2d": [
           {
            "colorbar": {
             "outlinewidth": 0,
             "ticks": ""
            },
            "colorscale": [
             [
              0,
              "#0d0887"
             ],
             [
              0.1111111111111111,
              "#46039f"
             ],
             [
              0.2222222222222222,
              "#7201a8"
             ],
             [
              0.3333333333333333,
              "#9c179e"
             ],
             [
              0.4444444444444444,
              "#bd3786"
             ],
             [
              0.5555555555555556,
              "#d8576b"
             ],
             [
              0.6666666666666666,
              "#ed7953"
             ],
             [
              0.7777777777777778,
              "#fb9f3a"
             ],
             [
              0.8888888888888888,
              "#fdca26"
             ],
             [
              1,
              "#f0f921"
             ]
            ],
            "type": "histogram2d"
           }
          ],
          "histogram2dcontour": [
           {
            "colorbar": {
             "outlinewidth": 0,
             "ticks": ""
            },
            "colorscale": [
             [
              0,
              "#0d0887"
             ],
             [
              0.1111111111111111,
              "#46039f"
             ],
             [
              0.2222222222222222,
              "#7201a8"
             ],
             [
              0.3333333333333333,
              "#9c179e"
             ],
             [
              0.4444444444444444,
              "#bd3786"
             ],
             [
              0.5555555555555556,
              "#d8576b"
             ],
             [
              0.6666666666666666,
              "#ed7953"
             ],
             [
              0.7777777777777778,
              "#fb9f3a"
             ],
             [
              0.8888888888888888,
              "#fdca26"
             ],
             [
              1,
              "#f0f921"
             ]
            ],
            "type": "histogram2dcontour"
           }
          ],
          "mesh3d": [
           {
            "colorbar": {
             "outlinewidth": 0,
             "ticks": ""
            },
            "type": "mesh3d"
           }
          ],
          "parcoords": [
           {
            "line": {
             "colorbar": {
              "outlinewidth": 0,
              "ticks": ""
             }
            },
            "type": "parcoords"
           }
          ],
          "pie": [
           {
            "automargin": true,
            "type": "pie"
           }
          ],
          "scatter": [
           {
            "marker": {
             "colorbar": {
              "outlinewidth": 0,
              "ticks": ""
             }
            },
            "type": "scatter"
           }
          ],
          "scatter3d": [
           {
            "line": {
             "colorbar": {
              "outlinewidth": 0,
              "ticks": ""
             }
            },
            "marker": {
             "colorbar": {
              "outlinewidth": 0,
              "ticks": ""
             }
            },
            "type": "scatter3d"
           }
          ],
          "scattercarpet": [
           {
            "marker": {
             "colorbar": {
              "outlinewidth": 0,
              "ticks": ""
             }
            },
            "type": "scattercarpet"
           }
          ],
          "scattergeo": [
           {
            "marker": {
             "colorbar": {
              "outlinewidth": 0,
              "ticks": ""
             }
            },
            "type": "scattergeo"
           }
          ],
          "scattergl": [
           {
            "marker": {
             "colorbar": {
              "outlinewidth": 0,
              "ticks": ""
             }
            },
            "type": "scattergl"
           }
          ],
          "scattermapbox": [
           {
            "marker": {
             "colorbar": {
              "outlinewidth": 0,
              "ticks": ""
             }
            },
            "type": "scattermapbox"
           }
          ],
          "scatterpolar": [
           {
            "marker": {
             "colorbar": {
              "outlinewidth": 0,
              "ticks": ""
             }
            },
            "type": "scatterpolar"
           }
          ],
          "scatterpolargl": [
           {
            "marker": {
             "colorbar": {
              "outlinewidth": 0,
              "ticks": ""
             }
            },
            "type": "scatterpolargl"
           }
          ],
          "scatterternary": [
           {
            "marker": {
             "colorbar": {
              "outlinewidth": 0,
              "ticks": ""
             }
            },
            "type": "scatterternary"
           }
          ],
          "surface": [
           {
            "colorbar": {
             "outlinewidth": 0,
             "ticks": ""
            },
            "colorscale": [
             [
              0,
              "#0d0887"
             ],
             [
              0.1111111111111111,
              "#46039f"
             ],
             [
              0.2222222222222222,
              "#7201a8"
             ],
             [
              0.3333333333333333,
              "#9c179e"
             ],
             [
              0.4444444444444444,
              "#bd3786"
             ],
             [
              0.5555555555555556,
              "#d8576b"
             ],
             [
              0.6666666666666666,
              "#ed7953"
             ],
             [
              0.7777777777777778,
              "#fb9f3a"
             ],
             [
              0.8888888888888888,
              "#fdca26"
             ],
             [
              1,
              "#f0f921"
             ]
            ],
            "type": "surface"
           }
          ],
          "table": [
           {
            "cells": {
             "fill": {
              "color": "#EBF0F8"
             },
             "line": {
              "color": "white"
             }
            },
            "header": {
             "fill": {
              "color": "#C8D4E3"
             },
             "line": {
              "color": "white"
             }
            },
            "type": "table"
           }
          ]
         },
         "layout": {
          "annotationdefaults": {
           "arrowcolor": "#2a3f5f",
           "arrowhead": 0,
           "arrowwidth": 1
          },
          "autotypenumbers": "strict",
          "coloraxis": {
           "colorbar": {
            "outlinewidth": 0,
            "ticks": ""
           }
          },
          "colorscale": {
           "diverging": [
            [
             0,
             "#8e0152"
            ],
            [
             0.1,
             "#c51b7d"
            ],
            [
             0.2,
             "#de77ae"
            ],
            [
             0.3,
             "#f1b6da"
            ],
            [
             0.4,
             "#fde0ef"
            ],
            [
             0.5,
             "#f7f7f7"
            ],
            [
             0.6,
             "#e6f5d0"
            ],
            [
             0.7,
             "#b8e186"
            ],
            [
             0.8,
             "#7fbc41"
            ],
            [
             0.9,
             "#4d9221"
            ],
            [
             1,
             "#276419"
            ]
           ],
           "sequential": [
            [
             0,
             "#0d0887"
            ],
            [
             0.1111111111111111,
             "#46039f"
            ],
            [
             0.2222222222222222,
             "#7201a8"
            ],
            [
             0.3333333333333333,
             "#9c179e"
            ],
            [
             0.4444444444444444,
             "#bd3786"
            ],
            [
             0.5555555555555556,
             "#d8576b"
            ],
            [
             0.6666666666666666,
             "#ed7953"
            ],
            [
             0.7777777777777778,
             "#fb9f3a"
            ],
            [
             0.8888888888888888,
             "#fdca26"
            ],
            [
             1,
             "#f0f921"
            ]
           ],
           "sequentialminus": [
            [
             0,
             "#0d0887"
            ],
            [
             0.1111111111111111,
             "#46039f"
            ],
            [
             0.2222222222222222,
             "#7201a8"
            ],
            [
             0.3333333333333333,
             "#9c179e"
            ],
            [
             0.4444444444444444,
             "#bd3786"
            ],
            [
             0.5555555555555556,
             "#d8576b"
            ],
            [
             0.6666666666666666,
             "#ed7953"
            ],
            [
             0.7777777777777778,
             "#fb9f3a"
            ],
            [
             0.8888888888888888,
             "#fdca26"
            ],
            [
             1,
             "#f0f921"
            ]
           ]
          },
          "colorway": [
           "#636efa",
           "#EF553B",
           "#00cc96",
           "#ab63fa",
           "#FFA15A",
           "#19d3f3",
           "#FF6692",
           "#B6E880",
           "#FF97FF",
           "#FECB52"
          ],
          "font": {
           "color": "#2a3f5f"
          },
          "geo": {
           "bgcolor": "white",
           "lakecolor": "white",
           "landcolor": "#E5ECF6",
           "showlakes": true,
           "showland": true,
           "subunitcolor": "white"
          },
          "hoverlabel": {
           "align": "left"
          },
          "hovermode": "closest",
          "mapbox": {
           "style": "light"
          },
          "paper_bgcolor": "white",
          "plot_bgcolor": "#E5ECF6",
          "polar": {
           "angularaxis": {
            "gridcolor": "white",
            "linecolor": "white",
            "ticks": ""
           },
           "bgcolor": "#E5ECF6",
           "radialaxis": {
            "gridcolor": "white",
            "linecolor": "white",
            "ticks": ""
           }
          },
          "scene": {
           "xaxis": {
            "backgroundcolor": "#E5ECF6",
            "gridcolor": "white",
            "gridwidth": 2,
            "linecolor": "white",
            "showbackground": true,
            "ticks": "",
            "zerolinecolor": "white"
           },
           "yaxis": {
            "backgroundcolor": "#E5ECF6",
            "gridcolor": "white",
            "gridwidth": 2,
            "linecolor": "white",
            "showbackground": true,
            "ticks": "",
            "zerolinecolor": "white"
           },
           "zaxis": {
            "backgroundcolor": "#E5ECF6",
            "gridcolor": "white",
            "gridwidth": 2,
            "linecolor": "white",
            "showbackground": true,
            "ticks": "",
            "zerolinecolor": "white"
           }
          },
          "shapedefaults": {
           "line": {
            "color": "#2a3f5f"
           }
          },
          "ternary": {
           "aaxis": {
            "gridcolor": "white",
            "linecolor": "white",
            "ticks": ""
           },
           "baxis": {
            "gridcolor": "white",
            "linecolor": "white",
            "ticks": ""
           },
           "bgcolor": "#E5ECF6",
           "caxis": {
            "gridcolor": "white",
            "linecolor": "white",
            "ticks": ""
           }
          },
          "title": {
           "x": 0.05
          },
          "xaxis": {
           "automargin": true,
           "gridcolor": "white",
           "linecolor": "white",
           "ticks": "",
           "title": {
            "standoff": 15
           },
           "zerolinecolor": "white",
           "zerolinewidth": 2
          },
          "yaxis": {
           "automargin": true,
           "gridcolor": "white",
           "linecolor": "white",
           "ticks": "",
           "title": {
            "standoff": 15
           },
           "zerolinecolor": "white",
           "zerolinewidth": 2
          }
         }
        },
        "title": {
         "text": "<b>Turbine efficiency curves of G1 and G2 in Plant2</b>"
        },
        "xaxis": {
         "title": {
          "text": "<b>Discharge</b> (m<sup>3</sup>/s)"
         }
        },
        "yaxis": {
         "title": {
          "text": "<b>Efficiency</b> (%)"
         }
        }
       }
      },
      "text/html": [
       "<div>                            <div id=\"1d3a7c31-de7f-4234-9146-13b2c41055d6\" class=\"plotly-graph-div\" style=\"height:525px; width:100%;\"></div>            <script type=\"text/javascript\">                require([\"plotly\"], function(Plotly) {                    window.PLOTLYENV=window.PLOTLYENV || {};                                    if (document.getElementById(\"1d3a7c31-de7f-4234-9146-13b2c41055d6\")) {                    Plotly.newPlot(                        \"1d3a7c31-de7f-4234-9146-13b2c41055d6\",                        [{\"line\":{\"width\":2},\"marker\":{\"color\":\"rgb(209,229,240)\"},\"mode\":\"lines+markers\",\"name\":\"G1 Net Head=60.0\",\"x\":[126.54,137.03,147.51,158.0,168.53,179.01,189.5,199.98,210.47,220.95,231.44,241.92,252.45,264.74],\"y\":[92.7201,93.2583,93.7305,94.1368,94.4785,94.7525,94.9606,95.1028,95.179,95.1892,95.1335,95.0118,94.8232,94.5191],\"type\":\"scatter\"},{\"line\":{\"width\":2},\"marker\":{\"color\":\"rgb(247,247,247)\"},\"mode\":\"lines+markers\",\"name\":\"G2 Net Head=60.0\",\"x\":[40.82,44.2,47.58,50.97,54.36,57.75,61.13,64.51,67.89,71.27,74.66,78.04,81.44,85.4],\"y\":[83.87,85.1937,86.3825,87.4362,88.3587,89.1419,89.7901,90.3033,90.6815,90.9248,91.0331,91.0063,90.8436,90.4817],\"type\":\"scatter\"}],                        {\"template\":{\"data\":{\"bar\":[{\"error_x\":{\"color\":\"#2a3f5f\"},\"error_y\":{\"color\":\"#2a3f5f\"},\"marker\":{\"line\":{\"color\":\"#E5ECF6\",\"width\":0.5},\"pattern\":{\"fillmode\":\"overlay\",\"size\":10,\"solidity\":0.2}},\"type\":\"bar\"}],\"barpolar\":[{\"marker\":{\"line\":{\"color\":\"#E5ECF6\",\"width\":0.5},\"pattern\":{\"fillmode\":\"overlay\",\"size\":10,\"solidity\":0.2}},\"type\":\"barpolar\"}],\"carpet\":[{\"aaxis\":{\"endlinecolor\":\"#2a3f5f\",\"gridcolor\":\"white\",\"linecolor\":\"white\",\"minorgridcolor\":\"white\",\"startlinecolor\":\"#2a3f5f\"},\"baxis\":{\"endlinecolor\":\"#2a3f5f\",\"gridcolor\":\"white\",\"linecolor\":\"white\",\"minorgridcolor\":\"white\",\"startlinecolor\":\"#2a3f5f\"},\"type\":\"carpet\"}],\"choropleth\":[{\"colorbar\":{\"outlinewidth\":0,\"ticks\":\"\"},\"type\":\"choropleth\"}],\"contour\":[{\"colorbar\":{\"outlinewidth\":0,\"ticks\":\"\"},\"colorscale\":[[0.0,\"#0d0887\"],[0.1111111111111111,\"#46039f\"],[0.2222222222222222,\"#7201a8\"],[0.3333333333333333,\"#9c179e\"],[0.4444444444444444,\"#bd3786\"],[0.5555555555555556,\"#d8576b\"],[0.6666666666666666,\"#ed7953\"],[0.7777777777777778,\"#fb9f3a\"],[0.8888888888888888,\"#fdca26\"],[1.0,\"#f0f921\"]],\"type\":\"contour\"}],\"contourcarpet\":[{\"colorbar\":{\"outlinewidth\":0,\"ticks\":\"\"},\"type\":\"contourcarpet\"}],\"heatmap\":[{\"colorbar\":{\"outlinewidth\":0,\"ticks\":\"\"},\"colorscale\":[[0.0,\"#0d0887\"],[0.1111111111111111,\"#46039f\"],[0.2222222222222222,\"#7201a8\"],[0.3333333333333333,\"#9c179e\"],[0.4444444444444444,\"#bd3786\"],[0.5555555555555556,\"#d8576b\"],[0.6666666666666666,\"#ed7953\"],[0.7777777777777778,\"#fb9f3a\"],[0.8888888888888888,\"#fdca26\"],[1.0,\"#f0f921\"]],\"type\":\"heatmap\"}],\"heatmapgl\":[{\"colorbar\":{\"outlinewidth\":0,\"ticks\":\"\"},\"colorscale\":[[0.0,\"#0d0887\"],[0.1111111111111111,\"#46039f\"],[0.2222222222222222,\"#7201a8\"],[0.3333333333333333,\"#9c179e\"],[0.4444444444444444,\"#bd3786\"],[0.5555555555555556,\"#d8576b\"],[0.6666666666666666,\"#ed7953\"],[0.7777777777777778,\"#fb9f3a\"],[0.8888888888888888,\"#fdca26\"],[1.0,\"#f0f921\"]],\"type\":\"heatmapgl\"}],\"histogram\":[{\"marker\":{\"pattern\":{\"fillmode\":\"overlay\",\"size\":10,\"solidity\":0.2}},\"type\":\"histogram\"}],\"histogram2d\":[{\"colorbar\":{\"outlinewidth\":0,\"ticks\":\"\"},\"colorscale\":[[0.0,\"#0d0887\"],[0.1111111111111111,\"#46039f\"],[0.2222222222222222,\"#7201a8\"],[0.3333333333333333,\"#9c179e\"],[0.4444444444444444,\"#bd3786\"],[0.5555555555555556,\"#d8576b\"],[0.6666666666666666,\"#ed7953\"],[0.7777777777777778,\"#fb9f3a\"],[0.8888888888888888,\"#fdca26\"],[1.0,\"#f0f921\"]],\"type\":\"histogram2d\"}],\"histogram2dcontour\":[{\"colorbar\":{\"outlinewidth\":0,\"ticks\":\"\"},\"colorscale\":[[0.0,\"#0d0887\"],[0.1111111111111111,\"#46039f\"],[0.2222222222222222,\"#7201a8\"],[0.3333333333333333,\"#9c179e\"],[0.4444444444444444,\"#bd3786\"],[0.5555555555555556,\"#d8576b\"],[0.6666666666666666,\"#ed7953\"],[0.7777777777777778,\"#fb9f3a\"],[0.8888888888888888,\"#fdca26\"],[1.0,\"#f0f921\"]],\"type\":\"histogram2dcontour\"}],\"mesh3d\":[{\"colorbar\":{\"outlinewidth\":0,\"ticks\":\"\"},\"type\":\"mesh3d\"}],\"parcoords\":[{\"line\":{\"colorbar\":{\"outlinewidth\":0,\"ticks\":\"\"}},\"type\":\"parcoords\"}],\"pie\":[{\"automargin\":true,\"type\":\"pie\"}],\"scatter\":[{\"marker\":{\"colorbar\":{\"outlinewidth\":0,\"ticks\":\"\"}},\"type\":\"scatter\"}],\"scatter3d\":[{\"line\":{\"colorbar\":{\"outlinewidth\":0,\"ticks\":\"\"}},\"marker\":{\"colorbar\":{\"outlinewidth\":0,\"ticks\":\"\"}},\"type\":\"scatter3d\"}],\"scattercarpet\":[{\"marker\":{\"colorbar\":{\"outlinewidth\":0,\"ticks\":\"\"}},\"type\":\"scattercarpet\"}],\"scattergeo\":[{\"marker\":{\"colorbar\":{\"outlinewidth\":0,\"ticks\":\"\"}},\"type\":\"scattergeo\"}],\"scattergl\":[{\"marker\":{\"colorbar\":{\"outlinewidth\":0,\"ticks\":\"\"}},\"type\":\"scattergl\"}],\"scattermapbox\":[{\"marker\":{\"colorbar\":{\"outlinewidth\":0,\"ticks\":\"\"}},\"type\":\"scattermapbox\"}],\"scatterpolar\":[{\"marker\":{\"colorbar\":{\"outlinewidth\":0,\"ticks\":\"\"}},\"type\":\"scatterpolar\"}],\"scatterpolargl\":[{\"marker\":{\"colorbar\":{\"outlinewidth\":0,\"ticks\":\"\"}},\"type\":\"scatterpolargl\"}],\"scatterternary\":[{\"marker\":{\"colorbar\":{\"outlinewidth\":0,\"ticks\":\"\"}},\"type\":\"scatterternary\"}],\"surface\":[{\"colorbar\":{\"outlinewidth\":0,\"ticks\":\"\"},\"colorscale\":[[0.0,\"#0d0887\"],[0.1111111111111111,\"#46039f\"],[0.2222222222222222,\"#7201a8\"],[0.3333333333333333,\"#9c179e\"],[0.4444444444444444,\"#bd3786\"],[0.5555555555555556,\"#d8576b\"],[0.6666666666666666,\"#ed7953\"],[0.7777777777777778,\"#fb9f3a\"],[0.8888888888888888,\"#fdca26\"],[1.0,\"#f0f921\"]],\"type\":\"surface\"}],\"table\":[{\"cells\":{\"fill\":{\"color\":\"#EBF0F8\"},\"line\":{\"color\":\"white\"}},\"header\":{\"fill\":{\"color\":\"#C8D4E3\"},\"line\":{\"color\":\"white\"}},\"type\":\"table\"}]},\"layout\":{\"annotationdefaults\":{\"arrowcolor\":\"#2a3f5f\",\"arrowhead\":0,\"arrowwidth\":1},\"autotypenumbers\":\"strict\",\"coloraxis\":{\"colorbar\":{\"outlinewidth\":0,\"ticks\":\"\"}},\"colorscale\":{\"diverging\":[[0,\"#8e0152\"],[0.1,\"#c51b7d\"],[0.2,\"#de77ae\"],[0.3,\"#f1b6da\"],[0.4,\"#fde0ef\"],[0.5,\"#f7f7f7\"],[0.6,\"#e6f5d0\"],[0.7,\"#b8e186\"],[0.8,\"#7fbc41\"],[0.9,\"#4d9221\"],[1,\"#276419\"]],\"sequential\":[[0.0,\"#0d0887\"],[0.1111111111111111,\"#46039f\"],[0.2222222222222222,\"#7201a8\"],[0.3333333333333333,\"#9c179e\"],[0.4444444444444444,\"#bd3786\"],[0.5555555555555556,\"#d8576b\"],[0.6666666666666666,\"#ed7953\"],[0.7777777777777778,\"#fb9f3a\"],[0.8888888888888888,\"#fdca26\"],[1.0,\"#f0f921\"]],\"sequentialminus\":[[0.0,\"#0d0887\"],[0.1111111111111111,\"#46039f\"],[0.2222222222222222,\"#7201a8\"],[0.3333333333333333,\"#9c179e\"],[0.4444444444444444,\"#bd3786\"],[0.5555555555555556,\"#d8576b\"],[0.6666666666666666,\"#ed7953\"],[0.7777777777777778,\"#fb9f3a\"],[0.8888888888888888,\"#fdca26\"],[1.0,\"#f0f921\"]]},\"colorway\":[\"#636efa\",\"#EF553B\",\"#00cc96\",\"#ab63fa\",\"#FFA15A\",\"#19d3f3\",\"#FF6692\",\"#B6E880\",\"#FF97FF\",\"#FECB52\"],\"font\":{\"color\":\"#2a3f5f\"},\"geo\":{\"bgcolor\":\"white\",\"lakecolor\":\"white\",\"landcolor\":\"#E5ECF6\",\"showlakes\":true,\"showland\":true,\"subunitcolor\":\"white\"},\"hoverlabel\":{\"align\":\"left\"},\"hovermode\":\"closest\",\"mapbox\":{\"style\":\"light\"},\"paper_bgcolor\":\"white\",\"plot_bgcolor\":\"#E5ECF6\",\"polar\":{\"angularaxis\":{\"gridcolor\":\"white\",\"linecolor\":\"white\",\"ticks\":\"\"},\"bgcolor\":\"#E5ECF6\",\"radialaxis\":{\"gridcolor\":\"white\",\"linecolor\":\"white\",\"ticks\":\"\"}},\"scene\":{\"xaxis\":{\"backgroundcolor\":\"#E5ECF6\",\"gridcolor\":\"white\",\"gridwidth\":2,\"linecolor\":\"white\",\"showbackground\":true,\"ticks\":\"\",\"zerolinecolor\":\"white\"},\"yaxis\":{\"backgroundcolor\":\"#E5ECF6\",\"gridcolor\":\"white\",\"gridwidth\":2,\"linecolor\":\"white\",\"showbackground\":true,\"ticks\":\"\",\"zerolinecolor\":\"white\"},\"zaxis\":{\"backgroundcolor\":\"#E5ECF6\",\"gridcolor\":\"white\",\"gridwidth\":2,\"linecolor\":\"white\",\"showbackground\":true,\"ticks\":\"\",\"zerolinecolor\":\"white\"}},\"shapedefaults\":{\"line\":{\"color\":\"#2a3f5f\"}},\"ternary\":{\"aaxis\":{\"gridcolor\":\"white\",\"linecolor\":\"white\",\"ticks\":\"\"},\"baxis\":{\"gridcolor\":\"white\",\"linecolor\":\"white\",\"ticks\":\"\"},\"bgcolor\":\"#E5ECF6\",\"caxis\":{\"gridcolor\":\"white\",\"linecolor\":\"white\",\"ticks\":\"\"}},\"title\":{\"x\":0.05},\"xaxis\":{\"automargin\":true,\"gridcolor\":\"white\",\"linecolor\":\"white\",\"ticks\":\"\",\"title\":{\"standoff\":15},\"zerolinecolor\":\"white\",\"zerolinewidth\":2},\"yaxis\":{\"automargin\":true,\"gridcolor\":\"white\",\"linecolor\":\"white\",\"ticks\":\"\",\"title\":{\"standoff\":15},\"zerolinecolor\":\"white\",\"zerolinewidth\":2}}},\"title\":{\"text\":\"<b>Turbine efficiency curves of G1 and G2 in Plant2</b>\"},\"xaxis\":{\"title\":{\"text\":\"<b>Discharge</b> (m<sup>3</sup>/s)\"}},\"yaxis\":{\"title\":{\"text\":\"<b>Efficiency</b> (%)\"}}},                        {\"responsive\": true}                    ).then(function(){\n",
       "                            \n",
       "var gd = document.getElementById('1d3a7c31-de7f-4234-9146-13b2c41055d6');\n",
       "var x = new MutationObserver(function (mutations, observer) {{\n",
       "        var display = window.getComputedStyle(gd).display;\n",
       "        if (!display || display === 'none') {{\n",
       "            console.log([gd, 'removed!']);\n",
       "            Plotly.purge(gd);\n",
       "            observer.disconnect();\n",
       "        }}\n",
       "}});\n",
       "\n",
       "// Listen for the removal of the full notebook cells\n",
       "var notebookContainer = gd.closest('#notebook-container');\n",
       "if (notebookContainer) {{\n",
       "    x.observe(notebookContainer, {childList: true});\n",
       "}}\n",
       "\n",
       "// Listen for the clearing of the current output cell\n",
       "var outputEl = gd.closest('.output');\n",
       "if (outputEl) {{\n",
       "    x.observe(outputEl, {childList: true});\n",
       "}}\n",
       "\n",
       "                        })                };                });            </script>        </div>"
      ]
     },
     "metadata": {},
     "output_type": "display_data"
    }
   ],
   "source": [
    "# Plot the turbine efficiency curves of G1 and G2 (G3, G4 are the same as G2) in Plant2 \n",
    "turb_eff_curves_G1=shop.model.generator.Plant2_Generator1.turb_eff_curves.get()\n",
    "turb_eff_curves_G2=shop.model.generator.Plant2_Generator2.turb_eff_curves.get()\n",
    "\n",
    "fig = go.Figure()\n",
    "\n",
    "for curve in turb_eff_curves_G1:\n",
    "    color+=1\n",
    "    curve_name=\"G1 Net Head=\"+str(curve.name)\n",
    "    fig.add_trace(go.Scatter(x=curve.index, y=curve.values, marker_color = colorscale[color], name=curve_name, mode=\"lines+markers\", line=dict(width=2)))\n",
    "\n",
    "for curve in turb_eff_curves_G2:\n",
    "    color+=1\n",
    "    curve_name=\"G2 Net Head=\"+str(curve.name)\n",
    "    fig.add_trace(go.Scatter(x=curve.index, y=curve.values, marker_color = colorscale[color], name=curve_name, mode=\"lines+markers\", line=dict(width=2)))\n",
    "    \n",
    "fig.update_layout(title=\"<b>Turbine efficiency curves of G1 and G2 in Plant2</b>\", xaxis_title=\"<b>Discharge</b> (m<sup>3</sup>/s)\", yaxis_title=\"<b>Efficiency</b> (%)\")\n",
    "\n",
    "fig.show()"
   ]
  },
  {
   "cell_type": "markdown",
   "metadata": {
    "Collapsed": "false"
   },
   "source": [
    "### Gates"
   ]
  },
  {
   "cell_type": "markdown",
   "metadata": {
    "Collapsed": "false"
   },
   "source": [
    "Water routes such as spillways, bypasses and gates between objects, can be defined and applied with certain attributes as well."
   ]
  },
  {
   "cell_type": "code",
   "execution_count": 26,
   "metadata": {
    "Collapsed": "false"
   },
   "outputs": [],
   "source": [
    "# Adding a spillway between Reservoir 1 and Reservoir 2\n",
    "s_rsv1_rsv2 = shop.model.gate.add_object('s_Reservoir1_Reservoir2')\n",
    "\n",
    "# Adding a bypass between Reservoir 1 and Reservoir 2\n",
    "b_rsv1_rsv2 = shop.model.gate.add_object('b_Reservoir1_Reservoir2')\n",
    "\n",
    "# Adding a spillway between Reservoir 1 and Reservoir 2\n",
    "s_rsv2_ocean = shop.model.gate.add_object('s_Reservoir2_Ocean')\n",
    "\n",
    "# Adding a bypass between Reservoir 1 and Reservoir 2\n",
    "b_rsv2_ocean = shop.model.gate.add_object('b_Reservoir2_Ocean')"
   ]
  },
  {
   "cell_type": "markdown",
   "metadata": {
    "Collapsed": "false"
   },
   "source": [
    "And we do a quick control of the content on gate objects afterwards."
   ]
  },
  {
   "cell_type": "code",
   "execution_count": 27,
   "metadata": {
    "Collapsed": "false"
   },
   "outputs": [
    {
     "data": {
      "text/plain": [
       "['s_Reservoir1_Reservoir2',\n",
       " 'b_Reservoir1_Reservoir2',\n",
       " 's_Reservoir2_Ocean',\n",
       " 'b_Reservoir2_Ocean']"
      ]
     },
     "execution_count": 27,
     "metadata": {},
     "output_type": "execute_result"
    }
   ],
   "source": [
    "shop.model.gate.get_object_names()"
   ]
  },
  {
   "cell_type": "markdown",
   "metadata": {
    "Collapsed": "false"
   },
   "source": [
    "## Connecting the topology objects"
   ]
  },
  {
   "cell_type": "markdown",
   "metadata": {
    "Collapsed": "false"
   },
   "source": [
    "After adding the objects and defining parameters to them, we need to connect them together in order for the model to know which parts that can interact with each other. This means for instance that we need to connect a certain reservoir to a certain plant. In this example, *Reservoir1* should connect to *Plant1*, Plant1 should then further be connected to *Reservoir2*, whereas Reservoir2 again connects to *Plant2*. Additionally, we need to correcrtly connect the gates, spillways and bypasses. We always connect objects from the top to the bottom, starting with the uppermost object relative to elevation. Note that it is necessary to specify the keyword argument \"connection_type\" when connecting a bypass or spill gate to the upper reservoir, but it is not needed when the bypass or spill gate is connected to the downstream reservoir. "
   ]
  },
  {
   "cell_type": "code",
   "execution_count": 28,
   "metadata": {
    "Collapsed": "false"
   },
   "outputs": [],
   "source": [
    "# Connecting Reservoir 1 to Plant1\n",
    "rsv1.connect_to(plant1)\n",
    "\n",
    "# Connecting Reservoir 1 to the bypass between Reservoir1 and Reservoir2\n",
    "rsv1.connect_to(b_rsv1_rsv2,connection_type=\"bypass\")\n",
    "\n",
    "# Connecting Reservoir 1 to the spillway between Reservoir1 and Reservoir2\n",
    "rsv1.connect_to(s_rsv1_rsv2,connection_type=\"spill\")\n",
    "\n",
    "# Connecting Plant1 to Reservoir2\n",
    "plant1.connect_to(rsv2)\n",
    "\n",
    "# Connecting the bypass between Reservoir1 and Reservoir2 to Reservoir2\n",
    "b_rsv1_rsv2.connect_to(rsv2)\n",
    "\n",
    "# Connecting the spillway between Reservoir1 and Reservoir2 to Reservoir2\n",
    "s_rsv1_rsv2.connect_to(rsv2)\n",
    "\n",
    "# Connecting Reservoir2 to Plant 2\n",
    "rsv2.connect_to(plant2)\n",
    "\n",
    "# Connecting Reservoir2 to the bypass between Reservoir2 and Ocean\n",
    "rsv2.connect_to(b_rsv2_ocean,connection_type=\"bypass\")\n",
    "\n",
    "# Connecting Reservoir2 to the spillway between Reservoir2 and Ocean\n",
    "rsv2.connect_to(s_rsv2_ocean,connection_type=\"spill\")"
   ]
  },
  {
   "cell_type": "markdown",
   "metadata": {
    "Collapsed": "false"
   },
   "source": [
    "We can then verify if the topology is correctly set up, by graphing out the topology tree."
   ]
  },
  {
   "cell_type": "code",
   "execution_count": 29,
   "metadata": {
    "Collapsed": "false"
   },
   "outputs": [
    {
     "data": {
      "image/svg+xml": "<?xml version=\"1.0\" encoding=\"UTF-8\" standalone=\"no\"?>\n<!DOCTYPE svg PUBLIC \"-//W3C//DTD SVG 1.1//EN\"\n \"http://www.w3.org/Graphics/SVG/1.1/DTD/svg11.dtd\">\n<!-- Generated by graphviz version 2.50.0 (20211204.2007)\n -->\n<!-- Pages: 1 -->\n<svg width=\"514pt\" height=\"280pt\"\n viewBox=\"0.00 0.00 513.64 280.00\" xmlns=\"http://www.w3.org/2000/svg\" xmlns:xlink=\"http://www.w3.org/1999/xlink\">\n<g id=\"graph0\" class=\"graph\" transform=\"scale(1 1) rotate(0) translate(4 276)\">\n<polygon fill=\"white\" stroke=\"transparent\" points=\"-4,4 -4,-276 509.64,-276 509.64,4 -4,4\"/>\n<!-- reservoir_Reservoir1 -->\n<g id=\"node1\" class=\"node\">\n<title>reservoir_Reservoir1</title>\n<polygon fill=\"skyblue\" stroke=\"black\" points=\"175,-226 275.18,-260.5 74.82,-260.5 175,-226\"/>\n<text text-anchor=\"middle\" x=\"175\" y=\"-245.3\" font-family=\"Times New Roman,serif\" font-size=\"14.00\">Reservoir1</text>\n</g>\n<!-- plant_Plant1 -->\n<g id=\"node3\" class=\"node\">\n<title>plant_Plant1</title>\n<polygon fill=\"#ffc1c1\" stroke=\"black\" points=\"54,-190 0,-190 0,-154 54,-154 54,-190\"/>\n<text text-anchor=\"middle\" x=\"27\" y=\"-168.3\" font-family=\"Times New Roman,serif\" font-size=\"14.00\">Plant1</text>\n</g>\n<!-- reservoir_Reservoir1&#45;&gt;plant_Plant1 -->\n<g id=\"edge1\" class=\"edge\">\n<title>reservoir_Reservoir1&#45;&gt;plant_Plant1</title>\n<path fill=\"none\" stroke=\"black\" d=\"M148.88,-234.76C122.24,-221.27 81.1,-200.42 54.11,-186.74\"/>\n</g>\n<!-- gate_s_Reservoir1_Reservoir2 -->\n<g id=\"node5\" class=\"node\">\n<title>gate_s_Reservoir1_Reservoir2</title>\n<ellipse fill=\"transparent\" stroke=\"black\" cx=\"175\" cy=\"-172\" rx=\"103.18\" ry=\"18\"/>\n<text text-anchor=\"middle\" x=\"175\" y=\"-168.3\" font-family=\"Times New Roman,serif\" font-size=\"14.00\">s_Reservoir1_Reservoir2</text>\n</g>\n<!-- reservoir_Reservoir1&#45;&gt;gate_s_Reservoir1_Reservoir2 -->\n<g id=\"edge2\" class=\"edge\">\n<title>reservoir_Reservoir1&#45;&gt;gate_s_Reservoir1_Reservoir2</title>\n<path fill=\"none\" stroke=\"black\" stroke-dasharray=\"5,2\" d=\"M175,-225.9C175,-214.5 175,-200.79 175,-190.18\"/>\n</g>\n<!-- gate_b_Reservoir1_Reservoir2 -->\n<g id=\"node6\" class=\"node\">\n<title>gate_b_Reservoir1_Reservoir2</title>\n<ellipse fill=\"transparent\" stroke=\"black\" cx=\"401\" cy=\"-172\" rx=\"104.78\" ry=\"18\"/>\n<text text-anchor=\"middle\" x=\"401\" y=\"-168.3\" font-family=\"Times New Roman,serif\" font-size=\"14.00\">b_Reservoir1_Reservoir2</text>\n</g>\n<!-- reservoir_Reservoir1&#45;&gt;gate_b_Reservoir1_Reservoir2 -->\n<g id=\"edge3\" class=\"edge\">\n<title>reservoir_Reservoir1&#45;&gt;gate_b_Reservoir1_Reservoir2</title>\n<path fill=\"none\" stroke=\"black\" stroke-dasharray=\"5,2\" d=\"M207.86,-237.09C246.67,-224.22 311.46,-202.71 355.18,-188.21\"/>\n</g>\n<!-- reservoir_Reservoir2 -->\n<g id=\"node2\" class=\"node\">\n<title>reservoir_Reservoir2</title>\n<polygon fill=\"skyblue\" stroke=\"black\" points=\"175,-72 275.18,-106.5 74.82,-106.5 175,-72\"/>\n<text text-anchor=\"middle\" x=\"175\" y=\"-91.3\" font-family=\"Times New Roman,serif\" font-size=\"14.00\">Reservoir2</text>\n</g>\n<!-- plant_Plant2 -->\n<g id=\"node4\" class=\"node\">\n<title>plant_Plant2</title>\n<polygon fill=\"#ffc1c1\" stroke=\"black\" points=\"70,-36 16,-36 16,0 70,0 70,-36\"/>\n<text text-anchor=\"middle\" x=\"43\" y=\"-14.3\" font-family=\"Times New Roman,serif\" font-size=\"14.00\">Plant2</text>\n</g>\n<!-- reservoir_Reservoir2&#45;&gt;plant_Plant2 -->\n<g id=\"edge4\" class=\"edge\">\n<title>reservoir_Reservoir2&#45;&gt;plant_Plant2</title>\n<path fill=\"none\" stroke=\"black\" d=\"M150.79,-80.24C128.01,-67.3 93.96,-47.96 70.25,-34.48\"/>\n</g>\n<!-- gate_s_Reservoir2_Ocean -->\n<g id=\"node7\" class=\"node\">\n<title>gate_s_Reservoir2_Ocean</title>\n<ellipse fill=\"transparent\" stroke=\"black\" cx=\"175\" cy=\"-18\" rx=\"87.18\" ry=\"18\"/>\n<text text-anchor=\"middle\" x=\"175\" y=\"-14.3\" font-family=\"Times New Roman,serif\" font-size=\"14.00\">s_Reservoir2_Ocean</text>\n</g>\n<!-- reservoir_Reservoir2&#45;&gt;gate_s_Reservoir2_Ocean -->\n<g id=\"edge5\" class=\"edge\">\n<title>reservoir_Reservoir2&#45;&gt;gate_s_Reservoir2_Ocean</title>\n<path fill=\"none\" stroke=\"black\" stroke-dasharray=\"5,2\" d=\"M175,-71.9C175,-60.5 175,-46.79 175,-36.18\"/>\n</g>\n<!-- gate_b_Reservoir2_Ocean -->\n<g id=\"node8\" class=\"node\">\n<title>gate_b_Reservoir2_Ocean</title>\n<ellipse fill=\"transparent\" stroke=\"black\" cx=\"368\" cy=\"-18\" rx=\"88.28\" ry=\"18\"/>\n<text text-anchor=\"middle\" x=\"368\" y=\"-14.3\" font-family=\"Times New Roman,serif\" font-size=\"14.00\">b_Reservoir2_Ocean</text>\n</g>\n<!-- reservoir_Reservoir2&#45;&gt;gate_b_Reservoir2_Ocean -->\n<g id=\"edge6\" class=\"edge\">\n<title>reservoir_Reservoir2&#45;&gt;gate_b_Reservoir2_Ocean</title>\n<path fill=\"none\" stroke=\"black\" stroke-dasharray=\"5,2\" d=\"M205.16,-82.28C238.45,-69.34 292.15,-48.47 328.71,-34.27\"/>\n</g>\n<!-- plant_Plant1&#45;&gt;reservoir_Reservoir2 -->\n<g id=\"edge7\" class=\"edge\">\n<title>plant_Plant1&#45;&gt;reservoir_Reservoir2</title>\n<path fill=\"none\" stroke=\"black\" d=\"M54.15,-157.24C83.02,-142.61 128.06,-119.79 154.23,-106.52\"/>\n</g>\n<!-- gate_s_Reservoir1_Reservoir2&#45;&gt;reservoir_Reservoir2 -->\n<g id=\"edge8\" class=\"edge\">\n<title>gate_s_Reservoir1_Reservoir2&#45;&gt;reservoir_Reservoir2</title>\n<path fill=\"none\" stroke=\"black\" d=\"M175,-153.98C175,-139.46 175,-119.03 175,-106.7\"/>\n</g>\n<!-- gate_b_Reservoir1_Reservoir2&#45;&gt;reservoir_Reservoir2 -->\n<g id=\"edge9\" class=\"edge\">\n<title>gate_b_Reservoir1_Reservoir2&#45;&gt;reservoir_Reservoir2</title>\n<path fill=\"none\" stroke=\"black\" d=\"M354.99,-155.73C310.85,-141.08 245.37,-119.35 206.75,-106.54\"/>\n</g>\n</g>\n</svg>\n",
      "text/plain": [
       "<graphviz.graphs.Digraph at 0x2841a273730>"
      ]
     },
     "metadata": {},
     "output_type": "display_data"
    }
   ],
   "source": [
    "# Print out the topology\n",
    "dot = shop.model.build_connection_tree()\n",
    "display(dot)"
   ]
  },
  {
   "cell_type": "markdown",
   "metadata": {
    "Collapsed": "false"
   },
   "source": [
    "## Adding a market and a load"
   ]
  },
  {
   "cell_type": "markdown",
   "metadata": {
    "Collapsed": "false"
   },
   "source": [
    "Lastly, we need to add a market and/or a load for the model to optimize against, with certain parameters. This gives SHOP the solution space it needs to make its decisions on where and when to produce or not, while maximizing profit and fulfilling load requirements."
   ]
  },
  {
   "cell_type": "code",
   "execution_count": 30,
   "metadata": {
    "Collapsed": "false"
   },
   "outputs": [],
   "source": [
    "# Adding a market named \"Day_ahead\"\n",
    "shop.model.market.add_object('Day_ahead')\n",
    "\n",
    "# Instancing the market Day_ahead to 'da'\n",
    "da = shop.model.market.Day_ahead\n",
    "\n",
    "# Setting a sale price to the market, which is the income value (in monetary units) per produced MW\n",
    "da.sale_price.set(pd.DataFrame([32.992,31.122,29.312,28.072,30.012,33.362,42.682,74.822,77.732,62.332,55.892,46.962,42.582,40.942,39.212,39.142,41.672,46.922,37.102,32.992,31.272,29.752,28.782,28.082,27.242,26.622,25.732,25.392,25.992,27.402,28.942,32.182,33.082,32.342,30.912,30.162,30.062,29.562,29.462,29.512,29.672,30.072,29.552,28.862,28.412,28.072,27.162,25.502,26.192,25.222,24.052,23.892,23.682,26.092,28.202,30.902,31.572,31.462,31.172,30.912,30.572,30.602,30.632,31.062,32.082,36.262,34.472,32.182,31.492,30.732,29.712,28.982], \n",
    "                               index=[starttime + pd.Timedelta(hours=i) for i in range(0,72)]))\n",
    "\n",
    "# Setting a buy price to the market, which is the cost to buy production in the market (in monetary units) in stead of producing it yourself per MW. This is normally used when you have a load to cover or if you have pumps\n",
    "da.buy_price.set(da.sale_price.get()+0.002)\n",
    "\n",
    "# Setting the amount of volume able to buy in the market in MW\n",
    "da.max_buy.set(pd.Series([9999], [starttime]))\n",
    "\n",
    "# Setting the amount of volume able to sell (produce) in the market in MW\n",
    "da.max_sale.set(pd.Series([9999], [starttime]))\n",
    "\n",
    "# Setting the load that needs to be fullfilled, either by power production or by buying from the market, depending on the above parameters\n",
    "da.load.set(pd.Series([0], [starttime]))"
   ]
  },
  {
   "cell_type": "markdown",
   "metadata": {
    "Collapsed": "false"
   },
   "source": [
    "Now we can compare the market price to the (constant) evalutation value of the water in the reservoirs. Endpoint descriptions are usually more complex, depending on reservoir levels and/or other reservoirs. "
   ]
  },
  {
   "cell_type": "code",
   "execution_count": 31,
   "metadata": {
    "Collapsed": "false"
   },
   "outputs": [
    {
     "data": {
      "application/vnd.plotly.v1+json": {
       "config": {
        "plotlyServerURL": "https://plot.ly"
       },
       "data": [
        {
         "marker": {
          "color": "rgb(33,102,172)"
         },
         "name": "Market price",
         "type": "scatter",
         "x": [
          "2018-01-23T00:00:00",
          "2018-01-23T01:00:00",
          "2018-01-23T02:00:00",
          "2018-01-23T03:00:00",
          "2018-01-23T04:00:00",
          "2018-01-23T05:00:00",
          "2018-01-23T06:00:00",
          "2018-01-23T07:00:00",
          "2018-01-23T08:00:00",
          "2018-01-23T09:00:00",
          "2018-01-23T10:00:00",
          "2018-01-23T11:00:00",
          "2018-01-23T12:00:00",
          "2018-01-23T13:00:00",
          "2018-01-23T14:00:00",
          "2018-01-23T15:00:00",
          "2018-01-23T16:00:00",
          "2018-01-23T17:00:00",
          "2018-01-23T18:00:00",
          "2018-01-23T19:00:00",
          "2018-01-23T20:00:00",
          "2018-01-23T21:00:00",
          "2018-01-23T22:00:00",
          "2018-01-23T23:00:00",
          "2018-01-24T00:00:00",
          "2018-01-24T01:00:00",
          "2018-01-24T02:00:00",
          "2018-01-24T03:00:00",
          "2018-01-24T04:00:00",
          "2018-01-24T05:00:00",
          "2018-01-24T06:00:00",
          "2018-01-24T07:00:00",
          "2018-01-24T08:00:00",
          "2018-01-24T09:00:00",
          "2018-01-24T10:00:00",
          "2018-01-24T11:00:00",
          "2018-01-24T12:00:00",
          "2018-01-24T13:00:00",
          "2018-01-24T14:00:00",
          "2018-01-24T15:00:00",
          "2018-01-24T16:00:00",
          "2018-01-24T17:00:00",
          "2018-01-24T18:00:00",
          "2018-01-24T19:00:00",
          "2018-01-24T20:00:00",
          "2018-01-24T21:00:00",
          "2018-01-24T22:00:00",
          "2018-01-24T23:00:00",
          "2018-01-25T00:00:00",
          "2018-01-25T01:00:00",
          "2018-01-25T02:00:00",
          "2018-01-25T03:00:00",
          "2018-01-25T04:00:00",
          "2018-01-25T05:00:00",
          "2018-01-25T06:00:00",
          "2018-01-25T07:00:00",
          "2018-01-25T08:00:00",
          "2018-01-25T09:00:00",
          "2018-01-25T10:00:00",
          "2018-01-25T11:00:00",
          "2018-01-25T12:00:00",
          "2018-01-25T13:00:00",
          "2018-01-25T14:00:00",
          "2018-01-25T15:00:00",
          "2018-01-25T16:00:00",
          "2018-01-25T17:00:00",
          "2018-01-25T18:00:00",
          "2018-01-25T19:00:00",
          "2018-01-25T20:00:00",
          "2018-01-25T21:00:00",
          "2018-01-25T22:00:00",
          "2018-01-25T23:00:00"
         ],
         "y": [
          32.992,
          31.122,
          29.312,
          28.072,
          30.012,
          33.362,
          42.682,
          74.822,
          77.732,
          62.332,
          55.892,
          46.962,
          42.582,
          40.942,
          39.212,
          39.142,
          41.672,
          46.922,
          37.102,
          32.992,
          31.272,
          29.752,
          28.782,
          28.082,
          27.242,
          26.622,
          25.732,
          25.392,
          25.992,
          27.402,
          28.942,
          32.182,
          33.082,
          32.342,
          30.912,
          30.162,
          30.062,
          29.562,
          29.462,
          29.512,
          29.672,
          30.072,
          29.552,
          28.862,
          28.412,
          28.072,
          27.162,
          25.502,
          26.192,
          25.222,
          24.052,
          23.892,
          23.682,
          26.092,
          28.202,
          30.902,
          31.572,
          31.462,
          31.172,
          30.912,
          30.572,
          30.602,
          30.632,
          31.062,
          32.082,
          36.262,
          34.472,
          32.182,
          31.492,
          30.732,
          29.712,
          28.982
         ]
        },
        {
         "line": {
          "dash": "dot"
         },
         "marker": {
          "color": "rgb(67,147,195)"
         },
         "name": "Water value of Reservoir1",
         "type": "scatter",
         "x": [
          "2018-01-23T00:00:00",
          "2018-01-23T01:00:00",
          "2018-01-23T02:00:00",
          "2018-01-23T03:00:00",
          "2018-01-23T04:00:00",
          "2018-01-23T05:00:00",
          "2018-01-23T06:00:00",
          "2018-01-23T07:00:00",
          "2018-01-23T08:00:00",
          "2018-01-23T09:00:00",
          "2018-01-23T10:00:00",
          "2018-01-23T11:00:00",
          "2018-01-23T12:00:00",
          "2018-01-23T13:00:00",
          "2018-01-23T14:00:00",
          "2018-01-23T15:00:00",
          "2018-01-23T16:00:00",
          "2018-01-23T17:00:00",
          "2018-01-23T18:00:00",
          "2018-01-23T19:00:00",
          "2018-01-23T20:00:00",
          "2018-01-23T21:00:00",
          "2018-01-23T22:00:00",
          "2018-01-23T23:00:00",
          "2018-01-24T00:00:00",
          "2018-01-24T01:00:00",
          "2018-01-24T02:00:00",
          "2018-01-24T03:00:00",
          "2018-01-24T04:00:00",
          "2018-01-24T05:00:00",
          "2018-01-24T06:00:00",
          "2018-01-24T07:00:00",
          "2018-01-24T08:00:00",
          "2018-01-24T09:00:00",
          "2018-01-24T10:00:00",
          "2018-01-24T11:00:00",
          "2018-01-24T12:00:00",
          "2018-01-24T13:00:00",
          "2018-01-24T14:00:00",
          "2018-01-24T15:00:00",
          "2018-01-24T16:00:00",
          "2018-01-24T17:00:00",
          "2018-01-24T18:00:00",
          "2018-01-24T19:00:00",
          "2018-01-24T20:00:00",
          "2018-01-24T21:00:00",
          "2018-01-24T22:00:00",
          "2018-01-24T23:00:00",
          "2018-01-25T00:00:00",
          "2018-01-25T01:00:00",
          "2018-01-25T02:00:00",
          "2018-01-25T03:00:00",
          "2018-01-25T04:00:00",
          "2018-01-25T05:00:00",
          "2018-01-25T06:00:00",
          "2018-01-25T07:00:00",
          "2018-01-25T08:00:00",
          "2018-01-25T09:00:00",
          "2018-01-25T10:00:00",
          "2018-01-25T11:00:00",
          "2018-01-25T12:00:00",
          "2018-01-25T13:00:00",
          "2018-01-25T14:00:00",
          "2018-01-25T15:00:00",
          "2018-01-25T16:00:00",
          "2018-01-25T17:00:00",
          "2018-01-25T18:00:00",
          "2018-01-25T19:00:00",
          "2018-01-25T20:00:00",
          "2018-01-25T21:00:00",
          "2018-01-25T22:00:00",
          "2018-01-25T23:00:00"
         ],
         "y": [
          30,
          30,
          30,
          30,
          30,
          30,
          30,
          30,
          30,
          30,
          30,
          30,
          30,
          30,
          30,
          30,
          30,
          30,
          30,
          30,
          30,
          30,
          30,
          30,
          30,
          30,
          30,
          30,
          30,
          30,
          30,
          30,
          30,
          30,
          30,
          30,
          30,
          30,
          30,
          30,
          30,
          30,
          30,
          30,
          30,
          30,
          30,
          30,
          30,
          30,
          30,
          30,
          30,
          30,
          30,
          30,
          30,
          30,
          30,
          30,
          30,
          30,
          30,
          30,
          30,
          30,
          30,
          30,
          30,
          30,
          30,
          30
         ]
        },
        {
         "line": {
          "dash": "dot"
         },
         "marker": {
          "color": "rgb(146,197,222)"
         },
         "name": "Water value of Reservoir2",
         "type": "scatter",
         "x": [
          "2018-01-23T00:00:00",
          "2018-01-23T01:00:00",
          "2018-01-23T02:00:00",
          "2018-01-23T03:00:00",
          "2018-01-23T04:00:00",
          "2018-01-23T05:00:00",
          "2018-01-23T06:00:00",
          "2018-01-23T07:00:00",
          "2018-01-23T08:00:00",
          "2018-01-23T09:00:00",
          "2018-01-23T10:00:00",
          "2018-01-23T11:00:00",
          "2018-01-23T12:00:00",
          "2018-01-23T13:00:00",
          "2018-01-23T14:00:00",
          "2018-01-23T15:00:00",
          "2018-01-23T16:00:00",
          "2018-01-23T17:00:00",
          "2018-01-23T18:00:00",
          "2018-01-23T19:00:00",
          "2018-01-23T20:00:00",
          "2018-01-23T21:00:00",
          "2018-01-23T22:00:00",
          "2018-01-23T23:00:00",
          "2018-01-24T00:00:00",
          "2018-01-24T01:00:00",
          "2018-01-24T02:00:00",
          "2018-01-24T03:00:00",
          "2018-01-24T04:00:00",
          "2018-01-24T05:00:00",
          "2018-01-24T06:00:00",
          "2018-01-24T07:00:00",
          "2018-01-24T08:00:00",
          "2018-01-24T09:00:00",
          "2018-01-24T10:00:00",
          "2018-01-24T11:00:00",
          "2018-01-24T12:00:00",
          "2018-01-24T13:00:00",
          "2018-01-24T14:00:00",
          "2018-01-24T15:00:00",
          "2018-01-24T16:00:00",
          "2018-01-24T17:00:00",
          "2018-01-24T18:00:00",
          "2018-01-24T19:00:00",
          "2018-01-24T20:00:00",
          "2018-01-24T21:00:00",
          "2018-01-24T22:00:00",
          "2018-01-24T23:00:00",
          "2018-01-25T00:00:00",
          "2018-01-25T01:00:00",
          "2018-01-25T02:00:00",
          "2018-01-25T03:00:00",
          "2018-01-25T04:00:00",
          "2018-01-25T05:00:00",
          "2018-01-25T06:00:00",
          "2018-01-25T07:00:00",
          "2018-01-25T08:00:00",
          "2018-01-25T09:00:00",
          "2018-01-25T10:00:00",
          "2018-01-25T11:00:00",
          "2018-01-25T12:00:00",
          "2018-01-25T13:00:00",
          "2018-01-25T14:00:00",
          "2018-01-25T15:00:00",
          "2018-01-25T16:00:00",
          "2018-01-25T17:00:00",
          "2018-01-25T18:00:00",
          "2018-01-25T19:00:00",
          "2018-01-25T20:00:00",
          "2018-01-25T21:00:00",
          "2018-01-25T22:00:00",
          "2018-01-25T23:00:00"
         ],
         "y": [
          10,
          10,
          10,
          10,
          10,
          10,
          10,
          10,
          10,
          10,
          10,
          10,
          10,
          10,
          10,
          10,
          10,
          10,
          10,
          10,
          10,
          10,
          10,
          10,
          10,
          10,
          10,
          10,
          10,
          10,
          10,
          10,
          10,
          10,
          10,
          10,
          10,
          10,
          10,
          10,
          10,
          10,
          10,
          10,
          10,
          10,
          10,
          10,
          10,
          10,
          10,
          10,
          10,
          10,
          10,
          10,
          10,
          10,
          10,
          10,
          10,
          10,
          10,
          10,
          10,
          10,
          10,
          10,
          10,
          10,
          10,
          10
         ]
        }
       ],
       "layout": {
        "template": {
         "data": {
          "bar": [
           {
            "error_x": {
             "color": "#2a3f5f"
            },
            "error_y": {
             "color": "#2a3f5f"
            },
            "marker": {
             "line": {
              "color": "#E5ECF6",
              "width": 0.5
             },
             "pattern": {
              "fillmode": "overlay",
              "size": 10,
              "solidity": 0.2
             }
            },
            "type": "bar"
           }
          ],
          "barpolar": [
           {
            "marker": {
             "line": {
              "color": "#E5ECF6",
              "width": 0.5
             },
             "pattern": {
              "fillmode": "overlay",
              "size": 10,
              "solidity": 0.2
             }
            },
            "type": "barpolar"
           }
          ],
          "carpet": [
           {
            "aaxis": {
             "endlinecolor": "#2a3f5f",
             "gridcolor": "white",
             "linecolor": "white",
             "minorgridcolor": "white",
             "startlinecolor": "#2a3f5f"
            },
            "baxis": {
             "endlinecolor": "#2a3f5f",
             "gridcolor": "white",
             "linecolor": "white",
             "minorgridcolor": "white",
             "startlinecolor": "#2a3f5f"
            },
            "type": "carpet"
           }
          ],
          "choropleth": [
           {
            "colorbar": {
             "outlinewidth": 0,
             "ticks": ""
            },
            "type": "choropleth"
           }
          ],
          "contour": [
           {
            "colorbar": {
             "outlinewidth": 0,
             "ticks": ""
            },
            "colorscale": [
             [
              0,
              "#0d0887"
             ],
             [
              0.1111111111111111,
              "#46039f"
             ],
             [
              0.2222222222222222,
              "#7201a8"
             ],
             [
              0.3333333333333333,
              "#9c179e"
             ],
             [
              0.4444444444444444,
              "#bd3786"
             ],
             [
              0.5555555555555556,
              "#d8576b"
             ],
             [
              0.6666666666666666,
              "#ed7953"
             ],
             [
              0.7777777777777778,
              "#fb9f3a"
             ],
             [
              0.8888888888888888,
              "#fdca26"
             ],
             [
              1,
              "#f0f921"
             ]
            ],
            "type": "contour"
           }
          ],
          "contourcarpet": [
           {
            "colorbar": {
             "outlinewidth": 0,
             "ticks": ""
            },
            "type": "contourcarpet"
           }
          ],
          "heatmap": [
           {
            "colorbar": {
             "outlinewidth": 0,
             "ticks": ""
            },
            "colorscale": [
             [
              0,
              "#0d0887"
             ],
             [
              0.1111111111111111,
              "#46039f"
             ],
             [
              0.2222222222222222,
              "#7201a8"
             ],
             [
              0.3333333333333333,
              "#9c179e"
             ],
             [
              0.4444444444444444,
              "#bd3786"
             ],
             [
              0.5555555555555556,
              "#d8576b"
             ],
             [
              0.6666666666666666,
              "#ed7953"
             ],
             [
              0.7777777777777778,
              "#fb9f3a"
             ],
             [
              0.8888888888888888,
              "#fdca26"
             ],
             [
              1,
              "#f0f921"
             ]
            ],
            "type": "heatmap"
           }
          ],
          "heatmapgl": [
           {
            "colorbar": {
             "outlinewidth": 0,
             "ticks": ""
            },
            "colorscale": [
             [
              0,
              "#0d0887"
             ],
             [
              0.1111111111111111,
              "#46039f"
             ],
             [
              0.2222222222222222,
              "#7201a8"
             ],
             [
              0.3333333333333333,
              "#9c179e"
             ],
             [
              0.4444444444444444,
              "#bd3786"
             ],
             [
              0.5555555555555556,
              "#d8576b"
             ],
             [
              0.6666666666666666,
              "#ed7953"
             ],
             [
              0.7777777777777778,
              "#fb9f3a"
             ],
             [
              0.8888888888888888,
              "#fdca26"
             ],
             [
              1,
              "#f0f921"
             ]
            ],
            "type": "heatmapgl"
           }
          ],
          "histogram": [
           {
            "marker": {
             "pattern": {
              "fillmode": "overlay",
              "size": 10,
              "solidity": 0.2
             }
            },
            "type": "histogram"
           }
          ],
          "histogram2d": [
           {
            "colorbar": {
             "outlinewidth": 0,
             "ticks": ""
            },
            "colorscale": [
             [
              0,
              "#0d0887"
             ],
             [
              0.1111111111111111,
              "#46039f"
             ],
             [
              0.2222222222222222,
              "#7201a8"
             ],
             [
              0.3333333333333333,
              "#9c179e"
             ],
             [
              0.4444444444444444,
              "#bd3786"
             ],
             [
              0.5555555555555556,
              "#d8576b"
             ],
             [
              0.6666666666666666,
              "#ed7953"
             ],
             [
              0.7777777777777778,
              "#fb9f3a"
             ],
             [
              0.8888888888888888,
              "#fdca26"
             ],
             [
              1,
              "#f0f921"
             ]
            ],
            "type": "histogram2d"
           }
          ],
          "histogram2dcontour": [
           {
            "colorbar": {
             "outlinewidth": 0,
             "ticks": ""
            },
            "colorscale": [
             [
              0,
              "#0d0887"
             ],
             [
              0.1111111111111111,
              "#46039f"
             ],
             [
              0.2222222222222222,
              "#7201a8"
             ],
             [
              0.3333333333333333,
              "#9c179e"
             ],
             [
              0.4444444444444444,
              "#bd3786"
             ],
             [
              0.5555555555555556,
              "#d8576b"
             ],
             [
              0.6666666666666666,
              "#ed7953"
             ],
             [
              0.7777777777777778,
              "#fb9f3a"
             ],
             [
              0.8888888888888888,
              "#fdca26"
             ],
             [
              1,
              "#f0f921"
             ]
            ],
            "type": "histogram2dcontour"
           }
          ],
          "mesh3d": [
           {
            "colorbar": {
             "outlinewidth": 0,
             "ticks": ""
            },
            "type": "mesh3d"
           }
          ],
          "parcoords": [
           {
            "line": {
             "colorbar": {
              "outlinewidth": 0,
              "ticks": ""
             }
            },
            "type": "parcoords"
           }
          ],
          "pie": [
           {
            "automargin": true,
            "type": "pie"
           }
          ],
          "scatter": [
           {
            "marker": {
             "colorbar": {
              "outlinewidth": 0,
              "ticks": ""
             }
            },
            "type": "scatter"
           }
          ],
          "scatter3d": [
           {
            "line": {
             "colorbar": {
              "outlinewidth": 0,
              "ticks": ""
             }
            },
            "marker": {
             "colorbar": {
              "outlinewidth": 0,
              "ticks": ""
             }
            },
            "type": "scatter3d"
           }
          ],
          "scattercarpet": [
           {
            "marker": {
             "colorbar": {
              "outlinewidth": 0,
              "ticks": ""
             }
            },
            "type": "scattercarpet"
           }
          ],
          "scattergeo": [
           {
            "marker": {
             "colorbar": {
              "outlinewidth": 0,
              "ticks": ""
             }
            },
            "type": "scattergeo"
           }
          ],
          "scattergl": [
           {
            "marker": {
             "colorbar": {
              "outlinewidth": 0,
              "ticks": ""
             }
            },
            "type": "scattergl"
           }
          ],
          "scattermapbox": [
           {
            "marker": {
             "colorbar": {
              "outlinewidth": 0,
              "ticks": ""
             }
            },
            "type": "scattermapbox"
           }
          ],
          "scatterpolar": [
           {
            "marker": {
             "colorbar": {
              "outlinewidth": 0,
              "ticks": ""
             }
            },
            "type": "scatterpolar"
           }
          ],
          "scatterpolargl": [
           {
            "marker": {
             "colorbar": {
              "outlinewidth": 0,
              "ticks": ""
             }
            },
            "type": "scatterpolargl"
           }
          ],
          "scatterternary": [
           {
            "marker": {
             "colorbar": {
              "outlinewidth": 0,
              "ticks": ""
             }
            },
            "type": "scatterternary"
           }
          ],
          "surface": [
           {
            "colorbar": {
             "outlinewidth": 0,
             "ticks": ""
            },
            "colorscale": [
             [
              0,
              "#0d0887"
             ],
             [
              0.1111111111111111,
              "#46039f"
             ],
             [
              0.2222222222222222,
              "#7201a8"
             ],
             [
              0.3333333333333333,
              "#9c179e"
             ],
             [
              0.4444444444444444,
              "#bd3786"
             ],
             [
              0.5555555555555556,
              "#d8576b"
             ],
             [
              0.6666666666666666,
              "#ed7953"
             ],
             [
              0.7777777777777778,
              "#fb9f3a"
             ],
             [
              0.8888888888888888,
              "#fdca26"
             ],
             [
              1,
              "#f0f921"
             ]
            ],
            "type": "surface"
           }
          ],
          "table": [
           {
            "cells": {
             "fill": {
              "color": "#EBF0F8"
             },
             "line": {
              "color": "white"
             }
            },
            "header": {
             "fill": {
              "color": "#C8D4E3"
             },
             "line": {
              "color": "white"
             }
            },
            "type": "table"
           }
          ]
         },
         "layout": {
          "annotationdefaults": {
           "arrowcolor": "#2a3f5f",
           "arrowhead": 0,
           "arrowwidth": 1
          },
          "autotypenumbers": "strict",
          "coloraxis": {
           "colorbar": {
            "outlinewidth": 0,
            "ticks": ""
           }
          },
          "colorscale": {
           "diverging": [
            [
             0,
             "#8e0152"
            ],
            [
             0.1,
             "#c51b7d"
            ],
            [
             0.2,
             "#de77ae"
            ],
            [
             0.3,
             "#f1b6da"
            ],
            [
             0.4,
             "#fde0ef"
            ],
            [
             0.5,
             "#f7f7f7"
            ],
            [
             0.6,
             "#e6f5d0"
            ],
            [
             0.7,
             "#b8e186"
            ],
            [
             0.8,
             "#7fbc41"
            ],
            [
             0.9,
             "#4d9221"
            ],
            [
             1,
             "#276419"
            ]
           ],
           "sequential": [
            [
             0,
             "#0d0887"
            ],
            [
             0.1111111111111111,
             "#46039f"
            ],
            [
             0.2222222222222222,
             "#7201a8"
            ],
            [
             0.3333333333333333,
             "#9c179e"
            ],
            [
             0.4444444444444444,
             "#bd3786"
            ],
            [
             0.5555555555555556,
             "#d8576b"
            ],
            [
             0.6666666666666666,
             "#ed7953"
            ],
            [
             0.7777777777777778,
             "#fb9f3a"
            ],
            [
             0.8888888888888888,
             "#fdca26"
            ],
            [
             1,
             "#f0f921"
            ]
           ],
           "sequentialminus": [
            [
             0,
             "#0d0887"
            ],
            [
             0.1111111111111111,
             "#46039f"
            ],
            [
             0.2222222222222222,
             "#7201a8"
            ],
            [
             0.3333333333333333,
             "#9c179e"
            ],
            [
             0.4444444444444444,
             "#bd3786"
            ],
            [
             0.5555555555555556,
             "#d8576b"
            ],
            [
             0.6666666666666666,
             "#ed7953"
            ],
            [
             0.7777777777777778,
             "#fb9f3a"
            ],
            [
             0.8888888888888888,
             "#fdca26"
            ],
            [
             1,
             "#f0f921"
            ]
           ]
          },
          "colorway": [
           "#636efa",
           "#EF553B",
           "#00cc96",
           "#ab63fa",
           "#FFA15A",
           "#19d3f3",
           "#FF6692",
           "#B6E880",
           "#FF97FF",
           "#FECB52"
          ],
          "font": {
           "color": "#2a3f5f"
          },
          "geo": {
           "bgcolor": "white",
           "lakecolor": "white",
           "landcolor": "#E5ECF6",
           "showlakes": true,
           "showland": true,
           "subunitcolor": "white"
          },
          "hoverlabel": {
           "align": "left"
          },
          "hovermode": "closest",
          "mapbox": {
           "style": "light"
          },
          "paper_bgcolor": "white",
          "plot_bgcolor": "#E5ECF6",
          "polar": {
           "angularaxis": {
            "gridcolor": "white",
            "linecolor": "white",
            "ticks": ""
           },
           "bgcolor": "#E5ECF6",
           "radialaxis": {
            "gridcolor": "white",
            "linecolor": "white",
            "ticks": ""
           }
          },
          "scene": {
           "xaxis": {
            "backgroundcolor": "#E5ECF6",
            "gridcolor": "white",
            "gridwidth": 2,
            "linecolor": "white",
            "showbackground": true,
            "ticks": "",
            "zerolinecolor": "white"
           },
           "yaxis": {
            "backgroundcolor": "#E5ECF6",
            "gridcolor": "white",
            "gridwidth": 2,
            "linecolor": "white",
            "showbackground": true,
            "ticks": "",
            "zerolinecolor": "white"
           },
           "zaxis": {
            "backgroundcolor": "#E5ECF6",
            "gridcolor": "white",
            "gridwidth": 2,
            "linecolor": "white",
            "showbackground": true,
            "ticks": "",
            "zerolinecolor": "white"
           }
          },
          "shapedefaults": {
           "line": {
            "color": "#2a3f5f"
           }
          },
          "ternary": {
           "aaxis": {
            "gridcolor": "white",
            "linecolor": "white",
            "ticks": ""
           },
           "baxis": {
            "gridcolor": "white",
            "linecolor": "white",
            "ticks": ""
           },
           "bgcolor": "#E5ECF6",
           "caxis": {
            "gridcolor": "white",
            "linecolor": "white",
            "ticks": ""
           }
          },
          "title": {
           "x": 0.05
          },
          "xaxis": {
           "automargin": true,
           "gridcolor": "white",
           "linecolor": "white",
           "ticks": "",
           "title": {
            "standoff": 15
           },
           "zerolinecolor": "white",
           "zerolinewidth": 2
          },
          "yaxis": {
           "automargin": true,
           "gridcolor": "white",
           "linecolor": "white",
           "ticks": "",
           "title": {
            "standoff": 15
           },
           "zerolinecolor": "white",
           "zerolinewidth": 2
          }
         }
        },
        "title": {
         "text": "<b>Market price and water value of reservoirs</b>"
        },
        "xaxis": {
         "title": {
          "text": "<b>Time</b> (Hour)"
         }
        },
        "yaxis": {
         "title": {
          "text": "<b>Price</b> (€/MWh)"
         }
        }
       }
      },
      "text/html": [
       "<div>                            <div id=\"913d257c-2aa1-46dc-b268-3fb50c461a7f\" class=\"plotly-graph-div\" style=\"height:525px; width:100%;\"></div>            <script type=\"text/javascript\">                require([\"plotly\"], function(Plotly) {                    window.PLOTLYENV=window.PLOTLYENV || {};                                    if (document.getElementById(\"913d257c-2aa1-46dc-b268-3fb50c461a7f\")) {                    Plotly.newPlot(                        \"913d257c-2aa1-46dc-b268-3fb50c461a7f\",                        [{\"marker\":{\"color\":\"rgb(33,102,172)\"},\"name\":\"Market price\",\"x\":[\"2018-01-23T00:00:00\",\"2018-01-23T01:00:00\",\"2018-01-23T02:00:00\",\"2018-01-23T03:00:00\",\"2018-01-23T04:00:00\",\"2018-01-23T05:00:00\",\"2018-01-23T06:00:00\",\"2018-01-23T07:00:00\",\"2018-01-23T08:00:00\",\"2018-01-23T09:00:00\",\"2018-01-23T10:00:00\",\"2018-01-23T11:00:00\",\"2018-01-23T12:00:00\",\"2018-01-23T13:00:00\",\"2018-01-23T14:00:00\",\"2018-01-23T15:00:00\",\"2018-01-23T16:00:00\",\"2018-01-23T17:00:00\",\"2018-01-23T18:00:00\",\"2018-01-23T19:00:00\",\"2018-01-23T20:00:00\",\"2018-01-23T21:00:00\",\"2018-01-23T22:00:00\",\"2018-01-23T23:00:00\",\"2018-01-24T00:00:00\",\"2018-01-24T01:00:00\",\"2018-01-24T02:00:00\",\"2018-01-24T03:00:00\",\"2018-01-24T04:00:00\",\"2018-01-24T05:00:00\",\"2018-01-24T06:00:00\",\"2018-01-24T07:00:00\",\"2018-01-24T08:00:00\",\"2018-01-24T09:00:00\",\"2018-01-24T10:00:00\",\"2018-01-24T11:00:00\",\"2018-01-24T12:00:00\",\"2018-01-24T13:00:00\",\"2018-01-24T14:00:00\",\"2018-01-24T15:00:00\",\"2018-01-24T16:00:00\",\"2018-01-24T17:00:00\",\"2018-01-24T18:00:00\",\"2018-01-24T19:00:00\",\"2018-01-24T20:00:00\",\"2018-01-24T21:00:00\",\"2018-01-24T22:00:00\",\"2018-01-24T23:00:00\",\"2018-01-25T00:00:00\",\"2018-01-25T01:00:00\",\"2018-01-25T02:00:00\",\"2018-01-25T03:00:00\",\"2018-01-25T04:00:00\",\"2018-01-25T05:00:00\",\"2018-01-25T06:00:00\",\"2018-01-25T07:00:00\",\"2018-01-25T08:00:00\",\"2018-01-25T09:00:00\",\"2018-01-25T10:00:00\",\"2018-01-25T11:00:00\",\"2018-01-25T12:00:00\",\"2018-01-25T13:00:00\",\"2018-01-25T14:00:00\",\"2018-01-25T15:00:00\",\"2018-01-25T16:00:00\",\"2018-01-25T17:00:00\",\"2018-01-25T18:00:00\",\"2018-01-25T19:00:00\",\"2018-01-25T20:00:00\",\"2018-01-25T21:00:00\",\"2018-01-25T22:00:00\",\"2018-01-25T23:00:00\"],\"y\":[32.992,31.122,29.312,28.072,30.012,33.362,42.682,74.822,77.732,62.332,55.892,46.962,42.582,40.942,39.212,39.142,41.672,46.922,37.102,32.992,31.272,29.752,28.782,28.082,27.242,26.622,25.732,25.392,25.992,27.402,28.942,32.182,33.082,32.342,30.912,30.162,30.062,29.562,29.462,29.512,29.672,30.072,29.552,28.862,28.412,28.072,27.162,25.502,26.192,25.222,24.052,23.892,23.682,26.092,28.202,30.902,31.572,31.462,31.172,30.912,30.572,30.602,30.632,31.062,32.082,36.262,34.472,32.182,31.492,30.732,29.712,28.982],\"type\":\"scatter\"},{\"line\":{\"dash\":\"dot\"},\"marker\":{\"color\":\"rgb(67,147,195)\"},\"name\":\"Water value of Reservoir1\",\"x\":[\"2018-01-23T00:00:00\",\"2018-01-23T01:00:00\",\"2018-01-23T02:00:00\",\"2018-01-23T03:00:00\",\"2018-01-23T04:00:00\",\"2018-01-23T05:00:00\",\"2018-01-23T06:00:00\",\"2018-01-23T07:00:00\",\"2018-01-23T08:00:00\",\"2018-01-23T09:00:00\",\"2018-01-23T10:00:00\",\"2018-01-23T11:00:00\",\"2018-01-23T12:00:00\",\"2018-01-23T13:00:00\",\"2018-01-23T14:00:00\",\"2018-01-23T15:00:00\",\"2018-01-23T16:00:00\",\"2018-01-23T17:00:00\",\"2018-01-23T18:00:00\",\"2018-01-23T19:00:00\",\"2018-01-23T20:00:00\",\"2018-01-23T21:00:00\",\"2018-01-23T22:00:00\",\"2018-01-23T23:00:00\",\"2018-01-24T00:00:00\",\"2018-01-24T01:00:00\",\"2018-01-24T02:00:00\",\"2018-01-24T03:00:00\",\"2018-01-24T04:00:00\",\"2018-01-24T05:00:00\",\"2018-01-24T06:00:00\",\"2018-01-24T07:00:00\",\"2018-01-24T08:00:00\",\"2018-01-24T09:00:00\",\"2018-01-24T10:00:00\",\"2018-01-24T11:00:00\",\"2018-01-24T12:00:00\",\"2018-01-24T13:00:00\",\"2018-01-24T14:00:00\",\"2018-01-24T15:00:00\",\"2018-01-24T16:00:00\",\"2018-01-24T17:00:00\",\"2018-01-24T18:00:00\",\"2018-01-24T19:00:00\",\"2018-01-24T20:00:00\",\"2018-01-24T21:00:00\",\"2018-01-24T22:00:00\",\"2018-01-24T23:00:00\",\"2018-01-25T00:00:00\",\"2018-01-25T01:00:00\",\"2018-01-25T02:00:00\",\"2018-01-25T03:00:00\",\"2018-01-25T04:00:00\",\"2018-01-25T05:00:00\",\"2018-01-25T06:00:00\",\"2018-01-25T07:00:00\",\"2018-01-25T08:00:00\",\"2018-01-25T09:00:00\",\"2018-01-25T10:00:00\",\"2018-01-25T11:00:00\",\"2018-01-25T12:00:00\",\"2018-01-25T13:00:00\",\"2018-01-25T14:00:00\",\"2018-01-25T15:00:00\",\"2018-01-25T16:00:00\",\"2018-01-25T17:00:00\",\"2018-01-25T18:00:00\",\"2018-01-25T19:00:00\",\"2018-01-25T20:00:00\",\"2018-01-25T21:00:00\",\"2018-01-25T22:00:00\",\"2018-01-25T23:00:00\"],\"y\":[30.0,30.0,30.0,30.0,30.0,30.0,30.0,30.0,30.0,30.0,30.0,30.0,30.0,30.0,30.0,30.0,30.0,30.0,30.0,30.0,30.0,30.0,30.0,30.0,30.0,30.0,30.0,30.0,30.0,30.0,30.0,30.0,30.0,30.0,30.0,30.0,30.0,30.0,30.0,30.0,30.0,30.0,30.0,30.0,30.0,30.0,30.0,30.0,30.0,30.0,30.0,30.0,30.0,30.0,30.0,30.0,30.0,30.0,30.0,30.0,30.0,30.0,30.0,30.0,30.0,30.0,30.0,30.0,30.0,30.0,30.0,30.0],\"type\":\"scatter\"},{\"line\":{\"dash\":\"dot\"},\"marker\":{\"color\":\"rgb(146,197,222)\"},\"name\":\"Water value of Reservoir2\",\"x\":[\"2018-01-23T00:00:00\",\"2018-01-23T01:00:00\",\"2018-01-23T02:00:00\",\"2018-01-23T03:00:00\",\"2018-01-23T04:00:00\",\"2018-01-23T05:00:00\",\"2018-01-23T06:00:00\",\"2018-01-23T07:00:00\",\"2018-01-23T08:00:00\",\"2018-01-23T09:00:00\",\"2018-01-23T10:00:00\",\"2018-01-23T11:00:00\",\"2018-01-23T12:00:00\",\"2018-01-23T13:00:00\",\"2018-01-23T14:00:00\",\"2018-01-23T15:00:00\",\"2018-01-23T16:00:00\",\"2018-01-23T17:00:00\",\"2018-01-23T18:00:00\",\"2018-01-23T19:00:00\",\"2018-01-23T20:00:00\",\"2018-01-23T21:00:00\",\"2018-01-23T22:00:00\",\"2018-01-23T23:00:00\",\"2018-01-24T00:00:00\",\"2018-01-24T01:00:00\",\"2018-01-24T02:00:00\",\"2018-01-24T03:00:00\",\"2018-01-24T04:00:00\",\"2018-01-24T05:00:00\",\"2018-01-24T06:00:00\",\"2018-01-24T07:00:00\",\"2018-01-24T08:00:00\",\"2018-01-24T09:00:00\",\"2018-01-24T10:00:00\",\"2018-01-24T11:00:00\",\"2018-01-24T12:00:00\",\"2018-01-24T13:00:00\",\"2018-01-24T14:00:00\",\"2018-01-24T15:00:00\",\"2018-01-24T16:00:00\",\"2018-01-24T17:00:00\",\"2018-01-24T18:00:00\",\"2018-01-24T19:00:00\",\"2018-01-24T20:00:00\",\"2018-01-24T21:00:00\",\"2018-01-24T22:00:00\",\"2018-01-24T23:00:00\",\"2018-01-25T00:00:00\",\"2018-01-25T01:00:00\",\"2018-01-25T02:00:00\",\"2018-01-25T03:00:00\",\"2018-01-25T04:00:00\",\"2018-01-25T05:00:00\",\"2018-01-25T06:00:00\",\"2018-01-25T07:00:00\",\"2018-01-25T08:00:00\",\"2018-01-25T09:00:00\",\"2018-01-25T10:00:00\",\"2018-01-25T11:00:00\",\"2018-01-25T12:00:00\",\"2018-01-25T13:00:00\",\"2018-01-25T14:00:00\",\"2018-01-25T15:00:00\",\"2018-01-25T16:00:00\",\"2018-01-25T17:00:00\",\"2018-01-25T18:00:00\",\"2018-01-25T19:00:00\",\"2018-01-25T20:00:00\",\"2018-01-25T21:00:00\",\"2018-01-25T22:00:00\",\"2018-01-25T23:00:00\"],\"y\":[10.0,10.0,10.0,10.0,10.0,10.0,10.0,10.0,10.0,10.0,10.0,10.0,10.0,10.0,10.0,10.0,10.0,10.0,10.0,10.0,10.0,10.0,10.0,10.0,10.0,10.0,10.0,10.0,10.0,10.0,10.0,10.0,10.0,10.0,10.0,10.0,10.0,10.0,10.0,10.0,10.0,10.0,10.0,10.0,10.0,10.0,10.0,10.0,10.0,10.0,10.0,10.0,10.0,10.0,10.0,10.0,10.0,10.0,10.0,10.0,10.0,10.0,10.0,10.0,10.0,10.0,10.0,10.0,10.0,10.0,10.0,10.0],\"type\":\"scatter\"}],                        {\"template\":{\"data\":{\"bar\":[{\"error_x\":{\"color\":\"#2a3f5f\"},\"error_y\":{\"color\":\"#2a3f5f\"},\"marker\":{\"line\":{\"color\":\"#E5ECF6\",\"width\":0.5},\"pattern\":{\"fillmode\":\"overlay\",\"size\":10,\"solidity\":0.2}},\"type\":\"bar\"}],\"barpolar\":[{\"marker\":{\"line\":{\"color\":\"#E5ECF6\",\"width\":0.5},\"pattern\":{\"fillmode\":\"overlay\",\"size\":10,\"solidity\":0.2}},\"type\":\"barpolar\"}],\"carpet\":[{\"aaxis\":{\"endlinecolor\":\"#2a3f5f\",\"gridcolor\":\"white\",\"linecolor\":\"white\",\"minorgridcolor\":\"white\",\"startlinecolor\":\"#2a3f5f\"},\"baxis\":{\"endlinecolor\":\"#2a3f5f\",\"gridcolor\":\"white\",\"linecolor\":\"white\",\"minorgridcolor\":\"white\",\"startlinecolor\":\"#2a3f5f\"},\"type\":\"carpet\"}],\"choropleth\":[{\"colorbar\":{\"outlinewidth\":0,\"ticks\":\"\"},\"type\":\"choropleth\"}],\"contour\":[{\"colorbar\":{\"outlinewidth\":0,\"ticks\":\"\"},\"colorscale\":[[0.0,\"#0d0887\"],[0.1111111111111111,\"#46039f\"],[0.2222222222222222,\"#7201a8\"],[0.3333333333333333,\"#9c179e\"],[0.4444444444444444,\"#bd3786\"],[0.5555555555555556,\"#d8576b\"],[0.6666666666666666,\"#ed7953\"],[0.7777777777777778,\"#fb9f3a\"],[0.8888888888888888,\"#fdca26\"],[1.0,\"#f0f921\"]],\"type\":\"contour\"}],\"contourcarpet\":[{\"colorbar\":{\"outlinewidth\":0,\"ticks\":\"\"},\"type\":\"contourcarpet\"}],\"heatmap\":[{\"colorbar\":{\"outlinewidth\":0,\"ticks\":\"\"},\"colorscale\":[[0.0,\"#0d0887\"],[0.1111111111111111,\"#46039f\"],[0.2222222222222222,\"#7201a8\"],[0.3333333333333333,\"#9c179e\"],[0.4444444444444444,\"#bd3786\"],[0.5555555555555556,\"#d8576b\"],[0.6666666666666666,\"#ed7953\"],[0.7777777777777778,\"#fb9f3a\"],[0.8888888888888888,\"#fdca26\"],[1.0,\"#f0f921\"]],\"type\":\"heatmap\"}],\"heatmapgl\":[{\"colorbar\":{\"outlinewidth\":0,\"ticks\":\"\"},\"colorscale\":[[0.0,\"#0d0887\"],[0.1111111111111111,\"#46039f\"],[0.2222222222222222,\"#7201a8\"],[0.3333333333333333,\"#9c179e\"],[0.4444444444444444,\"#bd3786\"],[0.5555555555555556,\"#d8576b\"],[0.6666666666666666,\"#ed7953\"],[0.7777777777777778,\"#fb9f3a\"],[0.8888888888888888,\"#fdca26\"],[1.0,\"#f0f921\"]],\"type\":\"heatmapgl\"}],\"histogram\":[{\"marker\":{\"pattern\":{\"fillmode\":\"overlay\",\"size\":10,\"solidity\":0.2}},\"type\":\"histogram\"}],\"histogram2d\":[{\"colorbar\":{\"outlinewidth\":0,\"ticks\":\"\"},\"colorscale\":[[0.0,\"#0d0887\"],[0.1111111111111111,\"#46039f\"],[0.2222222222222222,\"#7201a8\"],[0.3333333333333333,\"#9c179e\"],[0.4444444444444444,\"#bd3786\"],[0.5555555555555556,\"#d8576b\"],[0.6666666666666666,\"#ed7953\"],[0.7777777777777778,\"#fb9f3a\"],[0.8888888888888888,\"#fdca26\"],[1.0,\"#f0f921\"]],\"type\":\"histogram2d\"}],\"histogram2dcontour\":[{\"colorbar\":{\"outlinewidth\":0,\"ticks\":\"\"},\"colorscale\":[[0.0,\"#0d0887\"],[0.1111111111111111,\"#46039f\"],[0.2222222222222222,\"#7201a8\"],[0.3333333333333333,\"#9c179e\"],[0.4444444444444444,\"#bd3786\"],[0.5555555555555556,\"#d8576b\"],[0.6666666666666666,\"#ed7953\"],[0.7777777777777778,\"#fb9f3a\"],[0.8888888888888888,\"#fdca26\"],[1.0,\"#f0f921\"]],\"type\":\"histogram2dcontour\"}],\"mesh3d\":[{\"colorbar\":{\"outlinewidth\":0,\"ticks\":\"\"},\"type\":\"mesh3d\"}],\"parcoords\":[{\"line\":{\"colorbar\":{\"outlinewidth\":0,\"ticks\":\"\"}},\"type\":\"parcoords\"}],\"pie\":[{\"automargin\":true,\"type\":\"pie\"}],\"scatter\":[{\"marker\":{\"colorbar\":{\"outlinewidth\":0,\"ticks\":\"\"}},\"type\":\"scatter\"}],\"scatter3d\":[{\"line\":{\"colorbar\":{\"outlinewidth\":0,\"ticks\":\"\"}},\"marker\":{\"colorbar\":{\"outlinewidth\":0,\"ticks\":\"\"}},\"type\":\"scatter3d\"}],\"scattercarpet\":[{\"marker\":{\"colorbar\":{\"outlinewidth\":0,\"ticks\":\"\"}},\"type\":\"scattercarpet\"}],\"scattergeo\":[{\"marker\":{\"colorbar\":{\"outlinewidth\":0,\"ticks\":\"\"}},\"type\":\"scattergeo\"}],\"scattergl\":[{\"marker\":{\"colorbar\":{\"outlinewidth\":0,\"ticks\":\"\"}},\"type\":\"scattergl\"}],\"scattermapbox\":[{\"marker\":{\"colorbar\":{\"outlinewidth\":0,\"ticks\":\"\"}},\"type\":\"scattermapbox\"}],\"scatterpolar\":[{\"marker\":{\"colorbar\":{\"outlinewidth\":0,\"ticks\":\"\"}},\"type\":\"scatterpolar\"}],\"scatterpolargl\":[{\"marker\":{\"colorbar\":{\"outlinewidth\":0,\"ticks\":\"\"}},\"type\":\"scatterpolargl\"}],\"scatterternary\":[{\"marker\":{\"colorbar\":{\"outlinewidth\":0,\"ticks\":\"\"}},\"type\":\"scatterternary\"}],\"surface\":[{\"colorbar\":{\"outlinewidth\":0,\"ticks\":\"\"},\"colorscale\":[[0.0,\"#0d0887\"],[0.1111111111111111,\"#46039f\"],[0.2222222222222222,\"#7201a8\"],[0.3333333333333333,\"#9c179e\"],[0.4444444444444444,\"#bd3786\"],[0.5555555555555556,\"#d8576b\"],[0.6666666666666666,\"#ed7953\"],[0.7777777777777778,\"#fb9f3a\"],[0.8888888888888888,\"#fdca26\"],[1.0,\"#f0f921\"]],\"type\":\"surface\"}],\"table\":[{\"cells\":{\"fill\":{\"color\":\"#EBF0F8\"},\"line\":{\"color\":\"white\"}},\"header\":{\"fill\":{\"color\":\"#C8D4E3\"},\"line\":{\"color\":\"white\"}},\"type\":\"table\"}]},\"layout\":{\"annotationdefaults\":{\"arrowcolor\":\"#2a3f5f\",\"arrowhead\":0,\"arrowwidth\":1},\"autotypenumbers\":\"strict\",\"coloraxis\":{\"colorbar\":{\"outlinewidth\":0,\"ticks\":\"\"}},\"colorscale\":{\"diverging\":[[0,\"#8e0152\"],[0.1,\"#c51b7d\"],[0.2,\"#de77ae\"],[0.3,\"#f1b6da\"],[0.4,\"#fde0ef\"],[0.5,\"#f7f7f7\"],[0.6,\"#e6f5d0\"],[0.7,\"#b8e186\"],[0.8,\"#7fbc41\"],[0.9,\"#4d9221\"],[1,\"#276419\"]],\"sequential\":[[0.0,\"#0d0887\"],[0.1111111111111111,\"#46039f\"],[0.2222222222222222,\"#7201a8\"],[0.3333333333333333,\"#9c179e\"],[0.4444444444444444,\"#bd3786\"],[0.5555555555555556,\"#d8576b\"],[0.6666666666666666,\"#ed7953\"],[0.7777777777777778,\"#fb9f3a\"],[0.8888888888888888,\"#fdca26\"],[1.0,\"#f0f921\"]],\"sequentialminus\":[[0.0,\"#0d0887\"],[0.1111111111111111,\"#46039f\"],[0.2222222222222222,\"#7201a8\"],[0.3333333333333333,\"#9c179e\"],[0.4444444444444444,\"#bd3786\"],[0.5555555555555556,\"#d8576b\"],[0.6666666666666666,\"#ed7953\"],[0.7777777777777778,\"#fb9f3a\"],[0.8888888888888888,\"#fdca26\"],[1.0,\"#f0f921\"]]},\"colorway\":[\"#636efa\",\"#EF553B\",\"#00cc96\",\"#ab63fa\",\"#FFA15A\",\"#19d3f3\",\"#FF6692\",\"#B6E880\",\"#FF97FF\",\"#FECB52\"],\"font\":{\"color\":\"#2a3f5f\"},\"geo\":{\"bgcolor\":\"white\",\"lakecolor\":\"white\",\"landcolor\":\"#E5ECF6\",\"showlakes\":true,\"showland\":true,\"subunitcolor\":\"white\"},\"hoverlabel\":{\"align\":\"left\"},\"hovermode\":\"closest\",\"mapbox\":{\"style\":\"light\"},\"paper_bgcolor\":\"white\",\"plot_bgcolor\":\"#E5ECF6\",\"polar\":{\"angularaxis\":{\"gridcolor\":\"white\",\"linecolor\":\"white\",\"ticks\":\"\"},\"bgcolor\":\"#E5ECF6\",\"radialaxis\":{\"gridcolor\":\"white\",\"linecolor\":\"white\",\"ticks\":\"\"}},\"scene\":{\"xaxis\":{\"backgroundcolor\":\"#E5ECF6\",\"gridcolor\":\"white\",\"gridwidth\":2,\"linecolor\":\"white\",\"showbackground\":true,\"ticks\":\"\",\"zerolinecolor\":\"white\"},\"yaxis\":{\"backgroundcolor\":\"#E5ECF6\",\"gridcolor\":\"white\",\"gridwidth\":2,\"linecolor\":\"white\",\"showbackground\":true,\"ticks\":\"\",\"zerolinecolor\":\"white\"},\"zaxis\":{\"backgroundcolor\":\"#E5ECF6\",\"gridcolor\":\"white\",\"gridwidth\":2,\"linecolor\":\"white\",\"showbackground\":true,\"ticks\":\"\",\"zerolinecolor\":\"white\"}},\"shapedefaults\":{\"line\":{\"color\":\"#2a3f5f\"}},\"ternary\":{\"aaxis\":{\"gridcolor\":\"white\",\"linecolor\":\"white\",\"ticks\":\"\"},\"baxis\":{\"gridcolor\":\"white\",\"linecolor\":\"white\",\"ticks\":\"\"},\"bgcolor\":\"#E5ECF6\",\"caxis\":{\"gridcolor\":\"white\",\"linecolor\":\"white\",\"ticks\":\"\"}},\"title\":{\"x\":0.05},\"xaxis\":{\"automargin\":true,\"gridcolor\":\"white\",\"linecolor\":\"white\",\"ticks\":\"\",\"title\":{\"standoff\":15},\"zerolinecolor\":\"white\",\"zerolinewidth\":2},\"yaxis\":{\"automargin\":true,\"gridcolor\":\"white\",\"linecolor\":\"white\",\"ticks\":\"\",\"title\":{\"standoff\":15},\"zerolinecolor\":\"white\",\"zerolinewidth\":2}}},\"title\":{\"text\":\"<b>Market price and water value of reservoirs</b>\"},\"xaxis\":{\"title\":{\"text\":\"<b>Time</b> (Hour)\"}},\"yaxis\":{\"title\":{\"text\":\"<b>Price</b> (\\u20ac/MWh)\"}}},                        {\"responsive\": true}                    ).then(function(){\n",
       "                            \n",
       "var gd = document.getElementById('913d257c-2aa1-46dc-b268-3fb50c461a7f');\n",
       "var x = new MutationObserver(function (mutations, observer) {{\n",
       "        var display = window.getComputedStyle(gd).display;\n",
       "        if (!display || display === 'none') {{\n",
       "            console.log([gd, 'removed!']);\n",
       "            Plotly.purge(gd);\n",
       "            observer.disconnect();\n",
       "        }}\n",
       "}});\n",
       "\n",
       "// Listen for the removal of the full notebook cells\n",
       "var notebookContainer = gd.closest('#notebook-container');\n",
       "if (notebookContainer) {{\n",
       "    x.observe(notebookContainer, {childList: true});\n",
       "}}\n",
       "\n",
       "// Listen for the clearing of the current output cell\n",
       "var outputEl = gd.closest('.output');\n",
       "if (outputEl) {{\n",
       "    x.observe(outputEl, {childList: true});\n",
       "}}\n",
       "\n",
       "                        })                };                });            </script>        </div>"
      ]
     },
     "metadata": {},
     "output_type": "display_data"
    }
   ],
   "source": [
    "# Plot market price and water value of reservoirs\n",
    "spot_price=shop.model.market.Day_ahead.sale_price.get()\n",
    "end_water_value=shop.model.reservoir.Reservoir1.energy_value_input.get()\n",
    "water_value=pd.Series(dtype=object,index=spot_price.index)\n",
    "water_value=water_value.fillna(end_water_value)\n",
    "\n",
    "\n",
    "fig = go.Figure()\n",
    "colorscale = px.colors.sequential.RdBu_r\n",
    "color = 1\n",
    "fig.add_trace(go.Scatter(x=spot_price.index, marker_color = colorscale[color], y=spot_price.values, name=\"Market price\"))\n",
    "\n",
    "for rsv in shop.model.reservoir:\n",
    "    color+=1\n",
    "    end_water_value=rsv.energy_value_input.get()\n",
    "    water_value=pd.Series(dtype=object,index=spot_price.index)\n",
    "    water_value=water_value.fillna(end_water_value)\n",
    "    curve_name=\"Water value of \"+rsv.get_name()\n",
    "    fig.add_trace(go.Scatter(x=water_value.index, y=water_value.values, marker_color = colorscale[color], name=curve_name, line=dict(dash=\"dot\")))\n",
    "    \n",
    "fig.update_layout(title=\"<b>Market price and water value of reservoirs</b>\", xaxis_title=\"<b>Time</b> (Hour)\", yaxis_title=\"<b>Price</b> (€/MWh)\")\n",
    "\n",
    "fig.show()"
   ]
  },
  {
   "cell_type": "markdown",
   "metadata": {
    "Collapsed": "false"
   },
   "source": [
    "## Running SHOP"
   ]
  },
  {
   "cell_type": "markdown",
   "metadata": {
    "Collapsed": "false"
   },
   "source": [
    "Once the model is fully defined, we can prepare for a call to the optimizer. It is possible to define certain criteria depending on the solver used, if not, default values will be effective. \n",
    "\n",
    "In order to find an optimal solution, it is normal to run SHOP with multiple iterations, both full and incremental."
   ]
  },
  {
   "cell_type": "code",
   "execution_count": 32,
   "metadata": {
    "Collapsed": "false"
   },
   "outputs": [
    {
     "data": {
      "text/plain": [
       "True"
      ]
     },
     "execution_count": 32,
     "metadata": {},
     "output_type": "execute_result"
    }
   ],
   "source": [
    "# Setting a full flag, telling SHOP the upcomming iterations should be full\n",
    "shop.set_code(['full'], [])\n",
    "\n",
    "# Starting SHOP and running five (full) iterations\n",
    "shop.start_sim([], ['5'])\n",
    "\n",
    "# Setting an incremental flag, telling SHOP the next iterations should be incremental\n",
    "shop.set_code(['incremental'], [])\n",
    "\n",
    "# Running three more (incremental) iterations\n",
    "shop.start_sim([], ['3'])"
   ]
  },
  {
   "cell_type": "markdown",
   "metadata": {
    "Collapsed": "false"
   },
   "source": [
    "## Results"
   ]
  },
  {
   "cell_type": "markdown",
   "metadata": {
    "Collapsed": "false"
   },
   "source": [
    "After the optimization has completed, we can review the result from SHOP by plotting the graphs we want. "
   ]
  },
  {
   "cell_type": "code",
   "execution_count": 33,
   "metadata": {
    "Collapsed": "false"
   },
   "outputs": [
    {
     "data": {
      "application/vnd.plotly.v1+json": {
       "config": {
        "plotlyServerURL": "https://plot.ly"
       },
       "data": [
        {
         "marker": {
          "color": "rgb(33,102,172)"
         },
         "name": "P1",
         "type": "bar",
         "x": [
          "2018-01-23T00:00:00",
          "2018-01-23T01:00:00",
          "2018-01-23T02:00:00",
          "2018-01-23T03:00:00",
          "2018-01-23T04:00:00",
          "2018-01-23T05:00:00",
          "2018-01-23T06:00:00",
          "2018-01-23T07:00:00",
          "2018-01-23T08:00:00",
          "2018-01-23T09:00:00",
          "2018-01-23T10:00:00",
          "2018-01-23T11:00:00",
          "2018-01-23T12:00:00",
          "2018-01-23T13:00:00",
          "2018-01-23T14:00:00",
          "2018-01-23T15:00:00",
          "2018-01-23T16:00:00",
          "2018-01-23T17:00:00",
          "2018-01-23T18:00:00",
          "2018-01-23T19:00:00",
          "2018-01-23T20:00:00",
          "2018-01-23T21:00:00",
          "2018-01-23T22:00:00",
          "2018-01-23T23:00:00",
          "2018-01-24T00:00:00",
          "2018-01-24T01:00:00",
          "2018-01-24T02:00:00",
          "2018-01-24T03:00:00",
          "2018-01-24T04:00:00",
          "2018-01-24T05:00:00",
          "2018-01-24T06:00:00",
          "2018-01-24T07:00:00",
          "2018-01-24T08:00:00",
          "2018-01-24T09:00:00",
          "2018-01-24T10:00:00",
          "2018-01-24T11:00:00",
          "2018-01-24T12:00:00",
          "2018-01-24T13:00:00",
          "2018-01-24T14:00:00",
          "2018-01-24T15:00:00",
          "2018-01-24T16:00:00",
          "2018-01-24T17:00:00",
          "2018-01-24T18:00:00",
          "2018-01-24T19:00:00",
          "2018-01-24T20:00:00",
          "2018-01-24T21:00:00",
          "2018-01-24T22:00:00",
          "2018-01-24T23:00:00",
          "2018-01-25T00:00:00",
          "2018-01-25T01:00:00",
          "2018-01-25T02:00:00",
          "2018-01-25T03:00:00",
          "2018-01-25T04:00:00",
          "2018-01-25T05:00:00",
          "2018-01-25T06:00:00",
          "2018-01-25T07:00:00",
          "2018-01-25T08:00:00",
          "2018-01-25T09:00:00",
          "2018-01-25T10:00:00",
          "2018-01-25T11:00:00",
          "2018-01-25T12:00:00",
          "2018-01-25T13:00:00",
          "2018-01-25T14:00:00",
          "2018-01-25T15:00:00",
          "2018-01-25T16:00:00",
          "2018-01-25T17:00:00",
          "2018-01-25T18:00:00",
          "2018-01-25T19:00:00",
          "2018-01-25T20:00:00",
          "2018-01-25T21:00:00",
          "2018-01-25T22:00:00",
          "2018-01-25T23:00:00"
         ],
         "y": [
          216.12403832592966,
          207.41068565930502,
          207.09621187805328,
          179.76034397905835,
          206.50934326257257,
          214.50915837718267,
          229.08263239859022,
          228.6760644420338,
          228.26877838926742,
          227.86158070477615,
          227.4544713885598,
          227.0474504406185,
          226.6405178609522,
          226.2200922433991,
          225.7974936237767,
          225.3749903924084,
          224.9525825492945,
          224.53027009443494,
          216.98410422916848,
          201.09277243049036,
          200.7609018907916,
          200.42909779910704,
          175.212805881276,
          103.95591724292548,
          103.87260485546628,
          0,
          0,
          0,
          0,
          103.78930077400881,
          174.67684185211928,
          199.02112378068972,
          198.68966825000973,
          198.3582791673441,
          198.02695653269268,
          197.6957003460556,
          173.33769742736962,
          173.1270684813997,
          172.9078201365051,
          172.68851750647997,
          172.5834140069299,
          172.3764493498594,
          172.16692285117057,
          101.57550850819489,
          101.47808922815183,
          101.38068137035091,
          0,
          0,
          0,
          0,
          0,
          0,
          0,
          0,
          101.28328493479209,
          171.41524914414543,
          193.95441720195512,
          193.566925370398,
          170.66884827145535,
          170.4360751299547,
          170.20404301023746,
          169.9737664925102,
          169.74340805201103,
          169.50915441521892,
          169.26051127574613,
          190.6013258532173,
          190.17018299333043,
          168.45054253601725,
          168.20526467060324,
          98.50348215820401,
          0,
          0
         ]
        },
        {
         "marker": {
          "color": "rgb(67,147,195)"
         },
         "name": "P2",
         "type": "bar",
         "x": [
          "2018-01-23T00:00:00",
          "2018-01-23T01:00:00",
          "2018-01-23T02:00:00",
          "2018-01-23T03:00:00",
          "2018-01-23T04:00:00",
          "2018-01-23T05:00:00",
          "2018-01-23T06:00:00",
          "2018-01-23T07:00:00",
          "2018-01-23T08:00:00",
          "2018-01-23T09:00:00",
          "2018-01-23T10:00:00",
          "2018-01-23T11:00:00",
          "2018-01-23T12:00:00",
          "2018-01-23T13:00:00",
          "2018-01-23T14:00:00",
          "2018-01-23T15:00:00",
          "2018-01-23T16:00:00",
          "2018-01-23T17:00:00",
          "2018-01-23T18:00:00",
          "2018-01-23T19:00:00",
          "2018-01-23T20:00:00",
          "2018-01-23T21:00:00",
          "2018-01-23T22:00:00",
          "2018-01-23T23:00:00",
          "2018-01-24T00:00:00",
          "2018-01-24T01:00:00",
          "2018-01-24T02:00:00",
          "2018-01-24T03:00:00",
          "2018-01-24T04:00:00",
          "2018-01-24T05:00:00",
          "2018-01-24T06:00:00",
          "2018-01-24T07:00:00",
          "2018-01-24T08:00:00",
          "2018-01-24T09:00:00",
          "2018-01-24T10:00:00",
          "2018-01-24T11:00:00",
          "2018-01-24T12:00:00",
          "2018-01-24T13:00:00",
          "2018-01-24T14:00:00",
          "2018-01-24T15:00:00",
          "2018-01-24T16:00:00",
          "2018-01-24T17:00:00",
          "2018-01-24T18:00:00",
          "2018-01-24T19:00:00",
          "2018-01-24T20:00:00",
          "2018-01-24T21:00:00",
          "2018-01-24T22:00:00",
          "2018-01-24T23:00:00",
          "2018-01-25T00:00:00",
          "2018-01-25T01:00:00",
          "2018-01-25T02:00:00",
          "2018-01-25T03:00:00",
          "2018-01-25T04:00:00",
          "2018-01-25T05:00:00",
          "2018-01-25T06:00:00",
          "2018-01-25T07:00:00",
          "2018-01-25T08:00:00",
          "2018-01-25T09:00:00",
          "2018-01-25T10:00:00",
          "2018-01-25T11:00:00",
          "2018-01-25T12:00:00",
          "2018-01-25T13:00:00",
          "2018-01-25T14:00:00",
          "2018-01-25T15:00:00",
          "2018-01-25T16:00:00",
          "2018-01-25T17:00:00",
          "2018-01-25T18:00:00",
          "2018-01-25T19:00:00",
          "2018-01-25T20:00:00",
          "2018-01-25T21:00:00",
          "2018-01-25T22:00:00",
          "2018-01-25T23:00:00"
         ],
         "y": [
          268.9929605052747,
          198.2616544327681,
          0,
          0,
          143.50110295796836,
          269.2450186894642,
          327.3671467169055,
          340.2151457534567,
          339.61181211799743,
          338.98029243401743,
          338.3033719893316,
          329.6493658899007,
          324.2682864000606,
          323.72605761017235,
          323.1550330836074,
          322.5797232636822,
          322.0018985709553,
          326.0791399972496,
          320.79760961013966,
          289.68263487405,
          288.7081114567728,
          209.10085828895546,
          208.81819206124482,
          191.7926807923525,
          136.54913156457235,
          133.1696075093011,
          0,
          0,
          0,
          136.50222730533812,
          207.90098518467886,
          285.0435556776518,
          291.9011986383631,
          290.77233045280997,
          281.8153493641398,
          280.73892993923164,
          279.6615621613395,
          245.6287131335704,
          244.80454897505956,
          243.90876763136652,
          275.6651216508379,
          274.42486896729395,
          265.7659781615882,
          239.52469593281086,
          199.46187477370344,
          198.94660361669924,
          196.48590567132177,
          129.25919019279806,
          129.1317534710628,
          128.69790639819604,
          0,
          0,
          0,
          128.94764218465423,
          233.90365522334469,
          271.77869688404184,
          270.3877245462438,
          268.84230115996655,
          267.29467790895785,
          265.6047113890069,
          263.77161759250043,
          262.0359521157073,
          260.35491364006174,
          258.4477957337566,
          262.66952116287064,
          268.33375529103523,
          265.89967557766306,
          256.22092837159414,
          253.94985539986587,
          251.63354774428828,
          248.91263563072744,
          240.17718642101033
         ]
        },
        {
         "line": {
          "color": "black"
         },
         "name": "Price",
         "type": "scatter",
         "x": [
          "2018-01-23T00:00:00",
          "2018-01-23T01:00:00",
          "2018-01-23T02:00:00",
          "2018-01-23T03:00:00",
          "2018-01-23T04:00:00",
          "2018-01-23T05:00:00",
          "2018-01-23T06:00:00",
          "2018-01-23T07:00:00",
          "2018-01-23T08:00:00",
          "2018-01-23T09:00:00",
          "2018-01-23T10:00:00",
          "2018-01-23T11:00:00",
          "2018-01-23T12:00:00",
          "2018-01-23T13:00:00",
          "2018-01-23T14:00:00",
          "2018-01-23T15:00:00",
          "2018-01-23T16:00:00",
          "2018-01-23T17:00:00",
          "2018-01-23T18:00:00",
          "2018-01-23T19:00:00",
          "2018-01-23T20:00:00",
          "2018-01-23T21:00:00",
          "2018-01-23T22:00:00",
          "2018-01-23T23:00:00",
          "2018-01-24T00:00:00",
          "2018-01-24T01:00:00",
          "2018-01-24T02:00:00",
          "2018-01-24T03:00:00",
          "2018-01-24T04:00:00",
          "2018-01-24T05:00:00",
          "2018-01-24T06:00:00",
          "2018-01-24T07:00:00",
          "2018-01-24T08:00:00",
          "2018-01-24T09:00:00",
          "2018-01-24T10:00:00",
          "2018-01-24T11:00:00",
          "2018-01-24T12:00:00",
          "2018-01-24T13:00:00",
          "2018-01-24T14:00:00",
          "2018-01-24T15:00:00",
          "2018-01-24T16:00:00",
          "2018-01-24T17:00:00",
          "2018-01-24T18:00:00",
          "2018-01-24T19:00:00",
          "2018-01-24T20:00:00",
          "2018-01-24T21:00:00",
          "2018-01-24T22:00:00",
          "2018-01-24T23:00:00",
          "2018-01-25T00:00:00",
          "2018-01-25T01:00:00",
          "2018-01-25T02:00:00",
          "2018-01-25T03:00:00",
          "2018-01-25T04:00:00",
          "2018-01-25T05:00:00",
          "2018-01-25T06:00:00",
          "2018-01-25T07:00:00",
          "2018-01-25T08:00:00",
          "2018-01-25T09:00:00",
          "2018-01-25T10:00:00",
          "2018-01-25T11:00:00",
          "2018-01-25T12:00:00",
          "2018-01-25T13:00:00",
          "2018-01-25T14:00:00",
          "2018-01-25T15:00:00",
          "2018-01-25T16:00:00",
          "2018-01-25T17:00:00",
          "2018-01-25T18:00:00",
          "2018-01-25T19:00:00",
          "2018-01-25T20:00:00",
          "2018-01-25T21:00:00",
          "2018-01-25T22:00:00",
          "2018-01-25T23:00:00"
         ],
         "xaxis": "x",
         "y": [
          32.992,
          31.122,
          29.312,
          28.072,
          30.012,
          33.362,
          42.682,
          74.822,
          77.732,
          62.332,
          55.892,
          46.962,
          42.582,
          40.942,
          39.212,
          39.142,
          41.672,
          46.922,
          37.102,
          32.992,
          31.272,
          29.752,
          28.782,
          28.082,
          27.242,
          26.622,
          25.732,
          25.392,
          25.992,
          27.402,
          28.942,
          32.182,
          33.082,
          32.342,
          30.912,
          30.162,
          30.062,
          29.562,
          29.462,
          29.512,
          29.672,
          30.072,
          29.552,
          28.862,
          28.412,
          28.072,
          27.162,
          25.502,
          26.192,
          25.222,
          24.052,
          23.892,
          23.682,
          26.092,
          28.202,
          30.902,
          31.572,
          31.462,
          31.172,
          30.912,
          30.572,
          30.602,
          30.632,
          31.062,
          32.082,
          36.262,
          34.472,
          32.182,
          31.492,
          30.732,
          29.712,
          28.982
         ],
         "yaxis": "y2"
        }
       ],
       "layout": {
        "barmode": "stack",
        "template": {
         "data": {
          "bar": [
           {
            "error_x": {
             "color": "#2a3f5f"
            },
            "error_y": {
             "color": "#2a3f5f"
            },
            "marker": {
             "line": {
              "color": "#E5ECF6",
              "width": 0.5
             },
             "pattern": {
              "fillmode": "overlay",
              "size": 10,
              "solidity": 0.2
             }
            },
            "type": "bar"
           }
          ],
          "barpolar": [
           {
            "marker": {
             "line": {
              "color": "#E5ECF6",
              "width": 0.5
             },
             "pattern": {
              "fillmode": "overlay",
              "size": 10,
              "solidity": 0.2
             }
            },
            "type": "barpolar"
           }
          ],
          "carpet": [
           {
            "aaxis": {
             "endlinecolor": "#2a3f5f",
             "gridcolor": "white",
             "linecolor": "white",
             "minorgridcolor": "white",
             "startlinecolor": "#2a3f5f"
            },
            "baxis": {
             "endlinecolor": "#2a3f5f",
             "gridcolor": "white",
             "linecolor": "white",
             "minorgridcolor": "white",
             "startlinecolor": "#2a3f5f"
            },
            "type": "carpet"
           }
          ],
          "choropleth": [
           {
            "colorbar": {
             "outlinewidth": 0,
             "ticks": ""
            },
            "type": "choropleth"
           }
          ],
          "contour": [
           {
            "colorbar": {
             "outlinewidth": 0,
             "ticks": ""
            },
            "colorscale": [
             [
              0,
              "#0d0887"
             ],
             [
              0.1111111111111111,
              "#46039f"
             ],
             [
              0.2222222222222222,
              "#7201a8"
             ],
             [
              0.3333333333333333,
              "#9c179e"
             ],
             [
              0.4444444444444444,
              "#bd3786"
             ],
             [
              0.5555555555555556,
              "#d8576b"
             ],
             [
              0.6666666666666666,
              "#ed7953"
             ],
             [
              0.7777777777777778,
              "#fb9f3a"
             ],
             [
              0.8888888888888888,
              "#fdca26"
             ],
             [
              1,
              "#f0f921"
             ]
            ],
            "type": "contour"
           }
          ],
          "contourcarpet": [
           {
            "colorbar": {
             "outlinewidth": 0,
             "ticks": ""
            },
            "type": "contourcarpet"
           }
          ],
          "heatmap": [
           {
            "colorbar": {
             "outlinewidth": 0,
             "ticks": ""
            },
            "colorscale": [
             [
              0,
              "#0d0887"
             ],
             [
              0.1111111111111111,
              "#46039f"
             ],
             [
              0.2222222222222222,
              "#7201a8"
             ],
             [
              0.3333333333333333,
              "#9c179e"
             ],
             [
              0.4444444444444444,
              "#bd3786"
             ],
             [
              0.5555555555555556,
              "#d8576b"
             ],
             [
              0.6666666666666666,
              "#ed7953"
             ],
             [
              0.7777777777777778,
              "#fb9f3a"
             ],
             [
              0.8888888888888888,
              "#fdca26"
             ],
             [
              1,
              "#f0f921"
             ]
            ],
            "type": "heatmap"
           }
          ],
          "heatmapgl": [
           {
            "colorbar": {
             "outlinewidth": 0,
             "ticks": ""
            },
            "colorscale": [
             [
              0,
              "#0d0887"
             ],
             [
              0.1111111111111111,
              "#46039f"
             ],
             [
              0.2222222222222222,
              "#7201a8"
             ],
             [
              0.3333333333333333,
              "#9c179e"
             ],
             [
              0.4444444444444444,
              "#bd3786"
             ],
             [
              0.5555555555555556,
              "#d8576b"
             ],
             [
              0.6666666666666666,
              "#ed7953"
             ],
             [
              0.7777777777777778,
              "#fb9f3a"
             ],
             [
              0.8888888888888888,
              "#fdca26"
             ],
             [
              1,
              "#f0f921"
             ]
            ],
            "type": "heatmapgl"
           }
          ],
          "histogram": [
           {
            "marker": {
             "pattern": {
              "fillmode": "overlay",
              "size": 10,
              "solidity": 0.2
             }
            },
            "type": "histogram"
           }
          ],
          "histogram2d": [
           {
            "colorbar": {
             "outlinewidth": 0,
             "ticks": ""
            },
            "colorscale": [
             [
              0,
              "#0d0887"
             ],
             [
              0.1111111111111111,
              "#46039f"
             ],
             [
              0.2222222222222222,
              "#7201a8"
             ],
             [
              0.3333333333333333,
              "#9c179e"
             ],
             [
              0.4444444444444444,
              "#bd3786"
             ],
             [
              0.5555555555555556,
              "#d8576b"
             ],
             [
              0.6666666666666666,
              "#ed7953"
             ],
             [
              0.7777777777777778,
              "#fb9f3a"
             ],
             [
              0.8888888888888888,
              "#fdca26"
             ],
             [
              1,
              "#f0f921"
             ]
            ],
            "type": "histogram2d"
           }
          ],
          "histogram2dcontour": [
           {
            "colorbar": {
             "outlinewidth": 0,
             "ticks": ""
            },
            "colorscale": [
             [
              0,
              "#0d0887"
             ],
             [
              0.1111111111111111,
              "#46039f"
             ],
             [
              0.2222222222222222,
              "#7201a8"
             ],
             [
              0.3333333333333333,
              "#9c179e"
             ],
             [
              0.4444444444444444,
              "#bd3786"
             ],
             [
              0.5555555555555556,
              "#d8576b"
             ],
             [
              0.6666666666666666,
              "#ed7953"
             ],
             [
              0.7777777777777778,
              "#fb9f3a"
             ],
             [
              0.8888888888888888,
              "#fdca26"
             ],
             [
              1,
              "#f0f921"
             ]
            ],
            "type": "histogram2dcontour"
           }
          ],
          "mesh3d": [
           {
            "colorbar": {
             "outlinewidth": 0,
             "ticks": ""
            },
            "type": "mesh3d"
           }
          ],
          "parcoords": [
           {
            "line": {
             "colorbar": {
              "outlinewidth": 0,
              "ticks": ""
             }
            },
            "type": "parcoords"
           }
          ],
          "pie": [
           {
            "automargin": true,
            "type": "pie"
           }
          ],
          "scatter": [
           {
            "marker": {
             "colorbar": {
              "outlinewidth": 0,
              "ticks": ""
             }
            },
            "type": "scatter"
           }
          ],
          "scatter3d": [
           {
            "line": {
             "colorbar": {
              "outlinewidth": 0,
              "ticks": ""
             }
            },
            "marker": {
             "colorbar": {
              "outlinewidth": 0,
              "ticks": ""
             }
            },
            "type": "scatter3d"
           }
          ],
          "scattercarpet": [
           {
            "marker": {
             "colorbar": {
              "outlinewidth": 0,
              "ticks": ""
             }
            },
            "type": "scattercarpet"
           }
          ],
          "scattergeo": [
           {
            "marker": {
             "colorbar": {
              "outlinewidth": 0,
              "ticks": ""
             }
            },
            "type": "scattergeo"
           }
          ],
          "scattergl": [
           {
            "marker": {
             "colorbar": {
              "outlinewidth": 0,
              "ticks": ""
             }
            },
            "type": "scattergl"
           }
          ],
          "scattermapbox": [
           {
            "marker": {
             "colorbar": {
              "outlinewidth": 0,
              "ticks": ""
             }
            },
            "type": "scattermapbox"
           }
          ],
          "scatterpolar": [
           {
            "marker": {
             "colorbar": {
              "outlinewidth": 0,
              "ticks": ""
             }
            },
            "type": "scatterpolar"
           }
          ],
          "scatterpolargl": [
           {
            "marker": {
             "colorbar": {
              "outlinewidth": 0,
              "ticks": ""
             }
            },
            "type": "scatterpolargl"
           }
          ],
          "scatterternary": [
           {
            "marker": {
             "colorbar": {
              "outlinewidth": 0,
              "ticks": ""
             }
            },
            "type": "scatterternary"
           }
          ],
          "surface": [
           {
            "colorbar": {
             "outlinewidth": 0,
             "ticks": ""
            },
            "colorscale": [
             [
              0,
              "#0d0887"
             ],
             [
              0.1111111111111111,
              "#46039f"
             ],
             [
              0.2222222222222222,
              "#7201a8"
             ],
             [
              0.3333333333333333,
              "#9c179e"
             ],
             [
              0.4444444444444444,
              "#bd3786"
             ],
             [
              0.5555555555555556,
              "#d8576b"
             ],
             [
              0.6666666666666666,
              "#ed7953"
             ],
             [
              0.7777777777777778,
              "#fb9f3a"
             ],
             [
              0.8888888888888888,
              "#fdca26"
             ],
             [
              1,
              "#f0f921"
             ]
            ],
            "type": "surface"
           }
          ],
          "table": [
           {
            "cells": {
             "fill": {
              "color": "#EBF0F8"
             },
             "line": {
              "color": "white"
             }
            },
            "header": {
             "fill": {
              "color": "#C8D4E3"
             },
             "line": {
              "color": "white"
             }
            },
            "type": "table"
           }
          ]
         },
         "layout": {
          "annotationdefaults": {
           "arrowcolor": "#2a3f5f",
           "arrowhead": 0,
           "arrowwidth": 1
          },
          "autotypenumbers": "strict",
          "coloraxis": {
           "colorbar": {
            "outlinewidth": 0,
            "ticks": ""
           }
          },
          "colorscale": {
           "diverging": [
            [
             0,
             "#8e0152"
            ],
            [
             0.1,
             "#c51b7d"
            ],
            [
             0.2,
             "#de77ae"
            ],
            [
             0.3,
             "#f1b6da"
            ],
            [
             0.4,
             "#fde0ef"
            ],
            [
             0.5,
             "#f7f7f7"
            ],
            [
             0.6,
             "#e6f5d0"
            ],
            [
             0.7,
             "#b8e186"
            ],
            [
             0.8,
             "#7fbc41"
            ],
            [
             0.9,
             "#4d9221"
            ],
            [
             1,
             "#276419"
            ]
           ],
           "sequential": [
            [
             0,
             "#0d0887"
            ],
            [
             0.1111111111111111,
             "#46039f"
            ],
            [
             0.2222222222222222,
             "#7201a8"
            ],
            [
             0.3333333333333333,
             "#9c179e"
            ],
            [
             0.4444444444444444,
             "#bd3786"
            ],
            [
             0.5555555555555556,
             "#d8576b"
            ],
            [
             0.6666666666666666,
             "#ed7953"
            ],
            [
             0.7777777777777778,
             "#fb9f3a"
            ],
            [
             0.8888888888888888,
             "#fdca26"
            ],
            [
             1,
             "#f0f921"
            ]
           ],
           "sequentialminus": [
            [
             0,
             "#0d0887"
            ],
            [
             0.1111111111111111,
             "#46039f"
            ],
            [
             0.2222222222222222,
             "#7201a8"
            ],
            [
             0.3333333333333333,
             "#9c179e"
            ],
            [
             0.4444444444444444,
             "#bd3786"
            ],
            [
             0.5555555555555556,
             "#d8576b"
            ],
            [
             0.6666666666666666,
             "#ed7953"
            ],
            [
             0.7777777777777778,
             "#fb9f3a"
            ],
            [
             0.8888888888888888,
             "#fdca26"
            ],
            [
             1,
             "#f0f921"
            ]
           ]
          },
          "colorway": [
           "#636efa",
           "#EF553B",
           "#00cc96",
           "#ab63fa",
           "#FFA15A",
           "#19d3f3",
           "#FF6692",
           "#B6E880",
           "#FF97FF",
           "#FECB52"
          ],
          "font": {
           "color": "#2a3f5f"
          },
          "geo": {
           "bgcolor": "white",
           "lakecolor": "white",
           "landcolor": "#E5ECF6",
           "showlakes": true,
           "showland": true,
           "subunitcolor": "white"
          },
          "hoverlabel": {
           "align": "left"
          },
          "hovermode": "closest",
          "mapbox": {
           "style": "light"
          },
          "paper_bgcolor": "white",
          "plot_bgcolor": "#E5ECF6",
          "polar": {
           "angularaxis": {
            "gridcolor": "white",
            "linecolor": "white",
            "ticks": ""
           },
           "bgcolor": "#E5ECF6",
           "radialaxis": {
            "gridcolor": "white",
            "linecolor": "white",
            "ticks": ""
           }
          },
          "scene": {
           "xaxis": {
            "backgroundcolor": "#E5ECF6",
            "gridcolor": "white",
            "gridwidth": 2,
            "linecolor": "white",
            "showbackground": true,
            "ticks": "",
            "zerolinecolor": "white"
           },
           "yaxis": {
            "backgroundcolor": "#E5ECF6",
            "gridcolor": "white",
            "gridwidth": 2,
            "linecolor": "white",
            "showbackground": true,
            "ticks": "",
            "zerolinecolor": "white"
           },
           "zaxis": {
            "backgroundcolor": "#E5ECF6",
            "gridcolor": "white",
            "gridwidth": 2,
            "linecolor": "white",
            "showbackground": true,
            "ticks": "",
            "zerolinecolor": "white"
           }
          },
          "shapedefaults": {
           "line": {
            "color": "#2a3f5f"
           }
          },
          "ternary": {
           "aaxis": {
            "gridcolor": "white",
            "linecolor": "white",
            "ticks": ""
           },
           "baxis": {
            "gridcolor": "white",
            "linecolor": "white",
            "ticks": ""
           },
           "bgcolor": "#E5ECF6",
           "caxis": {
            "gridcolor": "white",
            "linecolor": "white",
            "ticks": ""
           }
          },
          "title": {
           "x": 0.05
          },
          "xaxis": {
           "automargin": true,
           "gridcolor": "white",
           "linecolor": "white",
           "ticks": "",
           "title": {
            "standoff": 15
           },
           "zerolinecolor": "white",
           "zerolinewidth": 2
          },
          "yaxis": {
           "automargin": true,
           "gridcolor": "white",
           "linecolor": "white",
           "ticks": "",
           "title": {
            "standoff": 15
           },
           "zerolinecolor": "white",
           "zerolinewidth": 2
          }
         }
        },
        "title": {
         "text": "Price vs. production"
        },
        "xaxis": {
         "anchor": "y",
         "domain": [
          0,
          0.94
         ],
         "title": {
          "text": "<b>Time</b> [Hours]"
         }
        },
        "yaxis": {
         "anchor": "x",
         "domain": [
          0,
          1
         ],
         "title": {
          "text": "<b>Production</b> [MWh]"
         }
        },
        "yaxis2": {
         "anchor": "x",
         "overlaying": "y",
         "side": "right",
         "title": {
          "text": "<b>Price</b> [EUR/MWh]"
         }
        }
       }
      },
      "text/html": [
       "<div>                            <div id=\"17339939-1286-48be-95f8-cbdbff12b8f5\" class=\"plotly-graph-div\" style=\"height:525px; width:100%;\"></div>            <script type=\"text/javascript\">                require([\"plotly\"], function(Plotly) {                    window.PLOTLYENV=window.PLOTLYENV || {};                                    if (document.getElementById(\"17339939-1286-48be-95f8-cbdbff12b8f5\")) {                    Plotly.newPlot(                        \"17339939-1286-48be-95f8-cbdbff12b8f5\",                        [{\"marker\":{\"color\":\"rgb(33,102,172)\"},\"name\":\"P1\",\"x\":[\"2018-01-23T00:00:00\",\"2018-01-23T01:00:00\",\"2018-01-23T02:00:00\",\"2018-01-23T03:00:00\",\"2018-01-23T04:00:00\",\"2018-01-23T05:00:00\",\"2018-01-23T06:00:00\",\"2018-01-23T07:00:00\",\"2018-01-23T08:00:00\",\"2018-01-23T09:00:00\",\"2018-01-23T10:00:00\",\"2018-01-23T11:00:00\",\"2018-01-23T12:00:00\",\"2018-01-23T13:00:00\",\"2018-01-23T14:00:00\",\"2018-01-23T15:00:00\",\"2018-01-23T16:00:00\",\"2018-01-23T17:00:00\",\"2018-01-23T18:00:00\",\"2018-01-23T19:00:00\",\"2018-01-23T20:00:00\",\"2018-01-23T21:00:00\",\"2018-01-23T22:00:00\",\"2018-01-23T23:00:00\",\"2018-01-24T00:00:00\",\"2018-01-24T01:00:00\",\"2018-01-24T02:00:00\",\"2018-01-24T03:00:00\",\"2018-01-24T04:00:00\",\"2018-01-24T05:00:00\",\"2018-01-24T06:00:00\",\"2018-01-24T07:00:00\",\"2018-01-24T08:00:00\",\"2018-01-24T09:00:00\",\"2018-01-24T10:00:00\",\"2018-01-24T11:00:00\",\"2018-01-24T12:00:00\",\"2018-01-24T13:00:00\",\"2018-01-24T14:00:00\",\"2018-01-24T15:00:00\",\"2018-01-24T16:00:00\",\"2018-01-24T17:00:00\",\"2018-01-24T18:00:00\",\"2018-01-24T19:00:00\",\"2018-01-24T20:00:00\",\"2018-01-24T21:00:00\",\"2018-01-24T22:00:00\",\"2018-01-24T23:00:00\",\"2018-01-25T00:00:00\",\"2018-01-25T01:00:00\",\"2018-01-25T02:00:00\",\"2018-01-25T03:00:00\",\"2018-01-25T04:00:00\",\"2018-01-25T05:00:00\",\"2018-01-25T06:00:00\",\"2018-01-25T07:00:00\",\"2018-01-25T08:00:00\",\"2018-01-25T09:00:00\",\"2018-01-25T10:00:00\",\"2018-01-25T11:00:00\",\"2018-01-25T12:00:00\",\"2018-01-25T13:00:00\",\"2018-01-25T14:00:00\",\"2018-01-25T15:00:00\",\"2018-01-25T16:00:00\",\"2018-01-25T17:00:00\",\"2018-01-25T18:00:00\",\"2018-01-25T19:00:00\",\"2018-01-25T20:00:00\",\"2018-01-25T21:00:00\",\"2018-01-25T22:00:00\",\"2018-01-25T23:00:00\"],\"y\":[216.12403832592966,207.41068565930502,207.09621187805328,179.76034397905835,206.50934326257257,214.50915837718267,229.08263239859022,228.6760644420338,228.26877838926742,227.86158070477615,227.4544713885598,227.0474504406185,226.6405178609522,226.2200922433991,225.7974936237767,225.3749903924084,224.9525825492945,224.53027009443494,216.98410422916848,201.09277243049036,200.7609018907916,200.42909779910704,175.212805881276,103.95591724292548,103.87260485546628,0.0,0.0,0.0,0.0,103.78930077400881,174.67684185211928,199.02112378068972,198.68966825000973,198.3582791673441,198.02695653269268,197.6957003460556,173.33769742736962,173.1270684813997,172.9078201365051,172.68851750647997,172.5834140069299,172.3764493498594,172.16692285117057,101.57550850819489,101.47808922815183,101.38068137035091,0.0,0.0,0.0,0.0,0.0,0.0,0.0,0.0,101.28328493479209,171.41524914414543,193.95441720195512,193.566925370398,170.66884827145535,170.4360751299547,170.20404301023746,169.9737664925102,169.74340805201103,169.50915441521892,169.26051127574613,190.6013258532173,190.17018299333043,168.45054253601725,168.20526467060324,98.50348215820401,0.0,0.0],\"type\":\"bar\"},{\"marker\":{\"color\":\"rgb(67,147,195)\"},\"name\":\"P2\",\"x\":[\"2018-01-23T00:00:00\",\"2018-01-23T01:00:00\",\"2018-01-23T02:00:00\",\"2018-01-23T03:00:00\",\"2018-01-23T04:00:00\",\"2018-01-23T05:00:00\",\"2018-01-23T06:00:00\",\"2018-01-23T07:00:00\",\"2018-01-23T08:00:00\",\"2018-01-23T09:00:00\",\"2018-01-23T10:00:00\",\"2018-01-23T11:00:00\",\"2018-01-23T12:00:00\",\"2018-01-23T13:00:00\",\"2018-01-23T14:00:00\",\"2018-01-23T15:00:00\",\"2018-01-23T16:00:00\",\"2018-01-23T17:00:00\",\"2018-01-23T18:00:00\",\"2018-01-23T19:00:00\",\"2018-01-23T20:00:00\",\"2018-01-23T21:00:00\",\"2018-01-23T22:00:00\",\"2018-01-23T23:00:00\",\"2018-01-24T00:00:00\",\"2018-01-24T01:00:00\",\"2018-01-24T02:00:00\",\"2018-01-24T03:00:00\",\"2018-01-24T04:00:00\",\"2018-01-24T05:00:00\",\"2018-01-24T06:00:00\",\"2018-01-24T07:00:00\",\"2018-01-24T08:00:00\",\"2018-01-24T09:00:00\",\"2018-01-24T10:00:00\",\"2018-01-24T11:00:00\",\"2018-01-24T12:00:00\",\"2018-01-24T13:00:00\",\"2018-01-24T14:00:00\",\"2018-01-24T15:00:00\",\"2018-01-24T16:00:00\",\"2018-01-24T17:00:00\",\"2018-01-24T18:00:00\",\"2018-01-24T19:00:00\",\"2018-01-24T20:00:00\",\"2018-01-24T21:00:00\",\"2018-01-24T22:00:00\",\"2018-01-24T23:00:00\",\"2018-01-25T00:00:00\",\"2018-01-25T01:00:00\",\"2018-01-25T02:00:00\",\"2018-01-25T03:00:00\",\"2018-01-25T04:00:00\",\"2018-01-25T05:00:00\",\"2018-01-25T06:00:00\",\"2018-01-25T07:00:00\",\"2018-01-25T08:00:00\",\"2018-01-25T09:00:00\",\"2018-01-25T10:00:00\",\"2018-01-25T11:00:00\",\"2018-01-25T12:00:00\",\"2018-01-25T13:00:00\",\"2018-01-25T14:00:00\",\"2018-01-25T15:00:00\",\"2018-01-25T16:00:00\",\"2018-01-25T17:00:00\",\"2018-01-25T18:00:00\",\"2018-01-25T19:00:00\",\"2018-01-25T20:00:00\",\"2018-01-25T21:00:00\",\"2018-01-25T22:00:00\",\"2018-01-25T23:00:00\"],\"y\":[268.9929605052747,198.2616544327681,0.0,0.0,143.50110295796836,269.2450186894642,327.3671467169055,340.2151457534567,339.61181211799743,338.98029243401743,338.3033719893316,329.6493658899007,324.2682864000606,323.72605761017235,323.1550330836074,322.5797232636822,322.0018985709553,326.0791399972496,320.79760961013966,289.68263487405,288.7081114567728,209.10085828895546,208.81819206124482,191.7926807923525,136.54913156457235,133.1696075093011,0.0,0.0,0.0,136.50222730533812,207.90098518467886,285.0435556776518,291.9011986383631,290.77233045280997,281.8153493641398,280.73892993923164,279.6615621613395,245.6287131335704,244.80454897505956,243.90876763136652,275.6651216508379,274.42486896729395,265.7659781615882,239.52469593281086,199.46187477370344,198.94660361669924,196.48590567132177,129.25919019279806,129.1317534710628,128.69790639819604,0.0,0.0,0.0,128.94764218465423,233.90365522334469,271.77869688404184,270.3877245462438,268.84230115996655,267.29467790895785,265.6047113890069,263.77161759250043,262.0359521157073,260.35491364006174,258.4477957337566,262.66952116287064,268.33375529103523,265.89967557766306,256.22092837159414,253.94985539986587,251.63354774428828,248.91263563072744,240.17718642101033],\"type\":\"bar\"},{\"line\":{\"color\":\"black\"},\"name\":\"Price\",\"x\":[\"2018-01-23T00:00:00\",\"2018-01-23T01:00:00\",\"2018-01-23T02:00:00\",\"2018-01-23T03:00:00\",\"2018-01-23T04:00:00\",\"2018-01-23T05:00:00\",\"2018-01-23T06:00:00\",\"2018-01-23T07:00:00\",\"2018-01-23T08:00:00\",\"2018-01-23T09:00:00\",\"2018-01-23T10:00:00\",\"2018-01-23T11:00:00\",\"2018-01-23T12:00:00\",\"2018-01-23T13:00:00\",\"2018-01-23T14:00:00\",\"2018-01-23T15:00:00\",\"2018-01-23T16:00:00\",\"2018-01-23T17:00:00\",\"2018-01-23T18:00:00\",\"2018-01-23T19:00:00\",\"2018-01-23T20:00:00\",\"2018-01-23T21:00:00\",\"2018-01-23T22:00:00\",\"2018-01-23T23:00:00\",\"2018-01-24T00:00:00\",\"2018-01-24T01:00:00\",\"2018-01-24T02:00:00\",\"2018-01-24T03:00:00\",\"2018-01-24T04:00:00\",\"2018-01-24T05:00:00\",\"2018-01-24T06:00:00\",\"2018-01-24T07:00:00\",\"2018-01-24T08:00:00\",\"2018-01-24T09:00:00\",\"2018-01-24T10:00:00\",\"2018-01-24T11:00:00\",\"2018-01-24T12:00:00\",\"2018-01-24T13:00:00\",\"2018-01-24T14:00:00\",\"2018-01-24T15:00:00\",\"2018-01-24T16:00:00\",\"2018-01-24T17:00:00\",\"2018-01-24T18:00:00\",\"2018-01-24T19:00:00\",\"2018-01-24T20:00:00\",\"2018-01-24T21:00:00\",\"2018-01-24T22:00:00\",\"2018-01-24T23:00:00\",\"2018-01-25T00:00:00\",\"2018-01-25T01:00:00\",\"2018-01-25T02:00:00\",\"2018-01-25T03:00:00\",\"2018-01-25T04:00:00\",\"2018-01-25T05:00:00\",\"2018-01-25T06:00:00\",\"2018-01-25T07:00:00\",\"2018-01-25T08:00:00\",\"2018-01-25T09:00:00\",\"2018-01-25T10:00:00\",\"2018-01-25T11:00:00\",\"2018-01-25T12:00:00\",\"2018-01-25T13:00:00\",\"2018-01-25T14:00:00\",\"2018-01-25T15:00:00\",\"2018-01-25T16:00:00\",\"2018-01-25T17:00:00\",\"2018-01-25T18:00:00\",\"2018-01-25T19:00:00\",\"2018-01-25T20:00:00\",\"2018-01-25T21:00:00\",\"2018-01-25T22:00:00\",\"2018-01-25T23:00:00\"],\"y\":[32.992,31.122,29.312,28.072,30.012,33.362,42.682,74.822,77.732,62.332,55.892,46.962,42.582,40.942,39.212,39.142,41.672,46.922,37.102,32.992,31.272,29.752,28.782,28.082,27.242,26.622,25.732,25.392,25.992,27.402,28.942,32.182,33.082,32.342,30.912,30.162,30.062,29.562,29.462,29.512,29.672,30.072,29.552,28.862,28.412,28.072,27.162,25.502,26.192,25.222,24.052,23.892,23.682,26.092,28.202,30.902,31.572,31.462,31.172,30.912,30.572,30.602,30.632,31.062,32.082,36.262,34.472,32.182,31.492,30.732,29.712,28.982],\"type\":\"scatter\",\"xaxis\":\"x\",\"yaxis\":\"y2\"}],                        {\"template\":{\"data\":{\"bar\":[{\"error_x\":{\"color\":\"#2a3f5f\"},\"error_y\":{\"color\":\"#2a3f5f\"},\"marker\":{\"line\":{\"color\":\"#E5ECF6\",\"width\":0.5},\"pattern\":{\"fillmode\":\"overlay\",\"size\":10,\"solidity\":0.2}},\"type\":\"bar\"}],\"barpolar\":[{\"marker\":{\"line\":{\"color\":\"#E5ECF6\",\"width\":0.5},\"pattern\":{\"fillmode\":\"overlay\",\"size\":10,\"solidity\":0.2}},\"type\":\"barpolar\"}],\"carpet\":[{\"aaxis\":{\"endlinecolor\":\"#2a3f5f\",\"gridcolor\":\"white\",\"linecolor\":\"white\",\"minorgridcolor\":\"white\",\"startlinecolor\":\"#2a3f5f\"},\"baxis\":{\"endlinecolor\":\"#2a3f5f\",\"gridcolor\":\"white\",\"linecolor\":\"white\",\"minorgridcolor\":\"white\",\"startlinecolor\":\"#2a3f5f\"},\"type\":\"carpet\"}],\"choropleth\":[{\"colorbar\":{\"outlinewidth\":0,\"ticks\":\"\"},\"type\":\"choropleth\"}],\"contour\":[{\"colorbar\":{\"outlinewidth\":0,\"ticks\":\"\"},\"colorscale\":[[0.0,\"#0d0887\"],[0.1111111111111111,\"#46039f\"],[0.2222222222222222,\"#7201a8\"],[0.3333333333333333,\"#9c179e\"],[0.4444444444444444,\"#bd3786\"],[0.5555555555555556,\"#d8576b\"],[0.6666666666666666,\"#ed7953\"],[0.7777777777777778,\"#fb9f3a\"],[0.8888888888888888,\"#fdca26\"],[1.0,\"#f0f921\"]],\"type\":\"contour\"}],\"contourcarpet\":[{\"colorbar\":{\"outlinewidth\":0,\"ticks\":\"\"},\"type\":\"contourcarpet\"}],\"heatmap\":[{\"colorbar\":{\"outlinewidth\":0,\"ticks\":\"\"},\"colorscale\":[[0.0,\"#0d0887\"],[0.1111111111111111,\"#46039f\"],[0.2222222222222222,\"#7201a8\"],[0.3333333333333333,\"#9c179e\"],[0.4444444444444444,\"#bd3786\"],[0.5555555555555556,\"#d8576b\"],[0.6666666666666666,\"#ed7953\"],[0.7777777777777778,\"#fb9f3a\"],[0.8888888888888888,\"#fdca26\"],[1.0,\"#f0f921\"]],\"type\":\"heatmap\"}],\"heatmapgl\":[{\"colorbar\":{\"outlinewidth\":0,\"ticks\":\"\"},\"colorscale\":[[0.0,\"#0d0887\"],[0.1111111111111111,\"#46039f\"],[0.2222222222222222,\"#7201a8\"],[0.3333333333333333,\"#9c179e\"],[0.4444444444444444,\"#bd3786\"],[0.5555555555555556,\"#d8576b\"],[0.6666666666666666,\"#ed7953\"],[0.7777777777777778,\"#fb9f3a\"],[0.8888888888888888,\"#fdca26\"],[1.0,\"#f0f921\"]],\"type\":\"heatmapgl\"}],\"histogram\":[{\"marker\":{\"pattern\":{\"fillmode\":\"overlay\",\"size\":10,\"solidity\":0.2}},\"type\":\"histogram\"}],\"histogram2d\":[{\"colorbar\":{\"outlinewidth\":0,\"ticks\":\"\"},\"colorscale\":[[0.0,\"#0d0887\"],[0.1111111111111111,\"#46039f\"],[0.2222222222222222,\"#7201a8\"],[0.3333333333333333,\"#9c179e\"],[0.4444444444444444,\"#bd3786\"],[0.5555555555555556,\"#d8576b\"],[0.6666666666666666,\"#ed7953\"],[0.7777777777777778,\"#fb9f3a\"],[0.8888888888888888,\"#fdca26\"],[1.0,\"#f0f921\"]],\"type\":\"histogram2d\"}],\"histogram2dcontour\":[{\"colorbar\":{\"outlinewidth\":0,\"ticks\":\"\"},\"colorscale\":[[0.0,\"#0d0887\"],[0.1111111111111111,\"#46039f\"],[0.2222222222222222,\"#7201a8\"],[0.3333333333333333,\"#9c179e\"],[0.4444444444444444,\"#bd3786\"],[0.5555555555555556,\"#d8576b\"],[0.6666666666666666,\"#ed7953\"],[0.7777777777777778,\"#fb9f3a\"],[0.8888888888888888,\"#fdca26\"],[1.0,\"#f0f921\"]],\"type\":\"histogram2dcontour\"}],\"mesh3d\":[{\"colorbar\":{\"outlinewidth\":0,\"ticks\":\"\"},\"type\":\"mesh3d\"}],\"parcoords\":[{\"line\":{\"colorbar\":{\"outlinewidth\":0,\"ticks\":\"\"}},\"type\":\"parcoords\"}],\"pie\":[{\"automargin\":true,\"type\":\"pie\"}],\"scatter\":[{\"marker\":{\"colorbar\":{\"outlinewidth\":0,\"ticks\":\"\"}},\"type\":\"scatter\"}],\"scatter3d\":[{\"line\":{\"colorbar\":{\"outlinewidth\":0,\"ticks\":\"\"}},\"marker\":{\"colorbar\":{\"outlinewidth\":0,\"ticks\":\"\"}},\"type\":\"scatter3d\"}],\"scattercarpet\":[{\"marker\":{\"colorbar\":{\"outlinewidth\":0,\"ticks\":\"\"}},\"type\":\"scattercarpet\"}],\"scattergeo\":[{\"marker\":{\"colorbar\":{\"outlinewidth\":0,\"ticks\":\"\"}},\"type\":\"scattergeo\"}],\"scattergl\":[{\"marker\":{\"colorbar\":{\"outlinewidth\":0,\"ticks\":\"\"}},\"type\":\"scattergl\"}],\"scattermapbox\":[{\"marker\":{\"colorbar\":{\"outlinewidth\":0,\"ticks\":\"\"}},\"type\":\"scattermapbox\"}],\"scatterpolar\":[{\"marker\":{\"colorbar\":{\"outlinewidth\":0,\"ticks\":\"\"}},\"type\":\"scatterpolar\"}],\"scatterpolargl\":[{\"marker\":{\"colorbar\":{\"outlinewidth\":0,\"ticks\":\"\"}},\"type\":\"scatterpolargl\"}],\"scatterternary\":[{\"marker\":{\"colorbar\":{\"outlinewidth\":0,\"ticks\":\"\"}},\"type\":\"scatterternary\"}],\"surface\":[{\"colorbar\":{\"outlinewidth\":0,\"ticks\":\"\"},\"colorscale\":[[0.0,\"#0d0887\"],[0.1111111111111111,\"#46039f\"],[0.2222222222222222,\"#7201a8\"],[0.3333333333333333,\"#9c179e\"],[0.4444444444444444,\"#bd3786\"],[0.5555555555555556,\"#d8576b\"],[0.6666666666666666,\"#ed7953\"],[0.7777777777777778,\"#fb9f3a\"],[0.8888888888888888,\"#fdca26\"],[1.0,\"#f0f921\"]],\"type\":\"surface\"}],\"table\":[{\"cells\":{\"fill\":{\"color\":\"#EBF0F8\"},\"line\":{\"color\":\"white\"}},\"header\":{\"fill\":{\"color\":\"#C8D4E3\"},\"line\":{\"color\":\"white\"}},\"type\":\"table\"}]},\"layout\":{\"annotationdefaults\":{\"arrowcolor\":\"#2a3f5f\",\"arrowhead\":0,\"arrowwidth\":1},\"autotypenumbers\":\"strict\",\"coloraxis\":{\"colorbar\":{\"outlinewidth\":0,\"ticks\":\"\"}},\"colorscale\":{\"diverging\":[[0,\"#8e0152\"],[0.1,\"#c51b7d\"],[0.2,\"#de77ae\"],[0.3,\"#f1b6da\"],[0.4,\"#fde0ef\"],[0.5,\"#f7f7f7\"],[0.6,\"#e6f5d0\"],[0.7,\"#b8e186\"],[0.8,\"#7fbc41\"],[0.9,\"#4d9221\"],[1,\"#276419\"]],\"sequential\":[[0.0,\"#0d0887\"],[0.1111111111111111,\"#46039f\"],[0.2222222222222222,\"#7201a8\"],[0.3333333333333333,\"#9c179e\"],[0.4444444444444444,\"#bd3786\"],[0.5555555555555556,\"#d8576b\"],[0.6666666666666666,\"#ed7953\"],[0.7777777777777778,\"#fb9f3a\"],[0.8888888888888888,\"#fdca26\"],[1.0,\"#f0f921\"]],\"sequentialminus\":[[0.0,\"#0d0887\"],[0.1111111111111111,\"#46039f\"],[0.2222222222222222,\"#7201a8\"],[0.3333333333333333,\"#9c179e\"],[0.4444444444444444,\"#bd3786\"],[0.5555555555555556,\"#d8576b\"],[0.6666666666666666,\"#ed7953\"],[0.7777777777777778,\"#fb9f3a\"],[0.8888888888888888,\"#fdca26\"],[1.0,\"#f0f921\"]]},\"colorway\":[\"#636efa\",\"#EF553B\",\"#00cc96\",\"#ab63fa\",\"#FFA15A\",\"#19d3f3\",\"#FF6692\",\"#B6E880\",\"#FF97FF\",\"#FECB52\"],\"font\":{\"color\":\"#2a3f5f\"},\"geo\":{\"bgcolor\":\"white\",\"lakecolor\":\"white\",\"landcolor\":\"#E5ECF6\",\"showlakes\":true,\"showland\":true,\"subunitcolor\":\"white\"},\"hoverlabel\":{\"align\":\"left\"},\"hovermode\":\"closest\",\"mapbox\":{\"style\":\"light\"},\"paper_bgcolor\":\"white\",\"plot_bgcolor\":\"#E5ECF6\",\"polar\":{\"angularaxis\":{\"gridcolor\":\"white\",\"linecolor\":\"white\",\"ticks\":\"\"},\"bgcolor\":\"#E5ECF6\",\"radialaxis\":{\"gridcolor\":\"white\",\"linecolor\":\"white\",\"ticks\":\"\"}},\"scene\":{\"xaxis\":{\"backgroundcolor\":\"#E5ECF6\",\"gridcolor\":\"white\",\"gridwidth\":2,\"linecolor\":\"white\",\"showbackground\":true,\"ticks\":\"\",\"zerolinecolor\":\"white\"},\"yaxis\":{\"backgroundcolor\":\"#E5ECF6\",\"gridcolor\":\"white\",\"gridwidth\":2,\"linecolor\":\"white\",\"showbackground\":true,\"ticks\":\"\",\"zerolinecolor\":\"white\"},\"zaxis\":{\"backgroundcolor\":\"#E5ECF6\",\"gridcolor\":\"white\",\"gridwidth\":2,\"linecolor\":\"white\",\"showbackground\":true,\"ticks\":\"\",\"zerolinecolor\":\"white\"}},\"shapedefaults\":{\"line\":{\"color\":\"#2a3f5f\"}},\"ternary\":{\"aaxis\":{\"gridcolor\":\"white\",\"linecolor\":\"white\",\"ticks\":\"\"},\"baxis\":{\"gridcolor\":\"white\",\"linecolor\":\"white\",\"ticks\":\"\"},\"bgcolor\":\"#E5ECF6\",\"caxis\":{\"gridcolor\":\"white\",\"linecolor\":\"white\",\"ticks\":\"\"}},\"title\":{\"x\":0.05},\"xaxis\":{\"automargin\":true,\"gridcolor\":\"white\",\"linecolor\":\"white\",\"ticks\":\"\",\"title\":{\"standoff\":15},\"zerolinecolor\":\"white\",\"zerolinewidth\":2},\"yaxis\":{\"automargin\":true,\"gridcolor\":\"white\",\"linecolor\":\"white\",\"ticks\":\"\",\"title\":{\"standoff\":15},\"zerolinecolor\":\"white\",\"zerolinewidth\":2}}},\"xaxis\":{\"anchor\":\"y\",\"domain\":[0.0,0.94],\"title\":{\"text\":\"<b>Time</b> [Hours]\"}},\"yaxis\":{\"anchor\":\"x\",\"domain\":[0.0,1.0],\"title\":{\"text\":\"<b>Production</b> [MWh]\"}},\"yaxis2\":{\"anchor\":\"x\",\"overlaying\":\"y\",\"side\":\"right\",\"title\":{\"text\":\"<b>Price</b> [EUR/MWh]\"}},\"barmode\":\"stack\",\"title\":{\"text\":\"Price vs. production\"}},                        {\"responsive\": true}                    ).then(function(){\n",
       "                            \n",
       "var gd = document.getElementById('17339939-1286-48be-95f8-cbdbff12b8f5');\n",
       "var x = new MutationObserver(function (mutations, observer) {{\n",
       "        var display = window.getComputedStyle(gd).display;\n",
       "        if (!display || display === 'none') {{\n",
       "            console.log([gd, 'removed!']);\n",
       "            Plotly.purge(gd);\n",
       "            observer.disconnect();\n",
       "        }}\n",
       "}});\n",
       "\n",
       "// Listen for the removal of the full notebook cells\n",
       "var notebookContainer = gd.closest('#notebook-container');\n",
       "if (notebookContainer) {{\n",
       "    x.observe(notebookContainer, {childList: true});\n",
       "}}\n",
       "\n",
       "// Listen for the clearing of the current output cell\n",
       "var outputEl = gd.closest('.output');\n",
       "if (outputEl) {{\n",
       "    x.observe(outputEl, {childList: true});\n",
       "}}\n",
       "\n",
       "                        })                };                });            </script>        </div>"
      ]
     },
     "metadata": {},
     "output_type": "display_data"
    }
   ],
   "source": [
    "# Plotting price vs. production\n",
    "\n",
    "# Defining a plot instance\n",
    "fig = go.Figure()\n",
    "colorscale = px.colors.sequential.RdBu_r\n",
    "# Preparing for secondary y axis by calling make_subplots function\n",
    "fig = make_subplots(specs=[[{\"secondary_y\": True}]])\n",
    "# Adding plant production as traces of bar type\n",
    "fig.add_trace(go.Bar(x=shop.model.plant.Plant1.production.get().index, y=shop.model.plant.Plant1.production.get().values, name=\"P1\", marker_color=colorscale[1]))\n",
    "fig.add_trace(go.Bar(x=shop.model.plant.Plant2.production.get().index, y=shop.model.plant.Plant2.production.get().values, name=\"P2\", marker_color=colorscale[2]))\n",
    "# Stacking bars\n",
    "fig.update_layout(barmode='stack')\n",
    "# Adding price as trace of scatter type\n",
    "fig.add_trace(go.Scatter(x=shop.model.market.Day_ahead.sale_price.get().index, y=shop.model.market.Day_ahead.sale_price.get().values, name=\"Price\", line_color='black'),secondary_y=True)\n",
    "# Updating titles\n",
    "fig.update_layout(title_text=\"Price vs. production\")\n",
    "fig.update_yaxes(title_text=\"<b>Production</b> [MWh]\", secondary_y=False)\n",
    "fig.update_yaxes(title_text=\"<b>Price</b> [EUR/MWh]\", secondary_y=True)\n",
    "fig.update_xaxes(title_text=\"<b>Time</b> [Hours]\")\n",
    "# Show plot\n",
    "fig.show()"
   ]
  },
  {
   "cell_type": "code",
   "execution_count": 34,
   "metadata": {
    "Collapsed": "false"
   },
   "outputs": [
    {
     "data": {
      "application/vnd.plotly.v1+json": {
       "config": {
        "plotlyServerURL": "https://plot.ly"
       },
       "data": [
        {
         "marker": {
          "color": "rgb(33,102,172)"
         },
         "name": "G1 Discharge",
         "type": "bar",
         "x": [
          "2018-01-23T00:00:00",
          "2018-01-23T01:00:00",
          "2018-01-23T02:00:00",
          "2018-01-23T03:00:00",
          "2018-01-23T04:00:00",
          "2018-01-23T05:00:00",
          "2018-01-23T06:00:00",
          "2018-01-23T07:00:00",
          "2018-01-23T08:00:00",
          "2018-01-23T09:00:00",
          "2018-01-23T10:00:00",
          "2018-01-23T11:00:00",
          "2018-01-23T12:00:00",
          "2018-01-23T13:00:00",
          "2018-01-23T14:00:00",
          "2018-01-23T15:00:00",
          "2018-01-23T16:00:00",
          "2018-01-23T17:00:00",
          "2018-01-23T18:00:00",
          "2018-01-23T19:00:00",
          "2018-01-23T20:00:00",
          "2018-01-23T21:00:00",
          "2018-01-23T22:00:00",
          "2018-01-23T23:00:00",
          "2018-01-24T00:00:00",
          "2018-01-24T01:00:00",
          "2018-01-24T02:00:00",
          "2018-01-24T03:00:00",
          "2018-01-24T04:00:00",
          "2018-01-24T05:00:00",
          "2018-01-24T06:00:00",
          "2018-01-24T07:00:00",
          "2018-01-24T08:00:00",
          "2018-01-24T09:00:00",
          "2018-01-24T10:00:00",
          "2018-01-24T11:00:00",
          "2018-01-24T12:00:00",
          "2018-01-24T13:00:00",
          "2018-01-24T14:00:00",
          "2018-01-24T15:00:00",
          "2018-01-24T16:00:00",
          "2018-01-24T17:00:00",
          "2018-01-24T18:00:00",
          "2018-01-24T19:00:00",
          "2018-01-24T20:00:00",
          "2018-01-24T21:00:00",
          "2018-01-24T22:00:00",
          "2018-01-24T23:00:00",
          "2018-01-25T00:00:00",
          "2018-01-25T01:00:00",
          "2018-01-25T02:00:00",
          "2018-01-25T03:00:00",
          "2018-01-25T04:00:00",
          "2018-01-25T05:00:00",
          "2018-01-25T06:00:00",
          "2018-01-25T07:00:00",
          "2018-01-25T08:00:00",
          "2018-01-25T09:00:00",
          "2018-01-25T10:00:00",
          "2018-01-25T11:00:00",
          "2018-01-25T12:00:00",
          "2018-01-25T13:00:00",
          "2018-01-25T14:00:00",
          "2018-01-25T15:00:00",
          "2018-01-25T16:00:00",
          "2018-01-25T17:00:00",
          "2018-01-25T18:00:00",
          "2018-01-25T19:00:00",
          "2018-01-25T20:00:00",
          "2018-01-25T21:00:00",
          "2018-01-25T22:00:00",
          "2018-01-25T23:00:00"
         ],
         "xaxis": "x",
         "y": [
          53.89666666666665,
          51.42999999999999,
          51.42999999999999,
          44.57418717078616,
          51.42999999999999,
          53.89666666666665,
          58.830000000000005,
          58.830000000000005,
          58.83,
          58.82999999999999,
          58.83,
          58.83,
          58.830000000000005,
          58.83,
          58.83,
          58.830000000000005,
          58.82999999999999,
          58.830000000000005,
          56.36333333333332,
          51.42999999999999,
          51.42999999999999,
          51.42999999999999,
          44.87055619430757,
          51.42999999999999,
          51.42999999999999,
          0,
          0,
          0,
          0,
          51.42999999999999,
          44.90664806755014,
          51.42999999999999,
          51.42999999999999,
          51.42999999999999,
          51.42999999999999,
          51.42999999999999,
          44.99794648990434,
          45.015208674087745,
          45.03037116958047,
          45.045582735749896,
          45.089732356238855,
          45.1082914375667,
          45.127362326819416,
          51.42999999999999,
          51.42999999999999,
          51.42999999999999,
          0,
          0,
          0,
          0,
          0,
          0,
          0,
          0,
          51.42999999999999,
          45.183658898295974,
          51.42999999999999,
          51.42999999999999,
          45.2454806624927,
          45.26637455438824,
          45.287563088975894,
          45.30930956811796,
          45.33114312066447,
          45.35306431854036,
          45.37507373915416,
          51.42999999999999,
          51.42999999999999,
          45.44823968530618,
          45.47228059928575,
          51.42999999999999,
          0,
          0
         ],
         "yaxis": "y"
        },
        {
         "marker": {
          "color": "rgb(67,147,195)"
         },
         "name": "G2 Discharge",
         "type": "bar",
         "x": [
          "2018-01-23T00:00:00",
          "2018-01-23T01:00:00",
          "2018-01-23T02:00:00",
          "2018-01-23T03:00:00",
          "2018-01-23T04:00:00",
          "2018-01-23T05:00:00",
          "2018-01-23T06:00:00",
          "2018-01-23T07:00:00",
          "2018-01-23T08:00:00",
          "2018-01-23T09:00:00",
          "2018-01-23T10:00:00",
          "2018-01-23T11:00:00",
          "2018-01-23T12:00:00",
          "2018-01-23T13:00:00",
          "2018-01-23T14:00:00",
          "2018-01-23T15:00:00",
          "2018-01-23T16:00:00",
          "2018-01-23T17:00:00",
          "2018-01-23T18:00:00",
          "2018-01-23T19:00:00",
          "2018-01-23T20:00:00",
          "2018-01-23T21:00:00",
          "2018-01-23T22:00:00",
          "2018-01-23T23:00:00",
          "2018-01-24T00:00:00",
          "2018-01-24T01:00:00",
          "2018-01-24T02:00:00",
          "2018-01-24T03:00:00",
          "2018-01-24T04:00:00",
          "2018-01-24T05:00:00",
          "2018-01-24T06:00:00",
          "2018-01-24T07:00:00",
          "2018-01-24T08:00:00",
          "2018-01-24T09:00:00",
          "2018-01-24T10:00:00",
          "2018-01-24T11:00:00",
          "2018-01-24T12:00:00",
          "2018-01-24T13:00:00",
          "2018-01-24T14:00:00",
          "2018-01-24T15:00:00",
          "2018-01-24T16:00:00",
          "2018-01-24T17:00:00",
          "2018-01-24T18:00:00",
          "2018-01-24T19:00:00",
          "2018-01-24T20:00:00",
          "2018-01-24T21:00:00",
          "2018-01-24T22:00:00",
          "2018-01-24T23:00:00",
          "2018-01-25T00:00:00",
          "2018-01-25T01:00:00",
          "2018-01-25T02:00:00",
          "2018-01-25T03:00:00",
          "2018-01-25T04:00:00",
          "2018-01-25T05:00:00",
          "2018-01-25T06:00:00",
          "2018-01-25T07:00:00",
          "2018-01-25T08:00:00",
          "2018-01-25T09:00:00",
          "2018-01-25T10:00:00",
          "2018-01-25T11:00:00",
          "2018-01-25T12:00:00",
          "2018-01-25T13:00:00",
          "2018-01-25T14:00:00",
          "2018-01-25T15:00:00",
          "2018-01-25T16:00:00",
          "2018-01-25T17:00:00",
          "2018-01-25T18:00:00",
          "2018-01-25T19:00:00",
          "2018-01-25T20:00:00",
          "2018-01-25T21:00:00",
          "2018-01-25T22:00:00",
          "2018-01-25T23:00:00"
         ],
         "xaxis": "x",
         "y": [
          53.89666666666665,
          51.42999999999999,
          51.42999999999999,
          44.57419460118955,
          51.42999999999999,
          53.89666666666665,
          58.82999999999999,
          58.82999999999999,
          58.830000000000005,
          58.83,
          58.830000000000005,
          58.830000000000005,
          58.830000000000005,
          58.82999999999999,
          58.830000000000005,
          58.83,
          58.830000000000005,
          58.830000000000005,
          56.36333333333332,
          51.42999999999999,
          51.42999999999999,
          51.42999999999999,
          44.87056653005721,
          0,
          0,
          0,
          0,
          0,
          0,
          0,
          44.90665881929159,
          51.42999999999999,
          51.42999999999999,
          51.42999999999999,
          51.42999999999999,
          51.42999999999999,
          44.997960536759365,
          45.01522077910215,
          45.03038347528541,
          45.04559524586591,
          45.08974782305042,
          45.10830822407153,
          45.12737843515483,
          0,
          0,
          0,
          0,
          0,
          0,
          0,
          0,
          0,
          0,
          0,
          0,
          45.18367709784694,
          51.42999999999999,
          51.42999999999999,
          45.245500828250606,
          45.26639516951753,
          45.287582918266814,
          45.309329857166496,
          45.331163881038314,
          45.353085562122466,
          45.375096842508995,
          51.42999999999999,
          51.42999999999999,
          45.44826460384385,
          45.47230462646854,
          0,
          0,
          0
         ],
         "yaxis": "y"
        },
        {
         "marker": {
          "color": "rgb(146,197,222)"
         },
         "name": "G1 production",
         "type": "scatter",
         "x": [
          "2018-01-23T00:00:00",
          "2018-01-23T01:00:00",
          "2018-01-23T02:00:00",
          "2018-01-23T03:00:00",
          "2018-01-23T04:00:00",
          "2018-01-23T05:00:00",
          "2018-01-23T06:00:00",
          "2018-01-23T07:00:00",
          "2018-01-23T08:00:00",
          "2018-01-23T09:00:00",
          "2018-01-23T10:00:00",
          "2018-01-23T11:00:00",
          "2018-01-23T12:00:00",
          "2018-01-23T13:00:00",
          "2018-01-23T14:00:00",
          "2018-01-23T15:00:00",
          "2018-01-23T16:00:00",
          "2018-01-23T17:00:00",
          "2018-01-23T18:00:00",
          "2018-01-23T19:00:00",
          "2018-01-23T20:00:00",
          "2018-01-23T21:00:00",
          "2018-01-23T22:00:00",
          "2018-01-23T23:00:00",
          "2018-01-24T00:00:00",
          "2018-01-24T01:00:00",
          "2018-01-24T02:00:00",
          "2018-01-24T03:00:00",
          "2018-01-24T04:00:00",
          "2018-01-24T05:00:00",
          "2018-01-24T06:00:00",
          "2018-01-24T07:00:00",
          "2018-01-24T08:00:00",
          "2018-01-24T09:00:00",
          "2018-01-24T10:00:00",
          "2018-01-24T11:00:00",
          "2018-01-24T12:00:00",
          "2018-01-24T13:00:00",
          "2018-01-24T14:00:00",
          "2018-01-24T15:00:00",
          "2018-01-24T16:00:00",
          "2018-01-24T17:00:00",
          "2018-01-24T18:00:00",
          "2018-01-24T19:00:00",
          "2018-01-24T20:00:00",
          "2018-01-24T21:00:00",
          "2018-01-24T22:00:00",
          "2018-01-24T23:00:00",
          "2018-01-25T00:00:00",
          "2018-01-25T01:00:00",
          "2018-01-25T02:00:00",
          "2018-01-25T03:00:00",
          "2018-01-25T04:00:00",
          "2018-01-25T05:00:00",
          "2018-01-25T06:00:00",
          "2018-01-25T07:00:00",
          "2018-01-25T08:00:00",
          "2018-01-25T09:00:00",
          "2018-01-25T10:00:00",
          "2018-01-25T11:00:00",
          "2018-01-25T12:00:00",
          "2018-01-25T13:00:00",
          "2018-01-25T14:00:00",
          "2018-01-25T15:00:00",
          "2018-01-25T16:00:00",
          "2018-01-25T17:00:00",
          "2018-01-25T18:00:00",
          "2018-01-25T19:00:00",
          "2018-01-25T20:00:00",
          "2018-01-25T21:00:00",
          "2018-01-25T22:00:00",
          "2018-01-25T23:00:00"
         ],
         "xaxis": "x",
         "y": [
          108.06201916296483,
          103.70534282965251,
          103.54810593902664,
          89.88016363331994,
          103.25467163128629,
          107.25457918859134,
          114.54131619929512,
          114.33803222101692,
          114.13438919463371,
          113.93079035238806,
          113.72723569427988,
          113.52372522030923,
          113.3202589304761,
          113.11004612169957,
          112.89874681188833,
          112.6874951962042,
          112.47629127464724,
          112.26513504721747,
          108.49205211458424,
          100.54638621524518,
          100.3804509453958,
          100.21454889955352,
          87.6063916791356,
          103.95591724292548,
          103.87260485546628,
          0,
          0,
          0,
          0,
          103.78930077400881,
          87.33840925566565,
          99.51056189034486,
          99.34483412500487,
          99.17913958367205,
          99.01347826634634,
          98.8478501730278,
          86.66883361140624,
          86.56352124650434,
          86.45389687938706,
          86.34424536640483,
          86.29169047750416,
          86.18820676710574,
          86.08344426870447,
          101.57550850819489,
          101.47808922815183,
          101.38068137035091,
          0,
          0,
          0,
          0,
          0,
          0,
          0,
          0,
          101.28328493479209,
          85.70760529431428,
          96.97720860097756,
          96.783462685199,
          85.33440289466758,
          85.21801588928521,
          85.10200069291922,
          84.98686198958296,
          84.87168231450232,
          84.75455503115265,
          84.63023156595371,
          95.30066292660865,
          95.08509149666521,
          84.2252454668018,
          84.1026075051656,
          98.50348215820401,
          0,
          0
         ],
         "yaxis": "y2"
        },
        {
         "marker": {
          "color": "rgb(209,229,240)"
         },
         "name": "G2 production",
         "type": "scatter",
         "x": [
          "2018-01-23T00:00:00",
          "2018-01-23T01:00:00",
          "2018-01-23T02:00:00",
          "2018-01-23T03:00:00",
          "2018-01-23T04:00:00",
          "2018-01-23T05:00:00",
          "2018-01-23T06:00:00",
          "2018-01-23T07:00:00",
          "2018-01-23T08:00:00",
          "2018-01-23T09:00:00",
          "2018-01-23T10:00:00",
          "2018-01-23T11:00:00",
          "2018-01-23T12:00:00",
          "2018-01-23T13:00:00",
          "2018-01-23T14:00:00",
          "2018-01-23T15:00:00",
          "2018-01-23T16:00:00",
          "2018-01-23T17:00:00",
          "2018-01-23T18:00:00",
          "2018-01-23T19:00:00",
          "2018-01-23T20:00:00",
          "2018-01-23T21:00:00",
          "2018-01-23T22:00:00",
          "2018-01-23T23:00:00",
          "2018-01-24T00:00:00",
          "2018-01-24T01:00:00",
          "2018-01-24T02:00:00",
          "2018-01-24T03:00:00",
          "2018-01-24T04:00:00",
          "2018-01-24T05:00:00",
          "2018-01-24T06:00:00",
          "2018-01-24T07:00:00",
          "2018-01-24T08:00:00",
          "2018-01-24T09:00:00",
          "2018-01-24T10:00:00",
          "2018-01-24T11:00:00",
          "2018-01-24T12:00:00",
          "2018-01-24T13:00:00",
          "2018-01-24T14:00:00",
          "2018-01-24T15:00:00",
          "2018-01-24T16:00:00",
          "2018-01-24T17:00:00",
          "2018-01-24T18:00:00",
          "2018-01-24T19:00:00",
          "2018-01-24T20:00:00",
          "2018-01-24T21:00:00",
          "2018-01-24T22:00:00",
          "2018-01-24T23:00:00",
          "2018-01-25T00:00:00",
          "2018-01-25T01:00:00",
          "2018-01-25T02:00:00",
          "2018-01-25T03:00:00",
          "2018-01-25T04:00:00",
          "2018-01-25T05:00:00",
          "2018-01-25T06:00:00",
          "2018-01-25T07:00:00",
          "2018-01-25T08:00:00",
          "2018-01-25T09:00:00",
          "2018-01-25T10:00:00",
          "2018-01-25T11:00:00",
          "2018-01-25T12:00:00",
          "2018-01-25T13:00:00",
          "2018-01-25T14:00:00",
          "2018-01-25T15:00:00",
          "2018-01-25T16:00:00",
          "2018-01-25T17:00:00",
          "2018-01-25T18:00:00",
          "2018-01-25T19:00:00",
          "2018-01-25T20:00:00",
          "2018-01-25T21:00:00",
          "2018-01-25T22:00:00",
          "2018-01-25T23:00:00"
         ],
         "xaxis": "x",
         "y": [
          108.06201916296483,
          103.70534282965251,
          103.54810593902664,
          89.88018034573841,
          103.25467163128629,
          107.25457918859134,
          114.5413161992951,
          114.33803222101689,
          114.13438919463373,
          113.93079035238807,
          113.7272356942799,
          113.52372522030925,
          113.3202589304761,
          113.11004612169955,
          112.89874681188834,
          112.68749519620418,
          112.47629127464727,
          112.26513504721747,
          108.49205211458424,
          100.54638621524518,
          100.3804509453958,
          100.21454889955352,
          87.60641420214041,
          0,
          0,
          0,
          0,
          0,
          0,
          0,
          87.33843259645363,
          99.51056189034486,
          99.34483412500487,
          99.17913958367205,
          99.01347826634634,
          98.8478501730278,
          86.66886381596336,
          86.56354723489538,
          86.45392325711803,
          86.34427214007515,
          86.29172352942574,
          86.18824258275365,
          86.08347858246609,
          0,
          0,
          0,
          0,
          0,
          0,
          0,
          0,
          0,
          0,
          0,
          0,
          85.70764384983114,
          96.97720860097756,
          96.783462685199,
          85.33444537678777,
          85.21805924066949,
          85.10204231731824,
          84.98690450292723,
          84.87172573750871,
          84.75459938406625,
          84.63027970979243,
          95.30066292660865,
          95.08509149666521,
          84.22529706921546,
          84.10265716543766,
          0,
          0,
          0
         ],
         "yaxis": "y2"
        }
       ],
       "layout": {
        "barmode": "stack",
        "template": {
         "data": {
          "bar": [
           {
            "error_x": {
             "color": "#2a3f5f"
            },
            "error_y": {
             "color": "#2a3f5f"
            },
            "marker": {
             "line": {
              "color": "#E5ECF6",
              "width": 0.5
             },
             "pattern": {
              "fillmode": "overlay",
              "size": 10,
              "solidity": 0.2
             }
            },
            "type": "bar"
           }
          ],
          "barpolar": [
           {
            "marker": {
             "line": {
              "color": "#E5ECF6",
              "width": 0.5
             },
             "pattern": {
              "fillmode": "overlay",
              "size": 10,
              "solidity": 0.2
             }
            },
            "type": "barpolar"
           }
          ],
          "carpet": [
           {
            "aaxis": {
             "endlinecolor": "#2a3f5f",
             "gridcolor": "white",
             "linecolor": "white",
             "minorgridcolor": "white",
             "startlinecolor": "#2a3f5f"
            },
            "baxis": {
             "endlinecolor": "#2a3f5f",
             "gridcolor": "white",
             "linecolor": "white",
             "minorgridcolor": "white",
             "startlinecolor": "#2a3f5f"
            },
            "type": "carpet"
           }
          ],
          "choropleth": [
           {
            "colorbar": {
             "outlinewidth": 0,
             "ticks": ""
            },
            "type": "choropleth"
           }
          ],
          "contour": [
           {
            "colorbar": {
             "outlinewidth": 0,
             "ticks": ""
            },
            "colorscale": [
             [
              0,
              "#0d0887"
             ],
             [
              0.1111111111111111,
              "#46039f"
             ],
             [
              0.2222222222222222,
              "#7201a8"
             ],
             [
              0.3333333333333333,
              "#9c179e"
             ],
             [
              0.4444444444444444,
              "#bd3786"
             ],
             [
              0.5555555555555556,
              "#d8576b"
             ],
             [
              0.6666666666666666,
              "#ed7953"
             ],
             [
              0.7777777777777778,
              "#fb9f3a"
             ],
             [
              0.8888888888888888,
              "#fdca26"
             ],
             [
              1,
              "#f0f921"
             ]
            ],
            "type": "contour"
           }
          ],
          "contourcarpet": [
           {
            "colorbar": {
             "outlinewidth": 0,
             "ticks": ""
            },
            "type": "contourcarpet"
           }
          ],
          "heatmap": [
           {
            "colorbar": {
             "outlinewidth": 0,
             "ticks": ""
            },
            "colorscale": [
             [
              0,
              "#0d0887"
             ],
             [
              0.1111111111111111,
              "#46039f"
             ],
             [
              0.2222222222222222,
              "#7201a8"
             ],
             [
              0.3333333333333333,
              "#9c179e"
             ],
             [
              0.4444444444444444,
              "#bd3786"
             ],
             [
              0.5555555555555556,
              "#d8576b"
             ],
             [
              0.6666666666666666,
              "#ed7953"
             ],
             [
              0.7777777777777778,
              "#fb9f3a"
             ],
             [
              0.8888888888888888,
              "#fdca26"
             ],
             [
              1,
              "#f0f921"
             ]
            ],
            "type": "heatmap"
           }
          ],
          "heatmapgl": [
           {
            "colorbar": {
             "outlinewidth": 0,
             "ticks": ""
            },
            "colorscale": [
             [
              0,
              "#0d0887"
             ],
             [
              0.1111111111111111,
              "#46039f"
             ],
             [
              0.2222222222222222,
              "#7201a8"
             ],
             [
              0.3333333333333333,
              "#9c179e"
             ],
             [
              0.4444444444444444,
              "#bd3786"
             ],
             [
              0.5555555555555556,
              "#d8576b"
             ],
             [
              0.6666666666666666,
              "#ed7953"
             ],
             [
              0.7777777777777778,
              "#fb9f3a"
             ],
             [
              0.8888888888888888,
              "#fdca26"
             ],
             [
              1,
              "#f0f921"
             ]
            ],
            "type": "heatmapgl"
           }
          ],
          "histogram": [
           {
            "marker": {
             "pattern": {
              "fillmode": "overlay",
              "size": 10,
              "solidity": 0.2
             }
            },
            "type": "histogram"
           }
          ],
          "histogram2d": [
           {
            "colorbar": {
             "outlinewidth": 0,
             "ticks": ""
            },
            "colorscale": [
             [
              0,
              "#0d0887"
             ],
             [
              0.1111111111111111,
              "#46039f"
             ],
             [
              0.2222222222222222,
              "#7201a8"
             ],
             [
              0.3333333333333333,
              "#9c179e"
             ],
             [
              0.4444444444444444,
              "#bd3786"
             ],
             [
              0.5555555555555556,
              "#d8576b"
             ],
             [
              0.6666666666666666,
              "#ed7953"
             ],
             [
              0.7777777777777778,
              "#fb9f3a"
             ],
             [
              0.8888888888888888,
              "#fdca26"
             ],
             [
              1,
              "#f0f921"
             ]
            ],
            "type": "histogram2d"
           }
          ],
          "histogram2dcontour": [
           {
            "colorbar": {
             "outlinewidth": 0,
             "ticks": ""
            },
            "colorscale": [
             [
              0,
              "#0d0887"
             ],
             [
              0.1111111111111111,
              "#46039f"
             ],
             [
              0.2222222222222222,
              "#7201a8"
             ],
             [
              0.3333333333333333,
              "#9c179e"
             ],
             [
              0.4444444444444444,
              "#bd3786"
             ],
             [
              0.5555555555555556,
              "#d8576b"
             ],
             [
              0.6666666666666666,
              "#ed7953"
             ],
             [
              0.7777777777777778,
              "#fb9f3a"
             ],
             [
              0.8888888888888888,
              "#fdca26"
             ],
             [
              1,
              "#f0f921"
             ]
            ],
            "type": "histogram2dcontour"
           }
          ],
          "mesh3d": [
           {
            "colorbar": {
             "outlinewidth": 0,
             "ticks": ""
            },
            "type": "mesh3d"
           }
          ],
          "parcoords": [
           {
            "line": {
             "colorbar": {
              "outlinewidth": 0,
              "ticks": ""
             }
            },
            "type": "parcoords"
           }
          ],
          "pie": [
           {
            "automargin": true,
            "type": "pie"
           }
          ],
          "scatter": [
           {
            "marker": {
             "colorbar": {
              "outlinewidth": 0,
              "ticks": ""
             }
            },
            "type": "scatter"
           }
          ],
          "scatter3d": [
           {
            "line": {
             "colorbar": {
              "outlinewidth": 0,
              "ticks": ""
             }
            },
            "marker": {
             "colorbar": {
              "outlinewidth": 0,
              "ticks": ""
             }
            },
            "type": "scatter3d"
           }
          ],
          "scattercarpet": [
           {
            "marker": {
             "colorbar": {
              "outlinewidth": 0,
              "ticks": ""
             }
            },
            "type": "scattercarpet"
           }
          ],
          "scattergeo": [
           {
            "marker": {
             "colorbar": {
              "outlinewidth": 0,
              "ticks": ""
             }
            },
            "type": "scattergeo"
           }
          ],
          "scattergl": [
           {
            "marker": {
             "colorbar": {
              "outlinewidth": 0,
              "ticks": ""
             }
            },
            "type": "scattergl"
           }
          ],
          "scattermapbox": [
           {
            "marker": {
             "colorbar": {
              "outlinewidth": 0,
              "ticks": ""
             }
            },
            "type": "scattermapbox"
           }
          ],
          "scatterpolar": [
           {
            "marker": {
             "colorbar": {
              "outlinewidth": 0,
              "ticks": ""
             }
            },
            "type": "scatterpolar"
           }
          ],
          "scatterpolargl": [
           {
            "marker": {
             "colorbar": {
              "outlinewidth": 0,
              "ticks": ""
             }
            },
            "type": "scatterpolargl"
           }
          ],
          "scatterternary": [
           {
            "marker": {
             "colorbar": {
              "outlinewidth": 0,
              "ticks": ""
             }
            },
            "type": "scatterternary"
           }
          ],
          "surface": [
           {
            "colorbar": {
             "outlinewidth": 0,
             "ticks": ""
            },
            "colorscale": [
             [
              0,
              "#0d0887"
             ],
             [
              0.1111111111111111,
              "#46039f"
             ],
             [
              0.2222222222222222,
              "#7201a8"
             ],
             [
              0.3333333333333333,
              "#9c179e"
             ],
             [
              0.4444444444444444,
              "#bd3786"
             ],
             [
              0.5555555555555556,
              "#d8576b"
             ],
             [
              0.6666666666666666,
              "#ed7953"
             ],
             [
              0.7777777777777778,
              "#fb9f3a"
             ],
             [
              0.8888888888888888,
              "#fdca26"
             ],
             [
              1,
              "#f0f921"
             ]
            ],
            "type": "surface"
           }
          ],
          "table": [
           {
            "cells": {
             "fill": {
              "color": "#EBF0F8"
             },
             "line": {
              "color": "white"
             }
            },
            "header": {
             "fill": {
              "color": "#C8D4E3"
             },
             "line": {
              "color": "white"
             }
            },
            "type": "table"
           }
          ]
         },
         "layout": {
          "annotationdefaults": {
           "arrowcolor": "#2a3f5f",
           "arrowhead": 0,
           "arrowwidth": 1
          },
          "autotypenumbers": "strict",
          "coloraxis": {
           "colorbar": {
            "outlinewidth": 0,
            "ticks": ""
           }
          },
          "colorscale": {
           "diverging": [
            [
             0,
             "#8e0152"
            ],
            [
             0.1,
             "#c51b7d"
            ],
            [
             0.2,
             "#de77ae"
            ],
            [
             0.3,
             "#f1b6da"
            ],
            [
             0.4,
             "#fde0ef"
            ],
            [
             0.5,
             "#f7f7f7"
            ],
            [
             0.6,
             "#e6f5d0"
            ],
            [
             0.7,
             "#b8e186"
            ],
            [
             0.8,
             "#7fbc41"
            ],
            [
             0.9,
             "#4d9221"
            ],
            [
             1,
             "#276419"
            ]
           ],
           "sequential": [
            [
             0,
             "#0d0887"
            ],
            [
             0.1111111111111111,
             "#46039f"
            ],
            [
             0.2222222222222222,
             "#7201a8"
            ],
            [
             0.3333333333333333,
             "#9c179e"
            ],
            [
             0.4444444444444444,
             "#bd3786"
            ],
            [
             0.5555555555555556,
             "#d8576b"
            ],
            [
             0.6666666666666666,
             "#ed7953"
            ],
            [
             0.7777777777777778,
             "#fb9f3a"
            ],
            [
             0.8888888888888888,
             "#fdca26"
            ],
            [
             1,
             "#f0f921"
            ]
           ],
           "sequentialminus": [
            [
             0,
             "#0d0887"
            ],
            [
             0.1111111111111111,
             "#46039f"
            ],
            [
             0.2222222222222222,
             "#7201a8"
            ],
            [
             0.3333333333333333,
             "#9c179e"
            ],
            [
             0.4444444444444444,
             "#bd3786"
            ],
            [
             0.5555555555555556,
             "#d8576b"
            ],
            [
             0.6666666666666666,
             "#ed7953"
            ],
            [
             0.7777777777777778,
             "#fb9f3a"
            ],
            [
             0.8888888888888888,
             "#fdca26"
            ],
            [
             1,
             "#f0f921"
            ]
           ]
          },
          "colorway": [
           "#636efa",
           "#EF553B",
           "#00cc96",
           "#ab63fa",
           "#FFA15A",
           "#19d3f3",
           "#FF6692",
           "#B6E880",
           "#FF97FF",
           "#FECB52"
          ],
          "font": {
           "color": "#2a3f5f"
          },
          "geo": {
           "bgcolor": "white",
           "lakecolor": "white",
           "landcolor": "#E5ECF6",
           "showlakes": true,
           "showland": true,
           "subunitcolor": "white"
          },
          "hoverlabel": {
           "align": "left"
          },
          "hovermode": "closest",
          "mapbox": {
           "style": "light"
          },
          "paper_bgcolor": "white",
          "plot_bgcolor": "#E5ECF6",
          "polar": {
           "angularaxis": {
            "gridcolor": "white",
            "linecolor": "white",
            "ticks": ""
           },
           "bgcolor": "#E5ECF6",
           "radialaxis": {
            "gridcolor": "white",
            "linecolor": "white",
            "ticks": ""
           }
          },
          "scene": {
           "xaxis": {
            "backgroundcolor": "#E5ECF6",
            "gridcolor": "white",
            "gridwidth": 2,
            "linecolor": "white",
            "showbackground": true,
            "ticks": "",
            "zerolinecolor": "white"
           },
           "yaxis": {
            "backgroundcolor": "#E5ECF6",
            "gridcolor": "white",
            "gridwidth": 2,
            "linecolor": "white",
            "showbackground": true,
            "ticks": "",
            "zerolinecolor": "white"
           },
           "zaxis": {
            "backgroundcolor": "#E5ECF6",
            "gridcolor": "white",
            "gridwidth": 2,
            "linecolor": "white",
            "showbackground": true,
            "ticks": "",
            "zerolinecolor": "white"
           }
          },
          "shapedefaults": {
           "line": {
            "color": "#2a3f5f"
           }
          },
          "ternary": {
           "aaxis": {
            "gridcolor": "white",
            "linecolor": "white",
            "ticks": ""
           },
           "baxis": {
            "gridcolor": "white",
            "linecolor": "white",
            "ticks": ""
           },
           "bgcolor": "#E5ECF6",
           "caxis": {
            "gridcolor": "white",
            "linecolor": "white",
            "ticks": ""
           }
          },
          "title": {
           "x": 0.05
          },
          "xaxis": {
           "automargin": true,
           "gridcolor": "white",
           "linecolor": "white",
           "ticks": "",
           "title": {
            "standoff": 15
           },
           "zerolinecolor": "white",
           "zerolinewidth": 2
          },
          "yaxis": {
           "automargin": true,
           "gridcolor": "white",
           "linecolor": "white",
           "ticks": "",
           "title": {
            "standoff": 15
           },
           "zerolinecolor": "white",
           "zerolinewidth": 2
          }
         }
        },
        "title": {
         "text": "<b>Unit discharge and production in Plant1</b>"
        },
        "xaxis": {
         "anchor": "y",
         "domain": [
          0,
          0.94
         ],
         "title": {
          "text": "<b>Time</b> (Hour)"
         }
        },
        "yaxis": {
         "anchor": "x",
         "domain": [
          0,
          1
         ],
         "dtick": 20,
         "range": [
          0,
          120
         ],
         "tick0": 20,
         "title": {
          "text": "<b>Discharge</b> (m<sup>3</sup>/s)"
         }
        },
        "yaxis2": {
         "anchor": "x",
         "dtick": 40,
         "overlaying": "y",
         "range": [
          0,
          240
         ],
         "side": "right",
         "tick0": 40,
         "title": {
          "text": "<b>Production</b> (MW)"
         }
        }
       }
      },
      "text/html": [
       "<div>                            <div id=\"fc77aba8-3960-4b16-8055-54e724e4c8b7\" class=\"plotly-graph-div\" style=\"height:525px; width:100%;\"></div>            <script type=\"text/javascript\">                require([\"plotly\"], function(Plotly) {                    window.PLOTLYENV=window.PLOTLYENV || {};                                    if (document.getElementById(\"fc77aba8-3960-4b16-8055-54e724e4c8b7\")) {                    Plotly.newPlot(                        \"fc77aba8-3960-4b16-8055-54e724e4c8b7\",                        [{\"marker\":{\"color\":\"rgb(33,102,172)\"},\"name\":\"G1 Discharge\",\"x\":[\"2018-01-23T00:00:00\",\"2018-01-23T01:00:00\",\"2018-01-23T02:00:00\",\"2018-01-23T03:00:00\",\"2018-01-23T04:00:00\",\"2018-01-23T05:00:00\",\"2018-01-23T06:00:00\",\"2018-01-23T07:00:00\",\"2018-01-23T08:00:00\",\"2018-01-23T09:00:00\",\"2018-01-23T10:00:00\",\"2018-01-23T11:00:00\",\"2018-01-23T12:00:00\",\"2018-01-23T13:00:00\",\"2018-01-23T14:00:00\",\"2018-01-23T15:00:00\",\"2018-01-23T16:00:00\",\"2018-01-23T17:00:00\",\"2018-01-23T18:00:00\",\"2018-01-23T19:00:00\",\"2018-01-23T20:00:00\",\"2018-01-23T21:00:00\",\"2018-01-23T22:00:00\",\"2018-01-23T23:00:00\",\"2018-01-24T00:00:00\",\"2018-01-24T01:00:00\",\"2018-01-24T02:00:00\",\"2018-01-24T03:00:00\",\"2018-01-24T04:00:00\",\"2018-01-24T05:00:00\",\"2018-01-24T06:00:00\",\"2018-01-24T07:00:00\",\"2018-01-24T08:00:00\",\"2018-01-24T09:00:00\",\"2018-01-24T10:00:00\",\"2018-01-24T11:00:00\",\"2018-01-24T12:00:00\",\"2018-01-24T13:00:00\",\"2018-01-24T14:00:00\",\"2018-01-24T15:00:00\",\"2018-01-24T16:00:00\",\"2018-01-24T17:00:00\",\"2018-01-24T18:00:00\",\"2018-01-24T19:00:00\",\"2018-01-24T20:00:00\",\"2018-01-24T21:00:00\",\"2018-01-24T22:00:00\",\"2018-01-24T23:00:00\",\"2018-01-25T00:00:00\",\"2018-01-25T01:00:00\",\"2018-01-25T02:00:00\",\"2018-01-25T03:00:00\",\"2018-01-25T04:00:00\",\"2018-01-25T05:00:00\",\"2018-01-25T06:00:00\",\"2018-01-25T07:00:00\",\"2018-01-25T08:00:00\",\"2018-01-25T09:00:00\",\"2018-01-25T10:00:00\",\"2018-01-25T11:00:00\",\"2018-01-25T12:00:00\",\"2018-01-25T13:00:00\",\"2018-01-25T14:00:00\",\"2018-01-25T15:00:00\",\"2018-01-25T16:00:00\",\"2018-01-25T17:00:00\",\"2018-01-25T18:00:00\",\"2018-01-25T19:00:00\",\"2018-01-25T20:00:00\",\"2018-01-25T21:00:00\",\"2018-01-25T22:00:00\",\"2018-01-25T23:00:00\"],\"y\":[53.89666666666665,51.42999999999999,51.42999999999999,44.57418717078616,51.42999999999999,53.89666666666665,58.830000000000005,58.830000000000005,58.83,58.82999999999999,58.83,58.83,58.830000000000005,58.83,58.83,58.830000000000005,58.82999999999999,58.830000000000005,56.36333333333332,51.42999999999999,51.42999999999999,51.42999999999999,44.87055619430757,51.42999999999999,51.42999999999999,0.0,0.0,0.0,0.0,51.42999999999999,44.90664806755014,51.42999999999999,51.42999999999999,51.42999999999999,51.42999999999999,51.42999999999999,44.99794648990434,45.015208674087745,45.03037116958047,45.045582735749896,45.089732356238855,45.1082914375667,45.127362326819416,51.42999999999999,51.42999999999999,51.42999999999999,0.0,0.0,0.0,0.0,0.0,0.0,0.0,0.0,51.42999999999999,45.183658898295974,51.42999999999999,51.42999999999999,45.2454806624927,45.26637455438824,45.287563088975894,45.30930956811796,45.33114312066447,45.35306431854036,45.37507373915416,51.42999999999999,51.42999999999999,45.44823968530618,45.47228059928575,51.42999999999999,0.0,0.0],\"type\":\"bar\",\"xaxis\":\"x\",\"yaxis\":\"y\"},{\"marker\":{\"color\":\"rgb(67,147,195)\"},\"name\":\"G2 Discharge\",\"x\":[\"2018-01-23T00:00:00\",\"2018-01-23T01:00:00\",\"2018-01-23T02:00:00\",\"2018-01-23T03:00:00\",\"2018-01-23T04:00:00\",\"2018-01-23T05:00:00\",\"2018-01-23T06:00:00\",\"2018-01-23T07:00:00\",\"2018-01-23T08:00:00\",\"2018-01-23T09:00:00\",\"2018-01-23T10:00:00\",\"2018-01-23T11:00:00\",\"2018-01-23T12:00:00\",\"2018-01-23T13:00:00\",\"2018-01-23T14:00:00\",\"2018-01-23T15:00:00\",\"2018-01-23T16:00:00\",\"2018-01-23T17:00:00\",\"2018-01-23T18:00:00\",\"2018-01-23T19:00:00\",\"2018-01-23T20:00:00\",\"2018-01-23T21:00:00\",\"2018-01-23T22:00:00\",\"2018-01-23T23:00:00\",\"2018-01-24T00:00:00\",\"2018-01-24T01:00:00\",\"2018-01-24T02:00:00\",\"2018-01-24T03:00:00\",\"2018-01-24T04:00:00\",\"2018-01-24T05:00:00\",\"2018-01-24T06:00:00\",\"2018-01-24T07:00:00\",\"2018-01-24T08:00:00\",\"2018-01-24T09:00:00\",\"2018-01-24T10:00:00\",\"2018-01-24T11:00:00\",\"2018-01-24T12:00:00\",\"2018-01-24T13:00:00\",\"2018-01-24T14:00:00\",\"2018-01-24T15:00:00\",\"2018-01-24T16:00:00\",\"2018-01-24T17:00:00\",\"2018-01-24T18:00:00\",\"2018-01-24T19:00:00\",\"2018-01-24T20:00:00\",\"2018-01-24T21:00:00\",\"2018-01-24T22:00:00\",\"2018-01-24T23:00:00\",\"2018-01-25T00:00:00\",\"2018-01-25T01:00:00\",\"2018-01-25T02:00:00\",\"2018-01-25T03:00:00\",\"2018-01-25T04:00:00\",\"2018-01-25T05:00:00\",\"2018-01-25T06:00:00\",\"2018-01-25T07:00:00\",\"2018-01-25T08:00:00\",\"2018-01-25T09:00:00\",\"2018-01-25T10:00:00\",\"2018-01-25T11:00:00\",\"2018-01-25T12:00:00\",\"2018-01-25T13:00:00\",\"2018-01-25T14:00:00\",\"2018-01-25T15:00:00\",\"2018-01-25T16:00:00\",\"2018-01-25T17:00:00\",\"2018-01-25T18:00:00\",\"2018-01-25T19:00:00\",\"2018-01-25T20:00:00\",\"2018-01-25T21:00:00\",\"2018-01-25T22:00:00\",\"2018-01-25T23:00:00\"],\"y\":[53.89666666666665,51.42999999999999,51.42999999999999,44.57419460118955,51.42999999999999,53.89666666666665,58.82999999999999,58.82999999999999,58.830000000000005,58.83,58.830000000000005,58.830000000000005,58.830000000000005,58.82999999999999,58.830000000000005,58.83,58.830000000000005,58.830000000000005,56.36333333333332,51.42999999999999,51.42999999999999,51.42999999999999,44.87056653005721,0.0,0.0,0.0,0.0,0.0,0.0,0.0,44.90665881929159,51.42999999999999,51.42999999999999,51.42999999999999,51.42999999999999,51.42999999999999,44.997960536759365,45.01522077910215,45.03038347528541,45.04559524586591,45.08974782305042,45.10830822407153,45.12737843515483,0.0,0.0,0.0,0.0,0.0,0.0,0.0,0.0,0.0,0.0,0.0,0.0,45.18367709784694,51.42999999999999,51.42999999999999,45.245500828250606,45.26639516951753,45.287582918266814,45.309329857166496,45.331163881038314,45.353085562122466,45.375096842508995,51.42999999999999,51.42999999999999,45.44826460384385,45.47230462646854,0.0,0.0,0.0],\"type\":\"bar\",\"xaxis\":\"x\",\"yaxis\":\"y\"},{\"marker\":{\"color\":\"rgb(146,197,222)\"},\"name\":\"G1 production\",\"x\":[\"2018-01-23T00:00:00\",\"2018-01-23T01:00:00\",\"2018-01-23T02:00:00\",\"2018-01-23T03:00:00\",\"2018-01-23T04:00:00\",\"2018-01-23T05:00:00\",\"2018-01-23T06:00:00\",\"2018-01-23T07:00:00\",\"2018-01-23T08:00:00\",\"2018-01-23T09:00:00\",\"2018-01-23T10:00:00\",\"2018-01-23T11:00:00\",\"2018-01-23T12:00:00\",\"2018-01-23T13:00:00\",\"2018-01-23T14:00:00\",\"2018-01-23T15:00:00\",\"2018-01-23T16:00:00\",\"2018-01-23T17:00:00\",\"2018-01-23T18:00:00\",\"2018-01-23T19:00:00\",\"2018-01-23T20:00:00\",\"2018-01-23T21:00:00\",\"2018-01-23T22:00:00\",\"2018-01-23T23:00:00\",\"2018-01-24T00:00:00\",\"2018-01-24T01:00:00\",\"2018-01-24T02:00:00\",\"2018-01-24T03:00:00\",\"2018-01-24T04:00:00\",\"2018-01-24T05:00:00\",\"2018-01-24T06:00:00\",\"2018-01-24T07:00:00\",\"2018-01-24T08:00:00\",\"2018-01-24T09:00:00\",\"2018-01-24T10:00:00\",\"2018-01-24T11:00:00\",\"2018-01-24T12:00:00\",\"2018-01-24T13:00:00\",\"2018-01-24T14:00:00\",\"2018-01-24T15:00:00\",\"2018-01-24T16:00:00\",\"2018-01-24T17:00:00\",\"2018-01-24T18:00:00\",\"2018-01-24T19:00:00\",\"2018-01-24T20:00:00\",\"2018-01-24T21:00:00\",\"2018-01-24T22:00:00\",\"2018-01-24T23:00:00\",\"2018-01-25T00:00:00\",\"2018-01-25T01:00:00\",\"2018-01-25T02:00:00\",\"2018-01-25T03:00:00\",\"2018-01-25T04:00:00\",\"2018-01-25T05:00:00\",\"2018-01-25T06:00:00\",\"2018-01-25T07:00:00\",\"2018-01-25T08:00:00\",\"2018-01-25T09:00:00\",\"2018-01-25T10:00:00\",\"2018-01-25T11:00:00\",\"2018-01-25T12:00:00\",\"2018-01-25T13:00:00\",\"2018-01-25T14:00:00\",\"2018-01-25T15:00:00\",\"2018-01-25T16:00:00\",\"2018-01-25T17:00:00\",\"2018-01-25T18:00:00\",\"2018-01-25T19:00:00\",\"2018-01-25T20:00:00\",\"2018-01-25T21:00:00\",\"2018-01-25T22:00:00\",\"2018-01-25T23:00:00\"],\"y\":[108.06201916296483,103.70534282965251,103.54810593902664,89.88016363331994,103.25467163128629,107.25457918859134,114.54131619929512,114.33803222101692,114.13438919463371,113.93079035238806,113.72723569427988,113.52372522030923,113.3202589304761,113.11004612169957,112.89874681188833,112.6874951962042,112.47629127464724,112.26513504721747,108.49205211458424,100.54638621524518,100.3804509453958,100.21454889955352,87.6063916791356,103.95591724292548,103.87260485546628,0.0,0.0,0.0,0.0,103.78930077400881,87.33840925566565,99.51056189034486,99.34483412500487,99.17913958367205,99.01347826634634,98.8478501730278,86.66883361140624,86.56352124650434,86.45389687938706,86.34424536640483,86.29169047750416,86.18820676710574,86.08344426870447,101.57550850819489,101.47808922815183,101.38068137035091,0.0,0.0,0.0,0.0,0.0,0.0,0.0,0.0,101.28328493479209,85.70760529431428,96.97720860097756,96.783462685199,85.33440289466758,85.21801588928521,85.10200069291922,84.98686198958296,84.87168231450232,84.75455503115265,84.63023156595371,95.30066292660865,95.08509149666521,84.2252454668018,84.1026075051656,98.50348215820401,0.0,0.0],\"type\":\"scatter\",\"xaxis\":\"x\",\"yaxis\":\"y2\"},{\"marker\":{\"color\":\"rgb(209,229,240)\"},\"name\":\"G2 production\",\"x\":[\"2018-01-23T00:00:00\",\"2018-01-23T01:00:00\",\"2018-01-23T02:00:00\",\"2018-01-23T03:00:00\",\"2018-01-23T04:00:00\",\"2018-01-23T05:00:00\",\"2018-01-23T06:00:00\",\"2018-01-23T07:00:00\",\"2018-01-23T08:00:00\",\"2018-01-23T09:00:00\",\"2018-01-23T10:00:00\",\"2018-01-23T11:00:00\",\"2018-01-23T12:00:00\",\"2018-01-23T13:00:00\",\"2018-01-23T14:00:00\",\"2018-01-23T15:00:00\",\"2018-01-23T16:00:00\",\"2018-01-23T17:00:00\",\"2018-01-23T18:00:00\",\"2018-01-23T19:00:00\",\"2018-01-23T20:00:00\",\"2018-01-23T21:00:00\",\"2018-01-23T22:00:00\",\"2018-01-23T23:00:00\",\"2018-01-24T00:00:00\",\"2018-01-24T01:00:00\",\"2018-01-24T02:00:00\",\"2018-01-24T03:00:00\",\"2018-01-24T04:00:00\",\"2018-01-24T05:00:00\",\"2018-01-24T06:00:00\",\"2018-01-24T07:00:00\",\"2018-01-24T08:00:00\",\"2018-01-24T09:00:00\",\"2018-01-24T10:00:00\",\"2018-01-24T11:00:00\",\"2018-01-24T12:00:00\",\"2018-01-24T13:00:00\",\"2018-01-24T14:00:00\",\"2018-01-24T15:00:00\",\"2018-01-24T16:00:00\",\"2018-01-24T17:00:00\",\"2018-01-24T18:00:00\",\"2018-01-24T19:00:00\",\"2018-01-24T20:00:00\",\"2018-01-24T21:00:00\",\"2018-01-24T22:00:00\",\"2018-01-24T23:00:00\",\"2018-01-25T00:00:00\",\"2018-01-25T01:00:00\",\"2018-01-25T02:00:00\",\"2018-01-25T03:00:00\",\"2018-01-25T04:00:00\",\"2018-01-25T05:00:00\",\"2018-01-25T06:00:00\",\"2018-01-25T07:00:00\",\"2018-01-25T08:00:00\",\"2018-01-25T09:00:00\",\"2018-01-25T10:00:00\",\"2018-01-25T11:00:00\",\"2018-01-25T12:00:00\",\"2018-01-25T13:00:00\",\"2018-01-25T14:00:00\",\"2018-01-25T15:00:00\",\"2018-01-25T16:00:00\",\"2018-01-25T17:00:00\",\"2018-01-25T18:00:00\",\"2018-01-25T19:00:00\",\"2018-01-25T20:00:00\",\"2018-01-25T21:00:00\",\"2018-01-25T22:00:00\",\"2018-01-25T23:00:00\"],\"y\":[108.06201916296483,103.70534282965251,103.54810593902664,89.88018034573841,103.25467163128629,107.25457918859134,114.5413161992951,114.33803222101689,114.13438919463373,113.93079035238807,113.7272356942799,113.52372522030925,113.3202589304761,113.11004612169955,112.89874681188834,112.68749519620418,112.47629127464727,112.26513504721747,108.49205211458424,100.54638621524518,100.3804509453958,100.21454889955352,87.60641420214041,0.0,0.0,0.0,0.0,0.0,0.0,0.0,87.33843259645363,99.51056189034486,99.34483412500487,99.17913958367205,99.01347826634634,98.8478501730278,86.66886381596336,86.56354723489538,86.45392325711803,86.34427214007515,86.29172352942574,86.18824258275365,86.08347858246609,0.0,0.0,0.0,0.0,0.0,0.0,0.0,0.0,0.0,0.0,0.0,0.0,85.70764384983114,96.97720860097756,96.783462685199,85.33444537678777,85.21805924066949,85.10204231731824,84.98690450292723,84.87172573750871,84.75459938406625,84.63027970979243,95.30066292660865,95.08509149666521,84.22529706921546,84.10265716543766,0.0,0.0,0.0],\"type\":\"scatter\",\"xaxis\":\"x\",\"yaxis\":\"y2\"}],                        {\"template\":{\"data\":{\"bar\":[{\"error_x\":{\"color\":\"#2a3f5f\"},\"error_y\":{\"color\":\"#2a3f5f\"},\"marker\":{\"line\":{\"color\":\"#E5ECF6\",\"width\":0.5},\"pattern\":{\"fillmode\":\"overlay\",\"size\":10,\"solidity\":0.2}},\"type\":\"bar\"}],\"barpolar\":[{\"marker\":{\"line\":{\"color\":\"#E5ECF6\",\"width\":0.5},\"pattern\":{\"fillmode\":\"overlay\",\"size\":10,\"solidity\":0.2}},\"type\":\"barpolar\"}],\"carpet\":[{\"aaxis\":{\"endlinecolor\":\"#2a3f5f\",\"gridcolor\":\"white\",\"linecolor\":\"white\",\"minorgridcolor\":\"white\",\"startlinecolor\":\"#2a3f5f\"},\"baxis\":{\"endlinecolor\":\"#2a3f5f\",\"gridcolor\":\"white\",\"linecolor\":\"white\",\"minorgridcolor\":\"white\",\"startlinecolor\":\"#2a3f5f\"},\"type\":\"carpet\"}],\"choropleth\":[{\"colorbar\":{\"outlinewidth\":0,\"ticks\":\"\"},\"type\":\"choropleth\"}],\"contour\":[{\"colorbar\":{\"outlinewidth\":0,\"ticks\":\"\"},\"colorscale\":[[0.0,\"#0d0887\"],[0.1111111111111111,\"#46039f\"],[0.2222222222222222,\"#7201a8\"],[0.3333333333333333,\"#9c179e\"],[0.4444444444444444,\"#bd3786\"],[0.5555555555555556,\"#d8576b\"],[0.6666666666666666,\"#ed7953\"],[0.7777777777777778,\"#fb9f3a\"],[0.8888888888888888,\"#fdca26\"],[1.0,\"#f0f921\"]],\"type\":\"contour\"}],\"contourcarpet\":[{\"colorbar\":{\"outlinewidth\":0,\"ticks\":\"\"},\"type\":\"contourcarpet\"}],\"heatmap\":[{\"colorbar\":{\"outlinewidth\":0,\"ticks\":\"\"},\"colorscale\":[[0.0,\"#0d0887\"],[0.1111111111111111,\"#46039f\"],[0.2222222222222222,\"#7201a8\"],[0.3333333333333333,\"#9c179e\"],[0.4444444444444444,\"#bd3786\"],[0.5555555555555556,\"#d8576b\"],[0.6666666666666666,\"#ed7953\"],[0.7777777777777778,\"#fb9f3a\"],[0.8888888888888888,\"#fdca26\"],[1.0,\"#f0f921\"]],\"type\":\"heatmap\"}],\"heatmapgl\":[{\"colorbar\":{\"outlinewidth\":0,\"ticks\":\"\"},\"colorscale\":[[0.0,\"#0d0887\"],[0.1111111111111111,\"#46039f\"],[0.2222222222222222,\"#7201a8\"],[0.3333333333333333,\"#9c179e\"],[0.4444444444444444,\"#bd3786\"],[0.5555555555555556,\"#d8576b\"],[0.6666666666666666,\"#ed7953\"],[0.7777777777777778,\"#fb9f3a\"],[0.8888888888888888,\"#fdca26\"],[1.0,\"#f0f921\"]],\"type\":\"heatmapgl\"}],\"histogram\":[{\"marker\":{\"pattern\":{\"fillmode\":\"overlay\",\"size\":10,\"solidity\":0.2}},\"type\":\"histogram\"}],\"histogram2d\":[{\"colorbar\":{\"outlinewidth\":0,\"ticks\":\"\"},\"colorscale\":[[0.0,\"#0d0887\"],[0.1111111111111111,\"#46039f\"],[0.2222222222222222,\"#7201a8\"],[0.3333333333333333,\"#9c179e\"],[0.4444444444444444,\"#bd3786\"],[0.5555555555555556,\"#d8576b\"],[0.6666666666666666,\"#ed7953\"],[0.7777777777777778,\"#fb9f3a\"],[0.8888888888888888,\"#fdca26\"],[1.0,\"#f0f921\"]],\"type\":\"histogram2d\"}],\"histogram2dcontour\":[{\"colorbar\":{\"outlinewidth\":0,\"ticks\":\"\"},\"colorscale\":[[0.0,\"#0d0887\"],[0.1111111111111111,\"#46039f\"],[0.2222222222222222,\"#7201a8\"],[0.3333333333333333,\"#9c179e\"],[0.4444444444444444,\"#bd3786\"],[0.5555555555555556,\"#d8576b\"],[0.6666666666666666,\"#ed7953\"],[0.7777777777777778,\"#fb9f3a\"],[0.8888888888888888,\"#fdca26\"],[1.0,\"#f0f921\"]],\"type\":\"histogram2dcontour\"}],\"mesh3d\":[{\"colorbar\":{\"outlinewidth\":0,\"ticks\":\"\"},\"type\":\"mesh3d\"}],\"parcoords\":[{\"line\":{\"colorbar\":{\"outlinewidth\":0,\"ticks\":\"\"}},\"type\":\"parcoords\"}],\"pie\":[{\"automargin\":true,\"type\":\"pie\"}],\"scatter\":[{\"marker\":{\"colorbar\":{\"outlinewidth\":0,\"ticks\":\"\"}},\"type\":\"scatter\"}],\"scatter3d\":[{\"line\":{\"colorbar\":{\"outlinewidth\":0,\"ticks\":\"\"}},\"marker\":{\"colorbar\":{\"outlinewidth\":0,\"ticks\":\"\"}},\"type\":\"scatter3d\"}],\"scattercarpet\":[{\"marker\":{\"colorbar\":{\"outlinewidth\":0,\"ticks\":\"\"}},\"type\":\"scattercarpet\"}],\"scattergeo\":[{\"marker\":{\"colorbar\":{\"outlinewidth\":0,\"ticks\":\"\"}},\"type\":\"scattergeo\"}],\"scattergl\":[{\"marker\":{\"colorbar\":{\"outlinewidth\":0,\"ticks\":\"\"}},\"type\":\"scattergl\"}],\"scattermapbox\":[{\"marker\":{\"colorbar\":{\"outlinewidth\":0,\"ticks\":\"\"}},\"type\":\"scattermapbox\"}],\"scatterpolar\":[{\"marker\":{\"colorbar\":{\"outlinewidth\":0,\"ticks\":\"\"}},\"type\":\"scatterpolar\"}],\"scatterpolargl\":[{\"marker\":{\"colorbar\":{\"outlinewidth\":0,\"ticks\":\"\"}},\"type\":\"scatterpolargl\"}],\"scatterternary\":[{\"marker\":{\"colorbar\":{\"outlinewidth\":0,\"ticks\":\"\"}},\"type\":\"scatterternary\"}],\"surface\":[{\"colorbar\":{\"outlinewidth\":0,\"ticks\":\"\"},\"colorscale\":[[0.0,\"#0d0887\"],[0.1111111111111111,\"#46039f\"],[0.2222222222222222,\"#7201a8\"],[0.3333333333333333,\"#9c179e\"],[0.4444444444444444,\"#bd3786\"],[0.5555555555555556,\"#d8576b\"],[0.6666666666666666,\"#ed7953\"],[0.7777777777777778,\"#fb9f3a\"],[0.8888888888888888,\"#fdca26\"],[1.0,\"#f0f921\"]],\"type\":\"surface\"}],\"table\":[{\"cells\":{\"fill\":{\"color\":\"#EBF0F8\"},\"line\":{\"color\":\"white\"}},\"header\":{\"fill\":{\"color\":\"#C8D4E3\"},\"line\":{\"color\":\"white\"}},\"type\":\"table\"}]},\"layout\":{\"annotationdefaults\":{\"arrowcolor\":\"#2a3f5f\",\"arrowhead\":0,\"arrowwidth\":1},\"autotypenumbers\":\"strict\",\"coloraxis\":{\"colorbar\":{\"outlinewidth\":0,\"ticks\":\"\"}},\"colorscale\":{\"diverging\":[[0,\"#8e0152\"],[0.1,\"#c51b7d\"],[0.2,\"#de77ae\"],[0.3,\"#f1b6da\"],[0.4,\"#fde0ef\"],[0.5,\"#f7f7f7\"],[0.6,\"#e6f5d0\"],[0.7,\"#b8e186\"],[0.8,\"#7fbc41\"],[0.9,\"#4d9221\"],[1,\"#276419\"]],\"sequential\":[[0.0,\"#0d0887\"],[0.1111111111111111,\"#46039f\"],[0.2222222222222222,\"#7201a8\"],[0.3333333333333333,\"#9c179e\"],[0.4444444444444444,\"#bd3786\"],[0.5555555555555556,\"#d8576b\"],[0.6666666666666666,\"#ed7953\"],[0.7777777777777778,\"#fb9f3a\"],[0.8888888888888888,\"#fdca26\"],[1.0,\"#f0f921\"]],\"sequentialminus\":[[0.0,\"#0d0887\"],[0.1111111111111111,\"#46039f\"],[0.2222222222222222,\"#7201a8\"],[0.3333333333333333,\"#9c179e\"],[0.4444444444444444,\"#bd3786\"],[0.5555555555555556,\"#d8576b\"],[0.6666666666666666,\"#ed7953\"],[0.7777777777777778,\"#fb9f3a\"],[0.8888888888888888,\"#fdca26\"],[1.0,\"#f0f921\"]]},\"colorway\":[\"#636efa\",\"#EF553B\",\"#00cc96\",\"#ab63fa\",\"#FFA15A\",\"#19d3f3\",\"#FF6692\",\"#B6E880\",\"#FF97FF\",\"#FECB52\"],\"font\":{\"color\":\"#2a3f5f\"},\"geo\":{\"bgcolor\":\"white\",\"lakecolor\":\"white\",\"landcolor\":\"#E5ECF6\",\"showlakes\":true,\"showland\":true,\"subunitcolor\":\"white\"},\"hoverlabel\":{\"align\":\"left\"},\"hovermode\":\"closest\",\"mapbox\":{\"style\":\"light\"},\"paper_bgcolor\":\"white\",\"plot_bgcolor\":\"#E5ECF6\",\"polar\":{\"angularaxis\":{\"gridcolor\":\"white\",\"linecolor\":\"white\",\"ticks\":\"\"},\"bgcolor\":\"#E5ECF6\",\"radialaxis\":{\"gridcolor\":\"white\",\"linecolor\":\"white\",\"ticks\":\"\"}},\"scene\":{\"xaxis\":{\"backgroundcolor\":\"#E5ECF6\",\"gridcolor\":\"white\",\"gridwidth\":2,\"linecolor\":\"white\",\"showbackground\":true,\"ticks\":\"\",\"zerolinecolor\":\"white\"},\"yaxis\":{\"backgroundcolor\":\"#E5ECF6\",\"gridcolor\":\"white\",\"gridwidth\":2,\"linecolor\":\"white\",\"showbackground\":true,\"ticks\":\"\",\"zerolinecolor\":\"white\"},\"zaxis\":{\"backgroundcolor\":\"#E5ECF6\",\"gridcolor\":\"white\",\"gridwidth\":2,\"linecolor\":\"white\",\"showbackground\":true,\"ticks\":\"\",\"zerolinecolor\":\"white\"}},\"shapedefaults\":{\"line\":{\"color\":\"#2a3f5f\"}},\"ternary\":{\"aaxis\":{\"gridcolor\":\"white\",\"linecolor\":\"white\",\"ticks\":\"\"},\"baxis\":{\"gridcolor\":\"white\",\"linecolor\":\"white\",\"ticks\":\"\"},\"bgcolor\":\"#E5ECF6\",\"caxis\":{\"gridcolor\":\"white\",\"linecolor\":\"white\",\"ticks\":\"\"}},\"title\":{\"x\":0.05},\"xaxis\":{\"automargin\":true,\"gridcolor\":\"white\",\"linecolor\":\"white\",\"ticks\":\"\",\"title\":{\"standoff\":15},\"zerolinecolor\":\"white\",\"zerolinewidth\":2},\"yaxis\":{\"automargin\":true,\"gridcolor\":\"white\",\"linecolor\":\"white\",\"ticks\":\"\",\"title\":{\"standoff\":15},\"zerolinecolor\":\"white\",\"zerolinewidth\":2}}},\"xaxis\":{\"anchor\":\"y\",\"domain\":[0.0,0.94],\"title\":{\"text\":\"<b>Time</b> (Hour)\"}},\"yaxis\":{\"anchor\":\"x\",\"domain\":[0.0,1.0],\"title\":{\"text\":\"<b>Discharge</b> (m<sup>3</sup>/s)\"},\"range\":[0,120],\"tick0\":20,\"dtick\":20},\"yaxis2\":{\"anchor\":\"x\",\"overlaying\":\"y\",\"side\":\"right\",\"title\":{\"text\":\"<b>Production</b> (MW)\"},\"range\":[0,240],\"tick0\":40,\"dtick\":40},\"title\":{\"text\":\"<b>Unit discharge and production in Plant1</b>\"},\"barmode\":\"stack\"},                        {\"responsive\": true}                    ).then(function(){\n",
       "                            \n",
       "var gd = document.getElementById('fc77aba8-3960-4b16-8055-54e724e4c8b7');\n",
       "var x = new MutationObserver(function (mutations, observer) {{\n",
       "        var display = window.getComputedStyle(gd).display;\n",
       "        if (!display || display === 'none') {{\n",
       "            console.log([gd, 'removed!']);\n",
       "            Plotly.purge(gd);\n",
       "            observer.disconnect();\n",
       "        }}\n",
       "}});\n",
       "\n",
       "// Listen for the removal of the full notebook cells\n",
       "var notebookContainer = gd.closest('#notebook-container');\n",
       "if (notebookContainer) {{\n",
       "    x.observe(notebookContainer, {childList: true});\n",
       "}}\n",
       "\n",
       "// Listen for the clearing of the current output cell\n",
       "var outputEl = gd.closest('.output');\n",
       "if (outputEl) {{\n",
       "    x.observe(outputEl, {childList: true});\n",
       "}}\n",
       "\n",
       "                        })                };                });            </script>        </div>"
      ]
     },
     "metadata": {},
     "output_type": "display_data"
    }
   ],
   "source": [
    "# Plotting discharge and production results from Plant 1\n",
    "\n",
    "# Retrieving discharge results on generators\n",
    "G1_discharge=shop.model.generator.Plant1_Generator1.discharge.get()\n",
    "G2_discharge=shop.model.generator.Plant1_Generator2.discharge.get()\n",
    "\n",
    "# Retrieving production results on generators\n",
    "G1_production=shop.model.generator.Plant1_Generator1.production.get()\n",
    "G2_production=shop.model.generator.Plant1_Generator2.production.get()\n",
    "\n",
    "# Preparing for secondary y axis by calling make_subplots function\n",
    "coloraxis = px.colors.sequential.RdBu_r\n",
    "#coloraxis=[\"rgb(0, 200, 30)\",\"rgb(0, 200, 60)\",\"rgb(0, 200, 90)\",\"rgb(0, 200, 120)\",\"rgb(0, 200, 150)\",\"rgb(0, 200, 180)\",\"rgb(0, 200, 210)\",\"rgb(0, 200, 255)\"]\n",
    "#print(coloraxis)\n",
    "fig = make_subplots(specs=[[{\"secondary_y\": True}]])\n",
    "fig.add_trace(go.Bar(x=G1_discharge.index, y=G1_discharge.values, name=\"G1 Discharge\", marker_color=coloraxis[1]), secondary_y=False)\n",
    "fig.add_trace(go.Bar(x=G2_discharge.index, y=G2_discharge.values, name=\"G2 Discharge\", marker_color=coloraxis[2]), secondary_y=False)\n",
    "fig.add_trace(go.Scatter(x=G1_production.index, y=G1_production.values, name=\"G1 production\", marker_color=coloraxis[3]), secondary_y=True)\n",
    "fig.add_trace(go.Scatter(x=G2_production.index, y=G2_production.values, name=\"G2 production\", marker_color=coloraxis[4]), secondary_y=True)\n",
    "fig.update_layout(title_text=\"<b>Unit discharge and production in Plant1</b>\", barmode=\"stack\")\n",
    "fig.update_xaxes(title_text=\"<b>Time</b> (Hour)\")\n",
    "fig.update_yaxes(title_text=\"<b>Discharge</b> (m<sup>3</sup>/s)\", secondary_y=False, range=[0, 120], tick0=20, dtick=20)\n",
    "fig.update_yaxes(title_text=\"<b>Production</b> (MW)\", secondary_y=True, range=[0, 240], tick0=40, dtick=40)\n",
    "\n",
    "fig.show()"
   ]
  },
  {
   "cell_type": "code",
   "execution_count": 35,
   "metadata": {
    "Collapsed": "false"
   },
   "outputs": [
    {
     "data": {
      "application/vnd.plotly.v1+json": {
       "config": {
        "plotlyServerURL": "https://plot.ly"
       },
       "data": [
        {
         "marker": {
          "color": "rgb(33,102,172)"
         },
         "name": "G1 Discharge",
         "type": "bar",
         "x": [
          "2018-01-23T00:00:00",
          "2018-01-23T01:00:00",
          "2018-01-23T02:00:00",
          "2018-01-23T03:00:00",
          "2018-01-23T04:00:00",
          "2018-01-23T05:00:00",
          "2018-01-23T06:00:00",
          "2018-01-23T07:00:00",
          "2018-01-23T08:00:00",
          "2018-01-23T09:00:00",
          "2018-01-23T10:00:00",
          "2018-01-23T11:00:00",
          "2018-01-23T12:00:00",
          "2018-01-23T13:00:00",
          "2018-01-23T14:00:00",
          "2018-01-23T15:00:00",
          "2018-01-23T16:00:00",
          "2018-01-23T17:00:00",
          "2018-01-23T18:00:00",
          "2018-01-23T19:00:00",
          "2018-01-23T20:00:00",
          "2018-01-23T21:00:00",
          "2018-01-23T22:00:00",
          "2018-01-23T23:00:00",
          "2018-01-24T00:00:00",
          "2018-01-24T01:00:00",
          "2018-01-24T02:00:00",
          "2018-01-24T03:00:00",
          "2018-01-24T04:00:00",
          "2018-01-24T05:00:00",
          "2018-01-24T06:00:00",
          "2018-01-24T07:00:00",
          "2018-01-24T08:00:00",
          "2018-01-24T09:00:00",
          "2018-01-24T10:00:00",
          "2018-01-24T11:00:00",
          "2018-01-24T12:00:00",
          "2018-01-24T13:00:00",
          "2018-01-24T14:00:00",
          "2018-01-24T15:00:00",
          "2018-01-24T16:00:00",
          "2018-01-24T17:00:00",
          "2018-01-24T18:00:00",
          "2018-01-24T19:00:00",
          "2018-01-24T20:00:00",
          "2018-01-24T21:00:00",
          "2018-01-24T22:00:00",
          "2018-01-24T23:00:00",
          "2018-01-25T00:00:00",
          "2018-01-25T01:00:00",
          "2018-01-25T02:00:00",
          "2018-01-25T03:00:00",
          "2018-01-25T04:00:00",
          "2018-01-25T05:00:00",
          "2018-01-25T06:00:00",
          "2018-01-25T07:00:00",
          "2018-01-25T08:00:00",
          "2018-01-25T09:00:00",
          "2018-01-25T10:00:00",
          "2018-01-25T11:00:00",
          "2018-01-25T12:00:00",
          "2018-01-25T13:00:00",
          "2018-01-25T14:00:00",
          "2018-01-25T15:00:00",
          "2018-01-25T16:00:00",
          "2018-01-25T17:00:00",
          "2018-01-25T18:00:00",
          "2018-01-25T19:00:00",
          "2018-01-25T20:00:00",
          "2018-01-25T21:00:00",
          "2018-01-25T22:00:00",
          "2018-01-25T23:00:00"
         ],
         "xaxis": "x",
         "y": [
          220.95,
          191.79026445019437,
          0,
          0,
          191.70183664750587,
          220.95,
          249.1718741984743,
          250.140699071972,
          251.23162671756776,
          252.38698082596852,
          253.6690529695853,
          254.9754291416421,
          256.2190253314119,
          257.4444614680788,
          258.743654088202,
          260.0707761761921,
          261.42257612161086,
          262.79996241209716,
          264.3031260929494,
          235.54666666666665,
          235.54666666666665,
          220.95,
          220.95,
          194.3479044347914,
          194.4508497135929,
          189.51659250201723,
          0,
          0,
          0,
          194.47477855999634,
          220.95,
          235.54666666666665,
          250.14333333333335,
          250.1433333333333,
          235.54666666666665,
          235.54666666666665,
          235.54666666666665,
          220.95,
          220.95,
          220.95,
          235.54666666666665,
          235.54666666666665,
          235.54666666666665,
          220.95,
          220.95,
          220.95,
          220.95,
          197.48796145665565,
          197.84834515439405,
          197.69867042469355,
          0,
          0,
          0,
          197.94005224322393,
          220.95,
          250.1433333333333,
          250.1433333333333,
          250.14333333333335,
          250.14333333333335,
          250.1433333333333,
          250.1433333333333,
          250.1433333333333,
          250.1433333333333,
          250.1433333333333,
          264.73999999999995,
          264.73999999999995,
          264.73999999999995,
          264.73999999999995,
          264.73999999999995,
          264.73999999999995,
          264.73999999999995,
          250.1433333333333
         ],
         "yaxis": "y"
        },
        {
         "marker": {
          "color": "rgb(67,147,195)"
         },
         "name": "G2 Discharge",
         "type": "bar",
         "x": [
          "2018-01-23T00:00:00",
          "2018-01-23T01:00:00",
          "2018-01-23T02:00:00",
          "2018-01-23T03:00:00",
          "2018-01-23T04:00:00",
          "2018-01-23T05:00:00",
          "2018-01-23T06:00:00",
          "2018-01-23T07:00:00",
          "2018-01-23T08:00:00",
          "2018-01-23T09:00:00",
          "2018-01-23T10:00:00",
          "2018-01-23T11:00:00",
          "2018-01-23T12:00:00",
          "2018-01-23T13:00:00",
          "2018-01-23T14:00:00",
          "2018-01-23T15:00:00",
          "2018-01-23T16:00:00",
          "2018-01-23T17:00:00",
          "2018-01-23T18:00:00",
          "2018-01-23T19:00:00",
          "2018-01-23T20:00:00",
          "2018-01-23T21:00:00",
          "2018-01-23T22:00:00",
          "2018-01-23T23:00:00",
          "2018-01-24T00:00:00",
          "2018-01-24T01:00:00",
          "2018-01-24T02:00:00",
          "2018-01-24T03:00:00",
          "2018-01-24T04:00:00",
          "2018-01-24T05:00:00",
          "2018-01-24T06:00:00",
          "2018-01-24T07:00:00",
          "2018-01-24T08:00:00",
          "2018-01-24T09:00:00",
          "2018-01-24T10:00:00",
          "2018-01-24T11:00:00",
          "2018-01-24T12:00:00",
          "2018-01-24T13:00:00",
          "2018-01-24T14:00:00",
          "2018-01-24T15:00:00",
          "2018-01-24T16:00:00",
          "2018-01-24T17:00:00",
          "2018-01-24T18:00:00",
          "2018-01-24T19:00:00",
          "2018-01-24T20:00:00",
          "2018-01-24T21:00:00",
          "2018-01-24T22:00:00",
          "2018-01-24T23:00:00",
          "2018-01-25T00:00:00",
          "2018-01-25T01:00:00",
          "2018-01-25T02:00:00",
          "2018-01-25T03:00:00",
          "2018-01-25T04:00:00",
          "2018-01-25T05:00:00",
          "2018-01-25T06:00:00",
          "2018-01-25T07:00:00",
          "2018-01-25T08:00:00",
          "2018-01-25T09:00:00",
          "2018-01-25T10:00:00",
          "2018-01-25T11:00:00",
          "2018-01-25T12:00:00",
          "2018-01-25T13:00:00",
          "2018-01-25T14:00:00",
          "2018-01-25T15:00:00",
          "2018-01-25T16:00:00",
          "2018-01-25T17:00:00",
          "2018-01-25T18:00:00",
          "2018-01-25T19:00:00",
          "2018-01-25T20:00:00",
          "2018-01-25T21:00:00",
          "2018-01-25T22:00:00",
          "2018-01-25T23:00:00"
         ],
         "xaxis": "x",
         "y": [
          74.17823078054614,
          0,
          0,
          0,
          0,
          74.66,
          74.22138522270052,
          85.4,
          85.4,
          85.4,
          85.4,
          78.23999999999998,
          74.66,
          74.66,
          74.66,
          74.66,
          74.66,
          78.24,
          74.66,
          65.3204614476457,
          65.37113127308224,
          0,
          0,
          0,
          0,
          0,
          0,
          0,
          0,
          0,
          0,
          65.56622703937644,
          65.62199649281926,
          65.68234967505975,
          65.74439136640335,
          65.80535835379813,
          65.8669231860953,
          74.66,
          74.66,
          74.66,
          66.04990922371579,
          66.12183378492048,
          62.84653079068365,
          74.66,
          0,
          0,
          0,
          0,
          0,
          0,
          0,
          0,
          0,
          0,
          74.66,
          66.67075184388591,
          66.8807142953604,
          66.98277326612254,
          67.08645783836121,
          67.1982861328551,
          67.21742580054962,
          67.34199503611337,
          67.57119440188607,
          67.71028577770183,
          67.85234583055882,
          74.66,
          74.66,
          68.34807466242471,
          68.53147126758928,
          68.72340652882387,
          68.91170845401771,
          69.20998328282384
         ],
         "yaxis": "y"
        },
        {
         "marker": {
          "color": "rgb(146,197,222)"
         },
         "name": "G3 Discharge",
         "type": "bar",
         "x": [
          "2018-01-23T00:00:00",
          "2018-01-23T01:00:00",
          "2018-01-23T02:00:00",
          "2018-01-23T03:00:00",
          "2018-01-23T04:00:00",
          "2018-01-23T05:00:00",
          "2018-01-23T06:00:00",
          "2018-01-23T07:00:00",
          "2018-01-23T08:00:00",
          "2018-01-23T09:00:00",
          "2018-01-23T10:00:00",
          "2018-01-23T11:00:00",
          "2018-01-23T12:00:00",
          "2018-01-23T13:00:00",
          "2018-01-23T14:00:00",
          "2018-01-23T15:00:00",
          "2018-01-23T16:00:00",
          "2018-01-23T17:00:00",
          "2018-01-23T18:00:00",
          "2018-01-23T19:00:00",
          "2018-01-23T20:00:00",
          "2018-01-23T21:00:00",
          "2018-01-23T22:00:00",
          "2018-01-23T23:00:00",
          "2018-01-24T00:00:00",
          "2018-01-24T01:00:00",
          "2018-01-24T02:00:00",
          "2018-01-24T03:00:00",
          "2018-01-24T04:00:00",
          "2018-01-24T05:00:00",
          "2018-01-24T06:00:00",
          "2018-01-24T07:00:00",
          "2018-01-24T08:00:00",
          "2018-01-24T09:00:00",
          "2018-01-24T10:00:00",
          "2018-01-24T11:00:00",
          "2018-01-24T12:00:00",
          "2018-01-24T13:00:00",
          "2018-01-24T14:00:00",
          "2018-01-24T15:00:00",
          "2018-01-24T16:00:00",
          "2018-01-24T17:00:00",
          "2018-01-24T18:00:00",
          "2018-01-24T19:00:00",
          "2018-01-24T20:00:00",
          "2018-01-24T21:00:00",
          "2018-01-24T22:00:00",
          "2018-01-24T23:00:00",
          "2018-01-25T00:00:00",
          "2018-01-25T01:00:00",
          "2018-01-25T02:00:00",
          "2018-01-25T03:00:00",
          "2018-01-25T04:00:00",
          "2018-01-25T05:00:00",
          "2018-01-25T06:00:00",
          "2018-01-25T07:00:00",
          "2018-01-25T08:00:00",
          "2018-01-25T09:00:00",
          "2018-01-25T10:00:00",
          "2018-01-25T11:00:00",
          "2018-01-25T12:00:00",
          "2018-01-25T13:00:00",
          "2018-01-25T14:00:00",
          "2018-01-25T15:00:00",
          "2018-01-25T16:00:00",
          "2018-01-25T17:00:00",
          "2018-01-25T18:00:00",
          "2018-01-25T19:00:00",
          "2018-01-25T20:00:00",
          "2018-01-25T21:00:00",
          "2018-01-25T22:00:00",
          "2018-01-25T23:00:00"
         ],
         "xaxis": "x",
         "y": [
          74.66,
          74.45053524683188,
          0,
          0,
          0,
          74.66,
          74.66,
          85.4,
          85.4,
          85.4,
          85.4,
          78.23999999999998,
          74.66,
          74.66,
          74.66,
          74.66,
          74.66,
          78.24,
          74.66,
          65.32059409524726,
          65.37126865533476,
          78.67244902000013,
          78.82117057171118,
          78.9873022316003,
          0,
          0,
          0,
          0,
          0,
          0,
          79.31563668994279,
          65.5663852521873,
          65.62216209071418,
          65.68253275410574,
          65.74458249201149,
          65.80555743298255,
          65.86713062871341,
          74.66,
          74.66,
          74.66,
          66.05001568645734,
          66.12195138325512,
          64.03234641237228,
          74.66,
          84.22671713952664,
          84.55467508641333,
          81.4773016034364,
          0,
          0,
          0,
          0,
          0,
          0,
          0,
          74.66,
          66.67095780429474,
          66.88114323496617,
          66.98322992759674,
          67.08672103354328,
          67.19857642279617,
          67.21755609627346,
          67.34213845181256,
          67.57128246988648,
          67.71038360221728,
          67.85245521222653,
          74.66,
          74.66,
          68.34824906403111,
          68.53192837954214,
          68.72386939509204,
          68.91198820154295,
          69.21039198534517
         ],
         "yaxis": "y"
        },
        {
         "marker": {
          "color": "rgb(209,229,240)"
         },
         "name": "G4 Discharge",
         "type": "bar",
         "x": [
          "2018-01-23T00:00:00",
          "2018-01-23T01:00:00",
          "2018-01-23T02:00:00",
          "2018-01-23T03:00:00",
          "2018-01-23T04:00:00",
          "2018-01-23T05:00:00",
          "2018-01-23T06:00:00",
          "2018-01-23T07:00:00",
          "2018-01-23T08:00:00",
          "2018-01-23T09:00:00",
          "2018-01-23T10:00:00",
          "2018-01-23T11:00:00",
          "2018-01-23T12:00:00",
          "2018-01-23T13:00:00",
          "2018-01-23T14:00:00",
          "2018-01-23T15:00:00",
          "2018-01-23T16:00:00",
          "2018-01-23T17:00:00",
          "2018-01-23T18:00:00",
          "2018-01-23T19:00:00",
          "2018-01-23T20:00:00",
          "2018-01-23T21:00:00",
          "2018-01-23T22:00:00",
          "2018-01-23T23:00:00",
          "2018-01-24T00:00:00",
          "2018-01-24T01:00:00",
          "2018-01-24T02:00:00",
          "2018-01-24T03:00:00",
          "2018-01-24T04:00:00",
          "2018-01-24T05:00:00",
          "2018-01-24T06:00:00",
          "2018-01-24T07:00:00",
          "2018-01-24T08:00:00",
          "2018-01-24T09:00:00",
          "2018-01-24T10:00:00",
          "2018-01-24T11:00:00",
          "2018-01-24T12:00:00",
          "2018-01-24T13:00:00",
          "2018-01-24T14:00:00",
          "2018-01-24T15:00:00",
          "2018-01-24T16:00:00",
          "2018-01-24T17:00:00",
          "2018-01-24T18:00:00",
          "2018-01-24T19:00:00",
          "2018-01-24T20:00:00",
          "2018-01-24T21:00:00",
          "2018-01-24T22:00:00",
          "2018-01-24T23:00:00",
          "2018-01-25T00:00:00",
          "2018-01-25T01:00:00",
          "2018-01-25T02:00:00",
          "2018-01-25T03:00:00",
          "2018-01-25T04:00:00",
          "2018-01-25T05:00:00",
          "2018-01-25T06:00:00",
          "2018-01-25T07:00:00",
          "2018-01-25T08:00:00",
          "2018-01-25T09:00:00",
          "2018-01-25T10:00:00",
          "2018-01-25T11:00:00",
          "2018-01-25T12:00:00",
          "2018-01-25T13:00:00",
          "2018-01-25T14:00:00",
          "2018-01-25T15:00:00",
          "2018-01-25T16:00:00",
          "2018-01-25T17:00:00",
          "2018-01-25T18:00:00",
          "2018-01-25T19:00:00",
          "2018-01-25T20:00:00",
          "2018-01-25T21:00:00",
          "2018-01-25T22:00:00",
          "2018-01-25T23:00:00"
         ],
         "xaxis": "x",
         "y": [
          0,
          0,
          0,
          0,
          0,
          0,
          74.66,
          85.4,
          85.4,
          85.4,
          85.4,
          78.24,
          74.66,
          74.66,
          74.66,
          74.66,
          74.66,
          78.23999999999998,
          74.66,
          65.3205184583538,
          65.37119117089625,
          0,
          0,
          0,
          0,
          0,
          0,
          0,
          0,
          0,
          0,
          65.56629935838788,
          65.62207317315793,
          65.6824365992609,
          65.74448378497408,
          65.80545621293206,
          65.86702684689124,
          0,
          0,
          0,
          66.0500677475649,
          66.12200803088098,
          57.822567723365886,
          0,
          0,
          0,
          0,
          0,
          0,
          0,
          0,
          0,
          0,
          0,
          0,
          66.67106390494033,
          66.88099446522642,
          66.98307931892882,
          67.08679247211833,
          67.09997490108995,
          67.21749394056863,
          67.34207557921155,
          67.57138654709331,
          67.71050024815561,
          67.8525867772709,
          74.66,
          74.66,
          68.34845280939544,
          68.53190214265754,
          68.72390137877986,
          68.91212828011173,
          69.210591681561
         ],
         "yaxis": "y"
        },
        {
         "marker": {
          "color": "rgb(247,247,247)"
         },
         "name": "G1 production",
         "type": "scatter",
         "x": [
          "2018-01-23T00:00:00",
          "2018-01-23T01:00:00",
          "2018-01-23T02:00:00",
          "2018-01-23T03:00:00",
          "2018-01-23T04:00:00",
          "2018-01-23T05:00:00",
          "2018-01-23T06:00:00",
          "2018-01-23T07:00:00",
          "2018-01-23T08:00:00",
          "2018-01-23T09:00:00",
          "2018-01-23T10:00:00",
          "2018-01-23T11:00:00",
          "2018-01-23T12:00:00",
          "2018-01-23T13:00:00",
          "2018-01-23T14:00:00",
          "2018-01-23T15:00:00",
          "2018-01-23T16:00:00",
          "2018-01-23T17:00:00",
          "2018-01-23T18:00:00",
          "2018-01-23T19:00:00",
          "2018-01-23T20:00:00",
          "2018-01-23T21:00:00",
          "2018-01-23T22:00:00",
          "2018-01-23T23:00:00",
          "2018-01-24T00:00:00",
          "2018-01-24T01:00:00",
          "2018-01-24T02:00:00",
          "2018-01-24T03:00:00",
          "2018-01-24T04:00:00",
          "2018-01-24T05:00:00",
          "2018-01-24T06:00:00",
          "2018-01-24T07:00:00",
          "2018-01-24T08:00:00",
          "2018-01-24T09:00:00",
          "2018-01-24T10:00:00",
          "2018-01-24T11:00:00",
          "2018-01-24T12:00:00",
          "2018-01-24T13:00:00",
          "2018-01-24T14:00:00",
          "2018-01-24T15:00:00",
          "2018-01-24T16:00:00",
          "2018-01-24T17:00:00",
          "2018-01-24T18:00:00",
          "2018-01-24T19:00:00",
          "2018-01-24T20:00:00",
          "2018-01-24T21:00:00",
          "2018-01-24T22:00:00",
          "2018-01-24T23:00:00",
          "2018-01-25T00:00:00",
          "2018-01-25T01:00:00",
          "2018-01-25T02:00:00",
          "2018-01-25T03:00:00",
          "2018-01-25T04:00:00",
          "2018-01-25T05:00:00",
          "2018-01-25T06:00:00",
          "2018-01-25T07:00:00",
          "2018-01-25T08:00:00",
          "2018-01-25T09:00:00",
          "2018-01-25T10:00:00",
          "2018-01-25T11:00:00",
          "2018-01-25T12:00:00",
          "2018-01-25T13:00:00",
          "2018-01-25T14:00:00",
          "2018-01-25T15:00:00",
          "2018-01-25T16:00:00",
          "2018-01-25T17:00:00",
          "2018-01-25T18:00:00",
          "2018-01-25T19:00:00",
          "2018-01-25T20:00:00",
          "2018-01-25T21:00:00",
          "2018-01-25T22:00:00",
          "2018-01-25T23:00:00"
         ],
         "xaxis": "x",
         "y": [
          163.24000256839028,
          143.26213432623368,
          0,
          0,
          143.50110295796836,
          163.2030219692698,
          179.99862782168506,
          179.99853303224475,
          179.99841749393386,
          179.99828512695322,
          179.99800778963203,
          179.9978011635464,
          179.9975840453314,
          179.99945382489355,
          179.99937237092416,
          179.99928063484845,
          179.9991764041278,
          179.99905906887318,
          179.99890571766832,
          163.82182868213732,
          163.23053896784435,
          154.10098202245706,
          153.81831691752458,
          136.79281132119135,
          136.54913156457235,
          133.1696075093011,
          0,
          0,
          0,
          136.50222730533812,
          152.89739322194436,
          161.00703262167042,
          168.271953252864,
          167.57125354593092,
          159.04815622794138,
          158.39479241797886,
          157.74098584880716,
          148.85796087940182,
          148.3573455238825,
          147.81322832197603,
          155.3602540536511,
          154.6098034781941,
          153.8588799461993,
          145.15024718001467,
          144.4618826156857,
          143.94662850297541,
          143.43050221197277,
          129.25919019279806,
          129.1317534710628,
          128.69790639819604,
          0,
          0,
          0,
          128.94764218465423,
          141.73590397654084,
          155.89788433938637,
          154.93730179604518,
          153.97961027680523,
          153.02090018272193,
          152.0027400222193,
          150.92609044845477,
          149.8490358909921,
          148.7250097411278,
          147.54548406162584,
          152.49641783602175,
          151.18941954862944,
          149.84820652955884,
          148.43676679867022,
          147.0082091031592,
          145.55187892255614,
          143.87083413281994,
          136.29428794600508
         ],
         "yaxis": "y2"
        },
        {
         "marker": {
          "color": "rgb(253,219,199)"
         },
         "name": "G2 production",
         "type": "scatter",
         "x": [
          "2018-01-23T00:00:00",
          "2018-01-23T01:00:00",
          "2018-01-23T02:00:00",
          "2018-01-23T03:00:00",
          "2018-01-23T04:00:00",
          "2018-01-23T05:00:00",
          "2018-01-23T06:00:00",
          "2018-01-23T07:00:00",
          "2018-01-23T08:00:00",
          "2018-01-23T09:00:00",
          "2018-01-23T10:00:00",
          "2018-01-23T11:00:00",
          "2018-01-23T12:00:00",
          "2018-01-23T13:00:00",
          "2018-01-23T14:00:00",
          "2018-01-23T15:00:00",
          "2018-01-23T16:00:00",
          "2018-01-23T17:00:00",
          "2018-01-23T18:00:00",
          "2018-01-23T19:00:00",
          "2018-01-23T20:00:00",
          "2018-01-23T21:00:00",
          "2018-01-23T22:00:00",
          "2018-01-23T23:00:00",
          "2018-01-24T00:00:00",
          "2018-01-24T01:00:00",
          "2018-01-24T02:00:00",
          "2018-01-24T03:00:00",
          "2018-01-24T04:00:00",
          "2018-01-24T05:00:00",
          "2018-01-24T06:00:00",
          "2018-01-24T07:00:00",
          "2018-01-24T08:00:00",
          "2018-01-24T09:00:00",
          "2018-01-24T10:00:00",
          "2018-01-24T11:00:00",
          "2018-01-24T12:00:00",
          "2018-01-24T13:00:00",
          "2018-01-24T14:00:00",
          "2018-01-24T15:00:00",
          "2018-01-24T16:00:00",
          "2018-01-24T17:00:00",
          "2018-01-24T18:00:00",
          "2018-01-24T19:00:00",
          "2018-01-24T20:00:00",
          "2018-01-24T21:00:00",
          "2018-01-24T22:00:00",
          "2018-01-24T23:00:00",
          "2018-01-25T00:00:00",
          "2018-01-25T01:00:00",
          "2018-01-25T02:00:00",
          "2018-01-25T03:00:00",
          "2018-01-25T04:00:00",
          "2018-01-25T05:00:00",
          "2018-01-25T06:00:00",
          "2018-01-25T07:00:00",
          "2018-01-25T08:00:00",
          "2018-01-25T09:00:00",
          "2018-01-25T10:00:00",
          "2018-01-25T11:00:00",
          "2018-01-25T12:00:00",
          "2018-01-25T13:00:00",
          "2018-01-25T14:00:00",
          "2018-01-25T15:00:00",
          "2018-01-25T16:00:00",
          "2018-01-25T17:00:00",
          "2018-01-25T18:00:00",
          "2018-01-25T19:00:00",
          "2018-01-25T20:00:00",
          "2018-01-25T21:00:00",
          "2018-01-25T22:00:00",
          "2018-01-25T23:00:00"
         ],
         "xaxis": "x",
         "y": [
          52.70085469592807,
          0,
          0,
          0,
          0,
          53.02099836009719,
          48.92503873692934,
          53.405537573737305,
          53.204464874687865,
          52.994002435688074,
          52.7684547332332,
          49.883854908784755,
          48.090234118243075,
          47.90886792842626,
          47.7185535708944,
          47.52681420961125,
          47.33424072227583,
          48.69336030945882,
          46.93290129749044,
          41.95355817673388,
          41.82581201724124,
          0,
          0,
          0,
          0,
          0,
          0,
          0,
          0,
          0,
          0,
          41.345455296630675,
          41.20969362795741,
          41.066964790601105,
          40.92233409657078,
          40.781312840007125,
          40.640122906928234,
          48.385376127084285,
          48.223601725588544,
          48.047769654695244,
          40.10156452373281,
          39.93829159943613,
          38.16981386174801,
          47.18722437639809,
          0,
          0,
          0,
          0,
          0,
          0,
          0,
          0,
          0,
          0,
          46.08387562340191,
          38.62682923091365,
          38.48332700415162,
          38.287406280395125,
          38.09113671904566,
          37.887272165422374,
          37.61513562692259,
          37.395593839097785,
          37.20991224037779,
          36.9673756406324,
          36.72429927994202,
          39.04811191413527,
          38.683823016034744,
          35.927951788917646,
          35.647053096934876,
          35.360383060619974,
          35.01380887293877,
          34.627453888755085
         ],
         "yaxis": "y2"
        },
        {
         "marker": {
          "color": "rgb(244,165,130)"
         },
         "name": "G3 production",
         "type": "scatter",
         "x": [
          "2018-01-23T00:00:00",
          "2018-01-23T01:00:00",
          "2018-01-23T02:00:00",
          "2018-01-23T03:00:00",
          "2018-01-23T04:00:00",
          "2018-01-23T05:00:00",
          "2018-01-23T06:00:00",
          "2018-01-23T07:00:00",
          "2018-01-23T08:00:00",
          "2018-01-23T09:00:00",
          "2018-01-23T10:00:00",
          "2018-01-23T11:00:00",
          "2018-01-23T12:00:00",
          "2018-01-23T13:00:00",
          "2018-01-23T14:00:00",
          "2018-01-23T15:00:00",
          "2018-01-23T16:00:00",
          "2018-01-23T17:00:00",
          "2018-01-23T18:00:00",
          "2018-01-23T19:00:00",
          "2018-01-23T20:00:00",
          "2018-01-23T21:00:00",
          "2018-01-23T22:00:00",
          "2018-01-23T23:00:00",
          "2018-01-24T00:00:00",
          "2018-01-24T01:00:00",
          "2018-01-24T02:00:00",
          "2018-01-24T03:00:00",
          "2018-01-24T04:00:00",
          "2018-01-24T05:00:00",
          "2018-01-24T06:00:00",
          "2018-01-24T07:00:00",
          "2018-01-24T08:00:00",
          "2018-01-24T09:00:00",
          "2018-01-24T10:00:00",
          "2018-01-24T11:00:00",
          "2018-01-24T12:00:00",
          "2018-01-24T13:00:00",
          "2018-01-24T14:00:00",
          "2018-01-24T15:00:00",
          "2018-01-24T16:00:00",
          "2018-01-24T17:00:00",
          "2018-01-24T18:00:00",
          "2018-01-24T19:00:00",
          "2018-01-24T20:00:00",
          "2018-01-24T21:00:00",
          "2018-01-24T22:00:00",
          "2018-01-24T23:00:00",
          "2018-01-25T00:00:00",
          "2018-01-25T01:00:00",
          "2018-01-25T02:00:00",
          "2018-01-25T03:00:00",
          "2018-01-25T04:00:00",
          "2018-01-25T05:00:00",
          "2018-01-25T06:00:00",
          "2018-01-25T07:00:00",
          "2018-01-25T08:00:00",
          "2018-01-25T09:00:00",
          "2018-01-25T10:00:00",
          "2018-01-25T11:00:00",
          "2018-01-25T12:00:00",
          "2018-01-25T13:00:00",
          "2018-01-25T14:00:00",
          "2018-01-25T15:00:00",
          "2018-01-25T16:00:00",
          "2018-01-25T17:00:00",
          "2018-01-25T18:00:00",
          "2018-01-25T19:00:00",
          "2018-01-25T20:00:00",
          "2018-01-25T21:00:00",
          "2018-01-25T22:00:00",
          "2018-01-25T23:00:00"
         ],
         "xaxis": "x",
         "y": [
          53.05210324095631,
          54.99952010653442,
          0,
          0,
          0,
          53.02099836009719,
          49.221740079145555,
          53.405537573737305,
          53.204464874687865,
          52.994002435688074,
          52.7684547332332,
          49.883854908784755,
          48.090234118243075,
          47.90886792842626,
          47.7185535708944,
          47.52681420961125,
          47.33424072227583,
          48.69336030945882,
          46.93290129749044,
          41.95365026133946,
          41.825907029633264,
          54.99987626649841,
          54.999875143720246,
          54.99986947116116,
          0,
          0,
          0,
          0,
          0,
          0,
          55.003591962734504,
          41.34556315891749,
          41.20980606531338,
          41.0670885607745,
          40.922462738436074,
          40.78144625830282,
          40.64026132835143,
          48.385376127084285,
          48.223601725588544,
          48.047769654695244,
          40.10163444154683,
          39.93836843807583,
          38.96777521571779,
          47.18722437639809,
          54.99999215801774,
          54.99997511372381,
          53.055403459349,
          0,
          0,
          0,
          0,
          0,
          0,
          0,
          46.08387562340191,
          38.626958388937,
          38.48359421088613,
          38.28768890706806,
          38.09129854194377,
          37.887449417325186,
          37.61521459349887,
          37.39568010121302,
          37.20996478256001,
          36.96743351252342,
          36.72436343834948,
          39.04811191413527,
          38.683823016034744,
          35.92804843714862,
          35.647303794541685,
          35.360634203661505,
          35.013958780666144,
          34.62766959497311
         ],
         "yaxis": "y2"
        },
        {
         "marker": {
          "color": "rgb(214,96,77)"
         },
         "name": "G4 production",
         "type": "scatter",
         "x": [
          "2018-01-23T00:00:00",
          "2018-01-23T01:00:00",
          "2018-01-23T02:00:00",
          "2018-01-23T03:00:00",
          "2018-01-23T04:00:00",
          "2018-01-23T05:00:00",
          "2018-01-23T06:00:00",
          "2018-01-23T07:00:00",
          "2018-01-23T08:00:00",
          "2018-01-23T09:00:00",
          "2018-01-23T10:00:00",
          "2018-01-23T11:00:00",
          "2018-01-23T12:00:00",
          "2018-01-23T13:00:00",
          "2018-01-23T14:00:00",
          "2018-01-23T15:00:00",
          "2018-01-23T16:00:00",
          "2018-01-23T17:00:00",
          "2018-01-23T18:00:00",
          "2018-01-23T19:00:00",
          "2018-01-23T20:00:00",
          "2018-01-23T21:00:00",
          "2018-01-23T22:00:00",
          "2018-01-23T23:00:00",
          "2018-01-24T00:00:00",
          "2018-01-24T01:00:00",
          "2018-01-24T02:00:00",
          "2018-01-24T03:00:00",
          "2018-01-24T04:00:00",
          "2018-01-24T05:00:00",
          "2018-01-24T06:00:00",
          "2018-01-24T07:00:00",
          "2018-01-24T08:00:00",
          "2018-01-24T09:00:00",
          "2018-01-24T10:00:00",
          "2018-01-24T11:00:00",
          "2018-01-24T12:00:00",
          "2018-01-24T13:00:00",
          "2018-01-24T14:00:00",
          "2018-01-24T15:00:00",
          "2018-01-24T16:00:00",
          "2018-01-24T17:00:00",
          "2018-01-24T18:00:00",
          "2018-01-24T19:00:00",
          "2018-01-24T20:00:00",
          "2018-01-24T21:00:00",
          "2018-01-24T22:00:00",
          "2018-01-24T23:00:00",
          "2018-01-25T00:00:00",
          "2018-01-25T01:00:00",
          "2018-01-25T02:00:00",
          "2018-01-25T03:00:00",
          "2018-01-25T04:00:00",
          "2018-01-25T05:00:00",
          "2018-01-25T06:00:00",
          "2018-01-25T07:00:00",
          "2018-01-25T08:00:00",
          "2018-01-25T09:00:00",
          "2018-01-25T10:00:00",
          "2018-01-25T11:00:00",
          "2018-01-25T12:00:00",
          "2018-01-25T13:00:00",
          "2018-01-25T14:00:00",
          "2018-01-25T15:00:00",
          "2018-01-25T16:00:00",
          "2018-01-25T17:00:00",
          "2018-01-25T18:00:00",
          "2018-01-25T19:00:00",
          "2018-01-25T20:00:00",
          "2018-01-25T21:00:00",
          "2018-01-25T22:00:00",
          "2018-01-25T23:00:00"
         ],
         "xaxis": "x",
         "y": [
          0,
          0,
          0,
          0,
          0,
          0,
          49.221740079145555,
          53.405537573737305,
          53.204464874687865,
          52.994002435688074,
          52.7684547332332,
          49.88385490878476,
          48.090234118243075,
          47.90886792842626,
          47.7185535708944,
          47.52681420961125,
          47.33424072227583,
          48.69336030945881,
          46.93290129749044,
          41.95359775383932,
          41.82585344205396,
          0,
          0,
          0,
          0,
          0,
          0,
          0,
          0,
          0,
          0,
          41.34550460043322,
          41.20974569222828,
          41.06702355550347,
          40.922396301191604,
          40.78137842294285,
          40.64019207725267,
          0,
          0,
          0,
          40.10166863190716,
          39.9384054515879,
          34.769509137923066,
          0,
          0,
          0,
          0,
          0,
          0,
          0,
          0,
          0,
          0,
          0,
          0,
          38.62702492480484,
          38.483501535160855,
          38.28759569569816,
          38.09134246524652,
          37.82724978404009,
          37.61517692362419,
          37.39564228440439,
          37.21002687599617,
          36.96750251897491,
          36.724440608557394,
          39.04811191413527,
          38.683823016034744,
          35.92816134685767,
          35.64728940523011,
          35.36065155745067,
          35.01403384430258,
          34.62777499127709
         ],
         "yaxis": "y2"
        }
       ],
       "layout": {
        "barmode": "stack",
        "template": {
         "data": {
          "bar": [
           {
            "error_x": {
             "color": "#2a3f5f"
            },
            "error_y": {
             "color": "#2a3f5f"
            },
            "marker": {
             "line": {
              "color": "#E5ECF6",
              "width": 0.5
             },
             "pattern": {
              "fillmode": "overlay",
              "size": 10,
              "solidity": 0.2
             }
            },
            "type": "bar"
           }
          ],
          "barpolar": [
           {
            "marker": {
             "line": {
              "color": "#E5ECF6",
              "width": 0.5
             },
             "pattern": {
              "fillmode": "overlay",
              "size": 10,
              "solidity": 0.2
             }
            },
            "type": "barpolar"
           }
          ],
          "carpet": [
           {
            "aaxis": {
             "endlinecolor": "#2a3f5f",
             "gridcolor": "white",
             "linecolor": "white",
             "minorgridcolor": "white",
             "startlinecolor": "#2a3f5f"
            },
            "baxis": {
             "endlinecolor": "#2a3f5f",
             "gridcolor": "white",
             "linecolor": "white",
             "minorgridcolor": "white",
             "startlinecolor": "#2a3f5f"
            },
            "type": "carpet"
           }
          ],
          "choropleth": [
           {
            "colorbar": {
             "outlinewidth": 0,
             "ticks": ""
            },
            "type": "choropleth"
           }
          ],
          "contour": [
           {
            "colorbar": {
             "outlinewidth": 0,
             "ticks": ""
            },
            "colorscale": [
             [
              0,
              "#0d0887"
             ],
             [
              0.1111111111111111,
              "#46039f"
             ],
             [
              0.2222222222222222,
              "#7201a8"
             ],
             [
              0.3333333333333333,
              "#9c179e"
             ],
             [
              0.4444444444444444,
              "#bd3786"
             ],
             [
              0.5555555555555556,
              "#d8576b"
             ],
             [
              0.6666666666666666,
              "#ed7953"
             ],
             [
              0.7777777777777778,
              "#fb9f3a"
             ],
             [
              0.8888888888888888,
              "#fdca26"
             ],
             [
              1,
              "#f0f921"
             ]
            ],
            "type": "contour"
           }
          ],
          "contourcarpet": [
           {
            "colorbar": {
             "outlinewidth": 0,
             "ticks": ""
            },
            "type": "contourcarpet"
           }
          ],
          "heatmap": [
           {
            "colorbar": {
             "outlinewidth": 0,
             "ticks": ""
            },
            "colorscale": [
             [
              0,
              "#0d0887"
             ],
             [
              0.1111111111111111,
              "#46039f"
             ],
             [
              0.2222222222222222,
              "#7201a8"
             ],
             [
              0.3333333333333333,
              "#9c179e"
             ],
             [
              0.4444444444444444,
              "#bd3786"
             ],
             [
              0.5555555555555556,
              "#d8576b"
             ],
             [
              0.6666666666666666,
              "#ed7953"
             ],
             [
              0.7777777777777778,
              "#fb9f3a"
             ],
             [
              0.8888888888888888,
              "#fdca26"
             ],
             [
              1,
              "#f0f921"
             ]
            ],
            "type": "heatmap"
           }
          ],
          "heatmapgl": [
           {
            "colorbar": {
             "outlinewidth": 0,
             "ticks": ""
            },
            "colorscale": [
             [
              0,
              "#0d0887"
             ],
             [
              0.1111111111111111,
              "#46039f"
             ],
             [
              0.2222222222222222,
              "#7201a8"
             ],
             [
              0.3333333333333333,
              "#9c179e"
             ],
             [
              0.4444444444444444,
              "#bd3786"
             ],
             [
              0.5555555555555556,
              "#d8576b"
             ],
             [
              0.6666666666666666,
              "#ed7953"
             ],
             [
              0.7777777777777778,
              "#fb9f3a"
             ],
             [
              0.8888888888888888,
              "#fdca26"
             ],
             [
              1,
              "#f0f921"
             ]
            ],
            "type": "heatmapgl"
           }
          ],
          "histogram": [
           {
            "marker": {
             "pattern": {
              "fillmode": "overlay",
              "size": 10,
              "solidity": 0.2
             }
            },
            "type": "histogram"
           }
          ],
          "histogram2d": [
           {
            "colorbar": {
             "outlinewidth": 0,
             "ticks": ""
            },
            "colorscale": [
             [
              0,
              "#0d0887"
             ],
             [
              0.1111111111111111,
              "#46039f"
             ],
             [
              0.2222222222222222,
              "#7201a8"
             ],
             [
              0.3333333333333333,
              "#9c179e"
             ],
             [
              0.4444444444444444,
              "#bd3786"
             ],
             [
              0.5555555555555556,
              "#d8576b"
             ],
             [
              0.6666666666666666,
              "#ed7953"
             ],
             [
              0.7777777777777778,
              "#fb9f3a"
             ],
             [
              0.8888888888888888,
              "#fdca26"
             ],
             [
              1,
              "#f0f921"
             ]
            ],
            "type": "histogram2d"
           }
          ],
          "histogram2dcontour": [
           {
            "colorbar": {
             "outlinewidth": 0,
             "ticks": ""
            },
            "colorscale": [
             [
              0,
              "#0d0887"
             ],
             [
              0.1111111111111111,
              "#46039f"
             ],
             [
              0.2222222222222222,
              "#7201a8"
             ],
             [
              0.3333333333333333,
              "#9c179e"
             ],
             [
              0.4444444444444444,
              "#bd3786"
             ],
             [
              0.5555555555555556,
              "#d8576b"
             ],
             [
              0.6666666666666666,
              "#ed7953"
             ],
             [
              0.7777777777777778,
              "#fb9f3a"
             ],
             [
              0.8888888888888888,
              "#fdca26"
             ],
             [
              1,
              "#f0f921"
             ]
            ],
            "type": "histogram2dcontour"
           }
          ],
          "mesh3d": [
           {
            "colorbar": {
             "outlinewidth": 0,
             "ticks": ""
            },
            "type": "mesh3d"
           }
          ],
          "parcoords": [
           {
            "line": {
             "colorbar": {
              "outlinewidth": 0,
              "ticks": ""
             }
            },
            "type": "parcoords"
           }
          ],
          "pie": [
           {
            "automargin": true,
            "type": "pie"
           }
          ],
          "scatter": [
           {
            "marker": {
             "colorbar": {
              "outlinewidth": 0,
              "ticks": ""
             }
            },
            "type": "scatter"
           }
          ],
          "scatter3d": [
           {
            "line": {
             "colorbar": {
              "outlinewidth": 0,
              "ticks": ""
             }
            },
            "marker": {
             "colorbar": {
              "outlinewidth": 0,
              "ticks": ""
             }
            },
            "type": "scatter3d"
           }
          ],
          "scattercarpet": [
           {
            "marker": {
             "colorbar": {
              "outlinewidth": 0,
              "ticks": ""
             }
            },
            "type": "scattercarpet"
           }
          ],
          "scattergeo": [
           {
            "marker": {
             "colorbar": {
              "outlinewidth": 0,
              "ticks": ""
             }
            },
            "type": "scattergeo"
           }
          ],
          "scattergl": [
           {
            "marker": {
             "colorbar": {
              "outlinewidth": 0,
              "ticks": ""
             }
            },
            "type": "scattergl"
           }
          ],
          "scattermapbox": [
           {
            "marker": {
             "colorbar": {
              "outlinewidth": 0,
              "ticks": ""
             }
            },
            "type": "scattermapbox"
           }
          ],
          "scatterpolar": [
           {
            "marker": {
             "colorbar": {
              "outlinewidth": 0,
              "ticks": ""
             }
            },
            "type": "scatterpolar"
           }
          ],
          "scatterpolargl": [
           {
            "marker": {
             "colorbar": {
              "outlinewidth": 0,
              "ticks": ""
             }
            },
            "type": "scatterpolargl"
           }
          ],
          "scatterternary": [
           {
            "marker": {
             "colorbar": {
              "outlinewidth": 0,
              "ticks": ""
             }
            },
            "type": "scatterternary"
           }
          ],
          "surface": [
           {
            "colorbar": {
             "outlinewidth": 0,
             "ticks": ""
            },
            "colorscale": [
             [
              0,
              "#0d0887"
             ],
             [
              0.1111111111111111,
              "#46039f"
             ],
             [
              0.2222222222222222,
              "#7201a8"
             ],
             [
              0.3333333333333333,
              "#9c179e"
             ],
             [
              0.4444444444444444,
              "#bd3786"
             ],
             [
              0.5555555555555556,
              "#d8576b"
             ],
             [
              0.6666666666666666,
              "#ed7953"
             ],
             [
              0.7777777777777778,
              "#fb9f3a"
             ],
             [
              0.8888888888888888,
              "#fdca26"
             ],
             [
              1,
              "#f0f921"
             ]
            ],
            "type": "surface"
           }
          ],
          "table": [
           {
            "cells": {
             "fill": {
              "color": "#EBF0F8"
             },
             "line": {
              "color": "white"
             }
            },
            "header": {
             "fill": {
              "color": "#C8D4E3"
             },
             "line": {
              "color": "white"
             }
            },
            "type": "table"
           }
          ]
         },
         "layout": {
          "annotationdefaults": {
           "arrowcolor": "#2a3f5f",
           "arrowhead": 0,
           "arrowwidth": 1
          },
          "autotypenumbers": "strict",
          "coloraxis": {
           "colorbar": {
            "outlinewidth": 0,
            "ticks": ""
           }
          },
          "colorscale": {
           "diverging": [
            [
             0,
             "#8e0152"
            ],
            [
             0.1,
             "#c51b7d"
            ],
            [
             0.2,
             "#de77ae"
            ],
            [
             0.3,
             "#f1b6da"
            ],
            [
             0.4,
             "#fde0ef"
            ],
            [
             0.5,
             "#f7f7f7"
            ],
            [
             0.6,
             "#e6f5d0"
            ],
            [
             0.7,
             "#b8e186"
            ],
            [
             0.8,
             "#7fbc41"
            ],
            [
             0.9,
             "#4d9221"
            ],
            [
             1,
             "#276419"
            ]
           ],
           "sequential": [
            [
             0,
             "#0d0887"
            ],
            [
             0.1111111111111111,
             "#46039f"
            ],
            [
             0.2222222222222222,
             "#7201a8"
            ],
            [
             0.3333333333333333,
             "#9c179e"
            ],
            [
             0.4444444444444444,
             "#bd3786"
            ],
            [
             0.5555555555555556,
             "#d8576b"
            ],
            [
             0.6666666666666666,
             "#ed7953"
            ],
            [
             0.7777777777777778,
             "#fb9f3a"
            ],
            [
             0.8888888888888888,
             "#fdca26"
            ],
            [
             1,
             "#f0f921"
            ]
           ],
           "sequentialminus": [
            [
             0,
             "#0d0887"
            ],
            [
             0.1111111111111111,
             "#46039f"
            ],
            [
             0.2222222222222222,
             "#7201a8"
            ],
            [
             0.3333333333333333,
             "#9c179e"
            ],
            [
             0.4444444444444444,
             "#bd3786"
            ],
            [
             0.5555555555555556,
             "#d8576b"
            ],
            [
             0.6666666666666666,
             "#ed7953"
            ],
            [
             0.7777777777777778,
             "#fb9f3a"
            ],
            [
             0.8888888888888888,
             "#fdca26"
            ],
            [
             1,
             "#f0f921"
            ]
           ]
          },
          "colorway": [
           "#636efa",
           "#EF553B",
           "#00cc96",
           "#ab63fa",
           "#FFA15A",
           "#19d3f3",
           "#FF6692",
           "#B6E880",
           "#FF97FF",
           "#FECB52"
          ],
          "font": {
           "color": "#2a3f5f"
          },
          "geo": {
           "bgcolor": "white",
           "lakecolor": "white",
           "landcolor": "#E5ECF6",
           "showlakes": true,
           "showland": true,
           "subunitcolor": "white"
          },
          "hoverlabel": {
           "align": "left"
          },
          "hovermode": "closest",
          "mapbox": {
           "style": "light"
          },
          "paper_bgcolor": "white",
          "plot_bgcolor": "#E5ECF6",
          "polar": {
           "angularaxis": {
            "gridcolor": "white",
            "linecolor": "white",
            "ticks": ""
           },
           "bgcolor": "#E5ECF6",
           "radialaxis": {
            "gridcolor": "white",
            "linecolor": "white",
            "ticks": ""
           }
          },
          "scene": {
           "xaxis": {
            "backgroundcolor": "#E5ECF6",
            "gridcolor": "white",
            "gridwidth": 2,
            "linecolor": "white",
            "showbackground": true,
            "ticks": "",
            "zerolinecolor": "white"
           },
           "yaxis": {
            "backgroundcolor": "#E5ECF6",
            "gridcolor": "white",
            "gridwidth": 2,
            "linecolor": "white",
            "showbackground": true,
            "ticks": "",
            "zerolinecolor": "white"
           },
           "zaxis": {
            "backgroundcolor": "#E5ECF6",
            "gridcolor": "white",
            "gridwidth": 2,
            "linecolor": "white",
            "showbackground": true,
            "ticks": "",
            "zerolinecolor": "white"
           }
          },
          "shapedefaults": {
           "line": {
            "color": "#2a3f5f"
           }
          },
          "ternary": {
           "aaxis": {
            "gridcolor": "white",
            "linecolor": "white",
            "ticks": ""
           },
           "baxis": {
            "gridcolor": "white",
            "linecolor": "white",
            "ticks": ""
           },
           "bgcolor": "#E5ECF6",
           "caxis": {
            "gridcolor": "white",
            "linecolor": "white",
            "ticks": ""
           }
          },
          "title": {
           "x": 0.05
          },
          "xaxis": {
           "automargin": true,
           "gridcolor": "white",
           "linecolor": "white",
           "ticks": "",
           "title": {
            "standoff": 15
           },
           "zerolinecolor": "white",
           "zerolinewidth": 2
          },
          "yaxis": {
           "automargin": true,
           "gridcolor": "white",
           "linecolor": "white",
           "ticks": "",
           "title": {
            "standoff": 15
           },
           "zerolinecolor": "white",
           "zerolinewidth": 2
          }
         }
        },
        "title": {
         "text": "<b>Unit discharge and production in Plant2</b>"
        },
        "xaxis": {
         "anchor": "y",
         "domain": [
          0,
          0.94
         ],
         "title": {
          "text": "<b>Time</b> (Hour)"
         }
        },
        "yaxis": {
         "anchor": "x",
         "domain": [
          0,
          1
         ],
         "dtick": 60,
         "range": [
          0,
          540
         ],
         "tick0": 60,
         "title": {
          "text": "<b>Discharge</b> (m<sup>3</sup>/s)"
         }
        },
        "yaxis2": {
         "anchor": "x",
         "dtick": 40,
         "overlaying": "y",
         "range": [
          0,
          360
         ],
         "side": "right",
         "tick0": 40,
         "title": {
          "text": "<b>Production</b> (MW)"
         }
        }
       }
      },
      "text/html": [
       "<div>                            <div id=\"51e11836-1e7a-4579-a5b5-68b14aaae2fb\" class=\"plotly-graph-div\" style=\"height:525px; width:100%;\"></div>            <script type=\"text/javascript\">                require([\"plotly\"], function(Plotly) {                    window.PLOTLYENV=window.PLOTLYENV || {};                                    if (document.getElementById(\"51e11836-1e7a-4579-a5b5-68b14aaae2fb\")) {                    Plotly.newPlot(                        \"51e11836-1e7a-4579-a5b5-68b14aaae2fb\",                        [{\"marker\":{\"color\":\"rgb(33,102,172)\"},\"name\":\"G1 Discharge\",\"x\":[\"2018-01-23T00:00:00\",\"2018-01-23T01:00:00\",\"2018-01-23T02:00:00\",\"2018-01-23T03:00:00\",\"2018-01-23T04:00:00\",\"2018-01-23T05:00:00\",\"2018-01-23T06:00:00\",\"2018-01-23T07:00:00\",\"2018-01-23T08:00:00\",\"2018-01-23T09:00:00\",\"2018-01-23T10:00:00\",\"2018-01-23T11:00:00\",\"2018-01-23T12:00:00\",\"2018-01-23T13:00:00\",\"2018-01-23T14:00:00\",\"2018-01-23T15:00:00\",\"2018-01-23T16:00:00\",\"2018-01-23T17:00:00\",\"2018-01-23T18:00:00\",\"2018-01-23T19:00:00\",\"2018-01-23T20:00:00\",\"2018-01-23T21:00:00\",\"2018-01-23T22:00:00\",\"2018-01-23T23:00:00\",\"2018-01-24T00:00:00\",\"2018-01-24T01:00:00\",\"2018-01-24T02:00:00\",\"2018-01-24T03:00:00\",\"2018-01-24T04:00:00\",\"2018-01-24T05:00:00\",\"2018-01-24T06:00:00\",\"2018-01-24T07:00:00\",\"2018-01-24T08:00:00\",\"2018-01-24T09:00:00\",\"2018-01-24T10:00:00\",\"2018-01-24T11:00:00\",\"2018-01-24T12:00:00\",\"2018-01-24T13:00:00\",\"2018-01-24T14:00:00\",\"2018-01-24T15:00:00\",\"2018-01-24T16:00:00\",\"2018-01-24T17:00:00\",\"2018-01-24T18:00:00\",\"2018-01-24T19:00:00\",\"2018-01-24T20:00:00\",\"2018-01-24T21:00:00\",\"2018-01-24T22:00:00\",\"2018-01-24T23:00:00\",\"2018-01-25T00:00:00\",\"2018-01-25T01:00:00\",\"2018-01-25T02:00:00\",\"2018-01-25T03:00:00\",\"2018-01-25T04:00:00\",\"2018-01-25T05:00:00\",\"2018-01-25T06:00:00\",\"2018-01-25T07:00:00\",\"2018-01-25T08:00:00\",\"2018-01-25T09:00:00\",\"2018-01-25T10:00:00\",\"2018-01-25T11:00:00\",\"2018-01-25T12:00:00\",\"2018-01-25T13:00:00\",\"2018-01-25T14:00:00\",\"2018-01-25T15:00:00\",\"2018-01-25T16:00:00\",\"2018-01-25T17:00:00\",\"2018-01-25T18:00:00\",\"2018-01-25T19:00:00\",\"2018-01-25T20:00:00\",\"2018-01-25T21:00:00\",\"2018-01-25T22:00:00\",\"2018-01-25T23:00:00\"],\"y\":[220.95,191.79026445019437,0.0,0.0,191.70183664750587,220.95,249.1718741984743,250.140699071972,251.23162671756776,252.38698082596852,253.6690529695853,254.9754291416421,256.2190253314119,257.4444614680788,258.743654088202,260.0707761761921,261.42257612161086,262.79996241209716,264.3031260929494,235.54666666666665,235.54666666666665,220.95,220.95,194.3479044347914,194.4508497135929,189.51659250201723,0.0,0.0,0.0,194.47477855999634,220.95,235.54666666666665,250.14333333333335,250.1433333333333,235.54666666666665,235.54666666666665,235.54666666666665,220.95,220.95,220.95,235.54666666666665,235.54666666666665,235.54666666666665,220.95,220.95,220.95,220.95,197.48796145665565,197.84834515439405,197.69867042469355,0.0,0.0,0.0,197.94005224322393,220.95,250.1433333333333,250.1433333333333,250.14333333333335,250.14333333333335,250.1433333333333,250.1433333333333,250.1433333333333,250.1433333333333,250.1433333333333,264.73999999999995,264.73999999999995,264.73999999999995,264.73999999999995,264.73999999999995,264.73999999999995,264.73999999999995,250.1433333333333],\"type\":\"bar\",\"xaxis\":\"x\",\"yaxis\":\"y\"},{\"marker\":{\"color\":\"rgb(67,147,195)\"},\"name\":\"G2 Discharge\",\"x\":[\"2018-01-23T00:00:00\",\"2018-01-23T01:00:00\",\"2018-01-23T02:00:00\",\"2018-01-23T03:00:00\",\"2018-01-23T04:00:00\",\"2018-01-23T05:00:00\",\"2018-01-23T06:00:00\",\"2018-01-23T07:00:00\",\"2018-01-23T08:00:00\",\"2018-01-23T09:00:00\",\"2018-01-23T10:00:00\",\"2018-01-23T11:00:00\",\"2018-01-23T12:00:00\",\"2018-01-23T13:00:00\",\"2018-01-23T14:00:00\",\"2018-01-23T15:00:00\",\"2018-01-23T16:00:00\",\"2018-01-23T17:00:00\",\"2018-01-23T18:00:00\",\"2018-01-23T19:00:00\",\"2018-01-23T20:00:00\",\"2018-01-23T21:00:00\",\"2018-01-23T22:00:00\",\"2018-01-23T23:00:00\",\"2018-01-24T00:00:00\",\"2018-01-24T01:00:00\",\"2018-01-24T02:00:00\",\"2018-01-24T03:00:00\",\"2018-01-24T04:00:00\",\"2018-01-24T05:00:00\",\"2018-01-24T06:00:00\",\"2018-01-24T07:00:00\",\"2018-01-24T08:00:00\",\"2018-01-24T09:00:00\",\"2018-01-24T10:00:00\",\"2018-01-24T11:00:00\",\"2018-01-24T12:00:00\",\"2018-01-24T13:00:00\",\"2018-01-24T14:00:00\",\"2018-01-24T15:00:00\",\"2018-01-24T16:00:00\",\"2018-01-24T17:00:00\",\"2018-01-24T18:00:00\",\"2018-01-24T19:00:00\",\"2018-01-24T20:00:00\",\"2018-01-24T21:00:00\",\"2018-01-24T22:00:00\",\"2018-01-24T23:00:00\",\"2018-01-25T00:00:00\",\"2018-01-25T01:00:00\",\"2018-01-25T02:00:00\",\"2018-01-25T03:00:00\",\"2018-01-25T04:00:00\",\"2018-01-25T05:00:00\",\"2018-01-25T06:00:00\",\"2018-01-25T07:00:00\",\"2018-01-25T08:00:00\",\"2018-01-25T09:00:00\",\"2018-01-25T10:00:00\",\"2018-01-25T11:00:00\",\"2018-01-25T12:00:00\",\"2018-01-25T13:00:00\",\"2018-01-25T14:00:00\",\"2018-01-25T15:00:00\",\"2018-01-25T16:00:00\",\"2018-01-25T17:00:00\",\"2018-01-25T18:00:00\",\"2018-01-25T19:00:00\",\"2018-01-25T20:00:00\",\"2018-01-25T21:00:00\",\"2018-01-25T22:00:00\",\"2018-01-25T23:00:00\"],\"y\":[74.17823078054614,0.0,0.0,0.0,0.0,74.66,74.22138522270052,85.4,85.4,85.4,85.4,78.23999999999998,74.66,74.66,74.66,74.66,74.66,78.24,74.66,65.3204614476457,65.37113127308224,0.0,0.0,0.0,0.0,0.0,0.0,0.0,0.0,0.0,0.0,65.56622703937644,65.62199649281926,65.68234967505975,65.74439136640335,65.80535835379813,65.8669231860953,74.66,74.66,74.66,66.04990922371579,66.12183378492048,62.84653079068365,74.66,0.0,0.0,0.0,0.0,0.0,0.0,0.0,0.0,0.0,0.0,74.66,66.67075184388591,66.8807142953604,66.98277326612254,67.08645783836121,67.1982861328551,67.21742580054962,67.34199503611337,67.57119440188607,67.71028577770183,67.85234583055882,74.66,74.66,68.34807466242471,68.53147126758928,68.72340652882387,68.91170845401771,69.20998328282384],\"type\":\"bar\",\"xaxis\":\"x\",\"yaxis\":\"y\"},{\"marker\":{\"color\":\"rgb(146,197,222)\"},\"name\":\"G3 Discharge\",\"x\":[\"2018-01-23T00:00:00\",\"2018-01-23T01:00:00\",\"2018-01-23T02:00:00\",\"2018-01-23T03:00:00\",\"2018-01-23T04:00:00\",\"2018-01-23T05:00:00\",\"2018-01-23T06:00:00\",\"2018-01-23T07:00:00\",\"2018-01-23T08:00:00\",\"2018-01-23T09:00:00\",\"2018-01-23T10:00:00\",\"2018-01-23T11:00:00\",\"2018-01-23T12:00:00\",\"2018-01-23T13:00:00\",\"2018-01-23T14:00:00\",\"2018-01-23T15:00:00\",\"2018-01-23T16:00:00\",\"2018-01-23T17:00:00\",\"2018-01-23T18:00:00\",\"2018-01-23T19:00:00\",\"2018-01-23T20:00:00\",\"2018-01-23T21:00:00\",\"2018-01-23T22:00:00\",\"2018-01-23T23:00:00\",\"2018-01-24T00:00:00\",\"2018-01-24T01:00:00\",\"2018-01-24T02:00:00\",\"2018-01-24T03:00:00\",\"2018-01-24T04:00:00\",\"2018-01-24T05:00:00\",\"2018-01-24T06:00:00\",\"2018-01-24T07:00:00\",\"2018-01-24T08:00:00\",\"2018-01-24T09:00:00\",\"2018-01-24T10:00:00\",\"2018-01-24T11:00:00\",\"2018-01-24T12:00:00\",\"2018-01-24T13:00:00\",\"2018-01-24T14:00:00\",\"2018-01-24T15:00:00\",\"2018-01-24T16:00:00\",\"2018-01-24T17:00:00\",\"2018-01-24T18:00:00\",\"2018-01-24T19:00:00\",\"2018-01-24T20:00:00\",\"2018-01-24T21:00:00\",\"2018-01-24T22:00:00\",\"2018-01-24T23:00:00\",\"2018-01-25T00:00:00\",\"2018-01-25T01:00:00\",\"2018-01-25T02:00:00\",\"2018-01-25T03:00:00\",\"2018-01-25T04:00:00\",\"2018-01-25T05:00:00\",\"2018-01-25T06:00:00\",\"2018-01-25T07:00:00\",\"2018-01-25T08:00:00\",\"2018-01-25T09:00:00\",\"2018-01-25T10:00:00\",\"2018-01-25T11:00:00\",\"2018-01-25T12:00:00\",\"2018-01-25T13:00:00\",\"2018-01-25T14:00:00\",\"2018-01-25T15:00:00\",\"2018-01-25T16:00:00\",\"2018-01-25T17:00:00\",\"2018-01-25T18:00:00\",\"2018-01-25T19:00:00\",\"2018-01-25T20:00:00\",\"2018-01-25T21:00:00\",\"2018-01-25T22:00:00\",\"2018-01-25T23:00:00\"],\"y\":[74.66,74.45053524683188,0.0,0.0,0.0,74.66,74.66,85.4,85.4,85.4,85.4,78.23999999999998,74.66,74.66,74.66,74.66,74.66,78.24,74.66,65.32059409524726,65.37126865533476,78.67244902000013,78.82117057171118,78.9873022316003,0.0,0.0,0.0,0.0,0.0,0.0,79.31563668994279,65.5663852521873,65.62216209071418,65.68253275410574,65.74458249201149,65.80555743298255,65.86713062871341,74.66,74.66,74.66,66.05001568645734,66.12195138325512,64.03234641237228,74.66,84.22671713952664,84.55467508641333,81.4773016034364,0.0,0.0,0.0,0.0,0.0,0.0,0.0,74.66,66.67095780429474,66.88114323496617,66.98322992759674,67.08672103354328,67.19857642279617,67.21755609627346,67.34213845181256,67.57128246988648,67.71038360221728,67.85245521222653,74.66,74.66,68.34824906403111,68.53192837954214,68.72386939509204,68.91198820154295,69.21039198534517],\"type\":\"bar\",\"xaxis\":\"x\",\"yaxis\":\"y\"},{\"marker\":{\"color\":\"rgb(209,229,240)\"},\"name\":\"G4 Discharge\",\"x\":[\"2018-01-23T00:00:00\",\"2018-01-23T01:00:00\",\"2018-01-23T02:00:00\",\"2018-01-23T03:00:00\",\"2018-01-23T04:00:00\",\"2018-01-23T05:00:00\",\"2018-01-23T06:00:00\",\"2018-01-23T07:00:00\",\"2018-01-23T08:00:00\",\"2018-01-23T09:00:00\",\"2018-01-23T10:00:00\",\"2018-01-23T11:00:00\",\"2018-01-23T12:00:00\",\"2018-01-23T13:00:00\",\"2018-01-23T14:00:00\",\"2018-01-23T15:00:00\",\"2018-01-23T16:00:00\",\"2018-01-23T17:00:00\",\"2018-01-23T18:00:00\",\"2018-01-23T19:00:00\",\"2018-01-23T20:00:00\",\"2018-01-23T21:00:00\",\"2018-01-23T22:00:00\",\"2018-01-23T23:00:00\",\"2018-01-24T00:00:00\",\"2018-01-24T01:00:00\",\"2018-01-24T02:00:00\",\"2018-01-24T03:00:00\",\"2018-01-24T04:00:00\",\"2018-01-24T05:00:00\",\"2018-01-24T06:00:00\",\"2018-01-24T07:00:00\",\"2018-01-24T08:00:00\",\"2018-01-24T09:00:00\",\"2018-01-24T10:00:00\",\"2018-01-24T11:00:00\",\"2018-01-24T12:00:00\",\"2018-01-24T13:00:00\",\"2018-01-24T14:00:00\",\"2018-01-24T15:00:00\",\"2018-01-24T16:00:00\",\"2018-01-24T17:00:00\",\"2018-01-24T18:00:00\",\"2018-01-24T19:00:00\",\"2018-01-24T20:00:00\",\"2018-01-24T21:00:00\",\"2018-01-24T22:00:00\",\"2018-01-24T23:00:00\",\"2018-01-25T00:00:00\",\"2018-01-25T01:00:00\",\"2018-01-25T02:00:00\",\"2018-01-25T03:00:00\",\"2018-01-25T04:00:00\",\"2018-01-25T05:00:00\",\"2018-01-25T06:00:00\",\"2018-01-25T07:00:00\",\"2018-01-25T08:00:00\",\"2018-01-25T09:00:00\",\"2018-01-25T10:00:00\",\"2018-01-25T11:00:00\",\"2018-01-25T12:00:00\",\"2018-01-25T13:00:00\",\"2018-01-25T14:00:00\",\"2018-01-25T15:00:00\",\"2018-01-25T16:00:00\",\"2018-01-25T17:00:00\",\"2018-01-25T18:00:00\",\"2018-01-25T19:00:00\",\"2018-01-25T20:00:00\",\"2018-01-25T21:00:00\",\"2018-01-25T22:00:00\",\"2018-01-25T23:00:00\"],\"y\":[0.0,0.0,0.0,0.0,0.0,0.0,74.66,85.4,85.4,85.4,85.4,78.24,74.66,74.66,74.66,74.66,74.66,78.23999999999998,74.66,65.3205184583538,65.37119117089625,0.0,0.0,0.0,0.0,0.0,0.0,0.0,0.0,0.0,0.0,65.56629935838788,65.62207317315793,65.6824365992609,65.74448378497408,65.80545621293206,65.86702684689124,0.0,0.0,0.0,66.0500677475649,66.12200803088098,57.822567723365886,0.0,0.0,0.0,0.0,0.0,0.0,0.0,0.0,0.0,0.0,0.0,0.0,66.67106390494033,66.88099446522642,66.98307931892882,67.08679247211833,67.09997490108995,67.21749394056863,67.34207557921155,67.57138654709331,67.71050024815561,67.8525867772709,74.66,74.66,68.34845280939544,68.53190214265754,68.72390137877986,68.91212828011173,69.210591681561],\"type\":\"bar\",\"xaxis\":\"x\",\"yaxis\":\"y\"},{\"marker\":{\"color\":\"rgb(247,247,247)\"},\"name\":\"G1 production\",\"x\":[\"2018-01-23T00:00:00\",\"2018-01-23T01:00:00\",\"2018-01-23T02:00:00\",\"2018-01-23T03:00:00\",\"2018-01-23T04:00:00\",\"2018-01-23T05:00:00\",\"2018-01-23T06:00:00\",\"2018-01-23T07:00:00\",\"2018-01-23T08:00:00\",\"2018-01-23T09:00:00\",\"2018-01-23T10:00:00\",\"2018-01-23T11:00:00\",\"2018-01-23T12:00:00\",\"2018-01-23T13:00:00\",\"2018-01-23T14:00:00\",\"2018-01-23T15:00:00\",\"2018-01-23T16:00:00\",\"2018-01-23T17:00:00\",\"2018-01-23T18:00:00\",\"2018-01-23T19:00:00\",\"2018-01-23T20:00:00\",\"2018-01-23T21:00:00\",\"2018-01-23T22:00:00\",\"2018-01-23T23:00:00\",\"2018-01-24T00:00:00\",\"2018-01-24T01:00:00\",\"2018-01-24T02:00:00\",\"2018-01-24T03:00:00\",\"2018-01-24T04:00:00\",\"2018-01-24T05:00:00\",\"2018-01-24T06:00:00\",\"2018-01-24T07:00:00\",\"2018-01-24T08:00:00\",\"2018-01-24T09:00:00\",\"2018-01-24T10:00:00\",\"2018-01-24T11:00:00\",\"2018-01-24T12:00:00\",\"2018-01-24T13:00:00\",\"2018-01-24T14:00:00\",\"2018-01-24T15:00:00\",\"2018-01-24T16:00:00\",\"2018-01-24T17:00:00\",\"2018-01-24T18:00:00\",\"2018-01-24T19:00:00\",\"2018-01-24T20:00:00\",\"2018-01-24T21:00:00\",\"2018-01-24T22:00:00\",\"2018-01-24T23:00:00\",\"2018-01-25T00:00:00\",\"2018-01-25T01:00:00\",\"2018-01-25T02:00:00\",\"2018-01-25T03:00:00\",\"2018-01-25T04:00:00\",\"2018-01-25T05:00:00\",\"2018-01-25T06:00:00\",\"2018-01-25T07:00:00\",\"2018-01-25T08:00:00\",\"2018-01-25T09:00:00\",\"2018-01-25T10:00:00\",\"2018-01-25T11:00:00\",\"2018-01-25T12:00:00\",\"2018-01-25T13:00:00\",\"2018-01-25T14:00:00\",\"2018-01-25T15:00:00\",\"2018-01-25T16:00:00\",\"2018-01-25T17:00:00\",\"2018-01-25T18:00:00\",\"2018-01-25T19:00:00\",\"2018-01-25T20:00:00\",\"2018-01-25T21:00:00\",\"2018-01-25T22:00:00\",\"2018-01-25T23:00:00\"],\"y\":[163.24000256839028,143.26213432623368,0.0,0.0,143.50110295796836,163.2030219692698,179.99862782168506,179.99853303224475,179.99841749393386,179.99828512695322,179.99800778963203,179.9978011635464,179.9975840453314,179.99945382489355,179.99937237092416,179.99928063484845,179.9991764041278,179.99905906887318,179.99890571766832,163.82182868213732,163.23053896784435,154.10098202245706,153.81831691752458,136.79281132119135,136.54913156457235,133.1696075093011,0.0,0.0,0.0,136.50222730533812,152.89739322194436,161.00703262167042,168.271953252864,167.57125354593092,159.04815622794138,158.39479241797886,157.74098584880716,148.85796087940182,148.3573455238825,147.81322832197603,155.3602540536511,154.6098034781941,153.8588799461993,145.15024718001467,144.4618826156857,143.94662850297541,143.43050221197277,129.25919019279806,129.1317534710628,128.69790639819604,0.0,0.0,0.0,128.94764218465423,141.73590397654084,155.89788433938637,154.93730179604518,153.97961027680523,153.02090018272193,152.0027400222193,150.92609044845477,149.8490358909921,148.7250097411278,147.54548406162584,152.49641783602175,151.18941954862944,149.84820652955884,148.43676679867022,147.0082091031592,145.55187892255614,143.87083413281994,136.29428794600508],\"type\":\"scatter\",\"xaxis\":\"x\",\"yaxis\":\"y2\"},{\"marker\":{\"color\":\"rgb(253,219,199)\"},\"name\":\"G2 production\",\"x\":[\"2018-01-23T00:00:00\",\"2018-01-23T01:00:00\",\"2018-01-23T02:00:00\",\"2018-01-23T03:00:00\",\"2018-01-23T04:00:00\",\"2018-01-23T05:00:00\",\"2018-01-23T06:00:00\",\"2018-01-23T07:00:00\",\"2018-01-23T08:00:00\",\"2018-01-23T09:00:00\",\"2018-01-23T10:00:00\",\"2018-01-23T11:00:00\",\"2018-01-23T12:00:00\",\"2018-01-23T13:00:00\",\"2018-01-23T14:00:00\",\"2018-01-23T15:00:00\",\"2018-01-23T16:00:00\",\"2018-01-23T17:00:00\",\"2018-01-23T18:00:00\",\"2018-01-23T19:00:00\",\"2018-01-23T20:00:00\",\"2018-01-23T21:00:00\",\"2018-01-23T22:00:00\",\"2018-01-23T23:00:00\",\"2018-01-24T00:00:00\",\"2018-01-24T01:00:00\",\"2018-01-24T02:00:00\",\"2018-01-24T03:00:00\",\"2018-01-24T04:00:00\",\"2018-01-24T05:00:00\",\"2018-01-24T06:00:00\",\"2018-01-24T07:00:00\",\"2018-01-24T08:00:00\",\"2018-01-24T09:00:00\",\"2018-01-24T10:00:00\",\"2018-01-24T11:00:00\",\"2018-01-24T12:00:00\",\"2018-01-24T13:00:00\",\"2018-01-24T14:00:00\",\"2018-01-24T15:00:00\",\"2018-01-24T16:00:00\",\"2018-01-24T17:00:00\",\"2018-01-24T18:00:00\",\"2018-01-24T19:00:00\",\"2018-01-24T20:00:00\",\"2018-01-24T21:00:00\",\"2018-01-24T22:00:00\",\"2018-01-24T23:00:00\",\"2018-01-25T00:00:00\",\"2018-01-25T01:00:00\",\"2018-01-25T02:00:00\",\"2018-01-25T03:00:00\",\"2018-01-25T04:00:00\",\"2018-01-25T05:00:00\",\"2018-01-25T06:00:00\",\"2018-01-25T07:00:00\",\"2018-01-25T08:00:00\",\"2018-01-25T09:00:00\",\"2018-01-25T10:00:00\",\"2018-01-25T11:00:00\",\"2018-01-25T12:00:00\",\"2018-01-25T13:00:00\",\"2018-01-25T14:00:00\",\"2018-01-25T15:00:00\",\"2018-01-25T16:00:00\",\"2018-01-25T17:00:00\",\"2018-01-25T18:00:00\",\"2018-01-25T19:00:00\",\"2018-01-25T20:00:00\",\"2018-01-25T21:00:00\",\"2018-01-25T22:00:00\",\"2018-01-25T23:00:00\"],\"y\":[52.70085469592807,0.0,0.0,0.0,0.0,53.02099836009719,48.92503873692934,53.405537573737305,53.204464874687865,52.994002435688074,52.7684547332332,49.883854908784755,48.090234118243075,47.90886792842626,47.7185535708944,47.52681420961125,47.33424072227583,48.69336030945882,46.93290129749044,41.95355817673388,41.82581201724124,0.0,0.0,0.0,0.0,0.0,0.0,0.0,0.0,0.0,0.0,41.345455296630675,41.20969362795741,41.066964790601105,40.92233409657078,40.781312840007125,40.640122906928234,48.385376127084285,48.223601725588544,48.047769654695244,40.10156452373281,39.93829159943613,38.16981386174801,47.18722437639809,0.0,0.0,0.0,0.0,0.0,0.0,0.0,0.0,0.0,0.0,46.08387562340191,38.62682923091365,38.48332700415162,38.287406280395125,38.09113671904566,37.887272165422374,37.61513562692259,37.395593839097785,37.20991224037779,36.9673756406324,36.72429927994202,39.04811191413527,38.683823016034744,35.927951788917646,35.647053096934876,35.360383060619974,35.01380887293877,34.627453888755085],\"type\":\"scatter\",\"xaxis\":\"x\",\"yaxis\":\"y2\"},{\"marker\":{\"color\":\"rgb(244,165,130)\"},\"name\":\"G3 production\",\"x\":[\"2018-01-23T00:00:00\",\"2018-01-23T01:00:00\",\"2018-01-23T02:00:00\",\"2018-01-23T03:00:00\",\"2018-01-23T04:00:00\",\"2018-01-23T05:00:00\",\"2018-01-23T06:00:00\",\"2018-01-23T07:00:00\",\"2018-01-23T08:00:00\",\"2018-01-23T09:00:00\",\"2018-01-23T10:00:00\",\"2018-01-23T11:00:00\",\"2018-01-23T12:00:00\",\"2018-01-23T13:00:00\",\"2018-01-23T14:00:00\",\"2018-01-23T15:00:00\",\"2018-01-23T16:00:00\",\"2018-01-23T17:00:00\",\"2018-01-23T18:00:00\",\"2018-01-23T19:00:00\",\"2018-01-23T20:00:00\",\"2018-01-23T21:00:00\",\"2018-01-23T22:00:00\",\"2018-01-23T23:00:00\",\"2018-01-24T00:00:00\",\"2018-01-24T01:00:00\",\"2018-01-24T02:00:00\",\"2018-01-24T03:00:00\",\"2018-01-24T04:00:00\",\"2018-01-24T05:00:00\",\"2018-01-24T06:00:00\",\"2018-01-24T07:00:00\",\"2018-01-24T08:00:00\",\"2018-01-24T09:00:00\",\"2018-01-24T10:00:00\",\"2018-01-24T11:00:00\",\"2018-01-24T12:00:00\",\"2018-01-24T13:00:00\",\"2018-01-24T14:00:00\",\"2018-01-24T15:00:00\",\"2018-01-24T16:00:00\",\"2018-01-24T17:00:00\",\"2018-01-24T18:00:00\",\"2018-01-24T19:00:00\",\"2018-01-24T20:00:00\",\"2018-01-24T21:00:00\",\"2018-01-24T22:00:00\",\"2018-01-24T23:00:00\",\"2018-01-25T00:00:00\",\"2018-01-25T01:00:00\",\"2018-01-25T02:00:00\",\"2018-01-25T03:00:00\",\"2018-01-25T04:00:00\",\"2018-01-25T05:00:00\",\"2018-01-25T06:00:00\",\"2018-01-25T07:00:00\",\"2018-01-25T08:00:00\",\"2018-01-25T09:00:00\",\"2018-01-25T10:00:00\",\"2018-01-25T11:00:00\",\"2018-01-25T12:00:00\",\"2018-01-25T13:00:00\",\"2018-01-25T14:00:00\",\"2018-01-25T15:00:00\",\"2018-01-25T16:00:00\",\"2018-01-25T17:00:00\",\"2018-01-25T18:00:00\",\"2018-01-25T19:00:00\",\"2018-01-25T20:00:00\",\"2018-01-25T21:00:00\",\"2018-01-25T22:00:00\",\"2018-01-25T23:00:00\"],\"y\":[53.05210324095631,54.99952010653442,0.0,0.0,0.0,53.02099836009719,49.221740079145555,53.405537573737305,53.204464874687865,52.994002435688074,52.7684547332332,49.883854908784755,48.090234118243075,47.90886792842626,47.7185535708944,47.52681420961125,47.33424072227583,48.69336030945882,46.93290129749044,41.95365026133946,41.825907029633264,54.99987626649841,54.999875143720246,54.99986947116116,0.0,0.0,0.0,0.0,0.0,0.0,55.003591962734504,41.34556315891749,41.20980606531338,41.0670885607745,40.922462738436074,40.78144625830282,40.64026132835143,48.385376127084285,48.223601725588544,48.047769654695244,40.10163444154683,39.93836843807583,38.96777521571779,47.18722437639809,54.99999215801774,54.99997511372381,53.055403459349,0.0,0.0,0.0,0.0,0.0,0.0,0.0,46.08387562340191,38.626958388937,38.48359421088613,38.28768890706806,38.09129854194377,37.887449417325186,37.61521459349887,37.39568010121302,37.20996478256001,36.96743351252342,36.72436343834948,39.04811191413527,38.683823016034744,35.92804843714862,35.647303794541685,35.360634203661505,35.013958780666144,34.62766959497311],\"type\":\"scatter\",\"xaxis\":\"x\",\"yaxis\":\"y2\"},{\"marker\":{\"color\":\"rgb(214,96,77)\"},\"name\":\"G4 production\",\"x\":[\"2018-01-23T00:00:00\",\"2018-01-23T01:00:00\",\"2018-01-23T02:00:00\",\"2018-01-23T03:00:00\",\"2018-01-23T04:00:00\",\"2018-01-23T05:00:00\",\"2018-01-23T06:00:00\",\"2018-01-23T07:00:00\",\"2018-01-23T08:00:00\",\"2018-01-23T09:00:00\",\"2018-01-23T10:00:00\",\"2018-01-23T11:00:00\",\"2018-01-23T12:00:00\",\"2018-01-23T13:00:00\",\"2018-01-23T14:00:00\",\"2018-01-23T15:00:00\",\"2018-01-23T16:00:00\",\"2018-01-23T17:00:00\",\"2018-01-23T18:00:00\",\"2018-01-23T19:00:00\",\"2018-01-23T20:00:00\",\"2018-01-23T21:00:00\",\"2018-01-23T22:00:00\",\"2018-01-23T23:00:00\",\"2018-01-24T00:00:00\",\"2018-01-24T01:00:00\",\"2018-01-24T02:00:00\",\"2018-01-24T03:00:00\",\"2018-01-24T04:00:00\",\"2018-01-24T05:00:00\",\"2018-01-24T06:00:00\",\"2018-01-24T07:00:00\",\"2018-01-24T08:00:00\",\"2018-01-24T09:00:00\",\"2018-01-24T10:00:00\",\"2018-01-24T11:00:00\",\"2018-01-24T12:00:00\",\"2018-01-24T13:00:00\",\"2018-01-24T14:00:00\",\"2018-01-24T15:00:00\",\"2018-01-24T16:00:00\",\"2018-01-24T17:00:00\",\"2018-01-24T18:00:00\",\"2018-01-24T19:00:00\",\"2018-01-24T20:00:00\",\"2018-01-24T21:00:00\",\"2018-01-24T22:00:00\",\"2018-01-24T23:00:00\",\"2018-01-25T00:00:00\",\"2018-01-25T01:00:00\",\"2018-01-25T02:00:00\",\"2018-01-25T03:00:00\",\"2018-01-25T04:00:00\",\"2018-01-25T05:00:00\",\"2018-01-25T06:00:00\",\"2018-01-25T07:00:00\",\"2018-01-25T08:00:00\",\"2018-01-25T09:00:00\",\"2018-01-25T10:00:00\",\"2018-01-25T11:00:00\",\"2018-01-25T12:00:00\",\"2018-01-25T13:00:00\",\"2018-01-25T14:00:00\",\"2018-01-25T15:00:00\",\"2018-01-25T16:00:00\",\"2018-01-25T17:00:00\",\"2018-01-25T18:00:00\",\"2018-01-25T19:00:00\",\"2018-01-25T20:00:00\",\"2018-01-25T21:00:00\",\"2018-01-25T22:00:00\",\"2018-01-25T23:00:00\"],\"y\":[0.0,0.0,0.0,0.0,0.0,0.0,49.221740079145555,53.405537573737305,53.204464874687865,52.994002435688074,52.7684547332332,49.88385490878476,48.090234118243075,47.90886792842626,47.7185535708944,47.52681420961125,47.33424072227583,48.69336030945881,46.93290129749044,41.95359775383932,41.82585344205396,0.0,0.0,0.0,0.0,0.0,0.0,0.0,0.0,0.0,0.0,41.34550460043322,41.20974569222828,41.06702355550347,40.922396301191604,40.78137842294285,40.64019207725267,0.0,0.0,0.0,40.10166863190716,39.9384054515879,34.769509137923066,0.0,0.0,0.0,0.0,0.0,0.0,0.0,0.0,0.0,0.0,0.0,0.0,38.62702492480484,38.483501535160855,38.28759569569816,38.09134246524652,37.82724978404009,37.61517692362419,37.39564228440439,37.21002687599617,36.96750251897491,36.724440608557394,39.04811191413527,38.683823016034744,35.92816134685767,35.64728940523011,35.36065155745067,35.01403384430258,34.62777499127709],\"type\":\"scatter\",\"xaxis\":\"x\",\"yaxis\":\"y2\"}],                        {\"template\":{\"data\":{\"bar\":[{\"error_x\":{\"color\":\"#2a3f5f\"},\"error_y\":{\"color\":\"#2a3f5f\"},\"marker\":{\"line\":{\"color\":\"#E5ECF6\",\"width\":0.5},\"pattern\":{\"fillmode\":\"overlay\",\"size\":10,\"solidity\":0.2}},\"type\":\"bar\"}],\"barpolar\":[{\"marker\":{\"line\":{\"color\":\"#E5ECF6\",\"width\":0.5},\"pattern\":{\"fillmode\":\"overlay\",\"size\":10,\"solidity\":0.2}},\"type\":\"barpolar\"}],\"carpet\":[{\"aaxis\":{\"endlinecolor\":\"#2a3f5f\",\"gridcolor\":\"white\",\"linecolor\":\"white\",\"minorgridcolor\":\"white\",\"startlinecolor\":\"#2a3f5f\"},\"baxis\":{\"endlinecolor\":\"#2a3f5f\",\"gridcolor\":\"white\",\"linecolor\":\"white\",\"minorgridcolor\":\"white\",\"startlinecolor\":\"#2a3f5f\"},\"type\":\"carpet\"}],\"choropleth\":[{\"colorbar\":{\"outlinewidth\":0,\"ticks\":\"\"},\"type\":\"choropleth\"}],\"contour\":[{\"colorbar\":{\"outlinewidth\":0,\"ticks\":\"\"},\"colorscale\":[[0.0,\"#0d0887\"],[0.1111111111111111,\"#46039f\"],[0.2222222222222222,\"#7201a8\"],[0.3333333333333333,\"#9c179e\"],[0.4444444444444444,\"#bd3786\"],[0.5555555555555556,\"#d8576b\"],[0.6666666666666666,\"#ed7953\"],[0.7777777777777778,\"#fb9f3a\"],[0.8888888888888888,\"#fdca26\"],[1.0,\"#f0f921\"]],\"type\":\"contour\"}],\"contourcarpet\":[{\"colorbar\":{\"outlinewidth\":0,\"ticks\":\"\"},\"type\":\"contourcarpet\"}],\"heatmap\":[{\"colorbar\":{\"outlinewidth\":0,\"ticks\":\"\"},\"colorscale\":[[0.0,\"#0d0887\"],[0.1111111111111111,\"#46039f\"],[0.2222222222222222,\"#7201a8\"],[0.3333333333333333,\"#9c179e\"],[0.4444444444444444,\"#bd3786\"],[0.5555555555555556,\"#d8576b\"],[0.6666666666666666,\"#ed7953\"],[0.7777777777777778,\"#fb9f3a\"],[0.8888888888888888,\"#fdca26\"],[1.0,\"#f0f921\"]],\"type\":\"heatmap\"}],\"heatmapgl\":[{\"colorbar\":{\"outlinewidth\":0,\"ticks\":\"\"},\"colorscale\":[[0.0,\"#0d0887\"],[0.1111111111111111,\"#46039f\"],[0.2222222222222222,\"#7201a8\"],[0.3333333333333333,\"#9c179e\"],[0.4444444444444444,\"#bd3786\"],[0.5555555555555556,\"#d8576b\"],[0.6666666666666666,\"#ed7953\"],[0.7777777777777778,\"#fb9f3a\"],[0.8888888888888888,\"#fdca26\"],[1.0,\"#f0f921\"]],\"type\":\"heatmapgl\"}],\"histogram\":[{\"marker\":{\"pattern\":{\"fillmode\":\"overlay\",\"size\":10,\"solidity\":0.2}},\"type\":\"histogram\"}],\"histogram2d\":[{\"colorbar\":{\"outlinewidth\":0,\"ticks\":\"\"},\"colorscale\":[[0.0,\"#0d0887\"],[0.1111111111111111,\"#46039f\"],[0.2222222222222222,\"#7201a8\"],[0.3333333333333333,\"#9c179e\"],[0.4444444444444444,\"#bd3786\"],[0.5555555555555556,\"#d8576b\"],[0.6666666666666666,\"#ed7953\"],[0.7777777777777778,\"#fb9f3a\"],[0.8888888888888888,\"#fdca26\"],[1.0,\"#f0f921\"]],\"type\":\"histogram2d\"}],\"histogram2dcontour\":[{\"colorbar\":{\"outlinewidth\":0,\"ticks\":\"\"},\"colorscale\":[[0.0,\"#0d0887\"],[0.1111111111111111,\"#46039f\"],[0.2222222222222222,\"#7201a8\"],[0.3333333333333333,\"#9c179e\"],[0.4444444444444444,\"#bd3786\"],[0.5555555555555556,\"#d8576b\"],[0.6666666666666666,\"#ed7953\"],[0.7777777777777778,\"#fb9f3a\"],[0.8888888888888888,\"#fdca26\"],[1.0,\"#f0f921\"]],\"type\":\"histogram2dcontour\"}],\"mesh3d\":[{\"colorbar\":{\"outlinewidth\":0,\"ticks\":\"\"},\"type\":\"mesh3d\"}],\"parcoords\":[{\"line\":{\"colorbar\":{\"outlinewidth\":0,\"ticks\":\"\"}},\"type\":\"parcoords\"}],\"pie\":[{\"automargin\":true,\"type\":\"pie\"}],\"scatter\":[{\"marker\":{\"colorbar\":{\"outlinewidth\":0,\"ticks\":\"\"}},\"type\":\"scatter\"}],\"scatter3d\":[{\"line\":{\"colorbar\":{\"outlinewidth\":0,\"ticks\":\"\"}},\"marker\":{\"colorbar\":{\"outlinewidth\":0,\"ticks\":\"\"}},\"type\":\"scatter3d\"}],\"scattercarpet\":[{\"marker\":{\"colorbar\":{\"outlinewidth\":0,\"ticks\":\"\"}},\"type\":\"scattercarpet\"}],\"scattergeo\":[{\"marker\":{\"colorbar\":{\"outlinewidth\":0,\"ticks\":\"\"}},\"type\":\"scattergeo\"}],\"scattergl\":[{\"marker\":{\"colorbar\":{\"outlinewidth\":0,\"ticks\":\"\"}},\"type\":\"scattergl\"}],\"scattermapbox\":[{\"marker\":{\"colorbar\":{\"outlinewidth\":0,\"ticks\":\"\"}},\"type\":\"scattermapbox\"}],\"scatterpolar\":[{\"marker\":{\"colorbar\":{\"outlinewidth\":0,\"ticks\":\"\"}},\"type\":\"scatterpolar\"}],\"scatterpolargl\":[{\"marker\":{\"colorbar\":{\"outlinewidth\":0,\"ticks\":\"\"}},\"type\":\"scatterpolargl\"}],\"scatterternary\":[{\"marker\":{\"colorbar\":{\"outlinewidth\":0,\"ticks\":\"\"}},\"type\":\"scatterternary\"}],\"surface\":[{\"colorbar\":{\"outlinewidth\":0,\"ticks\":\"\"},\"colorscale\":[[0.0,\"#0d0887\"],[0.1111111111111111,\"#46039f\"],[0.2222222222222222,\"#7201a8\"],[0.3333333333333333,\"#9c179e\"],[0.4444444444444444,\"#bd3786\"],[0.5555555555555556,\"#d8576b\"],[0.6666666666666666,\"#ed7953\"],[0.7777777777777778,\"#fb9f3a\"],[0.8888888888888888,\"#fdca26\"],[1.0,\"#f0f921\"]],\"type\":\"surface\"}],\"table\":[{\"cells\":{\"fill\":{\"color\":\"#EBF0F8\"},\"line\":{\"color\":\"white\"}},\"header\":{\"fill\":{\"color\":\"#C8D4E3\"},\"line\":{\"color\":\"white\"}},\"type\":\"table\"}]},\"layout\":{\"annotationdefaults\":{\"arrowcolor\":\"#2a3f5f\",\"arrowhead\":0,\"arrowwidth\":1},\"autotypenumbers\":\"strict\",\"coloraxis\":{\"colorbar\":{\"outlinewidth\":0,\"ticks\":\"\"}},\"colorscale\":{\"diverging\":[[0,\"#8e0152\"],[0.1,\"#c51b7d\"],[0.2,\"#de77ae\"],[0.3,\"#f1b6da\"],[0.4,\"#fde0ef\"],[0.5,\"#f7f7f7\"],[0.6,\"#e6f5d0\"],[0.7,\"#b8e186\"],[0.8,\"#7fbc41\"],[0.9,\"#4d9221\"],[1,\"#276419\"]],\"sequential\":[[0.0,\"#0d0887\"],[0.1111111111111111,\"#46039f\"],[0.2222222222222222,\"#7201a8\"],[0.3333333333333333,\"#9c179e\"],[0.4444444444444444,\"#bd3786\"],[0.5555555555555556,\"#d8576b\"],[0.6666666666666666,\"#ed7953\"],[0.7777777777777778,\"#fb9f3a\"],[0.8888888888888888,\"#fdca26\"],[1.0,\"#f0f921\"]],\"sequentialminus\":[[0.0,\"#0d0887\"],[0.1111111111111111,\"#46039f\"],[0.2222222222222222,\"#7201a8\"],[0.3333333333333333,\"#9c179e\"],[0.4444444444444444,\"#bd3786\"],[0.5555555555555556,\"#d8576b\"],[0.6666666666666666,\"#ed7953\"],[0.7777777777777778,\"#fb9f3a\"],[0.8888888888888888,\"#fdca26\"],[1.0,\"#f0f921\"]]},\"colorway\":[\"#636efa\",\"#EF553B\",\"#00cc96\",\"#ab63fa\",\"#FFA15A\",\"#19d3f3\",\"#FF6692\",\"#B6E880\",\"#FF97FF\",\"#FECB52\"],\"font\":{\"color\":\"#2a3f5f\"},\"geo\":{\"bgcolor\":\"white\",\"lakecolor\":\"white\",\"landcolor\":\"#E5ECF6\",\"showlakes\":true,\"showland\":true,\"subunitcolor\":\"white\"},\"hoverlabel\":{\"align\":\"left\"},\"hovermode\":\"closest\",\"mapbox\":{\"style\":\"light\"},\"paper_bgcolor\":\"white\",\"plot_bgcolor\":\"#E5ECF6\",\"polar\":{\"angularaxis\":{\"gridcolor\":\"white\",\"linecolor\":\"white\",\"ticks\":\"\"},\"bgcolor\":\"#E5ECF6\",\"radialaxis\":{\"gridcolor\":\"white\",\"linecolor\":\"white\",\"ticks\":\"\"}},\"scene\":{\"xaxis\":{\"backgroundcolor\":\"#E5ECF6\",\"gridcolor\":\"white\",\"gridwidth\":2,\"linecolor\":\"white\",\"showbackground\":true,\"ticks\":\"\",\"zerolinecolor\":\"white\"},\"yaxis\":{\"backgroundcolor\":\"#E5ECF6\",\"gridcolor\":\"white\",\"gridwidth\":2,\"linecolor\":\"white\",\"showbackground\":true,\"ticks\":\"\",\"zerolinecolor\":\"white\"},\"zaxis\":{\"backgroundcolor\":\"#E5ECF6\",\"gridcolor\":\"white\",\"gridwidth\":2,\"linecolor\":\"white\",\"showbackground\":true,\"ticks\":\"\",\"zerolinecolor\":\"white\"}},\"shapedefaults\":{\"line\":{\"color\":\"#2a3f5f\"}},\"ternary\":{\"aaxis\":{\"gridcolor\":\"white\",\"linecolor\":\"white\",\"ticks\":\"\"},\"baxis\":{\"gridcolor\":\"white\",\"linecolor\":\"white\",\"ticks\":\"\"},\"bgcolor\":\"#E5ECF6\",\"caxis\":{\"gridcolor\":\"white\",\"linecolor\":\"white\",\"ticks\":\"\"}},\"title\":{\"x\":0.05},\"xaxis\":{\"automargin\":true,\"gridcolor\":\"white\",\"linecolor\":\"white\",\"ticks\":\"\",\"title\":{\"standoff\":15},\"zerolinecolor\":\"white\",\"zerolinewidth\":2},\"yaxis\":{\"automargin\":true,\"gridcolor\":\"white\",\"linecolor\":\"white\",\"ticks\":\"\",\"title\":{\"standoff\":15},\"zerolinecolor\":\"white\",\"zerolinewidth\":2}}},\"xaxis\":{\"anchor\":\"y\",\"domain\":[0.0,0.94],\"title\":{\"text\":\"<b>Time</b> (Hour)\"}},\"yaxis\":{\"anchor\":\"x\",\"domain\":[0.0,1.0],\"title\":{\"text\":\"<b>Discharge</b> (m<sup>3</sup>/s)\"},\"range\":[0,540],\"tick0\":60,\"dtick\":60},\"yaxis2\":{\"anchor\":\"x\",\"overlaying\":\"y\",\"side\":\"right\",\"title\":{\"text\":\"<b>Production</b> (MW)\"},\"range\":[0,360],\"tick0\":40,\"dtick\":40},\"title\":{\"text\":\"<b>Unit discharge and production in Plant2</b>\"},\"barmode\":\"stack\"},                        {\"responsive\": true}                    ).then(function(){\n",
       "                            \n",
       "var gd = document.getElementById('51e11836-1e7a-4579-a5b5-68b14aaae2fb');\n",
       "var x = new MutationObserver(function (mutations, observer) {{\n",
       "        var display = window.getComputedStyle(gd).display;\n",
       "        if (!display || display === 'none') {{\n",
       "            console.log([gd, 'removed!']);\n",
       "            Plotly.purge(gd);\n",
       "            observer.disconnect();\n",
       "        }}\n",
       "}});\n",
       "\n",
       "// Listen for the removal of the full notebook cells\n",
       "var notebookContainer = gd.closest('#notebook-container');\n",
       "if (notebookContainer) {{\n",
       "    x.observe(notebookContainer, {childList: true});\n",
       "}}\n",
       "\n",
       "// Listen for the clearing of the current output cell\n",
       "var outputEl = gd.closest('.output');\n",
       "if (outputEl) {{\n",
       "    x.observe(outputEl, {childList: true});\n",
       "}}\n",
       "\n",
       "                        })                };                });            </script>        </div>"
      ]
     },
     "metadata": {},
     "output_type": "display_data"
    }
   ],
   "source": [
    "# Plotting discharge and production results from Plant 2\n",
    "\n",
    "# Retrieving discharge results on generators\n",
    "G1_discharge=shop.model.generator.Plant2_Generator1.discharge.get()\n",
    "G2_discharge=shop.model.generator.Plant2_Generator2.discharge.get()\n",
    "G3_discharge=shop.model.generator.Plant2_Generator3.discharge.get()\n",
    "G4_discharge=shop.model.generator.Plant2_Generator4.discharge.get()\n",
    "\n",
    "# Retrieving discharge results on generators\n",
    "G1_production=shop.model.generator.Plant2_Generator1.production.get()\n",
    "G2_production=shop.model.generator.Plant2_Generator2.production.get()\n",
    "G3_production=shop.model.generator.Plant2_Generator3.production.get()\n",
    "G4_production=shop.model.generator.Plant2_Generator4.production.get()\n",
    "\n",
    "from plotly.subplots import make_subplots\n",
    "fig = make_subplots(specs=[[{\"secondary_y\": True}]])\n",
    "colorscale = px.colors.sequential.RdBu_r\n",
    "fig.add_trace(go.Bar(x=G1_discharge.index, y=G1_discharge.values, name=\"G1 Discharge\", marker_color=colorscale[1]), secondary_y=False)\n",
    "fig.add_trace(go.Bar(x=G2_discharge.index, y=G2_discharge.values, name=\"G2 Discharge\", marker_color=colorscale[2]), secondary_y=False)\n",
    "fig.add_trace(go.Bar(x=G3_discharge.index, y=G3_discharge.values, name=\"G3 Discharge\", marker_color=colorscale[3]), secondary_y=False)\n",
    "fig.add_trace(go.Bar(x=G4_discharge.index, y=G4_discharge.values, name=\"G4 Discharge\", marker_color=colorscale[4]), secondary_y=False)\n",
    "fig.add_trace(go.Scatter(x=G1_production.index, y=G1_production.values, name=\"G1 production\", marker_color=colorscale[5]), secondary_y=True)\n",
    "fig.add_trace(go.Scatter(x=G2_production.index, y=G2_production.values, name=\"G2 production\", marker_color=colorscale[6]), secondary_y=True)\n",
    "fig.add_trace(go.Scatter(x=G3_production.index, y=G3_production.values, name=\"G3 production\", marker_color=colorscale[7]), secondary_y=True)\n",
    "fig.add_trace(go.Scatter(x=G4_production.index, y=G4_production.values, name=\"G4 production\", marker_color=colorscale[8]), secondary_y=True)\n",
    "fig.update_layout(title_text=\"<b>Unit discharge and production in Plant2</b>\", barmode=\"stack\")\n",
    "fig.update_xaxes(title_text=\"<b>Time</b> (Hour)\")\n",
    "fig.update_yaxes(title_text=\"<b>Discharge</b> (m<sup>3</sup>/s)\", secondary_y=False, range=[0, 540], tick0=60, dtick=60)\n",
    "fig.update_yaxes(title_text=\"<b>Production</b> (MW)\", secondary_y=True, range=[0, 360], tick0=40, dtick=40)\n",
    "fig.show()"
   ]
  },
  {
   "cell_type": "code",
   "execution_count": 36,
   "metadata": {
    "Collapsed": "false"
   },
   "outputs": [
    {
     "data": {
      "application/vnd.plotly.v1+json": {
       "config": {
        "plotlyServerURL": "https://plot.ly"
       },
       "data": [
        {
         "marker": {
          "color": "rgb(33,102,172)"
         },
         "name": "Reservoir1 storage",
         "type": "scatter",
         "x": [
          "2018-01-23T00:00:00",
          "2018-01-23T01:00:00",
          "2018-01-23T02:00:00",
          "2018-01-23T03:00:00",
          "2018-01-23T04:00:00",
          "2018-01-23T05:00:00",
          "2018-01-23T06:00:00",
          "2018-01-23T07:00:00",
          "2018-01-23T08:00:00",
          "2018-01-23T09:00:00",
          "2018-01-23T10:00:00",
          "2018-01-23T11:00:00",
          "2018-01-23T12:00:00",
          "2018-01-23T13:00:00",
          "2018-01-23T14:00:00",
          "2018-01-23T15:00:00",
          "2018-01-23T16:00:00",
          "2018-01-23T17:00:00",
          "2018-01-23T18:00:00",
          "2018-01-23T19:00:00",
          "2018-01-23T20:00:00",
          "2018-01-23T21:00:00",
          "2018-01-23T22:00:00",
          "2018-01-23T23:00:00",
          "2018-01-24T00:00:00",
          "2018-01-24T01:00:00",
          "2018-01-24T02:00:00",
          "2018-01-24T03:00:00",
          "2018-01-24T04:00:00",
          "2018-01-24T05:00:00",
          "2018-01-24T06:00:00",
          "2018-01-24T07:00:00",
          "2018-01-24T08:00:00",
          "2018-01-24T09:00:00",
          "2018-01-24T10:00:00",
          "2018-01-24T11:00:00",
          "2018-01-24T12:00:00",
          "2018-01-24T13:00:00",
          "2018-01-24T14:00:00",
          "2018-01-24T15:00:00",
          "2018-01-24T16:00:00",
          "2018-01-24T17:00:00",
          "2018-01-24T18:00:00",
          "2018-01-24T19:00:00",
          "2018-01-24T20:00:00",
          "2018-01-24T21:00:00",
          "2018-01-24T22:00:00",
          "2018-01-24T23:00:00",
          "2018-01-25T00:00:00",
          "2018-01-25T01:00:00",
          "2018-01-25T02:00:00",
          "2018-01-25T03:00:00",
          "2018-01-25T04:00:00",
          "2018-01-25T05:00:00",
          "2018-01-25T06:00:00",
          "2018-01-25T07:00:00",
          "2018-01-25T08:00:00",
          "2018-01-25T09:00:00",
          "2018-01-25T10:00:00",
          "2018-01-25T11:00:00",
          "2018-01-25T12:00:00",
          "2018-01-25T13:00:00",
          "2018-01-25T14:00:00",
          "2018-01-25T15:00:00",
          "2018-01-25T16:00:00",
          "2018-01-25T17:00:00",
          "2018-01-25T18:00:00",
          "2018-01-25T19:00:00",
          "2018-01-25T20:00:00",
          "2018-01-25T21:00:00",
          "2018-01-25T22:00:00",
          "2018-01-25T23:00:00",
          "2018-01-26T00:00:00"
         ],
         "y": [
          32.769999999999996,
          32.381944000000004,
          32.011648,
          31.641352,
          31.32041782562089,
          30.95012182562089,
          30.56206582562089,
          30.13848982562089,
          29.71491382562089,
          29.29133782562089,
          28.86776182562089,
          28.444185825620888,
          28.020609825620888,
          27.597033825620887,
          27.173457825620886,
          26.749881825620886,
          26.326305825620885,
          25.902729825620884,
          25.479153825620884,
          25.073337825620882,
          24.703041825620883,
          24.332745825620883,
          23.962449825620883,
          23.63938178381317,
          23.45423378381317,
          23.269085783813168,
          23.269085783813168,
          23.269085783813168,
          23.269085783813168,
          23.269085783813168,
          23.083937783813166,
          22.760609879020535,
          22.390313879020535,
          22.020017879020536,
          21.649721879020536,
          21.279425879020536,
          20.909129879020536,
          20.585144613724548,
          20.261035067693065,
          19.936816350971547,
          19.61248811023773,
          19.28784198159229,
          18.963062222810393,
          18.638145156067285,
          18.452997156067283,
          18.26784915606728,
          18.08270115606728,
          18.08270115606728,
          18.08270115606728,
          18.08270115606728,
          18.08270115606728,
          18.08270115606728,
          18.08270115606728,
          18.08270115606728,
          18.08270115606728,
          17.89755315606728,
          17.572230746481164,
          17.201934746481164,
          16.831638746481165,
          16.50587121311449,
          16.17995324210843,
          15.853882716482355,
          15.52765561455133,
          15.2012713093452,
          14.874729169774815,
          14.548028555680828,
          14.177732555680828,
          13.807436555680829,
          13.480209140239888,
          13.152808633427172,
          12.967660633427172,
          12.967660633427172,
          12.967660633427172
         ]
        },
        {
         "marker": {
          "color": "rgb(67,147,195)"
         },
         "name": "Reservoir2 storage",
         "type": "scatter",
         "x": [
          "2018-01-23T00:00:00",
          "2018-01-23T01:00:00",
          "2018-01-23T02:00:00",
          "2018-01-23T03:00:00",
          "2018-01-23T04:00:00",
          "2018-01-23T05:00:00",
          "2018-01-23T06:00:00",
          "2018-01-23T07:00:00",
          "2018-01-23T08:00:00",
          "2018-01-23T09:00:00",
          "2018-01-23T10:00:00",
          "2018-01-23T11:00:00",
          "2018-01-23T12:00:00",
          "2018-01-23T13:00:00",
          "2018-01-23T14:00:00",
          "2018-01-23T15:00:00",
          "2018-01-23T16:00:00",
          "2018-01-23T17:00:00",
          "2018-01-23T18:00:00",
          "2018-01-23T19:00:00",
          "2018-01-23T20:00:00",
          "2018-01-23T21:00:00",
          "2018-01-23T22:00:00",
          "2018-01-23T23:00:00",
          "2018-01-24T00:00:00",
          "2018-01-24T01:00:00",
          "2018-01-24T02:00:00",
          "2018-01-24T03:00:00",
          "2018-01-24T04:00:00",
          "2018-01-24T05:00:00",
          "2018-01-24T06:00:00",
          "2018-01-24T07:00:00",
          "2018-01-24T08:00:00",
          "2018-01-24T09:00:00",
          "2018-01-24T10:00:00",
          "2018-01-24T11:00:00",
          "2018-01-24T12:00:00",
          "2018-01-24T13:00:00",
          "2018-01-24T14:00:00",
          "2018-01-24T15:00:00",
          "2018-01-24T16:00:00",
          "2018-01-24T17:00:00",
          "2018-01-24T18:00:00",
          "2018-01-24T19:00:00",
          "2018-01-24T20:00:00",
          "2018-01-24T21:00:00",
          "2018-01-24T22:00:00",
          "2018-01-24T23:00:00",
          "2018-01-25T00:00:00",
          "2018-01-25T01:00:00",
          "2018-01-25T02:00:00",
          "2018-01-25T03:00:00",
          "2018-01-25T04:00:00",
          "2018-01-25T05:00:00",
          "2018-01-25T06:00:00",
          "2018-01-25T07:00:00",
          "2018-01-25T08:00:00",
          "2018-01-25T09:00:00",
          "2018-01-25T10:00:00",
          "2018-01-25T11:00:00",
          "2018-01-25T12:00:00",
          "2018-01-25T13:00:00",
          "2018-01-25T14:00:00",
          "2018-01-25T15:00:00",
          "2018-01-25T16:00:00",
          "2018-01-25T17:00:00",
          "2018-01-25T18:00:00",
          "2018-01-25T19:00:00",
          "2018-01-25T20:00:00",
          "2018-01-25T21:00:00",
          "2018-01-25T22:00:00",
          "2018-01-25T23:00:00",
          "2018-01-26T00:00:00"
         ],
         "y": [
          56.541666666666664,
          55.814485035856706,
          55.44231415694741,
          56.02861015694741,
          56.56554433132652,
          56.4617137193955,
          55.7327977193955,
          54.67060598547927,
          53.48735546882017,
          52.30017761263692,
          51.108840481663435,
          49.912887890972925,
          48.78956034606301,
          47.70041985486993,
          46.60686779358485,
          45.50863863886732,
          44.40563184463303,
          43.29775857059523,
          42.14626270591168,
          41.01025945197706,
          40.04312578557258,
          39.07544485761505,
          38.58310004114305,
          38.0429918688926,
          37.46013312489359,
          37.161258065924656,
          36.69499833291739,
          36.910998332917394,
          37.126998332917395,
          37.3429983329174,
          37.04403713010141,
          36.502408742810246,
          35.53262066087042,
          34.50968222654633,
          33.486091878044,
          32.5143794305278,
          31.542008491328836,
          30.522661866242707,
          29.72979941227419,
          28.937046128995707,
          28.144402369729523,
          27.123740524807108,
          26.1024354280724,
          25.13045929308039,
          24.19863529308039,
          23.501147111378092,
          22.802478281067003,
          21.929739995294632,
          21.43478333405067,
          20.938529291494852,
          20.442814077965956,
          20.658814077965957,
          20.874814077965958,
          21.09081407796596,
          20.594229889890354,
          19.662405889890355,
          18.583166314685233,
          17.54663204750124,
          16.508995350455706,
          15.425710986983901,
          14.341724343145694,
          13.257329955757157,
          12.171746705046488,
          11.0838451019447,
          9.994599030854017,
          8.851429048795803,
          7.678333048795803,
          6.505237048795803,
          5.357239268707678,
          4.207432689077153,
          2.9133004507874487,
          1.4319874810190278,
          0
         ]
        }
       ],
       "layout": {
        "template": {
         "data": {
          "bar": [
           {
            "error_x": {
             "color": "#2a3f5f"
            },
            "error_y": {
             "color": "#2a3f5f"
            },
            "marker": {
             "line": {
              "color": "#E5ECF6",
              "width": 0.5
             },
             "pattern": {
              "fillmode": "overlay",
              "size": 10,
              "solidity": 0.2
             }
            },
            "type": "bar"
           }
          ],
          "barpolar": [
           {
            "marker": {
             "line": {
              "color": "#E5ECF6",
              "width": 0.5
             },
             "pattern": {
              "fillmode": "overlay",
              "size": 10,
              "solidity": 0.2
             }
            },
            "type": "barpolar"
           }
          ],
          "carpet": [
           {
            "aaxis": {
             "endlinecolor": "#2a3f5f",
             "gridcolor": "white",
             "linecolor": "white",
             "minorgridcolor": "white",
             "startlinecolor": "#2a3f5f"
            },
            "baxis": {
             "endlinecolor": "#2a3f5f",
             "gridcolor": "white",
             "linecolor": "white",
             "minorgridcolor": "white",
             "startlinecolor": "#2a3f5f"
            },
            "type": "carpet"
           }
          ],
          "choropleth": [
           {
            "colorbar": {
             "outlinewidth": 0,
             "ticks": ""
            },
            "type": "choropleth"
           }
          ],
          "contour": [
           {
            "colorbar": {
             "outlinewidth": 0,
             "ticks": ""
            },
            "colorscale": [
             [
              0,
              "#0d0887"
             ],
             [
              0.1111111111111111,
              "#46039f"
             ],
             [
              0.2222222222222222,
              "#7201a8"
             ],
             [
              0.3333333333333333,
              "#9c179e"
             ],
             [
              0.4444444444444444,
              "#bd3786"
             ],
             [
              0.5555555555555556,
              "#d8576b"
             ],
             [
              0.6666666666666666,
              "#ed7953"
             ],
             [
              0.7777777777777778,
              "#fb9f3a"
             ],
             [
              0.8888888888888888,
              "#fdca26"
             ],
             [
              1,
              "#f0f921"
             ]
            ],
            "type": "contour"
           }
          ],
          "contourcarpet": [
           {
            "colorbar": {
             "outlinewidth": 0,
             "ticks": ""
            },
            "type": "contourcarpet"
           }
          ],
          "heatmap": [
           {
            "colorbar": {
             "outlinewidth": 0,
             "ticks": ""
            },
            "colorscale": [
             [
              0,
              "#0d0887"
             ],
             [
              0.1111111111111111,
              "#46039f"
             ],
             [
              0.2222222222222222,
              "#7201a8"
             ],
             [
              0.3333333333333333,
              "#9c179e"
             ],
             [
              0.4444444444444444,
              "#bd3786"
             ],
             [
              0.5555555555555556,
              "#d8576b"
             ],
             [
              0.6666666666666666,
              "#ed7953"
             ],
             [
              0.7777777777777778,
              "#fb9f3a"
             ],
             [
              0.8888888888888888,
              "#fdca26"
             ],
             [
              1,
              "#f0f921"
             ]
            ],
            "type": "heatmap"
           }
          ],
          "heatmapgl": [
           {
            "colorbar": {
             "outlinewidth": 0,
             "ticks": ""
            },
            "colorscale": [
             [
              0,
              "#0d0887"
             ],
             [
              0.1111111111111111,
              "#46039f"
             ],
             [
              0.2222222222222222,
              "#7201a8"
             ],
             [
              0.3333333333333333,
              "#9c179e"
             ],
             [
              0.4444444444444444,
              "#bd3786"
             ],
             [
              0.5555555555555556,
              "#d8576b"
             ],
             [
              0.6666666666666666,
              "#ed7953"
             ],
             [
              0.7777777777777778,
              "#fb9f3a"
             ],
             [
              0.8888888888888888,
              "#fdca26"
             ],
             [
              1,
              "#f0f921"
             ]
            ],
            "type": "heatmapgl"
           }
          ],
          "histogram": [
           {
            "marker": {
             "pattern": {
              "fillmode": "overlay",
              "size": 10,
              "solidity": 0.2
             }
            },
            "type": "histogram"
           }
          ],
          "histogram2d": [
           {
            "colorbar": {
             "outlinewidth": 0,
             "ticks": ""
            },
            "colorscale": [
             [
              0,
              "#0d0887"
             ],
             [
              0.1111111111111111,
              "#46039f"
             ],
             [
              0.2222222222222222,
              "#7201a8"
             ],
             [
              0.3333333333333333,
              "#9c179e"
             ],
             [
              0.4444444444444444,
              "#bd3786"
             ],
             [
              0.5555555555555556,
              "#d8576b"
             ],
             [
              0.6666666666666666,
              "#ed7953"
             ],
             [
              0.7777777777777778,
              "#fb9f3a"
             ],
             [
              0.8888888888888888,
              "#fdca26"
             ],
             [
              1,
              "#f0f921"
             ]
            ],
            "type": "histogram2d"
           }
          ],
          "histogram2dcontour": [
           {
            "colorbar": {
             "outlinewidth": 0,
             "ticks": ""
            },
            "colorscale": [
             [
              0,
              "#0d0887"
             ],
             [
              0.1111111111111111,
              "#46039f"
             ],
             [
              0.2222222222222222,
              "#7201a8"
             ],
             [
              0.3333333333333333,
              "#9c179e"
             ],
             [
              0.4444444444444444,
              "#bd3786"
             ],
             [
              0.5555555555555556,
              "#d8576b"
             ],
             [
              0.6666666666666666,
              "#ed7953"
             ],
             [
              0.7777777777777778,
              "#fb9f3a"
             ],
             [
              0.8888888888888888,
              "#fdca26"
             ],
             [
              1,
              "#f0f921"
             ]
            ],
            "type": "histogram2dcontour"
           }
          ],
          "mesh3d": [
           {
            "colorbar": {
             "outlinewidth": 0,
             "ticks": ""
            },
            "type": "mesh3d"
           }
          ],
          "parcoords": [
           {
            "line": {
             "colorbar": {
              "outlinewidth": 0,
              "ticks": ""
             }
            },
            "type": "parcoords"
           }
          ],
          "pie": [
           {
            "automargin": true,
            "type": "pie"
           }
          ],
          "scatter": [
           {
            "marker": {
             "colorbar": {
              "outlinewidth": 0,
              "ticks": ""
             }
            },
            "type": "scatter"
           }
          ],
          "scatter3d": [
           {
            "line": {
             "colorbar": {
              "outlinewidth": 0,
              "ticks": ""
             }
            },
            "marker": {
             "colorbar": {
              "outlinewidth": 0,
              "ticks": ""
             }
            },
            "type": "scatter3d"
           }
          ],
          "scattercarpet": [
           {
            "marker": {
             "colorbar": {
              "outlinewidth": 0,
              "ticks": ""
             }
            },
            "type": "scattercarpet"
           }
          ],
          "scattergeo": [
           {
            "marker": {
             "colorbar": {
              "outlinewidth": 0,
              "ticks": ""
             }
            },
            "type": "scattergeo"
           }
          ],
          "scattergl": [
           {
            "marker": {
             "colorbar": {
              "outlinewidth": 0,
              "ticks": ""
             }
            },
            "type": "scattergl"
           }
          ],
          "scattermapbox": [
           {
            "marker": {
             "colorbar": {
              "outlinewidth": 0,
              "ticks": ""
             }
            },
            "type": "scattermapbox"
           }
          ],
          "scatterpolar": [
           {
            "marker": {
             "colorbar": {
              "outlinewidth": 0,
              "ticks": ""
             }
            },
            "type": "scatterpolar"
           }
          ],
          "scatterpolargl": [
           {
            "marker": {
             "colorbar": {
              "outlinewidth": 0,
              "ticks": ""
             }
            },
            "type": "scatterpolargl"
           }
          ],
          "scatterternary": [
           {
            "marker": {
             "colorbar": {
              "outlinewidth": 0,
              "ticks": ""
             }
            },
            "type": "scatterternary"
           }
          ],
          "surface": [
           {
            "colorbar": {
             "outlinewidth": 0,
             "ticks": ""
            },
            "colorscale": [
             [
              0,
              "#0d0887"
             ],
             [
              0.1111111111111111,
              "#46039f"
             ],
             [
              0.2222222222222222,
              "#7201a8"
             ],
             [
              0.3333333333333333,
              "#9c179e"
             ],
             [
              0.4444444444444444,
              "#bd3786"
             ],
             [
              0.5555555555555556,
              "#d8576b"
             ],
             [
              0.6666666666666666,
              "#ed7953"
             ],
             [
              0.7777777777777778,
              "#fb9f3a"
             ],
             [
              0.8888888888888888,
              "#fdca26"
             ],
             [
              1,
              "#f0f921"
             ]
            ],
            "type": "surface"
           }
          ],
          "table": [
           {
            "cells": {
             "fill": {
              "color": "#EBF0F8"
             },
             "line": {
              "color": "white"
             }
            },
            "header": {
             "fill": {
              "color": "#C8D4E3"
             },
             "line": {
              "color": "white"
             }
            },
            "type": "table"
           }
          ]
         },
         "layout": {
          "annotationdefaults": {
           "arrowcolor": "#2a3f5f",
           "arrowhead": 0,
           "arrowwidth": 1
          },
          "autotypenumbers": "strict",
          "coloraxis": {
           "colorbar": {
            "outlinewidth": 0,
            "ticks": ""
           }
          },
          "colorscale": {
           "diverging": [
            [
             0,
             "#8e0152"
            ],
            [
             0.1,
             "#c51b7d"
            ],
            [
             0.2,
             "#de77ae"
            ],
            [
             0.3,
             "#f1b6da"
            ],
            [
             0.4,
             "#fde0ef"
            ],
            [
             0.5,
             "#f7f7f7"
            ],
            [
             0.6,
             "#e6f5d0"
            ],
            [
             0.7,
             "#b8e186"
            ],
            [
             0.8,
             "#7fbc41"
            ],
            [
             0.9,
             "#4d9221"
            ],
            [
             1,
             "#276419"
            ]
           ],
           "sequential": [
            [
             0,
             "#0d0887"
            ],
            [
             0.1111111111111111,
             "#46039f"
            ],
            [
             0.2222222222222222,
             "#7201a8"
            ],
            [
             0.3333333333333333,
             "#9c179e"
            ],
            [
             0.4444444444444444,
             "#bd3786"
            ],
            [
             0.5555555555555556,
             "#d8576b"
            ],
            [
             0.6666666666666666,
             "#ed7953"
            ],
            [
             0.7777777777777778,
             "#fb9f3a"
            ],
            [
             0.8888888888888888,
             "#fdca26"
            ],
            [
             1,
             "#f0f921"
            ]
           ],
           "sequentialminus": [
            [
             0,
             "#0d0887"
            ],
            [
             0.1111111111111111,
             "#46039f"
            ],
            [
             0.2222222222222222,
             "#7201a8"
            ],
            [
             0.3333333333333333,
             "#9c179e"
            ],
            [
             0.4444444444444444,
             "#bd3786"
            ],
            [
             0.5555555555555556,
             "#d8576b"
            ],
            [
             0.6666666666666666,
             "#ed7953"
            ],
            [
             0.7777777777777778,
             "#fb9f3a"
            ],
            [
             0.8888888888888888,
             "#fdca26"
            ],
            [
             1,
             "#f0f921"
            ]
           ]
          },
          "colorway": [
           "#636efa",
           "#EF553B",
           "#00cc96",
           "#ab63fa",
           "#FFA15A",
           "#19d3f3",
           "#FF6692",
           "#B6E880",
           "#FF97FF",
           "#FECB52"
          ],
          "font": {
           "color": "#2a3f5f"
          },
          "geo": {
           "bgcolor": "white",
           "lakecolor": "white",
           "landcolor": "#E5ECF6",
           "showlakes": true,
           "showland": true,
           "subunitcolor": "white"
          },
          "hoverlabel": {
           "align": "left"
          },
          "hovermode": "closest",
          "mapbox": {
           "style": "light"
          },
          "paper_bgcolor": "white",
          "plot_bgcolor": "#E5ECF6",
          "polar": {
           "angularaxis": {
            "gridcolor": "white",
            "linecolor": "white",
            "ticks": ""
           },
           "bgcolor": "#E5ECF6",
           "radialaxis": {
            "gridcolor": "white",
            "linecolor": "white",
            "ticks": ""
           }
          },
          "scene": {
           "xaxis": {
            "backgroundcolor": "#E5ECF6",
            "gridcolor": "white",
            "gridwidth": 2,
            "linecolor": "white",
            "showbackground": true,
            "ticks": "",
            "zerolinecolor": "white"
           },
           "yaxis": {
            "backgroundcolor": "#E5ECF6",
            "gridcolor": "white",
            "gridwidth": 2,
            "linecolor": "white",
            "showbackground": true,
            "ticks": "",
            "zerolinecolor": "white"
           },
           "zaxis": {
            "backgroundcolor": "#E5ECF6",
            "gridcolor": "white",
            "gridwidth": 2,
            "linecolor": "white",
            "showbackground": true,
            "ticks": "",
            "zerolinecolor": "white"
           }
          },
          "shapedefaults": {
           "line": {
            "color": "#2a3f5f"
           }
          },
          "ternary": {
           "aaxis": {
            "gridcolor": "white",
            "linecolor": "white",
            "ticks": ""
           },
           "baxis": {
            "gridcolor": "white",
            "linecolor": "white",
            "ticks": ""
           },
           "bgcolor": "#E5ECF6",
           "caxis": {
            "gridcolor": "white",
            "linecolor": "white",
            "ticks": ""
           }
          },
          "title": {
           "x": 0.05
          },
          "xaxis": {
           "automargin": true,
           "gridcolor": "white",
           "linecolor": "white",
           "ticks": "",
           "title": {
            "standoff": 15
           },
           "zerolinecolor": "white",
           "zerolinewidth": 2
          },
          "yaxis": {
           "automargin": true,
           "gridcolor": "white",
           "linecolor": "white",
           "ticks": "",
           "title": {
            "standoff": 15
           },
           "zerolinecolor": "white",
           "zerolinewidth": 2
          }
         }
        },
        "title": {
         "text": "<b>Reservoir trajectories </b>"
        },
        "xaxis": {
         "title": {
          "text": "<b>Time</b> (Hour)"
         }
        },
        "yaxis": {
         "title": {
          "text": "<b>Volume</b> (Mm<sup>3</sup>)"
         }
        }
       }
      },
      "text/html": [
       "<div>                            <div id=\"f7ab9fe9-e52f-47b5-87f5-d178e2a55ef3\" class=\"plotly-graph-div\" style=\"height:525px; width:100%;\"></div>            <script type=\"text/javascript\">                require([\"plotly\"], function(Plotly) {                    window.PLOTLYENV=window.PLOTLYENV || {};                                    if (document.getElementById(\"f7ab9fe9-e52f-47b5-87f5-d178e2a55ef3\")) {                    Plotly.newPlot(                        \"f7ab9fe9-e52f-47b5-87f5-d178e2a55ef3\",                        [{\"marker\":{\"color\":\"rgb(33,102,172)\"},\"name\":\"Reservoir1 storage\",\"x\":[\"2018-01-23T00:00:00\",\"2018-01-23T01:00:00\",\"2018-01-23T02:00:00\",\"2018-01-23T03:00:00\",\"2018-01-23T04:00:00\",\"2018-01-23T05:00:00\",\"2018-01-23T06:00:00\",\"2018-01-23T07:00:00\",\"2018-01-23T08:00:00\",\"2018-01-23T09:00:00\",\"2018-01-23T10:00:00\",\"2018-01-23T11:00:00\",\"2018-01-23T12:00:00\",\"2018-01-23T13:00:00\",\"2018-01-23T14:00:00\",\"2018-01-23T15:00:00\",\"2018-01-23T16:00:00\",\"2018-01-23T17:00:00\",\"2018-01-23T18:00:00\",\"2018-01-23T19:00:00\",\"2018-01-23T20:00:00\",\"2018-01-23T21:00:00\",\"2018-01-23T22:00:00\",\"2018-01-23T23:00:00\",\"2018-01-24T00:00:00\",\"2018-01-24T01:00:00\",\"2018-01-24T02:00:00\",\"2018-01-24T03:00:00\",\"2018-01-24T04:00:00\",\"2018-01-24T05:00:00\",\"2018-01-24T06:00:00\",\"2018-01-24T07:00:00\",\"2018-01-24T08:00:00\",\"2018-01-24T09:00:00\",\"2018-01-24T10:00:00\",\"2018-01-24T11:00:00\",\"2018-01-24T12:00:00\",\"2018-01-24T13:00:00\",\"2018-01-24T14:00:00\",\"2018-01-24T15:00:00\",\"2018-01-24T16:00:00\",\"2018-01-24T17:00:00\",\"2018-01-24T18:00:00\",\"2018-01-24T19:00:00\",\"2018-01-24T20:00:00\",\"2018-01-24T21:00:00\",\"2018-01-24T22:00:00\",\"2018-01-24T23:00:00\",\"2018-01-25T00:00:00\",\"2018-01-25T01:00:00\",\"2018-01-25T02:00:00\",\"2018-01-25T03:00:00\",\"2018-01-25T04:00:00\",\"2018-01-25T05:00:00\",\"2018-01-25T06:00:00\",\"2018-01-25T07:00:00\",\"2018-01-25T08:00:00\",\"2018-01-25T09:00:00\",\"2018-01-25T10:00:00\",\"2018-01-25T11:00:00\",\"2018-01-25T12:00:00\",\"2018-01-25T13:00:00\",\"2018-01-25T14:00:00\",\"2018-01-25T15:00:00\",\"2018-01-25T16:00:00\",\"2018-01-25T17:00:00\",\"2018-01-25T18:00:00\",\"2018-01-25T19:00:00\",\"2018-01-25T20:00:00\",\"2018-01-25T21:00:00\",\"2018-01-25T22:00:00\",\"2018-01-25T23:00:00\",\"2018-01-26T00:00:00\"],\"y\":[32.769999999999996,32.381944000000004,32.011648,31.641352,31.32041782562089,30.95012182562089,30.56206582562089,30.13848982562089,29.71491382562089,29.29133782562089,28.86776182562089,28.444185825620888,28.020609825620888,27.597033825620887,27.173457825620886,26.749881825620886,26.326305825620885,25.902729825620884,25.479153825620884,25.073337825620882,24.703041825620883,24.332745825620883,23.962449825620883,23.63938178381317,23.45423378381317,23.269085783813168,23.269085783813168,23.269085783813168,23.269085783813168,23.269085783813168,23.083937783813166,22.760609879020535,22.390313879020535,22.020017879020536,21.649721879020536,21.279425879020536,20.909129879020536,20.585144613724548,20.261035067693065,19.936816350971547,19.61248811023773,19.28784198159229,18.963062222810393,18.638145156067285,18.452997156067283,18.26784915606728,18.08270115606728,18.08270115606728,18.08270115606728,18.08270115606728,18.08270115606728,18.08270115606728,18.08270115606728,18.08270115606728,18.08270115606728,17.89755315606728,17.572230746481164,17.201934746481164,16.831638746481165,16.50587121311449,16.17995324210843,15.853882716482355,15.52765561455133,15.2012713093452,14.874729169774815,14.548028555680828,14.177732555680828,13.807436555680829,13.480209140239888,13.152808633427172,12.967660633427172,12.967660633427172,12.967660633427172],\"type\":\"scatter\"},{\"marker\":{\"color\":\"rgb(67,147,195)\"},\"name\":\"Reservoir2 storage\",\"x\":[\"2018-01-23T00:00:00\",\"2018-01-23T01:00:00\",\"2018-01-23T02:00:00\",\"2018-01-23T03:00:00\",\"2018-01-23T04:00:00\",\"2018-01-23T05:00:00\",\"2018-01-23T06:00:00\",\"2018-01-23T07:00:00\",\"2018-01-23T08:00:00\",\"2018-01-23T09:00:00\",\"2018-01-23T10:00:00\",\"2018-01-23T11:00:00\",\"2018-01-23T12:00:00\",\"2018-01-23T13:00:00\",\"2018-01-23T14:00:00\",\"2018-01-23T15:00:00\",\"2018-01-23T16:00:00\",\"2018-01-23T17:00:00\",\"2018-01-23T18:00:00\",\"2018-01-23T19:00:00\",\"2018-01-23T20:00:00\",\"2018-01-23T21:00:00\",\"2018-01-23T22:00:00\",\"2018-01-23T23:00:00\",\"2018-01-24T00:00:00\",\"2018-01-24T01:00:00\",\"2018-01-24T02:00:00\",\"2018-01-24T03:00:00\",\"2018-01-24T04:00:00\",\"2018-01-24T05:00:00\",\"2018-01-24T06:00:00\",\"2018-01-24T07:00:00\",\"2018-01-24T08:00:00\",\"2018-01-24T09:00:00\",\"2018-01-24T10:00:00\",\"2018-01-24T11:00:00\",\"2018-01-24T12:00:00\",\"2018-01-24T13:00:00\",\"2018-01-24T14:00:00\",\"2018-01-24T15:00:00\",\"2018-01-24T16:00:00\",\"2018-01-24T17:00:00\",\"2018-01-24T18:00:00\",\"2018-01-24T19:00:00\",\"2018-01-24T20:00:00\",\"2018-01-24T21:00:00\",\"2018-01-24T22:00:00\",\"2018-01-24T23:00:00\",\"2018-01-25T00:00:00\",\"2018-01-25T01:00:00\",\"2018-01-25T02:00:00\",\"2018-01-25T03:00:00\",\"2018-01-25T04:00:00\",\"2018-01-25T05:00:00\",\"2018-01-25T06:00:00\",\"2018-01-25T07:00:00\",\"2018-01-25T08:00:00\",\"2018-01-25T09:00:00\",\"2018-01-25T10:00:00\",\"2018-01-25T11:00:00\",\"2018-01-25T12:00:00\",\"2018-01-25T13:00:00\",\"2018-01-25T14:00:00\",\"2018-01-25T15:00:00\",\"2018-01-25T16:00:00\",\"2018-01-25T17:00:00\",\"2018-01-25T18:00:00\",\"2018-01-25T19:00:00\",\"2018-01-25T20:00:00\",\"2018-01-25T21:00:00\",\"2018-01-25T22:00:00\",\"2018-01-25T23:00:00\",\"2018-01-26T00:00:00\"],\"y\":[56.541666666666664,55.814485035856706,55.44231415694741,56.02861015694741,56.56554433132652,56.4617137193955,55.7327977193955,54.67060598547927,53.48735546882017,52.30017761263692,51.108840481663435,49.912887890972925,48.78956034606301,47.70041985486993,46.60686779358485,45.50863863886732,44.40563184463303,43.29775857059523,42.14626270591168,41.01025945197706,40.04312578557258,39.07544485761505,38.58310004114305,38.0429918688926,37.46013312489359,37.161258065924656,36.69499833291739,36.910998332917394,37.126998332917395,37.3429983329174,37.04403713010141,36.502408742810246,35.53262066087042,34.50968222654633,33.486091878044,32.5143794305278,31.542008491328836,30.522661866242707,29.72979941227419,28.937046128995707,28.144402369729523,27.123740524807108,26.1024354280724,25.13045929308039,24.19863529308039,23.501147111378092,22.802478281067003,21.929739995294632,21.43478333405067,20.938529291494852,20.442814077965956,20.658814077965957,20.874814077965958,21.09081407796596,20.594229889890354,19.662405889890355,18.583166314685233,17.54663204750124,16.508995350455706,15.425710986983901,14.341724343145694,13.257329955757157,12.171746705046488,11.0838451019447,9.994599030854017,8.851429048795803,7.678333048795803,6.505237048795803,5.357239268707678,4.207432689077153,2.9133004507874487,1.4319874810190278,0.0],\"type\":\"scatter\"}],                        {\"template\":{\"data\":{\"bar\":[{\"error_x\":{\"color\":\"#2a3f5f\"},\"error_y\":{\"color\":\"#2a3f5f\"},\"marker\":{\"line\":{\"color\":\"#E5ECF6\",\"width\":0.5},\"pattern\":{\"fillmode\":\"overlay\",\"size\":10,\"solidity\":0.2}},\"type\":\"bar\"}],\"barpolar\":[{\"marker\":{\"line\":{\"color\":\"#E5ECF6\",\"width\":0.5},\"pattern\":{\"fillmode\":\"overlay\",\"size\":10,\"solidity\":0.2}},\"type\":\"barpolar\"}],\"carpet\":[{\"aaxis\":{\"endlinecolor\":\"#2a3f5f\",\"gridcolor\":\"white\",\"linecolor\":\"white\",\"minorgridcolor\":\"white\",\"startlinecolor\":\"#2a3f5f\"},\"baxis\":{\"endlinecolor\":\"#2a3f5f\",\"gridcolor\":\"white\",\"linecolor\":\"white\",\"minorgridcolor\":\"white\",\"startlinecolor\":\"#2a3f5f\"},\"type\":\"carpet\"}],\"choropleth\":[{\"colorbar\":{\"outlinewidth\":0,\"ticks\":\"\"},\"type\":\"choropleth\"}],\"contour\":[{\"colorbar\":{\"outlinewidth\":0,\"ticks\":\"\"},\"colorscale\":[[0.0,\"#0d0887\"],[0.1111111111111111,\"#46039f\"],[0.2222222222222222,\"#7201a8\"],[0.3333333333333333,\"#9c179e\"],[0.4444444444444444,\"#bd3786\"],[0.5555555555555556,\"#d8576b\"],[0.6666666666666666,\"#ed7953\"],[0.7777777777777778,\"#fb9f3a\"],[0.8888888888888888,\"#fdca26\"],[1.0,\"#f0f921\"]],\"type\":\"contour\"}],\"contourcarpet\":[{\"colorbar\":{\"outlinewidth\":0,\"ticks\":\"\"},\"type\":\"contourcarpet\"}],\"heatmap\":[{\"colorbar\":{\"outlinewidth\":0,\"ticks\":\"\"},\"colorscale\":[[0.0,\"#0d0887\"],[0.1111111111111111,\"#46039f\"],[0.2222222222222222,\"#7201a8\"],[0.3333333333333333,\"#9c179e\"],[0.4444444444444444,\"#bd3786\"],[0.5555555555555556,\"#d8576b\"],[0.6666666666666666,\"#ed7953\"],[0.7777777777777778,\"#fb9f3a\"],[0.8888888888888888,\"#fdca26\"],[1.0,\"#f0f921\"]],\"type\":\"heatmap\"}],\"heatmapgl\":[{\"colorbar\":{\"outlinewidth\":0,\"ticks\":\"\"},\"colorscale\":[[0.0,\"#0d0887\"],[0.1111111111111111,\"#46039f\"],[0.2222222222222222,\"#7201a8\"],[0.3333333333333333,\"#9c179e\"],[0.4444444444444444,\"#bd3786\"],[0.5555555555555556,\"#d8576b\"],[0.6666666666666666,\"#ed7953\"],[0.7777777777777778,\"#fb9f3a\"],[0.8888888888888888,\"#fdca26\"],[1.0,\"#f0f921\"]],\"type\":\"heatmapgl\"}],\"histogram\":[{\"marker\":{\"pattern\":{\"fillmode\":\"overlay\",\"size\":10,\"solidity\":0.2}},\"type\":\"histogram\"}],\"histogram2d\":[{\"colorbar\":{\"outlinewidth\":0,\"ticks\":\"\"},\"colorscale\":[[0.0,\"#0d0887\"],[0.1111111111111111,\"#46039f\"],[0.2222222222222222,\"#7201a8\"],[0.3333333333333333,\"#9c179e\"],[0.4444444444444444,\"#bd3786\"],[0.5555555555555556,\"#d8576b\"],[0.6666666666666666,\"#ed7953\"],[0.7777777777777778,\"#fb9f3a\"],[0.8888888888888888,\"#fdca26\"],[1.0,\"#f0f921\"]],\"type\":\"histogram2d\"}],\"histogram2dcontour\":[{\"colorbar\":{\"outlinewidth\":0,\"ticks\":\"\"},\"colorscale\":[[0.0,\"#0d0887\"],[0.1111111111111111,\"#46039f\"],[0.2222222222222222,\"#7201a8\"],[0.3333333333333333,\"#9c179e\"],[0.4444444444444444,\"#bd3786\"],[0.5555555555555556,\"#d8576b\"],[0.6666666666666666,\"#ed7953\"],[0.7777777777777778,\"#fb9f3a\"],[0.8888888888888888,\"#fdca26\"],[1.0,\"#f0f921\"]],\"type\":\"histogram2dcontour\"}],\"mesh3d\":[{\"colorbar\":{\"outlinewidth\":0,\"ticks\":\"\"},\"type\":\"mesh3d\"}],\"parcoords\":[{\"line\":{\"colorbar\":{\"outlinewidth\":0,\"ticks\":\"\"}},\"type\":\"parcoords\"}],\"pie\":[{\"automargin\":true,\"type\":\"pie\"}],\"scatter\":[{\"marker\":{\"colorbar\":{\"outlinewidth\":0,\"ticks\":\"\"}},\"type\":\"scatter\"}],\"scatter3d\":[{\"line\":{\"colorbar\":{\"outlinewidth\":0,\"ticks\":\"\"}},\"marker\":{\"colorbar\":{\"outlinewidth\":0,\"ticks\":\"\"}},\"type\":\"scatter3d\"}],\"scattercarpet\":[{\"marker\":{\"colorbar\":{\"outlinewidth\":0,\"ticks\":\"\"}},\"type\":\"scattercarpet\"}],\"scattergeo\":[{\"marker\":{\"colorbar\":{\"outlinewidth\":0,\"ticks\":\"\"}},\"type\":\"scattergeo\"}],\"scattergl\":[{\"marker\":{\"colorbar\":{\"outlinewidth\":0,\"ticks\":\"\"}},\"type\":\"scattergl\"}],\"scattermapbox\":[{\"marker\":{\"colorbar\":{\"outlinewidth\":0,\"ticks\":\"\"}},\"type\":\"scattermapbox\"}],\"scatterpolar\":[{\"marker\":{\"colorbar\":{\"outlinewidth\":0,\"ticks\":\"\"}},\"type\":\"scatterpolar\"}],\"scatterpolargl\":[{\"marker\":{\"colorbar\":{\"outlinewidth\":0,\"ticks\":\"\"}},\"type\":\"scatterpolargl\"}],\"scatterternary\":[{\"marker\":{\"colorbar\":{\"outlinewidth\":0,\"ticks\":\"\"}},\"type\":\"scatterternary\"}],\"surface\":[{\"colorbar\":{\"outlinewidth\":0,\"ticks\":\"\"},\"colorscale\":[[0.0,\"#0d0887\"],[0.1111111111111111,\"#46039f\"],[0.2222222222222222,\"#7201a8\"],[0.3333333333333333,\"#9c179e\"],[0.4444444444444444,\"#bd3786\"],[0.5555555555555556,\"#d8576b\"],[0.6666666666666666,\"#ed7953\"],[0.7777777777777778,\"#fb9f3a\"],[0.8888888888888888,\"#fdca26\"],[1.0,\"#f0f921\"]],\"type\":\"surface\"}],\"table\":[{\"cells\":{\"fill\":{\"color\":\"#EBF0F8\"},\"line\":{\"color\":\"white\"}},\"header\":{\"fill\":{\"color\":\"#C8D4E3\"},\"line\":{\"color\":\"white\"}},\"type\":\"table\"}]},\"layout\":{\"annotationdefaults\":{\"arrowcolor\":\"#2a3f5f\",\"arrowhead\":0,\"arrowwidth\":1},\"autotypenumbers\":\"strict\",\"coloraxis\":{\"colorbar\":{\"outlinewidth\":0,\"ticks\":\"\"}},\"colorscale\":{\"diverging\":[[0,\"#8e0152\"],[0.1,\"#c51b7d\"],[0.2,\"#de77ae\"],[0.3,\"#f1b6da\"],[0.4,\"#fde0ef\"],[0.5,\"#f7f7f7\"],[0.6,\"#e6f5d0\"],[0.7,\"#b8e186\"],[0.8,\"#7fbc41\"],[0.9,\"#4d9221\"],[1,\"#276419\"]],\"sequential\":[[0.0,\"#0d0887\"],[0.1111111111111111,\"#46039f\"],[0.2222222222222222,\"#7201a8\"],[0.3333333333333333,\"#9c179e\"],[0.4444444444444444,\"#bd3786\"],[0.5555555555555556,\"#d8576b\"],[0.6666666666666666,\"#ed7953\"],[0.7777777777777778,\"#fb9f3a\"],[0.8888888888888888,\"#fdca26\"],[1.0,\"#f0f921\"]],\"sequentialminus\":[[0.0,\"#0d0887\"],[0.1111111111111111,\"#46039f\"],[0.2222222222222222,\"#7201a8\"],[0.3333333333333333,\"#9c179e\"],[0.4444444444444444,\"#bd3786\"],[0.5555555555555556,\"#d8576b\"],[0.6666666666666666,\"#ed7953\"],[0.7777777777777778,\"#fb9f3a\"],[0.8888888888888888,\"#fdca26\"],[1.0,\"#f0f921\"]]},\"colorway\":[\"#636efa\",\"#EF553B\",\"#00cc96\",\"#ab63fa\",\"#FFA15A\",\"#19d3f3\",\"#FF6692\",\"#B6E880\",\"#FF97FF\",\"#FECB52\"],\"font\":{\"color\":\"#2a3f5f\"},\"geo\":{\"bgcolor\":\"white\",\"lakecolor\":\"white\",\"landcolor\":\"#E5ECF6\",\"showlakes\":true,\"showland\":true,\"subunitcolor\":\"white\"},\"hoverlabel\":{\"align\":\"left\"},\"hovermode\":\"closest\",\"mapbox\":{\"style\":\"light\"},\"paper_bgcolor\":\"white\",\"plot_bgcolor\":\"#E5ECF6\",\"polar\":{\"angularaxis\":{\"gridcolor\":\"white\",\"linecolor\":\"white\",\"ticks\":\"\"},\"bgcolor\":\"#E5ECF6\",\"radialaxis\":{\"gridcolor\":\"white\",\"linecolor\":\"white\",\"ticks\":\"\"}},\"scene\":{\"xaxis\":{\"backgroundcolor\":\"#E5ECF6\",\"gridcolor\":\"white\",\"gridwidth\":2,\"linecolor\":\"white\",\"showbackground\":true,\"ticks\":\"\",\"zerolinecolor\":\"white\"},\"yaxis\":{\"backgroundcolor\":\"#E5ECF6\",\"gridcolor\":\"white\",\"gridwidth\":2,\"linecolor\":\"white\",\"showbackground\":true,\"ticks\":\"\",\"zerolinecolor\":\"white\"},\"zaxis\":{\"backgroundcolor\":\"#E5ECF6\",\"gridcolor\":\"white\",\"gridwidth\":2,\"linecolor\":\"white\",\"showbackground\":true,\"ticks\":\"\",\"zerolinecolor\":\"white\"}},\"shapedefaults\":{\"line\":{\"color\":\"#2a3f5f\"}},\"ternary\":{\"aaxis\":{\"gridcolor\":\"white\",\"linecolor\":\"white\",\"ticks\":\"\"},\"baxis\":{\"gridcolor\":\"white\",\"linecolor\":\"white\",\"ticks\":\"\"},\"bgcolor\":\"#E5ECF6\",\"caxis\":{\"gridcolor\":\"white\",\"linecolor\":\"white\",\"ticks\":\"\"}},\"title\":{\"x\":0.05},\"xaxis\":{\"automargin\":true,\"gridcolor\":\"white\",\"linecolor\":\"white\",\"ticks\":\"\",\"title\":{\"standoff\":15},\"zerolinecolor\":\"white\",\"zerolinewidth\":2},\"yaxis\":{\"automargin\":true,\"gridcolor\":\"white\",\"linecolor\":\"white\",\"ticks\":\"\",\"title\":{\"standoff\":15},\"zerolinecolor\":\"white\",\"zerolinewidth\":2}}},\"title\":{\"text\":\"<b>Reservoir trajectories </b>\"},\"xaxis\":{\"title\":{\"text\":\"<b>Time</b> (Hour)\"}},\"yaxis\":{\"title\":{\"text\":\"<b>Volume</b> (Mm<sup>3</sup>)\"}}},                        {\"responsive\": true}                    ).then(function(){\n",
       "                            \n",
       "var gd = document.getElementById('f7ab9fe9-e52f-47b5-87f5-d178e2a55ef3');\n",
       "var x = new MutationObserver(function (mutations, observer) {{\n",
       "        var display = window.getComputedStyle(gd).display;\n",
       "        if (!display || display === 'none') {{\n",
       "            console.log([gd, 'removed!']);\n",
       "            Plotly.purge(gd);\n",
       "            observer.disconnect();\n",
       "        }}\n",
       "}});\n",
       "\n",
       "// Listen for the removal of the full notebook cells\n",
       "var notebookContainer = gd.closest('#notebook-container');\n",
       "if (notebookContainer) {{\n",
       "    x.observe(notebookContainer, {childList: true});\n",
       "}}\n",
       "\n",
       "// Listen for the clearing of the current output cell\n",
       "var outputEl = gd.closest('.output');\n",
       "if (outputEl) {{\n",
       "    x.observe(outputEl, {childList: true});\n",
       "}}\n",
       "\n",
       "                        })                };                });            </script>        </div>"
      ]
     },
     "metadata": {},
     "output_type": "display_data"
    }
   ],
   "source": [
    "# Plotting reservoir trajectories\n",
    "water_storage_rsv1=shop.model.reservoir.Reservoir1.storage.get()\n",
    "water_storage_rsv2=shop.model.reservoir.Reservoir2.storage.get()\n",
    "fig = go.Figure()\n",
    "colorscale = px.colors.sequential.RdBu_r\n",
    "fig.add_trace(go.Scatter(x=water_storage_rsv1.index, y=water_storage_rsv1.values, name=\"Reservoir1 storage\", marker_color=colorscale[1]))\n",
    "fig.add_trace(go.Scatter(x=water_storage_rsv2.index, y=water_storage_rsv2.values, name=\"Reservoir2 storage\", marker_color=colorscale[2]))\n",
    "fig.update_layout(title=\"<b>Reservoir trajectories </b>\", xaxis_title=\"<b>Time</b> (Hour)\", yaxis_title=\"<b>Volume</b> (Mm<sup>3</sup>)\")\n",
    "fig.show()"
   ]
  },
  {
   "cell_type": "markdown",
   "metadata": {
    "Collapsed": "false"
   },
   "source": [
    "Lastly, we can inspect individual values describing our model run."
   ]
  },
  {
   "cell_type": "code",
   "execution_count": 37,
   "metadata": {
    "Collapsed": "false"
   },
   "outputs": [
    {
     "name": "stdout",
     "output_type": "stream",
     "text": [
      "Income from fixed load: -0.0\n",
      "Sum of selling vs. buying in the market: -961127.7106173242\n",
      "End reservoir value: -253417.50003088804\n",
      "Sum of startup costs: 5800.0\n",
      "Sum of load penalties: 0.0\n",
      "Total objective value: -1208745.2106482123\n",
      "Grand total objective value (excluding major penalties): -1208745.2106482123\n"
     ]
    }
   ],
   "source": [
    "print(\"Income from fixed load:\",shop.model.objective.scen_1.load_value.get())\n",
    "print(\"Sum of selling vs. buying in the market:\", shop.model.objective.scen_1.market_sale_buy.get())\n",
    "print(\"End reservoir value:\", shop.model.objective.scen_1.rsv_end_value.get())\n",
    "print(\"Sum of startup costs:\", shop.model.objective.scen_1.startup_costs.get())\n",
    "print(\"Sum of load penalties:\", shop.model.objective.scen_1.load_penalty.get())\n",
    "print(\"Total objective value:\", shop.model.objective.scen_1.total.get())\n",
    "print(\"Grand total objective value (excluding major penalties):\", shop.model.objective.scen_1.grand_total.get())"
   ]
  },
  {
   "cell_type": "code",
   "execution_count": 38,
   "metadata": {},
   "outputs": [
    {
     "ename": "SyntaxError",
     "evalue": "invalid syntax (1285713947.py, line 1)",
     "output_type": "error",
     "traceback": [
      "\u001b[1;36m  Input \u001b[1;32mIn [38]\u001b[1;36m\u001b[0m\n\u001b[1;33m    shop.model.\u001b[0m\n\u001b[1;37m               ^\u001b[0m\n\u001b[1;31mSyntaxError\u001b[0m\u001b[1;31m:\u001b[0m invalid syntax\n"
     ]
    }
   ],
   "source": [
    "shop.model."
   ]
  }
 ],
 "metadata": {
  "interpreter": {
   "hash": "4223153fc3680f012c12488c2bfc79714a2d6819fdc0439337abb73470cb9161"
  },
  "kernelspec": {
   "display_name": "Python 3 (ipykernel)",
   "language": "python",
   "name": "python3"
  },
  "language_info": {
   "codemirror_mode": {
    "name": "ipython",
    "version": 3
   },
   "file_extension": ".py",
   "mimetype": "text/x-python",
   "name": "python",
   "nbconvert_exporter": "python",
   "pygments_lexer": "ipython3",
   "version": "3.10.2"
  },
  "widgets": {
   "application/vnd.jupyter.widget-state+json": {
    "state": {},
    "version_major": 2,
    "version_minor": 0
   }
  }
 },
 "nbformat": 4,
 "nbformat_minor": 4
}
