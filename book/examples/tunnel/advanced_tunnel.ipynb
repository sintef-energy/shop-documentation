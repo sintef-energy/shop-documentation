{
 "cells": [
  {
   "cell_type": "markdown",
   "id": "12bf828f-0ae1-4b52-bf23-0f1de0fb02f5",
   "metadata": {},
   "source": [
    "(advanced-tunnel)=\n",
    "# Advanced tunnel example\n",
    "This tutorial will guide you through how to model complex tunnel networks in SHOP and will cover the following topics:\n",
    "- basic modelling principles for tunnel networks\n",
    "- creek intakes\n",
    "- contiuous gates\n",
    "- pressure and flow constraints\n",
    "- discrete gates\n",
    "- gate interlock constraints\n",
    "- gate switch time"
   ]
  },
  {
   "cell_type": "markdown",
   "id": "04b38df6-e994-49f3-ba46-489f074f2b7b",
   "metadata": {},
   "source": [
    "## 1. Basic tunnel network modelling principles\n",
    "This tutorial will implement the model shown in the topology. The proposed system has three reservoirs, a creek intake and two plants. Both plants are connected to the same tunnel network, but at different positions. The first plant has two generators and discharges the water to the ocean. The second plant has a generator and a pump and discharges to and pumps from reservoir R3. The tunnel network has three gates hence both plants can produce from either one or two reservoirs, and the pump can even pump to R2 while the other plant is producing from R1.\n",
    "\n",
    "<img src=\"tunnel_network_topology.png\">\n",
    "\n",
    "We have indicated the intersections connecting multiple tunnels with black dots and named them N1, N2 and N3. Note that these are not represented as explicit objects in SHOP and should not be mixed up with the junction object. The tunnels will follow the naming convention t_{from_node}_{to_node}. For example, t_R1_N1 represents the tunnel from reservoir R1 to node N1. Initially, we defined the necessary objects for our model.\n",
    "\n",
    "We define functions for the respective steps, for example the function `add_reservoirs(shop)` for creating the reservoir objects in session `shop`. This makes it more convenient to reuse the code in the following sections where we stepwise add more complexity to the model."
   ]
  },
  {
   "cell_type": "code",
   "execution_count": 46,
   "id": "ce73344c-d924-4bb5-ac7c-c07f78142496",
   "metadata": {
    "tags": []
   },
   "outputs": [],
   "source": [
    "# Initialize session and set start and end time\n",
    "import pandas as pd\n",
    "from pyshop import ShopSession\n",
    "def new_model():\n",
    "    shop = ShopSession()\n",
    "    starttime = pd.Timestamp('2022-04-16')\n",
    "    endtime = pd.Timestamp('2022-04-19')\n",
    "    shop.set_time_resolution(starttime=starttime, endtime=endtime, timeunit='hour')\n",
    "    return shop"
   ]
  },
  {
   "cell_type": "code",
   "execution_count": 47,
   "id": "b4df0fe7-861b-45c1-86ee-cd569eb8ed00",
   "metadata": {
    "tags": []
   },
   "outputs": [],
   "source": [
    "def add_reservoirs(shop):\n",
    "    rsv1 = shop.model.reservoir.add_object(\"rsv1\")\n",
    "    rsv1.max_vol.set(12)\n",
    "    rsv1.lrl.set(90)\n",
    "    rsv1.hrl.set(100)\n",
    "    rsv1.vol_head.set(pd.Series([90, 100, 101], index=[0, 12, 14], name=0))\n",
    "    rsv1.flow_descr.set(pd.Series([0, 1000], index=[100, 101], name=0))\n",
    "\n",
    "    rsv2 = shop.model.reservoir.add_object(\"rsv2\")\n",
    "    rsv2.max_vol.set(12)\n",
    "    rsv2.lrl.set(90)\n",
    "    rsv2.hrl.set(100)\n",
    "    rsv2.vol_head.set(pd.Series([90, 100, 101], index=[0, 12, 14], name=0))\n",
    "    rsv2.flow_descr.set(pd.Series([0, 1000], index=[100, 101], name=0))\n",
    "\n",
    "    rsv3 = shop.model.reservoir.add_object(\"rsv3\")\n",
    "    rsv3.max_vol.set(12)\n",
    "    rsv3.lrl.set(40)\n",
    "    rsv3.hrl.set(50)\n",
    "    rsv3.vol_head.set(pd.Series([40, 50, 51], index=[0, 12, 14], name=0))\n",
    "    rsv3.flow_descr.set(pd.Series([0, 1000], index=[50, 51], name=0))\n",
    "\n",
    "    rsv3_overflow = shop.model.gate.add_object(\"rsv3_overflow\")\n",
    "    rsv3.connect_to(rsv3_overflow, \"spill\")\n",
    "\n",
    "    creek1 = shop.model.reservoir.add_object(\"creek1\")\n",
    "    creek1.max_vol.set(0.01)\n",
    "    creek1.lrl.set(90)\n",
    "    creek1.hrl.set(110)\n",
    "    creek1.vol_head.set(pd.Series([90, 110, 111], index=[0, 0.01, 0.02], name=0))\n",
    "    creek1.flow_descr.set(pd.Series([0, 100], index=[110, 111], name=0))"
   ]
  },
  {
   "cell_type": "code",
   "execution_count": 48,
   "id": "b7b9145d-252a-4435-aed0-0e6dabc939c7",
   "metadata": {
    "tags": []
   },
   "outputs": [],
   "source": [
    "def add_tunnels(shop):\n",
    "    t_r1_n1 = shop.model.tunnel.add_object(\"t_r1_n1\")\n",
    "    t_r1_n1.start_height.set(89)\n",
    "    t_r1_n1.end_height.set(89)\n",
    "    t_r1_n1.loss_factor.set(0.001)\n",
    "\n",
    "    t_c1_n1 = shop.model.tunnel.add_object(\"t_c1_n1\")\n",
    "    t_c1_n1.start_height.set(89)\n",
    "    t_c1_n1.end_height.set(89)\n",
    "    t_c1_n1.loss_factor.set(0.001)\n",
    "\n",
    "    t_n1_n2 = shop.model.tunnel.add_object(\"t_n1_n2\")\n",
    "    t_n1_n2.start_height.set(89)\n",
    "    t_n1_n2.end_height.set(89)\n",
    "    t_n1_n2.loss_factor.set(0.001)\n",
    "\n",
    "    t_n2_p1 = shop.model.tunnel.add_object(\"t_n2_p1\")\n",
    "    t_n2_p1.start_height.set(89)\n",
    "    t_n2_p1.end_height.set(89)\n",
    "    t_n2_p1.loss_factor.set(0.001)\n",
    "\n",
    "    t_r2_n3 = shop.model.tunnel.add_object(\"t_r2_n3\")\n",
    "    t_r2_n3.start_height.set(89)\n",
    "    t_r2_n3.end_height.set(89)\n",
    "    t_r2_n3.loss_factor.set(0.001)\n",
    "\n",
    "    t_n3_n2 = shop.model.tunnel.add_object(\"t_n3_n2\")\n",
    "    t_n3_n2.start_height.set(89)\n",
    "    t_n3_n2.end_height.set(89)\n",
    "    t_n3_n2.loss_factor.set(0.003)\n",
    "\n",
    "    t_n3_p2 = shop.model.tunnel.add_object(\"t_n3_p2\")\n",
    "    t_n3_p2.start_height.set(89)\n",
    "    t_n3_p2.end_height.set(89)\n",
    "    t_n3_p2.loss_factor.set(0.001)"
   ]
  },
  {
   "cell_type": "code",
   "execution_count": 49,
   "id": "9a3e1569-d802-40c4-819e-00f2160a5ad9",
   "metadata": {
    "tags": []
   },
   "outputs": [],
   "source": [
    "def add_plants(shop):\n",
    "    plant1 = shop.model.plant.add_object(\"plant1\")\n",
    "    plant1.outlet_line.set(0)\n",
    "    plant1.main_loss.set([0.0002])\n",
    "    plant1.penstock_loss.set([0.0001])\n",
    "\n",
    "    p1g1 = shop.model.generator.add_object(\"plant1_g1\")\n",
    "    plant1.connect_to(p1g1)\n",
    "    p1g1.penstock.set(1)\n",
    "    p1g1.p_min.set(10)\n",
    "    p1g1.p_max.set(100)\n",
    "    p1g1.p_nom.set(100)\n",
    "    p1g1.startcost.set(500)\n",
    "    p1g1.turb_eff_curves.set([pd.Series([80, 95, 90], index=[10, 90, 100], name=90),\n",
    "                              pd.Series([82, 97, 92], index=[10, 90, 100], name=100)])\n",
    "\n",
    "    p1g2 = shop.model.generator.add_object(\"plant1_g2\")\n",
    "    plant1.connect_to(p1g2)\n",
    "    p1g2.penstock.set(1)\n",
    "    p1g2.p_min.set(10)\n",
    "    p1g2.p_max.set(100)\n",
    "    p1g2.p_nom.set(100)\n",
    "    p1g2.startcost.set(500)\n",
    "    p1g2.turb_eff_curves.set([pd.Series([80, 95, 90], index=[10, 90, 100], name=90),\n",
    "                              pd.Series([82, 97, 92], index=[10, 90, 100], name=100)])\n",
    "\n",
    "    plant2 = shop.model.plant.add_object(\"plant2\")\n",
    "    plant2.outlet_line.set(40)\n",
    "    plant2.main_loss.set([0.0002])\n",
    "    plant2.penstock_loss.set([0.0001])\n",
    "\n",
    "    p2g1 = shop.model.generator.add_object(\"plant2_g1\")\n",
    "    plant2.connect_to(p2g1)\n",
    "    p2g1.penstock.set(1)\n",
    "    p2g1.p_min.set(12)\n",
    "    p2g1.p_max.set(50)\n",
    "    p2g1.p_nom.set(50)\n",
    "    p2g1.startcost.set(500)\n",
    "    p2g1.turb_eff_curves.set([pd.Series([80, 95, 90], index=[25, 90, 100], name=40),\n",
    "                              pd.Series([82, 97, 92], index=[25, 90, 100], name=50)])\n",
    "\n",
    "    p2p1 = shop.model.pump.add_object(\"plant2_p1\")\n",
    "    plant2.connect_to(p2p1)\n",
    "    p2p1.penstock.set(1)\n",
    "    p2p1.p_min.set(12)\n",
    "    p2p1.p_max.set(50)\n",
    "    p2p1.p_nom.set(50)\n",
    "    p2p1.startcost.set(500)\n",
    "    p2p1.turb_eff_curves.set([pd.Series([80, 95, 90], index=[25, 90, 100], name=40),\n",
    "                              pd.Series([82, 97, 92], index=[25, 90, 100], name=50)])"
   ]
  },
  {
   "cell_type": "code",
   "execution_count": 50,
   "id": "70469bec-b380-4c05-8912-29965bd99c41",
   "metadata": {},
   "outputs": [],
   "source": [
    "def connect_objects(shop):\n",
    "    shop.model.reservoir.rsv1.connect_to(shop.model.tunnel.t_r1_n1)\n",
    "    shop.model.reservoir.creek1.connect_to(shop.model.tunnel.t_c1_n1)\n",
    "\n",
    "    shop.model.tunnel.t_r1_n1.connect_to(shop.model.tunnel.t_n1_n2)\n",
    "    shop.model.tunnel.t_c1_n1.connect_to(shop.model.tunnel.t_n1_n2)\n",
    "    shop.model.tunnel.t_n1_n2.connect_to(shop.model.tunnel.t_n2_p1)\n",
    "    shop.model.tunnel.t_n2_p1.connect_to(shop.model.plant.plant1)\n",
    "\n",
    "    shop.model.reservoir.rsv2.connect_to(shop.model.tunnel.t_r2_n3)\n",
    "    shop.model.tunnel.t_r2_n3.connect_to(shop.model.tunnel.t_n3_n2)\n",
    "    shop.model.tunnel.t_n3_n2.connect_to(shop.model.tunnel.t_n2_p1)\n",
    "\n",
    "    shop.model.tunnel.t_r2_n3.connect_to(shop.model.tunnel.t_n3_p2)\n",
    "    shop.model.tunnel.t_n3_p2.connect_to(shop.model.plant.plant2)\n",
    "    shop.model.plant.plant2.connect_to(shop.model.reservoir.rsv3)"
   ]
  },
  {
   "cell_type": "markdown",
   "id": "9b2a8522-e340-48ac-b0b0-46f83c05af02",
   "metadata": {},
   "source": [
    "The resulting topology is shown below. Note that the creek intake is modelled as a small reservoir where the volume represents the cross cut from the intake to the tunnel."
   ]
  },
  {
   "cell_type": "code",
   "execution_count": 58,
   "id": "cec900c6-ef65-4485-b12c-20ab73ea80fd",
   "metadata": {},
   "outputs": [
    {
     "data": {
      "image/svg+xml": "<?xml version=\"1.0\" encoding=\"UTF-8\" standalone=\"no\"?>\n<!DOCTYPE svg PUBLIC \"-//W3C//DTD SVG 1.1//EN\"\n \"http://www.w3.org/Graphics/SVG/1.1/DTD/svg11.dtd\">\n<!-- Generated by graphviz version 2.50.0 (20211204.2007)\n -->\n<!-- Pages: 1 -->\n<svg width=\"413pt\" height=\"424pt\"\n viewBox=\"0.00 0.00 412.99 424.00\" xmlns=\"http://www.w3.org/2000/svg\" xmlns:xlink=\"http://www.w3.org/1999/xlink\">\n<g id=\"graph0\" class=\"graph\" transform=\"scale(1 1) rotate(0) translate(4 420)\">\n<polygon fill=\"white\" stroke=\"transparent\" points=\"-4,4 -4,-420 408.99,-420 408.99,4 -4,4\"/>\n<!-- reservoir_rsv1 -->\n<g id=\"node1\" class=\"node\">\n<title>reservoir_rsv1</title>\n<polygon fill=\"skyblue\" stroke=\"black\" points=\"53.3,-370 106.39,-404.5 0.2,-404.5 53.3,-370\"/>\n<text text-anchor=\"middle\" x=\"53.3\" y=\"-389.3\" font-family=\"Times New Roman,serif\" font-size=\"14.00\">rsv1</text>\n</g>\n<!-- tunnel_t_r1_n1 -->\n<g id=\"node6\" class=\"node\">\n<title>tunnel_t_r1_n1</title>\n<polygon fill=\"#d4d4d4\" stroke=\"black\" points=\"109.3,-334 49.3,-334 49.3,-298 109.3,-298 109.3,-334\"/>\n<text text-anchor=\"middle\" x=\"79.3\" y=\"-312.3\" font-family=\"Times New Roman,serif\" font-size=\"14.00\">t_r1_n1</text>\n</g>\n<!-- reservoir_rsv1&#45;&gt;tunnel_t_r1_n1 -->\n<g id=\"edge1\" class=\"edge\">\n<title>reservoir_rsv1&#45;&gt;tunnel_t_r1_n1</title>\n<path fill=\"none\" stroke=\"black\" d=\"M59.59,-373.84C63.77,-361.79 69.22,-346.07 73.33,-334.22\"/>\n</g>\n<!-- reservoir_rsv2 -->\n<g id=\"node2\" class=\"node\">\n<title>reservoir_rsv2</title>\n<polygon fill=\"skyblue\" stroke=\"black\" points=\"338.3,-370 391.39,-404.5 285.2,-404.5 338.3,-370\"/>\n<text text-anchor=\"middle\" x=\"338.3\" y=\"-389.3\" font-family=\"Times New Roman,serif\" font-size=\"14.00\">rsv2</text>\n</g>\n<!-- tunnel_t_r2_n3 -->\n<g id=\"node10\" class=\"node\">\n<title>tunnel_t_r2_n3</title>\n<polygon fill=\"#d4d4d4\" stroke=\"black\" points=\"368.3,-334 308.3,-334 308.3,-298 368.3,-298 368.3,-334\"/>\n<text text-anchor=\"middle\" x=\"338.3\" y=\"-312.3\" font-family=\"Times New Roman,serif\" font-size=\"14.00\">t_r2_n3</text>\n</g>\n<!-- reservoir_rsv2&#45;&gt;tunnel_t_r2_n3 -->\n<g id=\"edge2\" class=\"edge\">\n<title>reservoir_rsv2&#45;&gt;tunnel_t_r2_n3</title>\n<path fill=\"none\" stroke=\"black\" d=\"M338.3,-369.9C338.3,-358.5 338.3,-344.79 338.3,-334.18\"/>\n</g>\n<!-- reservoir_rsv3 -->\n<g id=\"node3\" class=\"node\">\n<title>reservoir_rsv3</title>\n<polygon fill=\"skyblue\" stroke=\"black\" points=\"341.3,-72 394.39,-106.5 288.2,-106.5 341.3,-72\"/>\n<text text-anchor=\"middle\" x=\"341.3\" y=\"-91.3\" font-family=\"Times New Roman,serif\" font-size=\"14.00\">rsv3</text>\n</g>\n<!-- gate_rsv3_overflow -->\n<g id=\"node4\" class=\"node\">\n<title>gate_rsv3_overflow</title>\n<ellipse fill=\"transparent\" stroke=\"black\" cx=\"341.3\" cy=\"-18\" rx=\"63.89\" ry=\"18\"/>\n<text text-anchor=\"middle\" x=\"341.3\" y=\"-14.3\" font-family=\"Times New Roman,serif\" font-size=\"14.00\">rsv3_overflow</text>\n</g>\n<!-- reservoir_rsv3&#45;&gt;gate_rsv3_overflow -->\n<g id=\"edge3\" class=\"edge\">\n<title>reservoir_rsv3&#45;&gt;gate_rsv3_overflow</title>\n<path fill=\"none\" stroke=\"black\" stroke-dasharray=\"5,2\" d=\"M341.3,-71.9C341.3,-60.5 341.3,-46.79 341.3,-36.18\"/>\n</g>\n<!-- reservoir_creek1 -->\n<g id=\"node5\" class=\"node\">\n<title>reservoir_creek1</title>\n<polygon fill=\"skyblue\" stroke=\"black\" points=\"193.3,-370 262.08,-404.5 124.51,-404.5 193.3,-370\"/>\n<text text-anchor=\"middle\" x=\"193.3\" y=\"-389.3\" font-family=\"Times New Roman,serif\" font-size=\"14.00\">creek1</text>\n</g>\n<!-- tunnel_t_c1_n1 -->\n<g id=\"node7\" class=\"node\">\n<title>tunnel_t_c1_n1</title>\n<polygon fill=\"#d4d4d4\" stroke=\"black\" points=\"214.3,-334 152.3,-334 152.3,-298 214.3,-298 214.3,-334\"/>\n<text text-anchor=\"middle\" x=\"183.3\" y=\"-312.3\" font-family=\"Times New Roman,serif\" font-size=\"14.00\">t_c1_n1</text>\n</g>\n<!-- reservoir_creek1&#45;&gt;tunnel_t_c1_n1 -->\n<g id=\"edge4\" class=\"edge\">\n<title>reservoir_creek1&#45;&gt;tunnel_t_c1_n1</title>\n<path fill=\"none\" stroke=\"black\" d=\"M190.51,-371.11C188.96,-359.49 187.06,-345.21 185.59,-334.24\"/>\n</g>\n<!-- tunnel_t_n1_n2 -->\n<g id=\"node8\" class=\"node\">\n<title>tunnel_t_n1_n2</title>\n<polygon fill=\"#d4d4d4\" stroke=\"black\" points=\"211.3,-262 149.3,-262 149.3,-226 211.3,-226 211.3,-262\"/>\n<text text-anchor=\"middle\" x=\"180.3\" y=\"-240.3\" font-family=\"Times New Roman,serif\" font-size=\"14.00\">t_n1_n2</text>\n</g>\n<!-- tunnel_t_r1_n1&#45;&gt;tunnel_t_n1_n2 -->\n<g id=\"edge5\" class=\"edge\">\n<title>tunnel_t_r1_n1&#45;&gt;tunnel_t_n1_n2</title>\n<path fill=\"none\" stroke=\"black\" d=\"M104,-297.88C119.65,-287.03 139.82,-273.05 155.49,-262.19\"/>\n</g>\n<!-- tunnel_t_c1_n1&#45;&gt;tunnel_t_n1_n2 -->\n<g id=\"edge6\" class=\"edge\">\n<title>tunnel_t_c1_n1&#45;&gt;tunnel_t_n1_n2</title>\n<path fill=\"none\" stroke=\"black\" d=\"M182.55,-297.7C182.09,-286.85 181.49,-272.92 181.03,-262.1\"/>\n</g>\n<!-- tunnel_t_n2_p1 -->\n<g id=\"node9\" class=\"node\">\n<title>tunnel_t_n2_p1</title>\n<polygon fill=\"#d4d4d4\" stroke=\"black\" points=\"243.8,-190 180.8,-190 180.8,-154 243.8,-154 243.8,-190\"/>\n<text text-anchor=\"middle\" x=\"212.3\" y=\"-168.3\" font-family=\"Times New Roman,serif\" font-size=\"14.00\">t_n2_p1</text>\n</g>\n<!-- tunnel_t_n1_n2&#45;&gt;tunnel_t_n2_p1 -->\n<g id=\"edge7\" class=\"edge\">\n<title>tunnel_t_n1_n2&#45;&gt;tunnel_t_n2_p1</title>\n<path fill=\"none\" stroke=\"black\" d=\"M188.21,-225.7C193.17,-214.85 199.53,-200.92 204.48,-190.1\"/>\n</g>\n<!-- plant_plant1 -->\n<g id=\"node13\" class=\"node\">\n<title>plant_plant1</title>\n<polygon fill=\"#ffc1c1\" stroke=\"black\" points=\"239.3,-113 185.3,-113 185.3,-77 239.3,-77 239.3,-113\"/>\n<text text-anchor=\"middle\" x=\"212.3\" y=\"-91.3\" font-family=\"Times New Roman,serif\" font-size=\"14.00\">plant1</text>\n</g>\n<!-- tunnel_t_n2_p1&#45;&gt;plant_plant1 -->\n<g id=\"edge8\" class=\"edge\">\n<title>tunnel_t_n2_p1&#45;&gt;plant_plant1</title>\n<path fill=\"none\" stroke=\"black\" d=\"M212.3,-153.98C212.3,-141.79 212.3,-125.44 212.3,-113.21\"/>\n</g>\n<!-- tunnel_t_n3_n2 -->\n<g id=\"node11\" class=\"node\">\n<title>tunnel_t_n3_n2</title>\n<polygon fill=\"#d4d4d4\" stroke=\"black\" points=\"291.3,-262 229.3,-262 229.3,-226 291.3,-226 291.3,-262\"/>\n<text text-anchor=\"middle\" x=\"260.3\" y=\"-240.3\" font-family=\"Times New Roman,serif\" font-size=\"14.00\">t_n3_n2</text>\n</g>\n<!-- tunnel_t_r2_n3&#45;&gt;tunnel_t_n3_n2 -->\n<g id=\"edge9\" class=\"edge\">\n<title>tunnel_t_r2_n3&#45;&gt;tunnel_t_n3_n2</title>\n<path fill=\"none\" stroke=\"black\" d=\"M319.01,-297.7C306.92,-286.85 291.4,-272.92 279.35,-262.1\"/>\n</g>\n<!-- tunnel_t_n3_p2 -->\n<g id=\"node12\" class=\"node\">\n<title>tunnel_t_n3_p2</title>\n<polygon fill=\"#d4d4d4\" stroke=\"black\" points=\"372.8,-262 309.8,-262 309.8,-226 372.8,-226 372.8,-262\"/>\n<text text-anchor=\"middle\" x=\"341.3\" y=\"-240.3\" font-family=\"Times New Roman,serif\" font-size=\"14.00\">t_n3_p2</text>\n</g>\n<!-- tunnel_t_r2_n3&#45;&gt;tunnel_t_n3_p2 -->\n<g id=\"edge10\" class=\"edge\">\n<title>tunnel_t_r2_n3&#45;&gt;tunnel_t_n3_p2</title>\n<path fill=\"none\" stroke=\"black\" d=\"M339.04,-297.7C339.5,-286.85 340.1,-272.92 340.56,-262.1\"/>\n</g>\n<!-- tunnel_t_n3_n2&#45;&gt;tunnel_t_n2_p1 -->\n<g id=\"edge11\" class=\"edge\">\n<title>tunnel_t_n3_n2&#45;&gt;tunnel_t_n2_p1</title>\n<path fill=\"none\" stroke=\"black\" d=\"M248.43,-225.7C240.99,-214.85 231.44,-200.92 224.02,-190.1\"/>\n</g>\n<!-- plant_plant2 -->\n<g id=\"node14\" class=\"node\">\n<title>plant_plant2</title>\n<polygon fill=\"#ffc1c1\" stroke=\"black\" points=\"368.3,-190 314.3,-190 314.3,-154 368.3,-154 368.3,-190\"/>\n<text text-anchor=\"middle\" x=\"341.3\" y=\"-168.3\" font-family=\"Times New Roman,serif\" font-size=\"14.00\">plant2</text>\n</g>\n<!-- tunnel_t_n3_p2&#45;&gt;plant_plant2 -->\n<g id=\"edge12\" class=\"edge\">\n<title>tunnel_t_n3_p2&#45;&gt;plant_plant2</title>\n<path fill=\"none\" stroke=\"black\" d=\"M341.3,-225.7C341.3,-214.85 341.3,-200.92 341.3,-190.1\"/>\n</g>\n<!-- plant_plant2&#45;&gt;reservoir_rsv3 -->\n<g id=\"edge13\" class=\"edge\">\n<title>plant_plant2&#45;&gt;reservoir_rsv3</title>\n<path fill=\"none\" stroke=\"black\" d=\"M341.3,-153.98C341.3,-139.46 341.3,-119.03 341.3,-106.7\"/>\n</g>\n</g>\n</svg>\n",
      "text/plain": [
       "<graphviz.graphs.Digraph at 0x2653538f850>"
      ]
     },
     "execution_count": 58,
     "metadata": {},
     "output_type": "execute_result"
    }
   ],
   "source": [
    "shop = new_model()\n",
    "add_reservoirs(shop)\n",
    "add_tunnels(shop)\n",
    "add_plants(shop)\n",
    "connect_objects(shop)\n",
    "shop.model.build_connection_tree()"
   ]
  },
  {
   "cell_type": "markdown",
   "id": "71917452-8fbe-4c8c-b1f8-34785a082d0e",
   "metadata": {},
   "source": [
    "The model is initialized with historical spot prices from NO1 and higher water value for Reservoir1 than the others."
   ]
  },
  {
   "cell_type": "code",
   "execution_count": 59,
   "id": "b0690ccf-f744-410d-80ef-4db22b1c5e13",
   "metadata": {},
   "outputs": [],
   "source": [
    "def init_model(shop):\n",
    "    time_res = shop.get_time_resolution()\n",
    "    starttime = time_res['starttime']\n",
    "    endtime = time_res['endtime']\n",
    "    \n",
    "    price = pd.Series(\n",
    "        [189.13, 187.4, 184.28, 179.79, 178.55, 184.04, 184.96, 185.19, 184.43, 178.41, 172.79, 170, 159.04, 151.02, 145.77, 140.71, 91.15, 151.32, 173.19, 184.14, 187.79, 187.2, 182.7, 172.4, 166.77, 158.86, 148.36, 144.25, 144.55, 144.58, 150.93, 148.77, 153.6, 159.3, 159.86, 161.08, 150.01, 127.22, 97.25, 70.03, 93.64, 107.47, 166.74, 182.45, 185.41, 185.42, 179.99, 163.3, 108.13, 83.68, 86.78, 83.68, 88.07, 95.26, 131.01, 148.91, 144.15, 151.97, 158.76, 153.21, 151.31, 130.02, 50.02, 77.61, 154.46, 175.8, 179.13, 186.71, 194.31, 202.31, 201.25, 195.54, 192.99, 187.38, 185.6, 185.41, 185.97, 192.53, 196.88, 204.7, 285.98, 247.53, 202.89, 193.53, 189.69, 185.28, 182.22, 181.75, 184.18, 189.16, 196.09, 203.57, 206.68, 206.65, 191.96, 185.45],\n",
    "        index=[starttime+pd.Timedelta(hours=t) for t in range(24*4)]\n",
    "    )\n",
    "    price_mean = price.mean()\n",
    "    \n",
    "    shop.model.reservoir.rsv1.start_head.set(95)\n",
    "    shop.model.reservoir.rsv2.start_head.set(95)\n",
    "    shop.model.reservoir.creek1.start_head.set(95)\n",
    "    shop.model.reservoir.rsv3.start_head.set(45)\n",
    "\n",
    "    shop.model.reservoir.rsv1.energy_value_input.set(0.9*price_mean)\n",
    "    shop.model.reservoir.rsv2.energy_value_input.set(0.8*price_mean)\n",
    "    shop.model.reservoir.rsv3.energy_value_input.set(0.8*price_mean)\n",
    "    shop.model.reservoir.creek1.energy_value_input.set(price_mean)\n",
    "\n",
    "    shop.model.reservoir.rsv1.overflow_cost.set(50000)\n",
    "    shop.model.reservoir.rsv2.overflow_cost.set(50000)\n",
    "    shop.model.reservoir.rsv3.overflow_cost.set(50000)\n",
    "    shop.model.reservoir.creek1.overflow_cost.set(50000)\n",
    "    \n",
    "    shop.model.market.add_object(\"spot\")\n",
    "    shop.model.market.spot.buy_price.set(price + 0.01)\n",
    "    shop.model.market.spot.sale_price.set(price - 0.01)\n",
    "\n",
    "    shop.model.reservoir.rsv3.inflow.set(50)\n",
    "init_model(shop)"
   ]
  },
  {
   "cell_type": "markdown",
   "id": "590cc2ff-1409-4899-bd43-54f73dad6805",
   "metadata": {},
   "source": [
    "The model is optimized with 3 full and 3 incremental iterations."
   ]
  },
  {
   "cell_type": "code",
   "execution_count": 60,
   "id": "9aeb4329-7e59-48f8-bd31-d0c6f090e777",
   "metadata": {},
   "outputs": [
    {
     "data": {
      "text/plain": [
       "-529276.8219218244"
      ]
     },
     "execution_count": 60,
     "metadata": {},
     "output_type": "execute_result"
    }
   ],
   "source": [
    "# shop.print_model([], ['full1.lp'])\n",
    "shop.start_sim([],[3])\n",
    "shop.set_code(['incremental'], [])\n",
    "shop.start_sim([],[5])\n",
    "shop.model.objective.average_objective.total.get()"
   ]
  },
  {
   "cell_type": "code",
   "execution_count": 61,
   "id": "c109b093-c36c-4270-8f0b-2f0fae945374",
   "metadata": {},
   "outputs": [
    {
     "data": {
      "application/vnd.plotly.v1+json": {
       "config": {
        "plotlyServerURL": "https://plot.ly"
       },
       "data": [
        {
         "name": "Plant 1 production",
         "type": "scatter",
         "x": [
          "2022-04-16T00:00:00",
          "2022-04-16T01:00:00",
          "2022-04-16T02:00:00",
          "2022-04-16T03:00:00",
          "2022-04-16T04:00:00",
          "2022-04-16T05:00:00",
          "2022-04-16T06:00:00",
          "2022-04-16T07:00:00",
          "2022-04-16T08:00:00",
          "2022-04-16T09:00:00",
          "2022-04-16T10:00:00",
          "2022-04-16T11:00:00",
          "2022-04-16T12:00:00",
          "2022-04-16T13:00:00",
          "2022-04-16T14:00:00",
          "2022-04-16T15:00:00",
          "2022-04-16T16:00:00",
          "2022-04-16T17:00:00",
          "2022-04-16T18:00:00",
          "2022-04-16T19:00:00",
          "2022-04-16T20:00:00",
          "2022-04-16T21:00:00",
          "2022-04-16T22:00:00",
          "2022-04-16T23:00:00",
          "2022-04-17T00:00:00",
          "2022-04-17T01:00:00",
          "2022-04-17T02:00:00",
          "2022-04-17T03:00:00",
          "2022-04-17T04:00:00",
          "2022-04-17T05:00:00",
          "2022-04-17T06:00:00",
          "2022-04-17T07:00:00",
          "2022-04-17T08:00:00",
          "2022-04-17T09:00:00",
          "2022-04-17T10:00:00",
          "2022-04-17T11:00:00",
          "2022-04-17T12:00:00",
          "2022-04-17T13:00:00",
          "2022-04-17T14:00:00",
          "2022-04-17T15:00:00",
          "2022-04-17T16:00:00",
          "2022-04-17T17:00:00",
          "2022-04-17T18:00:00",
          "2022-04-17T19:00:00",
          "2022-04-17T20:00:00",
          "2022-04-17T21:00:00",
          "2022-04-17T22:00:00",
          "2022-04-17T23:00:00",
          "2022-04-18T00:00:00",
          "2022-04-18T01:00:00",
          "2022-04-18T02:00:00",
          "2022-04-18T03:00:00",
          "2022-04-18T04:00:00",
          "2022-04-18T05:00:00",
          "2022-04-18T06:00:00",
          "2022-04-18T07:00:00",
          "2022-04-18T08:00:00",
          "2022-04-18T09:00:00",
          "2022-04-18T10:00:00",
          "2022-04-18T11:00:00",
          "2022-04-18T12:00:00",
          "2022-04-18T13:00:00",
          "2022-04-18T14:00:00",
          "2022-04-18T15:00:00",
          "2022-04-18T16:00:00",
          "2022-04-18T17:00:00",
          "2022-04-18T18:00:00",
          "2022-04-18T19:00:00",
          "2022-04-18T20:00:00",
          "2022-04-18T21:00:00",
          "2022-04-18T22:00:00",
          "2022-04-18T23:00:00"
         ],
         "y": [
          67.44514202661065,
          67.38361250636488,
          67.34405309143204,
          67.30536544290077,
          67.26626963735104,
          67.22681955248486,
          67.18706364652913,
          67.14703089575342,
          67.10674300908998,
          67.06621897957642,
          67.02547657360397,
          66.98453281756149,
          49.73466409161636,
          49.725273796674486,
          0,
          0,
          0,
          49.89278544512095,
          67.25493666836233,
          66.59566414979922,
          66.50501854806605,
          66.41546050261215,
          66.32608176459694,
          66.8326436666479,
          66.79166928018071,
          49.506068848827624,
          49.49327600076686,
          0,
          0,
          0,
          49.661123927346,
          49.64480389839961,
          49.62981869062245,
          67.0062416093036,
          66.94957326137477,
          66.9011879079887,
          49.48575445393788,
          0,
          0,
          0,
          0,
          0,
          66.92732979439272,
          66.33305182889252,
          66.22037693922852,
          66.11139711977222,
          66.00242514302353,
          66.37860641123658,
          0,
          0,
          0,
          0,
          0,
          0,
          0,
          49.85597466268004,
          49.8414225180538,
          49.80211538662987,
          66.97581836437294,
          49.60359938053792,
          49.56025707925075,
          0,
          0,
          0,
          49.818728913462834,
          66.6279665713656,
          66.5069477365115,
          66.3981559028631,
          66.29004228493098,
          28.42905031918773,
          28.440530387410902,
          66.1431543526861
         ]
        },
        {
         "name": "Plant 2 production",
         "type": "scatter",
         "x": [
          "2022-04-16T00:00:00",
          "2022-04-16T01:00:00",
          "2022-04-16T02:00:00",
          "2022-04-16T03:00:00",
          "2022-04-16T04:00:00",
          "2022-04-16T05:00:00",
          "2022-04-16T06:00:00",
          "2022-04-16T07:00:00",
          "2022-04-16T08:00:00",
          "2022-04-16T09:00:00",
          "2022-04-16T10:00:00",
          "2022-04-16T11:00:00",
          "2022-04-16T12:00:00",
          "2022-04-16T13:00:00",
          "2022-04-16T14:00:00",
          "2022-04-16T15:00:00",
          "2022-04-16T16:00:00",
          "2022-04-16T17:00:00",
          "2022-04-16T18:00:00",
          "2022-04-16T19:00:00",
          "2022-04-16T20:00:00",
          "2022-04-16T21:00:00",
          "2022-04-16T22:00:00",
          "2022-04-16T23:00:00",
          "2022-04-17T00:00:00",
          "2022-04-17T01:00:00",
          "2022-04-17T02:00:00",
          "2022-04-17T03:00:00",
          "2022-04-17T04:00:00",
          "2022-04-17T05:00:00",
          "2022-04-17T06:00:00",
          "2022-04-17T07:00:00",
          "2022-04-17T08:00:00",
          "2022-04-17T09:00:00",
          "2022-04-17T10:00:00",
          "2022-04-17T11:00:00",
          "2022-04-17T12:00:00",
          "2022-04-17T13:00:00",
          "2022-04-17T14:00:00",
          "2022-04-17T15:00:00",
          "2022-04-17T16:00:00",
          "2022-04-17T17:00:00",
          "2022-04-17T18:00:00",
          "2022-04-17T19:00:00",
          "2022-04-17T20:00:00",
          "2022-04-17T21:00:00",
          "2022-04-17T22:00:00",
          "2022-04-17T23:00:00",
          "2022-04-18T00:00:00",
          "2022-04-18T01:00:00",
          "2022-04-18T02:00:00",
          "2022-04-18T03:00:00",
          "2022-04-18T04:00:00",
          "2022-04-18T05:00:00",
          "2022-04-18T06:00:00",
          "2022-04-18T07:00:00",
          "2022-04-18T08:00:00",
          "2022-04-18T09:00:00",
          "2022-04-18T10:00:00",
          "2022-04-18T11:00:00",
          "2022-04-18T12:00:00",
          "2022-04-18T13:00:00",
          "2022-04-18T14:00:00",
          "2022-04-18T15:00:00",
          "2022-04-18T16:00:00",
          "2022-04-18T17:00:00",
          "2022-04-18T18:00:00",
          "2022-04-18T19:00:00",
          "2022-04-18T20:00:00",
          "2022-04-18T21:00:00",
          "2022-04-18T22:00:00",
          "2022-04-18T23:00:00"
         ],
         "y": [
          0,
          0,
          0,
          0,
          0,
          0,
          0,
          0,
          0,
          0,
          0,
          0,
          0,
          0,
          0,
          0,
          0,
          0,
          0,
          0,
          0,
          0,
          0,
          0,
          0,
          0,
          0,
          0,
          0,
          0,
          0,
          0,
          0,
          0,
          0,
          0,
          0,
          0,
          0,
          0,
          0,
          0,
          0,
          0,
          0,
          0,
          0,
          0,
          0,
          0,
          0,
          0,
          0,
          0,
          0,
          0,
          0,
          0,
          0,
          0,
          0,
          0,
          0,
          0,
          0,
          0,
          0,
          0,
          0,
          0,
          0,
          0
         ]
        },
        {
         "name": "Plant 2 consumption",
         "type": "scatter",
         "x": [
          "2022-04-16T00:00:00",
          "2022-04-16T01:00:00",
          "2022-04-16T02:00:00",
          "2022-04-16T03:00:00",
          "2022-04-16T04:00:00",
          "2022-04-16T05:00:00",
          "2022-04-16T06:00:00",
          "2022-04-16T07:00:00",
          "2022-04-16T08:00:00",
          "2022-04-16T09:00:00",
          "2022-04-16T10:00:00",
          "2022-04-16T11:00:00",
          "2022-04-16T12:00:00",
          "2022-04-16T13:00:00",
          "2022-04-16T14:00:00",
          "2022-04-16T15:00:00",
          "2022-04-16T16:00:00",
          "2022-04-16T17:00:00",
          "2022-04-16T18:00:00",
          "2022-04-16T19:00:00",
          "2022-04-16T20:00:00",
          "2022-04-16T21:00:00",
          "2022-04-16T22:00:00",
          "2022-04-16T23:00:00",
          "2022-04-17T00:00:00",
          "2022-04-17T01:00:00",
          "2022-04-17T02:00:00",
          "2022-04-17T03:00:00",
          "2022-04-17T04:00:00",
          "2022-04-17T05:00:00",
          "2022-04-17T06:00:00",
          "2022-04-17T07:00:00",
          "2022-04-17T08:00:00",
          "2022-04-17T09:00:00",
          "2022-04-17T10:00:00",
          "2022-04-17T11:00:00",
          "2022-04-17T12:00:00",
          "2022-04-17T13:00:00",
          "2022-04-17T14:00:00",
          "2022-04-17T15:00:00",
          "2022-04-17T16:00:00",
          "2022-04-17T17:00:00",
          "2022-04-17T18:00:00",
          "2022-04-17T19:00:00",
          "2022-04-17T20:00:00",
          "2022-04-17T21:00:00",
          "2022-04-17T22:00:00",
          "2022-04-17T23:00:00",
          "2022-04-18T00:00:00",
          "2022-04-18T01:00:00",
          "2022-04-18T02:00:00",
          "2022-04-18T03:00:00",
          "2022-04-18T04:00:00",
          "2022-04-18T05:00:00",
          "2022-04-18T06:00:00",
          "2022-04-18T07:00:00",
          "2022-04-18T08:00:00",
          "2022-04-18T09:00:00",
          "2022-04-18T10:00:00",
          "2022-04-18T11:00:00",
          "2022-04-18T12:00:00",
          "2022-04-18T13:00:00",
          "2022-04-18T14:00:00",
          "2022-04-18T15:00:00",
          "2022-04-18T16:00:00",
          "2022-04-18T17:00:00",
          "2022-04-18T18:00:00",
          "2022-04-18T19:00:00",
          "2022-04-18T20:00:00",
          "2022-04-18T21:00:00",
          "2022-04-18T22:00:00",
          "2022-04-18T23:00:00"
         ],
         "y": [
          46.36632700171991,
          46.54831777714799,
          46.74068220793073,
          46.932310406960205,
          47.12269214323482,
          47.31186524154815,
          47.49986304764622,
          47.686711434256374,
          47.87243327803482,
          48.057050097408876,
          48.240582598850054,
          48.42305086635423,
          49.224022194095916,
          49.42636347509892,
          50.00022268521356,
          49.99991141414554,
          50.00010438137743,
          50.00022317732838,
          49.94099560418961,
          15.796744629002879,
          15.752835181822253,
          15.70667814645333,
          15.660457530505925,
          49.55970745831321,
          49.7282870268563,
          49.99993460676038,
          49.99986390521932,
          50.00017015158542,
          50.000183877093384,
          50.00019442802978,
          50.00017266136844,
          50.000184721956195,
          50.000194695335296,
          50.00016918552062,
          50.00018009119526,
          50.0001902383848,
          50.00019498258757,
          50.00014634973529,
          50.00013967605284,
          50.00013408743276,
          50.0001295556952,
          50.0001260462415,
          16.791656885609957,
          0,
          0,
          0,
          0,
          16.393396450380145,
          50.000177824794385,
          50.000172762222086,
          50.00016888784811,
          50.00016650007897,
          50.00016551087173,
          50.00016591922253,
          50.00016772487633,
          50.000204036396944,
          50.00020972467094,
          17.09812482348667,
          16.875617048777126,
          17.01033134887105,
          41.97021995252517,
          49.99946460909464,
          49.997046821964666,
          49.9969971340265,
          31.798247531246393,
          0,
          0,
          0,
          0,
          0,
          0,
          0
         ]
        }
       ],
       "layout": {
        "template": {
         "data": {
          "bar": [
           {
            "error_x": {
             "color": "#2a3f5f"
            },
            "error_y": {
             "color": "#2a3f5f"
            },
            "marker": {
             "line": {
              "color": "#E5ECF6",
              "width": 0.5
             },
             "pattern": {
              "fillmode": "overlay",
              "size": 10,
              "solidity": 0.2
             }
            },
            "type": "bar"
           }
          ],
          "barpolar": [
           {
            "marker": {
             "line": {
              "color": "#E5ECF6",
              "width": 0.5
             },
             "pattern": {
              "fillmode": "overlay",
              "size": 10,
              "solidity": 0.2
             }
            },
            "type": "barpolar"
           }
          ],
          "carpet": [
           {
            "aaxis": {
             "endlinecolor": "#2a3f5f",
             "gridcolor": "white",
             "linecolor": "white",
             "minorgridcolor": "white",
             "startlinecolor": "#2a3f5f"
            },
            "baxis": {
             "endlinecolor": "#2a3f5f",
             "gridcolor": "white",
             "linecolor": "white",
             "minorgridcolor": "white",
             "startlinecolor": "#2a3f5f"
            },
            "type": "carpet"
           }
          ],
          "choropleth": [
           {
            "colorbar": {
             "outlinewidth": 0,
             "ticks": ""
            },
            "type": "choropleth"
           }
          ],
          "contour": [
           {
            "colorbar": {
             "outlinewidth": 0,
             "ticks": ""
            },
            "colorscale": [
             [
              0,
              "#0d0887"
             ],
             [
              0.1111111111111111,
              "#46039f"
             ],
             [
              0.2222222222222222,
              "#7201a8"
             ],
             [
              0.3333333333333333,
              "#9c179e"
             ],
             [
              0.4444444444444444,
              "#bd3786"
             ],
             [
              0.5555555555555556,
              "#d8576b"
             ],
             [
              0.6666666666666666,
              "#ed7953"
             ],
             [
              0.7777777777777778,
              "#fb9f3a"
             ],
             [
              0.8888888888888888,
              "#fdca26"
             ],
             [
              1,
              "#f0f921"
             ]
            ],
            "type": "contour"
           }
          ],
          "contourcarpet": [
           {
            "colorbar": {
             "outlinewidth": 0,
             "ticks": ""
            },
            "type": "contourcarpet"
           }
          ],
          "heatmap": [
           {
            "colorbar": {
             "outlinewidth": 0,
             "ticks": ""
            },
            "colorscale": [
             [
              0,
              "#0d0887"
             ],
             [
              0.1111111111111111,
              "#46039f"
             ],
             [
              0.2222222222222222,
              "#7201a8"
             ],
             [
              0.3333333333333333,
              "#9c179e"
             ],
             [
              0.4444444444444444,
              "#bd3786"
             ],
             [
              0.5555555555555556,
              "#d8576b"
             ],
             [
              0.6666666666666666,
              "#ed7953"
             ],
             [
              0.7777777777777778,
              "#fb9f3a"
             ],
             [
              0.8888888888888888,
              "#fdca26"
             ],
             [
              1,
              "#f0f921"
             ]
            ],
            "type": "heatmap"
           }
          ],
          "heatmapgl": [
           {
            "colorbar": {
             "outlinewidth": 0,
             "ticks": ""
            },
            "colorscale": [
             [
              0,
              "#0d0887"
             ],
             [
              0.1111111111111111,
              "#46039f"
             ],
             [
              0.2222222222222222,
              "#7201a8"
             ],
             [
              0.3333333333333333,
              "#9c179e"
             ],
             [
              0.4444444444444444,
              "#bd3786"
             ],
             [
              0.5555555555555556,
              "#d8576b"
             ],
             [
              0.6666666666666666,
              "#ed7953"
             ],
             [
              0.7777777777777778,
              "#fb9f3a"
             ],
             [
              0.8888888888888888,
              "#fdca26"
             ],
             [
              1,
              "#f0f921"
             ]
            ],
            "type": "heatmapgl"
           }
          ],
          "histogram": [
           {
            "marker": {
             "pattern": {
              "fillmode": "overlay",
              "size": 10,
              "solidity": 0.2
             }
            },
            "type": "histogram"
           }
          ],
          "histogram2d": [
           {
            "colorbar": {
             "outlinewidth": 0,
             "ticks": ""
            },
            "colorscale": [
             [
              0,
              "#0d0887"
             ],
             [
              0.1111111111111111,
              "#46039f"
             ],
             [
              0.2222222222222222,
              "#7201a8"
             ],
             [
              0.3333333333333333,
              "#9c179e"
             ],
             [
              0.4444444444444444,
              "#bd3786"
             ],
             [
              0.5555555555555556,
              "#d8576b"
             ],
             [
              0.6666666666666666,
              "#ed7953"
             ],
             [
              0.7777777777777778,
              "#fb9f3a"
             ],
             [
              0.8888888888888888,
              "#fdca26"
             ],
             [
              1,
              "#f0f921"
             ]
            ],
            "type": "histogram2d"
           }
          ],
          "histogram2dcontour": [
           {
            "colorbar": {
             "outlinewidth": 0,
             "ticks": ""
            },
            "colorscale": [
             [
              0,
              "#0d0887"
             ],
             [
              0.1111111111111111,
              "#46039f"
             ],
             [
              0.2222222222222222,
              "#7201a8"
             ],
             [
              0.3333333333333333,
              "#9c179e"
             ],
             [
              0.4444444444444444,
              "#bd3786"
             ],
             [
              0.5555555555555556,
              "#d8576b"
             ],
             [
              0.6666666666666666,
              "#ed7953"
             ],
             [
              0.7777777777777778,
              "#fb9f3a"
             ],
             [
              0.8888888888888888,
              "#fdca26"
             ],
             [
              1,
              "#f0f921"
             ]
            ],
            "type": "histogram2dcontour"
           }
          ],
          "mesh3d": [
           {
            "colorbar": {
             "outlinewidth": 0,
             "ticks": ""
            },
            "type": "mesh3d"
           }
          ],
          "parcoords": [
           {
            "line": {
             "colorbar": {
              "outlinewidth": 0,
              "ticks": ""
             }
            },
            "type": "parcoords"
           }
          ],
          "pie": [
           {
            "automargin": true,
            "type": "pie"
           }
          ],
          "scatter": [
           {
            "marker": {
             "colorbar": {
              "outlinewidth": 0,
              "ticks": ""
             }
            },
            "type": "scatter"
           }
          ],
          "scatter3d": [
           {
            "line": {
             "colorbar": {
              "outlinewidth": 0,
              "ticks": ""
             }
            },
            "marker": {
             "colorbar": {
              "outlinewidth": 0,
              "ticks": ""
             }
            },
            "type": "scatter3d"
           }
          ],
          "scattercarpet": [
           {
            "marker": {
             "colorbar": {
              "outlinewidth": 0,
              "ticks": ""
             }
            },
            "type": "scattercarpet"
           }
          ],
          "scattergeo": [
           {
            "marker": {
             "colorbar": {
              "outlinewidth": 0,
              "ticks": ""
             }
            },
            "type": "scattergeo"
           }
          ],
          "scattergl": [
           {
            "marker": {
             "colorbar": {
              "outlinewidth": 0,
              "ticks": ""
             }
            },
            "type": "scattergl"
           }
          ],
          "scattermapbox": [
           {
            "marker": {
             "colorbar": {
              "outlinewidth": 0,
              "ticks": ""
             }
            },
            "type": "scattermapbox"
           }
          ],
          "scatterpolar": [
           {
            "marker": {
             "colorbar": {
              "outlinewidth": 0,
              "ticks": ""
             }
            },
            "type": "scatterpolar"
           }
          ],
          "scatterpolargl": [
           {
            "marker": {
             "colorbar": {
              "outlinewidth": 0,
              "ticks": ""
             }
            },
            "type": "scatterpolargl"
           }
          ],
          "scatterternary": [
           {
            "marker": {
             "colorbar": {
              "outlinewidth": 0,
              "ticks": ""
             }
            },
            "type": "scatterternary"
           }
          ],
          "surface": [
           {
            "colorbar": {
             "outlinewidth": 0,
             "ticks": ""
            },
            "colorscale": [
             [
              0,
              "#0d0887"
             ],
             [
              0.1111111111111111,
              "#46039f"
             ],
             [
              0.2222222222222222,
              "#7201a8"
             ],
             [
              0.3333333333333333,
              "#9c179e"
             ],
             [
              0.4444444444444444,
              "#bd3786"
             ],
             [
              0.5555555555555556,
              "#d8576b"
             ],
             [
              0.6666666666666666,
              "#ed7953"
             ],
             [
              0.7777777777777778,
              "#fb9f3a"
             ],
             [
              0.8888888888888888,
              "#fdca26"
             ],
             [
              1,
              "#f0f921"
             ]
            ],
            "type": "surface"
           }
          ],
          "table": [
           {
            "cells": {
             "fill": {
              "color": "#EBF0F8"
             },
             "line": {
              "color": "white"
             }
            },
            "header": {
             "fill": {
              "color": "#C8D4E3"
             },
             "line": {
              "color": "white"
             }
            },
            "type": "table"
           }
          ]
         },
         "layout": {
          "annotationdefaults": {
           "arrowcolor": "#2a3f5f",
           "arrowhead": 0,
           "arrowwidth": 1
          },
          "autotypenumbers": "strict",
          "coloraxis": {
           "colorbar": {
            "outlinewidth": 0,
            "ticks": ""
           }
          },
          "colorscale": {
           "diverging": [
            [
             0,
             "#8e0152"
            ],
            [
             0.1,
             "#c51b7d"
            ],
            [
             0.2,
             "#de77ae"
            ],
            [
             0.3,
             "#f1b6da"
            ],
            [
             0.4,
             "#fde0ef"
            ],
            [
             0.5,
             "#f7f7f7"
            ],
            [
             0.6,
             "#e6f5d0"
            ],
            [
             0.7,
             "#b8e186"
            ],
            [
             0.8,
             "#7fbc41"
            ],
            [
             0.9,
             "#4d9221"
            ],
            [
             1,
             "#276419"
            ]
           ],
           "sequential": [
            [
             0,
             "#0d0887"
            ],
            [
             0.1111111111111111,
             "#46039f"
            ],
            [
             0.2222222222222222,
             "#7201a8"
            ],
            [
             0.3333333333333333,
             "#9c179e"
            ],
            [
             0.4444444444444444,
             "#bd3786"
            ],
            [
             0.5555555555555556,
             "#d8576b"
            ],
            [
             0.6666666666666666,
             "#ed7953"
            ],
            [
             0.7777777777777778,
             "#fb9f3a"
            ],
            [
             0.8888888888888888,
             "#fdca26"
            ],
            [
             1,
             "#f0f921"
            ]
           ],
           "sequentialminus": [
            [
             0,
             "#0d0887"
            ],
            [
             0.1111111111111111,
             "#46039f"
            ],
            [
             0.2222222222222222,
             "#7201a8"
            ],
            [
             0.3333333333333333,
             "#9c179e"
            ],
            [
             0.4444444444444444,
             "#bd3786"
            ],
            [
             0.5555555555555556,
             "#d8576b"
            ],
            [
             0.6666666666666666,
             "#ed7953"
            ],
            [
             0.7777777777777778,
             "#fb9f3a"
            ],
            [
             0.8888888888888888,
             "#fdca26"
            ],
            [
             1,
             "#f0f921"
            ]
           ]
          },
          "colorway": [
           "#636efa",
           "#EF553B",
           "#00cc96",
           "#ab63fa",
           "#FFA15A",
           "#19d3f3",
           "#FF6692",
           "#B6E880",
           "#FF97FF",
           "#FECB52"
          ],
          "font": {
           "color": "#2a3f5f"
          },
          "geo": {
           "bgcolor": "white",
           "lakecolor": "white",
           "landcolor": "#E5ECF6",
           "showlakes": true,
           "showland": true,
           "subunitcolor": "white"
          },
          "hoverlabel": {
           "align": "left"
          },
          "hovermode": "closest",
          "mapbox": {
           "style": "light"
          },
          "paper_bgcolor": "white",
          "plot_bgcolor": "#E5ECF6",
          "polar": {
           "angularaxis": {
            "gridcolor": "white",
            "linecolor": "white",
            "ticks": ""
           },
           "bgcolor": "#E5ECF6",
           "radialaxis": {
            "gridcolor": "white",
            "linecolor": "white",
            "ticks": ""
           }
          },
          "scene": {
           "xaxis": {
            "backgroundcolor": "#E5ECF6",
            "gridcolor": "white",
            "gridwidth": 2,
            "linecolor": "white",
            "showbackground": true,
            "ticks": "",
            "zerolinecolor": "white"
           },
           "yaxis": {
            "backgroundcolor": "#E5ECF6",
            "gridcolor": "white",
            "gridwidth": 2,
            "linecolor": "white",
            "showbackground": true,
            "ticks": "",
            "zerolinecolor": "white"
           },
           "zaxis": {
            "backgroundcolor": "#E5ECF6",
            "gridcolor": "white",
            "gridwidth": 2,
            "linecolor": "white",
            "showbackground": true,
            "ticks": "",
            "zerolinecolor": "white"
           }
          },
          "shapedefaults": {
           "line": {
            "color": "#2a3f5f"
           }
          },
          "ternary": {
           "aaxis": {
            "gridcolor": "white",
            "linecolor": "white",
            "ticks": ""
           },
           "baxis": {
            "gridcolor": "white",
            "linecolor": "white",
            "ticks": ""
           },
           "bgcolor": "#E5ECF6",
           "caxis": {
            "gridcolor": "white",
            "linecolor": "white",
            "ticks": ""
           }
          },
          "title": {
           "x": 0.05
          },
          "xaxis": {
           "automargin": true,
           "gridcolor": "white",
           "linecolor": "white",
           "ticks": "",
           "title": {
            "standoff": 15
           },
           "zerolinecolor": "white",
           "zerolinewidth": 2
          },
          "yaxis": {
           "automargin": true,
           "gridcolor": "white",
           "linecolor": "white",
           "ticks": "",
           "title": {
            "standoff": 15
           },
           "zerolinecolor": "white",
           "zerolinewidth": 2
          }
         }
        },
        "title": {
         "text": "Production and consumption"
        }
       }
      }
     },
     "metadata": {},
     "output_type": "display_data"
    },
    {
     "data": {
      "application/vnd.plotly.v1+json": {
       "config": {
        "plotlyServerURL": "https://plot.ly"
       },
       "data": [
        {
         "name": "Rsv 1 storage",
         "type": "scatter",
         "x": [
          "2022-04-16T00:00:00",
          "2022-04-16T01:00:00",
          "2022-04-16T02:00:00",
          "2022-04-16T03:00:00",
          "2022-04-16T04:00:00",
          "2022-04-16T05:00:00",
          "2022-04-16T06:00:00",
          "2022-04-16T07:00:00",
          "2022-04-16T08:00:00",
          "2022-04-16T09:00:00",
          "2022-04-16T10:00:00",
          "2022-04-16T11:00:00",
          "2022-04-16T12:00:00",
          "2022-04-16T13:00:00",
          "2022-04-16T14:00:00",
          "2022-04-16T15:00:00",
          "2022-04-16T16:00:00",
          "2022-04-16T17:00:00",
          "2022-04-16T18:00:00",
          "2022-04-16T19:00:00",
          "2022-04-16T20:00:00",
          "2022-04-16T21:00:00",
          "2022-04-16T22:00:00",
          "2022-04-16T23:00:00",
          "2022-04-17T00:00:00",
          "2022-04-17T01:00:00",
          "2022-04-17T02:00:00",
          "2022-04-17T03:00:00",
          "2022-04-17T04:00:00",
          "2022-04-17T05:00:00",
          "2022-04-17T06:00:00",
          "2022-04-17T07:00:00",
          "2022-04-17T08:00:00",
          "2022-04-17T09:00:00",
          "2022-04-17T10:00:00",
          "2022-04-17T11:00:00",
          "2022-04-17T12:00:00",
          "2022-04-17T13:00:00",
          "2022-04-17T14:00:00",
          "2022-04-17T15:00:00",
          "2022-04-17T16:00:00",
          "2022-04-17T17:00:00",
          "2022-04-17T18:00:00",
          "2022-04-17T19:00:00",
          "2022-04-17T20:00:00",
          "2022-04-17T21:00:00",
          "2022-04-17T22:00:00",
          "2022-04-17T23:00:00",
          "2022-04-18T00:00:00",
          "2022-04-18T01:00:00",
          "2022-04-18T02:00:00",
          "2022-04-18T03:00:00",
          "2022-04-18T04:00:00",
          "2022-04-18T05:00:00",
          "2022-04-18T06:00:00",
          "2022-04-18T07:00:00",
          "2022-04-18T08:00:00",
          "2022-04-18T09:00:00",
          "2022-04-18T10:00:00",
          "2022-04-18T11:00:00",
          "2022-04-18T12:00:00",
          "2022-04-18T13:00:00",
          "2022-04-18T14:00:00",
          "2022-04-18T15:00:00",
          "2022-04-18T16:00:00",
          "2022-04-18T17:00:00",
          "2022-04-18T18:00:00",
          "2022-04-18T19:00:00",
          "2022-04-18T20:00:00",
          "2022-04-18T21:00:00",
          "2022-04-18T22:00:00",
          "2022-04-18T23:00:00",
          "2022-04-19T00:00:00"
         ],
         "y": [
          6,
          5.850385653115552,
          5.691024881557371,
          5.53424664683435,
          5.379138682160618,
          5.225703740991179,
          5.073944900433668,
          4.923851258001508,
          4.775406954986119,
          4.628594645732159,
          4.4833966376241445,
          4.339795258745727,
          4.197772975303735,
          4.12213424622704,
          4.053514405708785,
          4.169100047167251,
          4.297911184406746,
          4.426015796215006,
          4.371811519845352,
          4.240355638792789,
          4.090770539286774,
          3.94069826412873,
          3.7911835790903923,
          3.642018267932161,
          3.5082000511535396,
          3.377166359408534,
          3.3138410065714994,
          3.2571108588947197,
          3.382571739705429,
          3.521137035329622,
          3.6588622423946786,
          3.6152664253155877,
          3.5594233585991333,
          3.5055512005592617,
          3.3853150087891777,
          3.260902777310258,
          3.1381451765798545,
          3.0846121410049876,
          3.217732864703919,
          3.3633436473674694,
          3.5080108158349845,
          3.6525604226614634,
          3.7969612488955646,
          3.681057375639688,
          3.5336076943716934,
          3.3863494429347214,
          3.23900177534847,
          3.091442271075164,
          2.9558707406768634,
          3.083194034328352,
          3.2297628530986002,
          3.374745761111728,
          3.5196339387265594,
          3.6643903989205056,
          3.8089810781693245,
          3.9533935538546303,
          3.917823086531712,
          3.8698257333207153,
          3.8087869385741726,
          3.6743220332922872,
          3.6071267448325215,
          3.5544790131496824,
          3.6985071048233067,
          3.845867103590763,
          3.9921843411096747,
          3.9496671066718876,
          3.810273491374244,
          3.6649223541667197,
          3.5199928955452267,
          3.3748157499664444,
          3.369494011572084,
          3.373677771565764,
          3.23642623073614
         ]
        },
        {
         "name": "Rsv 2 storage",
         "type": "scatter",
         "x": [
          "2022-04-16T00:00:00",
          "2022-04-16T01:00:00",
          "2022-04-16T02:00:00",
          "2022-04-16T03:00:00",
          "2022-04-16T04:00:00",
          "2022-04-16T05:00:00",
          "2022-04-16T06:00:00",
          "2022-04-16T07:00:00",
          "2022-04-16T08:00:00",
          "2022-04-16T09:00:00",
          "2022-04-16T10:00:00",
          "2022-04-16T11:00:00",
          "2022-04-16T12:00:00",
          "2022-04-16T13:00:00",
          "2022-04-16T14:00:00",
          "2022-04-16T15:00:00",
          "2022-04-16T16:00:00",
          "2022-04-16T17:00:00",
          "2022-04-16T18:00:00",
          "2022-04-16T19:00:00",
          "2022-04-16T20:00:00",
          "2022-04-16T21:00:00",
          "2022-04-16T22:00:00",
          "2022-04-16T23:00:00",
          "2022-04-17T00:00:00",
          "2022-04-17T01:00:00",
          "2022-04-17T02:00:00",
          "2022-04-17T03:00:00",
          "2022-04-17T04:00:00",
          "2022-04-17T05:00:00",
          "2022-04-17T06:00:00",
          "2022-04-17T07:00:00",
          "2022-04-17T08:00:00",
          "2022-04-17T09:00:00",
          "2022-04-17T10:00:00",
          "2022-04-17T11:00:00",
          "2022-04-17T12:00:00",
          "2022-04-17T13:00:00",
          "2022-04-17T14:00:00",
          "2022-04-17T15:00:00",
          "2022-04-17T16:00:00",
          "2022-04-17T17:00:00",
          "2022-04-17T18:00:00",
          "2022-04-17T19:00:00",
          "2022-04-17T20:00:00",
          "2022-04-17T21:00:00",
          "2022-04-17T22:00:00",
          "2022-04-17T23:00:00",
          "2022-04-18T00:00:00",
          "2022-04-18T01:00:00",
          "2022-04-18T02:00:00",
          "2022-04-18T03:00:00",
          "2022-04-18T04:00:00",
          "2022-04-18T05:00:00",
          "2022-04-18T06:00:00",
          "2022-04-18T07:00:00",
          "2022-04-18T08:00:00",
          "2022-04-18T09:00:00",
          "2022-04-18T10:00:00",
          "2022-04-18T11:00:00",
          "2022-04-18T12:00:00",
          "2022-04-18T13:00:00",
          "2022-04-18T14:00:00",
          "2022-04-18T15:00:00",
          "2022-04-18T16:00:00",
          "2022-04-18T17:00:00",
          "2022-04-18T18:00:00",
          "2022-04-18T19:00:00",
          "2022-04-18T20:00:00",
          "2022-04-18T21:00:00",
          "2022-04-18T22:00:00",
          "2022-04-18T23:00:00",
          "2022-04-19T00:00:00"
         ],
         "y": [
          6,
          6.1514706764708365,
          6.3098736646104046,
          6.466825351565757,
          6.622036503510628,
          6.775534810906936,
          6.927343352768759,
          7.077482087367753,
          7.225969814998649,
          7.372824830059978,
          7.518065130444365,
          7.661708485740303,
          7.8037724604459076,
          7.965267770245191,
          8.126632519999873,
          8.318032326392842,
          8.510006510206086,
          8.70001651395815,
          8.858335505012036,
          8.995086671028776,
          8.923965084548309,
          8.840042267797651,
          8.755682833300023,
          8.670931002525446,
          8.79112230880325,
          8.922365629315857,
          9.068100335996728,
          9.212502029086329,
          9.38510955134259,
          9.558493663792422,
          9.730198759840714,
          9.869384488003021,
          10.004166800700279,
          10.13679993089101,
          10.25237874368745,
          10.364580533659403,
          10.474625533152732,
          10.596641709805045,
          10.74968962393823,
          10.903860896423998,
          11.056665573281231,
          11.208367517593723,
          11.35897795056714,
          11.273883309809104,
          11.101281796476593,
          10.924657017922305,
          10.74817185218431,
          10.571831450731661,
          10.468073771128285,
          10.609911073433233,
          10.765993548565906,
          10.920595962860375,
          11.074068653156996,
          11.226418235800242,
          11.377660094357111,
          11.527813549836697,
          11.644289477053485,
          11.756648954415232,
          11.687889719140468,
          11.594615640173732,
          11.513181251613492,
          11.570057727635202,
          11.701561491553445,
          11.847285937389165,
          11.99176674648307,
          12.000049231544295,
          11.8311091035584,
          11.651962367878326,
          11.473093727542125,
          11.294390164642,
          11.147574984680148,
          11.004055039954403,
          10.829254719058389
         ]
        },
        {
         "name": "Rsv 3 storage",
         "type": "scatter",
         "x": [
          "2022-04-16T00:00:00",
          "2022-04-16T01:00:00",
          "2022-04-16T02:00:00",
          "2022-04-16T03:00:00",
          "2022-04-16T04:00:00",
          "2022-04-16T05:00:00",
          "2022-04-16T06:00:00",
          "2022-04-16T07:00:00",
          "2022-04-16T08:00:00",
          "2022-04-16T09:00:00",
          "2022-04-16T10:00:00",
          "2022-04-16T11:00:00",
          "2022-04-16T12:00:00",
          "2022-04-16T13:00:00",
          "2022-04-16T14:00:00",
          "2022-04-16T15:00:00",
          "2022-04-16T16:00:00",
          "2022-04-16T17:00:00",
          "2022-04-16T18:00:00",
          "2022-04-16T19:00:00",
          "2022-04-16T20:00:00",
          "2022-04-16T21:00:00",
          "2022-04-16T22:00:00",
          "2022-04-16T23:00:00",
          "2022-04-17T00:00:00",
          "2022-04-17T01:00:00",
          "2022-04-17T02:00:00",
          "2022-04-17T03:00:00",
          "2022-04-17T04:00:00",
          "2022-04-17T05:00:00",
          "2022-04-17T06:00:00",
          "2022-04-17T07:00:00",
          "2022-04-17T08:00:00",
          "2022-04-17T09:00:00",
          "2022-04-17T10:00:00",
          "2022-04-17T11:00:00",
          "2022-04-17T12:00:00",
          "2022-04-17T13:00:00",
          "2022-04-17T14:00:00",
          "2022-04-17T15:00:00",
          "2022-04-17T16:00:00",
          "2022-04-17T17:00:00",
          "2022-04-17T18:00:00",
          "2022-04-17T19:00:00",
          "2022-04-17T20:00:00",
          "2022-04-17T21:00:00",
          "2022-04-17T22:00:00",
          "2022-04-17T23:00:00",
          "2022-04-18T00:00:00",
          "2022-04-18T01:00:00",
          "2022-04-18T02:00:00",
          "2022-04-18T03:00:00",
          "2022-04-18T04:00:00",
          "2022-04-18T05:00:00",
          "2022-04-18T06:00:00",
          "2022-04-18T07:00:00",
          "2022-04-18T08:00:00",
          "2022-04-18T09:00:00",
          "2022-04-18T10:00:00",
          "2022-04-18T11:00:00",
          "2022-04-18T12:00:00",
          "2022-04-18T13:00:00",
          "2022-04-18T14:00:00",
          "2022-04-18T15:00:00",
          "2022-04-18T16:00:00",
          "2022-04-18T17:00:00",
          "2022-04-18T18:00:00",
          "2022-04-18T19:00:00",
          "2022-04-18T20:00:00",
          "2022-04-18T21:00:00",
          "2022-04-18T22:00:00",
          "2022-04-18T23:00:00",
          "2022-04-19T00:00:00"
         ],
         "y": [
          6,
          5.856,
          5.712,
          5.568,
          5.4239999999999995,
          5.279999999999999,
          5.135999999999999,
          4.991999999999999,
          4.847999999999999,
          4.703999999999999,
          4.559999999999999,
          4.415999999999999,
          4.2719999999999985,
          4.127999999999998,
          3.983999999999998,
          3.8422630240540396,
          3.7023212666223206,
          3.5641362863807067,
          3.4227575706382094,
          3.2787575706382093,
          3.368757570638209,
          3.458757570638209,
          3.548757570638209,
          3.6387575706382087,
          3.4947575706382086,
          3.3507575706382084,
          3.210416233732176,
          3.0714451481114673,
          2.9387746833317605,
          2.807697417707421,
          2.6781786621440062,
          2.5453362369708543,
          2.413712182501441,
          2.2832879979296514,
          2.150039906446376,
          2.0178621842433637,
          1.8867478012505736,
          1.760539518044988,
          1.6402624267024417,
          1.5213419638678918,
          1.4037454852342761,
          1.2874493164653023,
          1.1724328615274466,
          1.2624328615274467,
          1.4424328615274467,
          1.6224328615274466,
          1.8024328615274465,
          1.9824328615274465,
          2.0724328615274463,
          1.9499486121719156,
          1.8288194288509003,
          1.7090513969763201,
          1.5906184288216503,
          1.4734991242529574,
          1.357672492257149,
          1.2431179873657465,
          1.1251673574458643,
          1.0081781491034327,
          1.0981781491034328,
          1.188178149103433,
          1.278178149103433,
          1.2138694244972101,
          1.1005196631637115,
          0.9883825761912286,
          0.8774546063300911,
          0.8813379492980202,
          1.0613379492980202,
          1.24133794929802,
          1.42133794929802,
          1.60133794929802,
          1.78133794929802,
          1.9613379492980199,
          2.14133794929802
         ]
        }
       ],
       "layout": {
        "template": {
         "data": {
          "bar": [
           {
            "error_x": {
             "color": "#2a3f5f"
            },
            "error_y": {
             "color": "#2a3f5f"
            },
            "marker": {
             "line": {
              "color": "#E5ECF6",
              "width": 0.5
             },
             "pattern": {
              "fillmode": "overlay",
              "size": 10,
              "solidity": 0.2
             }
            },
            "type": "bar"
           }
          ],
          "barpolar": [
           {
            "marker": {
             "line": {
              "color": "#E5ECF6",
              "width": 0.5
             },
             "pattern": {
              "fillmode": "overlay",
              "size": 10,
              "solidity": 0.2
             }
            },
            "type": "barpolar"
           }
          ],
          "carpet": [
           {
            "aaxis": {
             "endlinecolor": "#2a3f5f",
             "gridcolor": "white",
             "linecolor": "white",
             "minorgridcolor": "white",
             "startlinecolor": "#2a3f5f"
            },
            "baxis": {
             "endlinecolor": "#2a3f5f",
             "gridcolor": "white",
             "linecolor": "white",
             "minorgridcolor": "white",
             "startlinecolor": "#2a3f5f"
            },
            "type": "carpet"
           }
          ],
          "choropleth": [
           {
            "colorbar": {
             "outlinewidth": 0,
             "ticks": ""
            },
            "type": "choropleth"
           }
          ],
          "contour": [
           {
            "colorbar": {
             "outlinewidth": 0,
             "ticks": ""
            },
            "colorscale": [
             [
              0,
              "#0d0887"
             ],
             [
              0.1111111111111111,
              "#46039f"
             ],
             [
              0.2222222222222222,
              "#7201a8"
             ],
             [
              0.3333333333333333,
              "#9c179e"
             ],
             [
              0.4444444444444444,
              "#bd3786"
             ],
             [
              0.5555555555555556,
              "#d8576b"
             ],
             [
              0.6666666666666666,
              "#ed7953"
             ],
             [
              0.7777777777777778,
              "#fb9f3a"
             ],
             [
              0.8888888888888888,
              "#fdca26"
             ],
             [
              1,
              "#f0f921"
             ]
            ],
            "type": "contour"
           }
          ],
          "contourcarpet": [
           {
            "colorbar": {
             "outlinewidth": 0,
             "ticks": ""
            },
            "type": "contourcarpet"
           }
          ],
          "heatmap": [
           {
            "colorbar": {
             "outlinewidth": 0,
             "ticks": ""
            },
            "colorscale": [
             [
              0,
              "#0d0887"
             ],
             [
              0.1111111111111111,
              "#46039f"
             ],
             [
              0.2222222222222222,
              "#7201a8"
             ],
             [
              0.3333333333333333,
              "#9c179e"
             ],
             [
              0.4444444444444444,
              "#bd3786"
             ],
             [
              0.5555555555555556,
              "#d8576b"
             ],
             [
              0.6666666666666666,
              "#ed7953"
             ],
             [
              0.7777777777777778,
              "#fb9f3a"
             ],
             [
              0.8888888888888888,
              "#fdca26"
             ],
             [
              1,
              "#f0f921"
             ]
            ],
            "type": "heatmap"
           }
          ],
          "heatmapgl": [
           {
            "colorbar": {
             "outlinewidth": 0,
             "ticks": ""
            },
            "colorscale": [
             [
              0,
              "#0d0887"
             ],
             [
              0.1111111111111111,
              "#46039f"
             ],
             [
              0.2222222222222222,
              "#7201a8"
             ],
             [
              0.3333333333333333,
              "#9c179e"
             ],
             [
              0.4444444444444444,
              "#bd3786"
             ],
             [
              0.5555555555555556,
              "#d8576b"
             ],
             [
              0.6666666666666666,
              "#ed7953"
             ],
             [
              0.7777777777777778,
              "#fb9f3a"
             ],
             [
              0.8888888888888888,
              "#fdca26"
             ],
             [
              1,
              "#f0f921"
             ]
            ],
            "type": "heatmapgl"
           }
          ],
          "histogram": [
           {
            "marker": {
             "pattern": {
              "fillmode": "overlay",
              "size": 10,
              "solidity": 0.2
             }
            },
            "type": "histogram"
           }
          ],
          "histogram2d": [
           {
            "colorbar": {
             "outlinewidth": 0,
             "ticks": ""
            },
            "colorscale": [
             [
              0,
              "#0d0887"
             ],
             [
              0.1111111111111111,
              "#46039f"
             ],
             [
              0.2222222222222222,
              "#7201a8"
             ],
             [
              0.3333333333333333,
              "#9c179e"
             ],
             [
              0.4444444444444444,
              "#bd3786"
             ],
             [
              0.5555555555555556,
              "#d8576b"
             ],
             [
              0.6666666666666666,
              "#ed7953"
             ],
             [
              0.7777777777777778,
              "#fb9f3a"
             ],
             [
              0.8888888888888888,
              "#fdca26"
             ],
             [
              1,
              "#f0f921"
             ]
            ],
            "type": "histogram2d"
           }
          ],
          "histogram2dcontour": [
           {
            "colorbar": {
             "outlinewidth": 0,
             "ticks": ""
            },
            "colorscale": [
             [
              0,
              "#0d0887"
             ],
             [
              0.1111111111111111,
              "#46039f"
             ],
             [
              0.2222222222222222,
              "#7201a8"
             ],
             [
              0.3333333333333333,
              "#9c179e"
             ],
             [
              0.4444444444444444,
              "#bd3786"
             ],
             [
              0.5555555555555556,
              "#d8576b"
             ],
             [
              0.6666666666666666,
              "#ed7953"
             ],
             [
              0.7777777777777778,
              "#fb9f3a"
             ],
             [
              0.8888888888888888,
              "#fdca26"
             ],
             [
              1,
              "#f0f921"
             ]
            ],
            "type": "histogram2dcontour"
           }
          ],
          "mesh3d": [
           {
            "colorbar": {
             "outlinewidth": 0,
             "ticks": ""
            },
            "type": "mesh3d"
           }
          ],
          "parcoords": [
           {
            "line": {
             "colorbar": {
              "outlinewidth": 0,
              "ticks": ""
             }
            },
            "type": "parcoords"
           }
          ],
          "pie": [
           {
            "automargin": true,
            "type": "pie"
           }
          ],
          "scatter": [
           {
            "marker": {
             "colorbar": {
              "outlinewidth": 0,
              "ticks": ""
             }
            },
            "type": "scatter"
           }
          ],
          "scatter3d": [
           {
            "line": {
             "colorbar": {
              "outlinewidth": 0,
              "ticks": ""
             }
            },
            "marker": {
             "colorbar": {
              "outlinewidth": 0,
              "ticks": ""
             }
            },
            "type": "scatter3d"
           }
          ],
          "scattercarpet": [
           {
            "marker": {
             "colorbar": {
              "outlinewidth": 0,
              "ticks": ""
             }
            },
            "type": "scattercarpet"
           }
          ],
          "scattergeo": [
           {
            "marker": {
             "colorbar": {
              "outlinewidth": 0,
              "ticks": ""
             }
            },
            "type": "scattergeo"
           }
          ],
          "scattergl": [
           {
            "marker": {
             "colorbar": {
              "outlinewidth": 0,
              "ticks": ""
             }
            },
            "type": "scattergl"
           }
          ],
          "scattermapbox": [
           {
            "marker": {
             "colorbar": {
              "outlinewidth": 0,
              "ticks": ""
             }
            },
            "type": "scattermapbox"
           }
          ],
          "scatterpolar": [
           {
            "marker": {
             "colorbar": {
              "outlinewidth": 0,
              "ticks": ""
             }
            },
            "type": "scatterpolar"
           }
          ],
          "scatterpolargl": [
           {
            "marker": {
             "colorbar": {
              "outlinewidth": 0,
              "ticks": ""
             }
            },
            "type": "scatterpolargl"
           }
          ],
          "scatterternary": [
           {
            "marker": {
             "colorbar": {
              "outlinewidth": 0,
              "ticks": ""
             }
            },
            "type": "scatterternary"
           }
          ],
          "surface": [
           {
            "colorbar": {
             "outlinewidth": 0,
             "ticks": ""
            },
            "colorscale": [
             [
              0,
              "#0d0887"
             ],
             [
              0.1111111111111111,
              "#46039f"
             ],
             [
              0.2222222222222222,
              "#7201a8"
             ],
             [
              0.3333333333333333,
              "#9c179e"
             ],
             [
              0.4444444444444444,
              "#bd3786"
             ],
             [
              0.5555555555555556,
              "#d8576b"
             ],
             [
              0.6666666666666666,
              "#ed7953"
             ],
             [
              0.7777777777777778,
              "#fb9f3a"
             ],
             [
              0.8888888888888888,
              "#fdca26"
             ],
             [
              1,
              "#f0f921"
             ]
            ],
            "type": "surface"
           }
          ],
          "table": [
           {
            "cells": {
             "fill": {
              "color": "#EBF0F8"
             },
             "line": {
              "color": "white"
             }
            },
            "header": {
             "fill": {
              "color": "#C8D4E3"
             },
             "line": {
              "color": "white"
             }
            },
            "type": "table"
           }
          ]
         },
         "layout": {
          "annotationdefaults": {
           "arrowcolor": "#2a3f5f",
           "arrowhead": 0,
           "arrowwidth": 1
          },
          "autotypenumbers": "strict",
          "coloraxis": {
           "colorbar": {
            "outlinewidth": 0,
            "ticks": ""
           }
          },
          "colorscale": {
           "diverging": [
            [
             0,
             "#8e0152"
            ],
            [
             0.1,
             "#c51b7d"
            ],
            [
             0.2,
             "#de77ae"
            ],
            [
             0.3,
             "#f1b6da"
            ],
            [
             0.4,
             "#fde0ef"
            ],
            [
             0.5,
             "#f7f7f7"
            ],
            [
             0.6,
             "#e6f5d0"
            ],
            [
             0.7,
             "#b8e186"
            ],
            [
             0.8,
             "#7fbc41"
            ],
            [
             0.9,
             "#4d9221"
            ],
            [
             1,
             "#276419"
            ]
           ],
           "sequential": [
            [
             0,
             "#0d0887"
            ],
            [
             0.1111111111111111,
             "#46039f"
            ],
            [
             0.2222222222222222,
             "#7201a8"
            ],
            [
             0.3333333333333333,
             "#9c179e"
            ],
            [
             0.4444444444444444,
             "#bd3786"
            ],
            [
             0.5555555555555556,
             "#d8576b"
            ],
            [
             0.6666666666666666,
             "#ed7953"
            ],
            [
             0.7777777777777778,
             "#fb9f3a"
            ],
            [
             0.8888888888888888,
             "#fdca26"
            ],
            [
             1,
             "#f0f921"
            ]
           ],
           "sequentialminus": [
            [
             0,
             "#0d0887"
            ],
            [
             0.1111111111111111,
             "#46039f"
            ],
            [
             0.2222222222222222,
             "#7201a8"
            ],
            [
             0.3333333333333333,
             "#9c179e"
            ],
            [
             0.4444444444444444,
             "#bd3786"
            ],
            [
             0.5555555555555556,
             "#d8576b"
            ],
            [
             0.6666666666666666,
             "#ed7953"
            ],
            [
             0.7777777777777778,
             "#fb9f3a"
            ],
            [
             0.8888888888888888,
             "#fdca26"
            ],
            [
             1,
             "#f0f921"
            ]
           ]
          },
          "colorway": [
           "#636efa",
           "#EF553B",
           "#00cc96",
           "#ab63fa",
           "#FFA15A",
           "#19d3f3",
           "#FF6692",
           "#B6E880",
           "#FF97FF",
           "#FECB52"
          ],
          "font": {
           "color": "#2a3f5f"
          },
          "geo": {
           "bgcolor": "white",
           "lakecolor": "white",
           "landcolor": "#E5ECF6",
           "showlakes": true,
           "showland": true,
           "subunitcolor": "white"
          },
          "hoverlabel": {
           "align": "left"
          },
          "hovermode": "closest",
          "mapbox": {
           "style": "light"
          },
          "paper_bgcolor": "white",
          "plot_bgcolor": "#E5ECF6",
          "polar": {
           "angularaxis": {
            "gridcolor": "white",
            "linecolor": "white",
            "ticks": ""
           },
           "bgcolor": "#E5ECF6",
           "radialaxis": {
            "gridcolor": "white",
            "linecolor": "white",
            "ticks": ""
           }
          },
          "scene": {
           "xaxis": {
            "backgroundcolor": "#E5ECF6",
            "gridcolor": "white",
            "gridwidth": 2,
            "linecolor": "white",
            "showbackground": true,
            "ticks": "",
            "zerolinecolor": "white"
           },
           "yaxis": {
            "backgroundcolor": "#E5ECF6",
            "gridcolor": "white",
            "gridwidth": 2,
            "linecolor": "white",
            "showbackground": true,
            "ticks": "",
            "zerolinecolor": "white"
           },
           "zaxis": {
            "backgroundcolor": "#E5ECF6",
            "gridcolor": "white",
            "gridwidth": 2,
            "linecolor": "white",
            "showbackground": true,
            "ticks": "",
            "zerolinecolor": "white"
           }
          },
          "shapedefaults": {
           "line": {
            "color": "#2a3f5f"
           }
          },
          "ternary": {
           "aaxis": {
            "gridcolor": "white",
            "linecolor": "white",
            "ticks": ""
           },
           "baxis": {
            "gridcolor": "white",
            "linecolor": "white",
            "ticks": ""
           },
           "bgcolor": "#E5ECF6",
           "caxis": {
            "gridcolor": "white",
            "linecolor": "white",
            "ticks": ""
           }
          },
          "title": {
           "x": 0.05
          },
          "xaxis": {
           "automargin": true,
           "gridcolor": "white",
           "linecolor": "white",
           "ticks": "",
           "title": {
            "standoff": 15
           },
           "zerolinecolor": "white",
           "zerolinewidth": 2
          },
          "yaxis": {
           "automargin": true,
           "gridcolor": "white",
           "linecolor": "white",
           "ticks": "",
           "title": {
            "standoff": 15
           },
           "zerolinecolor": "white",
           "zerolinewidth": 2
          }
         }
        },
        "title": {
         "text": "Reservoir storage"
        }
       }
      }
     },
     "metadata": {},
     "output_type": "display_data"
    }
   ],
   "source": [
    "import plotly.graph_objects as go\n",
    "from IPython.display import HTML\n",
    "\n",
    "fig = go.Figure()\n",
    "plant1_prod = shop.model.plant.plant1.production.get()\n",
    "plant2_prod = shop.model.plant.plant2.production.get()\n",
    "plant2_cons = shop.model.plant.plant2.consumption.get()\n",
    "fig.add_trace(go.Scatter(x=plant1_prod.index, y=plant1_prod.values, name=\"Plant 1 production\"))\n",
    "fig.add_trace(go.Scatter(x=plant2_prod.index, y=plant2_prod.values, name=\"Plant 2 production\"))\n",
    "fig.add_trace(go.Scatter(x=plant2_cons.index, y=plant2_cons.values, name=\"Plant 2 consumption\"))\n",
    "fig.update_layout(title=\"Production and consumption\")\n",
    "fig.show()\n",
    "\n",
    "fig = go.Figure()\n",
    "rsv1_head = shop.model.reservoir.rsv1.storage.get()\n",
    "rsv2_head = shop.model.reservoir.rsv2.storage.get()\n",
    "rsv3_head = shop.model.reservoir.rsv3.storage.get()\n",
    "fig.add_trace(go.Scatter(x=rsv1_head.index, y=rsv1_head.values, name=\"Rsv 1 storage\"))\n",
    "fig.add_trace(go.Scatter(x=rsv1_head.index, y=rsv2_head.values, name=\"Rsv 2 storage\"))\n",
    "fig.add_trace(go.Scatter(x=rsv1_head.index, y=rsv3_head.values, name=\"Rsv 3 storage\"))\n",
    "fig.update_layout(title=\"Reservoir storage\")\n",
    "fig.show()"
   ]
  },
  {
   "cell_type": "markdown",
   "id": "f90718a0-dcb9-43e9-802d-c403a64ed8f1",
   "metadata": {},
   "source": [
    "## 2. Tunnel continuous gates\n",
    "The tunnel object can be equiped with gates to limit the flow, either as a continuous gate which can be opearted contiuously or a binary gate that can be operated at predifined positions. In our example, rsv1 is emptied before rsv2 due to the high loss between node 2 and 3. Therfore, it may be beneficial to limit the flow from rsv1 to increase the consumption from rsv2. We assume there is a continous gate installed below rsv1."
   ]
  },
  {
   "cell_type": "code",
   "execution_count": 62,
   "id": "7a4b482c-5a73-4d5e-8809-5f57d437a962",
   "metadata": {},
   "outputs": [],
   "source": [
    "def insert_contiuous_gate(shop):\n",
    "    shop.model.tunnel.t_r1_n1.gate_opening_curve.set(pd.Series([0,1], index=[0,1]))\n",
    "    shop.model.tunnel.t_r1_n1.initial_opening.set(1)\n",
    "    shop.model.tunnel.t_r1_n1.continuous_gate.set(1)"
   ]
  },
  {
   "cell_type": "code",
   "execution_count": 70,
   "id": "ca3aa5f3-98fc-441a-ba35-faaf7ecda57e",
   "metadata": {},
   "outputs": [
    {
     "name": "stdout",
     "output_type": "stream",
     "text": [
      "-570874.9778024225\n"
     ]
    },
    {
     "data": {
      "application/vnd.plotly.v1+json": {
       "config": {
        "plotlyServerURL": "https://plot.ly"
       },
       "data": [
        {
         "name": "Rsv 1 gate position",
         "type": "scatter",
         "x": [
          "2022-04-16T00:00:00",
          "2022-04-16T01:00:00",
          "2022-04-16T02:00:00",
          "2022-04-16T03:00:00",
          "2022-04-16T04:00:00",
          "2022-04-16T05:00:00",
          "2022-04-16T06:00:00",
          "2022-04-16T07:00:00",
          "2022-04-16T08:00:00",
          "2022-04-16T09:00:00",
          "2022-04-16T10:00:00",
          "2022-04-16T11:00:00",
          "2022-04-16T12:00:00",
          "2022-04-16T13:00:00",
          "2022-04-16T14:00:00",
          "2022-04-16T15:00:00",
          "2022-04-16T16:00:00",
          "2022-04-16T17:00:00",
          "2022-04-16T18:00:00",
          "2022-04-16T19:00:00",
          "2022-04-16T20:00:00",
          "2022-04-16T21:00:00",
          "2022-04-16T22:00:00",
          "2022-04-16T23:00:00",
          "2022-04-17T00:00:00",
          "2022-04-17T01:00:00",
          "2022-04-17T02:00:00",
          "2022-04-17T03:00:00",
          "2022-04-17T04:00:00",
          "2022-04-17T05:00:00",
          "2022-04-17T06:00:00",
          "2022-04-17T07:00:00",
          "2022-04-17T08:00:00",
          "2022-04-17T09:00:00",
          "2022-04-17T10:00:00",
          "2022-04-17T11:00:00",
          "2022-04-17T12:00:00",
          "2022-04-17T13:00:00",
          "2022-04-17T14:00:00",
          "2022-04-17T15:00:00",
          "2022-04-17T16:00:00",
          "2022-04-17T17:00:00",
          "2022-04-17T18:00:00",
          "2022-04-17T19:00:00",
          "2022-04-17T20:00:00",
          "2022-04-17T21:00:00",
          "2022-04-17T22:00:00",
          "2022-04-17T23:00:00",
          "2022-04-18T00:00:00",
          "2022-04-18T01:00:00",
          "2022-04-18T02:00:00",
          "2022-04-18T03:00:00",
          "2022-04-18T04:00:00",
          "2022-04-18T05:00:00",
          "2022-04-18T06:00:00",
          "2022-04-18T07:00:00",
          "2022-04-18T08:00:00",
          "2022-04-18T09:00:00",
          "2022-04-18T10:00:00",
          "2022-04-18T11:00:00",
          "2022-04-18T12:00:00",
          "2022-04-18T13:00:00",
          "2022-04-18T14:00:00",
          "2022-04-18T15:00:00",
          "2022-04-18T16:00:00",
          "2022-04-18T17:00:00",
          "2022-04-18T18:00:00",
          "2022-04-18T19:00:00",
          "2022-04-18T20:00:00",
          "2022-04-18T21:00:00",
          "2022-04-18T22:00:00",
          "2022-04-18T23:00:00"
         ],
         "y": [
          0,
          0,
          0,
          0,
          0,
          0,
          0,
          0,
          1,
          1,
          0,
          1,
          0,
          0,
          0,
          0,
          0,
          1,
          1,
          0,
          0,
          0,
          0,
          1,
          1,
          0,
          0,
          0,
          0,
          0,
          0,
          0,
          0,
          0,
          0,
          1,
          0,
          1,
          0,
          0,
          0,
          0,
          1,
          0,
          0,
          0,
          0,
          0,
          1,
          0,
          0,
          0,
          0,
          0,
          0,
          0,
          0,
          0,
          0,
          0,
          0,
          0,
          0,
          0,
          0,
          0,
          0,
          0,
          1,
          0,
          0,
          0
         ]
        }
       ],
       "layout": {
        "template": {
         "data": {
          "bar": [
           {
            "error_x": {
             "color": "#2a3f5f"
            },
            "error_y": {
             "color": "#2a3f5f"
            },
            "marker": {
             "line": {
              "color": "#E5ECF6",
              "width": 0.5
             },
             "pattern": {
              "fillmode": "overlay",
              "size": 10,
              "solidity": 0.2
             }
            },
            "type": "bar"
           }
          ],
          "barpolar": [
           {
            "marker": {
             "line": {
              "color": "#E5ECF6",
              "width": 0.5
             },
             "pattern": {
              "fillmode": "overlay",
              "size": 10,
              "solidity": 0.2
             }
            },
            "type": "barpolar"
           }
          ],
          "carpet": [
           {
            "aaxis": {
             "endlinecolor": "#2a3f5f",
             "gridcolor": "white",
             "linecolor": "white",
             "minorgridcolor": "white",
             "startlinecolor": "#2a3f5f"
            },
            "baxis": {
             "endlinecolor": "#2a3f5f",
             "gridcolor": "white",
             "linecolor": "white",
             "minorgridcolor": "white",
             "startlinecolor": "#2a3f5f"
            },
            "type": "carpet"
           }
          ],
          "choropleth": [
           {
            "colorbar": {
             "outlinewidth": 0,
             "ticks": ""
            },
            "type": "choropleth"
           }
          ],
          "contour": [
           {
            "colorbar": {
             "outlinewidth": 0,
             "ticks": ""
            },
            "colorscale": [
             [
              0,
              "#0d0887"
             ],
             [
              0.1111111111111111,
              "#46039f"
             ],
             [
              0.2222222222222222,
              "#7201a8"
             ],
             [
              0.3333333333333333,
              "#9c179e"
             ],
             [
              0.4444444444444444,
              "#bd3786"
             ],
             [
              0.5555555555555556,
              "#d8576b"
             ],
             [
              0.6666666666666666,
              "#ed7953"
             ],
             [
              0.7777777777777778,
              "#fb9f3a"
             ],
             [
              0.8888888888888888,
              "#fdca26"
             ],
             [
              1,
              "#f0f921"
             ]
            ],
            "type": "contour"
           }
          ],
          "contourcarpet": [
           {
            "colorbar": {
             "outlinewidth": 0,
             "ticks": ""
            },
            "type": "contourcarpet"
           }
          ],
          "heatmap": [
           {
            "colorbar": {
             "outlinewidth": 0,
             "ticks": ""
            },
            "colorscale": [
             [
              0,
              "#0d0887"
             ],
             [
              0.1111111111111111,
              "#46039f"
             ],
             [
              0.2222222222222222,
              "#7201a8"
             ],
             [
              0.3333333333333333,
              "#9c179e"
             ],
             [
              0.4444444444444444,
              "#bd3786"
             ],
             [
              0.5555555555555556,
              "#d8576b"
             ],
             [
              0.6666666666666666,
              "#ed7953"
             ],
             [
              0.7777777777777778,
              "#fb9f3a"
             ],
             [
              0.8888888888888888,
              "#fdca26"
             ],
             [
              1,
              "#f0f921"
             ]
            ],
            "type": "heatmap"
           }
          ],
          "heatmapgl": [
           {
            "colorbar": {
             "outlinewidth": 0,
             "ticks": ""
            },
            "colorscale": [
             [
              0,
              "#0d0887"
             ],
             [
              0.1111111111111111,
              "#46039f"
             ],
             [
              0.2222222222222222,
              "#7201a8"
             ],
             [
              0.3333333333333333,
              "#9c179e"
             ],
             [
              0.4444444444444444,
              "#bd3786"
             ],
             [
              0.5555555555555556,
              "#d8576b"
             ],
             [
              0.6666666666666666,
              "#ed7953"
             ],
             [
              0.7777777777777778,
              "#fb9f3a"
             ],
             [
              0.8888888888888888,
              "#fdca26"
             ],
             [
              1,
              "#f0f921"
             ]
            ],
            "type": "heatmapgl"
           }
          ],
          "histogram": [
           {
            "marker": {
             "pattern": {
              "fillmode": "overlay",
              "size": 10,
              "solidity": 0.2
             }
            },
            "type": "histogram"
           }
          ],
          "histogram2d": [
           {
            "colorbar": {
             "outlinewidth": 0,
             "ticks": ""
            },
            "colorscale": [
             [
              0,
              "#0d0887"
             ],
             [
              0.1111111111111111,
              "#46039f"
             ],
             [
              0.2222222222222222,
              "#7201a8"
             ],
             [
              0.3333333333333333,
              "#9c179e"
             ],
             [
              0.4444444444444444,
              "#bd3786"
             ],
             [
              0.5555555555555556,
              "#d8576b"
             ],
             [
              0.6666666666666666,
              "#ed7953"
             ],
             [
              0.7777777777777778,
              "#fb9f3a"
             ],
             [
              0.8888888888888888,
              "#fdca26"
             ],
             [
              1,
              "#f0f921"
             ]
            ],
            "type": "histogram2d"
           }
          ],
          "histogram2dcontour": [
           {
            "colorbar": {
             "outlinewidth": 0,
             "ticks": ""
            },
            "colorscale": [
             [
              0,
              "#0d0887"
             ],
             [
              0.1111111111111111,
              "#46039f"
             ],
             [
              0.2222222222222222,
              "#7201a8"
             ],
             [
              0.3333333333333333,
              "#9c179e"
             ],
             [
              0.4444444444444444,
              "#bd3786"
             ],
             [
              0.5555555555555556,
              "#d8576b"
             ],
             [
              0.6666666666666666,
              "#ed7953"
             ],
             [
              0.7777777777777778,
              "#fb9f3a"
             ],
             [
              0.8888888888888888,
              "#fdca26"
             ],
             [
              1,
              "#f0f921"
             ]
            ],
            "type": "histogram2dcontour"
           }
          ],
          "mesh3d": [
           {
            "colorbar": {
             "outlinewidth": 0,
             "ticks": ""
            },
            "type": "mesh3d"
           }
          ],
          "parcoords": [
           {
            "line": {
             "colorbar": {
              "outlinewidth": 0,
              "ticks": ""
             }
            },
            "type": "parcoords"
           }
          ],
          "pie": [
           {
            "automargin": true,
            "type": "pie"
           }
          ],
          "scatter": [
           {
            "marker": {
             "colorbar": {
              "outlinewidth": 0,
              "ticks": ""
             }
            },
            "type": "scatter"
           }
          ],
          "scatter3d": [
           {
            "line": {
             "colorbar": {
              "outlinewidth": 0,
              "ticks": ""
             }
            },
            "marker": {
             "colorbar": {
              "outlinewidth": 0,
              "ticks": ""
             }
            },
            "type": "scatter3d"
           }
          ],
          "scattercarpet": [
           {
            "marker": {
             "colorbar": {
              "outlinewidth": 0,
              "ticks": ""
             }
            },
            "type": "scattercarpet"
           }
          ],
          "scattergeo": [
           {
            "marker": {
             "colorbar": {
              "outlinewidth": 0,
              "ticks": ""
             }
            },
            "type": "scattergeo"
           }
          ],
          "scattergl": [
           {
            "marker": {
             "colorbar": {
              "outlinewidth": 0,
              "ticks": ""
             }
            },
            "type": "scattergl"
           }
          ],
          "scattermapbox": [
           {
            "marker": {
             "colorbar": {
              "outlinewidth": 0,
              "ticks": ""
             }
            },
            "type": "scattermapbox"
           }
          ],
          "scatterpolar": [
           {
            "marker": {
             "colorbar": {
              "outlinewidth": 0,
              "ticks": ""
             }
            },
            "type": "scatterpolar"
           }
          ],
          "scatterpolargl": [
           {
            "marker": {
             "colorbar": {
              "outlinewidth": 0,
              "ticks": ""
             }
            },
            "type": "scatterpolargl"
           }
          ],
          "scatterternary": [
           {
            "marker": {
             "colorbar": {
              "outlinewidth": 0,
              "ticks": ""
             }
            },
            "type": "scatterternary"
           }
          ],
          "surface": [
           {
            "colorbar": {
             "outlinewidth": 0,
             "ticks": ""
            },
            "colorscale": [
             [
              0,
              "#0d0887"
             ],
             [
              0.1111111111111111,
              "#46039f"
             ],
             [
              0.2222222222222222,
              "#7201a8"
             ],
             [
              0.3333333333333333,
              "#9c179e"
             ],
             [
              0.4444444444444444,
              "#bd3786"
             ],
             [
              0.5555555555555556,
              "#d8576b"
             ],
             [
              0.6666666666666666,
              "#ed7953"
             ],
             [
              0.7777777777777778,
              "#fb9f3a"
             ],
             [
              0.8888888888888888,
              "#fdca26"
             ],
             [
              1,
              "#f0f921"
             ]
            ],
            "type": "surface"
           }
          ],
          "table": [
           {
            "cells": {
             "fill": {
              "color": "#EBF0F8"
             },
             "line": {
              "color": "white"
             }
            },
            "header": {
             "fill": {
              "color": "#C8D4E3"
             },
             "line": {
              "color": "white"
             }
            },
            "type": "table"
           }
          ]
         },
         "layout": {
          "annotationdefaults": {
           "arrowcolor": "#2a3f5f",
           "arrowhead": 0,
           "arrowwidth": 1
          },
          "autotypenumbers": "strict",
          "coloraxis": {
           "colorbar": {
            "outlinewidth": 0,
            "ticks": ""
           }
          },
          "colorscale": {
           "diverging": [
            [
             0,
             "#8e0152"
            ],
            [
             0.1,
             "#c51b7d"
            ],
            [
             0.2,
             "#de77ae"
            ],
            [
             0.3,
             "#f1b6da"
            ],
            [
             0.4,
             "#fde0ef"
            ],
            [
             0.5,
             "#f7f7f7"
            ],
            [
             0.6,
             "#e6f5d0"
            ],
            [
             0.7,
             "#b8e186"
            ],
            [
             0.8,
             "#7fbc41"
            ],
            [
             0.9,
             "#4d9221"
            ],
            [
             1,
             "#276419"
            ]
           ],
           "sequential": [
            [
             0,
             "#0d0887"
            ],
            [
             0.1111111111111111,
             "#46039f"
            ],
            [
             0.2222222222222222,
             "#7201a8"
            ],
            [
             0.3333333333333333,
             "#9c179e"
            ],
            [
             0.4444444444444444,
             "#bd3786"
            ],
            [
             0.5555555555555556,
             "#d8576b"
            ],
            [
             0.6666666666666666,
             "#ed7953"
            ],
            [
             0.7777777777777778,
             "#fb9f3a"
            ],
            [
             0.8888888888888888,
             "#fdca26"
            ],
            [
             1,
             "#f0f921"
            ]
           ],
           "sequentialminus": [
            [
             0,
             "#0d0887"
            ],
            [
             0.1111111111111111,
             "#46039f"
            ],
            [
             0.2222222222222222,
             "#7201a8"
            ],
            [
             0.3333333333333333,
             "#9c179e"
            ],
            [
             0.4444444444444444,
             "#bd3786"
            ],
            [
             0.5555555555555556,
             "#d8576b"
            ],
            [
             0.6666666666666666,
             "#ed7953"
            ],
            [
             0.7777777777777778,
             "#fb9f3a"
            ],
            [
             0.8888888888888888,
             "#fdca26"
            ],
            [
             1,
             "#f0f921"
            ]
           ]
          },
          "colorway": [
           "#636efa",
           "#EF553B",
           "#00cc96",
           "#ab63fa",
           "#FFA15A",
           "#19d3f3",
           "#FF6692",
           "#B6E880",
           "#FF97FF",
           "#FECB52"
          ],
          "font": {
           "color": "#2a3f5f"
          },
          "geo": {
           "bgcolor": "white",
           "lakecolor": "white",
           "landcolor": "#E5ECF6",
           "showlakes": true,
           "showland": true,
           "subunitcolor": "white"
          },
          "hoverlabel": {
           "align": "left"
          },
          "hovermode": "closest",
          "mapbox": {
           "style": "light"
          },
          "paper_bgcolor": "white",
          "plot_bgcolor": "#E5ECF6",
          "polar": {
           "angularaxis": {
            "gridcolor": "white",
            "linecolor": "white",
            "ticks": ""
           },
           "bgcolor": "#E5ECF6",
           "radialaxis": {
            "gridcolor": "white",
            "linecolor": "white",
            "ticks": ""
           }
          },
          "scene": {
           "xaxis": {
            "backgroundcolor": "#E5ECF6",
            "gridcolor": "white",
            "gridwidth": 2,
            "linecolor": "white",
            "showbackground": true,
            "ticks": "",
            "zerolinecolor": "white"
           },
           "yaxis": {
            "backgroundcolor": "#E5ECF6",
            "gridcolor": "white",
            "gridwidth": 2,
            "linecolor": "white",
            "showbackground": true,
            "ticks": "",
            "zerolinecolor": "white"
           },
           "zaxis": {
            "backgroundcolor": "#E5ECF6",
            "gridcolor": "white",
            "gridwidth": 2,
            "linecolor": "white",
            "showbackground": true,
            "ticks": "",
            "zerolinecolor": "white"
           }
          },
          "shapedefaults": {
           "line": {
            "color": "#2a3f5f"
           }
          },
          "ternary": {
           "aaxis": {
            "gridcolor": "white",
            "linecolor": "white",
            "ticks": ""
           },
           "baxis": {
            "gridcolor": "white",
            "linecolor": "white",
            "ticks": ""
           },
           "bgcolor": "#E5ECF6",
           "caxis": {
            "gridcolor": "white",
            "linecolor": "white",
            "ticks": ""
           }
          },
          "title": {
           "x": 0.05
          },
          "xaxis": {
           "automargin": true,
           "gridcolor": "white",
           "linecolor": "white",
           "ticks": "",
           "title": {
            "standoff": 15
           },
           "zerolinecolor": "white",
           "zerolinewidth": 2
          },
          "yaxis": {
           "automargin": true,
           "gridcolor": "white",
           "linecolor": "white",
           "ticks": "",
           "title": {
            "standoff": 15
           },
           "zerolinecolor": "white",
           "zerolinewidth": 2
          }
         }
        },
        "title": {
         "text": "Gate postion"
        }
       }
      }
     },
     "metadata": {},
     "output_type": "display_data"
    },
    {
     "name": "stdout",
     "output_type": "stream",
     "text": [
      "-537984.1023475557\n"
     ]
    },
    {
     "data": {
      "application/vnd.plotly.v1+json": {
       "config": {
        "plotlyServerURL": "https://plot.ly"
       },
       "data": [
        {
         "name": "Rsv 1 gate position",
         "type": "scatter",
         "x": [
          "2022-04-16T00:00:00",
          "2022-04-16T01:00:00",
          "2022-04-16T02:00:00",
          "2022-04-16T03:00:00",
          "2022-04-16T04:00:00",
          "2022-04-16T05:00:00",
          "2022-04-16T06:00:00",
          "2022-04-16T07:00:00",
          "2022-04-16T08:00:00",
          "2022-04-16T09:00:00",
          "2022-04-16T10:00:00",
          "2022-04-16T11:00:00",
          "2022-04-16T12:00:00",
          "2022-04-16T13:00:00",
          "2022-04-16T14:00:00",
          "2022-04-16T15:00:00",
          "2022-04-16T16:00:00",
          "2022-04-16T17:00:00",
          "2022-04-16T18:00:00",
          "2022-04-16T19:00:00",
          "2022-04-16T20:00:00",
          "2022-04-16T21:00:00",
          "2022-04-16T22:00:00",
          "2022-04-16T23:00:00",
          "2022-04-17T00:00:00",
          "2022-04-17T01:00:00",
          "2022-04-17T02:00:00",
          "2022-04-17T03:00:00",
          "2022-04-17T04:00:00",
          "2022-04-17T05:00:00",
          "2022-04-17T06:00:00",
          "2022-04-17T07:00:00",
          "2022-04-17T08:00:00",
          "2022-04-17T09:00:00",
          "2022-04-17T10:00:00",
          "2022-04-17T11:00:00",
          "2022-04-17T12:00:00",
          "2022-04-17T13:00:00",
          "2022-04-17T14:00:00",
          "2022-04-17T15:00:00",
          "2022-04-17T16:00:00",
          "2022-04-17T17:00:00",
          "2022-04-17T18:00:00",
          "2022-04-17T19:00:00",
          "2022-04-17T20:00:00",
          "2022-04-17T21:00:00",
          "2022-04-17T22:00:00",
          "2022-04-17T23:00:00",
          "2022-04-18T00:00:00",
          "2022-04-18T01:00:00",
          "2022-04-18T02:00:00",
          "2022-04-18T03:00:00",
          "2022-04-18T04:00:00",
          "2022-04-18T05:00:00",
          "2022-04-18T06:00:00",
          "2022-04-18T07:00:00",
          "2022-04-18T08:00:00",
          "2022-04-18T09:00:00",
          "2022-04-18T10:00:00",
          "2022-04-18T11:00:00",
          "2022-04-18T12:00:00",
          "2022-04-18T13:00:00",
          "2022-04-18T14:00:00",
          "2022-04-18T15:00:00",
          "2022-04-18T16:00:00",
          "2022-04-18T17:00:00",
          "2022-04-18T18:00:00",
          "2022-04-18T19:00:00",
          "2022-04-18T20:00:00",
          "2022-04-18T21:00:00",
          "2022-04-18T22:00:00",
          "2022-04-18T23:00:00"
         ],
         "y": [
          0.1762708008732808,
          0,
          0,
          0,
          0,
          0,
          0,
          0,
          0,
          0,
          0.23792847146090157,
          0,
          0,
          0,
          0,
          0,
          0.4189590589991671,
          1,
          0.5726464262720943,
          0.23593678577497623,
          0,
          0,
          0,
          0,
          0,
          0,
          0,
          0,
          0,
          0,
          0,
          0,
          0,
          0,
          0,
          0,
          0,
          1,
          0.709979321943114,
          0.32833375096544337,
          0.2627324982629856,
          0,
          1,
          0.2526752144636734,
          0,
          0,
          0,
          0,
          1,
          0.7118377311819635,
          0.3300617452044776,
          0.3296766529274626,
          0.32925926083442997,
          0.32881538175987657,
          0.3385754349983663,
          0,
          0,
          0,
          0,
          0,
          0,
          0.35578550341601417,
          0.551423255202792,
          0.32405091145458575,
          0.022066191007368754,
          0,
          0,
          0,
          0,
          0.18220141654774993,
          0,
          0
         ]
        }
       ],
       "layout": {
        "template": {
         "data": {
          "bar": [
           {
            "error_x": {
             "color": "#2a3f5f"
            },
            "error_y": {
             "color": "#2a3f5f"
            },
            "marker": {
             "line": {
              "color": "#E5ECF6",
              "width": 0.5
             },
             "pattern": {
              "fillmode": "overlay",
              "size": 10,
              "solidity": 0.2
             }
            },
            "type": "bar"
           }
          ],
          "barpolar": [
           {
            "marker": {
             "line": {
              "color": "#E5ECF6",
              "width": 0.5
             },
             "pattern": {
              "fillmode": "overlay",
              "size": 10,
              "solidity": 0.2
             }
            },
            "type": "barpolar"
           }
          ],
          "carpet": [
           {
            "aaxis": {
             "endlinecolor": "#2a3f5f",
             "gridcolor": "white",
             "linecolor": "white",
             "minorgridcolor": "white",
             "startlinecolor": "#2a3f5f"
            },
            "baxis": {
             "endlinecolor": "#2a3f5f",
             "gridcolor": "white",
             "linecolor": "white",
             "minorgridcolor": "white",
             "startlinecolor": "#2a3f5f"
            },
            "type": "carpet"
           }
          ],
          "choropleth": [
           {
            "colorbar": {
             "outlinewidth": 0,
             "ticks": ""
            },
            "type": "choropleth"
           }
          ],
          "contour": [
           {
            "colorbar": {
             "outlinewidth": 0,
             "ticks": ""
            },
            "colorscale": [
             [
              0,
              "#0d0887"
             ],
             [
              0.1111111111111111,
              "#46039f"
             ],
             [
              0.2222222222222222,
              "#7201a8"
             ],
             [
              0.3333333333333333,
              "#9c179e"
             ],
             [
              0.4444444444444444,
              "#bd3786"
             ],
             [
              0.5555555555555556,
              "#d8576b"
             ],
             [
              0.6666666666666666,
              "#ed7953"
             ],
             [
              0.7777777777777778,
              "#fb9f3a"
             ],
             [
              0.8888888888888888,
              "#fdca26"
             ],
             [
              1,
              "#f0f921"
             ]
            ],
            "type": "contour"
           }
          ],
          "contourcarpet": [
           {
            "colorbar": {
             "outlinewidth": 0,
             "ticks": ""
            },
            "type": "contourcarpet"
           }
          ],
          "heatmap": [
           {
            "colorbar": {
             "outlinewidth": 0,
             "ticks": ""
            },
            "colorscale": [
             [
              0,
              "#0d0887"
             ],
             [
              0.1111111111111111,
              "#46039f"
             ],
             [
              0.2222222222222222,
              "#7201a8"
             ],
             [
              0.3333333333333333,
              "#9c179e"
             ],
             [
              0.4444444444444444,
              "#bd3786"
             ],
             [
              0.5555555555555556,
              "#d8576b"
             ],
             [
              0.6666666666666666,
              "#ed7953"
             ],
             [
              0.7777777777777778,
              "#fb9f3a"
             ],
             [
              0.8888888888888888,
              "#fdca26"
             ],
             [
              1,
              "#f0f921"
             ]
            ],
            "type": "heatmap"
           }
          ],
          "heatmapgl": [
           {
            "colorbar": {
             "outlinewidth": 0,
             "ticks": ""
            },
            "colorscale": [
             [
              0,
              "#0d0887"
             ],
             [
              0.1111111111111111,
              "#46039f"
             ],
             [
              0.2222222222222222,
              "#7201a8"
             ],
             [
              0.3333333333333333,
              "#9c179e"
             ],
             [
              0.4444444444444444,
              "#bd3786"
             ],
             [
              0.5555555555555556,
              "#d8576b"
             ],
             [
              0.6666666666666666,
              "#ed7953"
             ],
             [
              0.7777777777777778,
              "#fb9f3a"
             ],
             [
              0.8888888888888888,
              "#fdca26"
             ],
             [
              1,
              "#f0f921"
             ]
            ],
            "type": "heatmapgl"
           }
          ],
          "histogram": [
           {
            "marker": {
             "pattern": {
              "fillmode": "overlay",
              "size": 10,
              "solidity": 0.2
             }
            },
            "type": "histogram"
           }
          ],
          "histogram2d": [
           {
            "colorbar": {
             "outlinewidth": 0,
             "ticks": ""
            },
            "colorscale": [
             [
              0,
              "#0d0887"
             ],
             [
              0.1111111111111111,
              "#46039f"
             ],
             [
              0.2222222222222222,
              "#7201a8"
             ],
             [
              0.3333333333333333,
              "#9c179e"
             ],
             [
              0.4444444444444444,
              "#bd3786"
             ],
             [
              0.5555555555555556,
              "#d8576b"
             ],
             [
              0.6666666666666666,
              "#ed7953"
             ],
             [
              0.7777777777777778,
              "#fb9f3a"
             ],
             [
              0.8888888888888888,
              "#fdca26"
             ],
             [
              1,
              "#f0f921"
             ]
            ],
            "type": "histogram2d"
           }
          ],
          "histogram2dcontour": [
           {
            "colorbar": {
             "outlinewidth": 0,
             "ticks": ""
            },
            "colorscale": [
             [
              0,
              "#0d0887"
             ],
             [
              0.1111111111111111,
              "#46039f"
             ],
             [
              0.2222222222222222,
              "#7201a8"
             ],
             [
              0.3333333333333333,
              "#9c179e"
             ],
             [
              0.4444444444444444,
              "#bd3786"
             ],
             [
              0.5555555555555556,
              "#d8576b"
             ],
             [
              0.6666666666666666,
              "#ed7953"
             ],
             [
              0.7777777777777778,
              "#fb9f3a"
             ],
             [
              0.8888888888888888,
              "#fdca26"
             ],
             [
              1,
              "#f0f921"
             ]
            ],
            "type": "histogram2dcontour"
           }
          ],
          "mesh3d": [
           {
            "colorbar": {
             "outlinewidth": 0,
             "ticks": ""
            },
            "type": "mesh3d"
           }
          ],
          "parcoords": [
           {
            "line": {
             "colorbar": {
              "outlinewidth": 0,
              "ticks": ""
             }
            },
            "type": "parcoords"
           }
          ],
          "pie": [
           {
            "automargin": true,
            "type": "pie"
           }
          ],
          "scatter": [
           {
            "marker": {
             "colorbar": {
              "outlinewidth": 0,
              "ticks": ""
             }
            },
            "type": "scatter"
           }
          ],
          "scatter3d": [
           {
            "line": {
             "colorbar": {
              "outlinewidth": 0,
              "ticks": ""
             }
            },
            "marker": {
             "colorbar": {
              "outlinewidth": 0,
              "ticks": ""
             }
            },
            "type": "scatter3d"
           }
          ],
          "scattercarpet": [
           {
            "marker": {
             "colorbar": {
              "outlinewidth": 0,
              "ticks": ""
             }
            },
            "type": "scattercarpet"
           }
          ],
          "scattergeo": [
           {
            "marker": {
             "colorbar": {
              "outlinewidth": 0,
              "ticks": ""
             }
            },
            "type": "scattergeo"
           }
          ],
          "scattergl": [
           {
            "marker": {
             "colorbar": {
              "outlinewidth": 0,
              "ticks": ""
             }
            },
            "type": "scattergl"
           }
          ],
          "scattermapbox": [
           {
            "marker": {
             "colorbar": {
              "outlinewidth": 0,
              "ticks": ""
             }
            },
            "type": "scattermapbox"
           }
          ],
          "scatterpolar": [
           {
            "marker": {
             "colorbar": {
              "outlinewidth": 0,
              "ticks": ""
             }
            },
            "type": "scatterpolar"
           }
          ],
          "scatterpolargl": [
           {
            "marker": {
             "colorbar": {
              "outlinewidth": 0,
              "ticks": ""
             }
            },
            "type": "scatterpolargl"
           }
          ],
          "scatterternary": [
           {
            "marker": {
             "colorbar": {
              "outlinewidth": 0,
              "ticks": ""
             }
            },
            "type": "scatterternary"
           }
          ],
          "surface": [
           {
            "colorbar": {
             "outlinewidth": 0,
             "ticks": ""
            },
            "colorscale": [
             [
              0,
              "#0d0887"
             ],
             [
              0.1111111111111111,
              "#46039f"
             ],
             [
              0.2222222222222222,
              "#7201a8"
             ],
             [
              0.3333333333333333,
              "#9c179e"
             ],
             [
              0.4444444444444444,
              "#bd3786"
             ],
             [
              0.5555555555555556,
              "#d8576b"
             ],
             [
              0.6666666666666666,
              "#ed7953"
             ],
             [
              0.7777777777777778,
              "#fb9f3a"
             ],
             [
              0.8888888888888888,
              "#fdca26"
             ],
             [
              1,
              "#f0f921"
             ]
            ],
            "type": "surface"
           }
          ],
          "table": [
           {
            "cells": {
             "fill": {
              "color": "#EBF0F8"
             },
             "line": {
              "color": "white"
             }
            },
            "header": {
             "fill": {
              "color": "#C8D4E3"
             },
             "line": {
              "color": "white"
             }
            },
            "type": "table"
           }
          ]
         },
         "layout": {
          "annotationdefaults": {
           "arrowcolor": "#2a3f5f",
           "arrowhead": 0,
           "arrowwidth": 1
          },
          "autotypenumbers": "strict",
          "coloraxis": {
           "colorbar": {
            "outlinewidth": 0,
            "ticks": ""
           }
          },
          "colorscale": {
           "diverging": [
            [
             0,
             "#8e0152"
            ],
            [
             0.1,
             "#c51b7d"
            ],
            [
             0.2,
             "#de77ae"
            ],
            [
             0.3,
             "#f1b6da"
            ],
            [
             0.4,
             "#fde0ef"
            ],
            [
             0.5,
             "#f7f7f7"
            ],
            [
             0.6,
             "#e6f5d0"
            ],
            [
             0.7,
             "#b8e186"
            ],
            [
             0.8,
             "#7fbc41"
            ],
            [
             0.9,
             "#4d9221"
            ],
            [
             1,
             "#276419"
            ]
           ],
           "sequential": [
            [
             0,
             "#0d0887"
            ],
            [
             0.1111111111111111,
             "#46039f"
            ],
            [
             0.2222222222222222,
             "#7201a8"
            ],
            [
             0.3333333333333333,
             "#9c179e"
            ],
            [
             0.4444444444444444,
             "#bd3786"
            ],
            [
             0.5555555555555556,
             "#d8576b"
            ],
            [
             0.6666666666666666,
             "#ed7953"
            ],
            [
             0.7777777777777778,
             "#fb9f3a"
            ],
            [
             0.8888888888888888,
             "#fdca26"
            ],
            [
             1,
             "#f0f921"
            ]
           ],
           "sequentialminus": [
            [
             0,
             "#0d0887"
            ],
            [
             0.1111111111111111,
             "#46039f"
            ],
            [
             0.2222222222222222,
             "#7201a8"
            ],
            [
             0.3333333333333333,
             "#9c179e"
            ],
            [
             0.4444444444444444,
             "#bd3786"
            ],
            [
             0.5555555555555556,
             "#d8576b"
            ],
            [
             0.6666666666666666,
             "#ed7953"
            ],
            [
             0.7777777777777778,
             "#fb9f3a"
            ],
            [
             0.8888888888888888,
             "#fdca26"
            ],
            [
             1,
             "#f0f921"
            ]
           ]
          },
          "colorway": [
           "#636efa",
           "#EF553B",
           "#00cc96",
           "#ab63fa",
           "#FFA15A",
           "#19d3f3",
           "#FF6692",
           "#B6E880",
           "#FF97FF",
           "#FECB52"
          ],
          "font": {
           "color": "#2a3f5f"
          },
          "geo": {
           "bgcolor": "white",
           "lakecolor": "white",
           "landcolor": "#E5ECF6",
           "showlakes": true,
           "showland": true,
           "subunitcolor": "white"
          },
          "hoverlabel": {
           "align": "left"
          },
          "hovermode": "closest",
          "mapbox": {
           "style": "light"
          },
          "paper_bgcolor": "white",
          "plot_bgcolor": "#E5ECF6",
          "polar": {
           "angularaxis": {
            "gridcolor": "white",
            "linecolor": "white",
            "ticks": ""
           },
           "bgcolor": "#E5ECF6",
           "radialaxis": {
            "gridcolor": "white",
            "linecolor": "white",
            "ticks": ""
           }
          },
          "scene": {
           "xaxis": {
            "backgroundcolor": "#E5ECF6",
            "gridcolor": "white",
            "gridwidth": 2,
            "linecolor": "white",
            "showbackground": true,
            "ticks": "",
            "zerolinecolor": "white"
           },
           "yaxis": {
            "backgroundcolor": "#E5ECF6",
            "gridcolor": "white",
            "gridwidth": 2,
            "linecolor": "white",
            "showbackground": true,
            "ticks": "",
            "zerolinecolor": "white"
           },
           "zaxis": {
            "backgroundcolor": "#E5ECF6",
            "gridcolor": "white",
            "gridwidth": 2,
            "linecolor": "white",
            "showbackground": true,
            "ticks": "",
            "zerolinecolor": "white"
           }
          },
          "shapedefaults": {
           "line": {
            "color": "#2a3f5f"
           }
          },
          "ternary": {
           "aaxis": {
            "gridcolor": "white",
            "linecolor": "white",
            "ticks": ""
           },
           "baxis": {
            "gridcolor": "white",
            "linecolor": "white",
            "ticks": ""
           },
           "bgcolor": "#E5ECF6",
           "caxis": {
            "gridcolor": "white",
            "linecolor": "white",
            "ticks": ""
           }
          },
          "title": {
           "x": 0.05
          },
          "xaxis": {
           "automargin": true,
           "gridcolor": "white",
           "linecolor": "white",
           "ticks": "",
           "title": {
            "standoff": 15
           },
           "zerolinecolor": "white",
           "zerolinewidth": 2
          },
          "yaxis": {
           "automargin": true,
           "gridcolor": "white",
           "linecolor": "white",
           "ticks": "",
           "title": {
            "standoff": 15
           },
           "zerolinecolor": "white",
           "zerolinewidth": 2
          }
         }
        },
        "title": {
         "text": "Gate postion"
        }
       }
      }
     },
     "metadata": {},
     "output_type": "display_data"
    },
    {
     "name": "stdout",
     "output_type": "stream",
     "text": [
      "-499428.6450388582\n"
     ]
    },
    {
     "data": {
      "application/vnd.plotly.v1+json": {
       "config": {
        "plotlyServerURL": "https://plot.ly"
       },
       "data": [
        {
         "name": "Rsv 1 gate position",
         "type": "scatter",
         "x": [
          "2022-04-16T00:00:00",
          "2022-04-16T01:00:00",
          "2022-04-16T02:00:00",
          "2022-04-16T03:00:00",
          "2022-04-16T04:00:00",
          "2022-04-16T05:00:00",
          "2022-04-16T06:00:00",
          "2022-04-16T07:00:00",
          "2022-04-16T08:00:00",
          "2022-04-16T09:00:00",
          "2022-04-16T10:00:00",
          "2022-04-16T11:00:00",
          "2022-04-16T12:00:00",
          "2022-04-16T13:00:00",
          "2022-04-16T14:00:00",
          "2022-04-16T15:00:00",
          "2022-04-16T16:00:00",
          "2022-04-16T17:00:00",
          "2022-04-16T18:00:00",
          "2022-04-16T19:00:00",
          "2022-04-16T20:00:00",
          "2022-04-16T21:00:00",
          "2022-04-16T22:00:00",
          "2022-04-16T23:00:00",
          "2022-04-17T00:00:00",
          "2022-04-17T01:00:00",
          "2022-04-17T02:00:00",
          "2022-04-17T03:00:00",
          "2022-04-17T04:00:00",
          "2022-04-17T05:00:00",
          "2022-04-17T06:00:00",
          "2022-04-17T07:00:00",
          "2022-04-17T08:00:00",
          "2022-04-17T09:00:00",
          "2022-04-17T10:00:00",
          "2022-04-17T11:00:00",
          "2022-04-17T12:00:00",
          "2022-04-17T13:00:00",
          "2022-04-17T14:00:00",
          "2022-04-17T15:00:00",
          "2022-04-17T16:00:00",
          "2022-04-17T17:00:00",
          "2022-04-17T18:00:00",
          "2022-04-17T19:00:00",
          "2022-04-17T20:00:00",
          "2022-04-17T21:00:00",
          "2022-04-17T22:00:00",
          "2022-04-17T23:00:00",
          "2022-04-18T00:00:00",
          "2022-04-18T01:00:00",
          "2022-04-18T02:00:00",
          "2022-04-18T03:00:00",
          "2022-04-18T04:00:00",
          "2022-04-18T05:00:00",
          "2022-04-18T06:00:00",
          "2022-04-18T07:00:00",
          "2022-04-18T08:00:00",
          "2022-04-18T09:00:00",
          "2022-04-18T10:00:00",
          "2022-04-18T11:00:00",
          "2022-04-18T12:00:00",
          "2022-04-18T13:00:00",
          "2022-04-18T14:00:00",
          "2022-04-18T15:00:00",
          "2022-04-18T16:00:00",
          "2022-04-18T17:00:00",
          "2022-04-18T18:00:00",
          "2022-04-18T19:00:00",
          "2022-04-18T20:00:00",
          "2022-04-18T21:00:00",
          "2022-04-18T22:00:00",
          "2022-04-18T23:00:00"
         ],
         "y": [
          0,
          0.11408016426083176,
          0,
          0,
          0,
          0,
          0,
          0,
          0,
          0,
          0,
          0.11533311260313021,
          0,
          0,
          0,
          1,
          1,
          0,
          0.3994830200138664,
          0,
          0.1634535362474338,
          0.15397694166760337,
          0,
          0.07138375776328117,
          0,
          0.5848405083984874,
          0.05456570855302843,
          0.7862609404162627,
          1,
          0,
          0,
          0,
          0,
          0,
          0,
          0,
          0.16304566771584694,
          1,
          1,
          1,
          1,
          0.03586803101411809,
          1,
          0,
          0.15838345809782045,
          0.1570516274860712,
          0,
          0,
          1,
          1,
          1,
          1,
          1,
          1,
          1,
          0.29385986942139597,
          0.14181546424803457,
          0,
          0,
          0,
          0,
          1,
          1,
          1,
          0.25544083426500613,
          0.4918408014546623,
          0.13625439935355788,
          0.09275118465541421,
          0.06864665241820901,
          0,
          0.17252898140210762,
          0.08819928109011273
         ]
        }
       ],
       "layout": {
        "template": {
         "data": {
          "bar": [
           {
            "error_x": {
             "color": "#2a3f5f"
            },
            "error_y": {
             "color": "#2a3f5f"
            },
            "marker": {
             "line": {
              "color": "#E5ECF6",
              "width": 0.5
             },
             "pattern": {
              "fillmode": "overlay",
              "size": 10,
              "solidity": 0.2
             }
            },
            "type": "bar"
           }
          ],
          "barpolar": [
           {
            "marker": {
             "line": {
              "color": "#E5ECF6",
              "width": 0.5
             },
             "pattern": {
              "fillmode": "overlay",
              "size": 10,
              "solidity": 0.2
             }
            },
            "type": "barpolar"
           }
          ],
          "carpet": [
           {
            "aaxis": {
             "endlinecolor": "#2a3f5f",
             "gridcolor": "white",
             "linecolor": "white",
             "minorgridcolor": "white",
             "startlinecolor": "#2a3f5f"
            },
            "baxis": {
             "endlinecolor": "#2a3f5f",
             "gridcolor": "white",
             "linecolor": "white",
             "minorgridcolor": "white",
             "startlinecolor": "#2a3f5f"
            },
            "type": "carpet"
           }
          ],
          "choropleth": [
           {
            "colorbar": {
             "outlinewidth": 0,
             "ticks": ""
            },
            "type": "choropleth"
           }
          ],
          "contour": [
           {
            "colorbar": {
             "outlinewidth": 0,
             "ticks": ""
            },
            "colorscale": [
             [
              0,
              "#0d0887"
             ],
             [
              0.1111111111111111,
              "#46039f"
             ],
             [
              0.2222222222222222,
              "#7201a8"
             ],
             [
              0.3333333333333333,
              "#9c179e"
             ],
             [
              0.4444444444444444,
              "#bd3786"
             ],
             [
              0.5555555555555556,
              "#d8576b"
             ],
             [
              0.6666666666666666,
              "#ed7953"
             ],
             [
              0.7777777777777778,
              "#fb9f3a"
             ],
             [
              0.8888888888888888,
              "#fdca26"
             ],
             [
              1,
              "#f0f921"
             ]
            ],
            "type": "contour"
           }
          ],
          "contourcarpet": [
           {
            "colorbar": {
             "outlinewidth": 0,
             "ticks": ""
            },
            "type": "contourcarpet"
           }
          ],
          "heatmap": [
           {
            "colorbar": {
             "outlinewidth": 0,
             "ticks": ""
            },
            "colorscale": [
             [
              0,
              "#0d0887"
             ],
             [
              0.1111111111111111,
              "#46039f"
             ],
             [
              0.2222222222222222,
              "#7201a8"
             ],
             [
              0.3333333333333333,
              "#9c179e"
             ],
             [
              0.4444444444444444,
              "#bd3786"
             ],
             [
              0.5555555555555556,
              "#d8576b"
             ],
             [
              0.6666666666666666,
              "#ed7953"
             ],
             [
              0.7777777777777778,
              "#fb9f3a"
             ],
             [
              0.8888888888888888,
              "#fdca26"
             ],
             [
              1,
              "#f0f921"
             ]
            ],
            "type": "heatmap"
           }
          ],
          "heatmapgl": [
           {
            "colorbar": {
             "outlinewidth": 0,
             "ticks": ""
            },
            "colorscale": [
             [
              0,
              "#0d0887"
             ],
             [
              0.1111111111111111,
              "#46039f"
             ],
             [
              0.2222222222222222,
              "#7201a8"
             ],
             [
              0.3333333333333333,
              "#9c179e"
             ],
             [
              0.4444444444444444,
              "#bd3786"
             ],
             [
              0.5555555555555556,
              "#d8576b"
             ],
             [
              0.6666666666666666,
              "#ed7953"
             ],
             [
              0.7777777777777778,
              "#fb9f3a"
             ],
             [
              0.8888888888888888,
              "#fdca26"
             ],
             [
              1,
              "#f0f921"
             ]
            ],
            "type": "heatmapgl"
           }
          ],
          "histogram": [
           {
            "marker": {
             "pattern": {
              "fillmode": "overlay",
              "size": 10,
              "solidity": 0.2
             }
            },
            "type": "histogram"
           }
          ],
          "histogram2d": [
           {
            "colorbar": {
             "outlinewidth": 0,
             "ticks": ""
            },
            "colorscale": [
             [
              0,
              "#0d0887"
             ],
             [
              0.1111111111111111,
              "#46039f"
             ],
             [
              0.2222222222222222,
              "#7201a8"
             ],
             [
              0.3333333333333333,
              "#9c179e"
             ],
             [
              0.4444444444444444,
              "#bd3786"
             ],
             [
              0.5555555555555556,
              "#d8576b"
             ],
             [
              0.6666666666666666,
              "#ed7953"
             ],
             [
              0.7777777777777778,
              "#fb9f3a"
             ],
             [
              0.8888888888888888,
              "#fdca26"
             ],
             [
              1,
              "#f0f921"
             ]
            ],
            "type": "histogram2d"
           }
          ],
          "histogram2dcontour": [
           {
            "colorbar": {
             "outlinewidth": 0,
             "ticks": ""
            },
            "colorscale": [
             [
              0,
              "#0d0887"
             ],
             [
              0.1111111111111111,
              "#46039f"
             ],
             [
              0.2222222222222222,
              "#7201a8"
             ],
             [
              0.3333333333333333,
              "#9c179e"
             ],
             [
              0.4444444444444444,
              "#bd3786"
             ],
             [
              0.5555555555555556,
              "#d8576b"
             ],
             [
              0.6666666666666666,
              "#ed7953"
             ],
             [
              0.7777777777777778,
              "#fb9f3a"
             ],
             [
              0.8888888888888888,
              "#fdca26"
             ],
             [
              1,
              "#f0f921"
             ]
            ],
            "type": "histogram2dcontour"
           }
          ],
          "mesh3d": [
           {
            "colorbar": {
             "outlinewidth": 0,
             "ticks": ""
            },
            "type": "mesh3d"
           }
          ],
          "parcoords": [
           {
            "line": {
             "colorbar": {
              "outlinewidth": 0,
              "ticks": ""
             }
            },
            "type": "parcoords"
           }
          ],
          "pie": [
           {
            "automargin": true,
            "type": "pie"
           }
          ],
          "scatter": [
           {
            "marker": {
             "colorbar": {
              "outlinewidth": 0,
              "ticks": ""
             }
            },
            "type": "scatter"
           }
          ],
          "scatter3d": [
           {
            "line": {
             "colorbar": {
              "outlinewidth": 0,
              "ticks": ""
             }
            },
            "marker": {
             "colorbar": {
              "outlinewidth": 0,
              "ticks": ""
             }
            },
            "type": "scatter3d"
           }
          ],
          "scattercarpet": [
           {
            "marker": {
             "colorbar": {
              "outlinewidth": 0,
              "ticks": ""
             }
            },
            "type": "scattercarpet"
           }
          ],
          "scattergeo": [
           {
            "marker": {
             "colorbar": {
              "outlinewidth": 0,
              "ticks": ""
             }
            },
            "type": "scattergeo"
           }
          ],
          "scattergl": [
           {
            "marker": {
             "colorbar": {
              "outlinewidth": 0,
              "ticks": ""
             }
            },
            "type": "scattergl"
           }
          ],
          "scattermapbox": [
           {
            "marker": {
             "colorbar": {
              "outlinewidth": 0,
              "ticks": ""
             }
            },
            "type": "scattermapbox"
           }
          ],
          "scatterpolar": [
           {
            "marker": {
             "colorbar": {
              "outlinewidth": 0,
              "ticks": ""
             }
            },
            "type": "scatterpolar"
           }
          ],
          "scatterpolargl": [
           {
            "marker": {
             "colorbar": {
              "outlinewidth": 0,
              "ticks": ""
             }
            },
            "type": "scatterpolargl"
           }
          ],
          "scatterternary": [
           {
            "marker": {
             "colorbar": {
              "outlinewidth": 0,
              "ticks": ""
             }
            },
            "type": "scatterternary"
           }
          ],
          "surface": [
           {
            "colorbar": {
             "outlinewidth": 0,
             "ticks": ""
            },
            "colorscale": [
             [
              0,
              "#0d0887"
             ],
             [
              0.1111111111111111,
              "#46039f"
             ],
             [
              0.2222222222222222,
              "#7201a8"
             ],
             [
              0.3333333333333333,
              "#9c179e"
             ],
             [
              0.4444444444444444,
              "#bd3786"
             ],
             [
              0.5555555555555556,
              "#d8576b"
             ],
             [
              0.6666666666666666,
              "#ed7953"
             ],
             [
              0.7777777777777778,
              "#fb9f3a"
             ],
             [
              0.8888888888888888,
              "#fdca26"
             ],
             [
              1,
              "#f0f921"
             ]
            ],
            "type": "surface"
           }
          ],
          "table": [
           {
            "cells": {
             "fill": {
              "color": "#EBF0F8"
             },
             "line": {
              "color": "white"
             }
            },
            "header": {
             "fill": {
              "color": "#C8D4E3"
             },
             "line": {
              "color": "white"
             }
            },
            "type": "table"
           }
          ]
         },
         "layout": {
          "annotationdefaults": {
           "arrowcolor": "#2a3f5f",
           "arrowhead": 0,
           "arrowwidth": 1
          },
          "autotypenumbers": "strict",
          "coloraxis": {
           "colorbar": {
            "outlinewidth": 0,
            "ticks": ""
           }
          },
          "colorscale": {
           "diverging": [
            [
             0,
             "#8e0152"
            ],
            [
             0.1,
             "#c51b7d"
            ],
            [
             0.2,
             "#de77ae"
            ],
            [
             0.3,
             "#f1b6da"
            ],
            [
             0.4,
             "#fde0ef"
            ],
            [
             0.5,
             "#f7f7f7"
            ],
            [
             0.6,
             "#e6f5d0"
            ],
            [
             0.7,
             "#b8e186"
            ],
            [
             0.8,
             "#7fbc41"
            ],
            [
             0.9,
             "#4d9221"
            ],
            [
             1,
             "#276419"
            ]
           ],
           "sequential": [
            [
             0,
             "#0d0887"
            ],
            [
             0.1111111111111111,
             "#46039f"
            ],
            [
             0.2222222222222222,
             "#7201a8"
            ],
            [
             0.3333333333333333,
             "#9c179e"
            ],
            [
             0.4444444444444444,
             "#bd3786"
            ],
            [
             0.5555555555555556,
             "#d8576b"
            ],
            [
             0.6666666666666666,
             "#ed7953"
            ],
            [
             0.7777777777777778,
             "#fb9f3a"
            ],
            [
             0.8888888888888888,
             "#fdca26"
            ],
            [
             1,
             "#f0f921"
            ]
           ],
           "sequentialminus": [
            [
             0,
             "#0d0887"
            ],
            [
             0.1111111111111111,
             "#46039f"
            ],
            [
             0.2222222222222222,
             "#7201a8"
            ],
            [
             0.3333333333333333,
             "#9c179e"
            ],
            [
             0.4444444444444444,
             "#bd3786"
            ],
            [
             0.5555555555555556,
             "#d8576b"
            ],
            [
             0.6666666666666666,
             "#ed7953"
            ],
            [
             0.7777777777777778,
             "#fb9f3a"
            ],
            [
             0.8888888888888888,
             "#fdca26"
            ],
            [
             1,
             "#f0f921"
            ]
           ]
          },
          "colorway": [
           "#636efa",
           "#EF553B",
           "#00cc96",
           "#ab63fa",
           "#FFA15A",
           "#19d3f3",
           "#FF6692",
           "#B6E880",
           "#FF97FF",
           "#FECB52"
          ],
          "font": {
           "color": "#2a3f5f"
          },
          "geo": {
           "bgcolor": "white",
           "lakecolor": "white",
           "landcolor": "#E5ECF6",
           "showlakes": true,
           "showland": true,
           "subunitcolor": "white"
          },
          "hoverlabel": {
           "align": "left"
          },
          "hovermode": "closest",
          "mapbox": {
           "style": "light"
          },
          "paper_bgcolor": "white",
          "plot_bgcolor": "#E5ECF6",
          "polar": {
           "angularaxis": {
            "gridcolor": "white",
            "linecolor": "white",
            "ticks": ""
           },
           "bgcolor": "#E5ECF6",
           "radialaxis": {
            "gridcolor": "white",
            "linecolor": "white",
            "ticks": ""
           }
          },
          "scene": {
           "xaxis": {
            "backgroundcolor": "#E5ECF6",
            "gridcolor": "white",
            "gridwidth": 2,
            "linecolor": "white",
            "showbackground": true,
            "ticks": "",
            "zerolinecolor": "white"
           },
           "yaxis": {
            "backgroundcolor": "#E5ECF6",
            "gridcolor": "white",
            "gridwidth": 2,
            "linecolor": "white",
            "showbackground": true,
            "ticks": "",
            "zerolinecolor": "white"
           },
           "zaxis": {
            "backgroundcolor": "#E5ECF6",
            "gridcolor": "white",
            "gridwidth": 2,
            "linecolor": "white",
            "showbackground": true,
            "ticks": "",
            "zerolinecolor": "white"
           }
          },
          "shapedefaults": {
           "line": {
            "color": "#2a3f5f"
           }
          },
          "ternary": {
           "aaxis": {
            "gridcolor": "white",
            "linecolor": "white",
            "ticks": ""
           },
           "baxis": {
            "gridcolor": "white",
            "linecolor": "white",
            "ticks": ""
           },
           "bgcolor": "#E5ECF6",
           "caxis": {
            "gridcolor": "white",
            "linecolor": "white",
            "ticks": ""
           }
          },
          "title": {
           "x": 0.05
          },
          "xaxis": {
           "automargin": true,
           "gridcolor": "white",
           "linecolor": "white",
           "ticks": "",
           "title": {
            "standoff": 15
           },
           "zerolinecolor": "white",
           "zerolinewidth": 2
          },
          "yaxis": {
           "automargin": true,
           "gridcolor": "white",
           "linecolor": "white",
           "ticks": "",
           "title": {
            "standoff": 15
           },
           "zerolinecolor": "white",
           "zerolinewidth": 2
          }
         }
        },
        "title": {
         "text": "Gate postion"
        }
       }
      }
     },
     "metadata": {},
     "output_type": "display_data"
    },
    {
     "name": "stdout",
     "output_type": "stream",
     "text": [
      "-500415.70440593024\n"
     ]
    },
    {
     "data": {
      "application/vnd.plotly.v1+json": {
       "config": {
        "plotlyServerURL": "https://plot.ly"
       },
       "data": [
        {
         "name": "Rsv 1 gate position",
         "type": "scatter",
         "x": [
          "2022-04-16T00:00:00",
          "2022-04-16T01:00:00",
          "2022-04-16T02:00:00",
          "2022-04-16T03:00:00",
          "2022-04-16T04:00:00",
          "2022-04-16T05:00:00",
          "2022-04-16T06:00:00",
          "2022-04-16T07:00:00",
          "2022-04-16T08:00:00",
          "2022-04-16T09:00:00",
          "2022-04-16T10:00:00",
          "2022-04-16T11:00:00",
          "2022-04-16T12:00:00",
          "2022-04-16T13:00:00",
          "2022-04-16T14:00:00",
          "2022-04-16T15:00:00",
          "2022-04-16T16:00:00",
          "2022-04-16T17:00:00",
          "2022-04-16T18:00:00",
          "2022-04-16T19:00:00",
          "2022-04-16T20:00:00",
          "2022-04-16T21:00:00",
          "2022-04-16T22:00:00",
          "2022-04-16T23:00:00",
          "2022-04-17T00:00:00",
          "2022-04-17T01:00:00",
          "2022-04-17T02:00:00",
          "2022-04-17T03:00:00",
          "2022-04-17T04:00:00",
          "2022-04-17T05:00:00",
          "2022-04-17T06:00:00",
          "2022-04-17T07:00:00",
          "2022-04-17T08:00:00",
          "2022-04-17T09:00:00",
          "2022-04-17T10:00:00",
          "2022-04-17T11:00:00",
          "2022-04-17T12:00:00",
          "2022-04-17T13:00:00",
          "2022-04-17T14:00:00",
          "2022-04-17T15:00:00",
          "2022-04-17T16:00:00",
          "2022-04-17T17:00:00",
          "2022-04-17T18:00:00",
          "2022-04-17T19:00:00",
          "2022-04-17T20:00:00",
          "2022-04-17T21:00:00",
          "2022-04-17T22:00:00",
          "2022-04-17T23:00:00",
          "2022-04-18T00:00:00",
          "2022-04-18T01:00:00",
          "2022-04-18T02:00:00",
          "2022-04-18T03:00:00",
          "2022-04-18T04:00:00",
          "2022-04-18T05:00:00",
          "2022-04-18T06:00:00",
          "2022-04-18T07:00:00",
          "2022-04-18T08:00:00",
          "2022-04-18T09:00:00",
          "2022-04-18T10:00:00",
          "2022-04-18T11:00:00",
          "2022-04-18T12:00:00",
          "2022-04-18T13:00:00",
          "2022-04-18T14:00:00",
          "2022-04-18T15:00:00",
          "2022-04-18T16:00:00",
          "2022-04-18T17:00:00",
          "2022-04-18T18:00:00",
          "2022-04-18T19:00:00",
          "2022-04-18T20:00:00",
          "2022-04-18T21:00:00",
          "2022-04-18T22:00:00",
          "2022-04-18T23:00:00"
         ],
         "y": [
          0.19991973233501964,
          0,
          0,
          0,
          0.05694183960895301,
          0,
          0.09811076441459037,
          0.27319543820437886,
          0.030521087425694284,
          0,
          0,
          0,
          0,
          1,
          0.8273472342229338,
          1,
          1,
          0,
          0.2098916296914434,
          0.3019218391079785,
          0,
          0,
          0.1371076901031853,
          0.11738794066461952,
          1,
          1,
          0.574979069792973,
          1,
          1,
          0.5850064713177285,
          0.3256194802132644,
          0.3228598949750542,
          0.3339635648999828,
          0.23133249214248536,
          0.24621023659403532,
          0.045437697907673526,
          1,
          1,
          1,
          1,
          1,
          0.26971167913423755,
          1,
          0.2113022602168674,
          0,
          0,
          0.009069144895875061,
          0,
          1,
          1,
          1,
          1,
          1,
          1,
          1,
          1,
          1,
          0,
          0,
          0,
          0,
          0,
          1,
          1,
          0,
          0,
          0.019280226782162513,
          0.08187125320020253,
          0.06420182870503519,
          0.30672344096659204,
          0,
          0
         ]
        }
       ],
       "layout": {
        "template": {
         "data": {
          "bar": [
           {
            "error_x": {
             "color": "#2a3f5f"
            },
            "error_y": {
             "color": "#2a3f5f"
            },
            "marker": {
             "line": {
              "color": "#E5ECF6",
              "width": 0.5
             },
             "pattern": {
              "fillmode": "overlay",
              "size": 10,
              "solidity": 0.2
             }
            },
            "type": "bar"
           }
          ],
          "barpolar": [
           {
            "marker": {
             "line": {
              "color": "#E5ECF6",
              "width": 0.5
             },
             "pattern": {
              "fillmode": "overlay",
              "size": 10,
              "solidity": 0.2
             }
            },
            "type": "barpolar"
           }
          ],
          "carpet": [
           {
            "aaxis": {
             "endlinecolor": "#2a3f5f",
             "gridcolor": "white",
             "linecolor": "white",
             "minorgridcolor": "white",
             "startlinecolor": "#2a3f5f"
            },
            "baxis": {
             "endlinecolor": "#2a3f5f",
             "gridcolor": "white",
             "linecolor": "white",
             "minorgridcolor": "white",
             "startlinecolor": "#2a3f5f"
            },
            "type": "carpet"
           }
          ],
          "choropleth": [
           {
            "colorbar": {
             "outlinewidth": 0,
             "ticks": ""
            },
            "type": "choropleth"
           }
          ],
          "contour": [
           {
            "colorbar": {
             "outlinewidth": 0,
             "ticks": ""
            },
            "colorscale": [
             [
              0,
              "#0d0887"
             ],
             [
              0.1111111111111111,
              "#46039f"
             ],
             [
              0.2222222222222222,
              "#7201a8"
             ],
             [
              0.3333333333333333,
              "#9c179e"
             ],
             [
              0.4444444444444444,
              "#bd3786"
             ],
             [
              0.5555555555555556,
              "#d8576b"
             ],
             [
              0.6666666666666666,
              "#ed7953"
             ],
             [
              0.7777777777777778,
              "#fb9f3a"
             ],
             [
              0.8888888888888888,
              "#fdca26"
             ],
             [
              1,
              "#f0f921"
             ]
            ],
            "type": "contour"
           }
          ],
          "contourcarpet": [
           {
            "colorbar": {
             "outlinewidth": 0,
             "ticks": ""
            },
            "type": "contourcarpet"
           }
          ],
          "heatmap": [
           {
            "colorbar": {
             "outlinewidth": 0,
             "ticks": ""
            },
            "colorscale": [
             [
              0,
              "#0d0887"
             ],
             [
              0.1111111111111111,
              "#46039f"
             ],
             [
              0.2222222222222222,
              "#7201a8"
             ],
             [
              0.3333333333333333,
              "#9c179e"
             ],
             [
              0.4444444444444444,
              "#bd3786"
             ],
             [
              0.5555555555555556,
              "#d8576b"
             ],
             [
              0.6666666666666666,
              "#ed7953"
             ],
             [
              0.7777777777777778,
              "#fb9f3a"
             ],
             [
              0.8888888888888888,
              "#fdca26"
             ],
             [
              1,
              "#f0f921"
             ]
            ],
            "type": "heatmap"
           }
          ],
          "heatmapgl": [
           {
            "colorbar": {
             "outlinewidth": 0,
             "ticks": ""
            },
            "colorscale": [
             [
              0,
              "#0d0887"
             ],
             [
              0.1111111111111111,
              "#46039f"
             ],
             [
              0.2222222222222222,
              "#7201a8"
             ],
             [
              0.3333333333333333,
              "#9c179e"
             ],
             [
              0.4444444444444444,
              "#bd3786"
             ],
             [
              0.5555555555555556,
              "#d8576b"
             ],
             [
              0.6666666666666666,
              "#ed7953"
             ],
             [
              0.7777777777777778,
              "#fb9f3a"
             ],
             [
              0.8888888888888888,
              "#fdca26"
             ],
             [
              1,
              "#f0f921"
             ]
            ],
            "type": "heatmapgl"
           }
          ],
          "histogram": [
           {
            "marker": {
             "pattern": {
              "fillmode": "overlay",
              "size": 10,
              "solidity": 0.2
             }
            },
            "type": "histogram"
           }
          ],
          "histogram2d": [
           {
            "colorbar": {
             "outlinewidth": 0,
             "ticks": ""
            },
            "colorscale": [
             [
              0,
              "#0d0887"
             ],
             [
              0.1111111111111111,
              "#46039f"
             ],
             [
              0.2222222222222222,
              "#7201a8"
             ],
             [
              0.3333333333333333,
              "#9c179e"
             ],
             [
              0.4444444444444444,
              "#bd3786"
             ],
             [
              0.5555555555555556,
              "#d8576b"
             ],
             [
              0.6666666666666666,
              "#ed7953"
             ],
             [
              0.7777777777777778,
              "#fb9f3a"
             ],
             [
              0.8888888888888888,
              "#fdca26"
             ],
             [
              1,
              "#f0f921"
             ]
            ],
            "type": "histogram2d"
           }
          ],
          "histogram2dcontour": [
           {
            "colorbar": {
             "outlinewidth": 0,
             "ticks": ""
            },
            "colorscale": [
             [
              0,
              "#0d0887"
             ],
             [
              0.1111111111111111,
              "#46039f"
             ],
             [
              0.2222222222222222,
              "#7201a8"
             ],
             [
              0.3333333333333333,
              "#9c179e"
             ],
             [
              0.4444444444444444,
              "#bd3786"
             ],
             [
              0.5555555555555556,
              "#d8576b"
             ],
             [
              0.6666666666666666,
              "#ed7953"
             ],
             [
              0.7777777777777778,
              "#fb9f3a"
             ],
             [
              0.8888888888888888,
              "#fdca26"
             ],
             [
              1,
              "#f0f921"
             ]
            ],
            "type": "histogram2dcontour"
           }
          ],
          "mesh3d": [
           {
            "colorbar": {
             "outlinewidth": 0,
             "ticks": ""
            },
            "type": "mesh3d"
           }
          ],
          "parcoords": [
           {
            "line": {
             "colorbar": {
              "outlinewidth": 0,
              "ticks": ""
             }
            },
            "type": "parcoords"
           }
          ],
          "pie": [
           {
            "automargin": true,
            "type": "pie"
           }
          ],
          "scatter": [
           {
            "marker": {
             "colorbar": {
              "outlinewidth": 0,
              "ticks": ""
             }
            },
            "type": "scatter"
           }
          ],
          "scatter3d": [
           {
            "line": {
             "colorbar": {
              "outlinewidth": 0,
              "ticks": ""
             }
            },
            "marker": {
             "colorbar": {
              "outlinewidth": 0,
              "ticks": ""
             }
            },
            "type": "scatter3d"
           }
          ],
          "scattercarpet": [
           {
            "marker": {
             "colorbar": {
              "outlinewidth": 0,
              "ticks": ""
             }
            },
            "type": "scattercarpet"
           }
          ],
          "scattergeo": [
           {
            "marker": {
             "colorbar": {
              "outlinewidth": 0,
              "ticks": ""
             }
            },
            "type": "scattergeo"
           }
          ],
          "scattergl": [
           {
            "marker": {
             "colorbar": {
              "outlinewidth": 0,
              "ticks": ""
             }
            },
            "type": "scattergl"
           }
          ],
          "scattermapbox": [
           {
            "marker": {
             "colorbar": {
              "outlinewidth": 0,
              "ticks": ""
             }
            },
            "type": "scattermapbox"
           }
          ],
          "scatterpolar": [
           {
            "marker": {
             "colorbar": {
              "outlinewidth": 0,
              "ticks": ""
             }
            },
            "type": "scatterpolar"
           }
          ],
          "scatterpolargl": [
           {
            "marker": {
             "colorbar": {
              "outlinewidth": 0,
              "ticks": ""
             }
            },
            "type": "scatterpolargl"
           }
          ],
          "scatterternary": [
           {
            "marker": {
             "colorbar": {
              "outlinewidth": 0,
              "ticks": ""
             }
            },
            "type": "scatterternary"
           }
          ],
          "surface": [
           {
            "colorbar": {
             "outlinewidth": 0,
             "ticks": ""
            },
            "colorscale": [
             [
              0,
              "#0d0887"
             ],
             [
              0.1111111111111111,
              "#46039f"
             ],
             [
              0.2222222222222222,
              "#7201a8"
             ],
             [
              0.3333333333333333,
              "#9c179e"
             ],
             [
              0.4444444444444444,
              "#bd3786"
             ],
             [
              0.5555555555555556,
              "#d8576b"
             ],
             [
              0.6666666666666666,
              "#ed7953"
             ],
             [
              0.7777777777777778,
              "#fb9f3a"
             ],
             [
              0.8888888888888888,
              "#fdca26"
             ],
             [
              1,
              "#f0f921"
             ]
            ],
            "type": "surface"
           }
          ],
          "table": [
           {
            "cells": {
             "fill": {
              "color": "#EBF0F8"
             },
             "line": {
              "color": "white"
             }
            },
            "header": {
             "fill": {
              "color": "#C8D4E3"
             },
             "line": {
              "color": "white"
             }
            },
            "type": "table"
           }
          ]
         },
         "layout": {
          "annotationdefaults": {
           "arrowcolor": "#2a3f5f",
           "arrowhead": 0,
           "arrowwidth": 1
          },
          "autotypenumbers": "strict",
          "coloraxis": {
           "colorbar": {
            "outlinewidth": 0,
            "ticks": ""
           }
          },
          "colorscale": {
           "diverging": [
            [
             0,
             "#8e0152"
            ],
            [
             0.1,
             "#c51b7d"
            ],
            [
             0.2,
             "#de77ae"
            ],
            [
             0.3,
             "#f1b6da"
            ],
            [
             0.4,
             "#fde0ef"
            ],
            [
             0.5,
             "#f7f7f7"
            ],
            [
             0.6,
             "#e6f5d0"
            ],
            [
             0.7,
             "#b8e186"
            ],
            [
             0.8,
             "#7fbc41"
            ],
            [
             0.9,
             "#4d9221"
            ],
            [
             1,
             "#276419"
            ]
           ],
           "sequential": [
            [
             0,
             "#0d0887"
            ],
            [
             0.1111111111111111,
             "#46039f"
            ],
            [
             0.2222222222222222,
             "#7201a8"
            ],
            [
             0.3333333333333333,
             "#9c179e"
            ],
            [
             0.4444444444444444,
             "#bd3786"
            ],
            [
             0.5555555555555556,
             "#d8576b"
            ],
            [
             0.6666666666666666,
             "#ed7953"
            ],
            [
             0.7777777777777778,
             "#fb9f3a"
            ],
            [
             0.8888888888888888,
             "#fdca26"
            ],
            [
             1,
             "#f0f921"
            ]
           ],
           "sequentialminus": [
            [
             0,
             "#0d0887"
            ],
            [
             0.1111111111111111,
             "#46039f"
            ],
            [
             0.2222222222222222,
             "#7201a8"
            ],
            [
             0.3333333333333333,
             "#9c179e"
            ],
            [
             0.4444444444444444,
             "#bd3786"
            ],
            [
             0.5555555555555556,
             "#d8576b"
            ],
            [
             0.6666666666666666,
             "#ed7953"
            ],
            [
             0.7777777777777778,
             "#fb9f3a"
            ],
            [
             0.8888888888888888,
             "#fdca26"
            ],
            [
             1,
             "#f0f921"
            ]
           ]
          },
          "colorway": [
           "#636efa",
           "#EF553B",
           "#00cc96",
           "#ab63fa",
           "#FFA15A",
           "#19d3f3",
           "#FF6692",
           "#B6E880",
           "#FF97FF",
           "#FECB52"
          ],
          "font": {
           "color": "#2a3f5f"
          },
          "geo": {
           "bgcolor": "white",
           "lakecolor": "white",
           "landcolor": "#E5ECF6",
           "showlakes": true,
           "showland": true,
           "subunitcolor": "white"
          },
          "hoverlabel": {
           "align": "left"
          },
          "hovermode": "closest",
          "mapbox": {
           "style": "light"
          },
          "paper_bgcolor": "white",
          "plot_bgcolor": "#E5ECF6",
          "polar": {
           "angularaxis": {
            "gridcolor": "white",
            "linecolor": "white",
            "ticks": ""
           },
           "bgcolor": "#E5ECF6",
           "radialaxis": {
            "gridcolor": "white",
            "linecolor": "white",
            "ticks": ""
           }
          },
          "scene": {
           "xaxis": {
            "backgroundcolor": "#E5ECF6",
            "gridcolor": "white",
            "gridwidth": 2,
            "linecolor": "white",
            "showbackground": true,
            "ticks": "",
            "zerolinecolor": "white"
           },
           "yaxis": {
            "backgroundcolor": "#E5ECF6",
            "gridcolor": "white",
            "gridwidth": 2,
            "linecolor": "white",
            "showbackground": true,
            "ticks": "",
            "zerolinecolor": "white"
           },
           "zaxis": {
            "backgroundcolor": "#E5ECF6",
            "gridcolor": "white",
            "gridwidth": 2,
            "linecolor": "white",
            "showbackground": true,
            "ticks": "",
            "zerolinecolor": "white"
           }
          },
          "shapedefaults": {
           "line": {
            "color": "#2a3f5f"
           }
          },
          "ternary": {
           "aaxis": {
            "gridcolor": "white",
            "linecolor": "white",
            "ticks": ""
           },
           "baxis": {
            "gridcolor": "white",
            "linecolor": "white",
            "ticks": ""
           },
           "bgcolor": "#E5ECF6",
           "caxis": {
            "gridcolor": "white",
            "linecolor": "white",
            "ticks": ""
           }
          },
          "title": {
           "x": 0.05
          },
          "xaxis": {
           "automargin": true,
           "gridcolor": "white",
           "linecolor": "white",
           "ticks": "",
           "title": {
            "standoff": 15
           },
           "zerolinecolor": "white",
           "zerolinewidth": 2
          },
          "yaxis": {
           "automargin": true,
           "gridcolor": "white",
           "linecolor": "white",
           "ticks": "",
           "title": {
            "standoff": 15
           },
           "zerolinecolor": "white",
           "zerolinewidth": 2
          }
         }
        },
        "title": {
         "text": "Gate postion"
        }
       }
      }
     },
     "metadata": {},
     "output_type": "display_data"
    },
    {
     "name": "stdout",
     "output_type": "stream",
     "text": [
      "-505594.1064087489\n"
     ]
    },
    {
     "data": {
      "application/vnd.plotly.v1+json": {
       "config": {
        "plotlyServerURL": "https://plot.ly"
       },
       "data": [
        {
         "name": "Rsv 1 gate position",
         "type": "scatter",
         "x": [
          "2022-04-16T00:00:00",
          "2022-04-16T01:00:00",
          "2022-04-16T02:00:00",
          "2022-04-16T03:00:00",
          "2022-04-16T04:00:00",
          "2022-04-16T05:00:00",
          "2022-04-16T06:00:00",
          "2022-04-16T07:00:00",
          "2022-04-16T08:00:00",
          "2022-04-16T09:00:00",
          "2022-04-16T10:00:00",
          "2022-04-16T11:00:00",
          "2022-04-16T12:00:00",
          "2022-04-16T13:00:00",
          "2022-04-16T14:00:00",
          "2022-04-16T15:00:00",
          "2022-04-16T16:00:00",
          "2022-04-16T17:00:00",
          "2022-04-16T18:00:00",
          "2022-04-16T19:00:00",
          "2022-04-16T20:00:00",
          "2022-04-16T21:00:00",
          "2022-04-16T22:00:00",
          "2022-04-16T23:00:00",
          "2022-04-17T00:00:00",
          "2022-04-17T01:00:00",
          "2022-04-17T02:00:00",
          "2022-04-17T03:00:00",
          "2022-04-17T04:00:00",
          "2022-04-17T05:00:00",
          "2022-04-17T06:00:00",
          "2022-04-17T07:00:00",
          "2022-04-17T08:00:00",
          "2022-04-17T09:00:00",
          "2022-04-17T10:00:00",
          "2022-04-17T11:00:00",
          "2022-04-17T12:00:00",
          "2022-04-17T13:00:00",
          "2022-04-17T14:00:00",
          "2022-04-17T15:00:00",
          "2022-04-17T16:00:00",
          "2022-04-17T17:00:00",
          "2022-04-17T18:00:00",
          "2022-04-17T19:00:00",
          "2022-04-17T20:00:00",
          "2022-04-17T21:00:00",
          "2022-04-17T22:00:00",
          "2022-04-17T23:00:00",
          "2022-04-18T00:00:00",
          "2022-04-18T01:00:00",
          "2022-04-18T02:00:00",
          "2022-04-18T03:00:00",
          "2022-04-18T04:00:00",
          "2022-04-18T05:00:00",
          "2022-04-18T06:00:00",
          "2022-04-18T07:00:00",
          "2022-04-18T08:00:00",
          "2022-04-18T09:00:00",
          "2022-04-18T10:00:00",
          "2022-04-18T11:00:00",
          "2022-04-18T12:00:00",
          "2022-04-18T13:00:00",
          "2022-04-18T14:00:00",
          "2022-04-18T15:00:00",
          "2022-04-18T16:00:00",
          "2022-04-18T17:00:00",
          "2022-04-18T18:00:00",
          "2022-04-18T19:00:00",
          "2022-04-18T20:00:00",
          "2022-04-18T21:00:00",
          "2022-04-18T22:00:00",
          "2022-04-18T23:00:00"
         ],
         "y": [
          0.35751400209109585,
          0.20497197575487824,
          0.006462469414730364,
          0,
          0,
          0.17006883732928504,
          0.052496468283358355,
          0.5828218857328228,
          0,
          0,
          0.015263249425995244,
          0.008913021600594035,
          0,
          1,
          1,
          1,
          1,
          1,
          0.3953958370970202,
          0,
          0.1351536873115066,
          0,
          0,
          0,
          0,
          0,
          1,
          0,
          0,
          1,
          1,
          1,
          1,
          1,
          1,
          0.9571795835632101,
          0,
          1,
          1,
          1,
          1,
          1,
          0,
          0,
          0.11840865650663515,
          0,
          0,
          0,
          1,
          1,
          1,
          1,
          1,
          1,
          1,
          0,
          0,
          0,
          0,
          0,
          0,
          0.5106269531477838,
          0,
          1,
          0,
          0,
          0,
          0,
          0.009079068011406934,
          0,
          0.31083144699188425,
          0
         ]
        }
       ],
       "layout": {
        "template": {
         "data": {
          "bar": [
           {
            "error_x": {
             "color": "#2a3f5f"
            },
            "error_y": {
             "color": "#2a3f5f"
            },
            "marker": {
             "line": {
              "color": "#E5ECF6",
              "width": 0.5
             },
             "pattern": {
              "fillmode": "overlay",
              "size": 10,
              "solidity": 0.2
             }
            },
            "type": "bar"
           }
          ],
          "barpolar": [
           {
            "marker": {
             "line": {
              "color": "#E5ECF6",
              "width": 0.5
             },
             "pattern": {
              "fillmode": "overlay",
              "size": 10,
              "solidity": 0.2
             }
            },
            "type": "barpolar"
           }
          ],
          "carpet": [
           {
            "aaxis": {
             "endlinecolor": "#2a3f5f",
             "gridcolor": "white",
             "linecolor": "white",
             "minorgridcolor": "white",
             "startlinecolor": "#2a3f5f"
            },
            "baxis": {
             "endlinecolor": "#2a3f5f",
             "gridcolor": "white",
             "linecolor": "white",
             "minorgridcolor": "white",
             "startlinecolor": "#2a3f5f"
            },
            "type": "carpet"
           }
          ],
          "choropleth": [
           {
            "colorbar": {
             "outlinewidth": 0,
             "ticks": ""
            },
            "type": "choropleth"
           }
          ],
          "contour": [
           {
            "colorbar": {
             "outlinewidth": 0,
             "ticks": ""
            },
            "colorscale": [
             [
              0,
              "#0d0887"
             ],
             [
              0.1111111111111111,
              "#46039f"
             ],
             [
              0.2222222222222222,
              "#7201a8"
             ],
             [
              0.3333333333333333,
              "#9c179e"
             ],
             [
              0.4444444444444444,
              "#bd3786"
             ],
             [
              0.5555555555555556,
              "#d8576b"
             ],
             [
              0.6666666666666666,
              "#ed7953"
             ],
             [
              0.7777777777777778,
              "#fb9f3a"
             ],
             [
              0.8888888888888888,
              "#fdca26"
             ],
             [
              1,
              "#f0f921"
             ]
            ],
            "type": "contour"
           }
          ],
          "contourcarpet": [
           {
            "colorbar": {
             "outlinewidth": 0,
             "ticks": ""
            },
            "type": "contourcarpet"
           }
          ],
          "heatmap": [
           {
            "colorbar": {
             "outlinewidth": 0,
             "ticks": ""
            },
            "colorscale": [
             [
              0,
              "#0d0887"
             ],
             [
              0.1111111111111111,
              "#46039f"
             ],
             [
              0.2222222222222222,
              "#7201a8"
             ],
             [
              0.3333333333333333,
              "#9c179e"
             ],
             [
              0.4444444444444444,
              "#bd3786"
             ],
             [
              0.5555555555555556,
              "#d8576b"
             ],
             [
              0.6666666666666666,
              "#ed7953"
             ],
             [
              0.7777777777777778,
              "#fb9f3a"
             ],
             [
              0.8888888888888888,
              "#fdca26"
             ],
             [
              1,
              "#f0f921"
             ]
            ],
            "type": "heatmap"
           }
          ],
          "heatmapgl": [
           {
            "colorbar": {
             "outlinewidth": 0,
             "ticks": ""
            },
            "colorscale": [
             [
              0,
              "#0d0887"
             ],
             [
              0.1111111111111111,
              "#46039f"
             ],
             [
              0.2222222222222222,
              "#7201a8"
             ],
             [
              0.3333333333333333,
              "#9c179e"
             ],
             [
              0.4444444444444444,
              "#bd3786"
             ],
             [
              0.5555555555555556,
              "#d8576b"
             ],
             [
              0.6666666666666666,
              "#ed7953"
             ],
             [
              0.7777777777777778,
              "#fb9f3a"
             ],
             [
              0.8888888888888888,
              "#fdca26"
             ],
             [
              1,
              "#f0f921"
             ]
            ],
            "type": "heatmapgl"
           }
          ],
          "histogram": [
           {
            "marker": {
             "pattern": {
              "fillmode": "overlay",
              "size": 10,
              "solidity": 0.2
             }
            },
            "type": "histogram"
           }
          ],
          "histogram2d": [
           {
            "colorbar": {
             "outlinewidth": 0,
             "ticks": ""
            },
            "colorscale": [
             [
              0,
              "#0d0887"
             ],
             [
              0.1111111111111111,
              "#46039f"
             ],
             [
              0.2222222222222222,
              "#7201a8"
             ],
             [
              0.3333333333333333,
              "#9c179e"
             ],
             [
              0.4444444444444444,
              "#bd3786"
             ],
             [
              0.5555555555555556,
              "#d8576b"
             ],
             [
              0.6666666666666666,
              "#ed7953"
             ],
             [
              0.7777777777777778,
              "#fb9f3a"
             ],
             [
              0.8888888888888888,
              "#fdca26"
             ],
             [
              1,
              "#f0f921"
             ]
            ],
            "type": "histogram2d"
           }
          ],
          "histogram2dcontour": [
           {
            "colorbar": {
             "outlinewidth": 0,
             "ticks": ""
            },
            "colorscale": [
             [
              0,
              "#0d0887"
             ],
             [
              0.1111111111111111,
              "#46039f"
             ],
             [
              0.2222222222222222,
              "#7201a8"
             ],
             [
              0.3333333333333333,
              "#9c179e"
             ],
             [
              0.4444444444444444,
              "#bd3786"
             ],
             [
              0.5555555555555556,
              "#d8576b"
             ],
             [
              0.6666666666666666,
              "#ed7953"
             ],
             [
              0.7777777777777778,
              "#fb9f3a"
             ],
             [
              0.8888888888888888,
              "#fdca26"
             ],
             [
              1,
              "#f0f921"
             ]
            ],
            "type": "histogram2dcontour"
           }
          ],
          "mesh3d": [
           {
            "colorbar": {
             "outlinewidth": 0,
             "ticks": ""
            },
            "type": "mesh3d"
           }
          ],
          "parcoords": [
           {
            "line": {
             "colorbar": {
              "outlinewidth": 0,
              "ticks": ""
             }
            },
            "type": "parcoords"
           }
          ],
          "pie": [
           {
            "automargin": true,
            "type": "pie"
           }
          ],
          "scatter": [
           {
            "marker": {
             "colorbar": {
              "outlinewidth": 0,
              "ticks": ""
             }
            },
            "type": "scatter"
           }
          ],
          "scatter3d": [
           {
            "line": {
             "colorbar": {
              "outlinewidth": 0,
              "ticks": ""
             }
            },
            "marker": {
             "colorbar": {
              "outlinewidth": 0,
              "ticks": ""
             }
            },
            "type": "scatter3d"
           }
          ],
          "scattercarpet": [
           {
            "marker": {
             "colorbar": {
              "outlinewidth": 0,
              "ticks": ""
             }
            },
            "type": "scattercarpet"
           }
          ],
          "scattergeo": [
           {
            "marker": {
             "colorbar": {
              "outlinewidth": 0,
              "ticks": ""
             }
            },
            "type": "scattergeo"
           }
          ],
          "scattergl": [
           {
            "marker": {
             "colorbar": {
              "outlinewidth": 0,
              "ticks": ""
             }
            },
            "type": "scattergl"
           }
          ],
          "scattermapbox": [
           {
            "marker": {
             "colorbar": {
              "outlinewidth": 0,
              "ticks": ""
             }
            },
            "type": "scattermapbox"
           }
          ],
          "scatterpolar": [
           {
            "marker": {
             "colorbar": {
              "outlinewidth": 0,
              "ticks": ""
             }
            },
            "type": "scatterpolar"
           }
          ],
          "scatterpolargl": [
           {
            "marker": {
             "colorbar": {
              "outlinewidth": 0,
              "ticks": ""
             }
            },
            "type": "scatterpolargl"
           }
          ],
          "scatterternary": [
           {
            "marker": {
             "colorbar": {
              "outlinewidth": 0,
              "ticks": ""
             }
            },
            "type": "scatterternary"
           }
          ],
          "surface": [
           {
            "colorbar": {
             "outlinewidth": 0,
             "ticks": ""
            },
            "colorscale": [
             [
              0,
              "#0d0887"
             ],
             [
              0.1111111111111111,
              "#46039f"
             ],
             [
              0.2222222222222222,
              "#7201a8"
             ],
             [
              0.3333333333333333,
              "#9c179e"
             ],
             [
              0.4444444444444444,
              "#bd3786"
             ],
             [
              0.5555555555555556,
              "#d8576b"
             ],
             [
              0.6666666666666666,
              "#ed7953"
             ],
             [
              0.7777777777777778,
              "#fb9f3a"
             ],
             [
              0.8888888888888888,
              "#fdca26"
             ],
             [
              1,
              "#f0f921"
             ]
            ],
            "type": "surface"
           }
          ],
          "table": [
           {
            "cells": {
             "fill": {
              "color": "#EBF0F8"
             },
             "line": {
              "color": "white"
             }
            },
            "header": {
             "fill": {
              "color": "#C8D4E3"
             },
             "line": {
              "color": "white"
             }
            },
            "type": "table"
           }
          ]
         },
         "layout": {
          "annotationdefaults": {
           "arrowcolor": "#2a3f5f",
           "arrowhead": 0,
           "arrowwidth": 1
          },
          "autotypenumbers": "strict",
          "coloraxis": {
           "colorbar": {
            "outlinewidth": 0,
            "ticks": ""
           }
          },
          "colorscale": {
           "diverging": [
            [
             0,
             "#8e0152"
            ],
            [
             0.1,
             "#c51b7d"
            ],
            [
             0.2,
             "#de77ae"
            ],
            [
             0.3,
             "#f1b6da"
            ],
            [
             0.4,
             "#fde0ef"
            ],
            [
             0.5,
             "#f7f7f7"
            ],
            [
             0.6,
             "#e6f5d0"
            ],
            [
             0.7,
             "#b8e186"
            ],
            [
             0.8,
             "#7fbc41"
            ],
            [
             0.9,
             "#4d9221"
            ],
            [
             1,
             "#276419"
            ]
           ],
           "sequential": [
            [
             0,
             "#0d0887"
            ],
            [
             0.1111111111111111,
             "#46039f"
            ],
            [
             0.2222222222222222,
             "#7201a8"
            ],
            [
             0.3333333333333333,
             "#9c179e"
            ],
            [
             0.4444444444444444,
             "#bd3786"
            ],
            [
             0.5555555555555556,
             "#d8576b"
            ],
            [
             0.6666666666666666,
             "#ed7953"
            ],
            [
             0.7777777777777778,
             "#fb9f3a"
            ],
            [
             0.8888888888888888,
             "#fdca26"
            ],
            [
             1,
             "#f0f921"
            ]
           ],
           "sequentialminus": [
            [
             0,
             "#0d0887"
            ],
            [
             0.1111111111111111,
             "#46039f"
            ],
            [
             0.2222222222222222,
             "#7201a8"
            ],
            [
             0.3333333333333333,
             "#9c179e"
            ],
            [
             0.4444444444444444,
             "#bd3786"
            ],
            [
             0.5555555555555556,
             "#d8576b"
            ],
            [
             0.6666666666666666,
             "#ed7953"
            ],
            [
             0.7777777777777778,
             "#fb9f3a"
            ],
            [
             0.8888888888888888,
             "#fdca26"
            ],
            [
             1,
             "#f0f921"
            ]
           ]
          },
          "colorway": [
           "#636efa",
           "#EF553B",
           "#00cc96",
           "#ab63fa",
           "#FFA15A",
           "#19d3f3",
           "#FF6692",
           "#B6E880",
           "#FF97FF",
           "#FECB52"
          ],
          "font": {
           "color": "#2a3f5f"
          },
          "geo": {
           "bgcolor": "white",
           "lakecolor": "white",
           "landcolor": "#E5ECF6",
           "showlakes": true,
           "showland": true,
           "subunitcolor": "white"
          },
          "hoverlabel": {
           "align": "left"
          },
          "hovermode": "closest",
          "mapbox": {
           "style": "light"
          },
          "paper_bgcolor": "white",
          "plot_bgcolor": "#E5ECF6",
          "polar": {
           "angularaxis": {
            "gridcolor": "white",
            "linecolor": "white",
            "ticks": ""
           },
           "bgcolor": "#E5ECF6",
           "radialaxis": {
            "gridcolor": "white",
            "linecolor": "white",
            "ticks": ""
           }
          },
          "scene": {
           "xaxis": {
            "backgroundcolor": "#E5ECF6",
            "gridcolor": "white",
            "gridwidth": 2,
            "linecolor": "white",
            "showbackground": true,
            "ticks": "",
            "zerolinecolor": "white"
           },
           "yaxis": {
            "backgroundcolor": "#E5ECF6",
            "gridcolor": "white",
            "gridwidth": 2,
            "linecolor": "white",
            "showbackground": true,
            "ticks": "",
            "zerolinecolor": "white"
           },
           "zaxis": {
            "backgroundcolor": "#E5ECF6",
            "gridcolor": "white",
            "gridwidth": 2,
            "linecolor": "white",
            "showbackground": true,
            "ticks": "",
            "zerolinecolor": "white"
           }
          },
          "shapedefaults": {
           "line": {
            "color": "#2a3f5f"
           }
          },
          "ternary": {
           "aaxis": {
            "gridcolor": "white",
            "linecolor": "white",
            "ticks": ""
           },
           "baxis": {
            "gridcolor": "white",
            "linecolor": "white",
            "ticks": ""
           },
           "bgcolor": "#E5ECF6",
           "caxis": {
            "gridcolor": "white",
            "linecolor": "white",
            "ticks": ""
           }
          },
          "title": {
           "x": 0.05
          },
          "xaxis": {
           "automargin": true,
           "gridcolor": "white",
           "linecolor": "white",
           "ticks": "",
           "title": {
            "standoff": 15
           },
           "zerolinecolor": "white",
           "zerolinewidth": 2
          },
          "yaxis": {
           "automargin": true,
           "gridcolor": "white",
           "linecolor": "white",
           "ticks": "",
           "title": {
            "standoff": 15
           },
           "zerolinecolor": "white",
           "zerolinewidth": 2
          }
         }
        },
        "title": {
         "text": "Gate postion"
        }
       }
      }
     },
     "metadata": {},
     "output_type": "display_data"
    },
    {
     "name": "stdout",
     "output_type": "stream",
     "text": [
      "-517302.3716594934\n"
     ]
    },
    {
     "data": {
      "application/vnd.plotly.v1+json": {
       "config": {
        "plotlyServerURL": "https://plot.ly"
       },
       "data": [
        {
         "name": "Rsv 1 gate position",
         "type": "scatter",
         "x": [
          "2022-04-16T00:00:00",
          "2022-04-16T01:00:00",
          "2022-04-16T02:00:00",
          "2022-04-16T03:00:00",
          "2022-04-16T04:00:00",
          "2022-04-16T05:00:00",
          "2022-04-16T06:00:00",
          "2022-04-16T07:00:00",
          "2022-04-16T08:00:00",
          "2022-04-16T09:00:00",
          "2022-04-16T10:00:00",
          "2022-04-16T11:00:00",
          "2022-04-16T12:00:00",
          "2022-04-16T13:00:00",
          "2022-04-16T14:00:00",
          "2022-04-16T15:00:00",
          "2022-04-16T16:00:00",
          "2022-04-16T17:00:00",
          "2022-04-16T18:00:00",
          "2022-04-16T19:00:00",
          "2022-04-16T20:00:00",
          "2022-04-16T21:00:00",
          "2022-04-16T22:00:00",
          "2022-04-16T23:00:00",
          "2022-04-17T00:00:00",
          "2022-04-17T01:00:00",
          "2022-04-17T02:00:00",
          "2022-04-17T03:00:00",
          "2022-04-17T04:00:00",
          "2022-04-17T05:00:00",
          "2022-04-17T06:00:00",
          "2022-04-17T07:00:00",
          "2022-04-17T08:00:00",
          "2022-04-17T09:00:00",
          "2022-04-17T10:00:00",
          "2022-04-17T11:00:00",
          "2022-04-17T12:00:00",
          "2022-04-17T13:00:00",
          "2022-04-17T14:00:00",
          "2022-04-17T15:00:00",
          "2022-04-17T16:00:00",
          "2022-04-17T17:00:00",
          "2022-04-17T18:00:00",
          "2022-04-17T19:00:00",
          "2022-04-17T20:00:00",
          "2022-04-17T21:00:00",
          "2022-04-17T22:00:00",
          "2022-04-17T23:00:00",
          "2022-04-18T00:00:00",
          "2022-04-18T01:00:00",
          "2022-04-18T02:00:00",
          "2022-04-18T03:00:00",
          "2022-04-18T04:00:00",
          "2022-04-18T05:00:00",
          "2022-04-18T06:00:00",
          "2022-04-18T07:00:00",
          "2022-04-18T08:00:00",
          "2022-04-18T09:00:00",
          "2022-04-18T10:00:00",
          "2022-04-18T11:00:00",
          "2022-04-18T12:00:00",
          "2022-04-18T13:00:00",
          "2022-04-18T14:00:00",
          "2022-04-18T15:00:00",
          "2022-04-18T16:00:00",
          "2022-04-18T17:00:00",
          "2022-04-18T18:00:00",
          "2022-04-18T19:00:00",
          "2022-04-18T20:00:00",
          "2022-04-18T21:00:00",
          "2022-04-18T22:00:00",
          "2022-04-18T23:00:00"
         ],
         "y": [
          0.5364157208138423,
          0.07023600917557932,
          0.10217713513818223,
          0,
          0.013219759686817382,
          0.9634496603284538,
          0,
          0.02461695285918497,
          0.18279597660522834,
          0,
          0,
          0,
          0,
          0,
          0,
          0,
          1,
          1,
          0,
          0.25220571234898054,
          0,
          0.015247784010737207,
          0,
          0,
          0,
          0,
          0,
          0,
          0,
          0,
          0,
          0,
          0,
          0,
          0,
          0,
          0,
          1,
          1,
          1,
          1,
          1,
          0.05119597683396653,
          0,
          1,
          0,
          0,
          0,
          1,
          1,
          1,
          1,
          1,
          1,
          1,
          0,
          0,
          0,
          1,
          0,
          0.5330692826047865,
          1,
          0.3702708011446902,
          0,
          1,
          0,
          0.02870478906546998,
          0,
          0,
          0.09708379120264002,
          0,
          0.038490487053276984
         ]
        }
       ],
       "layout": {
        "template": {
         "data": {
          "bar": [
           {
            "error_x": {
             "color": "#2a3f5f"
            },
            "error_y": {
             "color": "#2a3f5f"
            },
            "marker": {
             "line": {
              "color": "#E5ECF6",
              "width": 0.5
             },
             "pattern": {
              "fillmode": "overlay",
              "size": 10,
              "solidity": 0.2
             }
            },
            "type": "bar"
           }
          ],
          "barpolar": [
           {
            "marker": {
             "line": {
              "color": "#E5ECF6",
              "width": 0.5
             },
             "pattern": {
              "fillmode": "overlay",
              "size": 10,
              "solidity": 0.2
             }
            },
            "type": "barpolar"
           }
          ],
          "carpet": [
           {
            "aaxis": {
             "endlinecolor": "#2a3f5f",
             "gridcolor": "white",
             "linecolor": "white",
             "minorgridcolor": "white",
             "startlinecolor": "#2a3f5f"
            },
            "baxis": {
             "endlinecolor": "#2a3f5f",
             "gridcolor": "white",
             "linecolor": "white",
             "minorgridcolor": "white",
             "startlinecolor": "#2a3f5f"
            },
            "type": "carpet"
           }
          ],
          "choropleth": [
           {
            "colorbar": {
             "outlinewidth": 0,
             "ticks": ""
            },
            "type": "choropleth"
           }
          ],
          "contour": [
           {
            "colorbar": {
             "outlinewidth": 0,
             "ticks": ""
            },
            "colorscale": [
             [
              0,
              "#0d0887"
             ],
             [
              0.1111111111111111,
              "#46039f"
             ],
             [
              0.2222222222222222,
              "#7201a8"
             ],
             [
              0.3333333333333333,
              "#9c179e"
             ],
             [
              0.4444444444444444,
              "#bd3786"
             ],
             [
              0.5555555555555556,
              "#d8576b"
             ],
             [
              0.6666666666666666,
              "#ed7953"
             ],
             [
              0.7777777777777778,
              "#fb9f3a"
             ],
             [
              0.8888888888888888,
              "#fdca26"
             ],
             [
              1,
              "#f0f921"
             ]
            ],
            "type": "contour"
           }
          ],
          "contourcarpet": [
           {
            "colorbar": {
             "outlinewidth": 0,
             "ticks": ""
            },
            "type": "contourcarpet"
           }
          ],
          "heatmap": [
           {
            "colorbar": {
             "outlinewidth": 0,
             "ticks": ""
            },
            "colorscale": [
             [
              0,
              "#0d0887"
             ],
             [
              0.1111111111111111,
              "#46039f"
             ],
             [
              0.2222222222222222,
              "#7201a8"
             ],
             [
              0.3333333333333333,
              "#9c179e"
             ],
             [
              0.4444444444444444,
              "#bd3786"
             ],
             [
              0.5555555555555556,
              "#d8576b"
             ],
             [
              0.6666666666666666,
              "#ed7953"
             ],
             [
              0.7777777777777778,
              "#fb9f3a"
             ],
             [
              0.8888888888888888,
              "#fdca26"
             ],
             [
              1,
              "#f0f921"
             ]
            ],
            "type": "heatmap"
           }
          ],
          "heatmapgl": [
           {
            "colorbar": {
             "outlinewidth": 0,
             "ticks": ""
            },
            "colorscale": [
             [
              0,
              "#0d0887"
             ],
             [
              0.1111111111111111,
              "#46039f"
             ],
             [
              0.2222222222222222,
              "#7201a8"
             ],
             [
              0.3333333333333333,
              "#9c179e"
             ],
             [
              0.4444444444444444,
              "#bd3786"
             ],
             [
              0.5555555555555556,
              "#d8576b"
             ],
             [
              0.6666666666666666,
              "#ed7953"
             ],
             [
              0.7777777777777778,
              "#fb9f3a"
             ],
             [
              0.8888888888888888,
              "#fdca26"
             ],
             [
              1,
              "#f0f921"
             ]
            ],
            "type": "heatmapgl"
           }
          ],
          "histogram": [
           {
            "marker": {
             "pattern": {
              "fillmode": "overlay",
              "size": 10,
              "solidity": 0.2
             }
            },
            "type": "histogram"
           }
          ],
          "histogram2d": [
           {
            "colorbar": {
             "outlinewidth": 0,
             "ticks": ""
            },
            "colorscale": [
             [
              0,
              "#0d0887"
             ],
             [
              0.1111111111111111,
              "#46039f"
             ],
             [
              0.2222222222222222,
              "#7201a8"
             ],
             [
              0.3333333333333333,
              "#9c179e"
             ],
             [
              0.4444444444444444,
              "#bd3786"
             ],
             [
              0.5555555555555556,
              "#d8576b"
             ],
             [
              0.6666666666666666,
              "#ed7953"
             ],
             [
              0.7777777777777778,
              "#fb9f3a"
             ],
             [
              0.8888888888888888,
              "#fdca26"
             ],
             [
              1,
              "#f0f921"
             ]
            ],
            "type": "histogram2d"
           }
          ],
          "histogram2dcontour": [
           {
            "colorbar": {
             "outlinewidth": 0,
             "ticks": ""
            },
            "colorscale": [
             [
              0,
              "#0d0887"
             ],
             [
              0.1111111111111111,
              "#46039f"
             ],
             [
              0.2222222222222222,
              "#7201a8"
             ],
             [
              0.3333333333333333,
              "#9c179e"
             ],
             [
              0.4444444444444444,
              "#bd3786"
             ],
             [
              0.5555555555555556,
              "#d8576b"
             ],
             [
              0.6666666666666666,
              "#ed7953"
             ],
             [
              0.7777777777777778,
              "#fb9f3a"
             ],
             [
              0.8888888888888888,
              "#fdca26"
             ],
             [
              1,
              "#f0f921"
             ]
            ],
            "type": "histogram2dcontour"
           }
          ],
          "mesh3d": [
           {
            "colorbar": {
             "outlinewidth": 0,
             "ticks": ""
            },
            "type": "mesh3d"
           }
          ],
          "parcoords": [
           {
            "line": {
             "colorbar": {
              "outlinewidth": 0,
              "ticks": ""
             }
            },
            "type": "parcoords"
           }
          ],
          "pie": [
           {
            "automargin": true,
            "type": "pie"
           }
          ],
          "scatter": [
           {
            "marker": {
             "colorbar": {
              "outlinewidth": 0,
              "ticks": ""
             }
            },
            "type": "scatter"
           }
          ],
          "scatter3d": [
           {
            "line": {
             "colorbar": {
              "outlinewidth": 0,
              "ticks": ""
             }
            },
            "marker": {
             "colorbar": {
              "outlinewidth": 0,
              "ticks": ""
             }
            },
            "type": "scatter3d"
           }
          ],
          "scattercarpet": [
           {
            "marker": {
             "colorbar": {
              "outlinewidth": 0,
              "ticks": ""
             }
            },
            "type": "scattercarpet"
           }
          ],
          "scattergeo": [
           {
            "marker": {
             "colorbar": {
              "outlinewidth": 0,
              "ticks": ""
             }
            },
            "type": "scattergeo"
           }
          ],
          "scattergl": [
           {
            "marker": {
             "colorbar": {
              "outlinewidth": 0,
              "ticks": ""
             }
            },
            "type": "scattergl"
           }
          ],
          "scattermapbox": [
           {
            "marker": {
             "colorbar": {
              "outlinewidth": 0,
              "ticks": ""
             }
            },
            "type": "scattermapbox"
           }
          ],
          "scatterpolar": [
           {
            "marker": {
             "colorbar": {
              "outlinewidth": 0,
              "ticks": ""
             }
            },
            "type": "scatterpolar"
           }
          ],
          "scatterpolargl": [
           {
            "marker": {
             "colorbar": {
              "outlinewidth": 0,
              "ticks": ""
             }
            },
            "type": "scatterpolargl"
           }
          ],
          "scatterternary": [
           {
            "marker": {
             "colorbar": {
              "outlinewidth": 0,
              "ticks": ""
             }
            },
            "type": "scatterternary"
           }
          ],
          "surface": [
           {
            "colorbar": {
             "outlinewidth": 0,
             "ticks": ""
            },
            "colorscale": [
             [
              0,
              "#0d0887"
             ],
             [
              0.1111111111111111,
              "#46039f"
             ],
             [
              0.2222222222222222,
              "#7201a8"
             ],
             [
              0.3333333333333333,
              "#9c179e"
             ],
             [
              0.4444444444444444,
              "#bd3786"
             ],
             [
              0.5555555555555556,
              "#d8576b"
             ],
             [
              0.6666666666666666,
              "#ed7953"
             ],
             [
              0.7777777777777778,
              "#fb9f3a"
             ],
             [
              0.8888888888888888,
              "#fdca26"
             ],
             [
              1,
              "#f0f921"
             ]
            ],
            "type": "surface"
           }
          ],
          "table": [
           {
            "cells": {
             "fill": {
              "color": "#EBF0F8"
             },
             "line": {
              "color": "white"
             }
            },
            "header": {
             "fill": {
              "color": "#C8D4E3"
             },
             "line": {
              "color": "white"
             }
            },
            "type": "table"
           }
          ]
         },
         "layout": {
          "annotationdefaults": {
           "arrowcolor": "#2a3f5f",
           "arrowhead": 0,
           "arrowwidth": 1
          },
          "autotypenumbers": "strict",
          "coloraxis": {
           "colorbar": {
            "outlinewidth": 0,
            "ticks": ""
           }
          },
          "colorscale": {
           "diverging": [
            [
             0,
             "#8e0152"
            ],
            [
             0.1,
             "#c51b7d"
            ],
            [
             0.2,
             "#de77ae"
            ],
            [
             0.3,
             "#f1b6da"
            ],
            [
             0.4,
             "#fde0ef"
            ],
            [
             0.5,
             "#f7f7f7"
            ],
            [
             0.6,
             "#e6f5d0"
            ],
            [
             0.7,
             "#b8e186"
            ],
            [
             0.8,
             "#7fbc41"
            ],
            [
             0.9,
             "#4d9221"
            ],
            [
             1,
             "#276419"
            ]
           ],
           "sequential": [
            [
             0,
             "#0d0887"
            ],
            [
             0.1111111111111111,
             "#46039f"
            ],
            [
             0.2222222222222222,
             "#7201a8"
            ],
            [
             0.3333333333333333,
             "#9c179e"
            ],
            [
             0.4444444444444444,
             "#bd3786"
            ],
            [
             0.5555555555555556,
             "#d8576b"
            ],
            [
             0.6666666666666666,
             "#ed7953"
            ],
            [
             0.7777777777777778,
             "#fb9f3a"
            ],
            [
             0.8888888888888888,
             "#fdca26"
            ],
            [
             1,
             "#f0f921"
            ]
           ],
           "sequentialminus": [
            [
             0,
             "#0d0887"
            ],
            [
             0.1111111111111111,
             "#46039f"
            ],
            [
             0.2222222222222222,
             "#7201a8"
            ],
            [
             0.3333333333333333,
             "#9c179e"
            ],
            [
             0.4444444444444444,
             "#bd3786"
            ],
            [
             0.5555555555555556,
             "#d8576b"
            ],
            [
             0.6666666666666666,
             "#ed7953"
            ],
            [
             0.7777777777777778,
             "#fb9f3a"
            ],
            [
             0.8888888888888888,
             "#fdca26"
            ],
            [
             1,
             "#f0f921"
            ]
           ]
          },
          "colorway": [
           "#636efa",
           "#EF553B",
           "#00cc96",
           "#ab63fa",
           "#FFA15A",
           "#19d3f3",
           "#FF6692",
           "#B6E880",
           "#FF97FF",
           "#FECB52"
          ],
          "font": {
           "color": "#2a3f5f"
          },
          "geo": {
           "bgcolor": "white",
           "lakecolor": "white",
           "landcolor": "#E5ECF6",
           "showlakes": true,
           "showland": true,
           "subunitcolor": "white"
          },
          "hoverlabel": {
           "align": "left"
          },
          "hovermode": "closest",
          "mapbox": {
           "style": "light"
          },
          "paper_bgcolor": "white",
          "plot_bgcolor": "#E5ECF6",
          "polar": {
           "angularaxis": {
            "gridcolor": "white",
            "linecolor": "white",
            "ticks": ""
           },
           "bgcolor": "#E5ECF6",
           "radialaxis": {
            "gridcolor": "white",
            "linecolor": "white",
            "ticks": ""
           }
          },
          "scene": {
           "xaxis": {
            "backgroundcolor": "#E5ECF6",
            "gridcolor": "white",
            "gridwidth": 2,
            "linecolor": "white",
            "showbackground": true,
            "ticks": "",
            "zerolinecolor": "white"
           },
           "yaxis": {
            "backgroundcolor": "#E5ECF6",
            "gridcolor": "white",
            "gridwidth": 2,
            "linecolor": "white",
            "showbackground": true,
            "ticks": "",
            "zerolinecolor": "white"
           },
           "zaxis": {
            "backgroundcolor": "#E5ECF6",
            "gridcolor": "white",
            "gridwidth": 2,
            "linecolor": "white",
            "showbackground": true,
            "ticks": "",
            "zerolinecolor": "white"
           }
          },
          "shapedefaults": {
           "line": {
            "color": "#2a3f5f"
           }
          },
          "ternary": {
           "aaxis": {
            "gridcolor": "white",
            "linecolor": "white",
            "ticks": ""
           },
           "baxis": {
            "gridcolor": "white",
            "linecolor": "white",
            "ticks": ""
           },
           "bgcolor": "#E5ECF6",
           "caxis": {
            "gridcolor": "white",
            "linecolor": "white",
            "ticks": ""
           }
          },
          "title": {
           "x": 0.05
          },
          "xaxis": {
           "automargin": true,
           "gridcolor": "white",
           "linecolor": "white",
           "ticks": "",
           "title": {
            "standoff": 15
           },
           "zerolinecolor": "white",
           "zerolinewidth": 2
          },
          "yaxis": {
           "automargin": true,
           "gridcolor": "white",
           "linecolor": "white",
           "ticks": "",
           "title": {
            "standoff": 15
           },
           "zerolinecolor": "white",
           "zerolinewidth": 2
          }
         }
        },
        "title": {
         "text": "Gate postion"
        }
       }
      }
     },
     "metadata": {},
     "output_type": "display_data"
    },
    {
     "name": "stdout",
     "output_type": "stream",
     "text": [
      "-511763.2293555578\n"
     ]
    },
    {
     "data": {
      "application/vnd.plotly.v1+json": {
       "config": {
        "plotlyServerURL": "https://plot.ly"
       },
       "data": [
        {
         "name": "Rsv 1 gate position",
         "type": "scatter",
         "x": [
          "2022-04-16T00:00:00",
          "2022-04-16T01:00:00",
          "2022-04-16T02:00:00",
          "2022-04-16T03:00:00",
          "2022-04-16T04:00:00",
          "2022-04-16T05:00:00",
          "2022-04-16T06:00:00",
          "2022-04-16T07:00:00",
          "2022-04-16T08:00:00",
          "2022-04-16T09:00:00",
          "2022-04-16T10:00:00",
          "2022-04-16T11:00:00",
          "2022-04-16T12:00:00",
          "2022-04-16T13:00:00",
          "2022-04-16T14:00:00",
          "2022-04-16T15:00:00",
          "2022-04-16T16:00:00",
          "2022-04-16T17:00:00",
          "2022-04-16T18:00:00",
          "2022-04-16T19:00:00",
          "2022-04-16T20:00:00",
          "2022-04-16T21:00:00",
          "2022-04-16T22:00:00",
          "2022-04-16T23:00:00",
          "2022-04-17T00:00:00",
          "2022-04-17T01:00:00",
          "2022-04-17T02:00:00",
          "2022-04-17T03:00:00",
          "2022-04-17T04:00:00",
          "2022-04-17T05:00:00",
          "2022-04-17T06:00:00",
          "2022-04-17T07:00:00",
          "2022-04-17T08:00:00",
          "2022-04-17T09:00:00",
          "2022-04-17T10:00:00",
          "2022-04-17T11:00:00",
          "2022-04-17T12:00:00",
          "2022-04-17T13:00:00",
          "2022-04-17T14:00:00",
          "2022-04-17T15:00:00",
          "2022-04-17T16:00:00",
          "2022-04-17T17:00:00",
          "2022-04-17T18:00:00",
          "2022-04-17T19:00:00",
          "2022-04-17T20:00:00",
          "2022-04-17T21:00:00",
          "2022-04-17T22:00:00",
          "2022-04-17T23:00:00",
          "2022-04-18T00:00:00",
          "2022-04-18T01:00:00",
          "2022-04-18T02:00:00",
          "2022-04-18T03:00:00",
          "2022-04-18T04:00:00",
          "2022-04-18T05:00:00",
          "2022-04-18T06:00:00",
          "2022-04-18T07:00:00",
          "2022-04-18T08:00:00",
          "2022-04-18T09:00:00",
          "2022-04-18T10:00:00",
          "2022-04-18T11:00:00",
          "2022-04-18T12:00:00",
          "2022-04-18T13:00:00",
          "2022-04-18T14:00:00",
          "2022-04-18T15:00:00",
          "2022-04-18T16:00:00",
          "2022-04-18T17:00:00",
          "2022-04-18T18:00:00",
          "2022-04-18T19:00:00",
          "2022-04-18T20:00:00",
          "2022-04-18T21:00:00",
          "2022-04-18T22:00:00",
          "2022-04-18T23:00:00"
         ],
         "y": [
          0.2849353033844799,
          0.12625664744124193,
          0.060929615407508964,
          0,
          0,
          0,
          0.017391332470565173,
          0.03572983399527574,
          0,
          0,
          0,
          0,
          0,
          0,
          0,
          0,
          1,
          0,
          0.020462254720761342,
          0.4316006345770019,
          0.1859327640461507,
          0.08699500778713021,
          0,
          0,
          0,
          0,
          0,
          0.008873501488281914,
          1,
          0,
          0,
          0,
          0,
          0,
          0,
          0,
          1,
          1,
          1,
          1,
          1,
          1,
          1,
          0,
          0,
          0.1404016232362209,
          0.056742833896362324,
          0,
          1,
          1,
          1,
          1,
          1,
          1,
          1,
          0,
          0.4564329194699401,
          0,
          0,
          0,
          1,
          1,
          1,
          0.19543569483710924,
          1,
          0.16416198682448657,
          0,
          0,
          0.16696384628956876,
          0.15275889170904944,
          0.30407029817966014,
          0
         ]
        }
       ],
       "layout": {
        "template": {
         "data": {
          "bar": [
           {
            "error_x": {
             "color": "#2a3f5f"
            },
            "error_y": {
             "color": "#2a3f5f"
            },
            "marker": {
             "line": {
              "color": "#E5ECF6",
              "width": 0.5
             },
             "pattern": {
              "fillmode": "overlay",
              "size": 10,
              "solidity": 0.2
             }
            },
            "type": "bar"
           }
          ],
          "barpolar": [
           {
            "marker": {
             "line": {
              "color": "#E5ECF6",
              "width": 0.5
             },
             "pattern": {
              "fillmode": "overlay",
              "size": 10,
              "solidity": 0.2
             }
            },
            "type": "barpolar"
           }
          ],
          "carpet": [
           {
            "aaxis": {
             "endlinecolor": "#2a3f5f",
             "gridcolor": "white",
             "linecolor": "white",
             "minorgridcolor": "white",
             "startlinecolor": "#2a3f5f"
            },
            "baxis": {
             "endlinecolor": "#2a3f5f",
             "gridcolor": "white",
             "linecolor": "white",
             "minorgridcolor": "white",
             "startlinecolor": "#2a3f5f"
            },
            "type": "carpet"
           }
          ],
          "choropleth": [
           {
            "colorbar": {
             "outlinewidth": 0,
             "ticks": ""
            },
            "type": "choropleth"
           }
          ],
          "contour": [
           {
            "colorbar": {
             "outlinewidth": 0,
             "ticks": ""
            },
            "colorscale": [
             [
              0,
              "#0d0887"
             ],
             [
              0.1111111111111111,
              "#46039f"
             ],
             [
              0.2222222222222222,
              "#7201a8"
             ],
             [
              0.3333333333333333,
              "#9c179e"
             ],
             [
              0.4444444444444444,
              "#bd3786"
             ],
             [
              0.5555555555555556,
              "#d8576b"
             ],
             [
              0.6666666666666666,
              "#ed7953"
             ],
             [
              0.7777777777777778,
              "#fb9f3a"
             ],
             [
              0.8888888888888888,
              "#fdca26"
             ],
             [
              1,
              "#f0f921"
             ]
            ],
            "type": "contour"
           }
          ],
          "contourcarpet": [
           {
            "colorbar": {
             "outlinewidth": 0,
             "ticks": ""
            },
            "type": "contourcarpet"
           }
          ],
          "heatmap": [
           {
            "colorbar": {
             "outlinewidth": 0,
             "ticks": ""
            },
            "colorscale": [
             [
              0,
              "#0d0887"
             ],
             [
              0.1111111111111111,
              "#46039f"
             ],
             [
              0.2222222222222222,
              "#7201a8"
             ],
             [
              0.3333333333333333,
              "#9c179e"
             ],
             [
              0.4444444444444444,
              "#bd3786"
             ],
             [
              0.5555555555555556,
              "#d8576b"
             ],
             [
              0.6666666666666666,
              "#ed7953"
             ],
             [
              0.7777777777777778,
              "#fb9f3a"
             ],
             [
              0.8888888888888888,
              "#fdca26"
             ],
             [
              1,
              "#f0f921"
             ]
            ],
            "type": "heatmap"
           }
          ],
          "heatmapgl": [
           {
            "colorbar": {
             "outlinewidth": 0,
             "ticks": ""
            },
            "colorscale": [
             [
              0,
              "#0d0887"
             ],
             [
              0.1111111111111111,
              "#46039f"
             ],
             [
              0.2222222222222222,
              "#7201a8"
             ],
             [
              0.3333333333333333,
              "#9c179e"
             ],
             [
              0.4444444444444444,
              "#bd3786"
             ],
             [
              0.5555555555555556,
              "#d8576b"
             ],
             [
              0.6666666666666666,
              "#ed7953"
             ],
             [
              0.7777777777777778,
              "#fb9f3a"
             ],
             [
              0.8888888888888888,
              "#fdca26"
             ],
             [
              1,
              "#f0f921"
             ]
            ],
            "type": "heatmapgl"
           }
          ],
          "histogram": [
           {
            "marker": {
             "pattern": {
              "fillmode": "overlay",
              "size": 10,
              "solidity": 0.2
             }
            },
            "type": "histogram"
           }
          ],
          "histogram2d": [
           {
            "colorbar": {
             "outlinewidth": 0,
             "ticks": ""
            },
            "colorscale": [
             [
              0,
              "#0d0887"
             ],
             [
              0.1111111111111111,
              "#46039f"
             ],
             [
              0.2222222222222222,
              "#7201a8"
             ],
             [
              0.3333333333333333,
              "#9c179e"
             ],
             [
              0.4444444444444444,
              "#bd3786"
             ],
             [
              0.5555555555555556,
              "#d8576b"
             ],
             [
              0.6666666666666666,
              "#ed7953"
             ],
             [
              0.7777777777777778,
              "#fb9f3a"
             ],
             [
              0.8888888888888888,
              "#fdca26"
             ],
             [
              1,
              "#f0f921"
             ]
            ],
            "type": "histogram2d"
           }
          ],
          "histogram2dcontour": [
           {
            "colorbar": {
             "outlinewidth": 0,
             "ticks": ""
            },
            "colorscale": [
             [
              0,
              "#0d0887"
             ],
             [
              0.1111111111111111,
              "#46039f"
             ],
             [
              0.2222222222222222,
              "#7201a8"
             ],
             [
              0.3333333333333333,
              "#9c179e"
             ],
             [
              0.4444444444444444,
              "#bd3786"
             ],
             [
              0.5555555555555556,
              "#d8576b"
             ],
             [
              0.6666666666666666,
              "#ed7953"
             ],
             [
              0.7777777777777778,
              "#fb9f3a"
             ],
             [
              0.8888888888888888,
              "#fdca26"
             ],
             [
              1,
              "#f0f921"
             ]
            ],
            "type": "histogram2dcontour"
           }
          ],
          "mesh3d": [
           {
            "colorbar": {
             "outlinewidth": 0,
             "ticks": ""
            },
            "type": "mesh3d"
           }
          ],
          "parcoords": [
           {
            "line": {
             "colorbar": {
              "outlinewidth": 0,
              "ticks": ""
             }
            },
            "type": "parcoords"
           }
          ],
          "pie": [
           {
            "automargin": true,
            "type": "pie"
           }
          ],
          "scatter": [
           {
            "marker": {
             "colorbar": {
              "outlinewidth": 0,
              "ticks": ""
             }
            },
            "type": "scatter"
           }
          ],
          "scatter3d": [
           {
            "line": {
             "colorbar": {
              "outlinewidth": 0,
              "ticks": ""
             }
            },
            "marker": {
             "colorbar": {
              "outlinewidth": 0,
              "ticks": ""
             }
            },
            "type": "scatter3d"
           }
          ],
          "scattercarpet": [
           {
            "marker": {
             "colorbar": {
              "outlinewidth": 0,
              "ticks": ""
             }
            },
            "type": "scattercarpet"
           }
          ],
          "scattergeo": [
           {
            "marker": {
             "colorbar": {
              "outlinewidth": 0,
              "ticks": ""
             }
            },
            "type": "scattergeo"
           }
          ],
          "scattergl": [
           {
            "marker": {
             "colorbar": {
              "outlinewidth": 0,
              "ticks": ""
             }
            },
            "type": "scattergl"
           }
          ],
          "scattermapbox": [
           {
            "marker": {
             "colorbar": {
              "outlinewidth": 0,
              "ticks": ""
             }
            },
            "type": "scattermapbox"
           }
          ],
          "scatterpolar": [
           {
            "marker": {
             "colorbar": {
              "outlinewidth": 0,
              "ticks": ""
             }
            },
            "type": "scatterpolar"
           }
          ],
          "scatterpolargl": [
           {
            "marker": {
             "colorbar": {
              "outlinewidth": 0,
              "ticks": ""
             }
            },
            "type": "scatterpolargl"
           }
          ],
          "scatterternary": [
           {
            "marker": {
             "colorbar": {
              "outlinewidth": 0,
              "ticks": ""
             }
            },
            "type": "scatterternary"
           }
          ],
          "surface": [
           {
            "colorbar": {
             "outlinewidth": 0,
             "ticks": ""
            },
            "colorscale": [
             [
              0,
              "#0d0887"
             ],
             [
              0.1111111111111111,
              "#46039f"
             ],
             [
              0.2222222222222222,
              "#7201a8"
             ],
             [
              0.3333333333333333,
              "#9c179e"
             ],
             [
              0.4444444444444444,
              "#bd3786"
             ],
             [
              0.5555555555555556,
              "#d8576b"
             ],
             [
              0.6666666666666666,
              "#ed7953"
             ],
             [
              0.7777777777777778,
              "#fb9f3a"
             ],
             [
              0.8888888888888888,
              "#fdca26"
             ],
             [
              1,
              "#f0f921"
             ]
            ],
            "type": "surface"
           }
          ],
          "table": [
           {
            "cells": {
             "fill": {
              "color": "#EBF0F8"
             },
             "line": {
              "color": "white"
             }
            },
            "header": {
             "fill": {
              "color": "#C8D4E3"
             },
             "line": {
              "color": "white"
             }
            },
            "type": "table"
           }
          ]
         },
         "layout": {
          "annotationdefaults": {
           "arrowcolor": "#2a3f5f",
           "arrowhead": 0,
           "arrowwidth": 1
          },
          "autotypenumbers": "strict",
          "coloraxis": {
           "colorbar": {
            "outlinewidth": 0,
            "ticks": ""
           }
          },
          "colorscale": {
           "diverging": [
            [
             0,
             "#8e0152"
            ],
            [
             0.1,
             "#c51b7d"
            ],
            [
             0.2,
             "#de77ae"
            ],
            [
             0.3,
             "#f1b6da"
            ],
            [
             0.4,
             "#fde0ef"
            ],
            [
             0.5,
             "#f7f7f7"
            ],
            [
             0.6,
             "#e6f5d0"
            ],
            [
             0.7,
             "#b8e186"
            ],
            [
             0.8,
             "#7fbc41"
            ],
            [
             0.9,
             "#4d9221"
            ],
            [
             1,
             "#276419"
            ]
           ],
           "sequential": [
            [
             0,
             "#0d0887"
            ],
            [
             0.1111111111111111,
             "#46039f"
            ],
            [
             0.2222222222222222,
             "#7201a8"
            ],
            [
             0.3333333333333333,
             "#9c179e"
            ],
            [
             0.4444444444444444,
             "#bd3786"
            ],
            [
             0.5555555555555556,
             "#d8576b"
            ],
            [
             0.6666666666666666,
             "#ed7953"
            ],
            [
             0.7777777777777778,
             "#fb9f3a"
            ],
            [
             0.8888888888888888,
             "#fdca26"
            ],
            [
             1,
             "#f0f921"
            ]
           ],
           "sequentialminus": [
            [
             0,
             "#0d0887"
            ],
            [
             0.1111111111111111,
             "#46039f"
            ],
            [
             0.2222222222222222,
             "#7201a8"
            ],
            [
             0.3333333333333333,
             "#9c179e"
            ],
            [
             0.4444444444444444,
             "#bd3786"
            ],
            [
             0.5555555555555556,
             "#d8576b"
            ],
            [
             0.6666666666666666,
             "#ed7953"
            ],
            [
             0.7777777777777778,
             "#fb9f3a"
            ],
            [
             0.8888888888888888,
             "#fdca26"
            ],
            [
             1,
             "#f0f921"
            ]
           ]
          },
          "colorway": [
           "#636efa",
           "#EF553B",
           "#00cc96",
           "#ab63fa",
           "#FFA15A",
           "#19d3f3",
           "#FF6692",
           "#B6E880",
           "#FF97FF",
           "#FECB52"
          ],
          "font": {
           "color": "#2a3f5f"
          },
          "geo": {
           "bgcolor": "white",
           "lakecolor": "white",
           "landcolor": "#E5ECF6",
           "showlakes": true,
           "showland": true,
           "subunitcolor": "white"
          },
          "hoverlabel": {
           "align": "left"
          },
          "hovermode": "closest",
          "mapbox": {
           "style": "light"
          },
          "paper_bgcolor": "white",
          "plot_bgcolor": "#E5ECF6",
          "polar": {
           "angularaxis": {
            "gridcolor": "white",
            "linecolor": "white",
            "ticks": ""
           },
           "bgcolor": "#E5ECF6",
           "radialaxis": {
            "gridcolor": "white",
            "linecolor": "white",
            "ticks": ""
           }
          },
          "scene": {
           "xaxis": {
            "backgroundcolor": "#E5ECF6",
            "gridcolor": "white",
            "gridwidth": 2,
            "linecolor": "white",
            "showbackground": true,
            "ticks": "",
            "zerolinecolor": "white"
           },
           "yaxis": {
            "backgroundcolor": "#E5ECF6",
            "gridcolor": "white",
            "gridwidth": 2,
            "linecolor": "white",
            "showbackground": true,
            "ticks": "",
            "zerolinecolor": "white"
           },
           "zaxis": {
            "backgroundcolor": "#E5ECF6",
            "gridcolor": "white",
            "gridwidth": 2,
            "linecolor": "white",
            "showbackground": true,
            "ticks": "",
            "zerolinecolor": "white"
           }
          },
          "shapedefaults": {
           "line": {
            "color": "#2a3f5f"
           }
          },
          "ternary": {
           "aaxis": {
            "gridcolor": "white",
            "linecolor": "white",
            "ticks": ""
           },
           "baxis": {
            "gridcolor": "white",
            "linecolor": "white",
            "ticks": ""
           },
           "bgcolor": "#E5ECF6",
           "caxis": {
            "gridcolor": "white",
            "linecolor": "white",
            "ticks": ""
           }
          },
          "title": {
           "x": 0.05
          },
          "xaxis": {
           "automargin": true,
           "gridcolor": "white",
           "linecolor": "white",
           "ticks": "",
           "title": {
            "standoff": 15
           },
           "zerolinecolor": "white",
           "zerolinewidth": 2
          },
          "yaxis": {
           "automargin": true,
           "gridcolor": "white",
           "linecolor": "white",
           "ticks": "",
           "title": {
            "standoff": 15
           },
           "zerolinecolor": "white",
           "zerolinewidth": 2
          }
         }
        },
        "title": {
         "text": "Gate postion"
        }
       }
      }
     },
     "metadata": {},
     "output_type": "display_data"
    },
    {
     "name": "stdout",
     "output_type": "stream",
     "text": [
      "-512016.19474482234\n"
     ]
    },
    {
     "data": {
      "application/vnd.plotly.v1+json": {
       "config": {
        "plotlyServerURL": "https://plot.ly"
       },
       "data": [
        {
         "name": "Rsv 1 gate position",
         "type": "scatter",
         "x": [
          "2022-04-16T00:00:00",
          "2022-04-16T01:00:00",
          "2022-04-16T02:00:00",
          "2022-04-16T03:00:00",
          "2022-04-16T04:00:00",
          "2022-04-16T05:00:00",
          "2022-04-16T06:00:00",
          "2022-04-16T07:00:00",
          "2022-04-16T08:00:00",
          "2022-04-16T09:00:00",
          "2022-04-16T10:00:00",
          "2022-04-16T11:00:00",
          "2022-04-16T12:00:00",
          "2022-04-16T13:00:00",
          "2022-04-16T14:00:00",
          "2022-04-16T15:00:00",
          "2022-04-16T16:00:00",
          "2022-04-16T17:00:00",
          "2022-04-16T18:00:00",
          "2022-04-16T19:00:00",
          "2022-04-16T20:00:00",
          "2022-04-16T21:00:00",
          "2022-04-16T22:00:00",
          "2022-04-16T23:00:00",
          "2022-04-17T00:00:00",
          "2022-04-17T01:00:00",
          "2022-04-17T02:00:00",
          "2022-04-17T03:00:00",
          "2022-04-17T04:00:00",
          "2022-04-17T05:00:00",
          "2022-04-17T06:00:00",
          "2022-04-17T07:00:00",
          "2022-04-17T08:00:00",
          "2022-04-17T09:00:00",
          "2022-04-17T10:00:00",
          "2022-04-17T11:00:00",
          "2022-04-17T12:00:00",
          "2022-04-17T13:00:00",
          "2022-04-17T14:00:00",
          "2022-04-17T15:00:00",
          "2022-04-17T16:00:00",
          "2022-04-17T17:00:00",
          "2022-04-17T18:00:00",
          "2022-04-17T19:00:00",
          "2022-04-17T20:00:00",
          "2022-04-17T21:00:00",
          "2022-04-17T22:00:00",
          "2022-04-17T23:00:00",
          "2022-04-18T00:00:00",
          "2022-04-18T01:00:00",
          "2022-04-18T02:00:00",
          "2022-04-18T03:00:00",
          "2022-04-18T04:00:00",
          "2022-04-18T05:00:00",
          "2022-04-18T06:00:00",
          "2022-04-18T07:00:00",
          "2022-04-18T08:00:00",
          "2022-04-18T09:00:00",
          "2022-04-18T10:00:00",
          "2022-04-18T11:00:00",
          "2022-04-18T12:00:00",
          "2022-04-18T13:00:00",
          "2022-04-18T14:00:00",
          "2022-04-18T15:00:00",
          "2022-04-18T16:00:00",
          "2022-04-18T17:00:00",
          "2022-04-18T18:00:00",
          "2022-04-18T19:00:00",
          "2022-04-18T20:00:00",
          "2022-04-18T21:00:00",
          "2022-04-18T22:00:00",
          "2022-04-18T23:00:00"
         ],
         "y": [
          0.4796900907057235,
          0,
          0.07617981295468441,
          0,
          0.012157584472450536,
          0.07930370566031218,
          0,
          0,
          0.1342648629670623,
          0.00034758245461490256,
          0,
          0.10481580647224975,
          0,
          0,
          0,
          0,
          1,
          0,
          0.725389971145564,
          1,
          0.1874847966794238,
          0.10122210554710175,
          0.0753672125696989,
          0,
          0.004957436420801278,
          0,
          0.8417971749596438,
          0.3044602324988002,
          1,
          0.45969852600201183,
          0.5348567875552849,
          0.4006661240603389,
          0.011369025279996526,
          0,
          0,
          0,
          0,
          1,
          1,
          1,
          1,
          1,
          0,
          0.07004946803088936,
          0.12361313691997208,
          0.29859000468684094,
          0,
          0,
          1,
          1,
          1,
          1,
          1,
          1,
          1,
          0,
          1,
          0,
          0,
          0,
          0,
          1,
          1,
          1,
          0,
          0,
          0.04115915589323866,
          0,
          0.04496778624357482,
          0.35583783250007783,
          0.014418109314243754,
          0.17065092020191788
         ]
        }
       ],
       "layout": {
        "template": {
         "data": {
          "bar": [
           {
            "error_x": {
             "color": "#2a3f5f"
            },
            "error_y": {
             "color": "#2a3f5f"
            },
            "marker": {
             "line": {
              "color": "#E5ECF6",
              "width": 0.5
             },
             "pattern": {
              "fillmode": "overlay",
              "size": 10,
              "solidity": 0.2
             }
            },
            "type": "bar"
           }
          ],
          "barpolar": [
           {
            "marker": {
             "line": {
              "color": "#E5ECF6",
              "width": 0.5
             },
             "pattern": {
              "fillmode": "overlay",
              "size": 10,
              "solidity": 0.2
             }
            },
            "type": "barpolar"
           }
          ],
          "carpet": [
           {
            "aaxis": {
             "endlinecolor": "#2a3f5f",
             "gridcolor": "white",
             "linecolor": "white",
             "minorgridcolor": "white",
             "startlinecolor": "#2a3f5f"
            },
            "baxis": {
             "endlinecolor": "#2a3f5f",
             "gridcolor": "white",
             "linecolor": "white",
             "minorgridcolor": "white",
             "startlinecolor": "#2a3f5f"
            },
            "type": "carpet"
           }
          ],
          "choropleth": [
           {
            "colorbar": {
             "outlinewidth": 0,
             "ticks": ""
            },
            "type": "choropleth"
           }
          ],
          "contour": [
           {
            "colorbar": {
             "outlinewidth": 0,
             "ticks": ""
            },
            "colorscale": [
             [
              0,
              "#0d0887"
             ],
             [
              0.1111111111111111,
              "#46039f"
             ],
             [
              0.2222222222222222,
              "#7201a8"
             ],
             [
              0.3333333333333333,
              "#9c179e"
             ],
             [
              0.4444444444444444,
              "#bd3786"
             ],
             [
              0.5555555555555556,
              "#d8576b"
             ],
             [
              0.6666666666666666,
              "#ed7953"
             ],
             [
              0.7777777777777778,
              "#fb9f3a"
             ],
             [
              0.8888888888888888,
              "#fdca26"
             ],
             [
              1,
              "#f0f921"
             ]
            ],
            "type": "contour"
           }
          ],
          "contourcarpet": [
           {
            "colorbar": {
             "outlinewidth": 0,
             "ticks": ""
            },
            "type": "contourcarpet"
           }
          ],
          "heatmap": [
           {
            "colorbar": {
             "outlinewidth": 0,
             "ticks": ""
            },
            "colorscale": [
             [
              0,
              "#0d0887"
             ],
             [
              0.1111111111111111,
              "#46039f"
             ],
             [
              0.2222222222222222,
              "#7201a8"
             ],
             [
              0.3333333333333333,
              "#9c179e"
             ],
             [
              0.4444444444444444,
              "#bd3786"
             ],
             [
              0.5555555555555556,
              "#d8576b"
             ],
             [
              0.6666666666666666,
              "#ed7953"
             ],
             [
              0.7777777777777778,
              "#fb9f3a"
             ],
             [
              0.8888888888888888,
              "#fdca26"
             ],
             [
              1,
              "#f0f921"
             ]
            ],
            "type": "heatmap"
           }
          ],
          "heatmapgl": [
           {
            "colorbar": {
             "outlinewidth": 0,
             "ticks": ""
            },
            "colorscale": [
             [
              0,
              "#0d0887"
             ],
             [
              0.1111111111111111,
              "#46039f"
             ],
             [
              0.2222222222222222,
              "#7201a8"
             ],
             [
              0.3333333333333333,
              "#9c179e"
             ],
             [
              0.4444444444444444,
              "#bd3786"
             ],
             [
              0.5555555555555556,
              "#d8576b"
             ],
             [
              0.6666666666666666,
              "#ed7953"
             ],
             [
              0.7777777777777778,
              "#fb9f3a"
             ],
             [
              0.8888888888888888,
              "#fdca26"
             ],
             [
              1,
              "#f0f921"
             ]
            ],
            "type": "heatmapgl"
           }
          ],
          "histogram": [
           {
            "marker": {
             "pattern": {
              "fillmode": "overlay",
              "size": 10,
              "solidity": 0.2
             }
            },
            "type": "histogram"
           }
          ],
          "histogram2d": [
           {
            "colorbar": {
             "outlinewidth": 0,
             "ticks": ""
            },
            "colorscale": [
             [
              0,
              "#0d0887"
             ],
             [
              0.1111111111111111,
              "#46039f"
             ],
             [
              0.2222222222222222,
              "#7201a8"
             ],
             [
              0.3333333333333333,
              "#9c179e"
             ],
             [
              0.4444444444444444,
              "#bd3786"
             ],
             [
              0.5555555555555556,
              "#d8576b"
             ],
             [
              0.6666666666666666,
              "#ed7953"
             ],
             [
              0.7777777777777778,
              "#fb9f3a"
             ],
             [
              0.8888888888888888,
              "#fdca26"
             ],
             [
              1,
              "#f0f921"
             ]
            ],
            "type": "histogram2d"
           }
          ],
          "histogram2dcontour": [
           {
            "colorbar": {
             "outlinewidth": 0,
             "ticks": ""
            },
            "colorscale": [
             [
              0,
              "#0d0887"
             ],
             [
              0.1111111111111111,
              "#46039f"
             ],
             [
              0.2222222222222222,
              "#7201a8"
             ],
             [
              0.3333333333333333,
              "#9c179e"
             ],
             [
              0.4444444444444444,
              "#bd3786"
             ],
             [
              0.5555555555555556,
              "#d8576b"
             ],
             [
              0.6666666666666666,
              "#ed7953"
             ],
             [
              0.7777777777777778,
              "#fb9f3a"
             ],
             [
              0.8888888888888888,
              "#fdca26"
             ],
             [
              1,
              "#f0f921"
             ]
            ],
            "type": "histogram2dcontour"
           }
          ],
          "mesh3d": [
           {
            "colorbar": {
             "outlinewidth": 0,
             "ticks": ""
            },
            "type": "mesh3d"
           }
          ],
          "parcoords": [
           {
            "line": {
             "colorbar": {
              "outlinewidth": 0,
              "ticks": ""
             }
            },
            "type": "parcoords"
           }
          ],
          "pie": [
           {
            "automargin": true,
            "type": "pie"
           }
          ],
          "scatter": [
           {
            "marker": {
             "colorbar": {
              "outlinewidth": 0,
              "ticks": ""
             }
            },
            "type": "scatter"
           }
          ],
          "scatter3d": [
           {
            "line": {
             "colorbar": {
              "outlinewidth": 0,
              "ticks": ""
             }
            },
            "marker": {
             "colorbar": {
              "outlinewidth": 0,
              "ticks": ""
             }
            },
            "type": "scatter3d"
           }
          ],
          "scattercarpet": [
           {
            "marker": {
             "colorbar": {
              "outlinewidth": 0,
              "ticks": ""
             }
            },
            "type": "scattercarpet"
           }
          ],
          "scattergeo": [
           {
            "marker": {
             "colorbar": {
              "outlinewidth": 0,
              "ticks": ""
             }
            },
            "type": "scattergeo"
           }
          ],
          "scattergl": [
           {
            "marker": {
             "colorbar": {
              "outlinewidth": 0,
              "ticks": ""
             }
            },
            "type": "scattergl"
           }
          ],
          "scattermapbox": [
           {
            "marker": {
             "colorbar": {
              "outlinewidth": 0,
              "ticks": ""
             }
            },
            "type": "scattermapbox"
           }
          ],
          "scatterpolar": [
           {
            "marker": {
             "colorbar": {
              "outlinewidth": 0,
              "ticks": ""
             }
            },
            "type": "scatterpolar"
           }
          ],
          "scatterpolargl": [
           {
            "marker": {
             "colorbar": {
              "outlinewidth": 0,
              "ticks": ""
             }
            },
            "type": "scatterpolargl"
           }
          ],
          "scatterternary": [
           {
            "marker": {
             "colorbar": {
              "outlinewidth": 0,
              "ticks": ""
             }
            },
            "type": "scatterternary"
           }
          ],
          "surface": [
           {
            "colorbar": {
             "outlinewidth": 0,
             "ticks": ""
            },
            "colorscale": [
             [
              0,
              "#0d0887"
             ],
             [
              0.1111111111111111,
              "#46039f"
             ],
             [
              0.2222222222222222,
              "#7201a8"
             ],
             [
              0.3333333333333333,
              "#9c179e"
             ],
             [
              0.4444444444444444,
              "#bd3786"
             ],
             [
              0.5555555555555556,
              "#d8576b"
             ],
             [
              0.6666666666666666,
              "#ed7953"
             ],
             [
              0.7777777777777778,
              "#fb9f3a"
             ],
             [
              0.8888888888888888,
              "#fdca26"
             ],
             [
              1,
              "#f0f921"
             ]
            ],
            "type": "surface"
           }
          ],
          "table": [
           {
            "cells": {
             "fill": {
              "color": "#EBF0F8"
             },
             "line": {
              "color": "white"
             }
            },
            "header": {
             "fill": {
              "color": "#C8D4E3"
             },
             "line": {
              "color": "white"
             }
            },
            "type": "table"
           }
          ]
         },
         "layout": {
          "annotationdefaults": {
           "arrowcolor": "#2a3f5f",
           "arrowhead": 0,
           "arrowwidth": 1
          },
          "autotypenumbers": "strict",
          "coloraxis": {
           "colorbar": {
            "outlinewidth": 0,
            "ticks": ""
           }
          },
          "colorscale": {
           "diverging": [
            [
             0,
             "#8e0152"
            ],
            [
             0.1,
             "#c51b7d"
            ],
            [
             0.2,
             "#de77ae"
            ],
            [
             0.3,
             "#f1b6da"
            ],
            [
             0.4,
             "#fde0ef"
            ],
            [
             0.5,
             "#f7f7f7"
            ],
            [
             0.6,
             "#e6f5d0"
            ],
            [
             0.7,
             "#b8e186"
            ],
            [
             0.8,
             "#7fbc41"
            ],
            [
             0.9,
             "#4d9221"
            ],
            [
             1,
             "#276419"
            ]
           ],
           "sequential": [
            [
             0,
             "#0d0887"
            ],
            [
             0.1111111111111111,
             "#46039f"
            ],
            [
             0.2222222222222222,
             "#7201a8"
            ],
            [
             0.3333333333333333,
             "#9c179e"
            ],
            [
             0.4444444444444444,
             "#bd3786"
            ],
            [
             0.5555555555555556,
             "#d8576b"
            ],
            [
             0.6666666666666666,
             "#ed7953"
            ],
            [
             0.7777777777777778,
             "#fb9f3a"
            ],
            [
             0.8888888888888888,
             "#fdca26"
            ],
            [
             1,
             "#f0f921"
            ]
           ],
           "sequentialminus": [
            [
             0,
             "#0d0887"
            ],
            [
             0.1111111111111111,
             "#46039f"
            ],
            [
             0.2222222222222222,
             "#7201a8"
            ],
            [
             0.3333333333333333,
             "#9c179e"
            ],
            [
             0.4444444444444444,
             "#bd3786"
            ],
            [
             0.5555555555555556,
             "#d8576b"
            ],
            [
             0.6666666666666666,
             "#ed7953"
            ],
            [
             0.7777777777777778,
             "#fb9f3a"
            ],
            [
             0.8888888888888888,
             "#fdca26"
            ],
            [
             1,
             "#f0f921"
            ]
           ]
          },
          "colorway": [
           "#636efa",
           "#EF553B",
           "#00cc96",
           "#ab63fa",
           "#FFA15A",
           "#19d3f3",
           "#FF6692",
           "#B6E880",
           "#FF97FF",
           "#FECB52"
          ],
          "font": {
           "color": "#2a3f5f"
          },
          "geo": {
           "bgcolor": "white",
           "lakecolor": "white",
           "landcolor": "#E5ECF6",
           "showlakes": true,
           "showland": true,
           "subunitcolor": "white"
          },
          "hoverlabel": {
           "align": "left"
          },
          "hovermode": "closest",
          "mapbox": {
           "style": "light"
          },
          "paper_bgcolor": "white",
          "plot_bgcolor": "#E5ECF6",
          "polar": {
           "angularaxis": {
            "gridcolor": "white",
            "linecolor": "white",
            "ticks": ""
           },
           "bgcolor": "#E5ECF6",
           "radialaxis": {
            "gridcolor": "white",
            "linecolor": "white",
            "ticks": ""
           }
          },
          "scene": {
           "xaxis": {
            "backgroundcolor": "#E5ECF6",
            "gridcolor": "white",
            "gridwidth": 2,
            "linecolor": "white",
            "showbackground": true,
            "ticks": "",
            "zerolinecolor": "white"
           },
           "yaxis": {
            "backgroundcolor": "#E5ECF6",
            "gridcolor": "white",
            "gridwidth": 2,
            "linecolor": "white",
            "showbackground": true,
            "ticks": "",
            "zerolinecolor": "white"
           },
           "zaxis": {
            "backgroundcolor": "#E5ECF6",
            "gridcolor": "white",
            "gridwidth": 2,
            "linecolor": "white",
            "showbackground": true,
            "ticks": "",
            "zerolinecolor": "white"
           }
          },
          "shapedefaults": {
           "line": {
            "color": "#2a3f5f"
           }
          },
          "ternary": {
           "aaxis": {
            "gridcolor": "white",
            "linecolor": "white",
            "ticks": ""
           },
           "baxis": {
            "gridcolor": "white",
            "linecolor": "white",
            "ticks": ""
           },
           "bgcolor": "#E5ECF6",
           "caxis": {
            "gridcolor": "white",
            "linecolor": "white",
            "ticks": ""
           }
          },
          "title": {
           "x": 0.05
          },
          "xaxis": {
           "automargin": true,
           "gridcolor": "white",
           "linecolor": "white",
           "ticks": "",
           "title": {
            "standoff": 15
           },
           "zerolinecolor": "white",
           "zerolinewidth": 2
          },
          "yaxis": {
           "automargin": true,
           "gridcolor": "white",
           "linecolor": "white",
           "ticks": "",
           "title": {
            "standoff": 15
           },
           "zerolinecolor": "white",
           "zerolinewidth": 2
          }
         }
        },
        "title": {
         "text": "Gate postion"
        }
       }
      }
     },
     "metadata": {},
     "output_type": "display_data"
    },
    {
     "name": "stdout",
     "output_type": "stream",
     "text": [
      "-512713.1782906305\n"
     ]
    },
    {
     "data": {
      "application/vnd.plotly.v1+json": {
       "config": {
        "plotlyServerURL": "https://plot.ly"
       },
       "data": [
        {
         "name": "Rsv 1 gate position",
         "type": "scatter",
         "x": [
          "2022-04-16T00:00:00",
          "2022-04-16T01:00:00",
          "2022-04-16T02:00:00",
          "2022-04-16T03:00:00",
          "2022-04-16T04:00:00",
          "2022-04-16T05:00:00",
          "2022-04-16T06:00:00",
          "2022-04-16T07:00:00",
          "2022-04-16T08:00:00",
          "2022-04-16T09:00:00",
          "2022-04-16T10:00:00",
          "2022-04-16T11:00:00",
          "2022-04-16T12:00:00",
          "2022-04-16T13:00:00",
          "2022-04-16T14:00:00",
          "2022-04-16T15:00:00",
          "2022-04-16T16:00:00",
          "2022-04-16T17:00:00",
          "2022-04-16T18:00:00",
          "2022-04-16T19:00:00",
          "2022-04-16T20:00:00",
          "2022-04-16T21:00:00",
          "2022-04-16T22:00:00",
          "2022-04-16T23:00:00",
          "2022-04-17T00:00:00",
          "2022-04-17T01:00:00",
          "2022-04-17T02:00:00",
          "2022-04-17T03:00:00",
          "2022-04-17T04:00:00",
          "2022-04-17T05:00:00",
          "2022-04-17T06:00:00",
          "2022-04-17T07:00:00",
          "2022-04-17T08:00:00",
          "2022-04-17T09:00:00",
          "2022-04-17T10:00:00",
          "2022-04-17T11:00:00",
          "2022-04-17T12:00:00",
          "2022-04-17T13:00:00",
          "2022-04-17T14:00:00",
          "2022-04-17T15:00:00",
          "2022-04-17T16:00:00",
          "2022-04-17T17:00:00",
          "2022-04-17T18:00:00",
          "2022-04-17T19:00:00",
          "2022-04-17T20:00:00",
          "2022-04-17T21:00:00",
          "2022-04-17T22:00:00",
          "2022-04-17T23:00:00",
          "2022-04-18T00:00:00",
          "2022-04-18T01:00:00",
          "2022-04-18T02:00:00",
          "2022-04-18T03:00:00",
          "2022-04-18T04:00:00",
          "2022-04-18T05:00:00",
          "2022-04-18T06:00:00",
          "2022-04-18T07:00:00",
          "2022-04-18T08:00:00",
          "2022-04-18T09:00:00",
          "2022-04-18T10:00:00",
          "2022-04-18T11:00:00",
          "2022-04-18T12:00:00",
          "2022-04-18T13:00:00",
          "2022-04-18T14:00:00",
          "2022-04-18T15:00:00",
          "2022-04-18T16:00:00",
          "2022-04-18T17:00:00",
          "2022-04-18T18:00:00",
          "2022-04-18T19:00:00",
          "2022-04-18T20:00:00",
          "2022-04-18T21:00:00",
          "2022-04-18T22:00:00",
          "2022-04-18T23:00:00"
         ],
         "y": [
          0.35364556224898835,
          0.1715470465823687,
          0.0844373302627739,
          0,
          0,
          0.0979431106542551,
          0.14597139066173975,
          0.08947048836738367,
          0,
          0,
          0,
          0,
          0,
          0,
          0,
          0,
          1,
          0.9084907194004286,
          0,
          0.30862839390072827,
          0.4778785522261828,
          0.0719586019329062,
          0.028982360809322844,
          0.02431850428635022,
          0,
          0,
          1,
          1,
          0,
          1,
          1,
          1,
          0.48147651288425236,
          0,
          0,
          0,
          0,
          1,
          1,
          1,
          1,
          1,
          0.053349552281422304,
          0.04159976660593617,
          0.2901105117022312,
          0.43941874456352925,
          0.020701882203146747,
          0,
          1,
          1,
          1,
          1,
          1,
          1,
          1,
          0,
          0,
          0,
          0.20805357582707934,
          0,
          0,
          0,
          1,
          1,
          0.017293533014275008,
          0,
          0,
          0,
          0.09623918446053376,
          0.2814359307234787,
          0.1570624824698661,
          0
         ]
        }
       ],
       "layout": {
        "template": {
         "data": {
          "bar": [
           {
            "error_x": {
             "color": "#2a3f5f"
            },
            "error_y": {
             "color": "#2a3f5f"
            },
            "marker": {
             "line": {
              "color": "#E5ECF6",
              "width": 0.5
             },
             "pattern": {
              "fillmode": "overlay",
              "size": 10,
              "solidity": 0.2
             }
            },
            "type": "bar"
           }
          ],
          "barpolar": [
           {
            "marker": {
             "line": {
              "color": "#E5ECF6",
              "width": 0.5
             },
             "pattern": {
              "fillmode": "overlay",
              "size": 10,
              "solidity": 0.2
             }
            },
            "type": "barpolar"
           }
          ],
          "carpet": [
           {
            "aaxis": {
             "endlinecolor": "#2a3f5f",
             "gridcolor": "white",
             "linecolor": "white",
             "minorgridcolor": "white",
             "startlinecolor": "#2a3f5f"
            },
            "baxis": {
             "endlinecolor": "#2a3f5f",
             "gridcolor": "white",
             "linecolor": "white",
             "minorgridcolor": "white",
             "startlinecolor": "#2a3f5f"
            },
            "type": "carpet"
           }
          ],
          "choropleth": [
           {
            "colorbar": {
             "outlinewidth": 0,
             "ticks": ""
            },
            "type": "choropleth"
           }
          ],
          "contour": [
           {
            "colorbar": {
             "outlinewidth": 0,
             "ticks": ""
            },
            "colorscale": [
             [
              0,
              "#0d0887"
             ],
             [
              0.1111111111111111,
              "#46039f"
             ],
             [
              0.2222222222222222,
              "#7201a8"
             ],
             [
              0.3333333333333333,
              "#9c179e"
             ],
             [
              0.4444444444444444,
              "#bd3786"
             ],
             [
              0.5555555555555556,
              "#d8576b"
             ],
             [
              0.6666666666666666,
              "#ed7953"
             ],
             [
              0.7777777777777778,
              "#fb9f3a"
             ],
             [
              0.8888888888888888,
              "#fdca26"
             ],
             [
              1,
              "#f0f921"
             ]
            ],
            "type": "contour"
           }
          ],
          "contourcarpet": [
           {
            "colorbar": {
             "outlinewidth": 0,
             "ticks": ""
            },
            "type": "contourcarpet"
           }
          ],
          "heatmap": [
           {
            "colorbar": {
             "outlinewidth": 0,
             "ticks": ""
            },
            "colorscale": [
             [
              0,
              "#0d0887"
             ],
             [
              0.1111111111111111,
              "#46039f"
             ],
             [
              0.2222222222222222,
              "#7201a8"
             ],
             [
              0.3333333333333333,
              "#9c179e"
             ],
             [
              0.4444444444444444,
              "#bd3786"
             ],
             [
              0.5555555555555556,
              "#d8576b"
             ],
             [
              0.6666666666666666,
              "#ed7953"
             ],
             [
              0.7777777777777778,
              "#fb9f3a"
             ],
             [
              0.8888888888888888,
              "#fdca26"
             ],
             [
              1,
              "#f0f921"
             ]
            ],
            "type": "heatmap"
           }
          ],
          "heatmapgl": [
           {
            "colorbar": {
             "outlinewidth": 0,
             "ticks": ""
            },
            "colorscale": [
             [
              0,
              "#0d0887"
             ],
             [
              0.1111111111111111,
              "#46039f"
             ],
             [
              0.2222222222222222,
              "#7201a8"
             ],
             [
              0.3333333333333333,
              "#9c179e"
             ],
             [
              0.4444444444444444,
              "#bd3786"
             ],
             [
              0.5555555555555556,
              "#d8576b"
             ],
             [
              0.6666666666666666,
              "#ed7953"
             ],
             [
              0.7777777777777778,
              "#fb9f3a"
             ],
             [
              0.8888888888888888,
              "#fdca26"
             ],
             [
              1,
              "#f0f921"
             ]
            ],
            "type": "heatmapgl"
           }
          ],
          "histogram": [
           {
            "marker": {
             "pattern": {
              "fillmode": "overlay",
              "size": 10,
              "solidity": 0.2
             }
            },
            "type": "histogram"
           }
          ],
          "histogram2d": [
           {
            "colorbar": {
             "outlinewidth": 0,
             "ticks": ""
            },
            "colorscale": [
             [
              0,
              "#0d0887"
             ],
             [
              0.1111111111111111,
              "#46039f"
             ],
             [
              0.2222222222222222,
              "#7201a8"
             ],
             [
              0.3333333333333333,
              "#9c179e"
             ],
             [
              0.4444444444444444,
              "#bd3786"
             ],
             [
              0.5555555555555556,
              "#d8576b"
             ],
             [
              0.6666666666666666,
              "#ed7953"
             ],
             [
              0.7777777777777778,
              "#fb9f3a"
             ],
             [
              0.8888888888888888,
              "#fdca26"
             ],
             [
              1,
              "#f0f921"
             ]
            ],
            "type": "histogram2d"
           }
          ],
          "histogram2dcontour": [
           {
            "colorbar": {
             "outlinewidth": 0,
             "ticks": ""
            },
            "colorscale": [
             [
              0,
              "#0d0887"
             ],
             [
              0.1111111111111111,
              "#46039f"
             ],
             [
              0.2222222222222222,
              "#7201a8"
             ],
             [
              0.3333333333333333,
              "#9c179e"
             ],
             [
              0.4444444444444444,
              "#bd3786"
             ],
             [
              0.5555555555555556,
              "#d8576b"
             ],
             [
              0.6666666666666666,
              "#ed7953"
             ],
             [
              0.7777777777777778,
              "#fb9f3a"
             ],
             [
              0.8888888888888888,
              "#fdca26"
             ],
             [
              1,
              "#f0f921"
             ]
            ],
            "type": "histogram2dcontour"
           }
          ],
          "mesh3d": [
           {
            "colorbar": {
             "outlinewidth": 0,
             "ticks": ""
            },
            "type": "mesh3d"
           }
          ],
          "parcoords": [
           {
            "line": {
             "colorbar": {
              "outlinewidth": 0,
              "ticks": ""
             }
            },
            "type": "parcoords"
           }
          ],
          "pie": [
           {
            "automargin": true,
            "type": "pie"
           }
          ],
          "scatter": [
           {
            "marker": {
             "colorbar": {
              "outlinewidth": 0,
              "ticks": ""
             }
            },
            "type": "scatter"
           }
          ],
          "scatter3d": [
           {
            "line": {
             "colorbar": {
              "outlinewidth": 0,
              "ticks": ""
             }
            },
            "marker": {
             "colorbar": {
              "outlinewidth": 0,
              "ticks": ""
             }
            },
            "type": "scatter3d"
           }
          ],
          "scattercarpet": [
           {
            "marker": {
             "colorbar": {
              "outlinewidth": 0,
              "ticks": ""
             }
            },
            "type": "scattercarpet"
           }
          ],
          "scattergeo": [
           {
            "marker": {
             "colorbar": {
              "outlinewidth": 0,
              "ticks": ""
             }
            },
            "type": "scattergeo"
           }
          ],
          "scattergl": [
           {
            "marker": {
             "colorbar": {
              "outlinewidth": 0,
              "ticks": ""
             }
            },
            "type": "scattergl"
           }
          ],
          "scattermapbox": [
           {
            "marker": {
             "colorbar": {
              "outlinewidth": 0,
              "ticks": ""
             }
            },
            "type": "scattermapbox"
           }
          ],
          "scatterpolar": [
           {
            "marker": {
             "colorbar": {
              "outlinewidth": 0,
              "ticks": ""
             }
            },
            "type": "scatterpolar"
           }
          ],
          "scatterpolargl": [
           {
            "marker": {
             "colorbar": {
              "outlinewidth": 0,
              "ticks": ""
             }
            },
            "type": "scatterpolargl"
           }
          ],
          "scatterternary": [
           {
            "marker": {
             "colorbar": {
              "outlinewidth": 0,
              "ticks": ""
             }
            },
            "type": "scatterternary"
           }
          ],
          "surface": [
           {
            "colorbar": {
             "outlinewidth": 0,
             "ticks": ""
            },
            "colorscale": [
             [
              0,
              "#0d0887"
             ],
             [
              0.1111111111111111,
              "#46039f"
             ],
             [
              0.2222222222222222,
              "#7201a8"
             ],
             [
              0.3333333333333333,
              "#9c179e"
             ],
             [
              0.4444444444444444,
              "#bd3786"
             ],
             [
              0.5555555555555556,
              "#d8576b"
             ],
             [
              0.6666666666666666,
              "#ed7953"
             ],
             [
              0.7777777777777778,
              "#fb9f3a"
             ],
             [
              0.8888888888888888,
              "#fdca26"
             ],
             [
              1,
              "#f0f921"
             ]
            ],
            "type": "surface"
           }
          ],
          "table": [
           {
            "cells": {
             "fill": {
              "color": "#EBF0F8"
             },
             "line": {
              "color": "white"
             }
            },
            "header": {
             "fill": {
              "color": "#C8D4E3"
             },
             "line": {
              "color": "white"
             }
            },
            "type": "table"
           }
          ]
         },
         "layout": {
          "annotationdefaults": {
           "arrowcolor": "#2a3f5f",
           "arrowhead": 0,
           "arrowwidth": 1
          },
          "autotypenumbers": "strict",
          "coloraxis": {
           "colorbar": {
            "outlinewidth": 0,
            "ticks": ""
           }
          },
          "colorscale": {
           "diverging": [
            [
             0,
             "#8e0152"
            ],
            [
             0.1,
             "#c51b7d"
            ],
            [
             0.2,
             "#de77ae"
            ],
            [
             0.3,
             "#f1b6da"
            ],
            [
             0.4,
             "#fde0ef"
            ],
            [
             0.5,
             "#f7f7f7"
            ],
            [
             0.6,
             "#e6f5d0"
            ],
            [
             0.7,
             "#b8e186"
            ],
            [
             0.8,
             "#7fbc41"
            ],
            [
             0.9,
             "#4d9221"
            ],
            [
             1,
             "#276419"
            ]
           ],
           "sequential": [
            [
             0,
             "#0d0887"
            ],
            [
             0.1111111111111111,
             "#46039f"
            ],
            [
             0.2222222222222222,
             "#7201a8"
            ],
            [
             0.3333333333333333,
             "#9c179e"
            ],
            [
             0.4444444444444444,
             "#bd3786"
            ],
            [
             0.5555555555555556,
             "#d8576b"
            ],
            [
             0.6666666666666666,
             "#ed7953"
            ],
            [
             0.7777777777777778,
             "#fb9f3a"
            ],
            [
             0.8888888888888888,
             "#fdca26"
            ],
            [
             1,
             "#f0f921"
            ]
           ],
           "sequentialminus": [
            [
             0,
             "#0d0887"
            ],
            [
             0.1111111111111111,
             "#46039f"
            ],
            [
             0.2222222222222222,
             "#7201a8"
            ],
            [
             0.3333333333333333,
             "#9c179e"
            ],
            [
             0.4444444444444444,
             "#bd3786"
            ],
            [
             0.5555555555555556,
             "#d8576b"
            ],
            [
             0.6666666666666666,
             "#ed7953"
            ],
            [
             0.7777777777777778,
             "#fb9f3a"
            ],
            [
             0.8888888888888888,
             "#fdca26"
            ],
            [
             1,
             "#f0f921"
            ]
           ]
          },
          "colorway": [
           "#636efa",
           "#EF553B",
           "#00cc96",
           "#ab63fa",
           "#FFA15A",
           "#19d3f3",
           "#FF6692",
           "#B6E880",
           "#FF97FF",
           "#FECB52"
          ],
          "font": {
           "color": "#2a3f5f"
          },
          "geo": {
           "bgcolor": "white",
           "lakecolor": "white",
           "landcolor": "#E5ECF6",
           "showlakes": true,
           "showland": true,
           "subunitcolor": "white"
          },
          "hoverlabel": {
           "align": "left"
          },
          "hovermode": "closest",
          "mapbox": {
           "style": "light"
          },
          "paper_bgcolor": "white",
          "plot_bgcolor": "#E5ECF6",
          "polar": {
           "angularaxis": {
            "gridcolor": "white",
            "linecolor": "white",
            "ticks": ""
           },
           "bgcolor": "#E5ECF6",
           "radialaxis": {
            "gridcolor": "white",
            "linecolor": "white",
            "ticks": ""
           }
          },
          "scene": {
           "xaxis": {
            "backgroundcolor": "#E5ECF6",
            "gridcolor": "white",
            "gridwidth": 2,
            "linecolor": "white",
            "showbackground": true,
            "ticks": "",
            "zerolinecolor": "white"
           },
           "yaxis": {
            "backgroundcolor": "#E5ECF6",
            "gridcolor": "white",
            "gridwidth": 2,
            "linecolor": "white",
            "showbackground": true,
            "ticks": "",
            "zerolinecolor": "white"
           },
           "zaxis": {
            "backgroundcolor": "#E5ECF6",
            "gridcolor": "white",
            "gridwidth": 2,
            "linecolor": "white",
            "showbackground": true,
            "ticks": "",
            "zerolinecolor": "white"
           }
          },
          "shapedefaults": {
           "line": {
            "color": "#2a3f5f"
           }
          },
          "ternary": {
           "aaxis": {
            "gridcolor": "white",
            "linecolor": "white",
            "ticks": ""
           },
           "baxis": {
            "gridcolor": "white",
            "linecolor": "white",
            "ticks": ""
           },
           "bgcolor": "#E5ECF6",
           "caxis": {
            "gridcolor": "white",
            "linecolor": "white",
            "ticks": ""
           }
          },
          "title": {
           "x": 0.05
          },
          "xaxis": {
           "automargin": true,
           "gridcolor": "white",
           "linecolor": "white",
           "ticks": "",
           "title": {
            "standoff": 15
           },
           "zerolinecolor": "white",
           "zerolinewidth": 2
          },
          "yaxis": {
           "automargin": true,
           "gridcolor": "white",
           "linecolor": "white",
           "ticks": "",
           "title": {
            "standoff": 15
           },
           "zerolinecolor": "white",
           "zerolinewidth": 2
          }
         }
        },
        "title": {
         "text": "Gate postion"
        }
       }
      }
     },
     "metadata": {},
     "output_type": "display_data"
    },
    {
     "name": "stdout",
     "output_type": "stream",
     "text": [
      "-515025.6002928072\n"
     ]
    },
    {
     "data": {
      "application/vnd.plotly.v1+json": {
       "config": {
        "plotlyServerURL": "https://plot.ly"
       },
       "data": [
        {
         "name": "Rsv 1 gate position",
         "type": "scatter",
         "x": [
          "2022-04-16T00:00:00",
          "2022-04-16T01:00:00",
          "2022-04-16T02:00:00",
          "2022-04-16T03:00:00",
          "2022-04-16T04:00:00",
          "2022-04-16T05:00:00",
          "2022-04-16T06:00:00",
          "2022-04-16T07:00:00",
          "2022-04-16T08:00:00",
          "2022-04-16T09:00:00",
          "2022-04-16T10:00:00",
          "2022-04-16T11:00:00",
          "2022-04-16T12:00:00",
          "2022-04-16T13:00:00",
          "2022-04-16T14:00:00",
          "2022-04-16T15:00:00",
          "2022-04-16T16:00:00",
          "2022-04-16T17:00:00",
          "2022-04-16T18:00:00",
          "2022-04-16T19:00:00",
          "2022-04-16T20:00:00",
          "2022-04-16T21:00:00",
          "2022-04-16T22:00:00",
          "2022-04-16T23:00:00",
          "2022-04-17T00:00:00",
          "2022-04-17T01:00:00",
          "2022-04-17T02:00:00",
          "2022-04-17T03:00:00",
          "2022-04-17T04:00:00",
          "2022-04-17T05:00:00",
          "2022-04-17T06:00:00",
          "2022-04-17T07:00:00",
          "2022-04-17T08:00:00",
          "2022-04-17T09:00:00",
          "2022-04-17T10:00:00",
          "2022-04-17T11:00:00",
          "2022-04-17T12:00:00",
          "2022-04-17T13:00:00",
          "2022-04-17T14:00:00",
          "2022-04-17T15:00:00",
          "2022-04-17T16:00:00",
          "2022-04-17T17:00:00",
          "2022-04-17T18:00:00",
          "2022-04-17T19:00:00",
          "2022-04-17T20:00:00",
          "2022-04-17T21:00:00",
          "2022-04-17T22:00:00",
          "2022-04-17T23:00:00",
          "2022-04-18T00:00:00",
          "2022-04-18T01:00:00",
          "2022-04-18T02:00:00",
          "2022-04-18T03:00:00",
          "2022-04-18T04:00:00",
          "2022-04-18T05:00:00",
          "2022-04-18T06:00:00",
          "2022-04-18T07:00:00",
          "2022-04-18T08:00:00",
          "2022-04-18T09:00:00",
          "2022-04-18T10:00:00",
          "2022-04-18T11:00:00",
          "2022-04-18T12:00:00",
          "2022-04-18T13:00:00",
          "2022-04-18T14:00:00",
          "2022-04-18T15:00:00",
          "2022-04-18T16:00:00",
          "2022-04-18T17:00:00",
          "2022-04-18T18:00:00",
          "2022-04-18T19:00:00",
          "2022-04-18T20:00:00",
          "2022-04-18T21:00:00",
          "2022-04-18T22:00:00",
          "2022-04-18T23:00:00"
         ],
         "y": [
          0.46577094013844755,
          0.1480444612888775,
          0.0876978175108944,
          0.032687203673666426,
          0.0022232496694278418,
          0.06278445284009931,
          0,
          0.07325829765510652,
          0.1619610089597103,
          0.0002302944618202674,
          0,
          0.019543021766040756,
          0,
          0,
          0,
          0,
          1,
          1,
          0.04641210357085456,
          0.36251000272001904,
          0,
          0.08062250690028526,
          0.10413903479390746,
          0.012146651829091309,
          0,
          0,
          0,
          0,
          0,
          0,
          0,
          0,
          1,
          0.9406324691428263,
          0,
          0,
          0,
          1,
          1,
          1,
          1,
          1,
          0,
          0.11173564199828263,
          0.22944947357923162,
          0.03256519811897307,
          0,
          0,
          1,
          1,
          1,
          1,
          1,
          1,
          1,
          0,
          0,
          0,
          1,
          1,
          0,
          0.9586474283306419,
          1,
          1,
          1,
          0,
          0,
          0,
          0,
          0.39901958706280194,
          0.11344279444788027,
          0.14567385301553773
         ]
        }
       ],
       "layout": {
        "template": {
         "data": {
          "bar": [
           {
            "error_x": {
             "color": "#2a3f5f"
            },
            "error_y": {
             "color": "#2a3f5f"
            },
            "marker": {
             "line": {
              "color": "#E5ECF6",
              "width": 0.5
             },
             "pattern": {
              "fillmode": "overlay",
              "size": 10,
              "solidity": 0.2
             }
            },
            "type": "bar"
           }
          ],
          "barpolar": [
           {
            "marker": {
             "line": {
              "color": "#E5ECF6",
              "width": 0.5
             },
             "pattern": {
              "fillmode": "overlay",
              "size": 10,
              "solidity": 0.2
             }
            },
            "type": "barpolar"
           }
          ],
          "carpet": [
           {
            "aaxis": {
             "endlinecolor": "#2a3f5f",
             "gridcolor": "white",
             "linecolor": "white",
             "minorgridcolor": "white",
             "startlinecolor": "#2a3f5f"
            },
            "baxis": {
             "endlinecolor": "#2a3f5f",
             "gridcolor": "white",
             "linecolor": "white",
             "minorgridcolor": "white",
             "startlinecolor": "#2a3f5f"
            },
            "type": "carpet"
           }
          ],
          "choropleth": [
           {
            "colorbar": {
             "outlinewidth": 0,
             "ticks": ""
            },
            "type": "choropleth"
           }
          ],
          "contour": [
           {
            "colorbar": {
             "outlinewidth": 0,
             "ticks": ""
            },
            "colorscale": [
             [
              0,
              "#0d0887"
             ],
             [
              0.1111111111111111,
              "#46039f"
             ],
             [
              0.2222222222222222,
              "#7201a8"
             ],
             [
              0.3333333333333333,
              "#9c179e"
             ],
             [
              0.4444444444444444,
              "#bd3786"
             ],
             [
              0.5555555555555556,
              "#d8576b"
             ],
             [
              0.6666666666666666,
              "#ed7953"
             ],
             [
              0.7777777777777778,
              "#fb9f3a"
             ],
             [
              0.8888888888888888,
              "#fdca26"
             ],
             [
              1,
              "#f0f921"
             ]
            ],
            "type": "contour"
           }
          ],
          "contourcarpet": [
           {
            "colorbar": {
             "outlinewidth": 0,
             "ticks": ""
            },
            "type": "contourcarpet"
           }
          ],
          "heatmap": [
           {
            "colorbar": {
             "outlinewidth": 0,
             "ticks": ""
            },
            "colorscale": [
             [
              0,
              "#0d0887"
             ],
             [
              0.1111111111111111,
              "#46039f"
             ],
             [
              0.2222222222222222,
              "#7201a8"
             ],
             [
              0.3333333333333333,
              "#9c179e"
             ],
             [
              0.4444444444444444,
              "#bd3786"
             ],
             [
              0.5555555555555556,
              "#d8576b"
             ],
             [
              0.6666666666666666,
              "#ed7953"
             ],
             [
              0.7777777777777778,
              "#fb9f3a"
             ],
             [
              0.8888888888888888,
              "#fdca26"
             ],
             [
              1,
              "#f0f921"
             ]
            ],
            "type": "heatmap"
           }
          ],
          "heatmapgl": [
           {
            "colorbar": {
             "outlinewidth": 0,
             "ticks": ""
            },
            "colorscale": [
             [
              0,
              "#0d0887"
             ],
             [
              0.1111111111111111,
              "#46039f"
             ],
             [
              0.2222222222222222,
              "#7201a8"
             ],
             [
              0.3333333333333333,
              "#9c179e"
             ],
             [
              0.4444444444444444,
              "#bd3786"
             ],
             [
              0.5555555555555556,
              "#d8576b"
             ],
             [
              0.6666666666666666,
              "#ed7953"
             ],
             [
              0.7777777777777778,
              "#fb9f3a"
             ],
             [
              0.8888888888888888,
              "#fdca26"
             ],
             [
              1,
              "#f0f921"
             ]
            ],
            "type": "heatmapgl"
           }
          ],
          "histogram": [
           {
            "marker": {
             "pattern": {
              "fillmode": "overlay",
              "size": 10,
              "solidity": 0.2
             }
            },
            "type": "histogram"
           }
          ],
          "histogram2d": [
           {
            "colorbar": {
             "outlinewidth": 0,
             "ticks": ""
            },
            "colorscale": [
             [
              0,
              "#0d0887"
             ],
             [
              0.1111111111111111,
              "#46039f"
             ],
             [
              0.2222222222222222,
              "#7201a8"
             ],
             [
              0.3333333333333333,
              "#9c179e"
             ],
             [
              0.4444444444444444,
              "#bd3786"
             ],
             [
              0.5555555555555556,
              "#d8576b"
             ],
             [
              0.6666666666666666,
              "#ed7953"
             ],
             [
              0.7777777777777778,
              "#fb9f3a"
             ],
             [
              0.8888888888888888,
              "#fdca26"
             ],
             [
              1,
              "#f0f921"
             ]
            ],
            "type": "histogram2d"
           }
          ],
          "histogram2dcontour": [
           {
            "colorbar": {
             "outlinewidth": 0,
             "ticks": ""
            },
            "colorscale": [
             [
              0,
              "#0d0887"
             ],
             [
              0.1111111111111111,
              "#46039f"
             ],
             [
              0.2222222222222222,
              "#7201a8"
             ],
             [
              0.3333333333333333,
              "#9c179e"
             ],
             [
              0.4444444444444444,
              "#bd3786"
             ],
             [
              0.5555555555555556,
              "#d8576b"
             ],
             [
              0.6666666666666666,
              "#ed7953"
             ],
             [
              0.7777777777777778,
              "#fb9f3a"
             ],
             [
              0.8888888888888888,
              "#fdca26"
             ],
             [
              1,
              "#f0f921"
             ]
            ],
            "type": "histogram2dcontour"
           }
          ],
          "mesh3d": [
           {
            "colorbar": {
             "outlinewidth": 0,
             "ticks": ""
            },
            "type": "mesh3d"
           }
          ],
          "parcoords": [
           {
            "line": {
             "colorbar": {
              "outlinewidth": 0,
              "ticks": ""
             }
            },
            "type": "parcoords"
           }
          ],
          "pie": [
           {
            "automargin": true,
            "type": "pie"
           }
          ],
          "scatter": [
           {
            "marker": {
             "colorbar": {
              "outlinewidth": 0,
              "ticks": ""
             }
            },
            "type": "scatter"
           }
          ],
          "scatter3d": [
           {
            "line": {
             "colorbar": {
              "outlinewidth": 0,
              "ticks": ""
             }
            },
            "marker": {
             "colorbar": {
              "outlinewidth": 0,
              "ticks": ""
             }
            },
            "type": "scatter3d"
           }
          ],
          "scattercarpet": [
           {
            "marker": {
             "colorbar": {
              "outlinewidth": 0,
              "ticks": ""
             }
            },
            "type": "scattercarpet"
           }
          ],
          "scattergeo": [
           {
            "marker": {
             "colorbar": {
              "outlinewidth": 0,
              "ticks": ""
             }
            },
            "type": "scattergeo"
           }
          ],
          "scattergl": [
           {
            "marker": {
             "colorbar": {
              "outlinewidth": 0,
              "ticks": ""
             }
            },
            "type": "scattergl"
           }
          ],
          "scattermapbox": [
           {
            "marker": {
             "colorbar": {
              "outlinewidth": 0,
              "ticks": ""
             }
            },
            "type": "scattermapbox"
           }
          ],
          "scatterpolar": [
           {
            "marker": {
             "colorbar": {
              "outlinewidth": 0,
              "ticks": ""
             }
            },
            "type": "scatterpolar"
           }
          ],
          "scatterpolargl": [
           {
            "marker": {
             "colorbar": {
              "outlinewidth": 0,
              "ticks": ""
             }
            },
            "type": "scatterpolargl"
           }
          ],
          "scatterternary": [
           {
            "marker": {
             "colorbar": {
              "outlinewidth": 0,
              "ticks": ""
             }
            },
            "type": "scatterternary"
           }
          ],
          "surface": [
           {
            "colorbar": {
             "outlinewidth": 0,
             "ticks": ""
            },
            "colorscale": [
             [
              0,
              "#0d0887"
             ],
             [
              0.1111111111111111,
              "#46039f"
             ],
             [
              0.2222222222222222,
              "#7201a8"
             ],
             [
              0.3333333333333333,
              "#9c179e"
             ],
             [
              0.4444444444444444,
              "#bd3786"
             ],
             [
              0.5555555555555556,
              "#d8576b"
             ],
             [
              0.6666666666666666,
              "#ed7953"
             ],
             [
              0.7777777777777778,
              "#fb9f3a"
             ],
             [
              0.8888888888888888,
              "#fdca26"
             ],
             [
              1,
              "#f0f921"
             ]
            ],
            "type": "surface"
           }
          ],
          "table": [
           {
            "cells": {
             "fill": {
              "color": "#EBF0F8"
             },
             "line": {
              "color": "white"
             }
            },
            "header": {
             "fill": {
              "color": "#C8D4E3"
             },
             "line": {
              "color": "white"
             }
            },
            "type": "table"
           }
          ]
         },
         "layout": {
          "annotationdefaults": {
           "arrowcolor": "#2a3f5f",
           "arrowhead": 0,
           "arrowwidth": 1
          },
          "autotypenumbers": "strict",
          "coloraxis": {
           "colorbar": {
            "outlinewidth": 0,
            "ticks": ""
           }
          },
          "colorscale": {
           "diverging": [
            [
             0,
             "#8e0152"
            ],
            [
             0.1,
             "#c51b7d"
            ],
            [
             0.2,
             "#de77ae"
            ],
            [
             0.3,
             "#f1b6da"
            ],
            [
             0.4,
             "#fde0ef"
            ],
            [
             0.5,
             "#f7f7f7"
            ],
            [
             0.6,
             "#e6f5d0"
            ],
            [
             0.7,
             "#b8e186"
            ],
            [
             0.8,
             "#7fbc41"
            ],
            [
             0.9,
             "#4d9221"
            ],
            [
             1,
             "#276419"
            ]
           ],
           "sequential": [
            [
             0,
             "#0d0887"
            ],
            [
             0.1111111111111111,
             "#46039f"
            ],
            [
             0.2222222222222222,
             "#7201a8"
            ],
            [
             0.3333333333333333,
             "#9c179e"
            ],
            [
             0.4444444444444444,
             "#bd3786"
            ],
            [
             0.5555555555555556,
             "#d8576b"
            ],
            [
             0.6666666666666666,
             "#ed7953"
            ],
            [
             0.7777777777777778,
             "#fb9f3a"
            ],
            [
             0.8888888888888888,
             "#fdca26"
            ],
            [
             1,
             "#f0f921"
            ]
           ],
           "sequentialminus": [
            [
             0,
             "#0d0887"
            ],
            [
             0.1111111111111111,
             "#46039f"
            ],
            [
             0.2222222222222222,
             "#7201a8"
            ],
            [
             0.3333333333333333,
             "#9c179e"
            ],
            [
             0.4444444444444444,
             "#bd3786"
            ],
            [
             0.5555555555555556,
             "#d8576b"
            ],
            [
             0.6666666666666666,
             "#ed7953"
            ],
            [
             0.7777777777777778,
             "#fb9f3a"
            ],
            [
             0.8888888888888888,
             "#fdca26"
            ],
            [
             1,
             "#f0f921"
            ]
           ]
          },
          "colorway": [
           "#636efa",
           "#EF553B",
           "#00cc96",
           "#ab63fa",
           "#FFA15A",
           "#19d3f3",
           "#FF6692",
           "#B6E880",
           "#FF97FF",
           "#FECB52"
          ],
          "font": {
           "color": "#2a3f5f"
          },
          "geo": {
           "bgcolor": "white",
           "lakecolor": "white",
           "landcolor": "#E5ECF6",
           "showlakes": true,
           "showland": true,
           "subunitcolor": "white"
          },
          "hoverlabel": {
           "align": "left"
          },
          "hovermode": "closest",
          "mapbox": {
           "style": "light"
          },
          "paper_bgcolor": "white",
          "plot_bgcolor": "#E5ECF6",
          "polar": {
           "angularaxis": {
            "gridcolor": "white",
            "linecolor": "white",
            "ticks": ""
           },
           "bgcolor": "#E5ECF6",
           "radialaxis": {
            "gridcolor": "white",
            "linecolor": "white",
            "ticks": ""
           }
          },
          "scene": {
           "xaxis": {
            "backgroundcolor": "#E5ECF6",
            "gridcolor": "white",
            "gridwidth": 2,
            "linecolor": "white",
            "showbackground": true,
            "ticks": "",
            "zerolinecolor": "white"
           },
           "yaxis": {
            "backgroundcolor": "#E5ECF6",
            "gridcolor": "white",
            "gridwidth": 2,
            "linecolor": "white",
            "showbackground": true,
            "ticks": "",
            "zerolinecolor": "white"
           },
           "zaxis": {
            "backgroundcolor": "#E5ECF6",
            "gridcolor": "white",
            "gridwidth": 2,
            "linecolor": "white",
            "showbackground": true,
            "ticks": "",
            "zerolinecolor": "white"
           }
          },
          "shapedefaults": {
           "line": {
            "color": "#2a3f5f"
           }
          },
          "ternary": {
           "aaxis": {
            "gridcolor": "white",
            "linecolor": "white",
            "ticks": ""
           },
           "baxis": {
            "gridcolor": "white",
            "linecolor": "white",
            "ticks": ""
           },
           "bgcolor": "#E5ECF6",
           "caxis": {
            "gridcolor": "white",
            "linecolor": "white",
            "ticks": ""
           }
          },
          "title": {
           "x": 0.05
          },
          "xaxis": {
           "automargin": true,
           "gridcolor": "white",
           "linecolor": "white",
           "ticks": "",
           "title": {
            "standoff": 15
           },
           "zerolinecolor": "white",
           "zerolinewidth": 2
          },
          "yaxis": {
           "automargin": true,
           "gridcolor": "white",
           "linecolor": "white",
           "ticks": "",
           "title": {
            "standoff": 15
           },
           "zerolinecolor": "white",
           "zerolinewidth": 2
          }
         }
        },
        "title": {
         "text": "Gate postion"
        }
       }
      }
     },
     "metadata": {},
     "output_type": "display_data"
    },
    {
     "name": "stdout",
     "output_type": "stream",
     "text": [
      "-513030.16049018275\n"
     ]
    },
    {
     "data": {
      "application/vnd.plotly.v1+json": {
       "config": {
        "plotlyServerURL": "https://plot.ly"
       },
       "data": [
        {
         "name": "Rsv 1 gate position",
         "type": "scatter",
         "x": [
          "2022-04-16T00:00:00",
          "2022-04-16T01:00:00",
          "2022-04-16T02:00:00",
          "2022-04-16T03:00:00",
          "2022-04-16T04:00:00",
          "2022-04-16T05:00:00",
          "2022-04-16T06:00:00",
          "2022-04-16T07:00:00",
          "2022-04-16T08:00:00",
          "2022-04-16T09:00:00",
          "2022-04-16T10:00:00",
          "2022-04-16T11:00:00",
          "2022-04-16T12:00:00",
          "2022-04-16T13:00:00",
          "2022-04-16T14:00:00",
          "2022-04-16T15:00:00",
          "2022-04-16T16:00:00",
          "2022-04-16T17:00:00",
          "2022-04-16T18:00:00",
          "2022-04-16T19:00:00",
          "2022-04-16T20:00:00",
          "2022-04-16T21:00:00",
          "2022-04-16T22:00:00",
          "2022-04-16T23:00:00",
          "2022-04-17T00:00:00",
          "2022-04-17T01:00:00",
          "2022-04-17T02:00:00",
          "2022-04-17T03:00:00",
          "2022-04-17T04:00:00",
          "2022-04-17T05:00:00",
          "2022-04-17T06:00:00",
          "2022-04-17T07:00:00",
          "2022-04-17T08:00:00",
          "2022-04-17T09:00:00",
          "2022-04-17T10:00:00",
          "2022-04-17T11:00:00",
          "2022-04-17T12:00:00",
          "2022-04-17T13:00:00",
          "2022-04-17T14:00:00",
          "2022-04-17T15:00:00",
          "2022-04-17T16:00:00",
          "2022-04-17T17:00:00",
          "2022-04-17T18:00:00",
          "2022-04-17T19:00:00",
          "2022-04-17T20:00:00",
          "2022-04-17T21:00:00",
          "2022-04-17T22:00:00",
          "2022-04-17T23:00:00",
          "2022-04-18T00:00:00",
          "2022-04-18T01:00:00",
          "2022-04-18T02:00:00",
          "2022-04-18T03:00:00",
          "2022-04-18T04:00:00",
          "2022-04-18T05:00:00",
          "2022-04-18T06:00:00",
          "2022-04-18T07:00:00",
          "2022-04-18T08:00:00",
          "2022-04-18T09:00:00",
          "2022-04-18T10:00:00",
          "2022-04-18T11:00:00",
          "2022-04-18T12:00:00",
          "2022-04-18T13:00:00",
          "2022-04-18T14:00:00",
          "2022-04-18T15:00:00",
          "2022-04-18T16:00:00",
          "2022-04-18T17:00:00",
          "2022-04-18T18:00:00",
          "2022-04-18T19:00:00",
          "2022-04-18T20:00:00",
          "2022-04-18T21:00:00",
          "2022-04-18T22:00:00",
          "2022-04-18T23:00:00"
         ],
         "y": [
          0.3715531470136357,
          0.3427760884693949,
          0.06334672478715335,
          0,
          0.10493414951283775,
          0.11996937832991873,
          0.15516976048834658,
          0.08694827332468354,
          0,
          0.04232580205478402,
          0,
          0,
          0,
          0,
          1,
          0,
          1,
          0,
          0.6229693994627072,
          0.9182684661930096,
          0.16331235963933452,
          0,
          0.09025170399658969,
          0.04428396724516449,
          0,
          0,
          0,
          0.04979386578800062,
          1,
          0.01250042332160432,
          0,
          0,
          0,
          1,
          1,
          0,
          0,
          1,
          1,
          1,
          1,
          1,
          0.025973961155473638,
          0.058826719962160184,
          0.36362787811440317,
          0.0687800153465863,
          0,
          0,
          1,
          1,
          1,
          1,
          1,
          1,
          1,
          0,
          0,
          0,
          0,
          0,
          0,
          1,
          1,
          1,
          0,
          0.46920894634692933,
          0.08687396072311149,
          0,
          0.16341466435519733,
          0.2963082027363493,
          0.2545963482393517,
          0.2783849145378414
         ]
        }
       ],
       "layout": {
        "template": {
         "data": {
          "bar": [
           {
            "error_x": {
             "color": "#2a3f5f"
            },
            "error_y": {
             "color": "#2a3f5f"
            },
            "marker": {
             "line": {
              "color": "#E5ECF6",
              "width": 0.5
             },
             "pattern": {
              "fillmode": "overlay",
              "size": 10,
              "solidity": 0.2
             }
            },
            "type": "bar"
           }
          ],
          "barpolar": [
           {
            "marker": {
             "line": {
              "color": "#E5ECF6",
              "width": 0.5
             },
             "pattern": {
              "fillmode": "overlay",
              "size": 10,
              "solidity": 0.2
             }
            },
            "type": "barpolar"
           }
          ],
          "carpet": [
           {
            "aaxis": {
             "endlinecolor": "#2a3f5f",
             "gridcolor": "white",
             "linecolor": "white",
             "minorgridcolor": "white",
             "startlinecolor": "#2a3f5f"
            },
            "baxis": {
             "endlinecolor": "#2a3f5f",
             "gridcolor": "white",
             "linecolor": "white",
             "minorgridcolor": "white",
             "startlinecolor": "#2a3f5f"
            },
            "type": "carpet"
           }
          ],
          "choropleth": [
           {
            "colorbar": {
             "outlinewidth": 0,
             "ticks": ""
            },
            "type": "choropleth"
           }
          ],
          "contour": [
           {
            "colorbar": {
             "outlinewidth": 0,
             "ticks": ""
            },
            "colorscale": [
             [
              0,
              "#0d0887"
             ],
             [
              0.1111111111111111,
              "#46039f"
             ],
             [
              0.2222222222222222,
              "#7201a8"
             ],
             [
              0.3333333333333333,
              "#9c179e"
             ],
             [
              0.4444444444444444,
              "#bd3786"
             ],
             [
              0.5555555555555556,
              "#d8576b"
             ],
             [
              0.6666666666666666,
              "#ed7953"
             ],
             [
              0.7777777777777778,
              "#fb9f3a"
             ],
             [
              0.8888888888888888,
              "#fdca26"
             ],
             [
              1,
              "#f0f921"
             ]
            ],
            "type": "contour"
           }
          ],
          "contourcarpet": [
           {
            "colorbar": {
             "outlinewidth": 0,
             "ticks": ""
            },
            "type": "contourcarpet"
           }
          ],
          "heatmap": [
           {
            "colorbar": {
             "outlinewidth": 0,
             "ticks": ""
            },
            "colorscale": [
             [
              0,
              "#0d0887"
             ],
             [
              0.1111111111111111,
              "#46039f"
             ],
             [
              0.2222222222222222,
              "#7201a8"
             ],
             [
              0.3333333333333333,
              "#9c179e"
             ],
             [
              0.4444444444444444,
              "#bd3786"
             ],
             [
              0.5555555555555556,
              "#d8576b"
             ],
             [
              0.6666666666666666,
              "#ed7953"
             ],
             [
              0.7777777777777778,
              "#fb9f3a"
             ],
             [
              0.8888888888888888,
              "#fdca26"
             ],
             [
              1,
              "#f0f921"
             ]
            ],
            "type": "heatmap"
           }
          ],
          "heatmapgl": [
           {
            "colorbar": {
             "outlinewidth": 0,
             "ticks": ""
            },
            "colorscale": [
             [
              0,
              "#0d0887"
             ],
             [
              0.1111111111111111,
              "#46039f"
             ],
             [
              0.2222222222222222,
              "#7201a8"
             ],
             [
              0.3333333333333333,
              "#9c179e"
             ],
             [
              0.4444444444444444,
              "#bd3786"
             ],
             [
              0.5555555555555556,
              "#d8576b"
             ],
             [
              0.6666666666666666,
              "#ed7953"
             ],
             [
              0.7777777777777778,
              "#fb9f3a"
             ],
             [
              0.8888888888888888,
              "#fdca26"
             ],
             [
              1,
              "#f0f921"
             ]
            ],
            "type": "heatmapgl"
           }
          ],
          "histogram": [
           {
            "marker": {
             "pattern": {
              "fillmode": "overlay",
              "size": 10,
              "solidity": 0.2
             }
            },
            "type": "histogram"
           }
          ],
          "histogram2d": [
           {
            "colorbar": {
             "outlinewidth": 0,
             "ticks": ""
            },
            "colorscale": [
             [
              0,
              "#0d0887"
             ],
             [
              0.1111111111111111,
              "#46039f"
             ],
             [
              0.2222222222222222,
              "#7201a8"
             ],
             [
              0.3333333333333333,
              "#9c179e"
             ],
             [
              0.4444444444444444,
              "#bd3786"
             ],
             [
              0.5555555555555556,
              "#d8576b"
             ],
             [
              0.6666666666666666,
              "#ed7953"
             ],
             [
              0.7777777777777778,
              "#fb9f3a"
             ],
             [
              0.8888888888888888,
              "#fdca26"
             ],
             [
              1,
              "#f0f921"
             ]
            ],
            "type": "histogram2d"
           }
          ],
          "histogram2dcontour": [
           {
            "colorbar": {
             "outlinewidth": 0,
             "ticks": ""
            },
            "colorscale": [
             [
              0,
              "#0d0887"
             ],
             [
              0.1111111111111111,
              "#46039f"
             ],
             [
              0.2222222222222222,
              "#7201a8"
             ],
             [
              0.3333333333333333,
              "#9c179e"
             ],
             [
              0.4444444444444444,
              "#bd3786"
             ],
             [
              0.5555555555555556,
              "#d8576b"
             ],
             [
              0.6666666666666666,
              "#ed7953"
             ],
             [
              0.7777777777777778,
              "#fb9f3a"
             ],
             [
              0.8888888888888888,
              "#fdca26"
             ],
             [
              1,
              "#f0f921"
             ]
            ],
            "type": "histogram2dcontour"
           }
          ],
          "mesh3d": [
           {
            "colorbar": {
             "outlinewidth": 0,
             "ticks": ""
            },
            "type": "mesh3d"
           }
          ],
          "parcoords": [
           {
            "line": {
             "colorbar": {
              "outlinewidth": 0,
              "ticks": ""
             }
            },
            "type": "parcoords"
           }
          ],
          "pie": [
           {
            "automargin": true,
            "type": "pie"
           }
          ],
          "scatter": [
           {
            "marker": {
             "colorbar": {
              "outlinewidth": 0,
              "ticks": ""
             }
            },
            "type": "scatter"
           }
          ],
          "scatter3d": [
           {
            "line": {
             "colorbar": {
              "outlinewidth": 0,
              "ticks": ""
             }
            },
            "marker": {
             "colorbar": {
              "outlinewidth": 0,
              "ticks": ""
             }
            },
            "type": "scatter3d"
           }
          ],
          "scattercarpet": [
           {
            "marker": {
             "colorbar": {
              "outlinewidth": 0,
              "ticks": ""
             }
            },
            "type": "scattercarpet"
           }
          ],
          "scattergeo": [
           {
            "marker": {
             "colorbar": {
              "outlinewidth": 0,
              "ticks": ""
             }
            },
            "type": "scattergeo"
           }
          ],
          "scattergl": [
           {
            "marker": {
             "colorbar": {
              "outlinewidth": 0,
              "ticks": ""
             }
            },
            "type": "scattergl"
           }
          ],
          "scattermapbox": [
           {
            "marker": {
             "colorbar": {
              "outlinewidth": 0,
              "ticks": ""
             }
            },
            "type": "scattermapbox"
           }
          ],
          "scatterpolar": [
           {
            "marker": {
             "colorbar": {
              "outlinewidth": 0,
              "ticks": ""
             }
            },
            "type": "scatterpolar"
           }
          ],
          "scatterpolargl": [
           {
            "marker": {
             "colorbar": {
              "outlinewidth": 0,
              "ticks": ""
             }
            },
            "type": "scatterpolargl"
           }
          ],
          "scatterternary": [
           {
            "marker": {
             "colorbar": {
              "outlinewidth": 0,
              "ticks": ""
             }
            },
            "type": "scatterternary"
           }
          ],
          "surface": [
           {
            "colorbar": {
             "outlinewidth": 0,
             "ticks": ""
            },
            "colorscale": [
             [
              0,
              "#0d0887"
             ],
             [
              0.1111111111111111,
              "#46039f"
             ],
             [
              0.2222222222222222,
              "#7201a8"
             ],
             [
              0.3333333333333333,
              "#9c179e"
             ],
             [
              0.4444444444444444,
              "#bd3786"
             ],
             [
              0.5555555555555556,
              "#d8576b"
             ],
             [
              0.6666666666666666,
              "#ed7953"
             ],
             [
              0.7777777777777778,
              "#fb9f3a"
             ],
             [
              0.8888888888888888,
              "#fdca26"
             ],
             [
              1,
              "#f0f921"
             ]
            ],
            "type": "surface"
           }
          ],
          "table": [
           {
            "cells": {
             "fill": {
              "color": "#EBF0F8"
             },
             "line": {
              "color": "white"
             }
            },
            "header": {
             "fill": {
              "color": "#C8D4E3"
             },
             "line": {
              "color": "white"
             }
            },
            "type": "table"
           }
          ]
         },
         "layout": {
          "annotationdefaults": {
           "arrowcolor": "#2a3f5f",
           "arrowhead": 0,
           "arrowwidth": 1
          },
          "autotypenumbers": "strict",
          "coloraxis": {
           "colorbar": {
            "outlinewidth": 0,
            "ticks": ""
           }
          },
          "colorscale": {
           "diverging": [
            [
             0,
             "#8e0152"
            ],
            [
             0.1,
             "#c51b7d"
            ],
            [
             0.2,
             "#de77ae"
            ],
            [
             0.3,
             "#f1b6da"
            ],
            [
             0.4,
             "#fde0ef"
            ],
            [
             0.5,
             "#f7f7f7"
            ],
            [
             0.6,
             "#e6f5d0"
            ],
            [
             0.7,
             "#b8e186"
            ],
            [
             0.8,
             "#7fbc41"
            ],
            [
             0.9,
             "#4d9221"
            ],
            [
             1,
             "#276419"
            ]
           ],
           "sequential": [
            [
             0,
             "#0d0887"
            ],
            [
             0.1111111111111111,
             "#46039f"
            ],
            [
             0.2222222222222222,
             "#7201a8"
            ],
            [
             0.3333333333333333,
             "#9c179e"
            ],
            [
             0.4444444444444444,
             "#bd3786"
            ],
            [
             0.5555555555555556,
             "#d8576b"
            ],
            [
             0.6666666666666666,
             "#ed7953"
            ],
            [
             0.7777777777777778,
             "#fb9f3a"
            ],
            [
             0.8888888888888888,
             "#fdca26"
            ],
            [
             1,
             "#f0f921"
            ]
           ],
           "sequentialminus": [
            [
             0,
             "#0d0887"
            ],
            [
             0.1111111111111111,
             "#46039f"
            ],
            [
             0.2222222222222222,
             "#7201a8"
            ],
            [
             0.3333333333333333,
             "#9c179e"
            ],
            [
             0.4444444444444444,
             "#bd3786"
            ],
            [
             0.5555555555555556,
             "#d8576b"
            ],
            [
             0.6666666666666666,
             "#ed7953"
            ],
            [
             0.7777777777777778,
             "#fb9f3a"
            ],
            [
             0.8888888888888888,
             "#fdca26"
            ],
            [
             1,
             "#f0f921"
            ]
           ]
          },
          "colorway": [
           "#636efa",
           "#EF553B",
           "#00cc96",
           "#ab63fa",
           "#FFA15A",
           "#19d3f3",
           "#FF6692",
           "#B6E880",
           "#FF97FF",
           "#FECB52"
          ],
          "font": {
           "color": "#2a3f5f"
          },
          "geo": {
           "bgcolor": "white",
           "lakecolor": "white",
           "landcolor": "#E5ECF6",
           "showlakes": true,
           "showland": true,
           "subunitcolor": "white"
          },
          "hoverlabel": {
           "align": "left"
          },
          "hovermode": "closest",
          "mapbox": {
           "style": "light"
          },
          "paper_bgcolor": "white",
          "plot_bgcolor": "#E5ECF6",
          "polar": {
           "angularaxis": {
            "gridcolor": "white",
            "linecolor": "white",
            "ticks": ""
           },
           "bgcolor": "#E5ECF6",
           "radialaxis": {
            "gridcolor": "white",
            "linecolor": "white",
            "ticks": ""
           }
          },
          "scene": {
           "xaxis": {
            "backgroundcolor": "#E5ECF6",
            "gridcolor": "white",
            "gridwidth": 2,
            "linecolor": "white",
            "showbackground": true,
            "ticks": "",
            "zerolinecolor": "white"
           },
           "yaxis": {
            "backgroundcolor": "#E5ECF6",
            "gridcolor": "white",
            "gridwidth": 2,
            "linecolor": "white",
            "showbackground": true,
            "ticks": "",
            "zerolinecolor": "white"
           },
           "zaxis": {
            "backgroundcolor": "#E5ECF6",
            "gridcolor": "white",
            "gridwidth": 2,
            "linecolor": "white",
            "showbackground": true,
            "ticks": "",
            "zerolinecolor": "white"
           }
          },
          "shapedefaults": {
           "line": {
            "color": "#2a3f5f"
           }
          },
          "ternary": {
           "aaxis": {
            "gridcolor": "white",
            "linecolor": "white",
            "ticks": ""
           },
           "baxis": {
            "gridcolor": "white",
            "linecolor": "white",
            "ticks": ""
           },
           "bgcolor": "#E5ECF6",
           "caxis": {
            "gridcolor": "white",
            "linecolor": "white",
            "ticks": ""
           }
          },
          "title": {
           "x": 0.05
          },
          "xaxis": {
           "automargin": true,
           "gridcolor": "white",
           "linecolor": "white",
           "ticks": "",
           "title": {
            "standoff": 15
           },
           "zerolinecolor": "white",
           "zerolinewidth": 2
          },
          "yaxis": {
           "automargin": true,
           "gridcolor": "white",
           "linecolor": "white",
           "ticks": "",
           "title": {
            "standoff": 15
           },
           "zerolinecolor": "white",
           "zerolinewidth": 2
          }
         }
        },
        "title": {
         "text": "Gate postion"
        }
       }
      }
     },
     "metadata": {},
     "output_type": "display_data"
    },
    {
     "name": "stdout",
     "output_type": "stream",
     "text": [
      "-517418.5467189204\n"
     ]
    },
    {
     "data": {
      "application/vnd.plotly.v1+json": {
       "config": {
        "plotlyServerURL": "https://plot.ly"
       },
       "data": [
        {
         "name": "Rsv 1 gate position",
         "type": "scatter",
         "x": [
          "2022-04-16T00:00:00",
          "2022-04-16T01:00:00",
          "2022-04-16T02:00:00",
          "2022-04-16T03:00:00",
          "2022-04-16T04:00:00",
          "2022-04-16T05:00:00",
          "2022-04-16T06:00:00",
          "2022-04-16T07:00:00",
          "2022-04-16T08:00:00",
          "2022-04-16T09:00:00",
          "2022-04-16T10:00:00",
          "2022-04-16T11:00:00",
          "2022-04-16T12:00:00",
          "2022-04-16T13:00:00",
          "2022-04-16T14:00:00",
          "2022-04-16T15:00:00",
          "2022-04-16T16:00:00",
          "2022-04-16T17:00:00",
          "2022-04-16T18:00:00",
          "2022-04-16T19:00:00",
          "2022-04-16T20:00:00",
          "2022-04-16T21:00:00",
          "2022-04-16T22:00:00",
          "2022-04-16T23:00:00",
          "2022-04-17T00:00:00",
          "2022-04-17T01:00:00",
          "2022-04-17T02:00:00",
          "2022-04-17T03:00:00",
          "2022-04-17T04:00:00",
          "2022-04-17T05:00:00",
          "2022-04-17T06:00:00",
          "2022-04-17T07:00:00",
          "2022-04-17T08:00:00",
          "2022-04-17T09:00:00",
          "2022-04-17T10:00:00",
          "2022-04-17T11:00:00",
          "2022-04-17T12:00:00",
          "2022-04-17T13:00:00",
          "2022-04-17T14:00:00",
          "2022-04-17T15:00:00",
          "2022-04-17T16:00:00",
          "2022-04-17T17:00:00",
          "2022-04-17T18:00:00",
          "2022-04-17T19:00:00",
          "2022-04-17T20:00:00",
          "2022-04-17T21:00:00",
          "2022-04-17T22:00:00",
          "2022-04-17T23:00:00",
          "2022-04-18T00:00:00",
          "2022-04-18T01:00:00",
          "2022-04-18T02:00:00",
          "2022-04-18T03:00:00",
          "2022-04-18T04:00:00",
          "2022-04-18T05:00:00",
          "2022-04-18T06:00:00",
          "2022-04-18T07:00:00",
          "2022-04-18T08:00:00",
          "2022-04-18T09:00:00",
          "2022-04-18T10:00:00",
          "2022-04-18T11:00:00",
          "2022-04-18T12:00:00",
          "2022-04-18T13:00:00",
          "2022-04-18T14:00:00",
          "2022-04-18T15:00:00",
          "2022-04-18T16:00:00",
          "2022-04-18T17:00:00",
          "2022-04-18T18:00:00",
          "2022-04-18T19:00:00",
          "2022-04-18T20:00:00",
          "2022-04-18T21:00:00",
          "2022-04-18T22:00:00",
          "2022-04-18T23:00:00"
         ],
         "y": [
          0.4568371434365111,
          0.31203902572623116,
          0.055150181065692284,
          0.012496928298582084,
          0.06491214342224519,
          0,
          0,
          0.07665944695762253,
          0.14992277346306845,
          0.023867407824986656,
          0,
          0.012506357878536586,
          0,
          0,
          1,
          1,
          1,
          0,
          0,
          0,
          0,
          0.19210327653682585,
          0.10635070864224484,
          0,
          0,
          0.1952304150278939,
          1,
          0.26998447339405446,
          1,
          0.3721009302683663,
          0,
          0.6105578407694833,
          0.05998004225828637,
          0,
          0,
          0,
          0,
          1,
          1,
          1,
          1,
          1,
          0,
          0.11719883671314216,
          0.11835919495700045,
          0.03466606306748457,
          0.07523851997163103,
          0,
          1,
          1,
          1,
          1,
          1,
          1,
          1,
          0,
          1,
          0,
          0,
          0,
          0,
          0,
          1,
          1,
          0,
          0,
          0,
          0.09044105195751152,
          0.1069940890235533,
          0.491137723956546,
          0.3029868345060532,
          0.32137357251144116
         ]
        }
       ],
       "layout": {
        "template": {
         "data": {
          "bar": [
           {
            "error_x": {
             "color": "#2a3f5f"
            },
            "error_y": {
             "color": "#2a3f5f"
            },
            "marker": {
             "line": {
              "color": "#E5ECF6",
              "width": 0.5
             },
             "pattern": {
              "fillmode": "overlay",
              "size": 10,
              "solidity": 0.2
             }
            },
            "type": "bar"
           }
          ],
          "barpolar": [
           {
            "marker": {
             "line": {
              "color": "#E5ECF6",
              "width": 0.5
             },
             "pattern": {
              "fillmode": "overlay",
              "size": 10,
              "solidity": 0.2
             }
            },
            "type": "barpolar"
           }
          ],
          "carpet": [
           {
            "aaxis": {
             "endlinecolor": "#2a3f5f",
             "gridcolor": "white",
             "linecolor": "white",
             "minorgridcolor": "white",
             "startlinecolor": "#2a3f5f"
            },
            "baxis": {
             "endlinecolor": "#2a3f5f",
             "gridcolor": "white",
             "linecolor": "white",
             "minorgridcolor": "white",
             "startlinecolor": "#2a3f5f"
            },
            "type": "carpet"
           }
          ],
          "choropleth": [
           {
            "colorbar": {
             "outlinewidth": 0,
             "ticks": ""
            },
            "type": "choropleth"
           }
          ],
          "contour": [
           {
            "colorbar": {
             "outlinewidth": 0,
             "ticks": ""
            },
            "colorscale": [
             [
              0,
              "#0d0887"
             ],
             [
              0.1111111111111111,
              "#46039f"
             ],
             [
              0.2222222222222222,
              "#7201a8"
             ],
             [
              0.3333333333333333,
              "#9c179e"
             ],
             [
              0.4444444444444444,
              "#bd3786"
             ],
             [
              0.5555555555555556,
              "#d8576b"
             ],
             [
              0.6666666666666666,
              "#ed7953"
             ],
             [
              0.7777777777777778,
              "#fb9f3a"
             ],
             [
              0.8888888888888888,
              "#fdca26"
             ],
             [
              1,
              "#f0f921"
             ]
            ],
            "type": "contour"
           }
          ],
          "contourcarpet": [
           {
            "colorbar": {
             "outlinewidth": 0,
             "ticks": ""
            },
            "type": "contourcarpet"
           }
          ],
          "heatmap": [
           {
            "colorbar": {
             "outlinewidth": 0,
             "ticks": ""
            },
            "colorscale": [
             [
              0,
              "#0d0887"
             ],
             [
              0.1111111111111111,
              "#46039f"
             ],
             [
              0.2222222222222222,
              "#7201a8"
             ],
             [
              0.3333333333333333,
              "#9c179e"
             ],
             [
              0.4444444444444444,
              "#bd3786"
             ],
             [
              0.5555555555555556,
              "#d8576b"
             ],
             [
              0.6666666666666666,
              "#ed7953"
             ],
             [
              0.7777777777777778,
              "#fb9f3a"
             ],
             [
              0.8888888888888888,
              "#fdca26"
             ],
             [
              1,
              "#f0f921"
             ]
            ],
            "type": "heatmap"
           }
          ],
          "heatmapgl": [
           {
            "colorbar": {
             "outlinewidth": 0,
             "ticks": ""
            },
            "colorscale": [
             [
              0,
              "#0d0887"
             ],
             [
              0.1111111111111111,
              "#46039f"
             ],
             [
              0.2222222222222222,
              "#7201a8"
             ],
             [
              0.3333333333333333,
              "#9c179e"
             ],
             [
              0.4444444444444444,
              "#bd3786"
             ],
             [
              0.5555555555555556,
              "#d8576b"
             ],
             [
              0.6666666666666666,
              "#ed7953"
             ],
             [
              0.7777777777777778,
              "#fb9f3a"
             ],
             [
              0.8888888888888888,
              "#fdca26"
             ],
             [
              1,
              "#f0f921"
             ]
            ],
            "type": "heatmapgl"
           }
          ],
          "histogram": [
           {
            "marker": {
             "pattern": {
              "fillmode": "overlay",
              "size": 10,
              "solidity": 0.2
             }
            },
            "type": "histogram"
           }
          ],
          "histogram2d": [
           {
            "colorbar": {
             "outlinewidth": 0,
             "ticks": ""
            },
            "colorscale": [
             [
              0,
              "#0d0887"
             ],
             [
              0.1111111111111111,
              "#46039f"
             ],
             [
              0.2222222222222222,
              "#7201a8"
             ],
             [
              0.3333333333333333,
              "#9c179e"
             ],
             [
              0.4444444444444444,
              "#bd3786"
             ],
             [
              0.5555555555555556,
              "#d8576b"
             ],
             [
              0.6666666666666666,
              "#ed7953"
             ],
             [
              0.7777777777777778,
              "#fb9f3a"
             ],
             [
              0.8888888888888888,
              "#fdca26"
             ],
             [
              1,
              "#f0f921"
             ]
            ],
            "type": "histogram2d"
           }
          ],
          "histogram2dcontour": [
           {
            "colorbar": {
             "outlinewidth": 0,
             "ticks": ""
            },
            "colorscale": [
             [
              0,
              "#0d0887"
             ],
             [
              0.1111111111111111,
              "#46039f"
             ],
             [
              0.2222222222222222,
              "#7201a8"
             ],
             [
              0.3333333333333333,
              "#9c179e"
             ],
             [
              0.4444444444444444,
              "#bd3786"
             ],
             [
              0.5555555555555556,
              "#d8576b"
             ],
             [
              0.6666666666666666,
              "#ed7953"
             ],
             [
              0.7777777777777778,
              "#fb9f3a"
             ],
             [
              0.8888888888888888,
              "#fdca26"
             ],
             [
              1,
              "#f0f921"
             ]
            ],
            "type": "histogram2dcontour"
           }
          ],
          "mesh3d": [
           {
            "colorbar": {
             "outlinewidth": 0,
             "ticks": ""
            },
            "type": "mesh3d"
           }
          ],
          "parcoords": [
           {
            "line": {
             "colorbar": {
              "outlinewidth": 0,
              "ticks": ""
             }
            },
            "type": "parcoords"
           }
          ],
          "pie": [
           {
            "automargin": true,
            "type": "pie"
           }
          ],
          "scatter": [
           {
            "marker": {
             "colorbar": {
              "outlinewidth": 0,
              "ticks": ""
             }
            },
            "type": "scatter"
           }
          ],
          "scatter3d": [
           {
            "line": {
             "colorbar": {
              "outlinewidth": 0,
              "ticks": ""
             }
            },
            "marker": {
             "colorbar": {
              "outlinewidth": 0,
              "ticks": ""
             }
            },
            "type": "scatter3d"
           }
          ],
          "scattercarpet": [
           {
            "marker": {
             "colorbar": {
              "outlinewidth": 0,
              "ticks": ""
             }
            },
            "type": "scattercarpet"
           }
          ],
          "scattergeo": [
           {
            "marker": {
             "colorbar": {
              "outlinewidth": 0,
              "ticks": ""
             }
            },
            "type": "scattergeo"
           }
          ],
          "scattergl": [
           {
            "marker": {
             "colorbar": {
              "outlinewidth": 0,
              "ticks": ""
             }
            },
            "type": "scattergl"
           }
          ],
          "scattermapbox": [
           {
            "marker": {
             "colorbar": {
              "outlinewidth": 0,
              "ticks": ""
             }
            },
            "type": "scattermapbox"
           }
          ],
          "scatterpolar": [
           {
            "marker": {
             "colorbar": {
              "outlinewidth": 0,
              "ticks": ""
             }
            },
            "type": "scatterpolar"
           }
          ],
          "scatterpolargl": [
           {
            "marker": {
             "colorbar": {
              "outlinewidth": 0,
              "ticks": ""
             }
            },
            "type": "scatterpolargl"
           }
          ],
          "scatterternary": [
           {
            "marker": {
             "colorbar": {
              "outlinewidth": 0,
              "ticks": ""
             }
            },
            "type": "scatterternary"
           }
          ],
          "surface": [
           {
            "colorbar": {
             "outlinewidth": 0,
             "ticks": ""
            },
            "colorscale": [
             [
              0,
              "#0d0887"
             ],
             [
              0.1111111111111111,
              "#46039f"
             ],
             [
              0.2222222222222222,
              "#7201a8"
             ],
             [
              0.3333333333333333,
              "#9c179e"
             ],
             [
              0.4444444444444444,
              "#bd3786"
             ],
             [
              0.5555555555555556,
              "#d8576b"
             ],
             [
              0.6666666666666666,
              "#ed7953"
             ],
             [
              0.7777777777777778,
              "#fb9f3a"
             ],
             [
              0.8888888888888888,
              "#fdca26"
             ],
             [
              1,
              "#f0f921"
             ]
            ],
            "type": "surface"
           }
          ],
          "table": [
           {
            "cells": {
             "fill": {
              "color": "#EBF0F8"
             },
             "line": {
              "color": "white"
             }
            },
            "header": {
             "fill": {
              "color": "#C8D4E3"
             },
             "line": {
              "color": "white"
             }
            },
            "type": "table"
           }
          ]
         },
         "layout": {
          "annotationdefaults": {
           "arrowcolor": "#2a3f5f",
           "arrowhead": 0,
           "arrowwidth": 1
          },
          "autotypenumbers": "strict",
          "coloraxis": {
           "colorbar": {
            "outlinewidth": 0,
            "ticks": ""
           }
          },
          "colorscale": {
           "diverging": [
            [
             0,
             "#8e0152"
            ],
            [
             0.1,
             "#c51b7d"
            ],
            [
             0.2,
             "#de77ae"
            ],
            [
             0.3,
             "#f1b6da"
            ],
            [
             0.4,
             "#fde0ef"
            ],
            [
             0.5,
             "#f7f7f7"
            ],
            [
             0.6,
             "#e6f5d0"
            ],
            [
             0.7,
             "#b8e186"
            ],
            [
             0.8,
             "#7fbc41"
            ],
            [
             0.9,
             "#4d9221"
            ],
            [
             1,
             "#276419"
            ]
           ],
           "sequential": [
            [
             0,
             "#0d0887"
            ],
            [
             0.1111111111111111,
             "#46039f"
            ],
            [
             0.2222222222222222,
             "#7201a8"
            ],
            [
             0.3333333333333333,
             "#9c179e"
            ],
            [
             0.4444444444444444,
             "#bd3786"
            ],
            [
             0.5555555555555556,
             "#d8576b"
            ],
            [
             0.6666666666666666,
             "#ed7953"
            ],
            [
             0.7777777777777778,
             "#fb9f3a"
            ],
            [
             0.8888888888888888,
             "#fdca26"
            ],
            [
             1,
             "#f0f921"
            ]
           ],
           "sequentialminus": [
            [
             0,
             "#0d0887"
            ],
            [
             0.1111111111111111,
             "#46039f"
            ],
            [
             0.2222222222222222,
             "#7201a8"
            ],
            [
             0.3333333333333333,
             "#9c179e"
            ],
            [
             0.4444444444444444,
             "#bd3786"
            ],
            [
             0.5555555555555556,
             "#d8576b"
            ],
            [
             0.6666666666666666,
             "#ed7953"
            ],
            [
             0.7777777777777778,
             "#fb9f3a"
            ],
            [
             0.8888888888888888,
             "#fdca26"
            ],
            [
             1,
             "#f0f921"
            ]
           ]
          },
          "colorway": [
           "#636efa",
           "#EF553B",
           "#00cc96",
           "#ab63fa",
           "#FFA15A",
           "#19d3f3",
           "#FF6692",
           "#B6E880",
           "#FF97FF",
           "#FECB52"
          ],
          "font": {
           "color": "#2a3f5f"
          },
          "geo": {
           "bgcolor": "white",
           "lakecolor": "white",
           "landcolor": "#E5ECF6",
           "showlakes": true,
           "showland": true,
           "subunitcolor": "white"
          },
          "hoverlabel": {
           "align": "left"
          },
          "hovermode": "closest",
          "mapbox": {
           "style": "light"
          },
          "paper_bgcolor": "white",
          "plot_bgcolor": "#E5ECF6",
          "polar": {
           "angularaxis": {
            "gridcolor": "white",
            "linecolor": "white",
            "ticks": ""
           },
           "bgcolor": "#E5ECF6",
           "radialaxis": {
            "gridcolor": "white",
            "linecolor": "white",
            "ticks": ""
           }
          },
          "scene": {
           "xaxis": {
            "backgroundcolor": "#E5ECF6",
            "gridcolor": "white",
            "gridwidth": 2,
            "linecolor": "white",
            "showbackground": true,
            "ticks": "",
            "zerolinecolor": "white"
           },
           "yaxis": {
            "backgroundcolor": "#E5ECF6",
            "gridcolor": "white",
            "gridwidth": 2,
            "linecolor": "white",
            "showbackground": true,
            "ticks": "",
            "zerolinecolor": "white"
           },
           "zaxis": {
            "backgroundcolor": "#E5ECF6",
            "gridcolor": "white",
            "gridwidth": 2,
            "linecolor": "white",
            "showbackground": true,
            "ticks": "",
            "zerolinecolor": "white"
           }
          },
          "shapedefaults": {
           "line": {
            "color": "#2a3f5f"
           }
          },
          "ternary": {
           "aaxis": {
            "gridcolor": "white",
            "linecolor": "white",
            "ticks": ""
           },
           "baxis": {
            "gridcolor": "white",
            "linecolor": "white",
            "ticks": ""
           },
           "bgcolor": "#E5ECF6",
           "caxis": {
            "gridcolor": "white",
            "linecolor": "white",
            "ticks": ""
           }
          },
          "title": {
           "x": 0.05
          },
          "xaxis": {
           "automargin": true,
           "gridcolor": "white",
           "linecolor": "white",
           "ticks": "",
           "title": {
            "standoff": 15
           },
           "zerolinecolor": "white",
           "zerolinewidth": 2
          },
          "yaxis": {
           "automargin": true,
           "gridcolor": "white",
           "linecolor": "white",
           "ticks": "",
           "title": {
            "standoff": 15
           },
           "zerolinecolor": "white",
           "zerolinewidth": 2
          }
         }
        },
        "title": {
         "text": "Gate postion"
        }
       }
      }
     },
     "metadata": {},
     "output_type": "display_data"
    },
    {
     "name": "stdout",
     "output_type": "stream",
     "text": [
      "-518723.8263559272\n"
     ]
    },
    {
     "data": {
      "application/vnd.plotly.v1+json": {
       "config": {
        "plotlyServerURL": "https://plot.ly"
       },
       "data": [
        {
         "name": "Rsv 1 gate position",
         "type": "scatter",
         "x": [
          "2022-04-16T00:00:00",
          "2022-04-16T01:00:00",
          "2022-04-16T02:00:00",
          "2022-04-16T03:00:00",
          "2022-04-16T04:00:00",
          "2022-04-16T05:00:00",
          "2022-04-16T06:00:00",
          "2022-04-16T07:00:00",
          "2022-04-16T08:00:00",
          "2022-04-16T09:00:00",
          "2022-04-16T10:00:00",
          "2022-04-16T11:00:00",
          "2022-04-16T12:00:00",
          "2022-04-16T13:00:00",
          "2022-04-16T14:00:00",
          "2022-04-16T15:00:00",
          "2022-04-16T16:00:00",
          "2022-04-16T17:00:00",
          "2022-04-16T18:00:00",
          "2022-04-16T19:00:00",
          "2022-04-16T20:00:00",
          "2022-04-16T21:00:00",
          "2022-04-16T22:00:00",
          "2022-04-16T23:00:00",
          "2022-04-17T00:00:00",
          "2022-04-17T01:00:00",
          "2022-04-17T02:00:00",
          "2022-04-17T03:00:00",
          "2022-04-17T04:00:00",
          "2022-04-17T05:00:00",
          "2022-04-17T06:00:00",
          "2022-04-17T07:00:00",
          "2022-04-17T08:00:00",
          "2022-04-17T09:00:00",
          "2022-04-17T10:00:00",
          "2022-04-17T11:00:00",
          "2022-04-17T12:00:00",
          "2022-04-17T13:00:00",
          "2022-04-17T14:00:00",
          "2022-04-17T15:00:00",
          "2022-04-17T16:00:00",
          "2022-04-17T17:00:00",
          "2022-04-17T18:00:00",
          "2022-04-17T19:00:00",
          "2022-04-17T20:00:00",
          "2022-04-17T21:00:00",
          "2022-04-17T22:00:00",
          "2022-04-17T23:00:00",
          "2022-04-18T00:00:00",
          "2022-04-18T01:00:00",
          "2022-04-18T02:00:00",
          "2022-04-18T03:00:00",
          "2022-04-18T04:00:00",
          "2022-04-18T05:00:00",
          "2022-04-18T06:00:00",
          "2022-04-18T07:00:00",
          "2022-04-18T08:00:00",
          "2022-04-18T09:00:00",
          "2022-04-18T10:00:00",
          "2022-04-18T11:00:00",
          "2022-04-18T12:00:00",
          "2022-04-18T13:00:00",
          "2022-04-18T14:00:00",
          "2022-04-18T15:00:00",
          "2022-04-18T16:00:00",
          "2022-04-18T17:00:00",
          "2022-04-18T18:00:00",
          "2022-04-18T19:00:00",
          "2022-04-18T20:00:00",
          "2022-04-18T21:00:00",
          "2022-04-18T22:00:00",
          "2022-04-18T23:00:00"
         ],
         "y": [
          0.3823375773939721,
          0.3930107009950361,
          0.0517477078421831,
          0,
          0.10068635962537384,
          0.15702752592188443,
          0.09155655721084233,
          0,
          0,
          0.08536788012459876,
          0,
          1,
          0,
          0,
          0,
          1,
          1,
          0.6960412556856974,
          0.0765982656216859,
          0.05316441464013539,
          0.03788924119367327,
          0,
          0,
          0,
          0,
          1,
          1,
          1,
          0,
          1,
          1,
          1,
          0.2587135064367483,
          0.057771446974713744,
          0,
          0,
          0,
          1,
          1,
          1,
          1,
          1,
          0.03161915693616367,
          0.06131437596097757,
          0.26296033515649553,
          0.03204289672327101,
          0,
          0,
          1,
          1,
          1,
          1,
          1,
          1,
          1,
          0,
          0,
          0,
          0,
          0,
          0.00652889098421885,
          0.6743594843677025,
          0.6655946107173515,
          1,
          0.5882271661487426,
          0.05578081191294208,
          0,
          0,
          0.17247717815644287,
          0.16529475903916657,
          0.37056791535919464,
          0.27971707610044294
         ]
        }
       ],
       "layout": {
        "template": {
         "data": {
          "bar": [
           {
            "error_x": {
             "color": "#2a3f5f"
            },
            "error_y": {
             "color": "#2a3f5f"
            },
            "marker": {
             "line": {
              "color": "#E5ECF6",
              "width": 0.5
             },
             "pattern": {
              "fillmode": "overlay",
              "size": 10,
              "solidity": 0.2
             }
            },
            "type": "bar"
           }
          ],
          "barpolar": [
           {
            "marker": {
             "line": {
              "color": "#E5ECF6",
              "width": 0.5
             },
             "pattern": {
              "fillmode": "overlay",
              "size": 10,
              "solidity": 0.2
             }
            },
            "type": "barpolar"
           }
          ],
          "carpet": [
           {
            "aaxis": {
             "endlinecolor": "#2a3f5f",
             "gridcolor": "white",
             "linecolor": "white",
             "minorgridcolor": "white",
             "startlinecolor": "#2a3f5f"
            },
            "baxis": {
             "endlinecolor": "#2a3f5f",
             "gridcolor": "white",
             "linecolor": "white",
             "minorgridcolor": "white",
             "startlinecolor": "#2a3f5f"
            },
            "type": "carpet"
           }
          ],
          "choropleth": [
           {
            "colorbar": {
             "outlinewidth": 0,
             "ticks": ""
            },
            "type": "choropleth"
           }
          ],
          "contour": [
           {
            "colorbar": {
             "outlinewidth": 0,
             "ticks": ""
            },
            "colorscale": [
             [
              0,
              "#0d0887"
             ],
             [
              0.1111111111111111,
              "#46039f"
             ],
             [
              0.2222222222222222,
              "#7201a8"
             ],
             [
              0.3333333333333333,
              "#9c179e"
             ],
             [
              0.4444444444444444,
              "#bd3786"
             ],
             [
              0.5555555555555556,
              "#d8576b"
             ],
             [
              0.6666666666666666,
              "#ed7953"
             ],
             [
              0.7777777777777778,
              "#fb9f3a"
             ],
             [
              0.8888888888888888,
              "#fdca26"
             ],
             [
              1,
              "#f0f921"
             ]
            ],
            "type": "contour"
           }
          ],
          "contourcarpet": [
           {
            "colorbar": {
             "outlinewidth": 0,
             "ticks": ""
            },
            "type": "contourcarpet"
           }
          ],
          "heatmap": [
           {
            "colorbar": {
             "outlinewidth": 0,
             "ticks": ""
            },
            "colorscale": [
             [
              0,
              "#0d0887"
             ],
             [
              0.1111111111111111,
              "#46039f"
             ],
             [
              0.2222222222222222,
              "#7201a8"
             ],
             [
              0.3333333333333333,
              "#9c179e"
             ],
             [
              0.4444444444444444,
              "#bd3786"
             ],
             [
              0.5555555555555556,
              "#d8576b"
             ],
             [
              0.6666666666666666,
              "#ed7953"
             ],
             [
              0.7777777777777778,
              "#fb9f3a"
             ],
             [
              0.8888888888888888,
              "#fdca26"
             ],
             [
              1,
              "#f0f921"
             ]
            ],
            "type": "heatmap"
           }
          ],
          "heatmapgl": [
           {
            "colorbar": {
             "outlinewidth": 0,
             "ticks": ""
            },
            "colorscale": [
             [
              0,
              "#0d0887"
             ],
             [
              0.1111111111111111,
              "#46039f"
             ],
             [
              0.2222222222222222,
              "#7201a8"
             ],
             [
              0.3333333333333333,
              "#9c179e"
             ],
             [
              0.4444444444444444,
              "#bd3786"
             ],
             [
              0.5555555555555556,
              "#d8576b"
             ],
             [
              0.6666666666666666,
              "#ed7953"
             ],
             [
              0.7777777777777778,
              "#fb9f3a"
             ],
             [
              0.8888888888888888,
              "#fdca26"
             ],
             [
              1,
              "#f0f921"
             ]
            ],
            "type": "heatmapgl"
           }
          ],
          "histogram": [
           {
            "marker": {
             "pattern": {
              "fillmode": "overlay",
              "size": 10,
              "solidity": 0.2
             }
            },
            "type": "histogram"
           }
          ],
          "histogram2d": [
           {
            "colorbar": {
             "outlinewidth": 0,
             "ticks": ""
            },
            "colorscale": [
             [
              0,
              "#0d0887"
             ],
             [
              0.1111111111111111,
              "#46039f"
             ],
             [
              0.2222222222222222,
              "#7201a8"
             ],
             [
              0.3333333333333333,
              "#9c179e"
             ],
             [
              0.4444444444444444,
              "#bd3786"
             ],
             [
              0.5555555555555556,
              "#d8576b"
             ],
             [
              0.6666666666666666,
              "#ed7953"
             ],
             [
              0.7777777777777778,
              "#fb9f3a"
             ],
             [
              0.8888888888888888,
              "#fdca26"
             ],
             [
              1,
              "#f0f921"
             ]
            ],
            "type": "histogram2d"
           }
          ],
          "histogram2dcontour": [
           {
            "colorbar": {
             "outlinewidth": 0,
             "ticks": ""
            },
            "colorscale": [
             [
              0,
              "#0d0887"
             ],
             [
              0.1111111111111111,
              "#46039f"
             ],
             [
              0.2222222222222222,
              "#7201a8"
             ],
             [
              0.3333333333333333,
              "#9c179e"
             ],
             [
              0.4444444444444444,
              "#bd3786"
             ],
             [
              0.5555555555555556,
              "#d8576b"
             ],
             [
              0.6666666666666666,
              "#ed7953"
             ],
             [
              0.7777777777777778,
              "#fb9f3a"
             ],
             [
              0.8888888888888888,
              "#fdca26"
             ],
             [
              1,
              "#f0f921"
             ]
            ],
            "type": "histogram2dcontour"
           }
          ],
          "mesh3d": [
           {
            "colorbar": {
             "outlinewidth": 0,
             "ticks": ""
            },
            "type": "mesh3d"
           }
          ],
          "parcoords": [
           {
            "line": {
             "colorbar": {
              "outlinewidth": 0,
              "ticks": ""
             }
            },
            "type": "parcoords"
           }
          ],
          "pie": [
           {
            "automargin": true,
            "type": "pie"
           }
          ],
          "scatter": [
           {
            "marker": {
             "colorbar": {
              "outlinewidth": 0,
              "ticks": ""
             }
            },
            "type": "scatter"
           }
          ],
          "scatter3d": [
           {
            "line": {
             "colorbar": {
              "outlinewidth": 0,
              "ticks": ""
             }
            },
            "marker": {
             "colorbar": {
              "outlinewidth": 0,
              "ticks": ""
             }
            },
            "type": "scatter3d"
           }
          ],
          "scattercarpet": [
           {
            "marker": {
             "colorbar": {
              "outlinewidth": 0,
              "ticks": ""
             }
            },
            "type": "scattercarpet"
           }
          ],
          "scattergeo": [
           {
            "marker": {
             "colorbar": {
              "outlinewidth": 0,
              "ticks": ""
             }
            },
            "type": "scattergeo"
           }
          ],
          "scattergl": [
           {
            "marker": {
             "colorbar": {
              "outlinewidth": 0,
              "ticks": ""
             }
            },
            "type": "scattergl"
           }
          ],
          "scattermapbox": [
           {
            "marker": {
             "colorbar": {
              "outlinewidth": 0,
              "ticks": ""
             }
            },
            "type": "scattermapbox"
           }
          ],
          "scatterpolar": [
           {
            "marker": {
             "colorbar": {
              "outlinewidth": 0,
              "ticks": ""
             }
            },
            "type": "scatterpolar"
           }
          ],
          "scatterpolargl": [
           {
            "marker": {
             "colorbar": {
              "outlinewidth": 0,
              "ticks": ""
             }
            },
            "type": "scatterpolargl"
           }
          ],
          "scatterternary": [
           {
            "marker": {
             "colorbar": {
              "outlinewidth": 0,
              "ticks": ""
             }
            },
            "type": "scatterternary"
           }
          ],
          "surface": [
           {
            "colorbar": {
             "outlinewidth": 0,
             "ticks": ""
            },
            "colorscale": [
             [
              0,
              "#0d0887"
             ],
             [
              0.1111111111111111,
              "#46039f"
             ],
             [
              0.2222222222222222,
              "#7201a8"
             ],
             [
              0.3333333333333333,
              "#9c179e"
             ],
             [
              0.4444444444444444,
              "#bd3786"
             ],
             [
              0.5555555555555556,
              "#d8576b"
             ],
             [
              0.6666666666666666,
              "#ed7953"
             ],
             [
              0.7777777777777778,
              "#fb9f3a"
             ],
             [
              0.8888888888888888,
              "#fdca26"
             ],
             [
              1,
              "#f0f921"
             ]
            ],
            "type": "surface"
           }
          ],
          "table": [
           {
            "cells": {
             "fill": {
              "color": "#EBF0F8"
             },
             "line": {
              "color": "white"
             }
            },
            "header": {
             "fill": {
              "color": "#C8D4E3"
             },
             "line": {
              "color": "white"
             }
            },
            "type": "table"
           }
          ]
         },
         "layout": {
          "annotationdefaults": {
           "arrowcolor": "#2a3f5f",
           "arrowhead": 0,
           "arrowwidth": 1
          },
          "autotypenumbers": "strict",
          "coloraxis": {
           "colorbar": {
            "outlinewidth": 0,
            "ticks": ""
           }
          },
          "colorscale": {
           "diverging": [
            [
             0,
             "#8e0152"
            ],
            [
             0.1,
             "#c51b7d"
            ],
            [
             0.2,
             "#de77ae"
            ],
            [
             0.3,
             "#f1b6da"
            ],
            [
             0.4,
             "#fde0ef"
            ],
            [
             0.5,
             "#f7f7f7"
            ],
            [
             0.6,
             "#e6f5d0"
            ],
            [
             0.7,
             "#b8e186"
            ],
            [
             0.8,
             "#7fbc41"
            ],
            [
             0.9,
             "#4d9221"
            ],
            [
             1,
             "#276419"
            ]
           ],
           "sequential": [
            [
             0,
             "#0d0887"
            ],
            [
             0.1111111111111111,
             "#46039f"
            ],
            [
             0.2222222222222222,
             "#7201a8"
            ],
            [
             0.3333333333333333,
             "#9c179e"
            ],
            [
             0.4444444444444444,
             "#bd3786"
            ],
            [
             0.5555555555555556,
             "#d8576b"
            ],
            [
             0.6666666666666666,
             "#ed7953"
            ],
            [
             0.7777777777777778,
             "#fb9f3a"
            ],
            [
             0.8888888888888888,
             "#fdca26"
            ],
            [
             1,
             "#f0f921"
            ]
           ],
           "sequentialminus": [
            [
             0,
             "#0d0887"
            ],
            [
             0.1111111111111111,
             "#46039f"
            ],
            [
             0.2222222222222222,
             "#7201a8"
            ],
            [
             0.3333333333333333,
             "#9c179e"
            ],
            [
             0.4444444444444444,
             "#bd3786"
            ],
            [
             0.5555555555555556,
             "#d8576b"
            ],
            [
             0.6666666666666666,
             "#ed7953"
            ],
            [
             0.7777777777777778,
             "#fb9f3a"
            ],
            [
             0.8888888888888888,
             "#fdca26"
            ],
            [
             1,
             "#f0f921"
            ]
           ]
          },
          "colorway": [
           "#636efa",
           "#EF553B",
           "#00cc96",
           "#ab63fa",
           "#FFA15A",
           "#19d3f3",
           "#FF6692",
           "#B6E880",
           "#FF97FF",
           "#FECB52"
          ],
          "font": {
           "color": "#2a3f5f"
          },
          "geo": {
           "bgcolor": "white",
           "lakecolor": "white",
           "landcolor": "#E5ECF6",
           "showlakes": true,
           "showland": true,
           "subunitcolor": "white"
          },
          "hoverlabel": {
           "align": "left"
          },
          "hovermode": "closest",
          "mapbox": {
           "style": "light"
          },
          "paper_bgcolor": "white",
          "plot_bgcolor": "#E5ECF6",
          "polar": {
           "angularaxis": {
            "gridcolor": "white",
            "linecolor": "white",
            "ticks": ""
           },
           "bgcolor": "#E5ECF6",
           "radialaxis": {
            "gridcolor": "white",
            "linecolor": "white",
            "ticks": ""
           }
          },
          "scene": {
           "xaxis": {
            "backgroundcolor": "#E5ECF6",
            "gridcolor": "white",
            "gridwidth": 2,
            "linecolor": "white",
            "showbackground": true,
            "ticks": "",
            "zerolinecolor": "white"
           },
           "yaxis": {
            "backgroundcolor": "#E5ECF6",
            "gridcolor": "white",
            "gridwidth": 2,
            "linecolor": "white",
            "showbackground": true,
            "ticks": "",
            "zerolinecolor": "white"
           },
           "zaxis": {
            "backgroundcolor": "#E5ECF6",
            "gridcolor": "white",
            "gridwidth": 2,
            "linecolor": "white",
            "showbackground": true,
            "ticks": "",
            "zerolinecolor": "white"
           }
          },
          "shapedefaults": {
           "line": {
            "color": "#2a3f5f"
           }
          },
          "ternary": {
           "aaxis": {
            "gridcolor": "white",
            "linecolor": "white",
            "ticks": ""
           },
           "baxis": {
            "gridcolor": "white",
            "linecolor": "white",
            "ticks": ""
           },
           "bgcolor": "#E5ECF6",
           "caxis": {
            "gridcolor": "white",
            "linecolor": "white",
            "ticks": ""
           }
          },
          "title": {
           "x": 0.05
          },
          "xaxis": {
           "automargin": true,
           "gridcolor": "white",
           "linecolor": "white",
           "ticks": "",
           "title": {
            "standoff": 15
           },
           "zerolinecolor": "white",
           "zerolinewidth": 2
          },
          "yaxis": {
           "automargin": true,
           "gridcolor": "white",
           "linecolor": "white",
           "ticks": "",
           "title": {
            "standoff": 15
           },
           "zerolinecolor": "white",
           "zerolinewidth": 2
          }
         }
        },
        "title": {
         "text": "Gate postion"
        }
       }
      }
     },
     "metadata": {},
     "output_type": "display_data"
    }
   ],
   "source": [
    "shop = new_model()\n",
    "add_reservoirs(shop)\n",
    "add_tunnels(shop)\n",
    "add_plants(shop)\n",
    "connect_objects(shop)\n",
    "init_model(shop)\n",
    "insert_contiuous_gate(shop)\n",
    "\n",
    "for i in range(5):\n",
    "    shop.start_sim([],[1])\n",
    "    print(shop.model.objective.average_objective.total.get())\n",
    "    fig = go.Figure()\n",
    "    gate = shop.model.tunnel.t_r1_n1.gate_opening.get()\n",
    "    fig.add_trace(go.Scatter(x=gate.index, y=gate.values, name=\"Rsv 1 gate position\"))\n",
    "    fig.update_layout(title=\"Gate postion\")\n",
    "    fig.show()\n",
    "shop.set_code(['incremental'], [])\n",
    "for i in range(8):\n",
    "    shop.start_sim([],[1])\n",
    "    print(shop.model.objective.average_objective.total.get())\n",
    "    fig = go.Figure()\n",
    "    gate = shop.model.tunnel.t_r1_n1.gate_opening.get()\n",
    "    fig.add_trace(go.Scatter(x=gate.index, y=gate.values, name=\"Rsv 1 gate position\"))\n",
    "    fig.update_layout(title=\"Gate postion\")\n",
    "    fig.show()"
   ]
  },
  {
   "cell_type": "code",
   "execution_count": 66,
   "id": "41384f92",
   "metadata": {},
   "outputs": [
    {
     "data": {
      "application/vnd.plotly.v1+json": {
       "config": {
        "plotlyServerURL": "https://plot.ly"
       },
       "data": [
        {
         "name": "Plant 1 production",
         "type": "scatter",
         "x": [
          "2022-04-16T00:00:00",
          "2022-04-16T01:00:00",
          "2022-04-16T02:00:00",
          "2022-04-16T03:00:00",
          "2022-04-16T04:00:00",
          "2022-04-16T05:00:00",
          "2022-04-16T06:00:00",
          "2022-04-16T07:00:00",
          "2022-04-16T08:00:00",
          "2022-04-16T09:00:00",
          "2022-04-16T10:00:00",
          "2022-04-16T11:00:00",
          "2022-04-16T12:00:00",
          "2022-04-16T13:00:00",
          "2022-04-16T14:00:00",
          "2022-04-16T15:00:00",
          "2022-04-16T16:00:00",
          "2022-04-16T17:00:00",
          "2022-04-16T18:00:00",
          "2022-04-16T19:00:00",
          "2022-04-16T20:00:00",
          "2022-04-16T21:00:00",
          "2022-04-16T22:00:00",
          "2022-04-16T23:00:00",
          "2022-04-17T00:00:00",
          "2022-04-17T01:00:00",
          "2022-04-17T02:00:00",
          "2022-04-17T03:00:00",
          "2022-04-17T04:00:00",
          "2022-04-17T05:00:00",
          "2022-04-17T06:00:00",
          "2022-04-17T07:00:00",
          "2022-04-17T08:00:00",
          "2022-04-17T09:00:00",
          "2022-04-17T10:00:00",
          "2022-04-17T11:00:00",
          "2022-04-17T12:00:00",
          "2022-04-17T13:00:00",
          "2022-04-17T14:00:00",
          "2022-04-17T15:00:00",
          "2022-04-17T16:00:00",
          "2022-04-17T17:00:00",
          "2022-04-17T18:00:00",
          "2022-04-17T19:00:00",
          "2022-04-17T20:00:00",
          "2022-04-17T21:00:00",
          "2022-04-17T22:00:00",
          "2022-04-17T23:00:00",
          "2022-04-18T00:00:00",
          "2022-04-18T01:00:00",
          "2022-04-18T02:00:00",
          "2022-04-18T03:00:00",
          "2022-04-18T04:00:00",
          "2022-04-18T05:00:00",
          "2022-04-18T06:00:00",
          "2022-04-18T07:00:00",
          "2022-04-18T08:00:00",
          "2022-04-18T09:00:00",
          "2022-04-18T10:00:00",
          "2022-04-18T11:00:00",
          "2022-04-18T12:00:00",
          "2022-04-18T13:00:00",
          "2022-04-18T14:00:00",
          "2022-04-18T15:00:00",
          "2022-04-18T16:00:00",
          "2022-04-18T17:00:00",
          "2022-04-18T18:00:00",
          "2022-04-18T19:00:00",
          "2022-04-18T20:00:00",
          "2022-04-18T21:00:00",
          "2022-04-18T22:00:00",
          "2022-04-18T23:00:00"
         ],
         "y": [
          65.42124740147173,
          49.02565757180027,
          48.237639616212086,
          44.898308962256216,
          36.99808150236938,
          29.77242691911499,
          48.40366173881265,
          65.40889419241911,
          48.99072954281041,
          48.32028008273249,
          53.514394112576895,
          48.47003556406894,
          50.04409762774721,
          32.14359185949946,
          50.056035959139976,
          45.98961497065336,
          0,
          29.55383915366444,
          67.11423223550756,
          66.1927178412227,
          48.61134122999049,
          65.06966153499722,
          47.967342319541935,
          45.86881564253499,
          54.10506898368645,
          54.1939513516207,
          49.81051945999887,
          46.22641434752433,
          49.78380693311092,
          49.73602944088522,
          29.247399379067797,
          49.7284681106474,
          29.218811092725282,
          38.25507626699868,
          39.485303246161344,
          42.09946618399368,
          38.00385244634158,
          0,
          0,
          0,
          0,
          0,
          29.706749691955924,
          44.67055880810412,
          29.677553223073772,
          47.99684233369315,
          44.22733674677149,
          33.86232967174384,
          0,
          0,
          0,
          0,
          0,
          0,
          10.80379916664429,
          50.38701403371281,
          50.384171760676686,
          43.46514666093209,
          33.27254687692322,
          41.048137276215165,
          38.717754703345676,
          9.963201647567269,
          0,
          0,
          30.130309317482283,
          49.27528556837195,
          44.846355316015426,
          36.846147165169455,
          49.193838462093396,
          50.55624507540854,
          49.118936557220884,
          50.39303257779154
         ]
        },
        {
         "name": "Plant 2 production",
         "type": "scatter",
         "x": [
          "2022-04-16T00:00:00",
          "2022-04-16T01:00:00",
          "2022-04-16T02:00:00",
          "2022-04-16T03:00:00",
          "2022-04-16T04:00:00",
          "2022-04-16T05:00:00",
          "2022-04-16T06:00:00",
          "2022-04-16T07:00:00",
          "2022-04-16T08:00:00",
          "2022-04-16T09:00:00",
          "2022-04-16T10:00:00",
          "2022-04-16T11:00:00",
          "2022-04-16T12:00:00",
          "2022-04-16T13:00:00",
          "2022-04-16T14:00:00",
          "2022-04-16T15:00:00",
          "2022-04-16T16:00:00",
          "2022-04-16T17:00:00",
          "2022-04-16T18:00:00",
          "2022-04-16T19:00:00",
          "2022-04-16T20:00:00",
          "2022-04-16T21:00:00",
          "2022-04-16T22:00:00",
          "2022-04-16T23:00:00",
          "2022-04-17T00:00:00",
          "2022-04-17T01:00:00",
          "2022-04-17T02:00:00",
          "2022-04-17T03:00:00",
          "2022-04-17T04:00:00",
          "2022-04-17T05:00:00",
          "2022-04-17T06:00:00",
          "2022-04-17T07:00:00",
          "2022-04-17T08:00:00",
          "2022-04-17T09:00:00",
          "2022-04-17T10:00:00",
          "2022-04-17T11:00:00",
          "2022-04-17T12:00:00",
          "2022-04-17T13:00:00",
          "2022-04-17T14:00:00",
          "2022-04-17T15:00:00",
          "2022-04-17T16:00:00",
          "2022-04-17T17:00:00",
          "2022-04-17T18:00:00",
          "2022-04-17T19:00:00",
          "2022-04-17T20:00:00",
          "2022-04-17T21:00:00",
          "2022-04-17T22:00:00",
          "2022-04-17T23:00:00",
          "2022-04-18T00:00:00",
          "2022-04-18T01:00:00",
          "2022-04-18T02:00:00",
          "2022-04-18T03:00:00",
          "2022-04-18T04:00:00",
          "2022-04-18T05:00:00",
          "2022-04-18T06:00:00",
          "2022-04-18T07:00:00",
          "2022-04-18T08:00:00",
          "2022-04-18T09:00:00",
          "2022-04-18T10:00:00",
          "2022-04-18T11:00:00",
          "2022-04-18T12:00:00",
          "2022-04-18T13:00:00",
          "2022-04-18T14:00:00",
          "2022-04-18T15:00:00",
          "2022-04-18T16:00:00",
          "2022-04-18T17:00:00",
          "2022-04-18T18:00:00",
          "2022-04-18T19:00:00",
          "2022-04-18T20:00:00",
          "2022-04-18T21:00:00",
          "2022-04-18T22:00:00",
          "2022-04-18T23:00:00"
         ],
         "y": [
          0,
          0,
          0,
          0,
          0,
          0,
          0,
          0,
          0,
          0,
          0,
          0,
          0,
          0,
          0,
          0,
          0,
          0,
          0,
          0,
          0,
          0,
          0,
          0,
          0,
          0,
          0,
          0,
          0,
          0,
          0,
          0,
          0,
          0,
          0,
          0,
          0,
          0,
          0,
          0,
          0,
          0,
          0,
          0,
          0,
          0,
          0,
          0,
          0,
          0,
          0,
          0,
          0,
          0,
          0,
          0,
          0,
          0,
          0,
          0,
          0,
          0,
          0,
          0,
          0,
          0,
          0,
          0,
          0,
          0,
          0,
          0
         ]
        },
        {
         "name": "Plant 2 consumption",
         "type": "scatter",
         "x": [
          "2022-04-16T00:00:00",
          "2022-04-16T01:00:00",
          "2022-04-16T02:00:00",
          "2022-04-16T03:00:00",
          "2022-04-16T04:00:00",
          "2022-04-16T05:00:00",
          "2022-04-16T06:00:00",
          "2022-04-16T07:00:00",
          "2022-04-16T08:00:00",
          "2022-04-16T09:00:00",
          "2022-04-16T10:00:00",
          "2022-04-16T11:00:00",
          "2022-04-16T12:00:00",
          "2022-04-16T13:00:00",
          "2022-04-16T14:00:00",
          "2022-04-16T15:00:00",
          "2022-04-16T16:00:00",
          "2022-04-16T17:00:00",
          "2022-04-16T18:00:00",
          "2022-04-16T19:00:00",
          "2022-04-16T20:00:00",
          "2022-04-16T21:00:00",
          "2022-04-16T22:00:00",
          "2022-04-16T23:00:00",
          "2022-04-17T00:00:00",
          "2022-04-17T01:00:00",
          "2022-04-17T02:00:00",
          "2022-04-17T03:00:00",
          "2022-04-17T04:00:00",
          "2022-04-17T05:00:00",
          "2022-04-17T06:00:00",
          "2022-04-17T07:00:00",
          "2022-04-17T08:00:00",
          "2022-04-17T09:00:00",
          "2022-04-17T10:00:00",
          "2022-04-17T11:00:00",
          "2022-04-17T12:00:00",
          "2022-04-17T13:00:00",
          "2022-04-17T14:00:00",
          "2022-04-17T15:00:00",
          "2022-04-17T16:00:00",
          "2022-04-17T17:00:00",
          "2022-04-17T18:00:00",
          "2022-04-17T19:00:00",
          "2022-04-17T20:00:00",
          "2022-04-17T21:00:00",
          "2022-04-17T22:00:00",
          "2022-04-17T23:00:00",
          "2022-04-18T00:00:00",
          "2022-04-18T01:00:00",
          "2022-04-18T02:00:00",
          "2022-04-18T03:00:00",
          "2022-04-18T04:00:00",
          "2022-04-18T05:00:00",
          "2022-04-18T06:00:00",
          "2022-04-18T07:00:00",
          "2022-04-18T08:00:00",
          "2022-04-18T09:00:00",
          "2022-04-18T10:00:00",
          "2022-04-18T11:00:00",
          "2022-04-18T12:00:00",
          "2022-04-18T13:00:00",
          "2022-04-18T14:00:00",
          "2022-04-18T15:00:00",
          "2022-04-18T16:00:00",
          "2022-04-18T17:00:00",
          "2022-04-18T18:00:00",
          "2022-04-18T19:00:00",
          "2022-04-18T20:00:00",
          "2022-04-18T21:00:00",
          "2022-04-18T22:00:00",
          "2022-04-18T23:00:00"
         ],
         "y": [
          45.93482181775107,
          46.630018877617516,
          46.3408096431595,
          44.89996542078772,
          46.3255376653122,
          47.99220102238444,
          47.21677666666436,
          47.30862043248171,
          48.02757163277193,
          47.766888277747604,
          43.61235473917235,
          48.2148004181148,
          49.40782177200543,
          49.12840644799304,
          49.64115709157516,
          47.61026837005343,
          50.0309971781583,
          50.65065663926602,
          49.406336253290945,
          15.752982510508524,
          15.80719089926842,
          15.655864786931465,
          15.638520787222603,
          47.89147170169108,
          44.9204705944693,
          44.60099610885201,
          49.548490904897704,
          47.73948730983106,
          49.583835172828934,
          49.60414923838253,
          50.244419440442066,
          49.59766776725001,
          50.50843665532444,
          50.05923370405352,
          50.33177847295987,
          50.05209998651603,
          51.336924754036716,
          49.935852394386,
          49.903137032143675,
          49.905193246318284,
          49.90517135204247,
          49.905328190255254,
          0,
          0,
          0,
          0,
          0,
          29.041272517066968,
          49.98671968852223,
          49.98493712937523,
          49.98462891539483,
          49.984286828302366,
          49.984002603345154,
          49.98375961446902,
          51.205737433679914,
          49.77441351814807,
          49.72268632510326,
          16.710401380602214,
          17.065930473252205,
          20.67524874878277,
          50.20220778522342,
          49.760209965518946,
          50.30536035463228,
          50.20311843847888,
          50.69442787676615,
          0,
          0,
          0,
          0,
          0,
          0,
          0
         ]
        }
       ],
       "layout": {
        "template": {
         "data": {
          "bar": [
           {
            "error_x": {
             "color": "#2a3f5f"
            },
            "error_y": {
             "color": "#2a3f5f"
            },
            "marker": {
             "line": {
              "color": "#E5ECF6",
              "width": 0.5
             },
             "pattern": {
              "fillmode": "overlay",
              "size": 10,
              "solidity": 0.2
             }
            },
            "type": "bar"
           }
          ],
          "barpolar": [
           {
            "marker": {
             "line": {
              "color": "#E5ECF6",
              "width": 0.5
             },
             "pattern": {
              "fillmode": "overlay",
              "size": 10,
              "solidity": 0.2
             }
            },
            "type": "barpolar"
           }
          ],
          "carpet": [
           {
            "aaxis": {
             "endlinecolor": "#2a3f5f",
             "gridcolor": "white",
             "linecolor": "white",
             "minorgridcolor": "white",
             "startlinecolor": "#2a3f5f"
            },
            "baxis": {
             "endlinecolor": "#2a3f5f",
             "gridcolor": "white",
             "linecolor": "white",
             "minorgridcolor": "white",
             "startlinecolor": "#2a3f5f"
            },
            "type": "carpet"
           }
          ],
          "choropleth": [
           {
            "colorbar": {
             "outlinewidth": 0,
             "ticks": ""
            },
            "type": "choropleth"
           }
          ],
          "contour": [
           {
            "colorbar": {
             "outlinewidth": 0,
             "ticks": ""
            },
            "colorscale": [
             [
              0,
              "#0d0887"
             ],
             [
              0.1111111111111111,
              "#46039f"
             ],
             [
              0.2222222222222222,
              "#7201a8"
             ],
             [
              0.3333333333333333,
              "#9c179e"
             ],
             [
              0.4444444444444444,
              "#bd3786"
             ],
             [
              0.5555555555555556,
              "#d8576b"
             ],
             [
              0.6666666666666666,
              "#ed7953"
             ],
             [
              0.7777777777777778,
              "#fb9f3a"
             ],
             [
              0.8888888888888888,
              "#fdca26"
             ],
             [
              1,
              "#f0f921"
             ]
            ],
            "type": "contour"
           }
          ],
          "contourcarpet": [
           {
            "colorbar": {
             "outlinewidth": 0,
             "ticks": ""
            },
            "type": "contourcarpet"
           }
          ],
          "heatmap": [
           {
            "colorbar": {
             "outlinewidth": 0,
             "ticks": ""
            },
            "colorscale": [
             [
              0,
              "#0d0887"
             ],
             [
              0.1111111111111111,
              "#46039f"
             ],
             [
              0.2222222222222222,
              "#7201a8"
             ],
             [
              0.3333333333333333,
              "#9c179e"
             ],
             [
              0.4444444444444444,
              "#bd3786"
             ],
             [
              0.5555555555555556,
              "#d8576b"
             ],
             [
              0.6666666666666666,
              "#ed7953"
             ],
             [
              0.7777777777777778,
              "#fb9f3a"
             ],
             [
              0.8888888888888888,
              "#fdca26"
             ],
             [
              1,
              "#f0f921"
             ]
            ],
            "type": "heatmap"
           }
          ],
          "heatmapgl": [
           {
            "colorbar": {
             "outlinewidth": 0,
             "ticks": ""
            },
            "colorscale": [
             [
              0,
              "#0d0887"
             ],
             [
              0.1111111111111111,
              "#46039f"
             ],
             [
              0.2222222222222222,
              "#7201a8"
             ],
             [
              0.3333333333333333,
              "#9c179e"
             ],
             [
              0.4444444444444444,
              "#bd3786"
             ],
             [
              0.5555555555555556,
              "#d8576b"
             ],
             [
              0.6666666666666666,
              "#ed7953"
             ],
             [
              0.7777777777777778,
              "#fb9f3a"
             ],
             [
              0.8888888888888888,
              "#fdca26"
             ],
             [
              1,
              "#f0f921"
             ]
            ],
            "type": "heatmapgl"
           }
          ],
          "histogram": [
           {
            "marker": {
             "pattern": {
              "fillmode": "overlay",
              "size": 10,
              "solidity": 0.2
             }
            },
            "type": "histogram"
           }
          ],
          "histogram2d": [
           {
            "colorbar": {
             "outlinewidth": 0,
             "ticks": ""
            },
            "colorscale": [
             [
              0,
              "#0d0887"
             ],
             [
              0.1111111111111111,
              "#46039f"
             ],
             [
              0.2222222222222222,
              "#7201a8"
             ],
             [
              0.3333333333333333,
              "#9c179e"
             ],
             [
              0.4444444444444444,
              "#bd3786"
             ],
             [
              0.5555555555555556,
              "#d8576b"
             ],
             [
              0.6666666666666666,
              "#ed7953"
             ],
             [
              0.7777777777777778,
              "#fb9f3a"
             ],
             [
              0.8888888888888888,
              "#fdca26"
             ],
             [
              1,
              "#f0f921"
             ]
            ],
            "type": "histogram2d"
           }
          ],
          "histogram2dcontour": [
           {
            "colorbar": {
             "outlinewidth": 0,
             "ticks": ""
            },
            "colorscale": [
             [
              0,
              "#0d0887"
             ],
             [
              0.1111111111111111,
              "#46039f"
             ],
             [
              0.2222222222222222,
              "#7201a8"
             ],
             [
              0.3333333333333333,
              "#9c179e"
             ],
             [
              0.4444444444444444,
              "#bd3786"
             ],
             [
              0.5555555555555556,
              "#d8576b"
             ],
             [
              0.6666666666666666,
              "#ed7953"
             ],
             [
              0.7777777777777778,
              "#fb9f3a"
             ],
             [
              0.8888888888888888,
              "#fdca26"
             ],
             [
              1,
              "#f0f921"
             ]
            ],
            "type": "histogram2dcontour"
           }
          ],
          "mesh3d": [
           {
            "colorbar": {
             "outlinewidth": 0,
             "ticks": ""
            },
            "type": "mesh3d"
           }
          ],
          "parcoords": [
           {
            "line": {
             "colorbar": {
              "outlinewidth": 0,
              "ticks": ""
             }
            },
            "type": "parcoords"
           }
          ],
          "pie": [
           {
            "automargin": true,
            "type": "pie"
           }
          ],
          "scatter": [
           {
            "marker": {
             "colorbar": {
              "outlinewidth": 0,
              "ticks": ""
             }
            },
            "type": "scatter"
           }
          ],
          "scatter3d": [
           {
            "line": {
             "colorbar": {
              "outlinewidth": 0,
              "ticks": ""
             }
            },
            "marker": {
             "colorbar": {
              "outlinewidth": 0,
              "ticks": ""
             }
            },
            "type": "scatter3d"
           }
          ],
          "scattercarpet": [
           {
            "marker": {
             "colorbar": {
              "outlinewidth": 0,
              "ticks": ""
             }
            },
            "type": "scattercarpet"
           }
          ],
          "scattergeo": [
           {
            "marker": {
             "colorbar": {
              "outlinewidth": 0,
              "ticks": ""
             }
            },
            "type": "scattergeo"
           }
          ],
          "scattergl": [
           {
            "marker": {
             "colorbar": {
              "outlinewidth": 0,
              "ticks": ""
             }
            },
            "type": "scattergl"
           }
          ],
          "scattermapbox": [
           {
            "marker": {
             "colorbar": {
              "outlinewidth": 0,
              "ticks": ""
             }
            },
            "type": "scattermapbox"
           }
          ],
          "scatterpolar": [
           {
            "marker": {
             "colorbar": {
              "outlinewidth": 0,
              "ticks": ""
             }
            },
            "type": "scatterpolar"
           }
          ],
          "scatterpolargl": [
           {
            "marker": {
             "colorbar": {
              "outlinewidth": 0,
              "ticks": ""
             }
            },
            "type": "scatterpolargl"
           }
          ],
          "scatterternary": [
           {
            "marker": {
             "colorbar": {
              "outlinewidth": 0,
              "ticks": ""
             }
            },
            "type": "scatterternary"
           }
          ],
          "surface": [
           {
            "colorbar": {
             "outlinewidth": 0,
             "ticks": ""
            },
            "colorscale": [
             [
              0,
              "#0d0887"
             ],
             [
              0.1111111111111111,
              "#46039f"
             ],
             [
              0.2222222222222222,
              "#7201a8"
             ],
             [
              0.3333333333333333,
              "#9c179e"
             ],
             [
              0.4444444444444444,
              "#bd3786"
             ],
             [
              0.5555555555555556,
              "#d8576b"
             ],
             [
              0.6666666666666666,
              "#ed7953"
             ],
             [
              0.7777777777777778,
              "#fb9f3a"
             ],
             [
              0.8888888888888888,
              "#fdca26"
             ],
             [
              1,
              "#f0f921"
             ]
            ],
            "type": "surface"
           }
          ],
          "table": [
           {
            "cells": {
             "fill": {
              "color": "#EBF0F8"
             },
             "line": {
              "color": "white"
             }
            },
            "header": {
             "fill": {
              "color": "#C8D4E3"
             },
             "line": {
              "color": "white"
             }
            },
            "type": "table"
           }
          ]
         },
         "layout": {
          "annotationdefaults": {
           "arrowcolor": "#2a3f5f",
           "arrowhead": 0,
           "arrowwidth": 1
          },
          "autotypenumbers": "strict",
          "coloraxis": {
           "colorbar": {
            "outlinewidth": 0,
            "ticks": ""
           }
          },
          "colorscale": {
           "diverging": [
            [
             0,
             "#8e0152"
            ],
            [
             0.1,
             "#c51b7d"
            ],
            [
             0.2,
             "#de77ae"
            ],
            [
             0.3,
             "#f1b6da"
            ],
            [
             0.4,
             "#fde0ef"
            ],
            [
             0.5,
             "#f7f7f7"
            ],
            [
             0.6,
             "#e6f5d0"
            ],
            [
             0.7,
             "#b8e186"
            ],
            [
             0.8,
             "#7fbc41"
            ],
            [
             0.9,
             "#4d9221"
            ],
            [
             1,
             "#276419"
            ]
           ],
           "sequential": [
            [
             0,
             "#0d0887"
            ],
            [
             0.1111111111111111,
             "#46039f"
            ],
            [
             0.2222222222222222,
             "#7201a8"
            ],
            [
             0.3333333333333333,
             "#9c179e"
            ],
            [
             0.4444444444444444,
             "#bd3786"
            ],
            [
             0.5555555555555556,
             "#d8576b"
            ],
            [
             0.6666666666666666,
             "#ed7953"
            ],
            [
             0.7777777777777778,
             "#fb9f3a"
            ],
            [
             0.8888888888888888,
             "#fdca26"
            ],
            [
             1,
             "#f0f921"
            ]
           ],
           "sequentialminus": [
            [
             0,
             "#0d0887"
            ],
            [
             0.1111111111111111,
             "#46039f"
            ],
            [
             0.2222222222222222,
             "#7201a8"
            ],
            [
             0.3333333333333333,
             "#9c179e"
            ],
            [
             0.4444444444444444,
             "#bd3786"
            ],
            [
             0.5555555555555556,
             "#d8576b"
            ],
            [
             0.6666666666666666,
             "#ed7953"
            ],
            [
             0.7777777777777778,
             "#fb9f3a"
            ],
            [
             0.8888888888888888,
             "#fdca26"
            ],
            [
             1,
             "#f0f921"
            ]
           ]
          },
          "colorway": [
           "#636efa",
           "#EF553B",
           "#00cc96",
           "#ab63fa",
           "#FFA15A",
           "#19d3f3",
           "#FF6692",
           "#B6E880",
           "#FF97FF",
           "#FECB52"
          ],
          "font": {
           "color": "#2a3f5f"
          },
          "geo": {
           "bgcolor": "white",
           "lakecolor": "white",
           "landcolor": "#E5ECF6",
           "showlakes": true,
           "showland": true,
           "subunitcolor": "white"
          },
          "hoverlabel": {
           "align": "left"
          },
          "hovermode": "closest",
          "mapbox": {
           "style": "light"
          },
          "paper_bgcolor": "white",
          "plot_bgcolor": "#E5ECF6",
          "polar": {
           "angularaxis": {
            "gridcolor": "white",
            "linecolor": "white",
            "ticks": ""
           },
           "bgcolor": "#E5ECF6",
           "radialaxis": {
            "gridcolor": "white",
            "linecolor": "white",
            "ticks": ""
           }
          },
          "scene": {
           "xaxis": {
            "backgroundcolor": "#E5ECF6",
            "gridcolor": "white",
            "gridwidth": 2,
            "linecolor": "white",
            "showbackground": true,
            "ticks": "",
            "zerolinecolor": "white"
           },
           "yaxis": {
            "backgroundcolor": "#E5ECF6",
            "gridcolor": "white",
            "gridwidth": 2,
            "linecolor": "white",
            "showbackground": true,
            "ticks": "",
            "zerolinecolor": "white"
           },
           "zaxis": {
            "backgroundcolor": "#E5ECF6",
            "gridcolor": "white",
            "gridwidth": 2,
            "linecolor": "white",
            "showbackground": true,
            "ticks": "",
            "zerolinecolor": "white"
           }
          },
          "shapedefaults": {
           "line": {
            "color": "#2a3f5f"
           }
          },
          "ternary": {
           "aaxis": {
            "gridcolor": "white",
            "linecolor": "white",
            "ticks": ""
           },
           "baxis": {
            "gridcolor": "white",
            "linecolor": "white",
            "ticks": ""
           },
           "bgcolor": "#E5ECF6",
           "caxis": {
            "gridcolor": "white",
            "linecolor": "white",
            "ticks": ""
           }
          },
          "title": {
           "x": 0.05
          },
          "xaxis": {
           "automargin": true,
           "gridcolor": "white",
           "linecolor": "white",
           "ticks": "",
           "title": {
            "standoff": 15
           },
           "zerolinecolor": "white",
           "zerolinewidth": 2
          },
          "yaxis": {
           "automargin": true,
           "gridcolor": "white",
           "linecolor": "white",
           "ticks": "",
           "title": {
            "standoff": 15
           },
           "zerolinecolor": "white",
           "zerolinewidth": 2
          }
         }
        },
        "title": {
         "text": "Production and consumption"
        }
       }
      }
     },
     "metadata": {},
     "output_type": "display_data"
    },
    {
     "data": {
      "application/vnd.plotly.v1+json": {
       "config": {
        "plotlyServerURL": "https://plot.ly"
       },
       "data": [
        {
         "name": "Rsv 1 storage",
         "type": "scatter",
         "x": [
          "2022-04-16T00:00:00",
          "2022-04-16T01:00:00",
          "2022-04-16T02:00:00",
          "2022-04-16T03:00:00",
          "2022-04-16T04:00:00",
          "2022-04-16T05:00:00",
          "2022-04-16T06:00:00",
          "2022-04-16T07:00:00",
          "2022-04-16T08:00:00",
          "2022-04-16T09:00:00",
          "2022-04-16T10:00:00",
          "2022-04-16T11:00:00",
          "2022-04-16T12:00:00",
          "2022-04-16T13:00:00",
          "2022-04-16T14:00:00",
          "2022-04-16T15:00:00",
          "2022-04-16T16:00:00",
          "2022-04-16T17:00:00",
          "2022-04-16T18:00:00",
          "2022-04-16T19:00:00",
          "2022-04-16T20:00:00",
          "2022-04-16T21:00:00",
          "2022-04-16T22:00:00",
          "2022-04-16T23:00:00",
          "2022-04-17T00:00:00",
          "2022-04-17T01:00:00",
          "2022-04-17T02:00:00",
          "2022-04-17T03:00:00",
          "2022-04-17T04:00:00",
          "2022-04-17T05:00:00",
          "2022-04-17T06:00:00",
          "2022-04-17T07:00:00",
          "2022-04-17T08:00:00",
          "2022-04-17T09:00:00",
          "2022-04-17T10:00:00",
          "2022-04-17T11:00:00",
          "2022-04-17T12:00:00",
          "2022-04-17T13:00:00",
          "2022-04-17T14:00:00",
          "2022-04-17T15:00:00",
          "2022-04-17T16:00:00",
          "2022-04-17T17:00:00",
          "2022-04-17T18:00:00",
          "2022-04-17T19:00:00",
          "2022-04-17T20:00:00",
          "2022-04-17T21:00:00",
          "2022-04-17T22:00:00",
          "2022-04-17T23:00:00",
          "2022-04-18T00:00:00",
          "2022-04-18T01:00:00",
          "2022-04-18T02:00:00",
          "2022-04-18T03:00:00",
          "2022-04-18T04:00:00",
          "2022-04-18T05:00:00",
          "2022-04-18T06:00:00",
          "2022-04-18T07:00:00",
          "2022-04-18T08:00:00",
          "2022-04-18T09:00:00",
          "2022-04-18T10:00:00",
          "2022-04-18T11:00:00",
          "2022-04-18T12:00:00",
          "2022-04-18T13:00:00",
          "2022-04-18T14:00:00",
          "2022-04-18T15:00:00",
          "2022-04-18T16:00:00",
          "2022-04-18T17:00:00",
          "2022-04-18T18:00:00",
          "2022-04-18T19:00:00",
          "2022-04-18T20:00:00",
          "2022-04-18T21:00:00",
          "2022-04-18T22:00:00",
          "2022-04-18T23:00:00",
          "2022-04-19T00:00:00"
         ],
         "y": [
          6,
          5.86971170715546,
          5.788349945691169,
          5.690065350025679,
          5.689622390157138,
          5.6620274860438204,
          5.653491354276622,
          5.587764851468586,
          5.463479058453368,
          5.392993272898775,
          5.265137215421322,
          5.265889632040069,
          5.070059096721673,
          4.996224666085425,
          4.984943287589397,
          4.916307350541797,
          4.906038776569443,
          4.9567299621635925,
          4.981220947797425,
          4.930552529950797,
          4.78398667683868,
          4.709868866953082,
          4.573098471345759,
          4.509149497675969,
          4.50681305702355,
          4.464253865406784,
          4.349724276997494,
          4.151737891663532,
          4.149716582128116,
          4.033073500290601,
          3.9719383843562412,
          3.995761144818016,
          4.0103759743658145,
          4.037841353530285,
          4.083788086030273,
          4.08378663988849,
          4.083784568484168,
          4.083783467703535,
          4.2102865967772,
          4.350343187831902,
          4.487240268080541,
          4.624597233253008,
          4.762045948858099,
          4.765346890861958,
          4.747631255751395,
          4.683759142419501,
          4.59957005614786,
          4.5930865453403324,
          4.546676270893971,
          4.670753183080899,
          4.808751898370997,
          4.943983718416803,
          5.079317339412154,
          5.214658153999267,
          5.349937920532165,
          5.357686891114173,
          5.400027639480191,
          5.347381958477439,
          5.346428093030437,
          5.346426653376341,
          5.346424028582442,
          5.346422456871847,
          5.438204655010258,
          5.823813664604534,
          5.958333280270824,
          5.992564874561657,
          6.00126928446212,
          5.954043017562538,
          5.870398382571568,
          5.807097430360829,
          5.730175610909799,
          5.55645505380208,
          5.420454505919219
         ]
        },
        {
         "name": "Rsv 2 storage",
         "type": "scatter",
         "x": [
          "2022-04-16T00:00:00",
          "2022-04-16T01:00:00",
          "2022-04-16T02:00:00",
          "2022-04-16T03:00:00",
          "2022-04-16T04:00:00",
          "2022-04-16T05:00:00",
          "2022-04-16T06:00:00",
          "2022-04-16T07:00:00",
          "2022-04-16T08:00:00",
          "2022-04-16T09:00:00",
          "2022-04-16T10:00:00",
          "2022-04-16T11:00:00",
          "2022-04-16T12:00:00",
          "2022-04-16T13:00:00",
          "2022-04-16T14:00:00",
          "2022-04-16T15:00:00",
          "2022-04-16T16:00:00",
          "2022-04-16T17:00:00",
          "2022-04-16T18:00:00",
          "2022-04-16T19:00:00",
          "2022-04-16T20:00:00",
          "2022-04-16T21:00:00",
          "2022-04-16T22:00:00",
          "2022-04-16T23:00:00",
          "2022-04-17T00:00:00",
          "2022-04-17T01:00:00",
          "2022-04-17T02:00:00",
          "2022-04-17T03:00:00",
          "2022-04-17T04:00:00",
          "2022-04-17T05:00:00",
          "2022-04-17T06:00:00",
          "2022-04-17T07:00:00",
          "2022-04-17T08:00:00",
          "2022-04-17T09:00:00",
          "2022-04-17T10:00:00",
          "2022-04-17T11:00:00",
          "2022-04-17T12:00:00",
          "2022-04-17T13:00:00",
          "2022-04-17T14:00:00",
          "2022-04-17T15:00:00",
          "2022-04-17T16:00:00",
          "2022-04-17T17:00:00",
          "2022-04-17T18:00:00",
          "2022-04-17T19:00:00",
          "2022-04-17T20:00:00",
          "2022-04-17T21:00:00",
          "2022-04-17T22:00:00",
          "2022-04-17T23:00:00",
          "2022-04-18T00:00:00",
          "2022-04-18T01:00:00",
          "2022-04-18T02:00:00",
          "2022-04-18T03:00:00",
          "2022-04-18T04:00:00",
          "2022-04-18T05:00:00",
          "2022-04-18T06:00:00",
          "2022-04-18T07:00:00",
          "2022-04-18T08:00:00",
          "2022-04-18T09:00:00",
          "2022-04-18T10:00:00",
          "2022-04-18T11:00:00",
          "2022-04-18T12:00:00",
          "2022-04-18T13:00:00",
          "2022-04-18T14:00:00",
          "2022-04-18T15:00:00",
          "2022-04-18T16:00:00",
          "2022-04-18T17:00:00",
          "2022-04-18T18:00:00",
          "2022-04-18T19:00:00",
          "2022-04-18T20:00:00",
          "2022-04-18T21:00:00",
          "2022-04-18T22:00:00",
          "2022-04-18T23:00:00",
          "2022-04-19T00:00:00"
         ],
         "y": [
          6,
          6.137719428748437,
          6.304093488595259,
          6.4966757815114935,
          6.5954301396835096,
          6.760137905640869,
          6.948434213541947,
          7.115790945227002,
          7.248624941176592,
          7.405996224506316,
          7.628015538351486,
          7.64705723061478,
          7.916567239485016,
          8.079015673438988,
          8.262021346924593,
          8.426525016359903,
          8.535608977869515,
          8.781271305329147,
          8.951807004571169,
          9.009250417235279,
          8.935747399646214,
          8.862851879066563,
          8.775735538766355,
          8.693836004263778,
          8.77891833354219,
          8.836723061307685,
          8.946140156068713,
          9.207195843745648,
          9.299905515287644,
          9.491721463213793,
          9.632942960385254,
          9.778917035026296,
          9.846271327031769,
          9.988503221467761,
          10.081286083167964,
          10.212634994051758,
          10.329372554138377,
          10.467231496767317,
          10.629019337153277,
          10.790340135808133,
          10.948829978923452,
          11.10626510140806,
          11.262576124470343,
          11.147080128033958,
          10.945852133656894,
          10.856948654771617,
          10.718358075809657,
          10.499571756434028,
          10.530179633428583,
          10.68769893424997,
          10.851778486081935,
          11.01409897855483,
          11.175230068332429,
          11.335158366854154,
          11.493893526799287,
          11.732242879793722,
          11.77133543882395,
          11.885722719305562,
          11.780706959786306,
          11.7067597882746,
          11.62634806894406,
          11.731258718239456,
          11.874979871758153,
          11.776279275760789,
          11.932608842804484,
          11.985930339958037,
          11.849111693916019,
          11.672509829232075,
          11.57381450277332,
          11.409227407875596,
          11.192615326102366,
          11.109895356375068,
          10.952352271849236
         ]
        },
        {
         "name": "Rsv 3 storage",
         "type": "scatter",
         "x": [
          "2022-04-16T00:00:00",
          "2022-04-16T01:00:00",
          "2022-04-16T02:00:00",
          "2022-04-16T03:00:00",
          "2022-04-16T04:00:00",
          "2022-04-16T05:00:00",
          "2022-04-16T06:00:00",
          "2022-04-16T07:00:00",
          "2022-04-16T08:00:00",
          "2022-04-16T09:00:00",
          "2022-04-16T10:00:00",
          "2022-04-16T11:00:00",
          "2022-04-16T12:00:00",
          "2022-04-16T13:00:00",
          "2022-04-16T14:00:00",
          "2022-04-16T15:00:00",
          "2022-04-16T16:00:00",
          "2022-04-16T17:00:00",
          "2022-04-16T18:00:00",
          "2022-04-16T19:00:00",
          "2022-04-16T20:00:00",
          "2022-04-16T21:00:00",
          "2022-04-16T22:00:00",
          "2022-04-16T23:00:00",
          "2022-04-17T00:00:00",
          "2022-04-17T01:00:00",
          "2022-04-17T02:00:00",
          "2022-04-17T03:00:00",
          "2022-04-17T04:00:00",
          "2022-04-17T05:00:00",
          "2022-04-17T06:00:00",
          "2022-04-17T07:00:00",
          "2022-04-17T08:00:00",
          "2022-04-17T09:00:00",
          "2022-04-17T10:00:00",
          "2022-04-17T11:00:00",
          "2022-04-17T12:00:00",
          "2022-04-17T13:00:00",
          "2022-04-17T14:00:00",
          "2022-04-17T15:00:00",
          "2022-04-17T16:00:00",
          "2022-04-17T17:00:00",
          "2022-04-17T18:00:00",
          "2022-04-17T19:00:00",
          "2022-04-17T20:00:00",
          "2022-04-17T21:00:00",
          "2022-04-17T22:00:00",
          "2022-04-17T23:00:00",
          "2022-04-18T00:00:00",
          "2022-04-18T01:00:00",
          "2022-04-18T02:00:00",
          "2022-04-18T03:00:00",
          "2022-04-18T04:00:00",
          "2022-04-18T05:00:00",
          "2022-04-18T06:00:00",
          "2022-04-18T07:00:00",
          "2022-04-18T08:00:00",
          "2022-04-18T09:00:00",
          "2022-04-18T10:00:00",
          "2022-04-18T11:00:00",
          "2022-04-18T12:00:00",
          "2022-04-18T13:00:00",
          "2022-04-18T14:00:00",
          "2022-04-18T15:00:00",
          "2022-04-18T16:00:00",
          "2022-04-18T17:00:00",
          "2022-04-18T18:00:00",
          "2022-04-18T19:00:00",
          "2022-04-18T20:00:00",
          "2022-04-18T21:00:00",
          "2022-04-18T22:00:00",
          "2022-04-18T23:00:00",
          "2022-04-19T00:00:00"
         ],
         "y": [
          6,
          5.856,
          5.712,
          5.568,
          5.4239999999999995,
          5.279999999999999,
          5.135999999999999,
          4.991999999999999,
          4.847999999999999,
          4.703999999999999,
          4.559999999999999,
          4.415999999999999,
          4.2719999999999985,
          4.127999999999998,
          3.983999999999998,
          3.8414743443076937,
          3.697622350988508,
          3.559854189165205,
          3.4173335175430464,
          3.2771724507703475,
          3.3671724507703473,
          3.457172450770347,
          3.547172450770347,
          3.637172450770347,
          3.4931724507703468,
          3.350950920129007,
          3.212024337137481,
          3.0768170447719148,
          2.9406026815940622,
          2.8079372579700927,
          2.676596376704188,
          2.5440563943890266,
          2.415336876160279,
          2.2832099987553005,
          2.1480991044085807,
          2.010850797574495,
          1.8742731290652879,
          1.7335083010439258,
          1.6141185284497959,
          1.4963342476549664,
          1.379873724671551,
          1.264717197755959,
          1.1508439123203176,
          1.3308439123203175,
          1.5108439123203175,
          1.6908439123203174,
          1.8708439123203173,
          2.0508439123203175,
          2.0641286976749575,
          1.9434046712065975,
          1.8240736459480162,
          1.706108949506631,
          1.589481842111625,
          1.474170543749715,
          1.360153630431994,
          1.2430619358671475,
          1.1289150172633295,
          1.0157146197580693,
          1.1057146197580694,
          1.1957146197580695,
          1.2627041279670126,
          1.138755989557468,
          1.0283819793258864,
          0.9167817475496259,
          0.8061169209806063,
          0.6908985874346577,
          0.8708985874346578,
          1.0508985874346577,
          1.2308985874346576,
          1.4108985874346576,
          1.5908985874346575,
          1.7708985874346574,
          1.9508985874346574
         ]
        }
       ],
       "layout": {
        "template": {
         "data": {
          "bar": [
           {
            "error_x": {
             "color": "#2a3f5f"
            },
            "error_y": {
             "color": "#2a3f5f"
            },
            "marker": {
             "line": {
              "color": "#E5ECF6",
              "width": 0.5
             },
             "pattern": {
              "fillmode": "overlay",
              "size": 10,
              "solidity": 0.2
             }
            },
            "type": "bar"
           }
          ],
          "barpolar": [
           {
            "marker": {
             "line": {
              "color": "#E5ECF6",
              "width": 0.5
             },
             "pattern": {
              "fillmode": "overlay",
              "size": 10,
              "solidity": 0.2
             }
            },
            "type": "barpolar"
           }
          ],
          "carpet": [
           {
            "aaxis": {
             "endlinecolor": "#2a3f5f",
             "gridcolor": "white",
             "linecolor": "white",
             "minorgridcolor": "white",
             "startlinecolor": "#2a3f5f"
            },
            "baxis": {
             "endlinecolor": "#2a3f5f",
             "gridcolor": "white",
             "linecolor": "white",
             "minorgridcolor": "white",
             "startlinecolor": "#2a3f5f"
            },
            "type": "carpet"
           }
          ],
          "choropleth": [
           {
            "colorbar": {
             "outlinewidth": 0,
             "ticks": ""
            },
            "type": "choropleth"
           }
          ],
          "contour": [
           {
            "colorbar": {
             "outlinewidth": 0,
             "ticks": ""
            },
            "colorscale": [
             [
              0,
              "#0d0887"
             ],
             [
              0.1111111111111111,
              "#46039f"
             ],
             [
              0.2222222222222222,
              "#7201a8"
             ],
             [
              0.3333333333333333,
              "#9c179e"
             ],
             [
              0.4444444444444444,
              "#bd3786"
             ],
             [
              0.5555555555555556,
              "#d8576b"
             ],
             [
              0.6666666666666666,
              "#ed7953"
             ],
             [
              0.7777777777777778,
              "#fb9f3a"
             ],
             [
              0.8888888888888888,
              "#fdca26"
             ],
             [
              1,
              "#f0f921"
             ]
            ],
            "type": "contour"
           }
          ],
          "contourcarpet": [
           {
            "colorbar": {
             "outlinewidth": 0,
             "ticks": ""
            },
            "type": "contourcarpet"
           }
          ],
          "heatmap": [
           {
            "colorbar": {
             "outlinewidth": 0,
             "ticks": ""
            },
            "colorscale": [
             [
              0,
              "#0d0887"
             ],
             [
              0.1111111111111111,
              "#46039f"
             ],
             [
              0.2222222222222222,
              "#7201a8"
             ],
             [
              0.3333333333333333,
              "#9c179e"
             ],
             [
              0.4444444444444444,
              "#bd3786"
             ],
             [
              0.5555555555555556,
              "#d8576b"
             ],
             [
              0.6666666666666666,
              "#ed7953"
             ],
             [
              0.7777777777777778,
              "#fb9f3a"
             ],
             [
              0.8888888888888888,
              "#fdca26"
             ],
             [
              1,
              "#f0f921"
             ]
            ],
            "type": "heatmap"
           }
          ],
          "heatmapgl": [
           {
            "colorbar": {
             "outlinewidth": 0,
             "ticks": ""
            },
            "colorscale": [
             [
              0,
              "#0d0887"
             ],
             [
              0.1111111111111111,
              "#46039f"
             ],
             [
              0.2222222222222222,
              "#7201a8"
             ],
             [
              0.3333333333333333,
              "#9c179e"
             ],
             [
              0.4444444444444444,
              "#bd3786"
             ],
             [
              0.5555555555555556,
              "#d8576b"
             ],
             [
              0.6666666666666666,
              "#ed7953"
             ],
             [
              0.7777777777777778,
              "#fb9f3a"
             ],
             [
              0.8888888888888888,
              "#fdca26"
             ],
             [
              1,
              "#f0f921"
             ]
            ],
            "type": "heatmapgl"
           }
          ],
          "histogram": [
           {
            "marker": {
             "pattern": {
              "fillmode": "overlay",
              "size": 10,
              "solidity": 0.2
             }
            },
            "type": "histogram"
           }
          ],
          "histogram2d": [
           {
            "colorbar": {
             "outlinewidth": 0,
             "ticks": ""
            },
            "colorscale": [
             [
              0,
              "#0d0887"
             ],
             [
              0.1111111111111111,
              "#46039f"
             ],
             [
              0.2222222222222222,
              "#7201a8"
             ],
             [
              0.3333333333333333,
              "#9c179e"
             ],
             [
              0.4444444444444444,
              "#bd3786"
             ],
             [
              0.5555555555555556,
              "#d8576b"
             ],
             [
              0.6666666666666666,
              "#ed7953"
             ],
             [
              0.7777777777777778,
              "#fb9f3a"
             ],
             [
              0.8888888888888888,
              "#fdca26"
             ],
             [
              1,
              "#f0f921"
             ]
            ],
            "type": "histogram2d"
           }
          ],
          "histogram2dcontour": [
           {
            "colorbar": {
             "outlinewidth": 0,
             "ticks": ""
            },
            "colorscale": [
             [
              0,
              "#0d0887"
             ],
             [
              0.1111111111111111,
              "#46039f"
             ],
             [
              0.2222222222222222,
              "#7201a8"
             ],
             [
              0.3333333333333333,
              "#9c179e"
             ],
             [
              0.4444444444444444,
              "#bd3786"
             ],
             [
              0.5555555555555556,
              "#d8576b"
             ],
             [
              0.6666666666666666,
              "#ed7953"
             ],
             [
              0.7777777777777778,
              "#fb9f3a"
             ],
             [
              0.8888888888888888,
              "#fdca26"
             ],
             [
              1,
              "#f0f921"
             ]
            ],
            "type": "histogram2dcontour"
           }
          ],
          "mesh3d": [
           {
            "colorbar": {
             "outlinewidth": 0,
             "ticks": ""
            },
            "type": "mesh3d"
           }
          ],
          "parcoords": [
           {
            "line": {
             "colorbar": {
              "outlinewidth": 0,
              "ticks": ""
             }
            },
            "type": "parcoords"
           }
          ],
          "pie": [
           {
            "automargin": true,
            "type": "pie"
           }
          ],
          "scatter": [
           {
            "marker": {
             "colorbar": {
              "outlinewidth": 0,
              "ticks": ""
             }
            },
            "type": "scatter"
           }
          ],
          "scatter3d": [
           {
            "line": {
             "colorbar": {
              "outlinewidth": 0,
              "ticks": ""
             }
            },
            "marker": {
             "colorbar": {
              "outlinewidth": 0,
              "ticks": ""
             }
            },
            "type": "scatter3d"
           }
          ],
          "scattercarpet": [
           {
            "marker": {
             "colorbar": {
              "outlinewidth": 0,
              "ticks": ""
             }
            },
            "type": "scattercarpet"
           }
          ],
          "scattergeo": [
           {
            "marker": {
             "colorbar": {
              "outlinewidth": 0,
              "ticks": ""
             }
            },
            "type": "scattergeo"
           }
          ],
          "scattergl": [
           {
            "marker": {
             "colorbar": {
              "outlinewidth": 0,
              "ticks": ""
             }
            },
            "type": "scattergl"
           }
          ],
          "scattermapbox": [
           {
            "marker": {
             "colorbar": {
              "outlinewidth": 0,
              "ticks": ""
             }
            },
            "type": "scattermapbox"
           }
          ],
          "scatterpolar": [
           {
            "marker": {
             "colorbar": {
              "outlinewidth": 0,
              "ticks": ""
             }
            },
            "type": "scatterpolar"
           }
          ],
          "scatterpolargl": [
           {
            "marker": {
             "colorbar": {
              "outlinewidth": 0,
              "ticks": ""
             }
            },
            "type": "scatterpolargl"
           }
          ],
          "scatterternary": [
           {
            "marker": {
             "colorbar": {
              "outlinewidth": 0,
              "ticks": ""
             }
            },
            "type": "scatterternary"
           }
          ],
          "surface": [
           {
            "colorbar": {
             "outlinewidth": 0,
             "ticks": ""
            },
            "colorscale": [
             [
              0,
              "#0d0887"
             ],
             [
              0.1111111111111111,
              "#46039f"
             ],
             [
              0.2222222222222222,
              "#7201a8"
             ],
             [
              0.3333333333333333,
              "#9c179e"
             ],
             [
              0.4444444444444444,
              "#bd3786"
             ],
             [
              0.5555555555555556,
              "#d8576b"
             ],
             [
              0.6666666666666666,
              "#ed7953"
             ],
             [
              0.7777777777777778,
              "#fb9f3a"
             ],
             [
              0.8888888888888888,
              "#fdca26"
             ],
             [
              1,
              "#f0f921"
             ]
            ],
            "type": "surface"
           }
          ],
          "table": [
           {
            "cells": {
             "fill": {
              "color": "#EBF0F8"
             },
             "line": {
              "color": "white"
             }
            },
            "header": {
             "fill": {
              "color": "#C8D4E3"
             },
             "line": {
              "color": "white"
             }
            },
            "type": "table"
           }
          ]
         },
         "layout": {
          "annotationdefaults": {
           "arrowcolor": "#2a3f5f",
           "arrowhead": 0,
           "arrowwidth": 1
          },
          "autotypenumbers": "strict",
          "coloraxis": {
           "colorbar": {
            "outlinewidth": 0,
            "ticks": ""
           }
          },
          "colorscale": {
           "diverging": [
            [
             0,
             "#8e0152"
            ],
            [
             0.1,
             "#c51b7d"
            ],
            [
             0.2,
             "#de77ae"
            ],
            [
             0.3,
             "#f1b6da"
            ],
            [
             0.4,
             "#fde0ef"
            ],
            [
             0.5,
             "#f7f7f7"
            ],
            [
             0.6,
             "#e6f5d0"
            ],
            [
             0.7,
             "#b8e186"
            ],
            [
             0.8,
             "#7fbc41"
            ],
            [
             0.9,
             "#4d9221"
            ],
            [
             1,
             "#276419"
            ]
           ],
           "sequential": [
            [
             0,
             "#0d0887"
            ],
            [
             0.1111111111111111,
             "#46039f"
            ],
            [
             0.2222222222222222,
             "#7201a8"
            ],
            [
             0.3333333333333333,
             "#9c179e"
            ],
            [
             0.4444444444444444,
             "#bd3786"
            ],
            [
             0.5555555555555556,
             "#d8576b"
            ],
            [
             0.6666666666666666,
             "#ed7953"
            ],
            [
             0.7777777777777778,
             "#fb9f3a"
            ],
            [
             0.8888888888888888,
             "#fdca26"
            ],
            [
             1,
             "#f0f921"
            ]
           ],
           "sequentialminus": [
            [
             0,
             "#0d0887"
            ],
            [
             0.1111111111111111,
             "#46039f"
            ],
            [
             0.2222222222222222,
             "#7201a8"
            ],
            [
             0.3333333333333333,
             "#9c179e"
            ],
            [
             0.4444444444444444,
             "#bd3786"
            ],
            [
             0.5555555555555556,
             "#d8576b"
            ],
            [
             0.6666666666666666,
             "#ed7953"
            ],
            [
             0.7777777777777778,
             "#fb9f3a"
            ],
            [
             0.8888888888888888,
             "#fdca26"
            ],
            [
             1,
             "#f0f921"
            ]
           ]
          },
          "colorway": [
           "#636efa",
           "#EF553B",
           "#00cc96",
           "#ab63fa",
           "#FFA15A",
           "#19d3f3",
           "#FF6692",
           "#B6E880",
           "#FF97FF",
           "#FECB52"
          ],
          "font": {
           "color": "#2a3f5f"
          },
          "geo": {
           "bgcolor": "white",
           "lakecolor": "white",
           "landcolor": "#E5ECF6",
           "showlakes": true,
           "showland": true,
           "subunitcolor": "white"
          },
          "hoverlabel": {
           "align": "left"
          },
          "hovermode": "closest",
          "mapbox": {
           "style": "light"
          },
          "paper_bgcolor": "white",
          "plot_bgcolor": "#E5ECF6",
          "polar": {
           "angularaxis": {
            "gridcolor": "white",
            "linecolor": "white",
            "ticks": ""
           },
           "bgcolor": "#E5ECF6",
           "radialaxis": {
            "gridcolor": "white",
            "linecolor": "white",
            "ticks": ""
           }
          },
          "scene": {
           "xaxis": {
            "backgroundcolor": "#E5ECF6",
            "gridcolor": "white",
            "gridwidth": 2,
            "linecolor": "white",
            "showbackground": true,
            "ticks": "",
            "zerolinecolor": "white"
           },
           "yaxis": {
            "backgroundcolor": "#E5ECF6",
            "gridcolor": "white",
            "gridwidth": 2,
            "linecolor": "white",
            "showbackground": true,
            "ticks": "",
            "zerolinecolor": "white"
           },
           "zaxis": {
            "backgroundcolor": "#E5ECF6",
            "gridcolor": "white",
            "gridwidth": 2,
            "linecolor": "white",
            "showbackground": true,
            "ticks": "",
            "zerolinecolor": "white"
           }
          },
          "shapedefaults": {
           "line": {
            "color": "#2a3f5f"
           }
          },
          "ternary": {
           "aaxis": {
            "gridcolor": "white",
            "linecolor": "white",
            "ticks": ""
           },
           "baxis": {
            "gridcolor": "white",
            "linecolor": "white",
            "ticks": ""
           },
           "bgcolor": "#E5ECF6",
           "caxis": {
            "gridcolor": "white",
            "linecolor": "white",
            "ticks": ""
           }
          },
          "title": {
           "x": 0.05
          },
          "xaxis": {
           "automargin": true,
           "gridcolor": "white",
           "linecolor": "white",
           "ticks": "",
           "title": {
            "standoff": 15
           },
           "zerolinecolor": "white",
           "zerolinewidth": 2
          },
          "yaxis": {
           "automargin": true,
           "gridcolor": "white",
           "linecolor": "white",
           "ticks": "",
           "title": {
            "standoff": 15
           },
           "zerolinecolor": "white",
           "zerolinewidth": 2
          }
         }
        },
        "title": {
         "text": "Reservoir storage"
        }
       }
      }
     },
     "metadata": {},
     "output_type": "display_data"
    },
    {
     "data": {
      "application/vnd.plotly.v1+json": {
       "config": {
        "plotlyServerURL": "https://plot.ly"
       },
       "data": [
        {
         "name": "Rsv 1 gate position",
         "type": "scatter",
         "x": [
          "2022-04-16T00:00:00",
          "2022-04-16T01:00:00",
          "2022-04-16T02:00:00",
          "2022-04-16T03:00:00",
          "2022-04-16T04:00:00",
          "2022-04-16T05:00:00",
          "2022-04-16T06:00:00",
          "2022-04-16T07:00:00",
          "2022-04-16T08:00:00",
          "2022-04-16T09:00:00",
          "2022-04-16T10:00:00",
          "2022-04-16T11:00:00",
          "2022-04-16T12:00:00",
          "2022-04-16T13:00:00",
          "2022-04-16T14:00:00",
          "2022-04-16T15:00:00",
          "2022-04-16T16:00:00",
          "2022-04-16T17:00:00",
          "2022-04-16T18:00:00",
          "2022-04-16T19:00:00",
          "2022-04-16T20:00:00",
          "2022-04-16T21:00:00",
          "2022-04-16T22:00:00",
          "2022-04-16T23:00:00",
          "2022-04-17T00:00:00",
          "2022-04-17T01:00:00",
          "2022-04-17T02:00:00",
          "2022-04-17T03:00:00",
          "2022-04-17T04:00:00",
          "2022-04-17T05:00:00",
          "2022-04-17T06:00:00",
          "2022-04-17T07:00:00",
          "2022-04-17T08:00:00",
          "2022-04-17T09:00:00",
          "2022-04-17T10:00:00",
          "2022-04-17T11:00:00",
          "2022-04-17T12:00:00",
          "2022-04-17T13:00:00",
          "2022-04-17T14:00:00",
          "2022-04-17T15:00:00",
          "2022-04-17T16:00:00",
          "2022-04-17T17:00:00",
          "2022-04-17T18:00:00",
          "2022-04-17T19:00:00",
          "2022-04-17T20:00:00",
          "2022-04-17T21:00:00",
          "2022-04-17T22:00:00",
          "2022-04-17T23:00:00",
          "2022-04-18T00:00:00",
          "2022-04-18T01:00:00",
          "2022-04-18T02:00:00",
          "2022-04-18T03:00:00",
          "2022-04-18T04:00:00",
          "2022-04-18T05:00:00",
          "2022-04-18T06:00:00",
          "2022-04-18T07:00:00",
          "2022-04-18T08:00:00",
          "2022-04-18T09:00:00",
          "2022-04-18T10:00:00",
          "2022-04-18T11:00:00",
          "2022-04-18T12:00:00",
          "2022-04-18T13:00:00",
          "2022-04-18T14:00:00",
          "2022-04-18T15:00:00",
          "2022-04-18T16:00:00",
          "2022-04-18T17:00:00",
          "2022-04-18T18:00:00",
          "2022-04-18T19:00:00",
          "2022-04-18T20:00:00",
          "2022-04-18T21:00:00",
          "2022-04-18T22:00:00",
          "2022-04-18T23:00:00"
         ],
         "y": [
          0.3774719387136985,
          0.1730807009888988,
          0.05755478724827343,
          0,
          0,
          0.036735819380818865,
          0.05430226744132208,
          0.35112692550615815,
          0.1452565180709088,
          0.04918854606766932,
          0,
          0.061261080134282685,
          1,
          0,
          1,
          0,
          1,
          0.785344432708563,
          0.644606819805049,
          0.5533830780902352,
          0.1251729880899914,
          0.46654543461845505,
          0.06628193524425066,
          0,
          0,
          0,
          1,
          0,
          1,
          1,
          0.46693731768795405,
          1,
          0.9685963752064511,
          0,
          0,
          0,
          0,
          1,
          1,
          1,
          1,
          1,
          0.034664632532280706,
          0,
          0.06206345209341067,
          0.061299876274214245,
          0,
          0,
          1,
          1,
          1,
          1,
          1,
          1,
          0,
          1,
          1,
          0,
          0,
          0,
          0,
          0.5618492526446809,
          0.7995355949711631,
          1,
          0.7160937214683909,
          0.15740733099352844,
          0,
          0.05699103077532295,
          0.16384413237459391,
          0,
          0.19914203295810892,
          0
         ]
        }
       ],
       "layout": {
        "template": {
         "data": {
          "bar": [
           {
            "error_x": {
             "color": "#2a3f5f"
            },
            "error_y": {
             "color": "#2a3f5f"
            },
            "marker": {
             "line": {
              "color": "#E5ECF6",
              "width": 0.5
             },
             "pattern": {
              "fillmode": "overlay",
              "size": 10,
              "solidity": 0.2
             }
            },
            "type": "bar"
           }
          ],
          "barpolar": [
           {
            "marker": {
             "line": {
              "color": "#E5ECF6",
              "width": 0.5
             },
             "pattern": {
              "fillmode": "overlay",
              "size": 10,
              "solidity": 0.2
             }
            },
            "type": "barpolar"
           }
          ],
          "carpet": [
           {
            "aaxis": {
             "endlinecolor": "#2a3f5f",
             "gridcolor": "white",
             "linecolor": "white",
             "minorgridcolor": "white",
             "startlinecolor": "#2a3f5f"
            },
            "baxis": {
             "endlinecolor": "#2a3f5f",
             "gridcolor": "white",
             "linecolor": "white",
             "minorgridcolor": "white",
             "startlinecolor": "#2a3f5f"
            },
            "type": "carpet"
           }
          ],
          "choropleth": [
           {
            "colorbar": {
             "outlinewidth": 0,
             "ticks": ""
            },
            "type": "choropleth"
           }
          ],
          "contour": [
           {
            "colorbar": {
             "outlinewidth": 0,
             "ticks": ""
            },
            "colorscale": [
             [
              0,
              "#0d0887"
             ],
             [
              0.1111111111111111,
              "#46039f"
             ],
             [
              0.2222222222222222,
              "#7201a8"
             ],
             [
              0.3333333333333333,
              "#9c179e"
             ],
             [
              0.4444444444444444,
              "#bd3786"
             ],
             [
              0.5555555555555556,
              "#d8576b"
             ],
             [
              0.6666666666666666,
              "#ed7953"
             ],
             [
              0.7777777777777778,
              "#fb9f3a"
             ],
             [
              0.8888888888888888,
              "#fdca26"
             ],
             [
              1,
              "#f0f921"
             ]
            ],
            "type": "contour"
           }
          ],
          "contourcarpet": [
           {
            "colorbar": {
             "outlinewidth": 0,
             "ticks": ""
            },
            "type": "contourcarpet"
           }
          ],
          "heatmap": [
           {
            "colorbar": {
             "outlinewidth": 0,
             "ticks": ""
            },
            "colorscale": [
             [
              0,
              "#0d0887"
             ],
             [
              0.1111111111111111,
              "#46039f"
             ],
             [
              0.2222222222222222,
              "#7201a8"
             ],
             [
              0.3333333333333333,
              "#9c179e"
             ],
             [
              0.4444444444444444,
              "#bd3786"
             ],
             [
              0.5555555555555556,
              "#d8576b"
             ],
             [
              0.6666666666666666,
              "#ed7953"
             ],
             [
              0.7777777777777778,
              "#fb9f3a"
             ],
             [
              0.8888888888888888,
              "#fdca26"
             ],
             [
              1,
              "#f0f921"
             ]
            ],
            "type": "heatmap"
           }
          ],
          "heatmapgl": [
           {
            "colorbar": {
             "outlinewidth": 0,
             "ticks": ""
            },
            "colorscale": [
             [
              0,
              "#0d0887"
             ],
             [
              0.1111111111111111,
              "#46039f"
             ],
             [
              0.2222222222222222,
              "#7201a8"
             ],
             [
              0.3333333333333333,
              "#9c179e"
             ],
             [
              0.4444444444444444,
              "#bd3786"
             ],
             [
              0.5555555555555556,
              "#d8576b"
             ],
             [
              0.6666666666666666,
              "#ed7953"
             ],
             [
              0.7777777777777778,
              "#fb9f3a"
             ],
             [
              0.8888888888888888,
              "#fdca26"
             ],
             [
              1,
              "#f0f921"
             ]
            ],
            "type": "heatmapgl"
           }
          ],
          "histogram": [
           {
            "marker": {
             "pattern": {
              "fillmode": "overlay",
              "size": 10,
              "solidity": 0.2
             }
            },
            "type": "histogram"
           }
          ],
          "histogram2d": [
           {
            "colorbar": {
             "outlinewidth": 0,
             "ticks": ""
            },
            "colorscale": [
             [
              0,
              "#0d0887"
             ],
             [
              0.1111111111111111,
              "#46039f"
             ],
             [
              0.2222222222222222,
              "#7201a8"
             ],
             [
              0.3333333333333333,
              "#9c179e"
             ],
             [
              0.4444444444444444,
              "#bd3786"
             ],
             [
              0.5555555555555556,
              "#d8576b"
             ],
             [
              0.6666666666666666,
              "#ed7953"
             ],
             [
              0.7777777777777778,
              "#fb9f3a"
             ],
             [
              0.8888888888888888,
              "#fdca26"
             ],
             [
              1,
              "#f0f921"
             ]
            ],
            "type": "histogram2d"
           }
          ],
          "histogram2dcontour": [
           {
            "colorbar": {
             "outlinewidth": 0,
             "ticks": ""
            },
            "colorscale": [
             [
              0,
              "#0d0887"
             ],
             [
              0.1111111111111111,
              "#46039f"
             ],
             [
              0.2222222222222222,
              "#7201a8"
             ],
             [
              0.3333333333333333,
              "#9c179e"
             ],
             [
              0.4444444444444444,
              "#bd3786"
             ],
             [
              0.5555555555555556,
              "#d8576b"
             ],
             [
              0.6666666666666666,
              "#ed7953"
             ],
             [
              0.7777777777777778,
              "#fb9f3a"
             ],
             [
              0.8888888888888888,
              "#fdca26"
             ],
             [
              1,
              "#f0f921"
             ]
            ],
            "type": "histogram2dcontour"
           }
          ],
          "mesh3d": [
           {
            "colorbar": {
             "outlinewidth": 0,
             "ticks": ""
            },
            "type": "mesh3d"
           }
          ],
          "parcoords": [
           {
            "line": {
             "colorbar": {
              "outlinewidth": 0,
              "ticks": ""
             }
            },
            "type": "parcoords"
           }
          ],
          "pie": [
           {
            "automargin": true,
            "type": "pie"
           }
          ],
          "scatter": [
           {
            "marker": {
             "colorbar": {
              "outlinewidth": 0,
              "ticks": ""
             }
            },
            "type": "scatter"
           }
          ],
          "scatter3d": [
           {
            "line": {
             "colorbar": {
              "outlinewidth": 0,
              "ticks": ""
             }
            },
            "marker": {
             "colorbar": {
              "outlinewidth": 0,
              "ticks": ""
             }
            },
            "type": "scatter3d"
           }
          ],
          "scattercarpet": [
           {
            "marker": {
             "colorbar": {
              "outlinewidth": 0,
              "ticks": ""
             }
            },
            "type": "scattercarpet"
           }
          ],
          "scattergeo": [
           {
            "marker": {
             "colorbar": {
              "outlinewidth": 0,
              "ticks": ""
             }
            },
            "type": "scattergeo"
           }
          ],
          "scattergl": [
           {
            "marker": {
             "colorbar": {
              "outlinewidth": 0,
              "ticks": ""
             }
            },
            "type": "scattergl"
           }
          ],
          "scattermapbox": [
           {
            "marker": {
             "colorbar": {
              "outlinewidth": 0,
              "ticks": ""
             }
            },
            "type": "scattermapbox"
           }
          ],
          "scatterpolar": [
           {
            "marker": {
             "colorbar": {
              "outlinewidth": 0,
              "ticks": ""
             }
            },
            "type": "scatterpolar"
           }
          ],
          "scatterpolargl": [
           {
            "marker": {
             "colorbar": {
              "outlinewidth": 0,
              "ticks": ""
             }
            },
            "type": "scatterpolargl"
           }
          ],
          "scatterternary": [
           {
            "marker": {
             "colorbar": {
              "outlinewidth": 0,
              "ticks": ""
             }
            },
            "type": "scatterternary"
           }
          ],
          "surface": [
           {
            "colorbar": {
             "outlinewidth": 0,
             "ticks": ""
            },
            "colorscale": [
             [
              0,
              "#0d0887"
             ],
             [
              0.1111111111111111,
              "#46039f"
             ],
             [
              0.2222222222222222,
              "#7201a8"
             ],
             [
              0.3333333333333333,
              "#9c179e"
             ],
             [
              0.4444444444444444,
              "#bd3786"
             ],
             [
              0.5555555555555556,
              "#d8576b"
             ],
             [
              0.6666666666666666,
              "#ed7953"
             ],
             [
              0.7777777777777778,
              "#fb9f3a"
             ],
             [
              0.8888888888888888,
              "#fdca26"
             ],
             [
              1,
              "#f0f921"
             ]
            ],
            "type": "surface"
           }
          ],
          "table": [
           {
            "cells": {
             "fill": {
              "color": "#EBF0F8"
             },
             "line": {
              "color": "white"
             }
            },
            "header": {
             "fill": {
              "color": "#C8D4E3"
             },
             "line": {
              "color": "white"
             }
            },
            "type": "table"
           }
          ]
         },
         "layout": {
          "annotationdefaults": {
           "arrowcolor": "#2a3f5f",
           "arrowhead": 0,
           "arrowwidth": 1
          },
          "autotypenumbers": "strict",
          "coloraxis": {
           "colorbar": {
            "outlinewidth": 0,
            "ticks": ""
           }
          },
          "colorscale": {
           "diverging": [
            [
             0,
             "#8e0152"
            ],
            [
             0.1,
             "#c51b7d"
            ],
            [
             0.2,
             "#de77ae"
            ],
            [
             0.3,
             "#f1b6da"
            ],
            [
             0.4,
             "#fde0ef"
            ],
            [
             0.5,
             "#f7f7f7"
            ],
            [
             0.6,
             "#e6f5d0"
            ],
            [
             0.7,
             "#b8e186"
            ],
            [
             0.8,
             "#7fbc41"
            ],
            [
             0.9,
             "#4d9221"
            ],
            [
             1,
             "#276419"
            ]
           ],
           "sequential": [
            [
             0,
             "#0d0887"
            ],
            [
             0.1111111111111111,
             "#46039f"
            ],
            [
             0.2222222222222222,
             "#7201a8"
            ],
            [
             0.3333333333333333,
             "#9c179e"
            ],
            [
             0.4444444444444444,
             "#bd3786"
            ],
            [
             0.5555555555555556,
             "#d8576b"
            ],
            [
             0.6666666666666666,
             "#ed7953"
            ],
            [
             0.7777777777777778,
             "#fb9f3a"
            ],
            [
             0.8888888888888888,
             "#fdca26"
            ],
            [
             1,
             "#f0f921"
            ]
           ],
           "sequentialminus": [
            [
             0,
             "#0d0887"
            ],
            [
             0.1111111111111111,
             "#46039f"
            ],
            [
             0.2222222222222222,
             "#7201a8"
            ],
            [
             0.3333333333333333,
             "#9c179e"
            ],
            [
             0.4444444444444444,
             "#bd3786"
            ],
            [
             0.5555555555555556,
             "#d8576b"
            ],
            [
             0.6666666666666666,
             "#ed7953"
            ],
            [
             0.7777777777777778,
             "#fb9f3a"
            ],
            [
             0.8888888888888888,
             "#fdca26"
            ],
            [
             1,
             "#f0f921"
            ]
           ]
          },
          "colorway": [
           "#636efa",
           "#EF553B",
           "#00cc96",
           "#ab63fa",
           "#FFA15A",
           "#19d3f3",
           "#FF6692",
           "#B6E880",
           "#FF97FF",
           "#FECB52"
          ],
          "font": {
           "color": "#2a3f5f"
          },
          "geo": {
           "bgcolor": "white",
           "lakecolor": "white",
           "landcolor": "#E5ECF6",
           "showlakes": true,
           "showland": true,
           "subunitcolor": "white"
          },
          "hoverlabel": {
           "align": "left"
          },
          "hovermode": "closest",
          "mapbox": {
           "style": "light"
          },
          "paper_bgcolor": "white",
          "plot_bgcolor": "#E5ECF6",
          "polar": {
           "angularaxis": {
            "gridcolor": "white",
            "linecolor": "white",
            "ticks": ""
           },
           "bgcolor": "#E5ECF6",
           "radialaxis": {
            "gridcolor": "white",
            "linecolor": "white",
            "ticks": ""
           }
          },
          "scene": {
           "xaxis": {
            "backgroundcolor": "#E5ECF6",
            "gridcolor": "white",
            "gridwidth": 2,
            "linecolor": "white",
            "showbackground": true,
            "ticks": "",
            "zerolinecolor": "white"
           },
           "yaxis": {
            "backgroundcolor": "#E5ECF6",
            "gridcolor": "white",
            "gridwidth": 2,
            "linecolor": "white",
            "showbackground": true,
            "ticks": "",
            "zerolinecolor": "white"
           },
           "zaxis": {
            "backgroundcolor": "#E5ECF6",
            "gridcolor": "white",
            "gridwidth": 2,
            "linecolor": "white",
            "showbackground": true,
            "ticks": "",
            "zerolinecolor": "white"
           }
          },
          "shapedefaults": {
           "line": {
            "color": "#2a3f5f"
           }
          },
          "ternary": {
           "aaxis": {
            "gridcolor": "white",
            "linecolor": "white",
            "ticks": ""
           },
           "baxis": {
            "gridcolor": "white",
            "linecolor": "white",
            "ticks": ""
           },
           "bgcolor": "#E5ECF6",
           "caxis": {
            "gridcolor": "white",
            "linecolor": "white",
            "ticks": ""
           }
          },
          "title": {
           "x": 0.05
          },
          "xaxis": {
           "automargin": true,
           "gridcolor": "white",
           "linecolor": "white",
           "ticks": "",
           "title": {
            "standoff": 15
           },
           "zerolinecolor": "white",
           "zerolinewidth": 2
          },
          "yaxis": {
           "automargin": true,
           "gridcolor": "white",
           "linecolor": "white",
           "ticks": "",
           "title": {
            "standoff": 15
           },
           "zerolinecolor": "white",
           "zerolinewidth": 2
          }
         }
        },
        "title": {
         "text": "Gate postion"
        }
       }
      }
     },
     "metadata": {},
     "output_type": "display_data"
    }
   ],
   "source": [
    "fig = go.Figure()\n",
    "plant1_prod = shop.model.plant.plant1.production.get()\n",
    "plant2_prod = shop.model.plant.plant2.production.get()\n",
    "plant2_cons = shop.model.plant.plant2.consumption.get()\n",
    "fig.add_trace(go.Scatter(x=plant1_prod.index, y=plant1_prod.values, name=\"Plant 1 production\"))\n",
    "fig.add_trace(go.Scatter(x=plant2_prod.index, y=plant2_prod.values, name=\"Plant 2 production\"))\n",
    "fig.add_trace(go.Scatter(x=plant2_cons.index, y=plant2_cons.values, name=\"Plant 2 consumption\"))\n",
    "fig.update_layout(title=\"Production and consumption\")\n",
    "fig.show()\n",
    "\n",
    "fig = go.Figure()\n",
    "rsv1_head = shop.model.reservoir.rsv1.storage.get()\n",
    "rsv2_head = shop.model.reservoir.rsv2.storage.get()\n",
    "rsv3_head = shop.model.reservoir.rsv3.storage.get()\n",
    "fig.add_trace(go.Scatter(x=rsv1_head.index, y=rsv1_head.values, name=\"Rsv 1 storage\"))\n",
    "fig.add_trace(go.Scatter(x=rsv1_head.index, y=rsv2_head.values, name=\"Rsv 2 storage\"))\n",
    "fig.add_trace(go.Scatter(x=rsv1_head.index, y=rsv3_head.values, name=\"Rsv 3 storage\"))\n",
    "fig.update_layout(title=\"Reservoir storage\")\n",
    "fig.show()\n",
    "\n",
    "fig = go.Figure()\n",
    "gate = shop.model.tunnel.t_r1_n1.gate_opening.get()\n",
    "fig.add_trace(go.Scatter(x=gate.index, y=gate.values, name=\"Rsv 1 gate position\"))\n",
    "fig.update_layout(title=\"Gate postion\")\n",
    "fig.show()"
   ]
  },
  {
   "cell_type": "markdown",
   "id": "27617485-0e6f-4400-a9be-578900b15477",
   "metadata": {},
   "source": [
    "## 3. Tunnel discrete gates\n",
    "Tunnels are often equiped with gates that can either be opened or closed, or operated at a limited number of fixed positions. The allowed positions are given by the points at the gate opening curve. In our example, the gates can either be fully opened or closed. Moreover, there will typically be a limited number of permitted gate position combinations. To avoid air pockets, the tunnel segments should no be depressurized. In our case, only one of the gates should be closed at any time. Therfore, we defined a interlock constraint comprising all gates and set minimum number of open gates to 2 and maximum to 3.\n",
    "\n",
    "This type of problem requires mixed-integer programming (MIP), hence it is computationally difficult to solve. In our case, we prefer to switch the gates around mid-night and set the adjustment cost to a very high value the other hours to narrow down the MIP search. We also set a cost in the hours where we prefer the switch to occur since it is beneficial for the solution time. Finally, the MIP-gap is set absolute and we use 2 times the switch cost."
   ]
  },
  {
   "cell_type": "code",
   "execution_count": 42,
   "id": "20097614-2a6c-4eaf-9fd3-9682a217ff42",
   "metadata": {},
   "outputs": [],
   "source": [
    "def insert_discrete_gate(shop):\n",
    "    starttime = shop.get_time_resolution()[\"starttime\"]\n",
    "    adjustment_cost = pd.Series(\n",
    "        [100000, 500, 100000, 500, 100000],\n",
    "        index=[starttime, starttime + pd.Timedelta(hours=22), starttime + pd.Timedelta(hours=26), starttime + pd.Timedelta(hours=46), starttime + pd.Timedelta(hours=50)]\n",
    "    )\n",
    "    shop.model.tunnel.t_r1_n1.gate_opening_curve.set(pd.Series([0,1], index=[0,1]))\n",
    "    shop.model.tunnel.t_r1_n1.initial_opening.set(1)\n",
    "    shop.model.tunnel.t_r1_n1.gate_adjustment_cost.set(adjustment_cost)\n",
    "    #shop.model.tunnel.t_r1_n1.gate_opening_schedule.set(1)\n",
    "    \n",
    "    shop.model.tunnel.t_r2_n3.gate_opening_curve.set(pd.Series([0,1], index=[0,1]))\n",
    "    shop.model.tunnel.t_r2_n3.initial_opening.set(1)\n",
    "    shop.model.tunnel.t_r2_n3.gate_adjustment_cost.set(adjustment_cost)\n",
    "    # shop.model.tunnel.t_r2_n3.gate_opening_schedule.set(1)\n",
    "    \n",
    "    shop.model.tunnel.t_n3_n2.gate_opening_curve.set(pd.Series([0,1], index=[0,1]))\n",
    "    shop.model.tunnel.t_n3_n2.initial_opening.set(0)\n",
    "    shop.model.tunnel.t_n3_n2.gate_adjustment_cost.set(adjustment_cost)\n",
    "    # shop.model.tunnel.t_n3_n2.gate_opening_schedule.set(1)\n",
    "    \n",
    "    shop.model.interlock_constraint.add_object(\"Interlock1\")\n",
    "    shop.model.interlock_constraint.Interlock1.connect_to(shop.model.tunnel.t_r1_n1)\n",
    "    shop.model.interlock_constraint.Interlock1.connect_to(shop.model.tunnel.t_r2_n3)\n",
    "    shop.model.interlock_constraint.Interlock1.connect_to(shop.model.tunnel.t_n3_n2)\n",
    "    shop.model.interlock_constraint.Interlock1.min_open.set(2)\n",
    "    shop.model.interlock_constraint.Interlock1.max_open.set(2)\n",
    "    shop.model.interlock_constraint.Interlock1.forward_switch_time.set(1)\n",
    "    shop.model.interlock_constraint.Interlock1.backward_switch_time.set(1)\n",
    "    \n",
    "    shop.set_mipgap([\"absolute\"], [1000])\n",
    "\n",
    "shop = new_model()\n",
    "add_reservoirs(shop)\n",
    "add_tunnels(shop)\n",
    "add_plants(shop)\n",
    "connect_objects(shop)\n",
    "init_model(shop)\n",
    "insert_discrete_gate(shop)"
   ]
  },
  {
   "cell_type": "code",
   "execution_count": 43,
   "id": "64e3721b-e9f5-4ca7-993e-6425f5de69c5",
   "metadata": {},
   "outputs": [
    {
     "data": {
      "application/vnd.plotly.v1+json": {
       "config": {
        "plotlyServerURL": "https://plot.ly"
       },
       "data": [
        {
         "name": "Plant 1 production",
         "type": "scatter",
         "x": [
          "2022-04-16T00:00:00",
          "2022-04-16T01:00:00",
          "2022-04-16T02:00:00",
          "2022-04-16T03:00:00",
          "2022-04-16T04:00:00",
          "2022-04-16T05:00:00",
          "2022-04-16T06:00:00",
          "2022-04-16T07:00:00",
          "2022-04-16T08:00:00",
          "2022-04-16T09:00:00",
          "2022-04-16T10:00:00",
          "2022-04-16T11:00:00",
          "2022-04-16T12:00:00",
          "2022-04-16T13:00:00",
          "2022-04-16T14:00:00",
          "2022-04-16T15:00:00",
          "2022-04-16T16:00:00",
          "2022-04-16T17:00:00",
          "2022-04-16T18:00:00",
          "2022-04-16T19:00:00",
          "2022-04-16T20:00:00",
          "2022-04-16T21:00:00",
          "2022-04-16T22:00:00",
          "2022-04-16T23:00:00",
          "2022-04-17T00:00:00",
          "2022-04-17T01:00:00",
          "2022-04-17T02:00:00",
          "2022-04-17T03:00:00",
          "2022-04-17T04:00:00",
          "2022-04-17T05:00:00",
          "2022-04-17T06:00:00",
          "2022-04-17T07:00:00",
          "2022-04-17T08:00:00",
          "2022-04-17T09:00:00",
          "2022-04-17T10:00:00",
          "2022-04-17T11:00:00",
          "2022-04-17T12:00:00",
          "2022-04-17T13:00:00",
          "2022-04-17T14:00:00",
          "2022-04-17T15:00:00",
          "2022-04-17T16:00:00",
          "2022-04-17T17:00:00",
          "2022-04-17T18:00:00",
          "2022-04-17T19:00:00",
          "2022-04-17T20:00:00",
          "2022-04-17T21:00:00",
          "2022-04-17T22:00:00",
          "2022-04-17T23:00:00",
          "2022-04-18T00:00:00",
          "2022-04-18T01:00:00",
          "2022-04-18T02:00:00",
          "2022-04-18T03:00:00",
          "2022-04-18T04:00:00",
          "2022-04-18T05:00:00",
          "2022-04-18T06:00:00",
          "2022-04-18T07:00:00",
          "2022-04-18T08:00:00",
          "2022-04-18T09:00:00",
          "2022-04-18T10:00:00",
          "2022-04-18T11:00:00",
          "2022-04-18T12:00:00",
          "2022-04-18T13:00:00",
          "2022-04-18T14:00:00",
          "2022-04-18T15:00:00",
          "2022-04-18T16:00:00",
          "2022-04-18T17:00:00",
          "2022-04-18T18:00:00",
          "2022-04-18T19:00:00",
          "2022-04-18T20:00:00",
          "2022-04-18T21:00:00",
          "2022-04-18T22:00:00",
          "2022-04-18T23:00:00"
         ],
         "y": [
          42.65631867408772,
          46.177311979186605,
          29.156740139349946,
          29.15073010152061,
          29.12182708347651,
          29.09402683768279,
          29.07315615408671,
          29.05082414309491,
          29.029132229543013,
          29.007286112102527,
          28.978204893296237,
          28.9500899820823,
          0,
          0,
          0,
          0,
          0,
          0,
          28.928809288214588,
          28.893121649760598,
          38.57996638789638,
          37.541147550043526,
          0,
          0,
          0,
          50.2210147314858,
          31.369977295639387,
          15.020121356152918,
          10.07914657295392,
          10.044128950274338,
          31.556267458664696,
          31.574352759501732,
          31.535173426641627,
          51.97871732368609,
          52.0037466260808,
          52.05227519104991,
          31.621859641555776,
          0,
          0,
          0,
          0,
          0,
          71.9258775399595,
          71.83682014923707,
          71.83492407922486,
          71.8352960460132,
          71.83543902879354,
          71.86199226031373,
          0,
          0,
          0,
          0,
          0,
          0,
          9.882123961119946,
          33.16149371240544,
          33.45649342022988,
          54.30742052023704,
          73.67115052326338,
          73.70832608339742,
          73.70860674260186,
          10.075579185092923,
          0,
          0,
          74.25311156109727,
          74.27021805725558,
          74.26833666806107,
          73.16893203970317,
          73.10304393552326,
          73.03987547713493,
          72.97706162147657,
          72.91420636443206
         ]
        },
        {
         "name": "Plant 2 production",
         "type": "scatter",
         "x": [
          "2022-04-16T00:00:00",
          "2022-04-16T01:00:00",
          "2022-04-16T02:00:00",
          "2022-04-16T03:00:00",
          "2022-04-16T04:00:00",
          "2022-04-16T05:00:00",
          "2022-04-16T06:00:00",
          "2022-04-16T07:00:00",
          "2022-04-16T08:00:00",
          "2022-04-16T09:00:00",
          "2022-04-16T10:00:00",
          "2022-04-16T11:00:00",
          "2022-04-16T12:00:00",
          "2022-04-16T13:00:00",
          "2022-04-16T14:00:00",
          "2022-04-16T15:00:00",
          "2022-04-16T16:00:00",
          "2022-04-16T17:00:00",
          "2022-04-16T18:00:00",
          "2022-04-16T19:00:00",
          "2022-04-16T20:00:00",
          "2022-04-16T21:00:00",
          "2022-04-16T22:00:00",
          "2022-04-16T23:00:00",
          "2022-04-17T00:00:00",
          "2022-04-17T01:00:00",
          "2022-04-17T02:00:00",
          "2022-04-17T03:00:00",
          "2022-04-17T04:00:00",
          "2022-04-17T05:00:00",
          "2022-04-17T06:00:00",
          "2022-04-17T07:00:00",
          "2022-04-17T08:00:00",
          "2022-04-17T09:00:00",
          "2022-04-17T10:00:00",
          "2022-04-17T11:00:00",
          "2022-04-17T12:00:00",
          "2022-04-17T13:00:00",
          "2022-04-17T14:00:00",
          "2022-04-17T15:00:00",
          "2022-04-17T16:00:00",
          "2022-04-17T17:00:00",
          "2022-04-17T18:00:00",
          "2022-04-17T19:00:00",
          "2022-04-17T20:00:00",
          "2022-04-17T21:00:00",
          "2022-04-17T22:00:00",
          "2022-04-17T23:00:00",
          "2022-04-18T00:00:00",
          "2022-04-18T01:00:00",
          "2022-04-18T02:00:00",
          "2022-04-18T03:00:00",
          "2022-04-18T04:00:00",
          "2022-04-18T05:00:00",
          "2022-04-18T06:00:00",
          "2022-04-18T07:00:00",
          "2022-04-18T08:00:00",
          "2022-04-18T09:00:00",
          "2022-04-18T10:00:00",
          "2022-04-18T11:00:00",
          "2022-04-18T12:00:00",
          "2022-04-18T13:00:00",
          "2022-04-18T14:00:00",
          "2022-04-18T15:00:00",
          "2022-04-18T16:00:00",
          "2022-04-18T17:00:00",
          "2022-04-18T18:00:00",
          "2022-04-18T19:00:00",
          "2022-04-18T20:00:00",
          "2022-04-18T21:00:00",
          "2022-04-18T22:00:00",
          "2022-04-18T23:00:00"
         ],
         "y": [
          0,
          0,
          0,
          0,
          0,
          0,
          0,
          0,
          0,
          0,
          0,
          0,
          0,
          0,
          0,
          0,
          0,
          0,
          0,
          0,
          0,
          0,
          0,
          0,
          0,
          0,
          0,
          0,
          0,
          0,
          0,
          0,
          0,
          0,
          0,
          0,
          0,
          0,
          0,
          0,
          0,
          0,
          0,
          0,
          0,
          0,
          0,
          0,
          0,
          0,
          0,
          0,
          0,
          0,
          0,
          0,
          0,
          0,
          0,
          0,
          0,
          0,
          0,
          0,
          0,
          0,
          0,
          15.175623602564043,
          15.168875594982895,
          15.162779666217268,
          15.156768759158833,
          15.150747925452254
         ]
        },
        {
         "name": "Plant 2 consumption",
         "type": "scatter",
         "x": [
          "2022-04-16T00:00:00",
          "2022-04-16T01:00:00",
          "2022-04-16T02:00:00",
          "2022-04-16T03:00:00",
          "2022-04-16T04:00:00",
          "2022-04-16T05:00:00",
          "2022-04-16T06:00:00",
          "2022-04-16T07:00:00",
          "2022-04-16T08:00:00",
          "2022-04-16T09:00:00",
          "2022-04-16T10:00:00",
          "2022-04-16T11:00:00",
          "2022-04-16T12:00:00",
          "2022-04-16T13:00:00",
          "2022-04-16T14:00:00",
          "2022-04-16T15:00:00",
          "2022-04-16T16:00:00",
          "2022-04-16T17:00:00",
          "2022-04-16T18:00:00",
          "2022-04-16T19:00:00",
          "2022-04-16T20:00:00",
          "2022-04-16T21:00:00",
          "2022-04-16T22:00:00",
          "2022-04-16T23:00:00",
          "2022-04-17T00:00:00",
          "2022-04-17T01:00:00",
          "2022-04-17T02:00:00",
          "2022-04-17T03:00:00",
          "2022-04-17T04:00:00",
          "2022-04-17T05:00:00",
          "2022-04-17T06:00:00",
          "2022-04-17T07:00:00",
          "2022-04-17T08:00:00",
          "2022-04-17T09:00:00",
          "2022-04-17T10:00:00",
          "2022-04-17T11:00:00",
          "2022-04-17T12:00:00",
          "2022-04-17T13:00:00",
          "2022-04-17T14:00:00",
          "2022-04-17T15:00:00",
          "2022-04-17T16:00:00",
          "2022-04-17T17:00:00",
          "2022-04-17T18:00:00",
          "2022-04-17T19:00:00",
          "2022-04-17T20:00:00",
          "2022-04-17T21:00:00",
          "2022-04-17T22:00:00",
          "2022-04-17T23:00:00",
          "2022-04-18T00:00:00",
          "2022-04-18T01:00:00",
          "2022-04-18T02:00:00",
          "2022-04-18T03:00:00",
          "2022-04-18T04:00:00",
          "2022-04-18T05:00:00",
          "2022-04-18T06:00:00",
          "2022-04-18T07:00:00",
          "2022-04-18T08:00:00",
          "2022-04-18T09:00:00",
          "2022-04-18T10:00:00",
          "2022-04-18T11:00:00",
          "2022-04-18T12:00:00",
          "2022-04-18T13:00:00",
          "2022-04-18T14:00:00",
          "2022-04-18T15:00:00",
          "2022-04-18T16:00:00",
          "2022-04-18T17:00:00",
          "2022-04-18T18:00:00",
          "2022-04-18T19:00:00",
          "2022-04-18T20:00:00",
          "2022-04-18T21:00:00",
          "2022-04-18T22:00:00",
          "2022-04-18T23:00:00"
         ],
         "y": [
          0,
          0,
          0,
          47.3125175257732,
          47.653454756995586,
          0,
          0,
          0,
          0,
          47.47635463917526,
          47.81729187039764,
          48.17227228276879,
          48.527252695139914,
          48.88223310751105,
          49.2372135198822,
          49.59219393225332,
          49.99915466260426,
          50.00022267895621,
          49.99995606959884,
          0,
          0,
          0,
          0,
          0,
          0,
          40.68721486297168,
          47.911085742253285,
          50.453543781826276,
          48.95175653153325,
          49.05955782314178,
          46.37169215302882,
          48.4447575072094,
          44.85976854789131,
          40.773119479008045,
          40.89114295447529,
          41.05752878612746,
          45.548152906223365,
          50.09552849372427,
          50.10343854939865,
          50.11286515469568,
          50.12362752284577,
          50.135792734194915,
          41.235961793867645,
          36.531911174803824,
          36.63793263168251,
          36.74989138647062,
          36.86157714760681,
          41.52802075557789,
          50.16547260963719,
          50.18012973185765,
          50.19412227752684,
          50.20805390939345,
          50.22176742122595,
          50.235287684412505,
          50.251314376219845,
          50.75986864942122,
          50.340539802334376,
          46.435997763084,
          42.312049059375326,
          40.02954096642171,
          38.991152448375956,
          49.96167885180407,
          49.955915065754056,
          49.96437907622147,
          43.71138673122795,
          41.15610616564119,
          41.25325625026841,
          40.38224921735256,
          40.33787243384012,
          40.3122389649067,
          40.28724610624886,
          40.262174880346166
         ]
        }
       ],
       "layout": {
        "template": {
         "data": {
          "bar": [
           {
            "error_x": {
             "color": "#2a3f5f"
            },
            "error_y": {
             "color": "#2a3f5f"
            },
            "marker": {
             "line": {
              "color": "#E5ECF6",
              "width": 0.5
             },
             "pattern": {
              "fillmode": "overlay",
              "size": 10,
              "solidity": 0.2
             }
            },
            "type": "bar"
           }
          ],
          "barpolar": [
           {
            "marker": {
             "line": {
              "color": "#E5ECF6",
              "width": 0.5
             },
             "pattern": {
              "fillmode": "overlay",
              "size": 10,
              "solidity": 0.2
             }
            },
            "type": "barpolar"
           }
          ],
          "carpet": [
           {
            "aaxis": {
             "endlinecolor": "#2a3f5f",
             "gridcolor": "white",
             "linecolor": "white",
             "minorgridcolor": "white",
             "startlinecolor": "#2a3f5f"
            },
            "baxis": {
             "endlinecolor": "#2a3f5f",
             "gridcolor": "white",
             "linecolor": "white",
             "minorgridcolor": "white",
             "startlinecolor": "#2a3f5f"
            },
            "type": "carpet"
           }
          ],
          "choropleth": [
           {
            "colorbar": {
             "outlinewidth": 0,
             "ticks": ""
            },
            "type": "choropleth"
           }
          ],
          "contour": [
           {
            "colorbar": {
             "outlinewidth": 0,
             "ticks": ""
            },
            "colorscale": [
             [
              0,
              "#0d0887"
             ],
             [
              0.1111111111111111,
              "#46039f"
             ],
             [
              0.2222222222222222,
              "#7201a8"
             ],
             [
              0.3333333333333333,
              "#9c179e"
             ],
             [
              0.4444444444444444,
              "#bd3786"
             ],
             [
              0.5555555555555556,
              "#d8576b"
             ],
             [
              0.6666666666666666,
              "#ed7953"
             ],
             [
              0.7777777777777778,
              "#fb9f3a"
             ],
             [
              0.8888888888888888,
              "#fdca26"
             ],
             [
              1,
              "#f0f921"
             ]
            ],
            "type": "contour"
           }
          ],
          "contourcarpet": [
           {
            "colorbar": {
             "outlinewidth": 0,
             "ticks": ""
            },
            "type": "contourcarpet"
           }
          ],
          "heatmap": [
           {
            "colorbar": {
             "outlinewidth": 0,
             "ticks": ""
            },
            "colorscale": [
             [
              0,
              "#0d0887"
             ],
             [
              0.1111111111111111,
              "#46039f"
             ],
             [
              0.2222222222222222,
              "#7201a8"
             ],
             [
              0.3333333333333333,
              "#9c179e"
             ],
             [
              0.4444444444444444,
              "#bd3786"
             ],
             [
              0.5555555555555556,
              "#d8576b"
             ],
             [
              0.6666666666666666,
              "#ed7953"
             ],
             [
              0.7777777777777778,
              "#fb9f3a"
             ],
             [
              0.8888888888888888,
              "#fdca26"
             ],
             [
              1,
              "#f0f921"
             ]
            ],
            "type": "heatmap"
           }
          ],
          "heatmapgl": [
           {
            "colorbar": {
             "outlinewidth": 0,
             "ticks": ""
            },
            "colorscale": [
             [
              0,
              "#0d0887"
             ],
             [
              0.1111111111111111,
              "#46039f"
             ],
             [
              0.2222222222222222,
              "#7201a8"
             ],
             [
              0.3333333333333333,
              "#9c179e"
             ],
             [
              0.4444444444444444,
              "#bd3786"
             ],
             [
              0.5555555555555556,
              "#d8576b"
             ],
             [
              0.6666666666666666,
              "#ed7953"
             ],
             [
              0.7777777777777778,
              "#fb9f3a"
             ],
             [
              0.8888888888888888,
              "#fdca26"
             ],
             [
              1,
              "#f0f921"
             ]
            ],
            "type": "heatmapgl"
           }
          ],
          "histogram": [
           {
            "marker": {
             "pattern": {
              "fillmode": "overlay",
              "size": 10,
              "solidity": 0.2
             }
            },
            "type": "histogram"
           }
          ],
          "histogram2d": [
           {
            "colorbar": {
             "outlinewidth": 0,
             "ticks": ""
            },
            "colorscale": [
             [
              0,
              "#0d0887"
             ],
             [
              0.1111111111111111,
              "#46039f"
             ],
             [
              0.2222222222222222,
              "#7201a8"
             ],
             [
              0.3333333333333333,
              "#9c179e"
             ],
             [
              0.4444444444444444,
              "#bd3786"
             ],
             [
              0.5555555555555556,
              "#d8576b"
             ],
             [
              0.6666666666666666,
              "#ed7953"
             ],
             [
              0.7777777777777778,
              "#fb9f3a"
             ],
             [
              0.8888888888888888,
              "#fdca26"
             ],
             [
              1,
              "#f0f921"
             ]
            ],
            "type": "histogram2d"
           }
          ],
          "histogram2dcontour": [
           {
            "colorbar": {
             "outlinewidth": 0,
             "ticks": ""
            },
            "colorscale": [
             [
              0,
              "#0d0887"
             ],
             [
              0.1111111111111111,
              "#46039f"
             ],
             [
              0.2222222222222222,
              "#7201a8"
             ],
             [
              0.3333333333333333,
              "#9c179e"
             ],
             [
              0.4444444444444444,
              "#bd3786"
             ],
             [
              0.5555555555555556,
              "#d8576b"
             ],
             [
              0.6666666666666666,
              "#ed7953"
             ],
             [
              0.7777777777777778,
              "#fb9f3a"
             ],
             [
              0.8888888888888888,
              "#fdca26"
             ],
             [
              1,
              "#f0f921"
             ]
            ],
            "type": "histogram2dcontour"
           }
          ],
          "mesh3d": [
           {
            "colorbar": {
             "outlinewidth": 0,
             "ticks": ""
            },
            "type": "mesh3d"
           }
          ],
          "parcoords": [
           {
            "line": {
             "colorbar": {
              "outlinewidth": 0,
              "ticks": ""
             }
            },
            "type": "parcoords"
           }
          ],
          "pie": [
           {
            "automargin": true,
            "type": "pie"
           }
          ],
          "scatter": [
           {
            "marker": {
             "colorbar": {
              "outlinewidth": 0,
              "ticks": ""
             }
            },
            "type": "scatter"
           }
          ],
          "scatter3d": [
           {
            "line": {
             "colorbar": {
              "outlinewidth": 0,
              "ticks": ""
             }
            },
            "marker": {
             "colorbar": {
              "outlinewidth": 0,
              "ticks": ""
             }
            },
            "type": "scatter3d"
           }
          ],
          "scattercarpet": [
           {
            "marker": {
             "colorbar": {
              "outlinewidth": 0,
              "ticks": ""
             }
            },
            "type": "scattercarpet"
           }
          ],
          "scattergeo": [
           {
            "marker": {
             "colorbar": {
              "outlinewidth": 0,
              "ticks": ""
             }
            },
            "type": "scattergeo"
           }
          ],
          "scattergl": [
           {
            "marker": {
             "colorbar": {
              "outlinewidth": 0,
              "ticks": ""
             }
            },
            "type": "scattergl"
           }
          ],
          "scattermapbox": [
           {
            "marker": {
             "colorbar": {
              "outlinewidth": 0,
              "ticks": ""
             }
            },
            "type": "scattermapbox"
           }
          ],
          "scatterpolar": [
           {
            "marker": {
             "colorbar": {
              "outlinewidth": 0,
              "ticks": ""
             }
            },
            "type": "scatterpolar"
           }
          ],
          "scatterpolargl": [
           {
            "marker": {
             "colorbar": {
              "outlinewidth": 0,
              "ticks": ""
             }
            },
            "type": "scatterpolargl"
           }
          ],
          "scatterternary": [
           {
            "marker": {
             "colorbar": {
              "outlinewidth": 0,
              "ticks": ""
             }
            },
            "type": "scatterternary"
           }
          ],
          "surface": [
           {
            "colorbar": {
             "outlinewidth": 0,
             "ticks": ""
            },
            "colorscale": [
             [
              0,
              "#0d0887"
             ],
             [
              0.1111111111111111,
              "#46039f"
             ],
             [
              0.2222222222222222,
              "#7201a8"
             ],
             [
              0.3333333333333333,
              "#9c179e"
             ],
             [
              0.4444444444444444,
              "#bd3786"
             ],
             [
              0.5555555555555556,
              "#d8576b"
             ],
             [
              0.6666666666666666,
              "#ed7953"
             ],
             [
              0.7777777777777778,
              "#fb9f3a"
             ],
             [
              0.8888888888888888,
              "#fdca26"
             ],
             [
              1,
              "#f0f921"
             ]
            ],
            "type": "surface"
           }
          ],
          "table": [
           {
            "cells": {
             "fill": {
              "color": "#EBF0F8"
             },
             "line": {
              "color": "white"
             }
            },
            "header": {
             "fill": {
              "color": "#C8D4E3"
             },
             "line": {
              "color": "white"
             }
            },
            "type": "table"
           }
          ]
         },
         "layout": {
          "annotationdefaults": {
           "arrowcolor": "#2a3f5f",
           "arrowhead": 0,
           "arrowwidth": 1
          },
          "autotypenumbers": "strict",
          "coloraxis": {
           "colorbar": {
            "outlinewidth": 0,
            "ticks": ""
           }
          },
          "colorscale": {
           "diverging": [
            [
             0,
             "#8e0152"
            ],
            [
             0.1,
             "#c51b7d"
            ],
            [
             0.2,
             "#de77ae"
            ],
            [
             0.3,
             "#f1b6da"
            ],
            [
             0.4,
             "#fde0ef"
            ],
            [
             0.5,
             "#f7f7f7"
            ],
            [
             0.6,
             "#e6f5d0"
            ],
            [
             0.7,
             "#b8e186"
            ],
            [
             0.8,
             "#7fbc41"
            ],
            [
             0.9,
             "#4d9221"
            ],
            [
             1,
             "#276419"
            ]
           ],
           "sequential": [
            [
             0,
             "#0d0887"
            ],
            [
             0.1111111111111111,
             "#46039f"
            ],
            [
             0.2222222222222222,
             "#7201a8"
            ],
            [
             0.3333333333333333,
             "#9c179e"
            ],
            [
             0.4444444444444444,
             "#bd3786"
            ],
            [
             0.5555555555555556,
             "#d8576b"
            ],
            [
             0.6666666666666666,
             "#ed7953"
            ],
            [
             0.7777777777777778,
             "#fb9f3a"
            ],
            [
             0.8888888888888888,
             "#fdca26"
            ],
            [
             1,
             "#f0f921"
            ]
           ],
           "sequentialminus": [
            [
             0,
             "#0d0887"
            ],
            [
             0.1111111111111111,
             "#46039f"
            ],
            [
             0.2222222222222222,
             "#7201a8"
            ],
            [
             0.3333333333333333,
             "#9c179e"
            ],
            [
             0.4444444444444444,
             "#bd3786"
            ],
            [
             0.5555555555555556,
             "#d8576b"
            ],
            [
             0.6666666666666666,
             "#ed7953"
            ],
            [
             0.7777777777777778,
             "#fb9f3a"
            ],
            [
             0.8888888888888888,
             "#fdca26"
            ],
            [
             1,
             "#f0f921"
            ]
           ]
          },
          "colorway": [
           "#636efa",
           "#EF553B",
           "#00cc96",
           "#ab63fa",
           "#FFA15A",
           "#19d3f3",
           "#FF6692",
           "#B6E880",
           "#FF97FF",
           "#FECB52"
          ],
          "font": {
           "color": "#2a3f5f"
          },
          "geo": {
           "bgcolor": "white",
           "lakecolor": "white",
           "landcolor": "#E5ECF6",
           "showlakes": true,
           "showland": true,
           "subunitcolor": "white"
          },
          "hoverlabel": {
           "align": "left"
          },
          "hovermode": "closest",
          "mapbox": {
           "style": "light"
          },
          "paper_bgcolor": "white",
          "plot_bgcolor": "#E5ECF6",
          "polar": {
           "angularaxis": {
            "gridcolor": "white",
            "linecolor": "white",
            "ticks": ""
           },
           "bgcolor": "#E5ECF6",
           "radialaxis": {
            "gridcolor": "white",
            "linecolor": "white",
            "ticks": ""
           }
          },
          "scene": {
           "xaxis": {
            "backgroundcolor": "#E5ECF6",
            "gridcolor": "white",
            "gridwidth": 2,
            "linecolor": "white",
            "showbackground": true,
            "ticks": "",
            "zerolinecolor": "white"
           },
           "yaxis": {
            "backgroundcolor": "#E5ECF6",
            "gridcolor": "white",
            "gridwidth": 2,
            "linecolor": "white",
            "showbackground": true,
            "ticks": "",
            "zerolinecolor": "white"
           },
           "zaxis": {
            "backgroundcolor": "#E5ECF6",
            "gridcolor": "white",
            "gridwidth": 2,
            "linecolor": "white",
            "showbackground": true,
            "ticks": "",
            "zerolinecolor": "white"
           }
          },
          "shapedefaults": {
           "line": {
            "color": "#2a3f5f"
           }
          },
          "ternary": {
           "aaxis": {
            "gridcolor": "white",
            "linecolor": "white",
            "ticks": ""
           },
           "baxis": {
            "gridcolor": "white",
            "linecolor": "white",
            "ticks": ""
           },
           "bgcolor": "#E5ECF6",
           "caxis": {
            "gridcolor": "white",
            "linecolor": "white",
            "ticks": ""
           }
          },
          "title": {
           "x": 0.05
          },
          "xaxis": {
           "automargin": true,
           "gridcolor": "white",
           "linecolor": "white",
           "ticks": "",
           "title": {
            "standoff": 15
           },
           "zerolinecolor": "white",
           "zerolinewidth": 2
          },
          "yaxis": {
           "automargin": true,
           "gridcolor": "white",
           "linecolor": "white",
           "ticks": "",
           "title": {
            "standoff": 15
           },
           "zerolinecolor": "white",
           "zerolinewidth": 2
          }
         }
        },
        "title": {
         "text": "Production and consumption"
        }
       }
      }
     },
     "metadata": {},
     "output_type": "display_data"
    },
    {
     "data": {
      "application/vnd.plotly.v1+json": {
       "config": {
        "plotlyServerURL": "https://plot.ly"
       },
       "data": [
        {
         "name": "Rsv 1 storage",
         "type": "scatter",
         "x": [
          "2022-04-16T00:00:00",
          "2022-04-16T01:00:00",
          "2022-04-16T02:00:00",
          "2022-04-16T03:00:00",
          "2022-04-16T04:00:00",
          "2022-04-16T05:00:00",
          "2022-04-16T06:00:00",
          "2022-04-16T07:00:00",
          "2022-04-16T08:00:00",
          "2022-04-16T09:00:00",
          "2022-04-16T10:00:00",
          "2022-04-16T11:00:00",
          "2022-04-16T12:00:00",
          "2022-04-16T13:00:00",
          "2022-04-16T14:00:00",
          "2022-04-16T15:00:00",
          "2022-04-16T16:00:00",
          "2022-04-16T17:00:00",
          "2022-04-16T18:00:00",
          "2022-04-16T19:00:00",
          "2022-04-16T20:00:00",
          "2022-04-16T21:00:00",
          "2022-04-16T22:00:00",
          "2022-04-16T23:00:00",
          "2022-04-17T00:00:00",
          "2022-04-17T01:00:00",
          "2022-04-17T02:00:00",
          "2022-04-17T03:00:00",
          "2022-04-17T04:00:00",
          "2022-04-17T05:00:00",
          "2022-04-17T06:00:00",
          "2022-04-17T07:00:00",
          "2022-04-17T08:00:00",
          "2022-04-17T09:00:00",
          "2022-04-17T10:00:00",
          "2022-04-17T11:00:00",
          "2022-04-17T12:00:00",
          "2022-04-17T13:00:00",
          "2022-04-17T14:00:00",
          "2022-04-17T15:00:00",
          "2022-04-17T16:00:00",
          "2022-04-17T17:00:00",
          "2022-04-17T18:00:00",
          "2022-04-17T19:00:00",
          "2022-04-17T20:00:00",
          "2022-04-17T21:00:00",
          "2022-04-17T22:00:00",
          "2022-04-17T23:00:00",
          "2022-04-18T00:00:00",
          "2022-04-18T01:00:00",
          "2022-04-18T02:00:00",
          "2022-04-18T03:00:00",
          "2022-04-18T04:00:00",
          "2022-04-18T05:00:00",
          "2022-04-18T06:00:00",
          "2022-04-18T07:00:00",
          "2022-04-18T08:00:00",
          "2022-04-18T09:00:00",
          "2022-04-18T10:00:00",
          "2022-04-18T11:00:00",
          "2022-04-18T12:00:00",
          "2022-04-18T13:00:00",
          "2022-04-18T14:00:00",
          "2022-04-18T15:00:00",
          "2022-04-18T16:00:00",
          "2022-04-18T17:00:00",
          "2022-04-18T18:00:00",
          "2022-04-18T19:00:00",
          "2022-04-18T20:00:00",
          "2022-04-18T21:00:00",
          "2022-04-18T22:00:00",
          "2022-04-18T23:00:00",
          "2022-04-19T00:00:00"
         ],
         "y": [
          6,
          5.805155670977922,
          5.5734327996887085,
          5.426046857006179,
          5.286932261708114,
          5.14767133447445,
          5.007230151027391,
          4.866468121018556,
          4.726642014300291,
          4.586499609473696,
          4.446209099863438,
          4.306193624312323,
          4.165182705920586,
          4.155570047597502,
          4.156304372638578,
          4.156166567751034,
          4.156119069701697,
          4.156102709188138,
          4.156097074366505,
          4.024950925635568,
          3.8835892762741198,
          3.69555637010684,
          3.508607641704759,
          3.498156201427139,
          3.498156201427139,
          3.498156201427139,
          3.5943981238244476,
          3.798136387009248,
          4.075385448917484,
          4.370912226714244,
          4.66592803477584,
          4.871472340721846,
          5.074252621453115,
          5.26389544261109,
          5.365390585113033,
          5.459273241922995,
          5.55321185015265,
          5.733978923221588,
          6.052271672885928,
          6.384711157913017,
          6.712542569091966,
          7.03886254403601,
          7.363812823556555,
          7.412283913638083,
          7.409645902402451,
          7.410177584483563,
          7.410382080810132,
          7.410452340306887,
          7.433048585443833,
          7.72744323200028,
          8.046711062702775,
          8.359882738057843,
          8.670887971304655,
          8.97983848065336,
          9.286687899173439,
          9.55590377377718,
          9.750636889083756,
          9.933650802455906,
          10.036021295044538,
          10.051954092183724,
          10.052388954401938,
          10.04280334294773,
          10.27762048754522,
          10.568396302700018,
          10.859935228357552,
          10.893774771916862,
          10.891109493645667,
          10.891590389922253,
          10.807519854311204,
          10.717293055618734,
          10.62739157322602,
          10.53745215159724,
          10.447497802988938
         ]
        },
        {
         "name": "Rsv 2 storage",
         "type": "scatter",
         "x": [
          "2022-04-16T00:00:00",
          "2022-04-16T01:00:00",
          "2022-04-16T02:00:00",
          "2022-04-16T03:00:00",
          "2022-04-16T04:00:00",
          "2022-04-16T05:00:00",
          "2022-04-16T06:00:00",
          "2022-04-16T07:00:00",
          "2022-04-16T08:00:00",
          "2022-04-16T09:00:00",
          "2022-04-16T10:00:00",
          "2022-04-16T11:00:00",
          "2022-04-16T12:00:00",
          "2022-04-16T13:00:00",
          "2022-04-16T14:00:00",
          "2022-04-16T15:00:00",
          "2022-04-16T16:00:00",
          "2022-04-16T17:00:00",
          "2022-04-16T18:00:00",
          "2022-04-16T19:00:00",
          "2022-04-16T20:00:00",
          "2022-04-16T21:00:00",
          "2022-04-16T22:00:00",
          "2022-04-16T23:00:00",
          "2022-04-17T00:00:00",
          "2022-04-17T01:00:00",
          "2022-04-17T02:00:00",
          "2022-04-17T03:00:00",
          "2022-04-17T04:00:00",
          "2022-04-17T05:00:00",
          "2022-04-17T06:00:00",
          "2022-04-17T07:00:00",
          "2022-04-17T08:00:00",
          "2022-04-17T09:00:00",
          "2022-04-17T10:00:00",
          "2022-04-17T11:00:00",
          "2022-04-17T12:00:00",
          "2022-04-17T13:00:00",
          "2022-04-17T14:00:00",
          "2022-04-17T15:00:00",
          "2022-04-17T16:00:00",
          "2022-04-17T17:00:00",
          "2022-04-17T18:00:00",
          "2022-04-17T19:00:00",
          "2022-04-17T20:00:00",
          "2022-04-17T21:00:00",
          "2022-04-17T22:00:00",
          "2022-04-17T23:00:00",
          "2022-04-18T00:00:00",
          "2022-04-18T01:00:00",
          "2022-04-18T02:00:00",
          "2022-04-18T03:00:00",
          "2022-04-18T04:00:00",
          "2022-04-18T05:00:00",
          "2022-04-18T06:00:00",
          "2022-04-18T07:00:00",
          "2022-04-18T08:00:00",
          "2022-04-18T09:00:00",
          "2022-04-18T10:00:00",
          "2022-04-18T11:00:00",
          "2022-04-18T12:00:00",
          "2022-04-18T13:00:00",
          "2022-04-18T14:00:00",
          "2022-04-18T15:00:00",
          "2022-04-18T16:00:00",
          "2022-04-18T17:00:00",
          "2022-04-18T18:00:00",
          "2022-04-18T19:00:00",
          "2022-04-18T20:00:00",
          "2022-04-18T21:00:00",
          "2022-04-18T22:00:00",
          "2022-04-18T23:00:00",
          "2022-04-19T00:00:00"
         ],
         "y": [
          6,
          6,
          6,
          6,
          6.305485714285709,
          6.629485714285704,
          6.647999999999991,
          6.647999999999991,
          6.647999999999991,
          6.647999999999991,
          6.9534857142857,
          7.277485714285712,
          7.601485714285706,
          7.925485714285702,
          8.249485714285715,
          8.57348571428571,
          8.897485714285704,
          9.221690420997714,
          9.543603129250915,
          9.862961827731386,
          9.881202534834609,
          9.881202534834609,
          9.881202534834609,
          9.881202534834609,
          9.881202534834609,
          9.881202534834609,
          9.881202534834609,
          9.881202534834609,
          9.881202534834609,
          9.881202534834609,
          9.881202534834609,
          9.881202534834609,
          9.881202534834609,
          9.881202534834609,
          9.881202534834609,
          9.881202534834609,
          9.881202534834609,
          9.881202534834609,
          9.881202534834609,
          9.881202534834609,
          9.881202534834609,
          9.881202534834609,
          9.881202534834609,
          9.881202534834609,
          9.881202534834609,
          9.881202534834609,
          9.881202534834609,
          9.881202534834609,
          9.881202534834609,
          9.881202534834609,
          9.881202534834609,
          9.881202534834609,
          9.881202534834609,
          9.881202534834609,
          9.881202534834609,
          9.881202534834609,
          9.881202534834609,
          9.881202534834609,
          9.881202534834609,
          9.881202534834609,
          9.881202534834609,
          9.881202534834609,
          9.881202534834609,
          9.881202534834609,
          9.881202534834609,
          9.881202534834609,
          9.881202534834609,
          9.881202534834609,
          9.881202534834609,
          9.881202534834609,
          9.881202534834609,
          9.881202534834609,
          9.881202534834609
         ]
        },
        {
         "name": "Rsv 3 storage",
         "type": "scatter",
         "x": [
          "2022-04-16T00:00:00",
          "2022-04-16T01:00:00",
          "2022-04-16T02:00:00",
          "2022-04-16T03:00:00",
          "2022-04-16T04:00:00",
          "2022-04-16T05:00:00",
          "2022-04-16T06:00:00",
          "2022-04-16T07:00:00",
          "2022-04-16T08:00:00",
          "2022-04-16T09:00:00",
          "2022-04-16T10:00:00",
          "2022-04-16T11:00:00",
          "2022-04-16T12:00:00",
          "2022-04-16T13:00:00",
          "2022-04-16T14:00:00",
          "2022-04-16T15:00:00",
          "2022-04-16T16:00:00",
          "2022-04-16T17:00:00",
          "2022-04-16T18:00:00",
          "2022-04-16T19:00:00",
          "2022-04-16T20:00:00",
          "2022-04-16T21:00:00",
          "2022-04-16T22:00:00",
          "2022-04-16T23:00:00",
          "2022-04-17T00:00:00",
          "2022-04-17T01:00:00",
          "2022-04-17T02:00:00",
          "2022-04-17T03:00:00",
          "2022-04-17T04:00:00",
          "2022-04-17T05:00:00",
          "2022-04-17T06:00:00",
          "2022-04-17T07:00:00",
          "2022-04-17T08:00:00",
          "2022-04-17T09:00:00",
          "2022-04-17T10:00:00",
          "2022-04-17T11:00:00",
          "2022-04-17T12:00:00",
          "2022-04-17T13:00:00",
          "2022-04-17T14:00:00",
          "2022-04-17T15:00:00",
          "2022-04-17T16:00:00",
          "2022-04-17T17:00:00",
          "2022-04-17T18:00:00",
          "2022-04-17T19:00:00",
          "2022-04-17T20:00:00",
          "2022-04-17T21:00:00",
          "2022-04-17T22:00:00",
          "2022-04-17T23:00:00",
          "2022-04-18T00:00:00",
          "2022-04-18T01:00:00",
          "2022-04-18T02:00:00",
          "2022-04-18T03:00:00",
          "2022-04-18T04:00:00",
          "2022-04-18T05:00:00",
          "2022-04-18T06:00:00",
          "2022-04-18T07:00:00",
          "2022-04-18T08:00:00",
          "2022-04-18T09:00:00",
          "2022-04-18T10:00:00",
          "2022-04-18T11:00:00",
          "2022-04-18T12:00:00",
          "2022-04-18T13:00:00",
          "2022-04-18T14:00:00",
          "2022-04-18T15:00:00",
          "2022-04-18T16:00:00",
          "2022-04-18T17:00:00",
          "2022-04-18T18:00:00",
          "2022-04-18T19:00:00",
          "2022-04-18T20:00:00",
          "2022-04-18T21:00:00",
          "2022-04-18T22:00:00",
          "2022-04-18T23:00:00",
          "2022-04-19T00:00:00"
         ],
         "y": [
          6,
          6.18,
          6.359999999999999,
          6.539999999999999,
          6.395999999999999,
          6.251999999999999,
          6.431999999999999,
          6.611999999999998,
          6.791999999999998,
          6.971999999999998,
          6.827999999999998,
          6.6839999999999975,
          6.539999999999997,
          6.395999999999997,
          6.251999999999997,
          6.107999999999997,
          5.963999999999997,
          5.819782886820591,
          5.678009839472009,
          5.53879746516538,
          5.7187974651653795,
          5.898797465165379,
          6.078797465165379,
          6.258797465165379,
          6.438797465165378,
          6.618797465165378,
          6.463283928951083,
          6.2972385007407095,
          6.130312658131793,
          5.972941686164452,
          5.816696356434737,
          5.66371719460587,
          5.502346288637296,
          5.3583462886372955,
          5.214346288637295,
          5.070346288637295,
          4.926346288637295,
          4.782346288637295,
          4.631338295066935,
          4.481864756589727,
          4.3339173917914495,
          4.187454678846409,
          4.042448437781638,
          3.8744484377816377,
          3.7304484377816376,
          3.5864484377816375,
          3.4424484377816373,
          3.298448437781637,
          3.130448437781637,
          2.9924140671413575,
          2.8566677006974395,
          2.7232483327286996,
          2.592076470468522,
          2.4631022401818496,
          2.336277718930157,
          2.210002330504048,
          2.066002330504048,
          1.9265651004988806,
          1.7825651004988807,
          1.6265651004988808,
          1.482565100498881,
          1.3489456688426256,
          1.2329904213410106,
          1.1204543120556998,
          1.0097658525027602,
          0.8537658525027603,
          0.7097658525027603,
          0.5657658525027602,
          0.5117658525027602,
          0.45776585250276014,
          0.4037658525027601,
          0.34976585250276004,
          0.29576585250276
         ]
        }
       ],
       "layout": {
        "template": {
         "data": {
          "bar": [
           {
            "error_x": {
             "color": "#2a3f5f"
            },
            "error_y": {
             "color": "#2a3f5f"
            },
            "marker": {
             "line": {
              "color": "#E5ECF6",
              "width": 0.5
             },
             "pattern": {
              "fillmode": "overlay",
              "size": 10,
              "solidity": 0.2
             }
            },
            "type": "bar"
           }
          ],
          "barpolar": [
           {
            "marker": {
             "line": {
              "color": "#E5ECF6",
              "width": 0.5
             },
             "pattern": {
              "fillmode": "overlay",
              "size": 10,
              "solidity": 0.2
             }
            },
            "type": "barpolar"
           }
          ],
          "carpet": [
           {
            "aaxis": {
             "endlinecolor": "#2a3f5f",
             "gridcolor": "white",
             "linecolor": "white",
             "minorgridcolor": "white",
             "startlinecolor": "#2a3f5f"
            },
            "baxis": {
             "endlinecolor": "#2a3f5f",
             "gridcolor": "white",
             "linecolor": "white",
             "minorgridcolor": "white",
             "startlinecolor": "#2a3f5f"
            },
            "type": "carpet"
           }
          ],
          "choropleth": [
           {
            "colorbar": {
             "outlinewidth": 0,
             "ticks": ""
            },
            "type": "choropleth"
           }
          ],
          "contour": [
           {
            "colorbar": {
             "outlinewidth": 0,
             "ticks": ""
            },
            "colorscale": [
             [
              0,
              "#0d0887"
             ],
             [
              0.1111111111111111,
              "#46039f"
             ],
             [
              0.2222222222222222,
              "#7201a8"
             ],
             [
              0.3333333333333333,
              "#9c179e"
             ],
             [
              0.4444444444444444,
              "#bd3786"
             ],
             [
              0.5555555555555556,
              "#d8576b"
             ],
             [
              0.6666666666666666,
              "#ed7953"
             ],
             [
              0.7777777777777778,
              "#fb9f3a"
             ],
             [
              0.8888888888888888,
              "#fdca26"
             ],
             [
              1,
              "#f0f921"
             ]
            ],
            "type": "contour"
           }
          ],
          "contourcarpet": [
           {
            "colorbar": {
             "outlinewidth": 0,
             "ticks": ""
            },
            "type": "contourcarpet"
           }
          ],
          "heatmap": [
           {
            "colorbar": {
             "outlinewidth": 0,
             "ticks": ""
            },
            "colorscale": [
             [
              0,
              "#0d0887"
             ],
             [
              0.1111111111111111,
              "#46039f"
             ],
             [
              0.2222222222222222,
              "#7201a8"
             ],
             [
              0.3333333333333333,
              "#9c179e"
             ],
             [
              0.4444444444444444,
              "#bd3786"
             ],
             [
              0.5555555555555556,
              "#d8576b"
             ],
             [
              0.6666666666666666,
              "#ed7953"
             ],
             [
              0.7777777777777778,
              "#fb9f3a"
             ],
             [
              0.8888888888888888,
              "#fdca26"
             ],
             [
              1,
              "#f0f921"
             ]
            ],
            "type": "heatmap"
           }
          ],
          "heatmapgl": [
           {
            "colorbar": {
             "outlinewidth": 0,
             "ticks": ""
            },
            "colorscale": [
             [
              0,
              "#0d0887"
             ],
             [
              0.1111111111111111,
              "#46039f"
             ],
             [
              0.2222222222222222,
              "#7201a8"
             ],
             [
              0.3333333333333333,
              "#9c179e"
             ],
             [
              0.4444444444444444,
              "#bd3786"
             ],
             [
              0.5555555555555556,
              "#d8576b"
             ],
             [
              0.6666666666666666,
              "#ed7953"
             ],
             [
              0.7777777777777778,
              "#fb9f3a"
             ],
             [
              0.8888888888888888,
              "#fdca26"
             ],
             [
              1,
              "#f0f921"
             ]
            ],
            "type": "heatmapgl"
           }
          ],
          "histogram": [
           {
            "marker": {
             "pattern": {
              "fillmode": "overlay",
              "size": 10,
              "solidity": 0.2
             }
            },
            "type": "histogram"
           }
          ],
          "histogram2d": [
           {
            "colorbar": {
             "outlinewidth": 0,
             "ticks": ""
            },
            "colorscale": [
             [
              0,
              "#0d0887"
             ],
             [
              0.1111111111111111,
              "#46039f"
             ],
             [
              0.2222222222222222,
              "#7201a8"
             ],
             [
              0.3333333333333333,
              "#9c179e"
             ],
             [
              0.4444444444444444,
              "#bd3786"
             ],
             [
              0.5555555555555556,
              "#d8576b"
             ],
             [
              0.6666666666666666,
              "#ed7953"
             ],
             [
              0.7777777777777778,
              "#fb9f3a"
             ],
             [
              0.8888888888888888,
              "#fdca26"
             ],
             [
              1,
              "#f0f921"
             ]
            ],
            "type": "histogram2d"
           }
          ],
          "histogram2dcontour": [
           {
            "colorbar": {
             "outlinewidth": 0,
             "ticks": ""
            },
            "colorscale": [
             [
              0,
              "#0d0887"
             ],
             [
              0.1111111111111111,
              "#46039f"
             ],
             [
              0.2222222222222222,
              "#7201a8"
             ],
             [
              0.3333333333333333,
              "#9c179e"
             ],
             [
              0.4444444444444444,
              "#bd3786"
             ],
             [
              0.5555555555555556,
              "#d8576b"
             ],
             [
              0.6666666666666666,
              "#ed7953"
             ],
             [
              0.7777777777777778,
              "#fb9f3a"
             ],
             [
              0.8888888888888888,
              "#fdca26"
             ],
             [
              1,
              "#f0f921"
             ]
            ],
            "type": "histogram2dcontour"
           }
          ],
          "mesh3d": [
           {
            "colorbar": {
             "outlinewidth": 0,
             "ticks": ""
            },
            "type": "mesh3d"
           }
          ],
          "parcoords": [
           {
            "line": {
             "colorbar": {
              "outlinewidth": 0,
              "ticks": ""
             }
            },
            "type": "parcoords"
           }
          ],
          "pie": [
           {
            "automargin": true,
            "type": "pie"
           }
          ],
          "scatter": [
           {
            "marker": {
             "colorbar": {
              "outlinewidth": 0,
              "ticks": ""
             }
            },
            "type": "scatter"
           }
          ],
          "scatter3d": [
           {
            "line": {
             "colorbar": {
              "outlinewidth": 0,
              "ticks": ""
             }
            },
            "marker": {
             "colorbar": {
              "outlinewidth": 0,
              "ticks": ""
             }
            },
            "type": "scatter3d"
           }
          ],
          "scattercarpet": [
           {
            "marker": {
             "colorbar": {
              "outlinewidth": 0,
              "ticks": ""
             }
            },
            "type": "scattercarpet"
           }
          ],
          "scattergeo": [
           {
            "marker": {
             "colorbar": {
              "outlinewidth": 0,
              "ticks": ""
             }
            },
            "type": "scattergeo"
           }
          ],
          "scattergl": [
           {
            "marker": {
             "colorbar": {
              "outlinewidth": 0,
              "ticks": ""
             }
            },
            "type": "scattergl"
           }
          ],
          "scattermapbox": [
           {
            "marker": {
             "colorbar": {
              "outlinewidth": 0,
              "ticks": ""
             }
            },
            "type": "scattermapbox"
           }
          ],
          "scatterpolar": [
           {
            "marker": {
             "colorbar": {
              "outlinewidth": 0,
              "ticks": ""
             }
            },
            "type": "scatterpolar"
           }
          ],
          "scatterpolargl": [
           {
            "marker": {
             "colorbar": {
              "outlinewidth": 0,
              "ticks": ""
             }
            },
            "type": "scatterpolargl"
           }
          ],
          "scatterternary": [
           {
            "marker": {
             "colorbar": {
              "outlinewidth": 0,
              "ticks": ""
             }
            },
            "type": "scatterternary"
           }
          ],
          "surface": [
           {
            "colorbar": {
             "outlinewidth": 0,
             "ticks": ""
            },
            "colorscale": [
             [
              0,
              "#0d0887"
             ],
             [
              0.1111111111111111,
              "#46039f"
             ],
             [
              0.2222222222222222,
              "#7201a8"
             ],
             [
              0.3333333333333333,
              "#9c179e"
             ],
             [
              0.4444444444444444,
              "#bd3786"
             ],
             [
              0.5555555555555556,
              "#d8576b"
             ],
             [
              0.6666666666666666,
              "#ed7953"
             ],
             [
              0.7777777777777778,
              "#fb9f3a"
             ],
             [
              0.8888888888888888,
              "#fdca26"
             ],
             [
              1,
              "#f0f921"
             ]
            ],
            "type": "surface"
           }
          ],
          "table": [
           {
            "cells": {
             "fill": {
              "color": "#EBF0F8"
             },
             "line": {
              "color": "white"
             }
            },
            "header": {
             "fill": {
              "color": "#C8D4E3"
             },
             "line": {
              "color": "white"
             }
            },
            "type": "table"
           }
          ]
         },
         "layout": {
          "annotationdefaults": {
           "arrowcolor": "#2a3f5f",
           "arrowhead": 0,
           "arrowwidth": 1
          },
          "autotypenumbers": "strict",
          "coloraxis": {
           "colorbar": {
            "outlinewidth": 0,
            "ticks": ""
           }
          },
          "colorscale": {
           "diverging": [
            [
             0,
             "#8e0152"
            ],
            [
             0.1,
             "#c51b7d"
            ],
            [
             0.2,
             "#de77ae"
            ],
            [
             0.3,
             "#f1b6da"
            ],
            [
             0.4,
             "#fde0ef"
            ],
            [
             0.5,
             "#f7f7f7"
            ],
            [
             0.6,
             "#e6f5d0"
            ],
            [
             0.7,
             "#b8e186"
            ],
            [
             0.8,
             "#7fbc41"
            ],
            [
             0.9,
             "#4d9221"
            ],
            [
             1,
             "#276419"
            ]
           ],
           "sequential": [
            [
             0,
             "#0d0887"
            ],
            [
             0.1111111111111111,
             "#46039f"
            ],
            [
             0.2222222222222222,
             "#7201a8"
            ],
            [
             0.3333333333333333,
             "#9c179e"
            ],
            [
             0.4444444444444444,
             "#bd3786"
            ],
            [
             0.5555555555555556,
             "#d8576b"
            ],
            [
             0.6666666666666666,
             "#ed7953"
            ],
            [
             0.7777777777777778,
             "#fb9f3a"
            ],
            [
             0.8888888888888888,
             "#fdca26"
            ],
            [
             1,
             "#f0f921"
            ]
           ],
           "sequentialminus": [
            [
             0,
             "#0d0887"
            ],
            [
             0.1111111111111111,
             "#46039f"
            ],
            [
             0.2222222222222222,
             "#7201a8"
            ],
            [
             0.3333333333333333,
             "#9c179e"
            ],
            [
             0.4444444444444444,
             "#bd3786"
            ],
            [
             0.5555555555555556,
             "#d8576b"
            ],
            [
             0.6666666666666666,
             "#ed7953"
            ],
            [
             0.7777777777777778,
             "#fb9f3a"
            ],
            [
             0.8888888888888888,
             "#fdca26"
            ],
            [
             1,
             "#f0f921"
            ]
           ]
          },
          "colorway": [
           "#636efa",
           "#EF553B",
           "#00cc96",
           "#ab63fa",
           "#FFA15A",
           "#19d3f3",
           "#FF6692",
           "#B6E880",
           "#FF97FF",
           "#FECB52"
          ],
          "font": {
           "color": "#2a3f5f"
          },
          "geo": {
           "bgcolor": "white",
           "lakecolor": "white",
           "landcolor": "#E5ECF6",
           "showlakes": true,
           "showland": true,
           "subunitcolor": "white"
          },
          "hoverlabel": {
           "align": "left"
          },
          "hovermode": "closest",
          "mapbox": {
           "style": "light"
          },
          "paper_bgcolor": "white",
          "plot_bgcolor": "#E5ECF6",
          "polar": {
           "angularaxis": {
            "gridcolor": "white",
            "linecolor": "white",
            "ticks": ""
           },
           "bgcolor": "#E5ECF6",
           "radialaxis": {
            "gridcolor": "white",
            "linecolor": "white",
            "ticks": ""
           }
          },
          "scene": {
           "xaxis": {
            "backgroundcolor": "#E5ECF6",
            "gridcolor": "white",
            "gridwidth": 2,
            "linecolor": "white",
            "showbackground": true,
            "ticks": "",
            "zerolinecolor": "white"
           },
           "yaxis": {
            "backgroundcolor": "#E5ECF6",
            "gridcolor": "white",
            "gridwidth": 2,
            "linecolor": "white",
            "showbackground": true,
            "ticks": "",
            "zerolinecolor": "white"
           },
           "zaxis": {
            "backgroundcolor": "#E5ECF6",
            "gridcolor": "white",
            "gridwidth": 2,
            "linecolor": "white",
            "showbackground": true,
            "ticks": "",
            "zerolinecolor": "white"
           }
          },
          "shapedefaults": {
           "line": {
            "color": "#2a3f5f"
           }
          },
          "ternary": {
           "aaxis": {
            "gridcolor": "white",
            "linecolor": "white",
            "ticks": ""
           },
           "baxis": {
            "gridcolor": "white",
            "linecolor": "white",
            "ticks": ""
           },
           "bgcolor": "#E5ECF6",
           "caxis": {
            "gridcolor": "white",
            "linecolor": "white",
            "ticks": ""
           }
          },
          "title": {
           "x": 0.05
          },
          "xaxis": {
           "automargin": true,
           "gridcolor": "white",
           "linecolor": "white",
           "ticks": "",
           "title": {
            "standoff": 15
           },
           "zerolinecolor": "white",
           "zerolinewidth": 2
          },
          "yaxis": {
           "automargin": true,
           "gridcolor": "white",
           "linecolor": "white",
           "ticks": "",
           "title": {
            "standoff": 15
           },
           "zerolinecolor": "white",
           "zerolinewidth": 2
          }
         }
        },
        "title": {
         "text": "Reservoir storage"
        }
       }
      }
     },
     "metadata": {},
     "output_type": "display_data"
    },
    {
     "data": {
      "application/vnd.plotly.v1+json": {
       "config": {
        "plotlyServerURL": "https://plot.ly"
       },
       "data": [
        {
         "name": "Rsv 1 gate position",
         "type": "scatter",
         "x": [
          "2022-04-16T00:00:00",
          "2022-04-16T01:00:00",
          "2022-04-16T02:00:00",
          "2022-04-16T03:00:00",
          "2022-04-16T04:00:00",
          "2022-04-16T05:00:00",
          "2022-04-16T06:00:00",
          "2022-04-16T07:00:00",
          "2022-04-16T08:00:00",
          "2022-04-16T09:00:00",
          "2022-04-16T10:00:00",
          "2022-04-16T11:00:00",
          "2022-04-16T12:00:00",
          "2022-04-16T13:00:00",
          "2022-04-16T14:00:00",
          "2022-04-16T15:00:00",
          "2022-04-16T16:00:00",
          "2022-04-16T17:00:00",
          "2022-04-16T18:00:00",
          "2022-04-16T19:00:00",
          "2022-04-16T20:00:00",
          "2022-04-16T21:00:00",
          "2022-04-16T22:00:00",
          "2022-04-16T23:00:00",
          "2022-04-17T00:00:00",
          "2022-04-17T01:00:00",
          "2022-04-17T02:00:00",
          "2022-04-17T03:00:00",
          "2022-04-17T04:00:00",
          "2022-04-17T05:00:00",
          "2022-04-17T06:00:00",
          "2022-04-17T07:00:00",
          "2022-04-17T08:00:00",
          "2022-04-17T09:00:00",
          "2022-04-17T10:00:00",
          "2022-04-17T11:00:00",
          "2022-04-17T12:00:00",
          "2022-04-17T13:00:00",
          "2022-04-17T14:00:00",
          "2022-04-17T15:00:00",
          "2022-04-17T16:00:00",
          "2022-04-17T17:00:00",
          "2022-04-17T18:00:00",
          "2022-04-17T19:00:00",
          "2022-04-17T20:00:00",
          "2022-04-17T21:00:00",
          "2022-04-17T22:00:00",
          "2022-04-17T23:00:00",
          "2022-04-18T00:00:00",
          "2022-04-18T01:00:00",
          "2022-04-18T02:00:00",
          "2022-04-18T03:00:00",
          "2022-04-18T04:00:00",
          "2022-04-18T05:00:00",
          "2022-04-18T06:00:00",
          "2022-04-18T07:00:00",
          "2022-04-18T08:00:00",
          "2022-04-18T09:00:00",
          "2022-04-18T10:00:00",
          "2022-04-18T11:00:00",
          "2022-04-18T12:00:00",
          "2022-04-18T13:00:00",
          "2022-04-18T14:00:00",
          "2022-04-18T15:00:00",
          "2022-04-18T16:00:00",
          "2022-04-18T17:00:00",
          "2022-04-18T18:00:00",
          "2022-04-18T19:00:00",
          "2022-04-18T20:00:00",
          "2022-04-18T21:00:00",
          "2022-04-18T22:00:00",
          "2022-04-18T23:00:00"
         ],
         "y": [
          1,
          1,
          1,
          1,
          1,
          1,
          1,
          1,
          1,
          1,
          1,
          1,
          1,
          1,
          1,
          1,
          1,
          1,
          1,
          1,
          1,
          1,
          0,
          0,
          0,
          1,
          1,
          1,
          1,
          1,
          1,
          1,
          1,
          1,
          1,
          1,
          1,
          1,
          1,
          1,
          1,
          1,
          1,
          1,
          1,
          1,
          1,
          1,
          1,
          1,
          1,
          1,
          1,
          1,
          1,
          1,
          1,
          1,
          1,
          1,
          1,
          1,
          1,
          1,
          1,
          1,
          1,
          1,
          1,
          1,
          1,
          1
         ]
        },
        {
         "name": "Rsv 2 gate position",
         "type": "scatter",
         "x": [
          "2022-04-16T00:00:00",
          "2022-04-16T01:00:00",
          "2022-04-16T02:00:00",
          "2022-04-16T03:00:00",
          "2022-04-16T04:00:00",
          "2022-04-16T05:00:00",
          "2022-04-16T06:00:00",
          "2022-04-16T07:00:00",
          "2022-04-16T08:00:00",
          "2022-04-16T09:00:00",
          "2022-04-16T10:00:00",
          "2022-04-16T11:00:00",
          "2022-04-16T12:00:00",
          "2022-04-16T13:00:00",
          "2022-04-16T14:00:00",
          "2022-04-16T15:00:00",
          "2022-04-16T16:00:00",
          "2022-04-16T17:00:00",
          "2022-04-16T18:00:00",
          "2022-04-16T19:00:00",
          "2022-04-16T20:00:00",
          "2022-04-16T21:00:00",
          "2022-04-16T22:00:00",
          "2022-04-16T23:00:00",
          "2022-04-17T00:00:00",
          "2022-04-17T01:00:00",
          "2022-04-17T02:00:00",
          "2022-04-17T03:00:00",
          "2022-04-17T04:00:00",
          "2022-04-17T05:00:00",
          "2022-04-17T06:00:00",
          "2022-04-17T07:00:00",
          "2022-04-17T08:00:00",
          "2022-04-17T09:00:00",
          "2022-04-17T10:00:00",
          "2022-04-17T11:00:00",
          "2022-04-17T12:00:00",
          "2022-04-17T13:00:00",
          "2022-04-17T14:00:00",
          "2022-04-17T15:00:00",
          "2022-04-17T16:00:00",
          "2022-04-17T17:00:00",
          "2022-04-17T18:00:00",
          "2022-04-17T19:00:00",
          "2022-04-17T20:00:00",
          "2022-04-17T21:00:00",
          "2022-04-17T22:00:00",
          "2022-04-17T23:00:00",
          "2022-04-18T00:00:00",
          "2022-04-18T01:00:00",
          "2022-04-18T02:00:00",
          "2022-04-18T03:00:00",
          "2022-04-18T04:00:00",
          "2022-04-18T05:00:00",
          "2022-04-18T06:00:00",
          "2022-04-18T07:00:00",
          "2022-04-18T08:00:00",
          "2022-04-18T09:00:00",
          "2022-04-18T10:00:00",
          "2022-04-18T11:00:00",
          "2022-04-18T12:00:00",
          "2022-04-18T13:00:00",
          "2022-04-18T14:00:00",
          "2022-04-18T15:00:00",
          "2022-04-18T16:00:00",
          "2022-04-18T17:00:00",
          "2022-04-18T18:00:00",
          "2022-04-18T19:00:00",
          "2022-04-18T20:00:00",
          "2022-04-18T21:00:00",
          "2022-04-18T22:00:00",
          "2022-04-18T23:00:00"
         ],
         "y": [
          1,
          1,
          1,
          1,
          1,
          1,
          1,
          1,
          1,
          1,
          1,
          1,
          1,
          1,
          1,
          1,
          1,
          1,
          1,
          1,
          1,
          1,
          0,
          0,
          0,
          0,
          0,
          0,
          0,
          0,
          0,
          0,
          0,
          0,
          0,
          0,
          0,
          0,
          0,
          0,
          0,
          0,
          0,
          0,
          0,
          0,
          0,
          0,
          0,
          0,
          0,
          0,
          0,
          0,
          0,
          0,
          0,
          0,
          0,
          0,
          0,
          0,
          0,
          0,
          0,
          0,
          0,
          0,
          0,
          0,
          0,
          0
         ]
        },
        {
         "name": "N2-3 gate position",
         "type": "scatter",
         "x": [
          "2022-04-16T00:00:00",
          "2022-04-16T01:00:00",
          "2022-04-16T02:00:00",
          "2022-04-16T03:00:00",
          "2022-04-16T04:00:00",
          "2022-04-16T05:00:00",
          "2022-04-16T06:00:00",
          "2022-04-16T07:00:00",
          "2022-04-16T08:00:00",
          "2022-04-16T09:00:00",
          "2022-04-16T10:00:00",
          "2022-04-16T11:00:00",
          "2022-04-16T12:00:00",
          "2022-04-16T13:00:00",
          "2022-04-16T14:00:00",
          "2022-04-16T15:00:00",
          "2022-04-16T16:00:00",
          "2022-04-16T17:00:00",
          "2022-04-16T18:00:00",
          "2022-04-16T19:00:00",
          "2022-04-16T20:00:00",
          "2022-04-16T21:00:00",
          "2022-04-16T22:00:00",
          "2022-04-16T23:00:00",
          "2022-04-17T00:00:00",
          "2022-04-17T01:00:00",
          "2022-04-17T02:00:00",
          "2022-04-17T03:00:00",
          "2022-04-17T04:00:00",
          "2022-04-17T05:00:00",
          "2022-04-17T06:00:00",
          "2022-04-17T07:00:00",
          "2022-04-17T08:00:00",
          "2022-04-17T09:00:00",
          "2022-04-17T10:00:00",
          "2022-04-17T11:00:00",
          "2022-04-17T12:00:00",
          "2022-04-17T13:00:00",
          "2022-04-17T14:00:00",
          "2022-04-17T15:00:00",
          "2022-04-17T16:00:00",
          "2022-04-17T17:00:00",
          "2022-04-17T18:00:00",
          "2022-04-17T19:00:00",
          "2022-04-17T20:00:00",
          "2022-04-17T21:00:00",
          "2022-04-17T22:00:00",
          "2022-04-17T23:00:00",
          "2022-04-18T00:00:00",
          "2022-04-18T01:00:00",
          "2022-04-18T02:00:00",
          "2022-04-18T03:00:00",
          "2022-04-18T04:00:00",
          "2022-04-18T05:00:00",
          "2022-04-18T06:00:00",
          "2022-04-18T07:00:00",
          "2022-04-18T08:00:00",
          "2022-04-18T09:00:00",
          "2022-04-18T10:00:00",
          "2022-04-18T11:00:00",
          "2022-04-18T12:00:00",
          "2022-04-18T13:00:00",
          "2022-04-18T14:00:00",
          "2022-04-18T15:00:00",
          "2022-04-18T16:00:00",
          "2022-04-18T17:00:00",
          "2022-04-18T18:00:00",
          "2022-04-18T19:00:00",
          "2022-04-18T20:00:00",
          "2022-04-18T21:00:00",
          "2022-04-18T22:00:00",
          "2022-04-18T23:00:00"
         ],
         "y": [
          0,
          0,
          0,
          0,
          0,
          0,
          0,
          0,
          0,
          0,
          0,
          0,
          0,
          0,
          0,
          0,
          0,
          0,
          0,
          0,
          0,
          0,
          1,
          1,
          1,
          1,
          1,
          1,
          1,
          1,
          1,
          1,
          1,
          1,
          1,
          1,
          1,
          1,
          1,
          1,
          1,
          1,
          1,
          1,
          1,
          1,
          1,
          1,
          1,
          1,
          1,
          1,
          1,
          1,
          1,
          1,
          1,
          1,
          1,
          1,
          1,
          1,
          1,
          1,
          1,
          1,
          1,
          1,
          1,
          1,
          1,
          1
         ]
        }
       ],
       "layout": {
        "template": {
         "data": {
          "bar": [
           {
            "error_x": {
             "color": "#2a3f5f"
            },
            "error_y": {
             "color": "#2a3f5f"
            },
            "marker": {
             "line": {
              "color": "#E5ECF6",
              "width": 0.5
             },
             "pattern": {
              "fillmode": "overlay",
              "size": 10,
              "solidity": 0.2
             }
            },
            "type": "bar"
           }
          ],
          "barpolar": [
           {
            "marker": {
             "line": {
              "color": "#E5ECF6",
              "width": 0.5
             },
             "pattern": {
              "fillmode": "overlay",
              "size": 10,
              "solidity": 0.2
             }
            },
            "type": "barpolar"
           }
          ],
          "carpet": [
           {
            "aaxis": {
             "endlinecolor": "#2a3f5f",
             "gridcolor": "white",
             "linecolor": "white",
             "minorgridcolor": "white",
             "startlinecolor": "#2a3f5f"
            },
            "baxis": {
             "endlinecolor": "#2a3f5f",
             "gridcolor": "white",
             "linecolor": "white",
             "minorgridcolor": "white",
             "startlinecolor": "#2a3f5f"
            },
            "type": "carpet"
           }
          ],
          "choropleth": [
           {
            "colorbar": {
             "outlinewidth": 0,
             "ticks": ""
            },
            "type": "choropleth"
           }
          ],
          "contour": [
           {
            "colorbar": {
             "outlinewidth": 0,
             "ticks": ""
            },
            "colorscale": [
             [
              0,
              "#0d0887"
             ],
             [
              0.1111111111111111,
              "#46039f"
             ],
             [
              0.2222222222222222,
              "#7201a8"
             ],
             [
              0.3333333333333333,
              "#9c179e"
             ],
             [
              0.4444444444444444,
              "#bd3786"
             ],
             [
              0.5555555555555556,
              "#d8576b"
             ],
             [
              0.6666666666666666,
              "#ed7953"
             ],
             [
              0.7777777777777778,
              "#fb9f3a"
             ],
             [
              0.8888888888888888,
              "#fdca26"
             ],
             [
              1,
              "#f0f921"
             ]
            ],
            "type": "contour"
           }
          ],
          "contourcarpet": [
           {
            "colorbar": {
             "outlinewidth": 0,
             "ticks": ""
            },
            "type": "contourcarpet"
           }
          ],
          "heatmap": [
           {
            "colorbar": {
             "outlinewidth": 0,
             "ticks": ""
            },
            "colorscale": [
             [
              0,
              "#0d0887"
             ],
             [
              0.1111111111111111,
              "#46039f"
             ],
             [
              0.2222222222222222,
              "#7201a8"
             ],
             [
              0.3333333333333333,
              "#9c179e"
             ],
             [
              0.4444444444444444,
              "#bd3786"
             ],
             [
              0.5555555555555556,
              "#d8576b"
             ],
             [
              0.6666666666666666,
              "#ed7953"
             ],
             [
              0.7777777777777778,
              "#fb9f3a"
             ],
             [
              0.8888888888888888,
              "#fdca26"
             ],
             [
              1,
              "#f0f921"
             ]
            ],
            "type": "heatmap"
           }
          ],
          "heatmapgl": [
           {
            "colorbar": {
             "outlinewidth": 0,
             "ticks": ""
            },
            "colorscale": [
             [
              0,
              "#0d0887"
             ],
             [
              0.1111111111111111,
              "#46039f"
             ],
             [
              0.2222222222222222,
              "#7201a8"
             ],
             [
              0.3333333333333333,
              "#9c179e"
             ],
             [
              0.4444444444444444,
              "#bd3786"
             ],
             [
              0.5555555555555556,
              "#d8576b"
             ],
             [
              0.6666666666666666,
              "#ed7953"
             ],
             [
              0.7777777777777778,
              "#fb9f3a"
             ],
             [
              0.8888888888888888,
              "#fdca26"
             ],
             [
              1,
              "#f0f921"
             ]
            ],
            "type": "heatmapgl"
           }
          ],
          "histogram": [
           {
            "marker": {
             "pattern": {
              "fillmode": "overlay",
              "size": 10,
              "solidity": 0.2
             }
            },
            "type": "histogram"
           }
          ],
          "histogram2d": [
           {
            "colorbar": {
             "outlinewidth": 0,
             "ticks": ""
            },
            "colorscale": [
             [
              0,
              "#0d0887"
             ],
             [
              0.1111111111111111,
              "#46039f"
             ],
             [
              0.2222222222222222,
              "#7201a8"
             ],
             [
              0.3333333333333333,
              "#9c179e"
             ],
             [
              0.4444444444444444,
              "#bd3786"
             ],
             [
              0.5555555555555556,
              "#d8576b"
             ],
             [
              0.6666666666666666,
              "#ed7953"
             ],
             [
              0.7777777777777778,
              "#fb9f3a"
             ],
             [
              0.8888888888888888,
              "#fdca26"
             ],
             [
              1,
              "#f0f921"
             ]
            ],
            "type": "histogram2d"
           }
          ],
          "histogram2dcontour": [
           {
            "colorbar": {
             "outlinewidth": 0,
             "ticks": ""
            },
            "colorscale": [
             [
              0,
              "#0d0887"
             ],
             [
              0.1111111111111111,
              "#46039f"
             ],
             [
              0.2222222222222222,
              "#7201a8"
             ],
             [
              0.3333333333333333,
              "#9c179e"
             ],
             [
              0.4444444444444444,
              "#bd3786"
             ],
             [
              0.5555555555555556,
              "#d8576b"
             ],
             [
              0.6666666666666666,
              "#ed7953"
             ],
             [
              0.7777777777777778,
              "#fb9f3a"
             ],
             [
              0.8888888888888888,
              "#fdca26"
             ],
             [
              1,
              "#f0f921"
             ]
            ],
            "type": "histogram2dcontour"
           }
          ],
          "mesh3d": [
           {
            "colorbar": {
             "outlinewidth": 0,
             "ticks": ""
            },
            "type": "mesh3d"
           }
          ],
          "parcoords": [
           {
            "line": {
             "colorbar": {
              "outlinewidth": 0,
              "ticks": ""
             }
            },
            "type": "parcoords"
           }
          ],
          "pie": [
           {
            "automargin": true,
            "type": "pie"
           }
          ],
          "scatter": [
           {
            "marker": {
             "colorbar": {
              "outlinewidth": 0,
              "ticks": ""
             }
            },
            "type": "scatter"
           }
          ],
          "scatter3d": [
           {
            "line": {
             "colorbar": {
              "outlinewidth": 0,
              "ticks": ""
             }
            },
            "marker": {
             "colorbar": {
              "outlinewidth": 0,
              "ticks": ""
             }
            },
            "type": "scatter3d"
           }
          ],
          "scattercarpet": [
           {
            "marker": {
             "colorbar": {
              "outlinewidth": 0,
              "ticks": ""
             }
            },
            "type": "scattercarpet"
           }
          ],
          "scattergeo": [
           {
            "marker": {
             "colorbar": {
              "outlinewidth": 0,
              "ticks": ""
             }
            },
            "type": "scattergeo"
           }
          ],
          "scattergl": [
           {
            "marker": {
             "colorbar": {
              "outlinewidth": 0,
              "ticks": ""
             }
            },
            "type": "scattergl"
           }
          ],
          "scattermapbox": [
           {
            "marker": {
             "colorbar": {
              "outlinewidth": 0,
              "ticks": ""
             }
            },
            "type": "scattermapbox"
           }
          ],
          "scatterpolar": [
           {
            "marker": {
             "colorbar": {
              "outlinewidth": 0,
              "ticks": ""
             }
            },
            "type": "scatterpolar"
           }
          ],
          "scatterpolargl": [
           {
            "marker": {
             "colorbar": {
              "outlinewidth": 0,
              "ticks": ""
             }
            },
            "type": "scatterpolargl"
           }
          ],
          "scatterternary": [
           {
            "marker": {
             "colorbar": {
              "outlinewidth": 0,
              "ticks": ""
             }
            },
            "type": "scatterternary"
           }
          ],
          "surface": [
           {
            "colorbar": {
             "outlinewidth": 0,
             "ticks": ""
            },
            "colorscale": [
             [
              0,
              "#0d0887"
             ],
             [
              0.1111111111111111,
              "#46039f"
             ],
             [
              0.2222222222222222,
              "#7201a8"
             ],
             [
              0.3333333333333333,
              "#9c179e"
             ],
             [
              0.4444444444444444,
              "#bd3786"
             ],
             [
              0.5555555555555556,
              "#d8576b"
             ],
             [
              0.6666666666666666,
              "#ed7953"
             ],
             [
              0.7777777777777778,
              "#fb9f3a"
             ],
             [
              0.8888888888888888,
              "#fdca26"
             ],
             [
              1,
              "#f0f921"
             ]
            ],
            "type": "surface"
           }
          ],
          "table": [
           {
            "cells": {
             "fill": {
              "color": "#EBF0F8"
             },
             "line": {
              "color": "white"
             }
            },
            "header": {
             "fill": {
              "color": "#C8D4E3"
             },
             "line": {
              "color": "white"
             }
            },
            "type": "table"
           }
          ]
         },
         "layout": {
          "annotationdefaults": {
           "arrowcolor": "#2a3f5f",
           "arrowhead": 0,
           "arrowwidth": 1
          },
          "autotypenumbers": "strict",
          "coloraxis": {
           "colorbar": {
            "outlinewidth": 0,
            "ticks": ""
           }
          },
          "colorscale": {
           "diverging": [
            [
             0,
             "#8e0152"
            ],
            [
             0.1,
             "#c51b7d"
            ],
            [
             0.2,
             "#de77ae"
            ],
            [
             0.3,
             "#f1b6da"
            ],
            [
             0.4,
             "#fde0ef"
            ],
            [
             0.5,
             "#f7f7f7"
            ],
            [
             0.6,
             "#e6f5d0"
            ],
            [
             0.7,
             "#b8e186"
            ],
            [
             0.8,
             "#7fbc41"
            ],
            [
             0.9,
             "#4d9221"
            ],
            [
             1,
             "#276419"
            ]
           ],
           "sequential": [
            [
             0,
             "#0d0887"
            ],
            [
             0.1111111111111111,
             "#46039f"
            ],
            [
             0.2222222222222222,
             "#7201a8"
            ],
            [
             0.3333333333333333,
             "#9c179e"
            ],
            [
             0.4444444444444444,
             "#bd3786"
            ],
            [
             0.5555555555555556,
             "#d8576b"
            ],
            [
             0.6666666666666666,
             "#ed7953"
            ],
            [
             0.7777777777777778,
             "#fb9f3a"
            ],
            [
             0.8888888888888888,
             "#fdca26"
            ],
            [
             1,
             "#f0f921"
            ]
           ],
           "sequentialminus": [
            [
             0,
             "#0d0887"
            ],
            [
             0.1111111111111111,
             "#46039f"
            ],
            [
             0.2222222222222222,
             "#7201a8"
            ],
            [
             0.3333333333333333,
             "#9c179e"
            ],
            [
             0.4444444444444444,
             "#bd3786"
            ],
            [
             0.5555555555555556,
             "#d8576b"
            ],
            [
             0.6666666666666666,
             "#ed7953"
            ],
            [
             0.7777777777777778,
             "#fb9f3a"
            ],
            [
             0.8888888888888888,
             "#fdca26"
            ],
            [
             1,
             "#f0f921"
            ]
           ]
          },
          "colorway": [
           "#636efa",
           "#EF553B",
           "#00cc96",
           "#ab63fa",
           "#FFA15A",
           "#19d3f3",
           "#FF6692",
           "#B6E880",
           "#FF97FF",
           "#FECB52"
          ],
          "font": {
           "color": "#2a3f5f"
          },
          "geo": {
           "bgcolor": "white",
           "lakecolor": "white",
           "landcolor": "#E5ECF6",
           "showlakes": true,
           "showland": true,
           "subunitcolor": "white"
          },
          "hoverlabel": {
           "align": "left"
          },
          "hovermode": "closest",
          "mapbox": {
           "style": "light"
          },
          "paper_bgcolor": "white",
          "plot_bgcolor": "#E5ECF6",
          "polar": {
           "angularaxis": {
            "gridcolor": "white",
            "linecolor": "white",
            "ticks": ""
           },
           "bgcolor": "#E5ECF6",
           "radialaxis": {
            "gridcolor": "white",
            "linecolor": "white",
            "ticks": ""
           }
          },
          "scene": {
           "xaxis": {
            "backgroundcolor": "#E5ECF6",
            "gridcolor": "white",
            "gridwidth": 2,
            "linecolor": "white",
            "showbackground": true,
            "ticks": "",
            "zerolinecolor": "white"
           },
           "yaxis": {
            "backgroundcolor": "#E5ECF6",
            "gridcolor": "white",
            "gridwidth": 2,
            "linecolor": "white",
            "showbackground": true,
            "ticks": "",
            "zerolinecolor": "white"
           },
           "zaxis": {
            "backgroundcolor": "#E5ECF6",
            "gridcolor": "white",
            "gridwidth": 2,
            "linecolor": "white",
            "showbackground": true,
            "ticks": "",
            "zerolinecolor": "white"
           }
          },
          "shapedefaults": {
           "line": {
            "color": "#2a3f5f"
           }
          },
          "ternary": {
           "aaxis": {
            "gridcolor": "white",
            "linecolor": "white",
            "ticks": ""
           },
           "baxis": {
            "gridcolor": "white",
            "linecolor": "white",
            "ticks": ""
           },
           "bgcolor": "#E5ECF6",
           "caxis": {
            "gridcolor": "white",
            "linecolor": "white",
            "ticks": ""
           }
          },
          "title": {
           "x": 0.05
          },
          "xaxis": {
           "automargin": true,
           "gridcolor": "white",
           "linecolor": "white",
           "ticks": "",
           "title": {
            "standoff": 15
           },
           "zerolinecolor": "white",
           "zerolinewidth": 2
          },
          "yaxis": {
           "automargin": true,
           "gridcolor": "white",
           "linecolor": "white",
           "ticks": "",
           "title": {
            "standoff": 15
           },
           "zerolinecolor": "white",
           "zerolinewidth": 2
          }
         }
        },
        "title": {
         "text": "Gate postion"
        }
       }
      }
     },
     "metadata": {},
     "output_type": "display_data"
    }
   ],
   "source": [
    "shop.start_sim([],[3])\n",
    "shop.set_code(['incremental'], [])\n",
    "shop.start_sim([],[3])\n",
    "\n",
    "fig = go.Figure()\n",
    "plant1_prod = shop.model.plant.plant1.production.get()\n",
    "plant2_prod = shop.model.plant.plant2.production.get()\n",
    "plant2_cons = shop.model.plant.plant2.consumption.get()\n",
    "fig.add_trace(go.Scatter(x=plant1_prod.index, y=plant1_prod.values, name=\"Plant 1 production\"))\n",
    "fig.add_trace(go.Scatter(x=plant2_prod.index, y=plant2_prod.values, name=\"Plant 2 production\"))\n",
    "fig.add_trace(go.Scatter(x=plant2_cons.index, y=plant2_cons.values, name=\"Plant 2 consumption\"))\n",
    "fig.update_layout(title=\"Production and consumption\")\n",
    "fig.show()\n",
    "\n",
    "fig = go.Figure()\n",
    "rsv1_head = shop.model.reservoir.rsv1.storage.get()\n",
    "rsv2_head = shop.model.reservoir.rsv2.storage.get()\n",
    "rsv3_head = shop.model.reservoir.rsv3.storage.get()\n",
    "fig.add_trace(go.Scatter(x=rsv1_head.index, y=rsv1_head.values, name=\"Rsv 1 storage\"))\n",
    "fig.add_trace(go.Scatter(x=rsv1_head.index, y=rsv2_head.values, name=\"Rsv 2 storage\"))\n",
    "fig.add_trace(go.Scatter(x=rsv1_head.index, y=rsv3_head.values, name=\"Rsv 3 storage\"))\n",
    "fig.update_layout(title=\"Reservoir storage\")\n",
    "fig.show()\n",
    "\n",
    "fig = go.Figure()\n",
    "gate1 = shop.model.tunnel.t_r1_n1.gate_opening.get()\n",
    "fig.add_trace(go.Scatter(x=gate1.index, y=gate1.values, name=\"Rsv 1 gate position\"))\n",
    "gate2 = shop.model.tunnel.t_r2_n3.gate_opening.get()\n",
    "fig.add_trace(go.Scatter(x=gate2.index, y=gate2.values, name=\"Rsv 2 gate position\"))\n",
    "gate3 = shop.model.tunnel.t_n3_n2.gate_opening.get()\n",
    "fig.add_trace(go.Scatter(x=gate3.index, y=gate3.values, name=\"N2-3 gate position\"))\n",
    "fig.update_layout(title=\"Gate postion\")\n",
    "fig.show()"
   ]
  },
  {
   "cell_type": "code",
   "execution_count": null,
   "id": "5f967a85-c369-4626-9a53-88430ce70636",
   "metadata": {},
   "outputs": [],
   "source": []
  }
 ],
 "metadata": {
  "kernelspec": {
   "display_name": "Python 3 (ipykernel)",
   "language": "python",
   "name": "python3"
  },
  "language_info": {
   "codemirror_mode": {
    "name": "ipython",
    "version": 3
   },
   "file_extension": ".py",
   "mimetype": "text/x-python",
   "name": "python",
   "nbconvert_exporter": "python",
   "pygments_lexer": "ipython3",
   "version": "3.10.2"
  }
 },
 "nbformat": 4,
 "nbformat_minor": 5
}
